{
  "nbformat": 4,
  "nbformat_minor": 0,
  "metadata": {
    "colab": {
      "name": "[샘플]728 ㅁ LSTM",
      "provenance": [],
      "collapsed_sections": []
    },
    "kernelspec": {
      "name": "python3",
      "display_name": "Python 3"
    },
    "language_info": {
      "name": "python"
    }
  },
  "cells": [
    {
      "cell_type": "code",
      "execution_count": null,
      "metadata": {
        "id": "CwmzH7SazcpZ"
      },
      "outputs": [],
      "source": [
        ""
      ]
    },
    {
      "cell_type": "code",
      "source": [
        "from keras.datasets import imdb\n",
        "(X_data, y_data), (tt_x, tt_y) = imdb.load_data(num_words=500)  #500   등장빈도가 1~500 위까지의 단어를 추출 즉 500가지 단어를 뽑는다\n",
        "                       \n",
        "X_data.shape , y_data.shape, tt_x.shape, tt_y.shape\n",
        "\n",
        "\n",
        "from sklearn.model_selection import train_test_split\n",
        "t_x,v_x, t_y, v_y = train_test_split(X_data, y_data, test_size=0.2 , random_state=42)\n",
        "\n",
        "\n",
        "from keras.preprocessing.sequence import pad_sequences\n",
        "ck_t_x= pad_sequences(t_x, maxlen=100) # 최대길이를100으로        타임스텝의 수를 100으로 제한한다\n",
        "ck_v_x= pad_sequences(v_x, maxlen=100)"
      ],
      "metadata": {
        "id": "Sg428eBBzgmt"
      },
      "execution_count": 8,
      "outputs": []
    },
    {
      "cell_type": "code",
      "source": [
        "from keras import Sequential\n",
        "from keras.layers import SimpleRNN, Dense, Embedding, LSTM\n",
        "from tensorflow.keras.optimizers import SGD, RMSprop, Adam\n",
        "from tensorflow.keras.callbacks import EarlyStopping, ModelCheckpoint\n",
        "\n",
        "m = Sequential()  \n",
        "m.add(Embedding(500,16,input_length=100 ))  \n",
        "  # 인풋렝스100  한묶음으로 한번에 들어가니까 한묶음의 길이 100으로\n",
        "#심플rnn에 잇엇던 인풋이여기로 #500  500개단어   # 16 : 오백개의 단어를 16차원으로 정리    16차원으로 오백개의 단어를 표현하겠다.\n",
        "    # 그래서 오백개로 원핫인코딩된 자료를 줄 필요가 없다  > 핏에서 c_ 대신 ck_\n",
        "     # 원핫 안한 데이터를 자동으로 임베딩이 해준다\n",
        "     # 16 차원에 점하나 찍은 벡터화  여기서 차원은 임의의 값 하이퍼매개변수\n",
        "# 임베딩 단어 벡터화 - 임의의 좌표(16차원)에 한 점찍기\n",
        "m.add( LSTM( 8)) #순환신경망  # 8은 cell 셀 수  (뉴런수)                      # 심플알엔엔보다 파라미터가 늘엇다 - 추가적인기억을하겟다\n",
        "m.add(  Dense( 1, activation='sigmoid' ) ) #아웃풋1개   출력층 , 이진분류 시그모이드\n",
        "m.summary()\n",
        "\n",
        "#긍정리뷰 / 부정리뷰 분류\n",
        "\n",
        "\n",
        "\n",
        "\n",
        " # lstm대신 gru 셀로 도 해보자\n",
        " # m.add(LSTM(8 , dropout=0.3))  드롭아웃도 적용해서 해보자"
      ],
      "metadata": {
        "colab": {
          "base_uri": "https://localhost:8080/"
        },
        "id": "blIZ_sjeztvH",
        "outputId": "6c7d0538-5251-4d82-a98a-6f8fff341d99"
      },
      "execution_count": 9,
      "outputs": [
        {
          "output_type": "stream",
          "name": "stdout",
          "text": [
            "Model: \"sequential_1\"\n",
            "_________________________________________________________________\n",
            " Layer (type)                Output Shape              Param #   \n",
            "=================================================================\n",
            " embedding_1 (Embedding)     (None, 100, 16)           8000      \n",
            "                                                                 \n",
            " lstm_1 (LSTM)               (None, 8)                 800       \n",
            "                                                                 \n",
            " dense_1 (Dense)             (None, 1)                 9         \n",
            "                                                                 \n",
            "=================================================================\n",
            "Total params: 8,809\n",
            "Trainable params: 8,809\n",
            "Non-trainable params: 0\n",
            "_________________________________________________________________\n"
          ]
        }
      ]
    },
    {
      "cell_type": "code",
      "source": [
        "t_y.shape"
      ],
      "metadata": {
        "colab": {
          "base_uri": "https://localhost:8080/"
        },
        "id": "PNCktzEz1IVB",
        "outputId": "6c1fa030-f582-4b48-8bb1-491797c6eaa2"
      },
      "execution_count": 3,
      "outputs": [
        {
          "output_type": "execute_result",
          "data": {
            "text/plain": [
              "(20000,)"
            ]
          },
          "metadata": {},
          "execution_count": 3
        }
      ]
    },
    {
      "cell_type": "code",
      "source": [
        "v_y.shape"
      ],
      "metadata": {
        "colab": {
          "base_uri": "https://localhost:8080/"
        },
        "id": "XSjM27lu1L8A",
        "outputId": "eaed5b38-0510-4a65-e97f-82461ccae13b"
      },
      "execution_count": 4,
      "outputs": [
        {
          "output_type": "execute_result",
          "data": {
            "text/plain": [
              "(5000,)"
            ]
          },
          "metadata": {},
          "execution_count": 4
        }
      ]
    },
    {
      "cell_type": "code",
      "source": [
        "ck_v_x.shape"
      ],
      "metadata": {
        "colab": {
          "base_uri": "https://localhost:8080/"
        },
        "id": "px90-8bn1RsY",
        "outputId": "4951d581-9fec-4628-c89c-bf1c5bd01370"
      },
      "execution_count": 5,
      "outputs": [
        {
          "output_type": "execute_result",
          "data": {
            "text/plain": [
              "(5000, 100)"
            ]
          },
          "metadata": {},
          "execution_count": 5
        }
      ]
    },
    {
      "cell_type": "code",
      "source": [
        ""
      ],
      "metadata": {
        "id": "bDNzamn_4x1L"
      },
      "execution_count": null,
      "outputs": []
    },
    {
      "cell_type": "code",
      "source": [
        "\n",
        "m.compile(optimizer = RMSprop(learning_rate=0.0001) , loss='binary_crossentropy'  , metrics=['accuracy'])  # 옵티마이저 알엠 기본값\n",
        "  # 로스펑션: 아웃풋기준 이진분류 - binary\n",
        "#옵티마이저는 백프로파게이션으로 웨이트를 갱신하는 펑션\n",
        "#액티베이션은 인풋>아웃풋 과정 안에서 노드를 거치면서 웨이트에 적용되는 펑션\n",
        "  \n",
        "es = EarlyStopping(patience= 4, restore_best_weights=True)\n",
        "ck = ModelCheckpoint ('m.h5')\n",
        "\n",
        "hy = m.fit(ck_t_x, t_y,  validation_data=(ck_v_x, v_y) ,  callbacks=[es,ck],  batch_size=64,  epochs=2  )  #배치사이즈는 2의 배수로\n",
        "#콜백사용시 - 벨리데이션셋\n"
      ],
      "metadata": {
        "colab": {
          "base_uri": "https://localhost:8080/"
        },
        "id": "L0lKj3JK0CC9",
        "outputId": "0962b73d-ac2f-48d4-a309-f5797fd9beb6"
      },
      "execution_count": 11,
      "outputs": [
        {
          "output_type": "stream",
          "name": "stdout",
          "text": [
            "Epoch 1/2\n",
            "313/313 [==============================] - 19s 47ms/step - loss: 0.6922 - accuracy: 0.5349 - val_loss: 0.6906 - val_accuracy: 0.5930\n",
            "Epoch 2/2\n",
            "313/313 [==============================] - 13s 41ms/step - loss: 0.6884 - accuracy: 0.6104 - val_loss: 0.6855 - val_accuracy: 0.6334\n"
          ]
        }
      ]
    },
    {
      "cell_type": "code",
      "source": [
        "import matplotlib.pyplot as plt\n",
        "plt.plot(hy.history['loss'],color='g')\n",
        "plt.plot(hy.history['val_loss'])"
      ],
      "metadata": {
        "colab": {
          "base_uri": "https://localhost:8080/",
          "height": 283
        },
        "id": "HT-M0gic0SKS",
        "outputId": "bc1cfcd0-9f82-4e99-c885-420027494d67"
      },
      "execution_count": 12,
      "outputs": [
        {
          "output_type": "execute_result",
          "data": {
            "text/plain": [
              "[<matplotlib.lines.Line2D at 0x7f4eb32de850>]"
            ]
          },
          "metadata": {},
          "execution_count": 12
        },
        {
          "output_type": "display_data",
          "data": {
            "text/plain": [
              "<Figure size 432x288 with 1 Axes>"
            ],
            "image/png": "[encoded data removed]"
          },
          "metadata": {
            "needs_background": "light"
          }
        }
      ]
    },
    {
      "cell_type": "code",
      "source": [
        "lstm의 입력은 시퀀셜로 들어가야함\n",
        "lstm의 아웃풋은 하나의 값임\n",
        "즉\n",
        "lstm\n",
        "lstm\n",
        "연속으로 나열할 수   없음\n",
        "\n",
        "그래서 리턴시퀀스를 이용하여 아웃풋을 시퀀스로 보내서 다음 엘엣스티엠을 나열할 수 잇음\n",
        "m2,add(LSTM(8,dropout=0.3, return_sequences=True))\n",
        "m2,add(LSTM(8,dropout=0.3))\n"
      ],
      "metadata": {
        "id": "5TGdXMYp6DLW"
      },
      "execution_count": null,
      "outputs": []
    },
    {
      "cell_type": "code",
      "source": [
        "from keras.layers import GRU     # lstm이랑별차이없지만 간단한 데이터일 수록 gru가 좋음\n",
        "\n",
        "\n",
        "m = Sequential()  \n",
        "m.add(Embedding(500,16,input_length=100 ))  \n",
        "  # 인풋렝스100  한묶음으로 한번에 들어가니까 한묶음의 길이 100으로\n",
        "#심플rnn에 잇엇던 인풋이여기로 #500  500개단어   # 16 : 오백개의 단어를 16차원으로 정리    16차원으로 오백개의 단어를 표현하겠다.\n",
        "    # 그래서 오백개로 원핫인코딩된 자료를 줄 필요가 없다  > 핏에서 c_ 대신 ck_\n",
        "     # 원핫 안한 데이터를 자동으로 임베딩이 해준다\n",
        "     # 16 차원에 점하나 찍은 벡터화  여기서 차원은 임의의 값 하이퍼매개변수\n",
        "# 임베딩 단어 벡터화 - 임의의 좌표(16차원)에 한 점찍기\n",
        "m.add( GRU( 8,emem드랍아웃.링턴시퀀스트루)) #순환신경망  # 8은 cell 셀 수  (뉴런수)                      # 심플알엔엔보다 파라미터가 늘엇다 - 추가적인기억을하겟다\n",
        "m.add( GR\n",
        "m.add(  Dense( 1, activation='sigmoid' ) ) #아웃풋1개   출력층 , 이진분류 시그모이드\n",
        "m.summary()"
      ],
      "metadata": {
        "id": "JdzriJhB6-RF"
      },
      "execution_count": null,
      "outputs": []
    },
    {
      "cell_type": "code",
      "source": [
        "원핫을꼭해야하나\n",
        "하는게좋은가\n",
        "임베딩 원핫 vs 투카테고리 원핫\n",
        "로스펑션은바이너리고정?\n"
      ],
      "metadata": {
        "id": "TKbDhLCd9HwK"
      },
      "execution_count": null,
      "outputs": []
    }
  ]
}