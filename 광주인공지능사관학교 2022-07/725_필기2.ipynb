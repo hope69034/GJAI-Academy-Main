{
  "nbformat": 4,
  "nbformat_minor": 0,
  "metadata": {
    "colab": {
      "name": "725_필기2.ipynb",
      "provenance": [],
      "collapsed_sections": []
    },
    "kernelspec": {
      "name": "python3",
      "display_name": "Python 3"
    },
    "language_info": {
      "name": "python"
    },
    "gpuClass": "standard"
  },
  "cells": [
    {
      "cell_type": "code",
      "execution_count": 1,
      "metadata": {
        "id": "PtdoHYogsu7m"
      },
      "outputs": [],
      "source": [
        "import tensorflow as tf\n",
        "from tensorflow import keras\n",
        "from tensorflow.keras.optimizers import SGD, RMSprop,Adam\n",
        "import numpy as np\n",
        "import matplotlib.pyplot as plt\n",
        "from sklearn.model_selection import train_test_split\n",
        "from tensorflow.keras.losses import sparse_categorical_crossentropy,categorical_crossentropy,binary_crossentropy,mean_squared_error #카테고리-다중분류  바이너리-이진분류 mse -회귀\n",
        "from tensorflow.keras import Sequential\n",
        "from tensorflow.keras.layers import Dense, Flatten,Dropout,Conv2D,MaxPooling2D\n",
        "from tensorflow.keras.models import load_model,Model\n",
        "from tensorflow.keras.callbacks import ModelCheckpoint,EarlyStopping\n",
        "\n",
        "from keras.utils.np_utils import to_categorical "
      ]
    },
    {
      "cell_type": "code",
      "source": [
        "(X_data,y_data),(tt_x,tt_y)=keras.datasets.fashion_mnist.load_data()"
      ],
      "metadata": {
        "id": "00Ohap9M6PQ7",
        "colab": {
          "base_uri": "https://localhost:8080/"
        },
        "outputId": "b805b51b-cc27-4f52-b57a-2d89a3cc1ad8"
      },
      "execution_count": 2,
      "outputs": [
        {
          "output_type": "stream",
          "name": "stdout",
          "text": [
            "Downloading data from https://storage.googleapis.com/tensorflow/tf-keras-datasets/train-labels-idx1-ubyte.gz\n",
            "32768/29515 [=================================] - 0s 0us/step\n",
            "40960/29515 [=========================================] - 0s 0us/step\n",
            "Downloading data from https://storage.googleapis.com/tensorflow/tf-keras-datasets/train-images-idx3-ubyte.gz\n",
            "26427392/26421880 [==============================] - 0s 0us/step\n",
            "26435584/26421880 [==============================] - 0s 0us/step\n",
            "Downloading data from https://storage.googleapis.com/tensorflow/tf-keras-datasets/t10k-labels-idx1-ubyte.gz\n",
            "16384/5148 [===============================================================================================] - 0s 0us/step\n",
            "Downloading data from https://storage.googleapis.com/tensorflow/tf-keras-datasets/t10k-images-idx3-ubyte.gz\n",
            "4423680/4422102 [==============================] - 0s 0us/step\n",
            "4431872/4422102 [==============================] - 0s 0us/step\n"
          ]
        }
      ]
    },
    {
      "cell_type": "code",
      "source": [
        "X_data.dtype # 숫자가 아니다"
      ],
      "metadata": {
        "colab": {
          "base_uri": "https://localhost:8080/"
        },
        "id": "BnzpDKe-McJx",
        "outputId": "14c8cd30-27cc-4729-9139-3c53470b693b"
      },
      "execution_count": 3,
      "outputs": [
        {
          "output_type": "execute_result",
          "data": {
            "text/plain": [
              "dtype('uint8')"
            ]
          },
          "metadata": {},
          "execution_count": 3
        }
      ]
    },
    {
      "cell_type": "code",
      "source": [
        "np.unique(y_data), np.unique(tt_y)      #아웃풋 값이 10종류다"
      ],
      "metadata": {
        "colab": {
          "base_uri": "https://localhost:8080/"
        },
        "id": "YdFINkotPJV6",
        "outputId": "95e7eef9-7447-4d99-916a-8d81363dd417"
      },
      "execution_count": null,
      "outputs": [
        {
          "output_type": "execute_result",
          "data": {
            "text/plain": [
              "(array([0, 1, 2, 3, 4, 5, 6, 7, 8, 9], dtype=uint8),\n",
              " array([0, 1, 2, 3, 4, 5, 6, 7, 8, 9], dtype=uint8))"
            ]
          },
          "metadata": {},
          "execution_count": 4
        }
      ]
    },
    {
      "cell_type": "code",
      "source": [
        "np.unique(y_data), np.unique(tt_y)      #아웃풋 값이 10종류다\n",
        "\n",
        "\n",
        "#정규화\n",
        "s_X_data = X_data.reshape(-1,28,28,1).astype(float)/255.0\n",
        "s_tt_x = tt_x.reshape(-1,28,28,1).astype(float)/255.0\n",
        "\n",
        "#카테고리컬- 와이값을 원핫인코딩함 -   유니크상 값10개라 세번째가 0 > 10으로바뀜  # 아웃풋을 10개로 변경했다 아웃풋 시리즈가10개로늘어낫다  값은 0과1 원핫인코딩\n",
        "y_data = to_categorical(y_data)\n",
        "tt_y = to_categorical(tt_y)\n",
        "\n",
        "#데이터차원화인\n",
        "s_X_data.shape,y_data.shape,s_tt_x.shape,tt_y.shape\n"
      ],
      "metadata": {
        "colab": {
          "base_uri": "https://localhost:8080/"
        },
        "id": "OXH2w0cPMkQ3",
        "outputId": "d60e0340-fe56-4f78-a388-bcc7521a70e4"
      },
      "execution_count": null,
      "outputs": [
        {
          "output_type": "execute_result",
          "data": {
            "text/plain": [
              "((60000, 28, 28, 1), (60000, 10), (10000, 28, 28, 1), (10000, 10))"
            ]
          },
          "metadata": {},
          "execution_count": 5
        }
      ]
    },
    {
      "cell_type": "code",
      "source": [
        ""
      ],
      "metadata": {
        "id": "sJzxfu7qNjIG"
      },
      "execution_count": null,
      "outputs": []
    },
    {
      "cell_type": "code",
      "source": [
        "t_x,v_x,t_y,v_y = train_test_split ( s_X_data, y_data, random_state=42, test_size=0.2)\n",
        "#스플릿\n",
        "t_x.shape, v_x.shape, t_y.shape, v_y.shape,        s_tt_x.shape, tt_y.shape\n",
        "#트레인      벨리데이션                           테스트                 "
      ],
      "metadata": {
        "colab": {
          "base_uri": "https://localhost:8080/"
        },
        "id": "TkqWlkt67e56",
        "outputId": "e85bbe0b-004b-4d15-aef1-12b444c666f3"
      },
      "execution_count": null,
      "outputs": [
        {
          "output_type": "execute_result",
          "data": {
            "text/plain": [
              "((48000, 28, 28, 1),\n",
              " (12000, 28, 28, 1),\n",
              " (48000, 10),\n",
              " (12000, 10),\n",
              " (10000, 28, 28, 1),\n",
              " (10000, 10))"
            ]
          },
          "metadata": {},
          "execution_count": 6
        }
      ]
    },
    {
      "cell_type": "code",
      "source": [
        "#모델변수선언\n",
        "from tensorflow.keras import Sequential\n",
        "m=Sequential()"
      ],
      "metadata": {
        "id": "qiDdFS1X8P6o"
      },
      "execution_count": null,
      "outputs": []
    },
    {
      "cell_type": "code",
      "source": [
        "#모델 컨볼루션 n 풀링 조정\n",
        "m.add(Conv2D(32,kernel_size=3,activation='relu',padding='same',input_shape=(28,28,1))) #높이,너비,채널 정보를줘야함  채널( 흑백=1, 색상RGB=3) 흑백은일차원 색상은삼차원 \n",
        "m.add(MaxPooling2D(2)) #풀링층을 무조건 써야하는 건 아니다\n",
        "m.add(Conv2D(64,kernel_size=(3,3),activation='relu',padding='same'))\n",
        "m.add(MaxPooling2D(2))"
      ],
      "metadata": {
        "id": "wCgP3R2f8g0_"
      },
      "execution_count": null,
      "outputs": []
    },
    {
      "cell_type": "code",
      "source": [
        "#모델 컨볼루션 n 풀링 조정\n",
        "m.add(Conv2D(32,kernel_size=3,activation='relu',padding='same',input_shape=(28,28,1))) # 이미지 \n",
        "m.add(MaxPooling2D(2)) # 이미지 \n",
        "m.add(Conv2D(64,kernel_size=3,activation='relu',padding='same',input_shape=(28,28,1))) # 이미지 \n",
        "m.add(MaxPooling2D(2)) # 이미지 \n",
        "m.add(Conv2D(12,kernel_size=(3,3),activation='relu',padding='same')) # 이미지  #  사이즈3이랑 3,3이랑 별 차이가 없다 \n",
        "#12: 장 수 \n",
        "m.add(MaxPooling2D(2))  # 이미지 \n",
        "#컨볼층을 늘릴 수도 있다. 컨볼의 목적은 좋은 픽처를 뽑아내는 것   풀링의 목적은 사이즈 줄이기 \n",
        "\n",
        "#위는 컨볼루션 층 아래는 뉴런층      /        컨볼루션층 자체도 뉴런네트워크다 즉 아래 덴스층이 없어도 된다 > 플래튼아래 바로 덴스10 으로\n",
        "\n",
        "m.add(Flatten) #한줄로변경  #이미지를 값으로 할 수 있게 평탄화하는 작업 \n",
        "m.add(Dense(100,activation='relu')) #값 숫자\n",
        "m.add(Dropout(0.3)) #값 숫자\n",
        "m.add(Dense(10,activation='softmax')) # (숫자) > 아웃풋 > 숫자\n",
        "m.summary()\n",
        "\n",
        "\n"
      ],
      "metadata": {
        "colab": {
          "base_uri": "https://localhost:8080/",
          "height": 510
        },
        "id": "-7nzAjIQHyWr",
        "outputId": "3414aa00-0ab5-420f-f040-02376effd37a"
      },
      "execution_count": null,
      "outputs": [
        {
          "output_type": "error",
          "ename": "ValueError",
          "evalue": "ignored",
          "traceback": [
            "\u001b[0;31m---------------------------------------------------------------------------\u001b[0m",
            "\u001b[0;31mValueError\u001b[0m                                Traceback (most recent call last)",
            "\u001b[0;32m<ipython-input-9-f675643210af>\u001b[0m in \u001b[0;36m<module>\u001b[0;34m()\u001b[0m\n\u001b[1;32m      6\u001b[0m \u001b[0mm\u001b[0m\u001b[0;34m.\u001b[0m\u001b[0madd\u001b[0m\u001b[0;34m(\u001b[0m\u001b[0mConv2D\u001b[0m\u001b[0;34m(\u001b[0m\u001b[0;36m12\u001b[0m\u001b[0;34m,\u001b[0m\u001b[0mkernel_size\u001b[0m\u001b[0;34m=\u001b[0m\u001b[0;34m(\u001b[0m\u001b[0;36m3\u001b[0m\u001b[0;34m,\u001b[0m\u001b[0;36m3\u001b[0m\u001b[0;34m)\u001b[0m\u001b[0;34m,\u001b[0m\u001b[0mactivation\u001b[0m\u001b[0;34m=\u001b[0m\u001b[0;34m'relu'\u001b[0m\u001b[0;34m,\u001b[0m\u001b[0mpadding\u001b[0m\u001b[0;34m=\u001b[0m\u001b[0;34m'same'\u001b[0m\u001b[0;34m)\u001b[0m\u001b[0;34m)\u001b[0m \u001b[0;31m# 이미지  #  사이즈3이랑 3,3이랑 별 차이가 없다\u001b[0m\u001b[0;34m\u001b[0m\u001b[0;34m\u001b[0m\u001b[0m\n\u001b[1;32m      7\u001b[0m \u001b[0;31m#12: 장 수\u001b[0m\u001b[0;34m\u001b[0m\u001b[0;34m\u001b[0m\u001b[0;34m\u001b[0m\u001b[0m\n\u001b[0;32m----> 8\u001b[0;31m \u001b[0mm\u001b[0m\u001b[0;34m.\u001b[0m\u001b[0madd\u001b[0m\u001b[0;34m(\u001b[0m\u001b[0mMaxPooling2D\u001b[0m\u001b[0;34m(\u001b[0m\u001b[0;36m2\u001b[0m\u001b[0;34m)\u001b[0m\u001b[0;34m)\u001b[0m  \u001b[0;31m# 이미지\u001b[0m\u001b[0;34m\u001b[0m\u001b[0;34m\u001b[0m\u001b[0m\n\u001b[0m\u001b[1;32m      9\u001b[0m \u001b[0;31m#컨볼층을 늘릴 수도 있다. 컨볼의 목적은 좋은 픽처를 뽑아내는 것   풀링의 목적은 사이즈 줄이기\u001b[0m\u001b[0;34m\u001b[0m\u001b[0;34m\u001b[0m\u001b[0;34m\u001b[0m\u001b[0m\n\u001b[1;32m     10\u001b[0m \u001b[0;34m\u001b[0m\u001b[0m\n",
            "\u001b[0;32m/usr/local/lib/python3.7/dist-packages/tensorflow/python/training/tracking/base.py\u001b[0m in \u001b[0;36m_method_wrapper\u001b[0;34m(self, *args, **kwargs)\u001b[0m\n\u001b[1;32m    627\u001b[0m     \u001b[0mself\u001b[0m\u001b[0;34m.\u001b[0m\u001b[0m_self_setattr_tracking\u001b[0m \u001b[0;34m=\u001b[0m \u001b[0;32mFalse\u001b[0m  \u001b[0;31m# pylint: disable=protected-access\u001b[0m\u001b[0;34m\u001b[0m\u001b[0;34m\u001b[0m\u001b[0m\n\u001b[1;32m    628\u001b[0m     \u001b[0;32mtry\u001b[0m\u001b[0;34m:\u001b[0m\u001b[0;34m\u001b[0m\u001b[0;34m\u001b[0m\u001b[0m\n\u001b[0;32m--> 629\u001b[0;31m       \u001b[0mresult\u001b[0m \u001b[0;34m=\u001b[0m \u001b[0mmethod\u001b[0m\u001b[0;34m(\u001b[0m\u001b[0mself\u001b[0m\u001b[0;34m,\u001b[0m \u001b[0;34m*\u001b[0m\u001b[0margs\u001b[0m\u001b[0;34m,\u001b[0m \u001b[0;34m**\u001b[0m\u001b[0mkwargs\u001b[0m\u001b[0;34m)\u001b[0m\u001b[0;34m\u001b[0m\u001b[0;34m\u001b[0m\u001b[0m\n\u001b[0m\u001b[1;32m    630\u001b[0m     \u001b[0;32mfinally\u001b[0m\u001b[0;34m:\u001b[0m\u001b[0;34m\u001b[0m\u001b[0;34m\u001b[0m\u001b[0m\n\u001b[1;32m    631\u001b[0m       \u001b[0mself\u001b[0m\u001b[0;34m.\u001b[0m\u001b[0m_self_setattr_tracking\u001b[0m \u001b[0;34m=\u001b[0m \u001b[0mprevious_value\u001b[0m  \u001b[0;31m# pylint: disable=protected-access\u001b[0m\u001b[0;34m\u001b[0m\u001b[0;34m\u001b[0m\u001b[0m\n",
            "\u001b[0;32m/usr/local/lib/python3.7/dist-packages/keras/utils/traceback_utils.py\u001b[0m in \u001b[0;36merror_handler\u001b[0;34m(*args, **kwargs)\u001b[0m\n\u001b[1;32m     65\u001b[0m     \u001b[0;32mexcept\u001b[0m \u001b[0mException\u001b[0m \u001b[0;32mas\u001b[0m \u001b[0me\u001b[0m\u001b[0;34m:\u001b[0m  \u001b[0;31m# pylint: disable=broad-except\u001b[0m\u001b[0;34m\u001b[0m\u001b[0;34m\u001b[0m\u001b[0m\n\u001b[1;32m     66\u001b[0m       \u001b[0mfiltered_tb\u001b[0m \u001b[0;34m=\u001b[0m \u001b[0m_process_traceback_frames\u001b[0m\u001b[0;34m(\u001b[0m\u001b[0me\u001b[0m\u001b[0;34m.\u001b[0m\u001b[0m__traceback__\u001b[0m\u001b[0;34m)\u001b[0m\u001b[0;34m\u001b[0m\u001b[0;34m\u001b[0m\u001b[0m\n\u001b[0;32m---> 67\u001b[0;31m       \u001b[0;32mraise\u001b[0m \u001b[0me\u001b[0m\u001b[0;34m.\u001b[0m\u001b[0mwith_traceback\u001b[0m\u001b[0;34m(\u001b[0m\u001b[0mfiltered_tb\u001b[0m\u001b[0;34m)\u001b[0m \u001b[0;32mfrom\u001b[0m \u001b[0;32mNone\u001b[0m\u001b[0;34m\u001b[0m\u001b[0;34m\u001b[0m\u001b[0m\n\u001b[0m\u001b[1;32m     68\u001b[0m     \u001b[0;32mfinally\u001b[0m\u001b[0;34m:\u001b[0m\u001b[0;34m\u001b[0m\u001b[0;34m\u001b[0m\u001b[0m\n\u001b[1;32m     69\u001b[0m       \u001b[0;32mdel\u001b[0m \u001b[0mfiltered_tb\u001b[0m\u001b[0;34m\u001b[0m\u001b[0;34m\u001b[0m\u001b[0m\n",
            "\u001b[0;32m/usr/local/lib/python3.7/dist-packages/tensorflow/python/framework/ops.py\u001b[0m in \u001b[0;36m_create_c_op\u001b[0;34m(graph, node_def, inputs, control_inputs, op_def)\u001b[0m\n\u001b[1;32m   2011\u001b[0m   \u001b[0;32mexcept\u001b[0m \u001b[0merrors\u001b[0m\u001b[0;34m.\u001b[0m\u001b[0mInvalidArgumentError\u001b[0m \u001b[0;32mas\u001b[0m \u001b[0me\u001b[0m\u001b[0;34m:\u001b[0m\u001b[0;34m\u001b[0m\u001b[0;34m\u001b[0m\u001b[0m\n\u001b[1;32m   2012\u001b[0m     \u001b[0;31m# Convert to ValueError for backwards compatibility.\u001b[0m\u001b[0;34m\u001b[0m\u001b[0;34m\u001b[0m\u001b[0;34m\u001b[0m\u001b[0m\n\u001b[0;32m-> 2013\u001b[0;31m     \u001b[0;32mraise\u001b[0m \u001b[0mValueError\u001b[0m\u001b[0;34m(\u001b[0m\u001b[0me\u001b[0m\u001b[0;34m.\u001b[0m\u001b[0mmessage\u001b[0m\u001b[0;34m)\u001b[0m\u001b[0;34m\u001b[0m\u001b[0;34m\u001b[0m\u001b[0m\n\u001b[0m\u001b[1;32m   2014\u001b[0m \u001b[0;34m\u001b[0m\u001b[0m\n\u001b[1;32m   2015\u001b[0m   \u001b[0;32mreturn\u001b[0m \u001b[0mc_op\u001b[0m\u001b[0;34m\u001b[0m\u001b[0;34m\u001b[0m\u001b[0m\n",
            "\u001b[0;31mValueError\u001b[0m: Exception encountered when calling layer \"max_pooling2d_4\" (type MaxPooling2D).\n\nNegative dimension size caused by subtracting 2 from 1 for '{{node max_pooling2d_4/MaxPool}} = MaxPool[T=DT_FLOAT, data_format=\"NHWC\", explicit_paddings=[], ksize=[1, 2, 2, 1], padding=\"VALID\", strides=[1, 2, 2, 1]](Placeholder)' with input shapes: [?,1,1,12].\n\nCall arguments received:\n  • inputs=tf.Tensor(shape=(None, 1, 1, 12), dtype=float32)"
          ]
        }
      ]
    },
    {
      "cell_type": "code",
      "source": [
        "#모델 컨볼루션 n 풀링 조정\n",
        "m.add(Conv2D(32,kernel_size=3,activation='relu',padding='same',input_shape=(28,28,1))) # 이미지 \n",
        "m.add(MaxPooling2D(2)) # 이미지 \n",
        "m.add(Conv2D(64,kernel_size=3,activation='relu',padding='same',input_shape=(28,28,1))) # 이미지 \n",
        "m.add(MaxPooling2D(2)) # 이미지 \n",
        "m.add(Conv2D(12,kernel_size=(3,3),activation='relu',padding='same')) # 이미지  #  사이즈3이랑 3,3이랑 별 차이가 없다 \n",
        "#12: 장 수 \n",
        "m.add(MaxPooling2D(2))  # 이미지 \n",
        "# 컨볼루션층 자체도 뉴런네트워크다 즉 아래 덴스층이 없어도 된다 > 플래튼아래 바로 덴스10 으로\n",
        "\n",
        "m.add(Flatten) #한줄로변경  #이미지를 값으로 할 수 있게 평탄화하는 작업 \n",
        "m.add(Dense(10,activation='softmax')) # (플래튼이미지) > 아웃풋 > 숫자\n",
        "m.summary()\n",
        "\n",
        "\n"
      ],
      "metadata": {
        "id": "JvJA3WS8KF1V"
      },
      "execution_count": null,
      "outputs": []
    },
    {
      "cell_type": "code",
      "source": [
        "# 모델 퍼셉트론 조정\n",
        "m.add(Flatten())\n",
        "m.add(Dense(100,activation='relu')) #100은뉴런(노드,단층퍼셉)\n",
        "m.add(Dropout(0.3))\n",
        "m.add(Dense(10,activation='softmax'))\n",
        "m.summary()"
      ],
      "metadata": {
        "id": "AOx9iqmY8nBw"
      },
      "execution_count": null,
      "outputs": []
    },
    {
      "cell_type": "code",
      "source": [
        "keras.utils.plot_model(m,show_shapes=True)\n",
        "#모델 구조 시각화"
      ],
      "metadata": {
        "id": "UH6sFtjQ87r3"
      },
      "execution_count": null,
      "outputs": []
    },
    {
      "cell_type": "code",
      "source": [
        "# 모델 컴파일(학습방법지정), 모델 피팅(학습시작)\n",
        "m.compile(optimizer='adam',loss='categorical_crossentropy',metrics='accuracy') #카테고리-분류 , 옵티마이저-최적화함수  #t숫자로받을거냐카테로받을거냐\n",
        "ck_p = ModelCheckpoint('best_m.h5')  #젤좋은것만기억하고잇겟다\n",
        "es = EarlyStopping(patience=2,restore_best_weights=True) #얼리스탑  로스는줄어야하는데 2번연속 안줄어들면 스탑한다 보통 2~4로 준다\n",
        "hy=m.fit( t_x, t_y,    validation_data=(v_x,v_y),      callbacks=[ck_p,es],  epochs=100    )"
      ],
      "metadata": {
        "id": "05mSeJWi9NIO"
      },
      "execution_count": null,
      "outputs": []
    },
    {
      "cell_type": "code",
      "source": [
        "plt.plot(hy.history['loss'])     #트레인/벨리데이션셋 로스 히스토리 시각화\n",
        "plt.plot(hy.history['val_loss'])"
      ],
      "metadata": {
        "id": "Ydzogn0B-J2-"
      },
      "execution_count": null,
      "outputs": []
    },
    {
      "cell_type": "code",
      "source": [
        "m.evaluate(X_data,y_data)\n",
        "# 학습시킨 model에 대해 x_data와 y_data를 넣어 얼마나 학습이 잘되었나 검토해보는 코드로, 대부분 100%에 근접하게 나옵니다.(모델이 잘못되지 않은 이상)"
      ],
      "metadata": {
        "id": "4CM5WYNj-RMa"
      },
      "execution_count": null,
      "outputs": []
    },
    {
      "cell_type": "code",
      "source": [
        "m.evaluate(v_x,v_y)"
      ],
      "metadata": {
        "id": "Mf68Jmiq-hF5"
      },
      "execution_count": null,
      "outputs": []
    },
    {
      "cell_type": "code",
      "source": [
        "m.evaluate(tt_x,tt_y)"
      ],
      "metadata": {
        "id": "5PnuIG9q-EXg"
      },
      "execution_count": null,
      "outputs": []
    },
    {
      "cell_type": "code",
      "source": [
        "plt.imshow(X_data[4], cmap='gray_r')  "
      ],
      "metadata": {
        "id": "dcB3ZoSP-lCE"
      },
      "execution_count": null,
      "outputs": []
    },
    {
      "cell_type": "code",
      "source": [
        "m.predict((X_data[:4].reshape(-1,28,28,1))/255.0)>0.5"
      ],
      "metadata": {
        "id": "73TG4fW5-qk2"
      },
      "execution_count": null,
      "outputs": []
    },
    {
      "cell_type": "code",
      "source": [
        "def c_정답확인(x):\n",
        "  정답=np.array(['티셔츠', '바지', '스웨터', '드레스', '코트','샌달', '셔츠', '스니커즈', '가방', '앵클 부츠'])\n",
        "  for d in x:\n",
        "    ck=np.array([d])\n",
        "    print(정답[(m.predict(ck)>0.5)[0]])\n",
        "    plt.imshow(d, cmap='gray_r')\n",
        "    plt.show()"
      ],
      "metadata": {
        "id": "SGc70KJG-zls"
      },
      "execution_count": null,
      "outputs": []
    },
    {
      "cell_type": "code",
      "source": [
        "c_정답확인(X_data[:4])"
      ],
      "metadata": {
        "id": "huh3YrpI-1kv"
      },
      "execution_count": null,
      "outputs": []
    },
    {
      "cell_type": "code",
      "source": [
        ""
      ],
      "metadata": {
        "id": "vyInJ5tE4TEV"
      },
      "execution_count": null,
      "outputs": []
    },
    {
      "cell_type": "code",
      "source": [
        ""
      ],
      "metadata": {
        "id": "gDzngudz4TKQ"
      },
      "execution_count": null,
      "outputs": []
    },
    {
      "cell_type": "code",
      "source": [
        ""
      ],
      "metadata": {
        "id": "jbe56lta5xJh"
      },
      "execution_count": null,
      "outputs": []
    },
    {
      "cell_type": "code",
      "source": [
        ""
      ],
      "metadata": {
        "id": "bHwXuPTE5xPh"
      },
      "execution_count": null,
      "outputs": []
    },
    {
      "cell_type": "code",
      "source": [
        ""
      ],
      "metadata": {
        "id": "m-T9EjuE5xVP"
      },
      "execution_count": null,
      "outputs": []
    },
    {
      "cell_type": "code",
      "source": [
        ""
      ],
      "metadata": {
        "id": "cRpT6PzB5xbS"
      },
      "execution_count": null,
      "outputs": []
    },
    {
      "cell_type": "code",
      "source": [
        ""
      ],
      "metadata": {
        "id": "_wbAbKkr5xf-"
      },
      "execution_count": null,
      "outputs": []
    },
    {
      "cell_type": "code",
      "source": [
        "\n",
        "\n",
        "#텐서모음\n",
        "import tensorflow as tf\n",
        "from tensorflow import keras\n",
        "from tensorflow.keras.optimizers import SGD , RMSprop, Adam \n",
        "from tensorflow.keras.losses import sparse_categorical_crossentropy,categorical_crossentropy,binary_crossentropy,mean_squared_error #카테고리-다중분류  바이너리-이진분류 mse -회귀\n",
        "                                                                    #로스,오차 얼만큼 틀렸는지 알려주는 함수 : 어느정도틀어야하는지 알려줌\n",
        "from tensorflow.keras import Sequential \n",
        "from tensorflow.keras.layers import Dense \n",
        "from tensorflow.keras.layers import Flatten  #입력층 -  뉴런화시킨다 픽처사이즈로 키워준다  벡터사이즈로 안바꿔도 자동으로 바뀐다\n",
        "from tensorflow.keras.layers import Dropout , Conv2D, MaxPooling2D \n",
        "from tensorflow.keras.models import load_model , Model #모델을 가지고 온다 > 로드로 불러온 모델은 weight까지 포함되어 있다\n",
        "from tensorflow.keras.callbacks import ModelCheckpoint, EarlyStopping #얼리스탑 :에서 주는 조건: 연속으로 ..\n",
        "#(from tensorflow.keras.datasets import boston_housing #보스턴데이터 회귀문제)\n",
        "from keras.utils.np_utils import to_categorical  # 아웃풋을 원핫인코딩한다  아웃풋이 여러종일 때 아웃풋을 0과1로 전환  \n",
        "\n",
        "#\n"
      ],
      "metadata": {
        "id": "rdRtabFn4TOt"
      },
      "execution_count": 4,
      "outputs": []
    },
    {
      "cell_type": "code",
      "source": [
        "from keras.datasets import cifar10\n"
      ],
      "metadata": {
        "id": "pWe4fYU-4TzS"
      },
      "execution_count": 5,
      "outputs": []
    },
    {
      "cell_type": "code",
      "source": [
        "(X_data, y_data) , (tt_x , tt_y) = cifar10.load_data()"
      ],
      "metadata": {
        "colab": {
          "base_uri": "https://localhost:8080/"
        },
        "id": "0vzSZfaN4Vd-",
        "outputId": "0754fe04-db1a-4eda-8af5-1c8e353704ec"
      },
      "execution_count": 6,
      "outputs": [
        {
          "output_type": "stream",
          "name": "stdout",
          "text": [
            "Downloading data from https://www.cs.toronto.edu/~kriz/cifar-10-python.tar.gz\n",
            "170500096/170498071 [==============================] - 3s 0us/step\n",
            "170508288/170498071 [==============================] - 3s 0us/step\n"
          ]
        }
      ]
    },
    {
      "cell_type": "code",
      "source": [
        "X_data.shape, y_data.shape, tt_x.shape, tt_y.shape"
      ],
      "metadata": {
        "colab": {
          "base_uri": "https://localhost:8080/"
        },
        "id": "I6a0kjXb4Wed",
        "outputId": "9b6194a6-fd3a-418e-b816-86faceeb4b3e"
      },
      "execution_count": 7,
      "outputs": [
        {
          "output_type": "execute_result",
          "data": {
            "text/plain": [
              "((50000, 32, 32, 3), (50000, 1), (10000, 32, 32, 3), (10000, 1))"
            ]
          },
          "metadata": {},
          "execution_count": 7
        }
      ]
    },
    {
      "cell_type": "code",
      "source": [
        "import numpy as np"
      ],
      "metadata": {
        "id": "10iEEOWf48-q"
      },
      "execution_count": 8,
      "outputs": []
    },
    {
      "cell_type": "code",
      "source": [
        "np.unique(y_data), np.unique(tt_y)      #아웃풋 값이 10종류다\n",
        "\n"
      ],
      "metadata": {
        "colab": {
          "base_uri": "https://localhost:8080/"
        },
        "id": "xZ28TBHG4yRe",
        "outputId": "e6dd5f0b-5c68-4b10-bcd0-e5ceb308f2b2"
      },
      "execution_count": 9,
      "outputs": [
        {
          "output_type": "execute_result",
          "data": {
            "text/plain": [
              "(array([0, 1, 2, 3, 4, 5, 6, 7, 8, 9], dtype=uint8),\n",
              " array([0, 1, 2, 3, 4, 5, 6, 7, 8, 9], dtype=uint8))"
            ]
          },
          "metadata": {},
          "execution_count": 9
        }
      ]
    },
    {
      "cell_type": "code",
      "source": [
        "#에스타입"
      ],
      "metadata": {
        "id": "jrdYpcXUMHpm"
      },
      "execution_count": null,
      "outputs": []
    },
    {
      "cell_type": "code",
      "source": [
        "s_X_data = X_data.reshape(-1,32,32,3).astype(float)/255.0  # 나누기 255하면 자동으로 '연산후'플롯으로 바뀌지만 astype플롯으로 먼저 바꿔야 로스가 안생긴다\n",
        "s_tt_x = tt_x.reshape(-1,32,32,3).astype(float)/255.0        # 아웃풋은 원핫하면 자동으로 플롯으로 바뀐다    \n",
        "                                                     # 인풋과 아웃풋의 자료형을 플롯,플롯 맞춰주는 것이다\n",
        "#플롯아닌 실수타입도연산이되지만 로스가 생기는 경우가 있다."
      ],
      "metadata": {
        "id": "aUqCssWqMJKI"
      },
      "execution_count": 10,
      "outputs": []
    },
    {
      "cell_type": "code",
      "source": [
        "# 필요 없음\n",
        "# yy_data = y_data.astype(float) \n",
        "# ttt_y = tt_y.astype(float)          "
      ],
      "metadata": {
        "id": "J-kwm5OLMbbg"
      },
      "execution_count": null,
      "outputs": []
    },
    {
      "cell_type": "code",
      "source": [
        "y_data.shape, tt_y.shape"
      ],
      "metadata": {
        "colab": {
          "base_uri": "https://localhost:8080/"
        },
        "id": "eUuB4gK0Mm1i",
        "outputId": "cdf99172-5b4c-4e4c-bd0c-77af39a6ab08"
      },
      "execution_count": 14,
      "outputs": [
        {
          "output_type": "execute_result",
          "data": {
            "text/plain": [
              "((50000, 1), (10000, 1))"
            ]
          },
          "metadata": {},
          "execution_count": 14
        }
      ]
    },
    {
      "cell_type": "code",
      "source": [
        "np.unique(y_data), np.unique(tt_y)      #아웃풋 값이 10종류다\n",
        "\n"
      ],
      "metadata": {
        "colab": {
          "base_uri": "https://localhost:8080/"
        },
        "id": "9B8d5vQrMsC0",
        "outputId": "90aac856-514f-4d05-c6c6-f6551c563565"
      },
      "execution_count": 16,
      "outputs": [
        {
          "output_type": "execute_result",
          "data": {
            "text/plain": [
              "(array([0, 1, 2, 3, 4, 5, 6, 7, 8, 9], dtype=uint8),\n",
              " array([0, 1, 2, 3, 4, 5, 6, 7, 8, 9], dtype=uint8))"
            ]
          },
          "metadata": {},
          "execution_count": 16
        }
      ]
    },
    {
      "cell_type": "code",
      "source": [
        "#차원벗기기"
      ],
      "metadata": {
        "id": "K3GHms2KMvIE"
      },
      "execution_count": null,
      "outputs": []
    },
    {
      "cell_type": "code",
      "source": [
        "# 필요없음 원핫하면 어짜피 숫자로 바뀜\n",
        "# yyy_data = np.array(yy_data).flatten()\n",
        "#  tttt_y = np.array(ttt_y).flatten()\n",
        "\n",
        "y_data.shape, tt_y.shape"
      ],
      "metadata": {
        "colab": {
          "base_uri": "https://localhost:8080/"
        },
        "id": "FLuWrBTBMwMT",
        "outputId": "ea179def-d11d-4426-c7a6-e57757cce371"
      },
      "execution_count": 18,
      "outputs": [
        {
          "output_type": "execute_result",
          "data": {
            "text/plain": [
              "((50000, 1), (10000, 1))"
            ]
          },
          "metadata": {},
          "execution_count": 18
        }
      ]
    },
    {
      "cell_type": "code",
      "source": [
        "s_X_data.shape, s_tt_x.shape,    y_data.shape, tt_y.shape"
      ],
      "metadata": {
        "colab": {
          "base_uri": "https://localhost:8080/"
        },
        "id": "ZX95lu3tM_Dm",
        "outputId": "38f8ba1e-4e62-4629-a4c4-f9edbd1f6145"
      },
      "execution_count": 19,
      "outputs": [
        {
          "output_type": "execute_result",
          "data": {
            "text/plain": [
              "((50000, 32, 32, 3), (10000, 32, 32, 3), (50000, 1), (10000, 1))"
            ]
          },
          "metadata": {},
          "execution_count": 19
        }
      ]
    },
    {
      "cell_type": "code",
      "source": [
        "\n",
        "#정규화\n",
        "#s_X_data = X_data.reshape(-1,32,32,3).astype(float)/255.0\n",
        "#s_tt_x = tt_x.reshape(-1,32,32,3).astype(float)/255.0\n",
        "\n",
        "#카테고리컬- 와이값을 원핫인코딩함 -   유니크상 값10개라 세번째가 0 > 10으로바뀜  # 아웃풋을 10개로 변경했다 아웃풋 시리즈가10개로늘어낫다  값은 0과1 원핫인코딩\n",
        "y_data = to_categorical(y_data)\n",
        "tt_y = to_categorical(tt_y)\n",
        "\n",
        "#데이터차원화인\n",
        "#s_X_data.shape,yy_data.shape,s_tt_x.shape,tttt_y.shape\n",
        "s_X_data.shape, s_tt_x.shape,    y_data.shape, tt_y.shape"
      ],
      "metadata": {
        "colab": {
          "base_uri": "https://localhost:8080/"
        },
        "id": "v5RWnN6S4zyG",
        "outputId": "dfc97448-5446-41b3-f9df-0913b118cd4f"
      },
      "execution_count": 20,
      "outputs": [
        {
          "output_type": "execute_result",
          "data": {
            "text/plain": [
              "((50000, 32, 32, 3), (10000, 32, 32, 3), (50000, 10), (10000, 10))"
            ]
          },
          "metadata": {},
          "execution_count": 20
        }
      ]
    },
    {
      "cell_type": "code",
      "source": [
        "type(tt_y)"
      ],
      "metadata": {
        "colab": {
          "base_uri": "https://localhost:8080/"
        },
        "id": "ocaMqZ2gZOp0",
        "outputId": "6422f865-44b2-4ec8-a1eb-4b53ea1aa153"
      },
      "execution_count": 39,
      "outputs": [
        {
          "output_type": "execute_result",
          "data": {
            "text/plain": [
              "numpy.ndarray"
            ]
          },
          "metadata": {},
          "execution_count": 39
        }
      ]
    },
    {
      "cell_type": "code",
      "source": [
        ""
      ],
      "metadata": {
        "id": "q35L54fhNcA7"
      },
      "execution_count": null,
      "outputs": []
    },
    {
      "cell_type": "code",
      "source": [
        ""
      ],
      "metadata": {
        "id": "4rhjCGKgH07u"
      },
      "execution_count": null,
      "outputs": []
    },
    {
      "cell_type": "code",
      "source": [
        "#시엔엔기반의 학습 정답을 원핫인코딩 방식으로 정리하여 모델을 학습하고 결과를 확인하시오\n"
      ],
      "metadata": {
        "id": "j1G0sCk24Xlt"
      },
      "execution_count": null,
      "outputs": []
    },
    {
      "cell_type": "code",
      "source": [
        "from sklearn.model_selection import train_test_split\n",
        "t_x,v_x,t_y,v_y=train_test_split(s_X_data,y_data,random_state=42,test_size=0.2)\n",
        "t_x.shape, v_x.shape, t_y.shape, v_y.shape,            s_tt_x.shape,tt_y.shape"
      ],
      "metadata": {
        "colab": {
          "base_uri": "https://localhost:8080/"
        },
        "id": "hSNofrKe4bXr",
        "outputId": "f4e07a4b-f3b3-48ef-ee39-8bbc1daa42e4"
      },
      "execution_count": 21,
      "outputs": [
        {
          "output_type": "execute_result",
          "data": {
            "text/plain": [
              "((40000, 32, 32, 3),\n",
              " (10000, 32, 32, 3),\n",
              " (40000, 10),\n",
              " (10000, 10),\n",
              " (10000, 32, 32, 3),\n",
              " (10000, 10))"
            ]
          },
          "metadata": {},
          "execution_count": 21
        }
      ]
    },
    {
      "cell_type": "code",
      "source": [
        "m = Sequential()"
      ],
      "metadata": {
        "id": "N3YVyaFl4cmO"
      },
      "execution_count": 40,
      "outputs": []
    },
    {
      "cell_type": "code",
      "source": [
        ""
      ],
      "metadata": {
        "id": "ELFBSXLa4dm3"
      },
      "execution_count": null,
      "outputs": []
    },
    {
      "cell_type": "code",
      "source": [
        "m.add(Conv2D(32,kernel_size=3,activation='relu',padding='same',input_shape=(32,32,3)))\n",
        "m.add(MaxPooling2D(2))\n",
        "m.add(Conv2D(64,kernel_size=(3,3),activation='relu',padding='same'))   # 세임 페딩이라 안줄어듬\n",
        "m.add(MaxPooling2D(2))\n",
        "m.add(Conv2D(64,kernel_size=(3,3),activation='relu',padding='same'))\n",
        "m.add(MaxPooling2D(2))"
      ],
      "metadata": {
        "id": "V0QT-cHt4erT"
      },
      "execution_count": 41,
      "outputs": []
    },
    {
      "cell_type": "code",
      "source": [
        "m.add(Flatten())   #이미지를 받았기 때문에 한줄로 펼치기 위해 플래튼을 꼭 써야한다\n",
        "m.add(Dense(100,activation='relu'))                 #덴스영역은 픽셀마다 웨이트값적용\n",
        "m.add(Dense(10,activation='softmax'))                 #컨볼루션영역은 이미지로 한번에 덴스는 값으로 여러개로\n",
        "# 원핫을 해도 와이값 10개 받기 때문에 이진분류가 아니다> 시그모이드x > 소프트맥스 \n",
        " # 시그모이드:이진.다중레이블  소프트맥스:다중클래스\n",
        "m.summary()"
      ],
      "metadata": {
        "id": "oNBJY6lM4fTM"
      },
      "execution_count": null,
      "outputs": []
    },
    {
      "cell_type": "code",
      "source": [
        "t_x.shape, v_x.shape, t_y.shape, v_y.shape,            s_tt_x.shape,tt_y.shape"
      ],
      "metadata": {
        "colab": {
          "base_uri": "https://localhost:8080/"
        },
        "id": "DRebB6bUJFR3",
        "outputId": "ec2a4762-a161-410e-d385-5b91d0198ad2"
      },
      "execution_count": 27,
      "outputs": [
        {
          "output_type": "execute_result",
          "data": {
            "text/plain": [
              "((40000, 32, 32, 3),\n",
              " (10000, 32, 32, 3),\n",
              " (40000, 10),\n",
              " (10000, 10),\n",
              " (10000, 32, 32, 3),\n",
              " (10000, 10))"
            ]
          },
          "metadata": {},
          "execution_count": 27
        }
      ]
    },
    {
      "cell_type": "code",
      "source": [
        "import pandas as pd\n",
        "pd.DataFrame(v_y)"
      ],
      "metadata": {
        "colab": {
          "base_uri": "https://localhost:8080/",
          "height": 424
        },
        "id": "1ROcz21GN9Eu",
        "outputId": "0a9a944d-5be6-471f-8ba3-587b46b99d7d"
      },
      "execution_count": 43,
      "outputs": [
        {
          "output_type": "execute_result",
          "data": {
            "text/plain": [
              "        0    1    2    3    4    5    6    7    8    9\n",
              "0     0.0  0.0  0.0  0.0  0.0  0.0  0.0  1.0  0.0  0.0\n",
              "1     0.0  0.0  0.0  0.0  0.0  0.0  0.0  0.0  1.0  0.0\n",
              "2     1.0  0.0  0.0  0.0  0.0  0.0  0.0  0.0  0.0  0.0\n",
              "3     0.0  0.0  0.0  0.0  0.0  0.0  1.0  0.0  0.0  0.0\n",
              "4     0.0  1.0  0.0  0.0  0.0  0.0  0.0  0.0  0.0  0.0\n",
              "...   ...  ...  ...  ...  ...  ...  ...  ...  ...  ...\n",
              "9995  0.0  0.0  0.0  0.0  0.0  0.0  0.0  0.0  0.0  1.0\n",
              "9996  0.0  0.0  0.0  0.0  0.0  0.0  0.0  1.0  0.0  0.0\n",
              "9997  0.0  0.0  0.0  0.0  0.0  0.0  0.0  0.0  1.0  0.0\n",
              "9998  0.0  0.0  1.0  0.0  0.0  0.0  0.0  0.0  0.0  0.0\n",
              "9999  0.0  0.0  0.0  0.0  0.0  0.0  1.0  0.0  0.0  0.0\n",
              "\n",
              "[10000 rows x 10 columns]"
            ],
            "text/html": [
              "\n",
              "  <div id=\"df-849966c4-8614-4719-8a33-388816a59509\">\n",
              "    <div class=\"colab-df-container\">\n",
              "      <div>\n",
              "<style scoped>\n",
              "    .dataframe tbody tr th:only-of-type {\n",
              "        vertical-align: middle;\n",
              "    }\n",
              "\n",
              "    .dataframe tbody tr th {\n",
              "        vertical-align: top;\n",
              "    }\n",
              "\n",
              "    .dataframe thead th {\n",
              "        text-align: right;\n",
              "    }\n",
              "</style>\n",
              "<table border=\"1\" class=\"dataframe\">\n",
              "  <thead>\n",
              "    <tr style=\"text-align: right;\">\n",
              "      <th></th>\n",
              "      <th>0</th>\n",
              "      <th>1</th>\n",
              "      <th>2</th>\n",
              "      <th>3</th>\n",
              "      <th>4</th>\n",
              "      <th>5</th>\n",
              "      <th>6</th>\n",
              "      <th>7</th>\n",
              "      <th>8</th>\n",
              "      <th>9</th>\n",
              "    </tr>\n",
              "  </thead>\n",
              "  <tbody>\n",
              "    <tr>\n",
              "      <th>0</th>\n",
              "      <td>0.0</td>\n",
              "      <td>0.0</td>\n",
              "      <td>0.0</td>\n",
              "      <td>0.0</td>\n",
              "      <td>0.0</td>\n",
              "      <td>0.0</td>\n",
              "      <td>0.0</td>\n",
              "      <td>1.0</td>\n",
              "      <td>0.0</td>\n",
              "      <td>0.0</td>\n",
              "    </tr>\n",
              "    <tr>\n",
              "      <th>1</th>\n",
              "      <td>0.0</td>\n",
              "      <td>0.0</td>\n",
              "      <td>0.0</td>\n",
              "      <td>0.0</td>\n",
              "      <td>0.0</td>\n",
              "      <td>0.0</td>\n",
              "      <td>0.0</td>\n",
              "      <td>0.0</td>\n",
              "      <td>1.0</td>\n",
              "      <td>0.0</td>\n",
              "    </tr>\n",
              "    <tr>\n",
              "      <th>2</th>\n",
              "      <td>1.0</td>\n",
              "      <td>0.0</td>\n",
              "      <td>0.0</td>\n",
              "      <td>0.0</td>\n",
              "      <td>0.0</td>\n",
              "      <td>0.0</td>\n",
              "      <td>0.0</td>\n",
              "      <td>0.0</td>\n",
              "      <td>0.0</td>\n",
              "      <td>0.0</td>\n",
              "    </tr>\n",
              "    <tr>\n",
              "      <th>3</th>\n",
              "      <td>0.0</td>\n",
              "      <td>0.0</td>\n",
              "      <td>0.0</td>\n",
              "      <td>0.0</td>\n",
              "      <td>0.0</td>\n",
              "      <td>0.0</td>\n",
              "      <td>1.0</td>\n",
              "      <td>0.0</td>\n",
              "      <td>0.0</td>\n",
              "      <td>0.0</td>\n",
              "    </tr>\n",
              "    <tr>\n",
              "      <th>4</th>\n",
              "      <td>0.0</td>\n",
              "      <td>1.0</td>\n",
              "      <td>0.0</td>\n",
              "      <td>0.0</td>\n",
              "      <td>0.0</td>\n",
              "      <td>0.0</td>\n",
              "      <td>0.0</td>\n",
              "      <td>0.0</td>\n",
              "      <td>0.0</td>\n",
              "      <td>0.0</td>\n",
              "    </tr>\n",
              "    <tr>\n",
              "      <th>...</th>\n",
              "      <td>...</td>\n",
              "      <td>...</td>\n",
              "      <td>...</td>\n",
              "      <td>...</td>\n",
              "      <td>...</td>\n",
              "      <td>...</td>\n",
              "      <td>...</td>\n",
              "      <td>...</td>\n",
              "      <td>...</td>\n",
              "      <td>...</td>\n",
              "    </tr>\n",
              "    <tr>\n",
              "      <th>9995</th>\n",
              "      <td>0.0</td>\n",
              "      <td>0.0</td>\n",
              "      <td>0.0</td>\n",
              "      <td>0.0</td>\n",
              "      <td>0.0</td>\n",
              "      <td>0.0</td>\n",
              "      <td>0.0</td>\n",
              "      <td>0.0</td>\n",
              "      <td>0.0</td>\n",
              "      <td>1.0</td>\n",
              "    </tr>\n",
              "    <tr>\n",
              "      <th>9996</th>\n",
              "      <td>0.0</td>\n",
              "      <td>0.0</td>\n",
              "      <td>0.0</td>\n",
              "      <td>0.0</td>\n",
              "      <td>0.0</td>\n",
              "      <td>0.0</td>\n",
              "      <td>0.0</td>\n",
              "      <td>1.0</td>\n",
              "      <td>0.0</td>\n",
              "      <td>0.0</td>\n",
              "    </tr>\n",
              "    <tr>\n",
              "      <th>9997</th>\n",
              "      <td>0.0</td>\n",
              "      <td>0.0</td>\n",
              "      <td>0.0</td>\n",
              "      <td>0.0</td>\n",
              "      <td>0.0</td>\n",
              "      <td>0.0</td>\n",
              "      <td>0.0</td>\n",
              "      <td>0.0</td>\n",
              "      <td>1.0</td>\n",
              "      <td>0.0</td>\n",
              "    </tr>\n",
              "    <tr>\n",
              "      <th>9998</th>\n",
              "      <td>0.0</td>\n",
              "      <td>0.0</td>\n",
              "      <td>1.0</td>\n",
              "      <td>0.0</td>\n",
              "      <td>0.0</td>\n",
              "      <td>0.0</td>\n",
              "      <td>0.0</td>\n",
              "      <td>0.0</td>\n",
              "      <td>0.0</td>\n",
              "      <td>0.0</td>\n",
              "    </tr>\n",
              "    <tr>\n",
              "      <th>9999</th>\n",
              "      <td>0.0</td>\n",
              "      <td>0.0</td>\n",
              "      <td>0.0</td>\n",
              "      <td>0.0</td>\n",
              "      <td>0.0</td>\n",
              "      <td>0.0</td>\n",
              "      <td>1.0</td>\n",
              "      <td>0.0</td>\n",
              "      <td>0.0</td>\n",
              "      <td>0.0</td>\n",
              "    </tr>\n",
              "  </tbody>\n",
              "</table>\n",
              "<p>10000 rows × 10 columns</p>\n",
              "</div>\n",
              "      <button class=\"colab-df-convert\" onclick=\"convertToInteractive('df-849966c4-8614-4719-8a33-388816a59509')\"\n",
              "              title=\"Convert this dataframe to an interactive table.\"\n",
              "              style=\"display:none;\">\n",
              "        \n",
              "  <svg xmlns=\"http://www.w3.org/2000/svg\" height=\"24px\"viewBox=\"0 0 24 24\"\n",
              "       width=\"24px\">\n",
              "    <path d=\"M0 0h24v24H0V0z\" fill=\"none\"/>\n",
              "    <path d=\"M18.56 5.44l.94 2.06.94-2.06 2.06-.94-2.06-.94-.94-2.06-.94 2.06-2.06.94zm-11 1L8.5 8.5l.94-2.06 2.06-.94-2.06-.94L8.5 2.5l-.94 2.06-2.06.94zm10 10l.94 2.06.94-2.06 2.06-.94-2.06-.94-.94-2.06-.94 2.06-2.06.94z\"/><path d=\"M17.41 7.96l-1.37-1.37c-.4-.4-.92-.59-1.43-.59-.52 0-1.04.2-1.43.59L10.3 9.45l-7.72 7.72c-.78.78-.78 2.05 0 2.83L4 21.41c.39.39.9.59 1.41.59.51 0 1.02-.2 1.41-.59l7.78-7.78 2.81-2.81c.8-.78.8-2.07 0-2.86zM5.41 20L4 18.59l7.72-7.72 1.47 1.35L5.41 20z\"/>\n",
              "  </svg>\n",
              "      </button>\n",
              "      \n",
              "  <style>\n",
              "    .colab-df-container {\n",
              "      display:flex;\n",
              "      flex-wrap:wrap;\n",
              "      gap: 12px;\n",
              "    }\n",
              "\n",
              "    .colab-df-convert {\n",
              "      background-color: #E8F0FE;\n",
              "      border: none;\n",
              "      border-radius: 50%;\n",
              "      cursor: pointer;\n",
              "      display: none;\n",
              "      fill: #1967D2;\n",
              "      height: 32px;\n",
              "      padding: 0 0 0 0;\n",
              "      width: 32px;\n",
              "    }\n",
              "\n",
              "    .colab-df-convert:hover {\n",
              "      background-color: #E2EBFA;\n",
              "      box-shadow: 0px 1px 2px rgba(60, 64, 67, 0.3), 0px 1px 3px 1px rgba(60, 64, 67, 0.15);\n",
              "      fill: #174EA6;\n",
              "    }\n",
              "\n",
              "    [theme=dark] .colab-df-convert {\n",
              "      background-color: #3B4455;\n",
              "      fill: #D2E3FC;\n",
              "    }\n",
              "\n",
              "    [theme=dark] .colab-df-convert:hover {\n",
              "      background-color: #434B5C;\n",
              "      box-shadow: 0px 1px 3px 1px rgba(0, 0, 0, 0.15);\n",
              "      filter: drop-shadow(0px 1px 2px rgba(0, 0, 0, 0.3));\n",
              "      fill: #FFFFFF;\n",
              "    }\n",
              "  </style>\n",
              "\n",
              "      <script>\n",
              "        const buttonEl =\n",
              "          document.querySelector('#df-849966c4-8614-4719-8a33-388816a59509 button.colab-df-convert');\n",
              "        buttonEl.style.display =\n",
              "          google.colab.kernel.accessAllowed ? 'block' : 'none';\n",
              "\n",
              "        async function convertToInteractive(key) {\n",
              "          const element = document.querySelector('#df-849966c4-8614-4719-8a33-388816a59509');\n",
              "          const dataTable =\n",
              "            await google.colab.kernel.invokeFunction('convertToInteractive',\n",
              "                                                     [key], {});\n",
              "          if (!dataTable) return;\n",
              "\n",
              "          const docLinkHtml = 'Like what you see? Visit the ' +\n",
              "            '<a target=\"_blank\" href=https://colab.research.google.com/notebooks/data_table.ipynb>data table notebook</a>'\n",
              "            + ' to learn more about interactive tables.';\n",
              "          element.innerHTML = '';\n",
              "          dataTable['output_type'] = 'display_data';\n",
              "          await google.colab.output.renderOutput(dataTable, element);\n",
              "          const docLink = document.createElement('div');\n",
              "          docLink.innerHTML = docLinkHtml;\n",
              "          element.appendChild(docLink);\n",
              "        }\n",
              "      </script>\n",
              "    </div>\n",
              "  </div>\n",
              "  "
            ]
          },
          "metadata": {},
          "execution_count": 43
        }
      ]
    },
    {
      "cell_type": "code",
      "source": [
        "m.compile(optimizer='adam',loss='categorical_crossentropy',metrics='accuracy')  #카테고리를 바꿨으면(원핫-카테) loss='categorical_crossentropy가 필수\n",
        "ck_p=ModelCheckpoint('best_m.h5')  #젤좋은것만기억하고잇겟다  베스트모델을 체크포인트로 기억하고 잇다\n",
        "es=EarlyStopping(patience=2,restore_best_weights=True)   #얼리스탑  로스는줄어야하는데 2번연속 안줄어들면 스탑한다 보통 2~4로 준다\n",
        "                                                            # 벨리데이션 로스 기준이다!\n",
        "hy=m.fit(t_x,t_y,validation_data=(v_x,v_y),callbacks=[ck_p,es],epochs=10)\n"
      ],
      "metadata": {
        "colab": {
          "base_uri": "https://localhost:8080/"
        },
        "id": "QCl__Rlf4gaX",
        "outputId": "b69f883c-f873-4afc-c167-82b4eadf6d21"
      },
      "execution_count": 44,
      "outputs": [
        {
          "output_type": "stream",
          "name": "stdout",
          "text": [
            "Epoch 1/10\n",
            "1250/1250 [==============================] - 96s 77ms/step - loss: 1.4880 - accuracy: 0.4575 - val_loss: 1.2182 - val_accuracy: 0.5604\n",
            "Epoch 2/10\n",
            "1250/1250 [==============================] - 89s 71ms/step - loss: 1.0833 - accuracy: 0.6174 - val_loss: 0.9917 - val_accuracy: 0.6483\n",
            "Epoch 3/10\n",
            "1250/1250 [==============================] - 101s 80ms/step - loss: 0.9160 - accuracy: 0.6781 - val_loss: 0.9188 - val_accuracy: 0.6799\n",
            "Epoch 4/10\n",
            "1250/1250 [==============================] - 95s 76ms/step - loss: 0.8084 - accuracy: 0.7175 - val_loss: 0.8494 - val_accuracy: 0.7071\n",
            "Epoch 5/10\n",
            "1250/1250 [==============================] - 88s 70ms/step - loss: 0.7344 - accuracy: 0.7447 - val_loss: 0.8282 - val_accuracy: 0.7162\n",
            "Epoch 6/10\n",
            "1250/1250 [==============================] - 88s 70ms/step - loss: 0.6645 - accuracy: 0.7674 - val_loss: 0.8504 - val_accuracy: 0.7130\n",
            "Epoch 7/10\n",
            "1250/1250 [==============================] - 92s 73ms/step - loss: 0.6052 - accuracy: 0.7881 - val_loss: 0.8474 - val_accuracy: 0.7140\n"
          ]
        }
      ]
    },
    {
      "cell_type": "code",
      "source": [
        "hy=m.fit(t_x,t_y,validation_data=(v_x,v_y),callbacks=[ck_p,es],epochs=3)\n",
        "#기존 학습을 유지하고 추가 에폭을 실행할 수 있다."
      ],
      "metadata": {
        "colab": {
          "base_uri": "https://localhost:8080/"
        },
        "id": "1sFp9zqJZwzB",
        "outputId": "b02d24d9-208f-4453-cb4c-04b83e67fbe8"
      },
      "execution_count": 50,
      "outputs": [
        {
          "output_type": "stream",
          "name": "stdout",
          "text": [
            "Epoch 1/3\n",
            "1250/1250 [==============================] - 88s 71ms/step - loss: 0.6591 - accuracy: 0.7697 - val_loss: 0.8544 - val_accuracy: 0.7096\n",
            "Epoch 2/3\n",
            "1250/1250 [==============================] - 88s 70ms/step - loss: 0.6023 - accuracy: 0.7905 - val_loss: 0.8439 - val_accuracy: 0.7163\n",
            "Epoch 3/3\n",
            "1250/1250 [==============================] - 88s 70ms/step - loss: 0.5511 - accuracy: 0.8093 - val_loss: 0.8371 - val_accuracy: 0.7276\n"
          ]
        }
      ]
    },
    {
      "cell_type": "code",
      "source": [
        "import matplotlib.pyplot as plt\n",
        "plt.plot(hy.history['loss'])\n",
        "plt.plot(hy.history['val_loss'])"
      ],
      "metadata": {
        "id": "LFy_Dp7DJOUG",
        "colab": {
          "base_uri": "https://localhost:8080/",
          "height": 283
        },
        "outputId": "233a41bd-8393-4f70-adcc-4d01312072b5"
      },
      "execution_count": 51,
      "outputs": [
        {
          "output_type": "execute_result",
          "data": {
            "text/plain": [
              "[<matplotlib.lines.Line2D at 0x7ff2b4ae6c10>]"
            ]
          },
          "metadata": {},
          "execution_count": 51
        },
        {
          "output_type": "display_data",
          "data": {
            "text/plain": [
              "<Figure size 432x288 with 1 Axes>"
            ],
            "image/png": "[encoded data removed]"
          },
          "metadata": {
            "needs_background": "light"
          }
        }
      ]
    },
    {
      "cell_type": "code",
      "source": [
        "t_x.shape, v_x.shape, t_y.shape, v_y.shape,            s_tt_x.shape,tt_y.shape"
      ],
      "metadata": {
        "id": "1wDwrzVGJwq4",
        "colab": {
          "base_uri": "https://localhost:8080/"
        },
        "outputId": "582e2183-6b9c-47d6-aa2d-157972dc75da"
      },
      "execution_count": 46,
      "outputs": [
        {
          "output_type": "execute_result",
          "data": {
            "text/plain": [
              "((40000, 32, 32, 3),\n",
              " (10000, 32, 32, 3),\n",
              " (40000, 10),\n",
              " (10000, 10),\n",
              " (10000, 32, 32, 3),\n",
              " (10000, 10))"
            ]
          },
          "metadata": {},
          "execution_count": 46
        }
      ]
    },
    {
      "cell_type": "code",
      "source": [
        "m.evaluate(t_x,t_y)"
      ],
      "metadata": {
        "id": "EE1ZcYHsJX40",
        "colab": {
          "base_uri": "https://localhost:8080/"
        },
        "outputId": "f5393346-c5c2-43bb-b232-e0761b8d7eba"
      },
      "execution_count": 47,
      "outputs": [
        {
          "output_type": "stream",
          "name": "stdout",
          "text": [
            "1250/1250 [==============================] - 25s 20ms/step - loss: 0.6319 - accuracy: 0.7819\n"
          ]
        },
        {
          "output_type": "execute_result",
          "data": {
            "text/plain": [
              "[0.6319335699081421, 0.7819499969482422]"
            ]
          },
          "metadata": {},
          "execution_count": 47
        }
      ]
    },
    {
      "cell_type": "code",
      "source": [
        "m.evaluate(v_x,v_y)"
      ],
      "metadata": {
        "id": "-8KuzB9fJcmU",
        "colab": {
          "base_uri": "https://localhost:8080/"
        },
        "outputId": "ba652daf-2fbc-4067-fcd4-2a716c631a0a"
      },
      "execution_count": 48,
      "outputs": [
        {
          "output_type": "stream",
          "name": "stdout",
          "text": [
            "313/313 [==============================] - 6s 19ms/step - loss: 0.8282 - accuracy: 0.7162\n"
          ]
        },
        {
          "output_type": "execute_result",
          "data": {
            "text/plain": [
              "[0.8281799554824829, 0.7161999940872192]"
            ]
          },
          "metadata": {},
          "execution_count": 48
        }
      ]
    },
    {
      "cell_type": "code",
      "source": [
        "m.evaluate(s_tt_x,tt_y)"
      ],
      "metadata": {
        "id": "CAZbsxt7Jd8S",
        "colab": {
          "base_uri": "https://localhost:8080/"
        },
        "outputId": "7b7c2850-2000-46f6-f3f0-271a5387d37e"
      },
      "execution_count": 49,
      "outputs": [
        {
          "output_type": "stream",
          "name": "stdout",
          "text": [
            "313/313 [==============================] - 6s 19ms/step - loss: 0.8321 - accuracy: 0.7126\n"
          ]
        },
        {
          "output_type": "execute_result",
          "data": {
            "text/plain": [
              "[0.8320986032485962, 0.7125999927520752]"
            ]
          },
          "metadata": {},
          "execution_count": 49
        }
      ]
    }
  ]
}
