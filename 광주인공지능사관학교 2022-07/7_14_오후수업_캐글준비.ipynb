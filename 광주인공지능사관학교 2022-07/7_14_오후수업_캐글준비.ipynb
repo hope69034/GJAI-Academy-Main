{
  "nbformat": 4,
  "nbformat_minor": 0,
  "metadata": {
    "colab": {
      "name": "7-14 오후수업 캐글준비",
      "provenance": [],
      "collapsed_sections": []
    },
    "kernelspec": {
      "name": "python3",
      "display_name": "Python 3"
    },
    "language_info": {
      "name": "python"
    }
  },
  "cells": [
    {
      "cell_type": "code",
      "execution_count": 1,
      "metadata": {
        "colab": {
          "base_uri": "https://localhost:8080/"
        },
        "id": "yIPU7liHeXwV",
        "outputId": "59cf640b-5a43-4efa-fd77-03f483d6678f"
      },
      "outputs": [
        {
          "output_type": "execute_result",
          "data": {
            "text/plain": [
              "array([[2, 0],\n",
              "       [1, 3]])"
            ]
          },
          "metadata": {},
          "execution_count": 1
        }
      ],
      "source": [
        "y_t=[1,0,1,1,0,1]\n",
        "y_p=[0,0,1,1,0,1]\n",
        "from sklearn.metrics import confusion_matrix\n",
        "confusion_matrix(y_t,y_p)#tn,fp,fn,tp"
      ]
    },
    {
      "cell_type": "code",
      "source": [
        "tn,fp,fn,tp=confusion_matrix(y_t,y_p).ravel()\n",
        "tn,fp,fn,tp"
      ],
      "metadata": {
        "colab": {
          "base_uri": "https://localhost:8080/"
        },
        "id": "2d9h37Qxf7Da",
        "outputId": "79d4fceb-b2af-4174-e723-b20538b2910e"
      },
      "execution_count": 2,
      "outputs": [
        {
          "output_type": "execute_result",
          "data": {
            "text/plain": [
              "(2, 0, 1, 3)"
            ]
          },
          "metadata": {},
          "execution_count": 2
        }
      ]
    },
    {
      "cell_type": "code",
      "source": [
        "(tn+tp)/(tn+fp+fn+tp)"
      ],
      "metadata": {
        "colab": {
          "base_uri": "https://localhost:8080/"
        },
        "id": "aU4mlGf2gw3j",
        "outputId": "3b6bc3a1-0ded-43f6-fe36-5afcd7e50c05"
      },
      "execution_count": 3,
      "outputs": [
        {
          "output_type": "execute_result",
          "data": {
            "text/plain": [
              "0.8333333333333334"
            ]
          },
          "metadata": {},
          "execution_count": 3
        }
      ]
    },
    {
      "cell_type": "code",
      "source": [
        "import numpy as np\n",
        "y_t=np.array([1,0,1,1,0,1])\n",
        "y_p=np.array([0,0,1,1,0,1])\n",
        "sum(y_t==y_p)/len(y_t)"
      ],
      "metadata": {
        "colab": {
          "base_uri": "https://localhost:8080/"
        },
        "id": "VcVZ7h7cgOuZ",
        "outputId": "be0aff9d-d598-46cf-aa66-8f875edf5bbd"
      },
      "execution_count": 4,
      "outputs": [
        {
          "output_type": "execute_result",
          "data": {
            "text/plain": [
              "0.8333333333333334"
            ]
          },
          "metadata": {},
          "execution_count": 4
        }
      ]
    },
    {
      "cell_type": "code",
      "source": [
        "from sklearn.metrics import accuracy_score, precision_score\n",
        "from sklearn.metrics import recall_score, f1_score"
      ],
      "metadata": {
        "id": "3qC5hFPDhA_y"
      },
      "execution_count": 5,
      "outputs": []
    },
    {
      "cell_type": "code",
      "source": [
        "accuracy_score(y_t,y_p)#정확도"
      ],
      "metadata": {
        "colab": {
          "base_uri": "https://localhost:8080/"
        },
        "id": "E140CeyehcGx",
        "outputId": "1eae43b1-0c5b-4b2c-f773-e71a686e0a00"
      },
      "execution_count": 6,
      "outputs": [
        {
          "output_type": "execute_result",
          "data": {
            "text/plain": [
              "0.8333333333333334"
            ]
          },
          "metadata": {},
          "execution_count": 6
        }
      ]
    },
    {
      "cell_type": "code",
      "source": [
        "precision_score(y_t,y_p)#정밀도"
      ],
      "metadata": {
        "colab": {
          "base_uri": "https://localhost:8080/"
        },
        "id": "MaNvhC6IhjhJ",
        "outputId": "60c880ca-dcbb-4164-9e3f-8610e748ce2f"
      },
      "execution_count": 7,
      "outputs": [
        {
          "output_type": "execute_result",
          "data": {
            "text/plain": [
              "1.0"
            ]
          },
          "metadata": {},
          "execution_count": 7
        }
      ]
    },
    {
      "cell_type": "code",
      "source": [
        "recall_score(y_t,y_p)#민감도"
      ],
      "metadata": {
        "colab": {
          "base_uri": "https://localhost:8080/"
        },
        "id": "t04TuSe8hrVJ",
        "outputId": "c516fcbe-6f15-4c31-996e-c0e11dc5cad7"
      },
      "execution_count": 8,
      "outputs": [
        {
          "output_type": "execute_result",
          "data": {
            "text/plain": [
              "0.75"
            ]
          },
          "metadata": {},
          "execution_count": 8
        }
      ]
    },
    {
      "cell_type": "code",
      "source": [
        "f1_score(y_t,y_p)#F1스코어"
      ],
      "metadata": {
        "colab": {
          "base_uri": "https://localhost:8080/"
        },
        "id": "IS0S99HJh2hI",
        "outputId": "954ac380-753e-41c1-b786-1db1ec62bd68"
      },
      "execution_count": 9,
      "outputs": [
        {
          "output_type": "execute_result",
          "data": {
            "text/plain": [
              "0.8571428571428571"
            ]
          },
          "metadata": {},
          "execution_count": 9
        }
      ]
    },
    {
      "cell_type": "code",
      "source": [
        "def s_f(z):\n",
        "  return 1/(1+np.exp(z))"
      ],
      "metadata": {
        "id": "pIoUQr5fieDT"
      },
      "execution_count": 10,
      "outputs": []
    },
    {
      "cell_type": "code",
      "source": [
        "def h_f(x,th):\n",
        "  z=(np.dot(-x,th))\n",
        "  return s_f(z)"
      ],
      "metadata": {
        "id": "tlt7dFzdi6AJ"
      },
      "execution_count": 11,
      "outputs": []
    },
    {
      "cell_type": "code",
      "source": [
        "def cost_f(y,x,th):\n",
        "  m=y.shape[0]\n",
        "  J= (-0.1/m)*(y.T.dot(np.log(h_f(x,th)))+(1-y).T.dot(np.log(1-h_f(x,th))))"
      ],
      "metadata": {
        "id": "emhcLIUPjkAZ"
      },
      "execution_count": 12,
      "outputs": []
    },
    {
      "cell_type": "code",
      "source": [
        "def min_gd(x,y,th,alpha=0.01,iterations=1000000):\n",
        "  m=y.size\n",
        "  cost_hy=[]\n",
        "  th_hy=[]\n",
        "\n",
        "  for _ in range(iterations):\n",
        "    o_th=th\n",
        "    for i in range(th.size):\n",
        "      p_m=x[:,i].reshape(x.shape[0],1)\n",
        "      delta=h_f(x,o_th)-y\n",
        "      grad_i=delta.T.dot(p_m)\n",
        "      th[i]=th[i]-(alpha*grad_i)\n",
        "  "
      ],
      "metadata": {
        "id": "vyTrTXPIlG-B"
      },
      "execution_count": 13,
      "outputs": []
    },
    {
      "cell_type": "code",
      "source": [
        "import pandas as pd\n",
        "data_url= \"http://www-stat.wharton.upenn.edu/~waterman/DataSets/uva.txt\"\n",
        "\n",
        "df = pd.read_table(data_url)\n",
        "df"
      ],
      "metadata": {
        "colab": {
          "base_uri": "https://localhost:8080/",
          "height": 424
        },
        "id": "m6aezEBfl6Th",
        "outputId": "062476f9-113d-453d-a744-0f0bd46d11be"
      },
      "execution_count": 14,
      "outputs": [
        {
          "output_type": "execute_result",
          "data": {
            "text/plain": [
              "           who  Newbie   Age  Gender Household Income Sexual Preference  \\\n",
              "0      id74364       0  54.0    Male           $50-74          Gay male   \n",
              "1      id84505       0  39.0  Female        Over $100      Heterosexual   \n",
              "2      id84509       1  49.0  Female           $40-49      Heterosexual   \n",
              "3      id87028       1  22.0  Female           $40-49      Heterosexual   \n",
              "4      id76087       0  20.0    Male           $30-39          Bisexual   \n",
              "...        ...     ...   ...     ...              ...               ...   \n",
              "19578  id83400       0  22.0    Male        Over $100      Heterosexual   \n",
              "19579  id72216       0  19.0    Male              NaN      Heterosexual   \n",
              "19580   id8654       0  49.0  Female           $50-74      Heterosexual   \n",
              "19581  id84503       1  42.0  Female           $50-74      Heterosexual   \n",
              "19582  id87674       0  24.0  Female           $50-74       Transgender   \n",
              "\n",
              "          Country Education Attainment Major Occupation Marital Status  \\\n",
              "0         Ontario         Some College         Computer          Other   \n",
              "1          Sweden         Professional            Other          Other   \n",
              "2      Washington         Some College       Management          Other   \n",
              "3         Florida         Some College         Computer        Married   \n",
              "4      New Jersey         Some College        Education         Single   \n",
              "...           ...                  ...              ...            ...   \n",
              "19578       Texas         Some College        Education         Single   \n",
              "19579  New Jersey         Some College        Education         Single   \n",
              "19580    Missouri             Doctoral        Education        Married   \n",
              "19581    Kentucky         Some College            Other        Married   \n",
              "19582  California              College         Computer         Single   \n",
              "\n",
              "      Years on Internet  \n",
              "0                4-6 yr  \n",
              "1                1-3 yr  \n",
              "2            Under 6 mo  \n",
              "3               6-12 mo  \n",
              "4                1-3 yr  \n",
              "...                 ...  \n",
              "19578            4-6 yr  \n",
              "19579            4-6 yr  \n",
              "19580            1-3 yr  \n",
              "19581        Under 6 mo  \n",
              "19582            1-3 yr  \n",
              "\n",
              "[19583 rows x 11 columns]"
            ],
            "text/html": [
              "\n",
              "  <div id=\"df-97b0d096-2913-410e-a0c9-c7bf6dcf0383\">\n",
              "    <div class=\"colab-df-container\">\n",
              "      <div>\n",
              "<style scoped>\n",
              "    .dataframe tbody tr th:only-of-type {\n",
              "        vertical-align: middle;\n",
              "    }\n",
              "\n",
              "    .dataframe tbody tr th {\n",
              "        vertical-align: top;\n",
              "    }\n",
              "\n",
              "    .dataframe thead th {\n",
              "        text-align: right;\n",
              "    }\n",
              "</style>\n",
              "<table border=\"1\" class=\"dataframe\">\n",
              "  <thead>\n",
              "    <tr style=\"text-align: right;\">\n",
              "      <th></th>\n",
              "      <th>who</th>\n",
              "      <th>Newbie</th>\n",
              "      <th>Age</th>\n",
              "      <th>Gender</th>\n",
              "      <th>Household Income</th>\n",
              "      <th>Sexual Preference</th>\n",
              "      <th>Country</th>\n",
              "      <th>Education Attainment</th>\n",
              "      <th>Major Occupation</th>\n",
              "      <th>Marital Status</th>\n",
              "      <th>Years on Internet</th>\n",
              "    </tr>\n",
              "  </thead>\n",
              "  <tbody>\n",
              "    <tr>\n",
              "      <th>0</th>\n",
              "      <td>id74364</td>\n",
              "      <td>0</td>\n",
              "      <td>54.0</td>\n",
              "      <td>Male</td>\n",
              "      <td>$50-74</td>\n",
              "      <td>Gay male</td>\n",
              "      <td>Ontario</td>\n",
              "      <td>Some College</td>\n",
              "      <td>Computer</td>\n",
              "      <td>Other</td>\n",
              "      <td>4-6 yr</td>\n",
              "    </tr>\n",
              "    <tr>\n",
              "      <th>1</th>\n",
              "      <td>id84505</td>\n",
              "      <td>0</td>\n",
              "      <td>39.0</td>\n",
              "      <td>Female</td>\n",
              "      <td>Over $100</td>\n",
              "      <td>Heterosexual</td>\n",
              "      <td>Sweden</td>\n",
              "      <td>Professional</td>\n",
              "      <td>Other</td>\n",
              "      <td>Other</td>\n",
              "      <td>1-3 yr</td>\n",
              "    </tr>\n",
              "    <tr>\n",
              "      <th>2</th>\n",
              "      <td>id84509</td>\n",
              "      <td>1</td>\n",
              "      <td>49.0</td>\n",
              "      <td>Female</td>\n",
              "      <td>$40-49</td>\n",
              "      <td>Heterosexual</td>\n",
              "      <td>Washington</td>\n",
              "      <td>Some College</td>\n",
              "      <td>Management</td>\n",
              "      <td>Other</td>\n",
              "      <td>Under 6 mo</td>\n",
              "    </tr>\n",
              "    <tr>\n",
              "      <th>3</th>\n",
              "      <td>id87028</td>\n",
              "      <td>1</td>\n",
              "      <td>22.0</td>\n",
              "      <td>Female</td>\n",
              "      <td>$40-49</td>\n",
              "      <td>Heterosexual</td>\n",
              "      <td>Florida</td>\n",
              "      <td>Some College</td>\n",
              "      <td>Computer</td>\n",
              "      <td>Married</td>\n",
              "      <td>6-12 mo</td>\n",
              "    </tr>\n",
              "    <tr>\n",
              "      <th>4</th>\n",
              "      <td>id76087</td>\n",
              "      <td>0</td>\n",
              "      <td>20.0</td>\n",
              "      <td>Male</td>\n",
              "      <td>$30-39</td>\n",
              "      <td>Bisexual</td>\n",
              "      <td>New Jersey</td>\n",
              "      <td>Some College</td>\n",
              "      <td>Education</td>\n",
              "      <td>Single</td>\n",
              "      <td>1-3 yr</td>\n",
              "    </tr>\n",
              "    <tr>\n",
              "      <th>...</th>\n",
              "      <td>...</td>\n",
              "      <td>...</td>\n",
              "      <td>...</td>\n",
              "      <td>...</td>\n",
              "      <td>...</td>\n",
              "      <td>...</td>\n",
              "      <td>...</td>\n",
              "      <td>...</td>\n",
              "      <td>...</td>\n",
              "      <td>...</td>\n",
              "      <td>...</td>\n",
              "    </tr>\n",
              "    <tr>\n",
              "      <th>19578</th>\n",
              "      <td>id83400</td>\n",
              "      <td>0</td>\n",
              "      <td>22.0</td>\n",
              "      <td>Male</td>\n",
              "      <td>Over $100</td>\n",
              "      <td>Heterosexual</td>\n",
              "      <td>Texas</td>\n",
              "      <td>Some College</td>\n",
              "      <td>Education</td>\n",
              "      <td>Single</td>\n",
              "      <td>4-6 yr</td>\n",
              "    </tr>\n",
              "    <tr>\n",
              "      <th>19579</th>\n",
              "      <td>id72216</td>\n",
              "      <td>0</td>\n",
              "      <td>19.0</td>\n",
              "      <td>Male</td>\n",
              "      <td>NaN</td>\n",
              "      <td>Heterosexual</td>\n",
              "      <td>New Jersey</td>\n",
              "      <td>Some College</td>\n",
              "      <td>Education</td>\n",
              "      <td>Single</td>\n",
              "      <td>4-6 yr</td>\n",
              "    </tr>\n",
              "    <tr>\n",
              "      <th>19580</th>\n",
              "      <td>id8654</td>\n",
              "      <td>0</td>\n",
              "      <td>49.0</td>\n",
              "      <td>Female</td>\n",
              "      <td>$50-74</td>\n",
              "      <td>Heterosexual</td>\n",
              "      <td>Missouri</td>\n",
              "      <td>Doctoral</td>\n",
              "      <td>Education</td>\n",
              "      <td>Married</td>\n",
              "      <td>1-3 yr</td>\n",
              "    </tr>\n",
              "    <tr>\n",
              "      <th>19581</th>\n",
              "      <td>id84503</td>\n",
              "      <td>1</td>\n",
              "      <td>42.0</td>\n",
              "      <td>Female</td>\n",
              "      <td>$50-74</td>\n",
              "      <td>Heterosexual</td>\n",
              "      <td>Kentucky</td>\n",
              "      <td>Some College</td>\n",
              "      <td>Other</td>\n",
              "      <td>Married</td>\n",
              "      <td>Under 6 mo</td>\n",
              "    </tr>\n",
              "    <tr>\n",
              "      <th>19582</th>\n",
              "      <td>id87674</td>\n",
              "      <td>0</td>\n",
              "      <td>24.0</td>\n",
              "      <td>Female</td>\n",
              "      <td>$50-74</td>\n",
              "      <td>Transgender</td>\n",
              "      <td>California</td>\n",
              "      <td>College</td>\n",
              "      <td>Computer</td>\n",
              "      <td>Single</td>\n",
              "      <td>1-3 yr</td>\n",
              "    </tr>\n",
              "  </tbody>\n",
              "</table>\n",
              "<p>19583 rows × 11 columns</p>\n",
              "</div>\n",
              "      <button class=\"colab-df-convert\" onclick=\"convertToInteractive('df-97b0d096-2913-410e-a0c9-c7bf6dcf0383')\"\n",
              "              title=\"Convert this dataframe to an interactive table.\"\n",
              "              style=\"display:none;\">\n",
              "        \n",
              "  <svg xmlns=\"http://www.w3.org/2000/svg\" height=\"24px\"viewBox=\"0 0 24 24\"\n",
              "       width=\"24px\">\n",
              "    <path d=\"M0 0h24v24H0V0z\" fill=\"none\"/>\n",
              "    <path d=\"M18.56 5.44l.94 2.06.94-2.06 2.06-.94-2.06-.94-.94-2.06-.94 2.06-2.06.94zm-11 1L8.5 8.5l.94-2.06 2.06-.94-2.06-.94L8.5 2.5l-.94 2.06-2.06.94zm10 10l.94 2.06.94-2.06 2.06-.94-2.06-.94-.94-2.06-.94 2.06-2.06.94z\"/><path d=\"M17.41 7.96l-1.37-1.37c-.4-.4-.92-.59-1.43-.59-.52 0-1.04.2-1.43.59L10.3 9.45l-7.72 7.72c-.78.78-.78 2.05 0 2.83L4 21.41c.39.39.9.59 1.41.59.51 0 1.02-.2 1.41-.59l7.78-7.78 2.81-2.81c.8-.78.8-2.07 0-2.86zM5.41 20L4 18.59l7.72-7.72 1.47 1.35L5.41 20z\"/>\n",
              "  </svg>\n",
              "      </button>\n",
              "      \n",
              "  <style>\n",
              "    .colab-df-container {\n",
              "      display:flex;\n",
              "      flex-wrap:wrap;\n",
              "      gap: 12px;\n",
              "    }\n",
              "\n",
              "    .colab-df-convert {\n",
              "      background-color: #E8F0FE;\n",
              "      border: none;\n",
              "      border-radius: 50%;\n",
              "      cursor: pointer;\n",
              "      display: none;\n",
              "      fill: #1967D2;\n",
              "      height: 32px;\n",
              "      padding: 0 0 0 0;\n",
              "      width: 32px;\n",
              "    }\n",
              "\n",
              "    .colab-df-convert:hover {\n",
              "      background-color: #E2EBFA;\n",
              "      box-shadow: 0px 1px 2px rgba(60, 64, 67, 0.3), 0px 1px 3px 1px rgba(60, 64, 67, 0.15);\n",
              "      fill: #174EA6;\n",
              "    }\n",
              "\n",
              "    [theme=dark] .colab-df-convert {\n",
              "      background-color: #3B4455;\n",
              "      fill: #D2E3FC;\n",
              "    }\n",
              "\n",
              "    [theme=dark] .colab-df-convert:hover {\n",
              "      background-color: #434B5C;\n",
              "      box-shadow: 0px 1px 3px 1px rgba(0, 0, 0, 0.15);\n",
              "      filter: drop-shadow(0px 1px 2px rgba(0, 0, 0, 0.3));\n",
              "      fill: #FFFFFF;\n",
              "    }\n",
              "  </style>\n",
              "\n",
              "      <script>\n",
              "        const buttonEl =\n",
              "          document.querySelector('#df-97b0d096-2913-410e-a0c9-c7bf6dcf0383 button.colab-df-convert');\n",
              "        buttonEl.style.display =\n",
              "          google.colab.kernel.accessAllowed ? 'block' : 'none';\n",
              "\n",
              "        async function convertToInteractive(key) {\n",
              "          const element = document.querySelector('#df-97b0d096-2913-410e-a0c9-c7bf6dcf0383');\n",
              "          const dataTable =\n",
              "            await google.colab.kernel.invokeFunction('convertToInteractive',\n",
              "                                                     [key], {});\n",
              "          if (!dataTable) return;\n",
              "\n",
              "          const docLinkHtml = 'Like what you see? Visit the ' +\n",
              "            '<a target=\"_blank\" href=https://colab.research.google.com/notebooks/data_table.ipynb>data table notebook</a>'\n",
              "            + ' to learn more about interactive tables.';\n",
              "          element.innerHTML = '';\n",
              "          dataTable['output_type'] = 'display_data';\n",
              "          await google.colab.output.renderOutput(dataTable, element);\n",
              "          const docLink = document.createElement('div');\n",
              "          docLink.innerHTML = docLinkHtml;\n",
              "          element.appendChild(docLink);\n",
              "        }\n",
              "      </script>\n",
              "    </div>\n",
              "  </div>\n",
              "  "
            ]
          },
          "metadata": {},
          "execution_count": 14
        }
      ]
    },
    {
      "cell_type": "code",
      "source": [
        "df.pop('who')\n",
        "df.pop('Country')\n",
        "df.pop('Years on Internet')\n",
        "df"
      ],
      "metadata": {
        "colab": {
          "base_uri": "https://localhost:8080/",
          "height": 424
        },
        "id": "AeKJJeeKqnTu",
        "outputId": "4e1c5777-05df-41fc-ff22-d8959f6975d2"
      },
      "execution_count": 15,
      "outputs": [
        {
          "output_type": "execute_result",
          "data": {
            "text/plain": [
              "       Newbie   Age  Gender Household Income Sexual Preference  \\\n",
              "0           0  54.0    Male           $50-74          Gay male   \n",
              "1           0  39.0  Female        Over $100      Heterosexual   \n",
              "2           1  49.0  Female           $40-49      Heterosexual   \n",
              "3           1  22.0  Female           $40-49      Heterosexual   \n",
              "4           0  20.0    Male           $30-39          Bisexual   \n",
              "...       ...   ...     ...              ...               ...   \n",
              "19578       0  22.0    Male        Over $100      Heterosexual   \n",
              "19579       0  19.0    Male              NaN      Heterosexual   \n",
              "19580       0  49.0  Female           $50-74      Heterosexual   \n",
              "19581       1  42.0  Female           $50-74      Heterosexual   \n",
              "19582       0  24.0  Female           $50-74       Transgender   \n",
              "\n",
              "      Education Attainment Major Occupation Marital Status  \n",
              "0             Some College         Computer          Other  \n",
              "1             Professional            Other          Other  \n",
              "2             Some College       Management          Other  \n",
              "3             Some College         Computer        Married  \n",
              "4             Some College        Education         Single  \n",
              "...                    ...              ...            ...  \n",
              "19578         Some College        Education         Single  \n",
              "19579         Some College        Education         Single  \n",
              "19580             Doctoral        Education        Married  \n",
              "19581         Some College            Other        Married  \n",
              "19582              College         Computer         Single  \n",
              "\n",
              "[19583 rows x 8 columns]"
            ],
            "text/html": [
              "\n",
              "  <div id=\"df-d9138f54-0648-497d-917f-d25a88ae7927\">\n",
              "    <div class=\"colab-df-container\">\n",
              "      <div>\n",
              "<style scoped>\n",
              "    .dataframe tbody tr th:only-of-type {\n",
              "        vertical-align: middle;\n",
              "    }\n",
              "\n",
              "    .dataframe tbody tr th {\n",
              "        vertical-align: top;\n",
              "    }\n",
              "\n",
              "    .dataframe thead th {\n",
              "        text-align: right;\n",
              "    }\n",
              "</style>\n",
              "<table border=\"1\" class=\"dataframe\">\n",
              "  <thead>\n",
              "    <tr style=\"text-align: right;\">\n",
              "      <th></th>\n",
              "      <th>Newbie</th>\n",
              "      <th>Age</th>\n",
              "      <th>Gender</th>\n",
              "      <th>Household Income</th>\n",
              "      <th>Sexual Preference</th>\n",
              "      <th>Education Attainment</th>\n",
              "      <th>Major Occupation</th>\n",
              "      <th>Marital Status</th>\n",
              "    </tr>\n",
              "  </thead>\n",
              "  <tbody>\n",
              "    <tr>\n",
              "      <th>0</th>\n",
              "      <td>0</td>\n",
              "      <td>54.0</td>\n",
              "      <td>Male</td>\n",
              "      <td>$50-74</td>\n",
              "      <td>Gay male</td>\n",
              "      <td>Some College</td>\n",
              "      <td>Computer</td>\n",
              "      <td>Other</td>\n",
              "    </tr>\n",
              "    <tr>\n",
              "      <th>1</th>\n",
              "      <td>0</td>\n",
              "      <td>39.0</td>\n",
              "      <td>Female</td>\n",
              "      <td>Over $100</td>\n",
              "      <td>Heterosexual</td>\n",
              "      <td>Professional</td>\n",
              "      <td>Other</td>\n",
              "      <td>Other</td>\n",
              "    </tr>\n",
              "    <tr>\n",
              "      <th>2</th>\n",
              "      <td>1</td>\n",
              "      <td>49.0</td>\n",
              "      <td>Female</td>\n",
              "      <td>$40-49</td>\n",
              "      <td>Heterosexual</td>\n",
              "      <td>Some College</td>\n",
              "      <td>Management</td>\n",
              "      <td>Other</td>\n",
              "    </tr>\n",
              "    <tr>\n",
              "      <th>3</th>\n",
              "      <td>1</td>\n",
              "      <td>22.0</td>\n",
              "      <td>Female</td>\n",
              "      <td>$40-49</td>\n",
              "      <td>Heterosexual</td>\n",
              "      <td>Some College</td>\n",
              "      <td>Computer</td>\n",
              "      <td>Married</td>\n",
              "    </tr>\n",
              "    <tr>\n",
              "      <th>4</th>\n",
              "      <td>0</td>\n",
              "      <td>20.0</td>\n",
              "      <td>Male</td>\n",
              "      <td>$30-39</td>\n",
              "      <td>Bisexual</td>\n",
              "      <td>Some College</td>\n",
              "      <td>Education</td>\n",
              "      <td>Single</td>\n",
              "    </tr>\n",
              "    <tr>\n",
              "      <th>...</th>\n",
              "      <td>...</td>\n",
              "      <td>...</td>\n",
              "      <td>...</td>\n",
              "      <td>...</td>\n",
              "      <td>...</td>\n",
              "      <td>...</td>\n",
              "      <td>...</td>\n",
              "      <td>...</td>\n",
              "    </tr>\n",
              "    <tr>\n",
              "      <th>19578</th>\n",
              "      <td>0</td>\n",
              "      <td>22.0</td>\n",
              "      <td>Male</td>\n",
              "      <td>Over $100</td>\n",
              "      <td>Heterosexual</td>\n",
              "      <td>Some College</td>\n",
              "      <td>Education</td>\n",
              "      <td>Single</td>\n",
              "    </tr>\n",
              "    <tr>\n",
              "      <th>19579</th>\n",
              "      <td>0</td>\n",
              "      <td>19.0</td>\n",
              "      <td>Male</td>\n",
              "      <td>NaN</td>\n",
              "      <td>Heterosexual</td>\n",
              "      <td>Some College</td>\n",
              "      <td>Education</td>\n",
              "      <td>Single</td>\n",
              "    </tr>\n",
              "    <tr>\n",
              "      <th>19580</th>\n",
              "      <td>0</td>\n",
              "      <td>49.0</td>\n",
              "      <td>Female</td>\n",
              "      <td>$50-74</td>\n",
              "      <td>Heterosexual</td>\n",
              "      <td>Doctoral</td>\n",
              "      <td>Education</td>\n",
              "      <td>Married</td>\n",
              "    </tr>\n",
              "    <tr>\n",
              "      <th>19581</th>\n",
              "      <td>1</td>\n",
              "      <td>42.0</td>\n",
              "      <td>Female</td>\n",
              "      <td>$50-74</td>\n",
              "      <td>Heterosexual</td>\n",
              "      <td>Some College</td>\n",
              "      <td>Other</td>\n",
              "      <td>Married</td>\n",
              "    </tr>\n",
              "    <tr>\n",
              "      <th>19582</th>\n",
              "      <td>0</td>\n",
              "      <td>24.0</td>\n",
              "      <td>Female</td>\n",
              "      <td>$50-74</td>\n",
              "      <td>Transgender</td>\n",
              "      <td>College</td>\n",
              "      <td>Computer</td>\n",
              "      <td>Single</td>\n",
              "    </tr>\n",
              "  </tbody>\n",
              "</table>\n",
              "<p>19583 rows × 8 columns</p>\n",
              "</div>\n",
              "      <button class=\"colab-df-convert\" onclick=\"convertToInteractive('df-d9138f54-0648-497d-917f-d25a88ae7927')\"\n",
              "              title=\"Convert this dataframe to an interactive table.\"\n",
              "              style=\"display:none;\">\n",
              "        \n",
              "  <svg xmlns=\"http://www.w3.org/2000/svg\" height=\"24px\"viewBox=\"0 0 24 24\"\n",
              "       width=\"24px\">\n",
              "    <path d=\"M0 0h24v24H0V0z\" fill=\"none\"/>\n",
              "    <path d=\"M18.56 5.44l.94 2.06.94-2.06 2.06-.94-2.06-.94-.94-2.06-.94 2.06-2.06.94zm-11 1L8.5 8.5l.94-2.06 2.06-.94-2.06-.94L8.5 2.5l-.94 2.06-2.06.94zm10 10l.94 2.06.94-2.06 2.06-.94-2.06-.94-.94-2.06-.94 2.06-2.06.94z\"/><path d=\"M17.41 7.96l-1.37-1.37c-.4-.4-.92-.59-1.43-.59-.52 0-1.04.2-1.43.59L10.3 9.45l-7.72 7.72c-.78.78-.78 2.05 0 2.83L4 21.41c.39.39.9.59 1.41.59.51 0 1.02-.2 1.41-.59l7.78-7.78 2.81-2.81c.8-.78.8-2.07 0-2.86zM5.41 20L4 18.59l7.72-7.72 1.47 1.35L5.41 20z\"/>\n",
              "  </svg>\n",
              "      </button>\n",
              "      \n",
              "  <style>\n",
              "    .colab-df-container {\n",
              "      display:flex;\n",
              "      flex-wrap:wrap;\n",
              "      gap: 12px;\n",
              "    }\n",
              "\n",
              "    .colab-df-convert {\n",
              "      background-color: #E8F0FE;\n",
              "      border: none;\n",
              "      border-radius: 50%;\n",
              "      cursor: pointer;\n",
              "      display: none;\n",
              "      fill: #1967D2;\n",
              "      height: 32px;\n",
              "      padding: 0 0 0 0;\n",
              "      width: 32px;\n",
              "    }\n",
              "\n",
              "    .colab-df-convert:hover {\n",
              "      background-color: #E2EBFA;\n",
              "      box-shadow: 0px 1px 2px rgba(60, 64, 67, 0.3), 0px 1px 3px 1px rgba(60, 64, 67, 0.15);\n",
              "      fill: #174EA6;\n",
              "    }\n",
              "\n",
              "    [theme=dark] .colab-df-convert {\n",
              "      background-color: #3B4455;\n",
              "      fill: #D2E3FC;\n",
              "    }\n",
              "\n",
              "    [theme=dark] .colab-df-convert:hover {\n",
              "      background-color: #434B5C;\n",
              "      box-shadow: 0px 1px 3px 1px rgba(0, 0, 0, 0.15);\n",
              "      filter: drop-shadow(0px 1px 2px rgba(0, 0, 0, 0.3));\n",
              "      fill: #FFFFFF;\n",
              "    }\n",
              "  </style>\n",
              "\n",
              "      <script>\n",
              "        const buttonEl =\n",
              "          document.querySelector('#df-d9138f54-0648-497d-917f-d25a88ae7927 button.colab-df-convert');\n",
              "        buttonEl.style.display =\n",
              "          google.colab.kernel.accessAllowed ? 'block' : 'none';\n",
              "\n",
              "        async function convertToInteractive(key) {\n",
              "          const element = document.querySelector('#df-d9138f54-0648-497d-917f-d25a88ae7927');\n",
              "          const dataTable =\n",
              "            await google.colab.kernel.invokeFunction('convertToInteractive',\n",
              "                                                     [key], {});\n",
              "          if (!dataTable) return;\n",
              "\n",
              "          const docLinkHtml = 'Like what you see? Visit the ' +\n",
              "            '<a target=\"_blank\" href=https://colab.research.google.com/notebooks/data_table.ipynb>data table notebook</a>'\n",
              "            + ' to learn more about interactive tables.';\n",
              "          element.innerHTML = '';\n",
              "          dataTable['output_type'] = 'display_data';\n",
              "          await google.colab.output.renderOutput(dataTable, element);\n",
              "          const docLink = document.createElement('div');\n",
              "          docLink.innerHTML = docLinkHtml;\n",
              "          element.appendChild(docLink);\n",
              "        }\n",
              "      </script>\n",
              "    </div>\n",
              "  </div>\n",
              "  "
            ]
          },
          "metadata": {},
          "execution_count": 15
        }
      ]
    },
    {
      "cell_type": "code",
      "source": [
        "df"
      ],
      "metadata": {
        "colab": {
          "base_uri": "https://localhost:8080/",
          "height": 424
        },
        "id": "CFuyXVzhrtT-",
        "outputId": "577164e6-dcf8-4c3f-d670-41ae63659375"
      },
      "execution_count": 16,
      "outputs": [
        {
          "output_type": "execute_result",
          "data": {
            "text/plain": [
              "       Newbie   Age  Gender Household Income Sexual Preference  \\\n",
              "0           0  54.0    Male           $50-74          Gay male   \n",
              "1           0  39.0  Female        Over $100      Heterosexual   \n",
              "2           1  49.0  Female           $40-49      Heterosexual   \n",
              "3           1  22.0  Female           $40-49      Heterosexual   \n",
              "4           0  20.0    Male           $30-39          Bisexual   \n",
              "...       ...   ...     ...              ...               ...   \n",
              "19578       0  22.0    Male        Over $100      Heterosexual   \n",
              "19579       0  19.0    Male              NaN      Heterosexual   \n",
              "19580       0  49.0  Female           $50-74      Heterosexual   \n",
              "19581       1  42.0  Female           $50-74      Heterosexual   \n",
              "19582       0  24.0  Female           $50-74       Transgender   \n",
              "\n",
              "      Education Attainment Major Occupation Marital Status  \n",
              "0             Some College         Computer          Other  \n",
              "1             Professional            Other          Other  \n",
              "2             Some College       Management          Other  \n",
              "3             Some College         Computer        Married  \n",
              "4             Some College        Education         Single  \n",
              "...                    ...              ...            ...  \n",
              "19578         Some College        Education         Single  \n",
              "19579         Some College        Education         Single  \n",
              "19580             Doctoral        Education        Married  \n",
              "19581         Some College            Other        Married  \n",
              "19582              College         Computer         Single  \n",
              "\n",
              "[19583 rows x 8 columns]"
            ],
            "text/html": [
              "\n",
              "  <div id=\"df-1c264482-c3d1-4f03-9647-422fefa85f9b\">\n",
              "    <div class=\"colab-df-container\">\n",
              "      <div>\n",
              "<style scoped>\n",
              "    .dataframe tbody tr th:only-of-type {\n",
              "        vertical-align: middle;\n",
              "    }\n",
              "\n",
              "    .dataframe tbody tr th {\n",
              "        vertical-align: top;\n",
              "    }\n",
              "\n",
              "    .dataframe thead th {\n",
              "        text-align: right;\n",
              "    }\n",
              "</style>\n",
              "<table border=\"1\" class=\"dataframe\">\n",
              "  <thead>\n",
              "    <tr style=\"text-align: right;\">\n",
              "      <th></th>\n",
              "      <th>Newbie</th>\n",
              "      <th>Age</th>\n",
              "      <th>Gender</th>\n",
              "      <th>Household Income</th>\n",
              "      <th>Sexual Preference</th>\n",
              "      <th>Education Attainment</th>\n",
              "      <th>Major Occupation</th>\n",
              "      <th>Marital Status</th>\n",
              "    </tr>\n",
              "  </thead>\n",
              "  <tbody>\n",
              "    <tr>\n",
              "      <th>0</th>\n",
              "      <td>0</td>\n",
              "      <td>54.0</td>\n",
              "      <td>Male</td>\n",
              "      <td>$50-74</td>\n",
              "      <td>Gay male</td>\n",
              "      <td>Some College</td>\n",
              "      <td>Computer</td>\n",
              "      <td>Other</td>\n",
              "    </tr>\n",
              "    <tr>\n",
              "      <th>1</th>\n",
              "      <td>0</td>\n",
              "      <td>39.0</td>\n",
              "      <td>Female</td>\n",
              "      <td>Over $100</td>\n",
              "      <td>Heterosexual</td>\n",
              "      <td>Professional</td>\n",
              "      <td>Other</td>\n",
              "      <td>Other</td>\n",
              "    </tr>\n",
              "    <tr>\n",
              "      <th>2</th>\n",
              "      <td>1</td>\n",
              "      <td>49.0</td>\n",
              "      <td>Female</td>\n",
              "      <td>$40-49</td>\n",
              "      <td>Heterosexual</td>\n",
              "      <td>Some College</td>\n",
              "      <td>Management</td>\n",
              "      <td>Other</td>\n",
              "    </tr>\n",
              "    <tr>\n",
              "      <th>3</th>\n",
              "      <td>1</td>\n",
              "      <td>22.0</td>\n",
              "      <td>Female</td>\n",
              "      <td>$40-49</td>\n",
              "      <td>Heterosexual</td>\n",
              "      <td>Some College</td>\n",
              "      <td>Computer</td>\n",
              "      <td>Married</td>\n",
              "    </tr>\n",
              "    <tr>\n",
              "      <th>4</th>\n",
              "      <td>0</td>\n",
              "      <td>20.0</td>\n",
              "      <td>Male</td>\n",
              "      <td>$30-39</td>\n",
              "      <td>Bisexual</td>\n",
              "      <td>Some College</td>\n",
              "      <td>Education</td>\n",
              "      <td>Single</td>\n",
              "    </tr>\n",
              "    <tr>\n",
              "      <th>...</th>\n",
              "      <td>...</td>\n",
              "      <td>...</td>\n",
              "      <td>...</td>\n",
              "      <td>...</td>\n",
              "      <td>...</td>\n",
              "      <td>...</td>\n",
              "      <td>...</td>\n",
              "      <td>...</td>\n",
              "    </tr>\n",
              "    <tr>\n",
              "      <th>19578</th>\n",
              "      <td>0</td>\n",
              "      <td>22.0</td>\n",
              "      <td>Male</td>\n",
              "      <td>Over $100</td>\n",
              "      <td>Heterosexual</td>\n",
              "      <td>Some College</td>\n",
              "      <td>Education</td>\n",
              "      <td>Single</td>\n",
              "    </tr>\n",
              "    <tr>\n",
              "      <th>19579</th>\n",
              "      <td>0</td>\n",
              "      <td>19.0</td>\n",
              "      <td>Male</td>\n",
              "      <td>NaN</td>\n",
              "      <td>Heterosexual</td>\n",
              "      <td>Some College</td>\n",
              "      <td>Education</td>\n",
              "      <td>Single</td>\n",
              "    </tr>\n",
              "    <tr>\n",
              "      <th>19580</th>\n",
              "      <td>0</td>\n",
              "      <td>49.0</td>\n",
              "      <td>Female</td>\n",
              "      <td>$50-74</td>\n",
              "      <td>Heterosexual</td>\n",
              "      <td>Doctoral</td>\n",
              "      <td>Education</td>\n",
              "      <td>Married</td>\n",
              "    </tr>\n",
              "    <tr>\n",
              "      <th>19581</th>\n",
              "      <td>1</td>\n",
              "      <td>42.0</td>\n",
              "      <td>Female</td>\n",
              "      <td>$50-74</td>\n",
              "      <td>Heterosexual</td>\n",
              "      <td>Some College</td>\n",
              "      <td>Other</td>\n",
              "      <td>Married</td>\n",
              "    </tr>\n",
              "    <tr>\n",
              "      <th>19582</th>\n",
              "      <td>0</td>\n",
              "      <td>24.0</td>\n",
              "      <td>Female</td>\n",
              "      <td>$50-74</td>\n",
              "      <td>Transgender</td>\n",
              "      <td>College</td>\n",
              "      <td>Computer</td>\n",
              "      <td>Single</td>\n",
              "    </tr>\n",
              "  </tbody>\n",
              "</table>\n",
              "<p>19583 rows × 8 columns</p>\n",
              "</div>\n",
              "      <button class=\"colab-df-convert\" onclick=\"convertToInteractive('df-1c264482-c3d1-4f03-9647-422fefa85f9b')\"\n",
              "              title=\"Convert this dataframe to an interactive table.\"\n",
              "              style=\"display:none;\">\n",
              "        \n",
              "  <svg xmlns=\"http://www.w3.org/2000/svg\" height=\"24px\"viewBox=\"0 0 24 24\"\n",
              "       width=\"24px\">\n",
              "    <path d=\"M0 0h24v24H0V0z\" fill=\"none\"/>\n",
              "    <path d=\"M18.56 5.44l.94 2.06.94-2.06 2.06-.94-2.06-.94-.94-2.06-.94 2.06-2.06.94zm-11 1L8.5 8.5l.94-2.06 2.06-.94-2.06-.94L8.5 2.5l-.94 2.06-2.06.94zm10 10l.94 2.06.94-2.06 2.06-.94-2.06-.94-.94-2.06-.94 2.06-2.06.94z\"/><path d=\"M17.41 7.96l-1.37-1.37c-.4-.4-.92-.59-1.43-.59-.52 0-1.04.2-1.43.59L10.3 9.45l-7.72 7.72c-.78.78-.78 2.05 0 2.83L4 21.41c.39.39.9.59 1.41.59.51 0 1.02-.2 1.41-.59l7.78-7.78 2.81-2.81c.8-.78.8-2.07 0-2.86zM5.41 20L4 18.59l7.72-7.72 1.47 1.35L5.41 20z\"/>\n",
              "  </svg>\n",
              "      </button>\n",
              "      \n",
              "  <style>\n",
              "    .colab-df-container {\n",
              "      display:flex;\n",
              "      flex-wrap:wrap;\n",
              "      gap: 12px;\n",
              "    }\n",
              "\n",
              "    .colab-df-convert {\n",
              "      background-color: #E8F0FE;\n",
              "      border: none;\n",
              "      border-radius: 50%;\n",
              "      cursor: pointer;\n",
              "      display: none;\n",
              "      fill: #1967D2;\n",
              "      height: 32px;\n",
              "      padding: 0 0 0 0;\n",
              "      width: 32px;\n",
              "    }\n",
              "\n",
              "    .colab-df-convert:hover {\n",
              "      background-color: #E2EBFA;\n",
              "      box-shadow: 0px 1px 2px rgba(60, 64, 67, 0.3), 0px 1px 3px 1px rgba(60, 64, 67, 0.15);\n",
              "      fill: #174EA6;\n",
              "    }\n",
              "\n",
              "    [theme=dark] .colab-df-convert {\n",
              "      background-color: #3B4455;\n",
              "      fill: #D2E3FC;\n",
              "    }\n",
              "\n",
              "    [theme=dark] .colab-df-convert:hover {\n",
              "      background-color: #434B5C;\n",
              "      box-shadow: 0px 1px 3px 1px rgba(0, 0, 0, 0.15);\n",
              "      filter: drop-shadow(0px 1px 2px rgba(0, 0, 0, 0.3));\n",
              "      fill: #FFFFFF;\n",
              "    }\n",
              "  </style>\n",
              "\n",
              "      <script>\n",
              "        const buttonEl =\n",
              "          document.querySelector('#df-1c264482-c3d1-4f03-9647-422fefa85f9b button.colab-df-convert');\n",
              "        buttonEl.style.display =\n",
              "          google.colab.kernel.accessAllowed ? 'block' : 'none';\n",
              "\n",
              "        async function convertToInteractive(key) {\n",
              "          const element = document.querySelector('#df-1c264482-c3d1-4f03-9647-422fefa85f9b');\n",
              "          const dataTable =\n",
              "            await google.colab.kernel.invokeFunction('convertToInteractive',\n",
              "                                                     [key], {});\n",
              "          if (!dataTable) return;\n",
              "\n",
              "          const docLinkHtml = 'Like what you see? Visit the ' +\n",
              "            '<a target=\"_blank\" href=https://colab.research.google.com/notebooks/data_table.ipynb>data table notebook</a>'\n",
              "            + ' to learn more about interactive tables.';\n",
              "          element.innerHTML = '';\n",
              "          dataTable['output_type'] = 'display_data';\n",
              "          await google.colab.output.renderOutput(dataTable, element);\n",
              "          const docLink = document.createElement('div');\n",
              "          docLink.innerHTML = docLinkHtml;\n",
              "          element.appendChild(docLink);\n",
              "        }\n",
              "      </script>\n",
              "    </div>\n",
              "  </div>\n",
              "  "
            ]
          },
          "metadata": {},
          "execution_count": 16
        }
      ]
    },
    {
      "cell_type": "code",
      "source": [
        "df.dtypes"
      ],
      "metadata": {
        "colab": {
          "base_uri": "https://localhost:8080/"
        },
        "id": "ocyvhXBWr5RF",
        "outputId": "1fe9d391-981d-43bf-801c-c87b7db7871d"
      },
      "execution_count": 17,
      "outputs": [
        {
          "output_type": "execute_result",
          "data": {
            "text/plain": [
              "Newbie                    int64\n",
              "Age                     float64\n",
              "Gender                   object\n",
              "Household Income         object\n",
              "Sexual Preference        object\n",
              "Education Attainment     object\n",
              "Major Occupation         object\n",
              "Marital Status           object\n",
              "dtype: object"
            ]
          },
          "metadata": {},
          "execution_count": 17
        }
      ]
    },
    {
      "cell_type": "code",
      "source": [
        "d=df[['Gender']]\n",
        "d['Household Income ']=df['Household Income']"
      ],
      "metadata": {
        "colab": {
          "base_uri": "https://localhost:8080/"
        },
        "id": "iVubmho3skKt",
        "outputId": "ec304dbe-5534-4096-bb44-06996229cd9f"
      },
      "execution_count": 18,
      "outputs": [
        {
          "output_type": "stream",
          "name": "stderr",
          "text": [
            "/usr/local/lib/python3.7/dist-packages/ipykernel_launcher.py:2: SettingWithCopyWarning: \n",
            "A value is trying to be set on a copy of a slice from a DataFrame.\n",
            "Try using .loc[row_indexer,col_indexer] = value instead\n",
            "\n",
            "See the caveats in the documentation: https://pandas.pydata.org/pandas-docs/stable/user_guide/indexing.html#returning-a-view-versus-a-copy\n",
            "  \n"
          ]
        }
      ]
    },
    {
      "cell_type": "code",
      "source": [
        "d.dtypes"
      ],
      "metadata": {
        "colab": {
          "base_uri": "https://localhost:8080/"
        },
        "id": "SGuNhlKcsTuN",
        "outputId": "311ea34d-8bdf-4ead-d4f9-b42298f7b700"
      },
      "execution_count": 19,
      "outputs": [
        {
          "output_type": "execute_result",
          "data": {
            "text/plain": [
              "Gender               object\n",
              "Household Income     object\n",
              "dtype: object"
            ]
          },
          "metadata": {},
          "execution_count": 19
        }
      ]
    },
    {
      "cell_type": "code",
      "source": [
        "d['Gender']=d['Gender'].astype('category')"
      ],
      "metadata": {
        "colab": {
          "base_uri": "https://localhost:8080/"
        },
        "id": "ZTuGMOqTs8Rl",
        "outputId": "1f454cc2-ce51-439d-afaf-9042b8083e6b"
      },
      "execution_count": 20,
      "outputs": [
        {
          "output_type": "stream",
          "name": "stderr",
          "text": [
            "/usr/local/lib/python3.7/dist-packages/ipykernel_launcher.py:1: SettingWithCopyWarning: \n",
            "A value is trying to be set on a copy of a slice from a DataFrame.\n",
            "Try using .loc[row_indexer,col_indexer] = value instead\n",
            "\n",
            "See the caveats in the documentation: https://pandas.pydata.org/pandas-docs/stable/user_guide/indexing.html#returning-a-view-versus-a-copy\n",
            "  \"\"\"Entry point for launching an IPython kernel.\n"
          ]
        }
      ]
    },
    {
      "cell_type": "code",
      "source": [
        "d.dtypes"
      ],
      "metadata": {
        "colab": {
          "base_uri": "https://localhost:8080/"
        },
        "id": "FNdq2DvWtQdl",
        "outputId": "a6d576b4-c072-4f7f-cca3-f939bd6fa6cf"
      },
      "execution_count": 21,
      "outputs": [
        {
          "output_type": "execute_result",
          "data": {
            "text/plain": [
              "Gender               category\n",
              "Household Income       object\n",
              "dtype: object"
            ]
          },
          "metadata": {},
          "execution_count": 21
        }
      ]
    },
    {
      "cell_type": "code",
      "source": [
        "d_o_h=pd.get_dummies(d)"
      ],
      "metadata": {
        "id": "3nxtZheYtXDo"
      },
      "execution_count": 22,
      "outputs": []
    },
    {
      "cell_type": "code",
      "source": [
        "d_o_h.dtypes"
      ],
      "metadata": {
        "colab": {
          "base_uri": "https://localhost:8080/"
        },
        "id": "pO2NoGl-tZo_",
        "outputId": "4ce71a99-e0e7-4d19-a280-5ddde1fa01ff"
      },
      "execution_count": 23,
      "outputs": [
        {
          "output_type": "execute_result",
          "data": {
            "text/plain": [
              "Gender_Female                  uint8\n",
              "Gender_Male                    uint8\n",
              "Household Income _$10-19       uint8\n",
              "Household Income _$20-29       uint8\n",
              "Household Income _$30-39       uint8\n",
              "Household Income _$40-49       uint8\n",
              "Household Income _$50-74       uint8\n",
              "Household Income _$75-99       uint8\n",
              "Household Income _Over $100    uint8\n",
              "Household Income _Under $10    uint8\n",
              "dtype: object"
            ]
          },
          "metadata": {},
          "execution_count": 23
        }
      ]
    },
    {
      "cell_type": "code",
      "source": [
        "df_o_h=pd.get_dummies(df)\n",
        "df_o_h.shape"
      ],
      "metadata": {
        "colab": {
          "base_uri": "https://localhost:8080/"
        },
        "id": "U4RSGqu_rcG3",
        "outputId": "5cea07e4-34d2-4477-f67c-2603c3bfe4d8"
      },
      "execution_count": 24,
      "outputs": [
        {
          "output_type": "execute_result",
          "data": {
            "text/plain": [
              "(19583, 38)"
            ]
          },
          "metadata": {},
          "execution_count": 24
        }
      ]
    },
    {
      "cell_type": "code",
      "source": [
        "df_o_h"
      ],
      "metadata": {
        "colab": {
          "base_uri": "https://localhost:8080/",
          "height": 522
        },
        "id": "qXJprVrEryCd",
        "outputId": "355099b8-5c8d-44b8-8cb5-a436ae80dfcd"
      },
      "execution_count": 25,
      "outputs": [
        {
          "output_type": "execute_result",
          "data": {
            "text/plain": [
              "       Newbie   Age  Gender_Female  Gender_Male  Household Income_$10-19  \\\n",
              "0           0  54.0              0            1                        0   \n",
              "1           0  39.0              1            0                        0   \n",
              "2           1  49.0              1            0                        0   \n",
              "3           1  22.0              1            0                        0   \n",
              "4           0  20.0              0            1                        0   \n",
              "...       ...   ...            ...          ...                      ...   \n",
              "19578       0  22.0              0            1                        0   \n",
              "19579       0  19.0              0            1                        0   \n",
              "19580       0  49.0              1            0                        0   \n",
              "19581       1  42.0              1            0                        0   \n",
              "19582       0  24.0              1            0                        0   \n",
              "\n",
              "       Household Income_$20-29  Household Income_$30-39  \\\n",
              "0                            0                        0   \n",
              "1                            0                        0   \n",
              "2                            0                        0   \n",
              "3                            0                        0   \n",
              "4                            0                        1   \n",
              "...                        ...                      ...   \n",
              "19578                        0                        0   \n",
              "19579                        0                        0   \n",
              "19580                        0                        0   \n",
              "19581                        0                        0   \n",
              "19582                        0                        0   \n",
              "\n",
              "       Household Income_$40-49  Household Income_$50-74  \\\n",
              "0                            0                        1   \n",
              "1                            0                        0   \n",
              "2                            1                        0   \n",
              "3                            1                        0   \n",
              "4                            0                        0   \n",
              "...                        ...                      ...   \n",
              "19578                        0                        0   \n",
              "19579                        0                        0   \n",
              "19580                        0                        1   \n",
              "19581                        0                        1   \n",
              "19582                        0                        1   \n",
              "\n",
              "       Household Income_$75-99  ...  Major Occupation_Education  \\\n",
              "0                            0  ...                           0   \n",
              "1                            0  ...                           0   \n",
              "2                            0  ...                           0   \n",
              "3                            0  ...                           0   \n",
              "4                            0  ...                           1   \n",
              "...                        ...  ...                         ...   \n",
              "19578                        0  ...                           1   \n",
              "19579                        0  ...                           1   \n",
              "19580                        0  ...                           1   \n",
              "19581                        0  ...                           0   \n",
              "19582                        0  ...                           0   \n",
              "\n",
              "       Major Occupation_Management  Major Occupation_Other  \\\n",
              "0                                0                       0   \n",
              "1                                0                       1   \n",
              "2                                1                       0   \n",
              "3                                0                       0   \n",
              "4                                0                       0   \n",
              "...                            ...                     ...   \n",
              "19578                            0                       0   \n",
              "19579                            0                       0   \n",
              "19580                            0                       0   \n",
              "19581                            0                       1   \n",
              "19582                            0                       0   \n",
              "\n",
              "       Major Occupation_Professional  Marital Status_Divorced  \\\n",
              "0                                  0                        0   \n",
              "1                                  0                        0   \n",
              "2                                  0                        0   \n",
              "3                                  0                        0   \n",
              "4                                  0                        0   \n",
              "...                              ...                      ...   \n",
              "19578                              0                        0   \n",
              "19579                              0                        0   \n",
              "19580                              0                        0   \n",
              "19581                              0                        0   \n",
              "19582                              0                        0   \n",
              "\n",
              "       Marital Status_Married  Marital Status_Other  Marital Status_Separated  \\\n",
              "0                           0                     1                         0   \n",
              "1                           0                     1                         0   \n",
              "2                           0                     1                         0   \n",
              "3                           1                     0                         0   \n",
              "4                           0                     0                         0   \n",
              "...                       ...                   ...                       ...   \n",
              "19578                       0                     0                         0   \n",
              "19579                       0                     0                         0   \n",
              "19580                       1                     0                         0   \n",
              "19581                       1                     0                         0   \n",
              "19582                       0                     0                         0   \n",
              "\n",
              "       Marital Status_Single  Marital Status_Widowed  \n",
              "0                          0                       0  \n",
              "1                          0                       0  \n",
              "2                          0                       0  \n",
              "3                          0                       0  \n",
              "4                          1                       0  \n",
              "...                      ...                     ...  \n",
              "19578                      1                       0  \n",
              "19579                      1                       0  \n",
              "19580                      0                       0  \n",
              "19581                      0                       0  \n",
              "19582                      1                       0  \n",
              "\n",
              "[19583 rows x 38 columns]"
            ],
            "text/html": [
              "\n",
              "  <div id=\"df-e75ac8bf-b3ca-4107-ab78-9c3523073d8c\">\n",
              "    <div class=\"colab-df-container\">\n",
              "      <div>\n",
              "<style scoped>\n",
              "    .dataframe tbody tr th:only-of-type {\n",
              "        vertical-align: middle;\n",
              "    }\n",
              "\n",
              "    .dataframe tbody tr th {\n",
              "        vertical-align: top;\n",
              "    }\n",
              "\n",
              "    .dataframe thead th {\n",
              "        text-align: right;\n",
              "    }\n",
              "</style>\n",
              "<table border=\"1\" class=\"dataframe\">\n",
              "  <thead>\n",
              "    <tr style=\"text-align: right;\">\n",
              "      <th></th>\n",
              "      <th>Newbie</th>\n",
              "      <th>Age</th>\n",
              "      <th>Gender_Female</th>\n",
              "      <th>Gender_Male</th>\n",
              "      <th>Household Income_$10-19</th>\n",
              "      <th>Household Income_$20-29</th>\n",
              "      <th>Household Income_$30-39</th>\n",
              "      <th>Household Income_$40-49</th>\n",
              "      <th>Household Income_$50-74</th>\n",
              "      <th>Household Income_$75-99</th>\n",
              "      <th>...</th>\n",
              "      <th>Major Occupation_Education</th>\n",
              "      <th>Major Occupation_Management</th>\n",
              "      <th>Major Occupation_Other</th>\n",
              "      <th>Major Occupation_Professional</th>\n",
              "      <th>Marital Status_Divorced</th>\n",
              "      <th>Marital Status_Married</th>\n",
              "      <th>Marital Status_Other</th>\n",
              "      <th>Marital Status_Separated</th>\n",
              "      <th>Marital Status_Single</th>\n",
              "      <th>Marital Status_Widowed</th>\n",
              "    </tr>\n",
              "  </thead>\n",
              "  <tbody>\n",
              "    <tr>\n",
              "      <th>0</th>\n",
              "      <td>0</td>\n",
              "      <td>54.0</td>\n",
              "      <td>0</td>\n",
              "      <td>1</td>\n",
              "      <td>0</td>\n",
              "      <td>0</td>\n",
              "      <td>0</td>\n",
              "      <td>0</td>\n",
              "      <td>1</td>\n",
              "      <td>0</td>\n",
              "      <td>...</td>\n",
              "      <td>0</td>\n",
              "      <td>0</td>\n",
              "      <td>0</td>\n",
              "      <td>0</td>\n",
              "      <td>0</td>\n",
              "      <td>0</td>\n",
              "      <td>1</td>\n",
              "      <td>0</td>\n",
              "      <td>0</td>\n",
              "      <td>0</td>\n",
              "    </tr>\n",
              "    <tr>\n",
              "      <th>1</th>\n",
              "      <td>0</td>\n",
              "      <td>39.0</td>\n",
              "      <td>1</td>\n",
              "      <td>0</td>\n",
              "      <td>0</td>\n",
              "      <td>0</td>\n",
              "      <td>0</td>\n",
              "      <td>0</td>\n",
              "      <td>0</td>\n",
              "      <td>0</td>\n",
              "      <td>...</td>\n",
              "      <td>0</td>\n",
              "      <td>0</td>\n",
              "      <td>1</td>\n",
              "      <td>0</td>\n",
              "      <td>0</td>\n",
              "      <td>0</td>\n",
              "      <td>1</td>\n",
              "      <td>0</td>\n",
              "      <td>0</td>\n",
              "      <td>0</td>\n",
              "    </tr>\n",
              "    <tr>\n",
              "      <th>2</th>\n",
              "      <td>1</td>\n",
              "      <td>49.0</td>\n",
              "      <td>1</td>\n",
              "      <td>0</td>\n",
              "      <td>0</td>\n",
              "      <td>0</td>\n",
              "      <td>0</td>\n",
              "      <td>1</td>\n",
              "      <td>0</td>\n",
              "      <td>0</td>\n",
              "      <td>...</td>\n",
              "      <td>0</td>\n",
              "      <td>1</td>\n",
              "      <td>0</td>\n",
              "      <td>0</td>\n",
              "      <td>0</td>\n",
              "      <td>0</td>\n",
              "      <td>1</td>\n",
              "      <td>0</td>\n",
              "      <td>0</td>\n",
              "      <td>0</td>\n",
              "    </tr>\n",
              "    <tr>\n",
              "      <th>3</th>\n",
              "      <td>1</td>\n",
              "      <td>22.0</td>\n",
              "      <td>1</td>\n",
              "      <td>0</td>\n",
              "      <td>0</td>\n",
              "      <td>0</td>\n",
              "      <td>0</td>\n",
              "      <td>1</td>\n",
              "      <td>0</td>\n",
              "      <td>0</td>\n",
              "      <td>...</td>\n",
              "      <td>0</td>\n",
              "      <td>0</td>\n",
              "      <td>0</td>\n",
              "      <td>0</td>\n",
              "      <td>0</td>\n",
              "      <td>1</td>\n",
              "      <td>0</td>\n",
              "      <td>0</td>\n",
              "      <td>0</td>\n",
              "      <td>0</td>\n",
              "    </tr>\n",
              "    <tr>\n",
              "      <th>4</th>\n",
              "      <td>0</td>\n",
              "      <td>20.0</td>\n",
              "      <td>0</td>\n",
              "      <td>1</td>\n",
              "      <td>0</td>\n",
              "      <td>0</td>\n",
              "      <td>1</td>\n",
              "      <td>0</td>\n",
              "      <td>0</td>\n",
              "      <td>0</td>\n",
              "      <td>...</td>\n",
              "      <td>1</td>\n",
              "      <td>0</td>\n",
              "      <td>0</td>\n",
              "      <td>0</td>\n",
              "      <td>0</td>\n",
              "      <td>0</td>\n",
              "      <td>0</td>\n",
              "      <td>0</td>\n",
              "      <td>1</td>\n",
              "      <td>0</td>\n",
              "    </tr>\n",
              "    <tr>\n",
              "      <th>...</th>\n",
              "      <td>...</td>\n",
              "      <td>...</td>\n",
              "      <td>...</td>\n",
              "      <td>...</td>\n",
              "      <td>...</td>\n",
              "      <td>...</td>\n",
              "      <td>...</td>\n",
              "      <td>...</td>\n",
              "      <td>...</td>\n",
              "      <td>...</td>\n",
              "      <td>...</td>\n",
              "      <td>...</td>\n",
              "      <td>...</td>\n",
              "      <td>...</td>\n",
              "      <td>...</td>\n",
              "      <td>...</td>\n",
              "      <td>...</td>\n",
              "      <td>...</td>\n",
              "      <td>...</td>\n",
              "      <td>...</td>\n",
              "      <td>...</td>\n",
              "    </tr>\n",
              "    <tr>\n",
              "      <th>19578</th>\n",
              "      <td>0</td>\n",
              "      <td>22.0</td>\n",
              "      <td>0</td>\n",
              "      <td>1</td>\n",
              "      <td>0</td>\n",
              "      <td>0</td>\n",
              "      <td>0</td>\n",
              "      <td>0</td>\n",
              "      <td>0</td>\n",
              "      <td>0</td>\n",
              "      <td>...</td>\n",
              "      <td>1</td>\n",
              "      <td>0</td>\n",
              "      <td>0</td>\n",
              "      <td>0</td>\n",
              "      <td>0</td>\n",
              "      <td>0</td>\n",
              "      <td>0</td>\n",
              "      <td>0</td>\n",
              "      <td>1</td>\n",
              "      <td>0</td>\n",
              "    </tr>\n",
              "    <tr>\n",
              "      <th>19579</th>\n",
              "      <td>0</td>\n",
              "      <td>19.0</td>\n",
              "      <td>0</td>\n",
              "      <td>1</td>\n",
              "      <td>0</td>\n",
              "      <td>0</td>\n",
              "      <td>0</td>\n",
              "      <td>0</td>\n",
              "      <td>0</td>\n",
              "      <td>0</td>\n",
              "      <td>...</td>\n",
              "      <td>1</td>\n",
              "      <td>0</td>\n",
              "      <td>0</td>\n",
              "      <td>0</td>\n",
              "      <td>0</td>\n",
              "      <td>0</td>\n",
              "      <td>0</td>\n",
              "      <td>0</td>\n",
              "      <td>1</td>\n",
              "      <td>0</td>\n",
              "    </tr>\n",
              "    <tr>\n",
              "      <th>19580</th>\n",
              "      <td>0</td>\n",
              "      <td>49.0</td>\n",
              "      <td>1</td>\n",
              "      <td>0</td>\n",
              "      <td>0</td>\n",
              "      <td>0</td>\n",
              "      <td>0</td>\n",
              "      <td>0</td>\n",
              "      <td>1</td>\n",
              "      <td>0</td>\n",
              "      <td>...</td>\n",
              "      <td>1</td>\n",
              "      <td>0</td>\n",
              "      <td>0</td>\n",
              "      <td>0</td>\n",
              "      <td>0</td>\n",
              "      <td>1</td>\n",
              "      <td>0</td>\n",
              "      <td>0</td>\n",
              "      <td>0</td>\n",
              "      <td>0</td>\n",
              "    </tr>\n",
              "    <tr>\n",
              "      <th>19581</th>\n",
              "      <td>1</td>\n",
              "      <td>42.0</td>\n",
              "      <td>1</td>\n",
              "      <td>0</td>\n",
              "      <td>0</td>\n",
              "      <td>0</td>\n",
              "      <td>0</td>\n",
              "      <td>0</td>\n",
              "      <td>1</td>\n",
              "      <td>0</td>\n",
              "      <td>...</td>\n",
              "      <td>0</td>\n",
              "      <td>0</td>\n",
              "      <td>1</td>\n",
              "      <td>0</td>\n",
              "      <td>0</td>\n",
              "      <td>1</td>\n",
              "      <td>0</td>\n",
              "      <td>0</td>\n",
              "      <td>0</td>\n",
              "      <td>0</td>\n",
              "    </tr>\n",
              "    <tr>\n",
              "      <th>19582</th>\n",
              "      <td>0</td>\n",
              "      <td>24.0</td>\n",
              "      <td>1</td>\n",
              "      <td>0</td>\n",
              "      <td>0</td>\n",
              "      <td>0</td>\n",
              "      <td>0</td>\n",
              "      <td>0</td>\n",
              "      <td>1</td>\n",
              "      <td>0</td>\n",
              "      <td>...</td>\n",
              "      <td>0</td>\n",
              "      <td>0</td>\n",
              "      <td>0</td>\n",
              "      <td>0</td>\n",
              "      <td>0</td>\n",
              "      <td>0</td>\n",
              "      <td>0</td>\n",
              "      <td>0</td>\n",
              "      <td>1</td>\n",
              "      <td>0</td>\n",
              "    </tr>\n",
              "  </tbody>\n",
              "</table>\n",
              "<p>19583 rows × 38 columns</p>\n",
              "</div>\n",
              "      <button class=\"colab-df-convert\" onclick=\"convertToInteractive('df-e75ac8bf-b3ca-4107-ab78-9c3523073d8c')\"\n",
              "              title=\"Convert this dataframe to an interactive table.\"\n",
              "              style=\"display:none;\">\n",
              "        \n",
              "  <svg xmlns=\"http://www.w3.org/2000/svg\" height=\"24px\"viewBox=\"0 0 24 24\"\n",
              "       width=\"24px\">\n",
              "    <path d=\"M0 0h24v24H0V0z\" fill=\"none\"/>\n",
              "    <path d=\"M18.56 5.44l.94 2.06.94-2.06 2.06-.94-2.06-.94-.94-2.06-.94 2.06-2.06.94zm-11 1L8.5 8.5l.94-2.06 2.06-.94-2.06-.94L8.5 2.5l-.94 2.06-2.06.94zm10 10l.94 2.06.94-2.06 2.06-.94-2.06-.94-.94-2.06-.94 2.06-2.06.94z\"/><path d=\"M17.41 7.96l-1.37-1.37c-.4-.4-.92-.59-1.43-.59-.52 0-1.04.2-1.43.59L10.3 9.45l-7.72 7.72c-.78.78-.78 2.05 0 2.83L4 21.41c.39.39.9.59 1.41.59.51 0 1.02-.2 1.41-.59l7.78-7.78 2.81-2.81c.8-.78.8-2.07 0-2.86zM5.41 20L4 18.59l7.72-7.72 1.47 1.35L5.41 20z\"/>\n",
              "  </svg>\n",
              "      </button>\n",
              "      \n",
              "  <style>\n",
              "    .colab-df-container {\n",
              "      display:flex;\n",
              "      flex-wrap:wrap;\n",
              "      gap: 12px;\n",
              "    }\n",
              "\n",
              "    .colab-df-convert {\n",
              "      background-color: #E8F0FE;\n",
              "      border: none;\n",
              "      border-radius: 50%;\n",
              "      cursor: pointer;\n",
              "      display: none;\n",
              "      fill: #1967D2;\n",
              "      height: 32px;\n",
              "      padding: 0 0 0 0;\n",
              "      width: 32px;\n",
              "    }\n",
              "\n",
              "    .colab-df-convert:hover {\n",
              "      background-color: #E2EBFA;\n",
              "      box-shadow: 0px 1px 2px rgba(60, 64, 67, 0.3), 0px 1px 3px 1px rgba(60, 64, 67, 0.15);\n",
              "      fill: #174EA6;\n",
              "    }\n",
              "\n",
              "    [theme=dark] .colab-df-convert {\n",
              "      background-color: #3B4455;\n",
              "      fill: #D2E3FC;\n",
              "    }\n",
              "\n",
              "    [theme=dark] .colab-df-convert:hover {\n",
              "      background-color: #434B5C;\n",
              "      box-shadow: 0px 1px 3px 1px rgba(0, 0, 0, 0.15);\n",
              "      filter: drop-shadow(0px 1px 2px rgba(0, 0, 0, 0.3));\n",
              "      fill: #FFFFFF;\n",
              "    }\n",
              "  </style>\n",
              "\n",
              "      <script>\n",
              "        const buttonEl =\n",
              "          document.querySelector('#df-e75ac8bf-b3ca-4107-ab78-9c3523073d8c button.colab-df-convert');\n",
              "        buttonEl.style.display =\n",
              "          google.colab.kernel.accessAllowed ? 'block' : 'none';\n",
              "\n",
              "        async function convertToInteractive(key) {\n",
              "          const element = document.querySelector('#df-e75ac8bf-b3ca-4107-ab78-9c3523073d8c');\n",
              "          const dataTable =\n",
              "            await google.colab.kernel.invokeFunction('convertToInteractive',\n",
              "                                                     [key], {});\n",
              "          if (!dataTable) return;\n",
              "\n",
              "          const docLinkHtml = 'Like what you see? Visit the ' +\n",
              "            '<a target=\"_blank\" href=https://colab.research.google.com/notebooks/data_table.ipynb>data table notebook</a>'\n",
              "            + ' to learn more about interactive tables.';\n",
              "          element.innerHTML = '';\n",
              "          dataTable['output_type'] = 'display_data';\n",
              "          await google.colab.output.renderOutput(dataTable, element);\n",
              "          const docLink = document.createElement('div');\n",
              "          docLink.innerHTML = docLinkHtml;\n",
              "          element.appendChild(docLink);\n",
              "        }\n",
              "      </script>\n",
              "    </div>\n",
              "  </div>\n",
              "  "
            ]
          },
          "metadata": {},
          "execution_count": 25
        }
      ]
    },
    {
      "cell_type": "code",
      "source": [
        "df_o_h.isnull().sum()"
      ],
      "metadata": {
        "colab": {
          "base_uri": "https://localhost:8080/"
        },
        "id": "W4Cgwgk3t-cV",
        "outputId": "0a503259-a460-4c60-e8af-dd5c61b96f1e"
      },
      "execution_count": 26,
      "outputs": [
        {
          "output_type": "execute_result",
          "data": {
            "text/plain": [
              "Newbie                                 0\n",
              "Age                                  561\n",
              "Gender_Female                          0\n",
              "Gender_Male                            0\n",
              "Household Income_$10-19                0\n",
              "Household Income_$20-29                0\n",
              "Household Income_$30-39                0\n",
              "Household Income_$40-49                0\n",
              "Household Income_$50-74                0\n",
              "Household Income_$75-99                0\n",
              "Household Income_Over $100             0\n",
              "Household Income_Under $10             0\n",
              "Sexual Preference_Bisexual             0\n",
              "Sexual Preference_Gay male             0\n",
              "Sexual Preference_Heterosexual         0\n",
              "Sexual Preference_Lesbian              0\n",
              "Sexual Preference_Transgender          0\n",
              "Sexual Preference_na                   0\n",
              "Education Attainment_College           0\n",
              "Education Attainment_Doctoral          0\n",
              "Education Attainment_Grammar           0\n",
              "Education Attainment_High School       0\n",
              "Education Attainment_Masters           0\n",
              "Education Attainment_Other             0\n",
              "Education Attainment_Professional      0\n",
              "Education Attainment_Some College      0\n",
              "Education Attainment_Special           0\n",
              "Major Occupation_Computer              0\n",
              "Major Occupation_Education             0\n",
              "Major Occupation_Management            0\n",
              "Major Occupation_Other                 0\n",
              "Major Occupation_Professional          0\n",
              "Marital Status_Divorced                0\n",
              "Marital Status_Married                 0\n",
              "Marital Status_Other                   0\n",
              "Marital Status_Separated               0\n",
              "Marital Status_Single                  0\n",
              "Marital Status_Widowed                 0\n",
              "dtype: int64"
            ]
          },
          "metadata": {},
          "execution_count": 26
        }
      ]
    },
    {
      "cell_type": "code",
      "source": [
        "df_o_h.loc[pd.isnull(df_o_h['Age']),'Age']=df_o_h['Age'].mean()"
      ],
      "metadata": {
        "id": "ogZLvmosuTtz"
      },
      "execution_count": 27,
      "outputs": []
    },
    {
      "cell_type": "code",
      "source": [
        "x_data=df_o_h.iloc[:,1:].values\n",
        "y_data=df_o_h.iloc[:,0].values\n",
        "x_data.shape,y_data.shape"
      ],
      "metadata": {
        "colab": {
          "base_uri": "https://localhost:8080/"
        },
        "id": "wdaSK5zsvcsd",
        "outputId": "71de55f3-6d4a-404e-caa4-03fb5f0d505f"
      },
      "execution_count": 28,
      "outputs": [
        {
          "output_type": "execute_result",
          "data": {
            "text/plain": [
              "((19583, 37), (19583,))"
            ]
          },
          "metadata": {},
          "execution_count": 28
        }
      ]
    },
    {
      "cell_type": "code",
      "source": [
        "from sklearn.preprocessing import MinMaxScaler\n",
        "from sklearn.model_selection import train_test_split\n",
        "m_x_data=MinMaxScaler()\n",
        "ck_data=m_x_data.fit_transform(x_data)\n",
        "t_x,tt_x,t_y,tt_y = train_test_split(ck_data,y_data,test_size=0.3,random_state=42)"
      ],
      "metadata": {
        "id": "V9NNkw-wwUjU"
      },
      "execution_count": 29,
      "outputs": []
    },
    {
      "cell_type": "code",
      "source": [
        "t_x.shape,t_y.shape"
      ],
      "metadata": {
        "colab": {
          "base_uri": "https://localhost:8080/"
        },
        "id": "vNl0H0JgypAi",
        "outputId": "5ac4bbe3-ba3a-4319-d29c-cd6b10e8ba06"
      },
      "execution_count": 30,
      "outputs": [
        {
          "output_type": "execute_result",
          "data": {
            "text/plain": [
              "((13708, 37), (13708,))"
            ]
          },
          "metadata": {},
          "execution_count": 30
        }
      ]
    },
    {
      "cell_type": "code",
      "source": [
        "from sklearn.linear_model import LogisticRegression\n",
        "logrg=LogisticRegression()\n",
        "logrg.fit(t_x,t_y)"
      ],
      "metadata": {
        "colab": {
          "base_uri": "https://localhost:8080/"
        },
        "id": "HKQyflIgxnU7",
        "outputId": "6beba63b-a6d7-4ec0-a45f-591139e620b8"
      },
      "execution_count": 31,
      "outputs": [
        {
          "output_type": "execute_result",
          "data": {
            "text/plain": [
              "LogisticRegression()"
            ]
          },
          "metadata": {},
          "execution_count": 31
        }
      ]
    },
    {
      "cell_type": "code",
      "source": [
        "tt_y[:5]"
      ],
      "metadata": {
        "colab": {
          "base_uri": "https://localhost:8080/"
        },
        "id": "UJYeGBtp0bQq",
        "outputId": "a3731776-4d48-40a7-f079-6fcea1b23cc3"
      },
      "execution_count": 32,
      "outputs": [
        {
          "output_type": "execute_result",
          "data": {
            "text/plain": [
              "array([1, 0, 1, 0, 1])"
            ]
          },
          "metadata": {},
          "execution_count": 32
        }
      ]
    },
    {
      "cell_type": "code",
      "source": [
        "logrg.predict(tt_x[:5])"
      ],
      "metadata": {
        "colab": {
          "base_uri": "https://localhost:8080/"
        },
        "id": "ZGGgGafm0eUq",
        "outputId": "9586afb3-80d8-4644-ed46-d07a458403d8"
      },
      "execution_count": 33,
      "outputs": [
        {
          "output_type": "execute_result",
          "data": {
            "text/plain": [
              "array([0, 0, 0, 0, 0])"
            ]
          },
          "metadata": {},
          "execution_count": 33
        }
      ]
    },
    {
      "cell_type": "code",
      "source": [
        "logrg.predict_proba(tt_x[:5])"
      ],
      "metadata": {
        "colab": {
          "base_uri": "https://localhost:8080/"
        },
        "id": "CDY4vbRy0Jek",
        "outputId": "71a8e304-ff93-4536-9d20-7cbc0b5d17b9"
      },
      "execution_count": 34,
      "outputs": [
        {
          "output_type": "execute_result",
          "data": {
            "text/plain": [
              "array([[0.56799172, 0.43200828],\n",
              "       [0.91026881, 0.08973119],\n",
              "       [0.79110791, 0.20889209],\n",
              "       [0.85449667, 0.14550333],\n",
              "       [0.6230765 , 0.3769235 ]])"
            ]
          },
          "metadata": {},
          "execution_count": 34
        }
      ]
    },
    {
      "cell_type": "code",
      "source": [
        "y_t=tt_y.copy()\n",
        "y_p=logrg.predict(tt_x)"
      ],
      "metadata": {
        "id": "aS2GMY43H8N3"
      },
      "execution_count": 35,
      "outputs": []
    },
    {
      "cell_type": "code",
      "source": [
        "confusion_matrix(y_t,y_p)"
      ],
      "metadata": {
        "colab": {
          "base_uri": "https://localhost:8080/"
        },
        "id": "r_ZqLCIpIwiL",
        "outputId": "01e6ec14-05ba-4f61-f9f0-acb3c33c1feb"
      },
      "execution_count": 36,
      "outputs": [
        {
          "output_type": "execute_result",
          "data": {
            "text/plain": [
              "array([[4093,  240],\n",
              "       [1221,  321]])"
            ]
          },
          "metadata": {},
          "execution_count": 36
        }
      ]
    },
    {
      "cell_type": "code",
      "source": [
        "accuracy_score(y_t,y_p)"
      ],
      "metadata": {
        "colab": {
          "base_uri": "https://localhost:8080/"
        },
        "id": "d1gykBT_I6z6",
        "outputId": "0dc3eba1-3ee8-492d-c022-8c8f4ab1eaa4"
      },
      "execution_count": 37,
      "outputs": [
        {
          "output_type": "execute_result",
          "data": {
            "text/plain": [
              "0.7513191489361702"
            ]
          },
          "metadata": {},
          "execution_count": 37
        }
      ]
    },
    {
      "cell_type": "code",
      "source": [
        "import pandas as pd\n",
        "\n",
        "fish = pd.read_csv('https://bit.ly/fish_csv')\n",
        "fish"
      ],
      "metadata": {
        "colab": {
          "base_uri": "https://localhost:8080/",
          "height": 424
        },
        "id": "4Eb13BPAL_GK",
        "outputId": "bb29a74f-27b9-4353-d911-2e3aa8216701"
      },
      "execution_count": 38,
      "outputs": [
        {
          "output_type": "execute_result",
          "data": {
            "text/plain": [
              "    Species  Weight  Length  Diagonal   Height   Width\n",
              "0     Bream   242.0    25.4      30.0  11.5200  4.0200\n",
              "1     Bream   290.0    26.3      31.2  12.4800  4.3056\n",
              "2     Bream   340.0    26.5      31.1  12.3778  4.6961\n",
              "3     Bream   363.0    29.0      33.5  12.7300  4.4555\n",
              "4     Bream   430.0    29.0      34.0  12.4440  5.1340\n",
              "..      ...     ...     ...       ...      ...     ...\n",
              "154   Smelt    12.2    12.2      13.4   2.0904  1.3936\n",
              "155   Smelt    13.4    12.4      13.5   2.4300  1.2690\n",
              "156   Smelt    12.2    13.0      13.8   2.2770  1.2558\n",
              "157   Smelt    19.7    14.3      15.2   2.8728  2.0672\n",
              "158   Smelt    19.9    15.0      16.2   2.9322  1.8792\n",
              "\n",
              "[159 rows x 6 columns]"
            ],
            "text/html": [
              "\n",
              "  <div id=\"df-5fc1b77e-2f1e-4498-8449-31314d596569\">\n",
              "    <div class=\"colab-df-container\">\n",
              "      <div>\n",
              "<style scoped>\n",
              "    .dataframe tbody tr th:only-of-type {\n",
              "        vertical-align: middle;\n",
              "    }\n",
              "\n",
              "    .dataframe tbody tr th {\n",
              "        vertical-align: top;\n",
              "    }\n",
              "\n",
              "    .dataframe thead th {\n",
              "        text-align: right;\n",
              "    }\n",
              "</style>\n",
              "<table border=\"1\" class=\"dataframe\">\n",
              "  <thead>\n",
              "    <tr style=\"text-align: right;\">\n",
              "      <th></th>\n",
              "      <th>Species</th>\n",
              "      <th>Weight</th>\n",
              "      <th>Length</th>\n",
              "      <th>Diagonal</th>\n",
              "      <th>Height</th>\n",
              "      <th>Width</th>\n",
              "    </tr>\n",
              "  </thead>\n",
              "  <tbody>\n",
              "    <tr>\n",
              "      <th>0</th>\n",
              "      <td>Bream</td>\n",
              "      <td>242.0</td>\n",
              "      <td>25.4</td>\n",
              "      <td>30.0</td>\n",
              "      <td>11.5200</td>\n",
              "      <td>4.0200</td>\n",
              "    </tr>\n",
              "    <tr>\n",
              "      <th>1</th>\n",
              "      <td>Bream</td>\n",
              "      <td>290.0</td>\n",
              "      <td>26.3</td>\n",
              "      <td>31.2</td>\n",
              "      <td>12.4800</td>\n",
              "      <td>4.3056</td>\n",
              "    </tr>\n",
              "    <tr>\n",
              "      <th>2</th>\n",
              "      <td>Bream</td>\n",
              "      <td>340.0</td>\n",
              "      <td>26.5</td>\n",
              "      <td>31.1</td>\n",
              "      <td>12.3778</td>\n",
              "      <td>4.6961</td>\n",
              "    </tr>\n",
              "    <tr>\n",
              "      <th>3</th>\n",
              "      <td>Bream</td>\n",
              "      <td>363.0</td>\n",
              "      <td>29.0</td>\n",
              "      <td>33.5</td>\n",
              "      <td>12.7300</td>\n",
              "      <td>4.4555</td>\n",
              "    </tr>\n",
              "    <tr>\n",
              "      <th>4</th>\n",
              "      <td>Bream</td>\n",
              "      <td>430.0</td>\n",
              "      <td>29.0</td>\n",
              "      <td>34.0</td>\n",
              "      <td>12.4440</td>\n",
              "      <td>5.1340</td>\n",
              "    </tr>\n",
              "    <tr>\n",
              "      <th>...</th>\n",
              "      <td>...</td>\n",
              "      <td>...</td>\n",
              "      <td>...</td>\n",
              "      <td>...</td>\n",
              "      <td>...</td>\n",
              "      <td>...</td>\n",
              "    </tr>\n",
              "    <tr>\n",
              "      <th>154</th>\n",
              "      <td>Smelt</td>\n",
              "      <td>12.2</td>\n",
              "      <td>12.2</td>\n",
              "      <td>13.4</td>\n",
              "      <td>2.0904</td>\n",
              "      <td>1.3936</td>\n",
              "    </tr>\n",
              "    <tr>\n",
              "      <th>155</th>\n",
              "      <td>Smelt</td>\n",
              "      <td>13.4</td>\n",
              "      <td>12.4</td>\n",
              "      <td>13.5</td>\n",
              "      <td>2.4300</td>\n",
              "      <td>1.2690</td>\n",
              "    </tr>\n",
              "    <tr>\n",
              "      <th>156</th>\n",
              "      <td>Smelt</td>\n",
              "      <td>12.2</td>\n",
              "      <td>13.0</td>\n",
              "      <td>13.8</td>\n",
              "      <td>2.2770</td>\n",
              "      <td>1.2558</td>\n",
              "    </tr>\n",
              "    <tr>\n",
              "      <th>157</th>\n",
              "      <td>Smelt</td>\n",
              "      <td>19.7</td>\n",
              "      <td>14.3</td>\n",
              "      <td>15.2</td>\n",
              "      <td>2.8728</td>\n",
              "      <td>2.0672</td>\n",
              "    </tr>\n",
              "    <tr>\n",
              "      <th>158</th>\n",
              "      <td>Smelt</td>\n",
              "      <td>19.9</td>\n",
              "      <td>15.0</td>\n",
              "      <td>16.2</td>\n",
              "      <td>2.9322</td>\n",
              "      <td>1.8792</td>\n",
              "    </tr>\n",
              "  </tbody>\n",
              "</table>\n",
              "<p>159 rows × 6 columns</p>\n",
              "</div>\n",
              "      <button class=\"colab-df-convert\" onclick=\"convertToInteractive('df-5fc1b77e-2f1e-4498-8449-31314d596569')\"\n",
              "              title=\"Convert this dataframe to an interactive table.\"\n",
              "              style=\"display:none;\">\n",
              "        \n",
              "  <svg xmlns=\"http://www.w3.org/2000/svg\" height=\"24px\"viewBox=\"0 0 24 24\"\n",
              "       width=\"24px\">\n",
              "    <path d=\"M0 0h24v24H0V0z\" fill=\"none\"/>\n",
              "    <path d=\"M18.56 5.44l.94 2.06.94-2.06 2.06-.94-2.06-.94-.94-2.06-.94 2.06-2.06.94zm-11 1L8.5 8.5l.94-2.06 2.06-.94-2.06-.94L8.5 2.5l-.94 2.06-2.06.94zm10 10l.94 2.06.94-2.06 2.06-.94-2.06-.94-.94-2.06-.94 2.06-2.06.94z\"/><path d=\"M17.41 7.96l-1.37-1.37c-.4-.4-.92-.59-1.43-.59-.52 0-1.04.2-1.43.59L10.3 9.45l-7.72 7.72c-.78.78-.78 2.05 0 2.83L4 21.41c.39.39.9.59 1.41.59.51 0 1.02-.2 1.41-.59l7.78-7.78 2.81-2.81c.8-.78.8-2.07 0-2.86zM5.41 20L4 18.59l7.72-7.72 1.47 1.35L5.41 20z\"/>\n",
              "  </svg>\n",
              "      </button>\n",
              "      \n",
              "  <style>\n",
              "    .colab-df-container {\n",
              "      display:flex;\n",
              "      flex-wrap:wrap;\n",
              "      gap: 12px;\n",
              "    }\n",
              "\n",
              "    .colab-df-convert {\n",
              "      background-color: #E8F0FE;\n",
              "      border: none;\n",
              "      border-radius: 50%;\n",
              "      cursor: pointer;\n",
              "      display: none;\n",
              "      fill: #1967D2;\n",
              "      height: 32px;\n",
              "      padding: 0 0 0 0;\n",
              "      width: 32px;\n",
              "    }\n",
              "\n",
              "    .colab-df-convert:hover {\n",
              "      background-color: #E2EBFA;\n",
              "      box-shadow: 0px 1px 2px rgba(60, 64, 67, 0.3), 0px 1px 3px 1px rgba(60, 64, 67, 0.15);\n",
              "      fill: #174EA6;\n",
              "    }\n",
              "\n",
              "    [theme=dark] .colab-df-convert {\n",
              "      background-color: #3B4455;\n",
              "      fill: #D2E3FC;\n",
              "    }\n",
              "\n",
              "    [theme=dark] .colab-df-convert:hover {\n",
              "      background-color: #434B5C;\n",
              "      box-shadow: 0px 1px 3px 1px rgba(0, 0, 0, 0.15);\n",
              "      filter: drop-shadow(0px 1px 2px rgba(0, 0, 0, 0.3));\n",
              "      fill: #FFFFFF;\n",
              "    }\n",
              "  </style>\n",
              "\n",
              "      <script>\n",
              "        const buttonEl =\n",
              "          document.querySelector('#df-5fc1b77e-2f1e-4498-8449-31314d596569 button.colab-df-convert');\n",
              "        buttonEl.style.display =\n",
              "          google.colab.kernel.accessAllowed ? 'block' : 'none';\n",
              "\n",
              "        async function convertToInteractive(key) {\n",
              "          const element = document.querySelector('#df-5fc1b77e-2f1e-4498-8449-31314d596569');\n",
              "          const dataTable =\n",
              "            await google.colab.kernel.invokeFunction('convertToInteractive',\n",
              "                                                     [key], {});\n",
              "          if (!dataTable) return;\n",
              "\n",
              "          const docLinkHtml = 'Like what you see? Visit the ' +\n",
              "            '<a target=\"_blank\" href=https://colab.research.google.com/notebooks/data_table.ipynb>data table notebook</a>'\n",
              "            + ' to learn more about interactive tables.';\n",
              "          element.innerHTML = '';\n",
              "          dataTable['output_type'] = 'display_data';\n",
              "          await google.colab.output.renderOutput(dataTable, element);\n",
              "          const docLink = document.createElement('div');\n",
              "          docLink.innerHTML = docLinkHtml;\n",
              "          element.appendChild(docLink);\n",
              "        }\n",
              "      </script>\n",
              "    </div>\n",
              "  </div>\n",
              "  "
            ]
          },
          "metadata": {},
          "execution_count": 38
        }
      ]
    },
    {
      "cell_type": "code",
      "source": [
        "pd.unique(fish['Species'])"
      ],
      "metadata": {
        "colab": {
          "base_uri": "https://localhost:8080/"
        },
        "id": "RCZzgFVyMTKB",
        "outputId": "dd642548-dd06-4457-9143-cb7e1b87d3a8"
      },
      "execution_count": 39,
      "outputs": [
        {
          "output_type": "execute_result",
          "data": {
            "text/plain": [
              "array(['Bream', 'Roach', 'Whitefish', 'Parkki', 'Perch', 'Pike', 'Smelt'],\n",
              "      dtype=object)"
            ]
          },
          "metadata": {},
          "execution_count": 39
        }
      ]
    },
    {
      "cell_type": "code",
      "source": [
        "y_data=fish['Species']\n",
        "y_data.shape"
      ],
      "metadata": {
        "colab": {
          "base_uri": "https://localhost:8080/"
        },
        "id": "6MVKVZGSM-Yh",
        "outputId": "e94f25b9-700b-4ad5-9316-b0514206f61c"
      },
      "execution_count": 40,
      "outputs": [
        {
          "output_type": "execute_result",
          "data": {
            "text/plain": [
              "(159,)"
            ]
          },
          "metadata": {},
          "execution_count": 40
        }
      ]
    },
    {
      "cell_type": "code",
      "source": [
        "fish.pop('Species')\n",
        "fish"
      ],
      "metadata": {
        "colab": {
          "base_uri": "https://localhost:8080/",
          "height": 424
        },
        "id": "28kxFAfTNSfx",
        "outputId": "94658ffa-5f26-46f6-e07a-7dd1eee32695"
      },
      "execution_count": 41,
      "outputs": [
        {
          "output_type": "execute_result",
          "data": {
            "text/plain": [
              "     Weight  Length  Diagonal   Height   Width\n",
              "0     242.0    25.4      30.0  11.5200  4.0200\n",
              "1     290.0    26.3      31.2  12.4800  4.3056\n",
              "2     340.0    26.5      31.1  12.3778  4.6961\n",
              "3     363.0    29.0      33.5  12.7300  4.4555\n",
              "4     430.0    29.0      34.0  12.4440  5.1340\n",
              "..      ...     ...       ...      ...     ...\n",
              "154    12.2    12.2      13.4   2.0904  1.3936\n",
              "155    13.4    12.4      13.5   2.4300  1.2690\n",
              "156    12.2    13.0      13.8   2.2770  1.2558\n",
              "157    19.7    14.3      15.2   2.8728  2.0672\n",
              "158    19.9    15.0      16.2   2.9322  1.8792\n",
              "\n",
              "[159 rows x 5 columns]"
            ],
            "text/html": [
              "\n",
              "  <div id=\"df-2c0f3e50-3cd4-4ef8-a1a5-90d4877f076f\">\n",
              "    <div class=\"colab-df-container\">\n",
              "      <div>\n",
              "<style scoped>\n",
              "    .dataframe tbody tr th:only-of-type {\n",
              "        vertical-align: middle;\n",
              "    }\n",
              "\n",
              "    .dataframe tbody tr th {\n",
              "        vertical-align: top;\n",
              "    }\n",
              "\n",
              "    .dataframe thead th {\n",
              "        text-align: right;\n",
              "    }\n",
              "</style>\n",
              "<table border=\"1\" class=\"dataframe\">\n",
              "  <thead>\n",
              "    <tr style=\"text-align: right;\">\n",
              "      <th></th>\n",
              "      <th>Weight</th>\n",
              "      <th>Length</th>\n",
              "      <th>Diagonal</th>\n",
              "      <th>Height</th>\n",
              "      <th>Width</th>\n",
              "    </tr>\n",
              "  </thead>\n",
              "  <tbody>\n",
              "    <tr>\n",
              "      <th>0</th>\n",
              "      <td>242.0</td>\n",
              "      <td>25.4</td>\n",
              "      <td>30.0</td>\n",
              "      <td>11.5200</td>\n",
              "      <td>4.0200</td>\n",
              "    </tr>\n",
              "    <tr>\n",
              "      <th>1</th>\n",
              "      <td>290.0</td>\n",
              "      <td>26.3</td>\n",
              "      <td>31.2</td>\n",
              "      <td>12.4800</td>\n",
              "      <td>4.3056</td>\n",
              "    </tr>\n",
              "    <tr>\n",
              "      <th>2</th>\n",
              "      <td>340.0</td>\n",
              "      <td>26.5</td>\n",
              "      <td>31.1</td>\n",
              "      <td>12.3778</td>\n",
              "      <td>4.6961</td>\n",
              "    </tr>\n",
              "    <tr>\n",
              "      <th>3</th>\n",
              "      <td>363.0</td>\n",
              "      <td>29.0</td>\n",
              "      <td>33.5</td>\n",
              "      <td>12.7300</td>\n",
              "      <td>4.4555</td>\n",
              "    </tr>\n",
              "    <tr>\n",
              "      <th>4</th>\n",
              "      <td>430.0</td>\n",
              "      <td>29.0</td>\n",
              "      <td>34.0</td>\n",
              "      <td>12.4440</td>\n",
              "      <td>5.1340</td>\n",
              "    </tr>\n",
              "    <tr>\n",
              "      <th>...</th>\n",
              "      <td>...</td>\n",
              "      <td>...</td>\n",
              "      <td>...</td>\n",
              "      <td>...</td>\n",
              "      <td>...</td>\n",
              "    </tr>\n",
              "    <tr>\n",
              "      <th>154</th>\n",
              "      <td>12.2</td>\n",
              "      <td>12.2</td>\n",
              "      <td>13.4</td>\n",
              "      <td>2.0904</td>\n",
              "      <td>1.3936</td>\n",
              "    </tr>\n",
              "    <tr>\n",
              "      <th>155</th>\n",
              "      <td>13.4</td>\n",
              "      <td>12.4</td>\n",
              "      <td>13.5</td>\n",
              "      <td>2.4300</td>\n",
              "      <td>1.2690</td>\n",
              "    </tr>\n",
              "    <tr>\n",
              "      <th>156</th>\n",
              "      <td>12.2</td>\n",
              "      <td>13.0</td>\n",
              "      <td>13.8</td>\n",
              "      <td>2.2770</td>\n",
              "      <td>1.2558</td>\n",
              "    </tr>\n",
              "    <tr>\n",
              "      <th>157</th>\n",
              "      <td>19.7</td>\n",
              "      <td>14.3</td>\n",
              "      <td>15.2</td>\n",
              "      <td>2.8728</td>\n",
              "      <td>2.0672</td>\n",
              "    </tr>\n",
              "    <tr>\n",
              "      <th>158</th>\n",
              "      <td>19.9</td>\n",
              "      <td>15.0</td>\n",
              "      <td>16.2</td>\n",
              "      <td>2.9322</td>\n",
              "      <td>1.8792</td>\n",
              "    </tr>\n",
              "  </tbody>\n",
              "</table>\n",
              "<p>159 rows × 5 columns</p>\n",
              "</div>\n",
              "      <button class=\"colab-df-convert\" onclick=\"convertToInteractive('df-2c0f3e50-3cd4-4ef8-a1a5-90d4877f076f')\"\n",
              "              title=\"Convert this dataframe to an interactive table.\"\n",
              "              style=\"display:none;\">\n",
              "        \n",
              "  <svg xmlns=\"http://www.w3.org/2000/svg\" height=\"24px\"viewBox=\"0 0 24 24\"\n",
              "       width=\"24px\">\n",
              "    <path d=\"M0 0h24v24H0V0z\" fill=\"none\"/>\n",
              "    <path d=\"M18.56 5.44l.94 2.06.94-2.06 2.06-.94-2.06-.94-.94-2.06-.94 2.06-2.06.94zm-11 1L8.5 8.5l.94-2.06 2.06-.94-2.06-.94L8.5 2.5l-.94 2.06-2.06.94zm10 10l.94 2.06.94-2.06 2.06-.94-2.06-.94-.94-2.06-.94 2.06-2.06.94z\"/><path d=\"M17.41 7.96l-1.37-1.37c-.4-.4-.92-.59-1.43-.59-.52 0-1.04.2-1.43.59L10.3 9.45l-7.72 7.72c-.78.78-.78 2.05 0 2.83L4 21.41c.39.39.9.59 1.41.59.51 0 1.02-.2 1.41-.59l7.78-7.78 2.81-2.81c.8-.78.8-2.07 0-2.86zM5.41 20L4 18.59l7.72-7.72 1.47 1.35L5.41 20z\"/>\n",
              "  </svg>\n",
              "      </button>\n",
              "      \n",
              "  <style>\n",
              "    .colab-df-container {\n",
              "      display:flex;\n",
              "      flex-wrap:wrap;\n",
              "      gap: 12px;\n",
              "    }\n",
              "\n",
              "    .colab-df-convert {\n",
              "      background-color: #E8F0FE;\n",
              "      border: none;\n",
              "      border-radius: 50%;\n",
              "      cursor: pointer;\n",
              "      display: none;\n",
              "      fill: #1967D2;\n",
              "      height: 32px;\n",
              "      padding: 0 0 0 0;\n",
              "      width: 32px;\n",
              "    }\n",
              "\n",
              "    .colab-df-convert:hover {\n",
              "      background-color: #E2EBFA;\n",
              "      box-shadow: 0px 1px 2px rgba(60, 64, 67, 0.3), 0px 1px 3px 1px rgba(60, 64, 67, 0.15);\n",
              "      fill: #174EA6;\n",
              "    }\n",
              "\n",
              "    [theme=dark] .colab-df-convert {\n",
              "      background-color: #3B4455;\n",
              "      fill: #D2E3FC;\n",
              "    }\n",
              "\n",
              "    [theme=dark] .colab-df-convert:hover {\n",
              "      background-color: #434B5C;\n",
              "      box-shadow: 0px 1px 3px 1px rgba(0, 0, 0, 0.15);\n",
              "      filter: drop-shadow(0px 1px 2px rgba(0, 0, 0, 0.3));\n",
              "      fill: #FFFFFF;\n",
              "    }\n",
              "  </style>\n",
              "\n",
              "      <script>\n",
              "        const buttonEl =\n",
              "          document.querySelector('#df-2c0f3e50-3cd4-4ef8-a1a5-90d4877f076f button.colab-df-convert');\n",
              "        buttonEl.style.display =\n",
              "          google.colab.kernel.accessAllowed ? 'block' : 'none';\n",
              "\n",
              "        async function convertToInteractive(key) {\n",
              "          const element = document.querySelector('#df-2c0f3e50-3cd4-4ef8-a1a5-90d4877f076f');\n",
              "          const dataTable =\n",
              "            await google.colab.kernel.invokeFunction('convertToInteractive',\n",
              "                                                     [key], {});\n",
              "          if (!dataTable) return;\n",
              "\n",
              "          const docLinkHtml = 'Like what you see? Visit the ' +\n",
              "            '<a target=\"_blank\" href=https://colab.research.google.com/notebooks/data_table.ipynb>data table notebook</a>'\n",
              "            + ' to learn more about interactive tables.';\n",
              "          element.innerHTML = '';\n",
              "          dataTable['output_type'] = 'display_data';\n",
              "          await google.colab.output.renderOutput(dataTable, element);\n",
              "          const docLink = document.createElement('div');\n",
              "          docLink.innerHTML = docLinkHtml;\n",
              "          element.appendChild(docLink);\n",
              "        }\n",
              "      </script>\n",
              "    </div>\n",
              "  </div>\n",
              "  "
            ]
          },
          "metadata": {},
          "execution_count": 41
        }
      ]
    },
    {
      "cell_type": "code",
      "source": [
        "x_data=fish"
      ],
      "metadata": {
        "id": "n_tEs6FuNmYo"
      },
      "execution_count": 42,
      "outputs": []
    },
    {
      "cell_type": "code",
      "source": [
        "x_data"
      ],
      "metadata": {
        "colab": {
          "base_uri": "https://localhost:8080/",
          "height": 424
        },
        "id": "0WuSfJg7NpHY",
        "outputId": "78256875-e106-4cd4-f304-f8dae9568bb2"
      },
      "execution_count": 43,
      "outputs": [
        {
          "output_type": "execute_result",
          "data": {
            "text/plain": [
              "     Weight  Length  Diagonal   Height   Width\n",
              "0     242.0    25.4      30.0  11.5200  4.0200\n",
              "1     290.0    26.3      31.2  12.4800  4.3056\n",
              "2     340.0    26.5      31.1  12.3778  4.6961\n",
              "3     363.0    29.0      33.5  12.7300  4.4555\n",
              "4     430.0    29.0      34.0  12.4440  5.1340\n",
              "..      ...     ...       ...      ...     ...\n",
              "154    12.2    12.2      13.4   2.0904  1.3936\n",
              "155    13.4    12.4      13.5   2.4300  1.2690\n",
              "156    12.2    13.0      13.8   2.2770  1.2558\n",
              "157    19.7    14.3      15.2   2.8728  2.0672\n",
              "158    19.9    15.0      16.2   2.9322  1.8792\n",
              "\n",
              "[159 rows x 5 columns]"
            ],
            "text/html": [
              "\n",
              "  <div id=\"df-228347a3-6891-4b10-a2a9-5a3cfeb555f3\">\n",
              "    <div class=\"colab-df-container\">\n",
              "      <div>\n",
              "<style scoped>\n",
              "    .dataframe tbody tr th:only-of-type {\n",
              "        vertical-align: middle;\n",
              "    }\n",
              "\n",
              "    .dataframe tbody tr th {\n",
              "        vertical-align: top;\n",
              "    }\n",
              "\n",
              "    .dataframe thead th {\n",
              "        text-align: right;\n",
              "    }\n",
              "</style>\n",
              "<table border=\"1\" class=\"dataframe\">\n",
              "  <thead>\n",
              "    <tr style=\"text-align: right;\">\n",
              "      <th></th>\n",
              "      <th>Weight</th>\n",
              "      <th>Length</th>\n",
              "      <th>Diagonal</th>\n",
              "      <th>Height</th>\n",
              "      <th>Width</th>\n",
              "    </tr>\n",
              "  </thead>\n",
              "  <tbody>\n",
              "    <tr>\n",
              "      <th>0</th>\n",
              "      <td>242.0</td>\n",
              "      <td>25.4</td>\n",
              "      <td>30.0</td>\n",
              "      <td>11.5200</td>\n",
              "      <td>4.0200</td>\n",
              "    </tr>\n",
              "    <tr>\n",
              "      <th>1</th>\n",
              "      <td>290.0</td>\n",
              "      <td>26.3</td>\n",
              "      <td>31.2</td>\n",
              "      <td>12.4800</td>\n",
              "      <td>4.3056</td>\n",
              "    </tr>\n",
              "    <tr>\n",
              "      <th>2</th>\n",
              "      <td>340.0</td>\n",
              "      <td>26.5</td>\n",
              "      <td>31.1</td>\n",
              "      <td>12.3778</td>\n",
              "      <td>4.6961</td>\n",
              "    </tr>\n",
              "    <tr>\n",
              "      <th>3</th>\n",
              "      <td>363.0</td>\n",
              "      <td>29.0</td>\n",
              "      <td>33.5</td>\n",
              "      <td>12.7300</td>\n",
              "      <td>4.4555</td>\n",
              "    </tr>\n",
              "    <tr>\n",
              "      <th>4</th>\n",
              "      <td>430.0</td>\n",
              "      <td>29.0</td>\n",
              "      <td>34.0</td>\n",
              "      <td>12.4440</td>\n",
              "      <td>5.1340</td>\n",
              "    </tr>\n",
              "    <tr>\n",
              "      <th>...</th>\n",
              "      <td>...</td>\n",
              "      <td>...</td>\n",
              "      <td>...</td>\n",
              "      <td>...</td>\n",
              "      <td>...</td>\n",
              "    </tr>\n",
              "    <tr>\n",
              "      <th>154</th>\n",
              "      <td>12.2</td>\n",
              "      <td>12.2</td>\n",
              "      <td>13.4</td>\n",
              "      <td>2.0904</td>\n",
              "      <td>1.3936</td>\n",
              "    </tr>\n",
              "    <tr>\n",
              "      <th>155</th>\n",
              "      <td>13.4</td>\n",
              "      <td>12.4</td>\n",
              "      <td>13.5</td>\n",
              "      <td>2.4300</td>\n",
              "      <td>1.2690</td>\n",
              "    </tr>\n",
              "    <tr>\n",
              "      <th>156</th>\n",
              "      <td>12.2</td>\n",
              "      <td>13.0</td>\n",
              "      <td>13.8</td>\n",
              "      <td>2.2770</td>\n",
              "      <td>1.2558</td>\n",
              "    </tr>\n",
              "    <tr>\n",
              "      <th>157</th>\n",
              "      <td>19.7</td>\n",
              "      <td>14.3</td>\n",
              "      <td>15.2</td>\n",
              "      <td>2.8728</td>\n",
              "      <td>2.0672</td>\n",
              "    </tr>\n",
              "    <tr>\n",
              "      <th>158</th>\n",
              "      <td>19.9</td>\n",
              "      <td>15.0</td>\n",
              "      <td>16.2</td>\n",
              "      <td>2.9322</td>\n",
              "      <td>1.8792</td>\n",
              "    </tr>\n",
              "  </tbody>\n",
              "</table>\n",
              "<p>159 rows × 5 columns</p>\n",
              "</div>\n",
              "      <button class=\"colab-df-convert\" onclick=\"convertToInteractive('df-228347a3-6891-4b10-a2a9-5a3cfeb555f3')\"\n",
              "              title=\"Convert this dataframe to an interactive table.\"\n",
              "              style=\"display:none;\">\n",
              "        \n",
              "  <svg xmlns=\"http://www.w3.org/2000/svg\" height=\"24px\"viewBox=\"0 0 24 24\"\n",
              "       width=\"24px\">\n",
              "    <path d=\"M0 0h24v24H0V0z\" fill=\"none\"/>\n",
              "    <path d=\"M18.56 5.44l.94 2.06.94-2.06 2.06-.94-2.06-.94-.94-2.06-.94 2.06-2.06.94zm-11 1L8.5 8.5l.94-2.06 2.06-.94-2.06-.94L8.5 2.5l-.94 2.06-2.06.94zm10 10l.94 2.06.94-2.06 2.06-.94-2.06-.94-.94-2.06-.94 2.06-2.06.94z\"/><path d=\"M17.41 7.96l-1.37-1.37c-.4-.4-.92-.59-1.43-.59-.52 0-1.04.2-1.43.59L10.3 9.45l-7.72 7.72c-.78.78-.78 2.05 0 2.83L4 21.41c.39.39.9.59 1.41.59.51 0 1.02-.2 1.41-.59l7.78-7.78 2.81-2.81c.8-.78.8-2.07 0-2.86zM5.41 20L4 18.59l7.72-7.72 1.47 1.35L5.41 20z\"/>\n",
              "  </svg>\n",
              "      </button>\n",
              "      \n",
              "  <style>\n",
              "    .colab-df-container {\n",
              "      display:flex;\n",
              "      flex-wrap:wrap;\n",
              "      gap: 12px;\n",
              "    }\n",
              "\n",
              "    .colab-df-convert {\n",
              "      background-color: #E8F0FE;\n",
              "      border: none;\n",
              "      border-radius: 50%;\n",
              "      cursor: pointer;\n",
              "      display: none;\n",
              "      fill: #1967D2;\n",
              "      height: 32px;\n",
              "      padding: 0 0 0 0;\n",
              "      width: 32px;\n",
              "    }\n",
              "\n",
              "    .colab-df-convert:hover {\n",
              "      background-color: #E2EBFA;\n",
              "      box-shadow: 0px 1px 2px rgba(60, 64, 67, 0.3), 0px 1px 3px 1px rgba(60, 64, 67, 0.15);\n",
              "      fill: #174EA6;\n",
              "    }\n",
              "\n",
              "    [theme=dark] .colab-df-convert {\n",
              "      background-color: #3B4455;\n",
              "      fill: #D2E3FC;\n",
              "    }\n",
              "\n",
              "    [theme=dark] .colab-df-convert:hover {\n",
              "      background-color: #434B5C;\n",
              "      box-shadow: 0px 1px 3px 1px rgba(0, 0, 0, 0.15);\n",
              "      filter: drop-shadow(0px 1px 2px rgba(0, 0, 0, 0.3));\n",
              "      fill: #FFFFFF;\n",
              "    }\n",
              "  </style>\n",
              "\n",
              "      <script>\n",
              "        const buttonEl =\n",
              "          document.querySelector('#df-228347a3-6891-4b10-a2a9-5a3cfeb555f3 button.colab-df-convert');\n",
              "        buttonEl.style.display =\n",
              "          google.colab.kernel.accessAllowed ? 'block' : 'none';\n",
              "\n",
              "        async function convertToInteractive(key) {\n",
              "          const element = document.querySelector('#df-228347a3-6891-4b10-a2a9-5a3cfeb555f3');\n",
              "          const dataTable =\n",
              "            await google.colab.kernel.invokeFunction('convertToInteractive',\n",
              "                                                     [key], {});\n",
              "          if (!dataTable) return;\n",
              "\n",
              "          const docLinkHtml = 'Like what you see? Visit the ' +\n",
              "            '<a target=\"_blank\" href=https://colab.research.google.com/notebooks/data_table.ipynb>data table notebook</a>'\n",
              "            + ' to learn more about interactive tables.';\n",
              "          element.innerHTML = '';\n",
              "          dataTable['output_type'] = 'display_data';\n",
              "          await google.colab.output.renderOutput(dataTable, element);\n",
              "          const docLink = document.createElement('div');\n",
              "          docLink.innerHTML = docLinkHtml;\n",
              "          element.appendChild(docLink);\n",
              "        }\n",
              "      </script>\n",
              "    </div>\n",
              "  </div>\n",
              "  "
            ]
          },
          "metadata": {},
          "execution_count": 43
        }
      ]
    },
    {
      "cell_type": "code",
      "source": [
        "b_i=(y_data=='Bream') | (y_data=='Smelt')\n",
        "tr_y_data=y_data[b_i]\n",
        "tr_x_data=x_data[b_i]"
      ],
      "metadata": {
        "id": "X0tb18eeNxsZ"
      },
      "execution_count": 44,
      "outputs": []
    },
    {
      "cell_type": "code",
      "source": [
        "tr_y_data,tr_x_data"
      ],
      "metadata": {
        "colab": {
          "base_uri": "https://localhost:8080/"
        },
        "id": "7KqeoIrwOgGA",
        "outputId": "a0379863-8568-401f-fc65-a4a522cf64bf"
      },
      "execution_count": 45,
      "outputs": [
        {
          "output_type": "execute_result",
          "data": {
            "text/plain": [
              "(0      Bream\n",
              " 1      Bream\n",
              " 2      Bream\n",
              " 3      Bream\n",
              " 4      Bream\n",
              " 5      Bream\n",
              " 6      Bream\n",
              " 7      Bream\n",
              " 8      Bream\n",
              " 9      Bream\n",
              " 10     Bream\n",
              " 11     Bream\n",
              " 12     Bream\n",
              " 13     Bream\n",
              " 14     Bream\n",
              " 15     Bream\n",
              " 16     Bream\n",
              " 17     Bream\n",
              " 18     Bream\n",
              " 19     Bream\n",
              " 20     Bream\n",
              " 21     Bream\n",
              " 22     Bream\n",
              " 23     Bream\n",
              " 24     Bream\n",
              " 25     Bream\n",
              " 26     Bream\n",
              " 27     Bream\n",
              " 28     Bream\n",
              " 29     Bream\n",
              " 30     Bream\n",
              " 31     Bream\n",
              " 32     Bream\n",
              " 33     Bream\n",
              " 34     Bream\n",
              " 145    Smelt\n",
              " 146    Smelt\n",
              " 147    Smelt\n",
              " 148    Smelt\n",
              " 149    Smelt\n",
              " 150    Smelt\n",
              " 151    Smelt\n",
              " 152    Smelt\n",
              " 153    Smelt\n",
              " 154    Smelt\n",
              " 155    Smelt\n",
              " 156    Smelt\n",
              " 157    Smelt\n",
              " 158    Smelt\n",
              " Name: Species, dtype: object,      Weight  Length  Diagonal   Height   Width\n",
              " 0     242.0    25.4      30.0  11.5200  4.0200\n",
              " 1     290.0    26.3      31.2  12.4800  4.3056\n",
              " 2     340.0    26.5      31.1  12.3778  4.6961\n",
              " 3     363.0    29.0      33.5  12.7300  4.4555\n",
              " 4     430.0    29.0      34.0  12.4440  5.1340\n",
              " 5     450.0    29.7      34.7  13.6024  4.9274\n",
              " 6     500.0    29.7      34.5  14.1795  5.2785\n",
              " 7     390.0    30.0      35.0  12.6700  4.6900\n",
              " 8     450.0    30.0      35.1  14.0049  4.8438\n",
              " 9     500.0    30.7      36.2  14.2266  4.9594\n",
              " 10    475.0    31.0      36.2  14.2628  5.1042\n",
              " 11    500.0    31.0      36.2  14.3714  4.8146\n",
              " 12    500.0    31.5      36.4  13.7592  4.3680\n",
              " 13    340.0    32.0      37.3  13.9129  5.0728\n",
              " 14    600.0    32.0      37.2  14.9544  5.1708\n",
              " 15    600.0    32.0      37.2  15.4380  5.5800\n",
              " 16    700.0    33.0      38.3  14.8604  5.2854\n",
              " 17    700.0    33.0      38.5  14.9380  5.1975\n",
              " 18    610.0    33.5      38.6  15.6330  5.1338\n",
              " 19    650.0    33.5      38.7  14.4738  5.7276\n",
              " 20    575.0    34.0      39.5  15.1285  5.5695\n",
              " 21    685.0    34.0      39.2  15.9936  5.3704\n",
              " 22    620.0    34.5      39.7  15.5227  5.2801\n",
              " 23    680.0    35.0      40.6  15.4686  6.1306\n",
              " 24    700.0    35.0      40.5  16.2405  5.5890\n",
              " 25    725.0    35.0      40.9  16.3600  6.0532\n",
              " 26    720.0    35.0      40.6  16.3618  6.0900\n",
              " 27    714.0    36.0      41.5  16.5170  5.8515\n",
              " 28    850.0    36.0      41.6  16.8896  6.1984\n",
              " 29   1000.0    37.0      42.6  18.9570  6.6030\n",
              " 30    920.0    38.5      44.1  18.0369  6.3063\n",
              " 31    955.0    38.5      44.0  18.0840  6.2920\n",
              " 32    925.0    39.5      45.3  18.7542  6.7497\n",
              " 33    975.0    41.0      45.9  18.6354  6.7473\n",
              " 34    950.0    41.0      46.5  17.6235  6.3705\n",
              " 145     6.7     9.8      10.8   1.7388  1.0476\n",
              " 146     7.5    10.5      11.6   1.9720  1.1600\n",
              " 147     7.0    10.6      11.6   1.7284  1.1484\n",
              " 148     9.7    11.0      12.0   2.1960  1.3800\n",
              " 149     9.8    11.2      12.4   2.0832  1.2772\n",
              " 150     8.7    11.3      12.6   1.9782  1.2852\n",
              " 151    10.0    11.8      13.1   2.2139  1.2838\n",
              " 152     9.9    11.8      13.1   2.2139  1.1659\n",
              " 153     9.8    12.0      13.2   2.2044  1.1484\n",
              " 154    12.2    12.2      13.4   2.0904  1.3936\n",
              " 155    13.4    12.4      13.5   2.4300  1.2690\n",
              " 156    12.2    13.0      13.8   2.2770  1.2558\n",
              " 157    19.7    14.3      15.2   2.8728  2.0672\n",
              " 158    19.9    15.0      16.2   2.9322  1.8792)"
            ]
          },
          "metadata": {},
          "execution_count": 45
        }
      ]
    },
    {
      "cell_type": "code",
      "source": [
        "from sklearn.preprocessing import StandardScaler\n",
        "s_x_data=StandardScaler().fit_transform(tr_x_data)\n",
        "s_x_data"
      ],
      "metadata": {
        "colab": {
          "base_uri": "https://localhost:8080/"
        },
        "id": "Ic7S4GScPHZo",
        "outputId": "4e9edfc8-5009-43ff-f01f-1c0b61455946"
      },
      "execution_count": 46,
      "outputs": [
        {
          "output_type": "execute_result",
          "data": {
            "text/plain": [
              "array([[-6.23503645e-01, -1.63261338e-01, -9.35761929e-02,\n",
              "         7.16176155e-03, -1.23106841e-01],\n",
              "       [-4.75710188e-01, -7.44842107e-02,  6.64748911e-03,\n",
              "         1.64851924e-01,  2.35424360e-02],\n",
              "       [-3.21758671e-01, -5.47559603e-02, -1.70448439e-03,\n",
              "         1.48064492e-01,  2.24055541e-01],\n",
              "       [-2.50940973e-01,  1.91847170e-01,  1.98742880e-01,\n",
              "         2.05917071e-01,  1.00512768e-01],\n",
              "       [-4.46459400e-02,  1.91847170e-01,  2.40502747e-01,\n",
              "         1.58938543e-01,  4.48907497e-01],\n",
              "       [ 1.69346669e-02,  2.60896046e-01,  2.98966562e-01,\n",
              "         3.49218006e-01,  3.42822971e-01],\n",
              "       [ 1.70886184e-01,  2.60896046e-01,  2.82262615e-01,\n",
              "         4.44012790e-01,  5.23105048e-01],\n",
              "       [-1.67807154e-01,  2.90488422e-01,  3.24022482e-01,\n",
              "         1.96061435e-01,  2.20923326e-01],\n",
              "       [ 1.69346669e-02,  2.90488422e-01,  3.32374456e-01,\n",
              "         4.15332892e-01,  2.99896222e-01],\n",
              "       [ 1.70886184e-01,  3.59537298e-01,  4.24246164e-01,\n",
              "         4.51749463e-01,  3.59254262e-01],\n",
              "       [ 9.39104255e-02,  3.89129674e-01,  4.24246164e-01,\n",
              "         4.57695697e-01,  4.33605857e-01],\n",
              "       [ 1.70886184e-01,  3.89129674e-01,  4.24246164e-01,\n",
              "         4.75534396e-01,  2.84902668e-01],\n",
              "       [ 1.70886184e-01,  4.38450300e-01,  4.40950111e-01,\n",
              "         3.74974066e-01,  5.55834546e-02],\n",
              "       [-3.21758671e-01,  4.87770926e-01,  5.16117873e-01,\n",
              "         4.00220918e-01,  4.17482652e-01],\n",
              "       [ 4.78789219e-01,  4.87770926e-01,  5.07765899e-01,\n",
              "         5.71298318e-01,  4.67803483e-01],\n",
              "       [ 4.78789219e-01,  4.87770926e-01,  5.07765899e-01,\n",
              "         6.50734737e-01,  6.77918624e-01],\n",
              "       [ 7.86692253e-01,  5.86412178e-01,  5.99637608e-01,\n",
              "         5.55857823e-01,  5.26648046e-01],\n",
              "       [ 7.86692253e-01,  5.86412178e-01,  6.16341555e-01,\n",
              "         5.68604444e-01,  4.81513341e-01],\n",
              "       [ 5.09579522e-01,  6.35732804e-01,  6.24693528e-01,\n",
              "         6.82765552e-01,  4.48804802e-01],\n",
              "       [ 6.32740736e-01,  6.35732804e-01,  6.33045502e-01,\n",
              "         4.92354680e-01,  7.53707956e-01],\n",
              "       [ 4.01813460e-01,  6.85053430e-01,  6.99861290e-01,\n",
              "         5.99896086e-01,  6.72527106e-01],\n",
              "       [ 7.40506798e-01,  6.85053430e-01,  6.74805369e-01,\n",
              "         7.41997919e-01,  5.70293664e-01],\n",
              "       [ 5.40369825e-01,  7.34374056e-01,  7.16565237e-01,\n",
              "         6.64647609e-01,  5.23926613e-01],\n",
              "       [ 7.25111646e-01,  7.83694682e-01,  7.91732998e-01,\n",
              "         6.55761111e-01,  9.60639535e-01],\n",
              "       [ 7.86692253e-01,  7.83694682e-01,  7.83381025e-01,\n",
              "         7.82553857e-01,  6.82539925e-01],\n",
              "       [ 8.63668012e-01,  7.83694682e-01,  8.16788919e-01,\n",
              "         8.02182997e-01,  9.20896348e-01],\n",
              "       [ 8.48272860e-01,  7.83694682e-01,  7.91732998e-01,\n",
              "         8.02478667e-01,  9.39792334e-01],\n",
              "       [ 8.29798678e-01,  8.82335934e-01,  8.66900760e-01,\n",
              "         8.27971909e-01,  8.17327863e-01],\n",
              "       [ 1.24854680e+00,  8.82335934e-01,  8.75252733e-01,\n",
              "         8.89175404e-01,  9.95453334e-01],\n",
              "       [ 1.71040136e+00,  9.80977186e-01,  9.58772468e-01,\n",
              "         1.22876774e+00,  1.20320648e+00],\n",
              "       [ 1.46407893e+00,  1.12893906e+00,  1.08405207e+00,\n",
              "         1.07763157e+00,  1.05085760e+00],\n",
              "       [ 1.57184499e+00,  1.12893906e+00,  1.07570010e+00,\n",
              "         1.08536825e+00,  1.04351486e+00],\n",
              "       [ 1.47947408e+00,  1.22758032e+00,  1.18427575e+00,\n",
              "         1.19545569e+00,  1.27853368e+00],\n",
              "       [ 1.63342560e+00,  1.37554219e+00,  1.23438759e+00,\n",
              "         1.17594153e+00,  1.27730133e+00],\n",
              "       [ 1.55644984e+00,  1.37554219e+00,  1.28449943e+00,\n",
              "         1.00972625e+00,  1.08382287e+00],\n",
              "       [-1.34799948e+00, -1.70206487e+00, -1.69715510e+00,\n",
              "        -1.59950388e+00, -1.64936844e+00],\n",
              "       [-1.34553626e+00, -1.63301599e+00, -1.63033932e+00,\n",
              "        -1.56119831e+00, -1.59165353e+00],\n",
              "       [-1.34707578e+00, -1.62315187e+00, -1.63033932e+00,\n",
              "        -1.60121219e+00, -1.59760987e+00],\n",
              "       [-1.33876239e+00, -1.58369537e+00, -1.59693142e+00,\n",
              "        -1.52440394e+00, -1.47868840e+00],\n",
              "       [-1.33845449e+00, -1.56396712e+00, -1.56352353e+00,\n",
              "        -1.54293254e+00, -1.53147392e+00],\n",
              "       [-1.34184142e+00, -1.55410299e+00, -1.54681958e+00,\n",
              "        -1.56017990e+00, -1.52736610e+00],\n",
              "       [-1.33783868e+00, -1.50478237e+00, -1.50505971e+00,\n",
              "        -1.52146368e+00, -1.52808497e+00],\n",
              "       [-1.33814659e+00, -1.50478237e+00, -1.50505971e+00,\n",
              "        -1.52146368e+00, -1.58862401e+00],\n",
              "       [-1.33845449e+00, -1.48505411e+00, -1.49670774e+00,\n",
              "        -1.52302415e+00, -1.59760987e+00],\n",
              "       [-1.33106482e+00, -1.46532586e+00, -1.48000379e+00,\n",
              "        -1.54174986e+00, -1.47170510e+00],\n",
              "       [-1.32736998e+00, -1.44559761e+00, -1.47165182e+00,\n",
              "        -1.48596696e+00, -1.53568444e+00],\n",
              "       [-1.33106482e+00, -1.38641286e+00, -1.44659590e+00,\n",
              "        -1.51109883e+00, -1.54246235e+00],\n",
              "       [-1.30797209e+00, -1.25817924e+00, -1.32966827e+00,\n",
              "        -1.41323238e+00, -1.12582641e+00],\n",
              "       [-1.30735628e+00, -1.18913036e+00, -1.24614854e+00,\n",
              "        -1.40347530e+00, -1.22236025e+00]])"
            ]
          },
          "metadata": {},
          "execution_count": 46
        }
      ]
    },
    {
      "cell_type": "code",
      "source": [
        "t_x,tt_x,t_y,tt_y=train_test_split(s_x_data,tr_y_data,test_size=0.3,random_state=42)"
      ],
      "metadata": {
        "id": "L9lhxBsRO8mA"
      },
      "execution_count": 47,
      "outputs": []
    },
    {
      "cell_type": "code",
      "source": [
        "lorg=LogisticRegression()\n",
        "lorg.fit(t_x,t_y)"
      ],
      "metadata": {
        "colab": {
          "base_uri": "https://localhost:8080/"
        },
        "id": "FssmKnhWPovv",
        "outputId": "5bd669a5-3857-4f60-ebc8-2880afd1def5"
      },
      "execution_count": 48,
      "outputs": [
        {
          "output_type": "execute_result",
          "data": {
            "text/plain": [
              "LogisticRegression()"
            ]
          },
          "metadata": {},
          "execution_count": 48
        }
      ]
    },
    {
      "cell_type": "code",
      "source": [
        "lorg.predict(tt_x[:10])"
      ],
      "metadata": {
        "colab": {
          "base_uri": "https://localhost:8080/"
        },
        "id": "GfKt7J8IP07A",
        "outputId": "7712da87-4c3c-4271-d1ab-21905306c238"
      },
      "execution_count": 49,
      "outputs": [
        {
          "output_type": "execute_result",
          "data": {
            "text/plain": [
              "array(['Bream', 'Smelt', 'Smelt', 'Smelt', 'Bream', 'Bream', 'Bream',\n",
              "       'Bream', 'Bream', 'Bream'], dtype=object)"
            ]
          },
          "metadata": {},
          "execution_count": 49
        }
      ]
    },
    {
      "cell_type": "code",
      "source": [
        "lorg.predict_proba(tt_x[:10])"
      ],
      "metadata": {
        "colab": {
          "base_uri": "https://localhost:8080/"
        },
        "id": "-1HTsrS7QDpP",
        "outputId": "714e42ad-edb8-4b1b-ff12-3ef3b32f881c"
      },
      "execution_count": 50,
      "outputs": [
        {
          "output_type": "execute_result",
          "data": {
            "text/plain": [
              "array([[9.79312895e-01, 2.06871045e-02],\n",
              "       [4.82370576e-02, 9.51762942e-01],\n",
              "       [8.96483125e-02, 9.10351687e-01],\n",
              "       [4.73474615e-02, 9.52652538e-01],\n",
              "       [9.92030874e-01, 7.96912633e-03],\n",
              "       [9.96894280e-01, 3.10571975e-03],\n",
              "       [9.96741234e-01, 3.25876633e-03],\n",
              "       [9.96783343e-01, 3.21665687e-03],\n",
              "       [9.99036440e-01, 9.63560183e-04],\n",
              "       [9.92940855e-01, 7.05914472e-03]])"
            ]
          },
          "metadata": {},
          "execution_count": 50
        }
      ]
    },
    {
      "cell_type": "code",
      "source": [
        "lorg.coef_"
      ],
      "metadata": {
        "colab": {
          "base_uri": "https://localhost:8080/"
        },
        "id": "i0uGs0rWQWqh",
        "outputId": "0d4b036d-c5ee-44e1-ce38-6aace83140fd"
      },
      "execution_count": 51,
      "outputs": [
        {
          "output_type": "execute_result",
          "data": {
            "text/plain": [
              "array([[-0.55452419, -0.7696095 , -0.80312071, -0.85354523, -0.81282796]])"
            ]
          },
          "metadata": {},
          "execution_count": 51
        }
      ]
    },
    {
      "cell_type": "code",
      "source": [
        "f_end=lorg.decision_function(tt_x[:10])\n",
        "f_end"
      ],
      "metadata": {
        "colab": {
          "base_uri": "https://localhost:8080/"
        },
        "id": "p6yBWu0-QzgX",
        "outputId": "cb37632b-caf8-4442-9d49-3f34a0f0eb07"
      },
      "execution_count": 52,
      "outputs": [
        {
          "output_type": "execute_result",
          "data": {
            "text/plain": [
              "array([-3.85734066,  2.98218844,  2.31793662,  3.00173703, -4.82417936,\n",
              "       -5.77139924, -5.72314249, -5.73619086, -6.94391158, -4.9463472 ])"
            ]
          },
          "metadata": {},
          "execution_count": 52
        }
      ]
    },
    {
      "cell_type": "code",
      "source": [
        "from scipy.special import expit\n",
        "expit(f_end)"
      ],
      "metadata": {
        "colab": {
          "base_uri": "https://localhost:8080/"
        },
        "id": "CnT_tyq6Rka_",
        "outputId": "e7f3f2b6-9cb1-4f3b-a97a-7ee756fe7eeb"
      },
      "execution_count": 53,
      "outputs": [
        {
          "output_type": "execute_result",
          "data": {
            "text/plain": [
              "array([0.0206871 , 0.95176294, 0.91035169, 0.95265254, 0.00796913,\n",
              "       0.00310572, 0.00325877, 0.00321666, 0.00096356, 0.00705914])"
            ]
          },
          "metadata": {},
          "execution_count": 53
        }
      ]
    },
    {
      "cell_type": "code",
      "source": [
        "a_tr_x=StandardScaler().fit_transform(x_data)\n",
        "t_x,tt_x,t_y,tt_y=train_test_split(a_tr_x,y_data,test_size=0.3,random_state=42)"
      ],
      "metadata": {
        "id": "yqXxCa1SSErn"
      },
      "execution_count": 54,
      "outputs": []
    },
    {
      "cell_type": "code",
      "source": [
        "m_l_rg=LogisticRegression()"
      ],
      "metadata": {
        "id": "gRIndpmXXMZd"
      },
      "execution_count": 55,
      "outputs": []
    },
    {
      "cell_type": "code",
      "source": [
        "m_l_rg.fit(t_x,t_y)"
      ],
      "metadata": {
        "colab": {
          "base_uri": "https://localhost:8080/"
        },
        "id": "XM-8OUMXXlGW",
        "outputId": "b84a3b01-47d1-4822-f3e1-7cffbc845992"
      },
      "execution_count": 56,
      "outputs": [
        {
          "output_type": "execute_result",
          "data": {
            "text/plain": [
              "LogisticRegression()"
            ]
          },
          "metadata": {},
          "execution_count": 56
        }
      ]
    },
    {
      "cell_type": "code",
      "source": [
        "m_l_rg.classes_"
      ],
      "metadata": {
        "colab": {
          "base_uri": "https://localhost:8080/"
        },
        "id": "azbU6KipXrDY",
        "outputId": "a78136ef-f2e2-4a7e-b5ce-24a97498d8c5"
      },
      "execution_count": 57,
      "outputs": [
        {
          "output_type": "execute_result",
          "data": {
            "text/plain": [
              "array(['Bream', 'Parkki', 'Perch', 'Pike', 'Roach', 'Smelt', 'Whitefish'],\n",
              "      dtype=object)"
            ]
          },
          "metadata": {},
          "execution_count": 57
        }
      ]
    },
    {
      "cell_type": "code",
      "source": [
        "m_l_rg.score(t_x,t_y)"
      ],
      "metadata": {
        "colab": {
          "base_uri": "https://localhost:8080/"
        },
        "id": "0ZIpo_iBX723",
        "outputId": "54f5799d-678c-42da-bafd-c933c4a9dda4"
      },
      "execution_count": 58,
      "outputs": [
        {
          "output_type": "execute_result",
          "data": {
            "text/plain": [
              "0.8018018018018018"
            ]
          },
          "metadata": {},
          "execution_count": 58
        }
      ]
    },
    {
      "cell_type": "code",
      "source": [
        "m_l_rg.score(tt_x,tt_y)"
      ],
      "metadata": {
        "colab": {
          "base_uri": "https://localhost:8080/"
        },
        "id": "YckvUsFoX10l",
        "outputId": "5431a208-e4ed-4acf-feba-8279da9439c0"
      },
      "execution_count": 59,
      "outputs": [
        {
          "output_type": "execute_result",
          "data": {
            "text/plain": [
              "0.8541666666666666"
            ]
          },
          "metadata": {},
          "execution_count": 59
        }
      ]
    },
    {
      "cell_type": "code",
      "source": [
        "#ovr 이진분류 ,multinomial 다중분류\n",
        "new_m_l_rg=LogisticRegression(max_iter=100000)\n",
        "new_m_l_rg.fit(t_x,t_y)\n",
        "new_m_l_rg.score(t_x,t_y)"
      ],
      "metadata": {
        "colab": {
          "base_uri": "https://localhost:8080/"
        },
        "id": "LXfS66bdYFGm",
        "outputId": "5cc4c0d0-c366-4057-8acb-c0c8b59003c6"
      },
      "execution_count": 60,
      "outputs": [
        {
          "output_type": "execute_result",
          "data": {
            "text/plain": [
              "0.8018018018018018"
            ]
          },
          "metadata": {},
          "execution_count": 60
        }
      ]
    },
    {
      "cell_type": "code",
      "source": [
        "new_m_l_rg.score(tt_x,tt_y)"
      ],
      "metadata": {
        "id": "y1iOUfylYt48",
        "colab": {
          "base_uri": "https://localhost:8080/"
        },
        "outputId": "62042fb5-48ff-4a3c-e62e-6ffcc91ace22"
      },
      "execution_count": 61,
      "outputs": [
        {
          "output_type": "execute_result",
          "data": {
            "text/plain": [
              "0.8541666666666666"
            ]
          },
          "metadata": {},
          "execution_count": 61
        }
      ]
    },
    {
      "cell_type": "markdown",
      "source": [
        "penalty='l2', \n",
        "*, \n",
        "dual=False, \n",
        "tol=0.0001, \n",
        "C=1.0, \n",
        "fit_intercept=True, \n",
        "intercept_scaling=1, \n",
        "class_weight=None, \n",
        "random_state=None, \n",
        "solver='lbfgs', \n",
        "max_iter=100, \n",
        "multi_class='auto', \n",
        "verbose=0, \n",
        "warm_start=False, \n",
        "l1_ratio=None"
      ],
      "metadata": {
        "id": "aH68qRBEYSh8"
      }
    },
    {
      "cell_type": "code",
      "source": [
        "new_m_l_rg.predict(tt_x)"
      ],
      "metadata": {
        "id": "RRu9Ju6MYSRP",
        "colab": {
          "base_uri": "https://localhost:8080/"
        },
        "outputId": "1e67ce12-3c41-4be3-8c8a-8dd43c772bf8"
      },
      "execution_count": 62,
      "outputs": [
        {
          "output_type": "execute_result",
          "data": {
            "text/plain": [
              "array(['Perch', 'Smelt', 'Pike', 'Perch', 'Perch', 'Bream', 'Smelt',\n",
              "       'Perch', 'Perch', 'Pike', 'Bream', 'Perch', 'Bream', 'Parkki',\n",
              "       'Bream', 'Bream', 'Perch', 'Perch', 'Perch', 'Bream', 'Smelt',\n",
              "       'Bream', 'Bream', 'Bream', 'Bream', 'Perch', 'Perch', 'Perch',\n",
              "       'Smelt', 'Smelt', 'Pike', 'Perch', 'Perch', 'Pike', 'Bream',\n",
              "       'Perch', 'Perch', 'Perch', 'Parkki', 'Perch', 'Bream', 'Pike',\n",
              "       'Smelt', 'Perch', 'Parkki', 'Perch', 'Perch', 'Bream'],\n",
              "      dtype=object)"
            ]
          },
          "metadata": {},
          "execution_count": 62
        }
      ]
    },
    {
      "cell_type": "code",
      "source": [
        "new_m_l_rg.predict_proba(tt_x)"
      ],
      "metadata": {
        "id": "8SfWk-e4Z-j_",
        "colab": {
          "base_uri": "https://localhost:8080/"
        },
        "outputId": "4ce068ec-bc45-43d4-abe2-2dd92f84365c"
      },
      "execution_count": 63,
      "outputs": [
        {
          "output_type": "execute_result",
          "data": {
            "text/plain": [
              "array([[5.07586987e-03, 9.28934901e-02, 5.35248419e-01, 8.35887207e-03,\n",
              "        2.81365838e-01, 6.65449445e-02, 1.05125661e-02],\n",
              "       [3.59839767e-04, 6.77284914e-02, 1.42523272e-01, 2.35996719e-03,\n",
              "        8.95746057e-02, 6.96383085e-01, 1.07073965e-03],\n",
              "       [1.16282104e-02, 1.03720378e-02, 2.29743882e-01, 5.58196290e-01,\n",
              "        1.68039634e-01, 7.48069345e-03, 1.45392525e-02],\n",
              "       [6.56164192e-02, 7.57486771e-02, 5.23472292e-01, 3.60190892e-02,\n",
              "        2.54749452e-01, 3.80385406e-03, 4.05902170e-02],\n",
              "       [5.34456707e-03, 3.27395708e-02, 6.48686542e-01, 2.66550108e-02,\n",
              "        2.50585078e-01, 2.13415919e-02, 1.46476394e-02],\n",
              "       [9.82599987e-01, 3.29349939e-03, 4.83411708e-03, 4.14838270e-04,\n",
              "        5.34561196e-04, 2.64267470e-08, 8.32297037e-03],\n",
              "       [1.35282562e-04, 4.42350503e-02, 1.22276103e-01, 1.09628664e-03,\n",
              "        6.09781732e-02, 7.70672938e-01, 6.06166753e-04],\n",
              "       [3.04845044e-02, 6.29599543e-02, 4.95186818e-01, 4.84748151e-02,\n",
              "        3.24019513e-01, 9.59957534e-03, 2.92748194e-02],\n",
              "       [1.49628003e-02, 3.99266419e-02, 6.31975930e-01, 2.44890572e-02,\n",
              "        2.57410650e-01, 6.95023403e-03, 2.42846862e-02],\n",
              "       [6.31628146e-03, 3.86073243e-06, 8.99093420e-02, 8.94224460e-01,\n",
              "        3.93397465e-04, 2.22656402e-08, 9.15263566e-03],\n",
              "       [8.35136539e-01, 2.36408149e-02, 6.84424609e-02, 1.03782285e-02,\n",
              "        2.06750843e-02, 7.74895823e-06, 4.17191231e-02],\n",
              "       [1.56389491e-01, 1.78049142e-03, 6.88908254e-01, 6.67924863e-02,\n",
              "        1.03221098e-02, 2.31974050e-06, 7.58048472e-02],\n",
              "       [9.10682977e-01, 2.92848253e-02, 2.28314045e-02, 3.07421360e-03,\n",
              "        1.21888766e-02, 4.74643251e-06, 2.19329564e-02],\n",
              "       [8.93137667e-02, 4.10302510e-01, 2.01862211e-01, 7.03146845e-03,\n",
              "        2.53720808e-01, 1.75124854e-02, 2.02567499e-02],\n",
              "       [9.54483734e-01, 1.32946945e-02, 1.01112960e-02, 3.49327753e-03,\n",
              "        4.61792815e-03, 1.25123800e-06, 1.39978190e-02],\n",
              "       [9.78961266e-01, 3.41986958e-03, 5.38755759e-03, 1.52215046e-03,\n",
              "        9.47789338e-04, 6.57284828e-08, 9.76130177e-03],\n",
              "       [5.40332159e-02, 2.14692881e-04, 8.32610574e-01, 2.99713376e-02,\n",
              "        6.46494361e-03, 1.33914167e-07, 7.67051018e-02],\n",
              "       [2.53057873e-02, 4.28328544e-02, 5.94633107e-01, 4.52365364e-02,\n",
              "        2.56523169e-01, 5.66825478e-03, 2.98002919e-02],\n",
              "       [3.04843637e-02, 9.05858183e-02, 5.59824459e-01, 2.73890924e-02,\n",
              "        2.53456489e-01, 1.19582983e-02, 2.63014793e-02],\n",
              "       [8.88490442e-01, 2.77282939e-02, 3.82209033e-02, 7.51319274e-03,\n",
              "        1.16542333e-02, 7.87597647e-06, 2.63850587e-02],\n",
              "       [2.76505042e-04, 5.96246426e-02, 1.43890926e-01, 1.93289645e-03,\n",
              "        8.52721151e-02, 7.08040687e-01, 9.62227947e-04],\n",
              "       [9.40049398e-01, 2.48293562e-02, 1.02003026e-02, 4.24221521e-03,\n",
              "        7.33172237e-03, 4.30196499e-06, 1.33427037e-02],\n",
              "       [8.49644893e-01, 6.70990060e-02, 2.39436189e-02, 1.49808503e-02,\n",
              "        2.46342456e-02, 6.26152761e-05, 1.96347713e-02],\n",
              "       [8.58069687e-01, 5.57364901e-02, 2.86792295e-02, 7.37098278e-03,\n",
              "        2.60644656e-02, 2.85139845e-05, 2.40506307e-02],\n",
              "       [9.78513689e-01, 3.38808714e-03, 5.92075732e-03, 1.46326278e-03,\n",
              "        8.45735664e-04, 6.26278783e-08, 9.86840553e-03],\n",
              "       [6.74090660e-02, 3.53679545e-04, 8.19248898e-01, 4.28964348e-02,\n",
              "        4.66432839e-03, 3.03135631e-07, 6.54272902e-02],\n",
              "       [1.30928694e-02, 5.52348176e-02, 5.96530496e-01, 2.67684642e-02,\n",
              "        2.72412308e-01, 1.57151093e-02, 2.02459355e-02],\n",
              "       [5.70269077e-02, 6.23574095e-02, 5.36814905e-01, 4.50873207e-02,\n",
              "        2.55058233e-01, 3.79873243e-03, 3.98564917e-02],\n",
              "       [1.16246298e-04, 4.54345983e-02, 1.02935916e-01, 7.71618724e-04,\n",
              "        5.16157698e-02, 7.98633725e-01, 4.92125189e-04],\n",
              "       [2.66690594e-04, 5.94452035e-02, 1.21672655e-01, 1.90875563e-03,\n",
              "        7.65236233e-02, 7.39340363e-01, 8.42709407e-04],\n",
              "       [4.59553988e-03, 2.68369945e-04, 7.06590793e-02, 9.05127618e-01,\n",
              "        1.30685976e-02, 6.14832076e-05, 6.21931184e-03],\n",
              "       [3.06365237e-03, 8.29618128e-02, 5.35979142e-01, 6.90942663e-03,\n",
              "        2.64523354e-01, 9.83781374e-02, 8.18447410e-03],\n",
              "       [3.24757799e-03, 1.22905619e-01, 4.41352856e-01, 5.57680484e-03,\n",
              "        2.61058527e-01, 1.58945467e-01, 6.91314935e-03],\n",
              "       [5.27908679e-03, 1.14614672e-04, 3.92766736e-02, 9.43531112e-01,\n",
              "        6.58789897e-03, 1.16821684e-05, 5.19893206e-03],\n",
              "       [5.71385475e-01, 1.62370724e-01, 1.03120856e-01, 8.75477175e-03,\n",
              "        1.13017016e-01, 3.39146151e-04, 4.10120113e-02],\n",
              "       [1.34649120e-02, 8.76211489e-02, 5.07128833e-01, 2.27736445e-02,\n",
              "        3.20334273e-01, 3.09887516e-02, 1.76884372e-02],\n",
              "       [2.49257582e-02, 8.89018857e-02, 5.00418934e-01, 2.09530957e-02,\n",
              "        3.26280343e-01, 1.35881806e-02, 2.49318029e-02],\n",
              "       [1.49772850e-02, 1.04667199e-01, 4.60040247e-01, 2.21973385e-02,\n",
              "        3.42544237e-01, 3.80623147e-02, 1.75113788e-02],\n",
              "       [1.66447472e-01, 4.81050951e-01, 1.04217160e-01, 9.05685339e-03,\n",
              "        2.08800965e-01, 1.19752828e-02, 1.84513162e-02],\n",
              "       [1.11273154e-01, 1.49545999e-03, 7.56964591e-01, 2.41389611e-02,\n",
              "        1.84299529e-02, 1.32247902e-06, 8.76965583e-02],\n",
              "       [9.44661697e-01, 1.08901275e-02, 1.64206017e-02, 2.83106305e-03,\n",
              "        5.42644769e-03, 7.65794308e-07, 1.97692973e-02],\n",
              "       [3.07786196e-03, 9.61593448e-05, 4.63692173e-02, 9.36652677e-01,\n",
              "        8.90923897e-03, 1.80351498e-05, 4.87681053e-03],\n",
              "       [1.70227265e-04, 5.28084539e-02, 1.20523092e-01, 1.07224630e-03,\n",
              "        6.44713301e-02, 7.60293598e-01, 6.61051687e-04],\n",
              "       [5.03319812e-03, 3.19017825e-02, 6.47423932e-01, 1.32244055e-02,\n",
              "        2.73186646e-01, 1.40120842e-02, 1.52179511e-02],\n",
              "       [8.05425691e-02, 3.48159678e-01, 2.28047932e-01, 1.07565255e-02,\n",
              "        2.90813063e-01, 1.98960731e-02, 2.17841599e-02],\n",
              "       [7.45828756e-03, 1.34615610e-01, 4.11357528e-01, 1.18215777e-02,\n",
              "        3.22823392e-01, 1.01279311e-01, 1.06442946e-02],\n",
              "       [7.63225701e-03, 6.36917160e-02, 5.73278333e-01, 1.43230657e-02,\n",
              "        2.97584053e-01, 2.84061368e-02, 1.50844392e-02],\n",
              "       [9.38522206e-01, 1.98347497e-02, 1.21029060e-02, 6.01700274e-03,\n",
              "        7.94647013e-03, 3.62659537e-06, 1.55730388e-02]])"
            ]
          },
          "metadata": {},
          "execution_count": 63
        }
      ]
    },
    {
      "cell_type": "code",
      "source": [
        "new_m_l_rg.coef_,new_m_l_rg.intercept_"
      ],
      "metadata": {
        "colab": {
          "base_uri": "https://localhost:8080/"
        },
        "id": "Nz5fLWcQaMlU",
        "outputId": "54b43aac-9e29-4f35-8b70-9160212676eb"
      },
      "execution_count": 64,
      "outputs": [
        {
          "output_type": "execute_result",
          "data": {
            "text/plain": [
              "(array([[-0.13720309, -0.09837634,  0.64916676,  2.80704424, -0.33356426],\n",
              "        [-0.28616488, -0.79895003, -0.79629269,  1.8299128 , -0.8051308 ],\n",
              "        [ 1.32267793,  0.32178964, -1.30701554, -1.66960226,  1.5361071 ],\n",
              "        [-0.00994323,  1.7066722 ,  1.72689685, -1.27798947, -0.67005444],\n",
              "        [-0.8707343 , -0.51680577,  0.32080145, -0.42148269,  0.6971626 ],\n",
              "        [-0.36400096, -0.63161923, -0.64703215, -1.40596883, -1.46434398],\n",
              "        [ 0.34536853,  0.01728953,  0.05347532,  0.13808622,  1.03982378]]),\n",
              " array([ 0.47460629, -0.09213511,  2.31437036, -0.03457231,  1.05889497,\n",
              "        -3.55502231, -0.16614189]))"
            ]
          },
          "metadata": {},
          "execution_count": 64
        }
      ]
    },
    {
      "cell_type": "code",
      "source": [
        "d_data=new_m_l_rg.decision_function(tt_x[:1])\n",
        "np.round(d_data,decimals=3)"
      ],
      "metadata": {
        "colab": {
          "base_uri": "https://localhost:8080/"
        },
        "id": "X2GAa_3IaCNU",
        "outputId": "e1a531c3-e944-4c15-d809-6014e2f2ef31"
      },
      "execution_count": 65,
      "outputs": [
        {
          "output_type": "execute_result",
          "data": {
            "text/plain": [
              "array([[-2.197,  0.71 ,  2.461, -1.698,  1.818,  0.376, -1.469]])"
            ]
          },
          "metadata": {},
          "execution_count": 65
        }
      ]
    },
    {
      "cell_type": "code",
      "source": [
        "from scipy.special import softmax\n",
        "proba=softmax(d_data,axis=1)\n",
        "np.round(proba,decimals=3)"
      ],
      "metadata": {
        "colab": {
          "base_uri": "https://localhost:8080/"
        },
        "id": "3oBnmXenbFQU",
        "outputId": "6904f7de-03f6-4a63-f865-cf386d64acc6"
      },
      "execution_count": 66,
      "outputs": [
        {
          "output_type": "execute_result",
          "data": {
            "text/plain": [
              "array([[0.005, 0.093, 0.535, 0.008, 0.281, 0.067, 0.011]])"
            ]
          },
          "metadata": {},
          "execution_count": 66
        }
      ]
    },
    {
      "cell_type": "code",
      "source": [
        "y_data"
      ],
      "metadata": {
        "colab": {
          "base_uri": "https://localhost:8080/"
        },
        "id": "ZcHKeDdyj9t5",
        "outputId": "86e8cbe3-544b-4b7c-fe59-4863b6501e37"
      },
      "execution_count": 67,
      "outputs": [
        {
          "output_type": "execute_result",
          "data": {
            "text/plain": [
              "0      Bream\n",
              "1      Bream\n",
              "2      Bream\n",
              "3      Bream\n",
              "4      Bream\n",
              "       ...  \n",
              "154    Smelt\n",
              "155    Smelt\n",
              "156    Smelt\n",
              "157    Smelt\n",
              "158    Smelt\n",
              "Name: Species, Length: 159, dtype: object"
            ]
          },
          "metadata": {},
          "execution_count": 67
        }
      ]
    },
    {
      "cell_type": "code",
      "source": [
        "t_x,tt_x,t_y,tt_y=train_test_split(x_data,y_data,random_state=42)"
      ],
      "metadata": {
        "id": "Ezae17bDkPJY"
      },
      "execution_count": 68,
      "outputs": []
    },
    {
      "cell_type": "code",
      "source": [
        "ss=StandardScaler()\n",
        "ss.fit(t_x)\n",
        "tr_t_x=ss.transform(t_x)\n",
        "tr_tt_x=ss.transform(tt_x)"
      ],
      "metadata": {
        "id": "e3-LIBLZka-Y"
      },
      "execution_count": 69,
      "outputs": []
    },
    {
      "cell_type": "code",
      "source": [
        "from sklearn.linear_model import SGDClassifier\n",
        "sdg_c=SGDClassifier(loss='log',max_iter=1000,random_state=42)\n",
        "sdg_c.fit(tr_t_x,t_y)\n",
        "sdg_c.score(tr_t_x,t_y),sdg_c.score(tr_tt_x,tt_y)"
      ],
      "metadata": {
        "colab": {
          "base_uri": "https://localhost:8080/"
        },
        "id": "D6Jgt7qykucJ",
        "outputId": "3c356398-05dd-4215-8a12-8978743705bc"
      },
      "execution_count": 70,
      "outputs": [
        {
          "output_type": "execute_result",
          "data": {
            "text/plain": [
              "(0.8571428571428571, 0.8)"
            ]
          },
          "metadata": {},
          "execution_count": 70
        }
      ]
    },
    {
      "cell_type": "code",
      "source": [
        "sdg_c.partial_fit(tr_t_x,t_y)\n",
        "sdg_c.score(tr_t_x,t_y),sdg_c.score(tr_tt_x,tt_y)"
      ],
      "metadata": {
        "colab": {
          "base_uri": "https://localhost:8080/"
        },
        "id": "Ih2xEG5Ilkfi",
        "outputId": "31719aca-d729-4a41-ec48-019faba686c5"
      },
      "execution_count": 71,
      "outputs": [
        {
          "output_type": "execute_result",
          "data": {
            "text/plain": [
              "(0.8991596638655462, 0.925)"
            ]
          },
          "metadata": {},
          "execution_count": 71
        }
      ]
    },
    {
      "cell_type": "code",
      "source": [
        "from sklearn.linear_model import SGDClassifier\n",
        "from sklearn.preprocessing import MinMaxScaler, StandardScaler\n",
        "from sklearn.model_selection import train_test_split"
      ],
      "metadata": {
        "id": "s8qfNRHapOw2"
      },
      "execution_count": 72,
      "outputs": []
    },
    {
      "cell_type": "code",
      "source": [
        "t_x,tt_x,t_y,tt_y=train_test_split(x_data,y_data,random_state=42)"
      ],
      "metadata": {
        "id": "bqscluiLoQKS"
      },
      "execution_count": 73,
      "outputs": []
    },
    {
      "cell_type": "code",
      "source": [
        "ss=StandardScaler()\n",
        "ss.fit(t_x)\n",
        "tr_t_x=ss.transform(t_x)\n",
        "tr_tt_x=ss.transform(tt_x)"
      ],
      "metadata": {
        "id": "D_KIxrDcoy2n"
      },
      "execution_count": 74,
      "outputs": []
    },
    {
      "cell_type": "code",
      "source": [
        "sdg_c=SGDClassifier(loss='log',random_state=42)\n",
        "t_sc=[]\n",
        "tt_sc=[]"
      ],
      "metadata": {
        "id": "J8pZOCx-mH2X"
      },
      "execution_count": 75,
      "outputs": []
    },
    {
      "cell_type": "code",
      "source": [
        "#중복제거\n",
        "classes=np.unique(t_y)"
      ],
      "metadata": {
        "id": "YUu2q2xymRSn"
      },
      "execution_count": 76,
      "outputs": []
    },
    {
      "cell_type": "code",
      "source": [
        "for _ in range(300):\n",
        "   sdg_c.partial_fit(tr_t_x,t_y,classes=classes)\n",
        "   t_sc.append(sdg_c.score(tr_t_x,t_y))\n",
        "   tt_sc.append(sdg_c.score(tr_tt_x,tt_y))"
      ],
      "metadata": {
        "id": "XZ4hBNepnAqh"
      },
      "execution_count": 77,
      "outputs": []
    },
    {
      "cell_type": "code",
      "source": [
        "import matplotlib.pyplot as plt\n",
        "plt.plot(t_sc,'r')                      # sgd라 기울기 0값을찾으니 더 돌리는 건 의미 x 많이하면 오히려 오버피팅 발산 가능성\n",
        "                                     # 하지만 이 그래프에선 발산하지 않았다\n",
        "plt.plot(tt_sc,'g')           #편향이 낮고 분산이 높은 데이터는 > 학습을 많이해도 발산을 안한다"
      ],
      "metadata": {
        "colab": {
          "base_uri": "https://localhost:8080/",
          "height": 283
        },
        "id": "L2uhdGNfnluw",
        "outputId": "e01be8d7-e394-4012-8423-2b9af1cb08f9"
      },
      "execution_count": 78,
      "outputs": [
        {
          "output_type": "execute_result",
          "data": {
            "text/plain": [
              "[<matplotlib.lines.Line2D at 0x7fe580d39ed0>]"
            ]
          },
          "metadata": {},
          "execution_count": 78
        },
        {
          "output_type": "display_data",
          "data": {
            "text/plain": [
              "<Figure size 432x288 with 1 Axes>"
            ],
            "image/png": "[encoded data removed]"
          },
          "metadata": {
            "needs_background": "light"
          }
        }
      ]
    },
    {
      "cell_type": "code",
      "source": [
        "sdg_c=SGDClassifier(loss='log', max_iter=10, random_state=42)\n",
        "sdg_c.fit(tr_t_x,t_y)\n",
        "print(sdg_c.score(tr_t_x,t_y),sdg_c.score(tr_tt_x,tt_y))"
      ],
      "metadata": {
        "id": "r4igaxJGn9wf",
        "colab": {
          "base_uri": "https://localhost:8080/"
        },
        "outputId": "8c02a4e4-6c4d-448d-e50b-4f1af366c09e"
      },
      "execution_count": 79,
      "outputs": [
        {
          "output_type": "stream",
          "name": "stdout",
          "text": [
            "0.773109243697479 0.775\n"
          ]
        },
        {
          "output_type": "stream",
          "name": "stderr",
          "text": [
            "/usr/local/lib/python3.7/dist-packages/sklearn/linear_model/_stochastic_gradient.py:700: ConvergenceWarning: Maximum number of iteration reached before convergence. Consider increasing max_iter to improve the fit.\n",
            "  ConvergenceWarning,\n"
          ]
        }
      ]
    },
    {
      "cell_type": "code",
      "source": [
        "sdg_c=SGDClassifier(loss='log', max_iter=100, random_state=42)\n",
        "sdg_c.fit(tr_t_x,t_y)\n",
        "print(sdg_c.score(tr_t_x,t_y),sdg_c.score(tr_tt_x,tt_y))"
      ],
      "metadata": {
        "colab": {
          "base_uri": "https://localhost:8080/"
        },
        "id": "a0dZGi4XrvG_",
        "outputId": "caa941f0-cedb-4d34-b4c8-71dbbccc168e"
      },
      "execution_count": 80,
      "outputs": [
        {
          "output_type": "stream",
          "name": "stdout",
          "text": [
            "0.8571428571428571 0.8\n"
          ]
        }
      ]
    },
    {
      "cell_type": "code",
      "source": [
        "sdg_c=SGDClassifier(loss='log', max_iter=1000, random_state=42)   # max_iter 반복수 # tol 종료조건이 숨어있다\n",
        "sdg_c.fit(tr_t_x,t_y)                                           \n",
        "print(sdg_c.score(tr_t_x,t_y),sdg_c.score(tr_tt_x,tt_y))"
      ],
      "metadata": {
        "colab": {
          "base_uri": "https://localhost:8080/"
        },
        "id": "fxeJ10WEryLP",
        "outputId": "f0cb0840-2796-4a7e-829d-17175fb28ad5"
      },
      "execution_count": 81,
      "outputs": [
        {
          "output_type": "stream",
          "name": "stdout",
          "text": [
            "0.8571428571428571 0.8\n"
          ]
        }
      ]
    },
    {
      "cell_type": "code",
      "source": [
        "sdg_c=SGDClassifier(loss='log', max_iter=1000, random_state=42, tol=None)   # max_iter 반복수 # tol 종료조건이 숨어있다\n",
        "sdg_c.fit(tr_t_x,t_y)                                           \n",
        "print(sdg_c.score(tr_t_x,t_y),sdg_c.score(tr_tt_x,tt_y))"
      ],
      "metadata": {
        "colab": {
          "base_uri": "https://localhost:8080/"
        },
        "id": "R_Emjm8psFyS",
        "outputId": "359fb392-2f4a-45c6-cd88-b85548b40c94"
      },
      "execution_count": 82,
      "outputs": [
        {
          "output_type": "stream",
          "name": "stdout",
          "text": [
            "0.9411764705882353 0.925\n"
          ]
        }
      ]
    },
    {
      "cell_type": "code",
      "source": [
        "\n",
        "import pandas as pd\n",
        "wine = pd.read_csv('https://bit.ly/wine-date')\n",
        "wine\n",
        "print(wine)\n",
        "print(wine.shape)"
      ],
      "metadata": {
        "colab": {
          "base_uri": "https://localhost:8080/"
        },
        "id": "bb2IZXhztPDT",
        "outputId": "391f2871-5299-4a00-beca-c06a40555ca1"
      },
      "execution_count": 87,
      "outputs": [
        {
          "output_type": "stream",
          "name": "stdout",
          "text": [
            "      alcohol  sugar    pH  class\n",
            "0         9.4    1.9  3.51    0.0\n",
            "1         9.8    2.6  3.20    0.0\n",
            "2         9.8    2.3  3.26    0.0\n",
            "3         9.8    1.9  3.16    0.0\n",
            "4         9.4    1.9  3.51    0.0\n",
            "...       ...    ...   ...    ...\n",
            "6492     11.2    1.6  3.27    1.0\n",
            "6493      9.6    8.0  3.15    1.0\n",
            "6494      9.4    1.2  2.99    1.0\n",
            "6495     12.8    1.1  3.34    1.0\n",
            "6496     11.8    0.8  3.26    1.0\n",
            "\n",
            "[6497 rows x 4 columns]\n",
            "(6497, 4)\n"
          ]
        }
      ]
    },
    {
      "cell_type": "code",
      "source": [
        "print(type(wine))"
      ],
      "metadata": {
        "colab": {
          "base_uri": "https://localhost:8080/"
        },
        "id": "E3XlTlpNyoMH",
        "outputId": "fc340737-cc52-4795-e77e-e3c0876b01cf"
      },
      "execution_count": 88,
      "outputs": [
        {
          "output_type": "stream",
          "name": "stdout",
          "text": [
            "<class 'pandas.core.frame.DataFrame'>\n"
          ]
        }
      ]
    },
    {
      "cell_type": "code",
      "source": [
        "###########################################################################################################\n",
        "###########################################################################################################\n",
        "###########################################################################################################\n",
        "###########################################################################################################\n",
        "###########################################################################################################\n",
        "###########################################################################################################\n",
        "###########################################################################################################\n",
        "###########################################################################################################\n",
        "###########################################################################################################\n",
        "###########################################################################################################\n",
        "###########################################################################################################\n",
        "###########################################################################################################\n",
        "###########################################################################################################\n",
        "###########################################################################################################\n",
        "###########################################################################################################\n",
        "###########################################################################################################\n",
        "###########################################################################################################\n",
        "###########################################################################################################\n",
        "###########################################################################################################\n",
        "###########################################################################################################\n",
        "###########################################################################################################\n",
        "###########################################################################################################\n",
        "###########################################################################################################\n"
      ],
      "metadata": {
        "id": "pQJsdFbz1N7w"
      },
      "execution_count": 100,
      "outputs": []
    },
    {
      "cell_type": "code",
      "source": [
        "#미리불러오기      캐글대회준비\n",
        "import numpy as np\n",
        "import pandas as pd\n",
        "import matplotlib.pyplot as plt\n",
        "import seaborn as sns\n",
        "\n",
        "from sklearn.preprocessing import StandardScaler\n",
        "from sklearn.model_selection import train_test_split\n",
        "\n",
        "#필요시\n",
        "import sklearn\n",
        "import sklearn.preprocessing\n",
        "from sklearn.metrics import *\n",
        "from sklearn.linear_model import LinearRegression, LogisticRegression #회귀와분류(클래스분류)\n",
        "from sklearn.tree import DecisionTreeClassifier, DecisionTreeRegressor # 회귀와분류"
      ],
      "metadata": {
        "id": "boVPIEyByynv"
      },
      "execution_count": 95,
      "outputs": []
    },
    {
      "cell_type": "code",
      "source": [
        "import pandas as pd\n",
        "wine = pd.read_csv('https://bit.ly/wine-date')\n"
      ],
      "metadata": {
        "id": "Dum3ggpn0zjQ"
      },
      "execution_count": null,
      "outputs": []
    },
    {
      "cell_type": "code",
      "source": [
        "wine.info()"
      ],
      "metadata": {
        "colab": {
          "base_uri": "https://localhost:8080/"
        },
        "id": "fMGGyC_4zBoE",
        "outputId": "7dba699a-191f-406d-efab-c2335c4d8f6d"
      },
      "execution_count": 98,
      "outputs": [
        {
          "output_type": "stream",
          "name": "stdout",
          "text": [
            "<class 'pandas.core.frame.DataFrame'>\n",
            "RangeIndex: 6497 entries, 0 to 6496\n",
            "Data columns (total 4 columns):\n",
            " #   Column   Non-Null Count  Dtype  \n",
            "---  ------   --------------  -----  \n",
            " 0   alcohol  6497 non-null   float64\n",
            " 1   sugar    6497 non-null   float64\n",
            " 2   pH       6497 non-null   float64\n",
            " 3   class    6497 non-null   float64\n",
            "dtypes: float64(4)\n",
            "memory usage: 203.2 KB\n"
          ]
        }
      ]
    },
    {
      "cell_type": "code",
      "source": [
        "wine.describe() , wine.columns"
      ],
      "metadata": {
        "colab": {
          "base_uri": "https://localhost:8080/"
        },
        "id": "PYvP_MBc0wYi",
        "outputId": "0358384b-5a2f-4068-d797-529ea6ea482f"
      },
      "execution_count": 101,
      "outputs": [
        {
          "output_type": "execute_result",
          "data": {
            "text/plain": [
              "(           alcohol        sugar           pH        class\n",
              " count  6497.000000  6497.000000  6497.000000  6497.000000\n",
              " mean     10.491801     5.443235     3.218501     0.753886\n",
              " std       1.192712     4.757804     0.160787     0.430779\n",
              " min       8.000000     0.600000     2.720000     0.000000\n",
              " 25%       9.500000     1.800000     3.110000     1.000000\n",
              " 50%      10.300000     3.000000     3.210000     1.000000\n",
              " 75%      11.300000     8.100000     3.320000     1.000000\n",
              " max      14.900000    65.800000     4.010000     1.000000,\n",
              " Index(['alcohol', 'sugar', 'pH', 'class'], dtype='object'))"
            ]
          },
          "metadata": {},
          "execution_count": 101
        }
      ]
    },
    {
      "cell_type": "code",
      "source": [
        "X = wine[['alcohol', 'sugar','pH']]\n",
        "y = wine['class']\n",
        "X,y"
      ],
      "metadata": {
        "colab": {
          "base_uri": "https://localhost:8080/"
        },
        "id": "roP1O3cx1XjF",
        "outputId": "29e92529-1799-40c6-d8da-43ba0c0d6461"
      },
      "execution_count": 117,
      "outputs": [
        {
          "output_type": "execute_result",
          "data": {
            "text/plain": [
              "(      alcohol  sugar    pH\n",
              " 0         9.4    1.9  3.51\n",
              " 1         9.8    2.6  3.20\n",
              " 2         9.8    2.3  3.26\n",
              " 3         9.8    1.9  3.16\n",
              " 4         9.4    1.9  3.51\n",
              " ...       ...    ...   ...\n",
              " 6492     11.2    1.6  3.27\n",
              " 6493      9.6    8.0  3.15\n",
              " 6494      9.4    1.2  2.99\n",
              " 6495     12.8    1.1  3.34\n",
              " 6496     11.8    0.8  3.26\n",
              " \n",
              " [6497 rows x 3 columns], 0       0.0\n",
              " 1       0.0\n",
              " 2       0.0\n",
              " 3       0.0\n",
              " 4       0.0\n",
              "        ... \n",
              " 6492    1.0\n",
              " 6493    1.0\n",
              " 6494    1.0\n",
              " 6495    1.0\n",
              " 6496    1.0\n",
              " Name: class, Length: 6497, dtype: float64)"
            ]
          },
          "metadata": {},
          "execution_count": 117
        }
      ]
    },
    {
      "cell_type": "code",
      "source": [
        "np.unique(y)  # 중복제거 > 영,일 두개만 있구나 알 수 있다"
      ],
      "metadata": {
        "colab": {
          "base_uri": "https://localhost:8080/"
        },
        "id": "_DY2lMsW2N9u",
        "outputId": "039e9251-1716-49eb-89cd-563b1d640167"
      },
      "execution_count": 118,
      "outputs": [
        {
          "output_type": "execute_result",
          "data": {
            "text/plain": [
              "array([0., 1.])"
            ]
          },
          "metadata": {},
          "execution_count": 118
        }
      ]
    },
    {
      "cell_type": "code",
      "source": [
        "s_x = StandardScaler().fit_transform(X)\n"
      ],
      "metadata": {
        "id": "x2chs9kU1vCo"
      },
      "execution_count": 119,
      "outputs": []
    },
    {
      "cell_type": "code",
      "source": [
        "t_x, tt_x, t_y, tt_y = train_test_split ( s_x,    y,   test_size=0.3,  random_state=42)\n"
      ],
      "metadata": {
        "id": "jbqaMLKv10zF"
      },
      "execution_count": 120,
      "outputs": []
    },
    {
      "cell_type": "code",
      "source": [
        "# 분류문제다! > 분류지만 회귀로 풀 수 있는 로지스틱 회귀를 하자"
      ],
      "metadata": {
        "id": "EGDQHSNK2FE3"
      },
      "execution_count": 121,
      "outputs": []
    },
    {
      "cell_type": "code",
      "source": [
        "lr = LogisticRegression()\n",
        "lr.fit(t_x,t_y)  "
      ],
      "metadata": {
        "colab": {
          "base_uri": "https://localhost:8080/"
        },
        "id": "o3EJtqn02a4P",
        "outputId": "f96346cc-1dc2-4b7b-d7b5-949a6701855d"
      },
      "execution_count": 122,
      "outputs": [
        {
          "output_type": "execute_result",
          "data": {
            "text/plain": [
              "LogisticRegression()"
            ]
          },
          "metadata": {},
          "execution_count": 122
        }
      ]
    },
    {
      "cell_type": "code",
      "source": [
        "lr.score ( t_x, t_y ) , lr.score ( tt_x, tt_y )"
      ],
      "metadata": {
        "colab": {
          "base_uri": "https://localhost:8080/"
        },
        "id": "W2_Z8jae2oaB",
        "outputId": "5fd6a74f-6bb8-4c6d-c283-e2ec31fb8ce6"
      },
      "execution_count": 123,
      "outputs": [
        {
          "output_type": "execute_result",
          "data": {
            "text/plain": [
              "(0.7842533538596878, 0.7707692307692308)"
            ]
          },
          "metadata": {},
          "execution_count": 123
        }
      ]
    },
    {
      "cell_type": "code",
      "source": [
        "print(lr.coef_)   #기울기\n",
        "print()\n",
        "print(lr.intercept_) #절편"
      ],
      "metadata": {
        "colab": {
          "base_uri": "https://localhost:8080/"
        },
        "id": "nVqeYElp2yl5",
        "outputId": "38b27fef-b284-4fcb-b346-bfff4877858d"
      },
      "execution_count": 125,
      "outputs": [
        {
          "output_type": "stream",
          "name": "stdout",
          "text": [
            "[[ 0.53484041  1.66731798 -0.70532389]]\n",
            "\n",
            "[1.81916284]\n"
          ]
        }
      ]
    },
    {
      "cell_type": "code",
      "source": [
        "# 결정트리    참거짓>참거짓>참거짓  분류 or 회귀?"
      ],
      "metadata": {
        "id": "IFZiyS4l3LPI"
      },
      "execution_count": null,
      "outputs": []
    },
    {
      "cell_type": "code",
      "source": [
        "d_tree = DecisionTreeClassifier( random_state=42 )  #결정트리모델 선언\n",
        "d_tree.fit ( t_x, t_y ) \n"
      ],
      "metadata": {
        "colab": {
          "base_uri": "https://localhost:8080/"
        },
        "id": "Hmdxj_Qz3Mom",
        "outputId": "4897007b-6c30-4f29-adb6-7785888f46cc"
      },
      "execution_count": 127,
      "outputs": [
        {
          "output_type": "execute_result",
          "data": {
            "text/plain": [
              "DecisionTreeClassifier(random_state=42)"
            ]
          },
          "metadata": {},
          "execution_count": 127
        }
      ]
    },
    {
      "cell_type": "code",
      "source": [
        "d_tree.score ( t_x, t_y ) , d_tree.score ( tt_x, tt_y )"
      ],
      "metadata": {
        "colab": {
          "base_uri": "https://localhost:8080/"
        },
        "id": "E53G4WVJ3yK_",
        "outputId": "bb947bbb-04f2-44b1-b2d7-636817f6a3c2"
      },
      "execution_count": 128,
      "outputs": [
        {
          "output_type": "execute_result",
          "data": {
            "text/plain": [
              "(0.9971409720694964, 0.8605128205128205)"
            ]
          },
          "metadata": {},
          "execution_count": 128
        }
      ]
    },
    {
      "cell_type": "code",
      "source": [
        "from sklearn.tree import plot_tree\n",
        "# plt.figur(figsize=(10,7)) 이건생략가능\n",
        "plot_tree(d_tree)\n",
        "plt.show()"
      ],
      "metadata": {
        "colab": {
          "base_uri": "https://localhost:8080/",
          "height": 248
        },
        "id": "fcrc1inX34id",
        "outputId": "b9014889-b03d-4873-a64c-91ced851ba31"
      },
      "execution_count": 131,
      "outputs": [
        {
          "output_type": "display_data",
          "data": {
            "text/plain": [
              "<Figure size 432x288 with 1 Axes>"
            ],
            "image/png": "[encoded data removed]"
          },
          "metadata": {
            "needs_background": "light"
          }
        }
      ]
    },
    {
      "cell_type": "code",
      "source": [
        "#가지치기 :깊이를정해줌 더 안내려가게\n",
        "plt.figure(figsize=(10,7)) #작게나오니까크게\n",
        "plot_tree ( d_tree ,  max_depth=1 , feature_names=['alcohol', 'sugar', 'pH'] )\n",
        "plt.show()"
      ],
      "metadata": {
        "colab": {
          "base_uri": "https://localhost:8080/",
          "height": 411
        },
        "id": "cl9jD7_W4OIU",
        "outputId": "cc248f04-2f13-4b47-b308-20fa68733a6d"
      },
      "execution_count": 140,
      "outputs": [
        {
          "output_type": "display_data",
          "data": {
            "text/plain": [
              "<Figure size 720x504 with 1 Axes>"
            ],
            "image/png": "[encoded data removed]"
          },
          "metadata": {
            "needs_background": "light"
          }
        }
      ]
    },
    {
      "cell_type": "code",
      "source": [
        "d_tree1 = DecisionTreeClassifier ( max_depth=3  , random_state = 42)\n",
        "d_tree1.fit( t_x, t_y )\n",
        "d_tree1.score( t_x, t_y )  ,  d_tree1.score(tt_x, tt_y)\n"
      ],
      "metadata": {
        "colab": {
          "base_uri": "https://localhost:8080/"
        },
        "id": "oloecoEz5aQO",
        "outputId": "05c133c9-dadd-4e59-ee7f-4a0f59ead1e6"
      },
      "execution_count": 143,
      "outputs": [
        {
          "output_type": "execute_result",
          "data": {
            "text/plain": [
              "(0.8493512205850011, 0.84)"
            ]
          },
          "metadata": {},
          "execution_count": 143
        }
      ]
    },
    {
      "cell_type": "code",
      "source": [
        "#가지치기 :깊이를정해줌 더 안내려가게\n",
        "plt.figure(figsize=(25,15)) #작게나오니까크게\n",
        "plot_tree ( d_tree1   , feature_names=['alcohol', 'sugar', 'pH'] )\n",
        "plt.show()\n",
        "\n",
        "# 슈가가 -0.272랑비교 해서 크냐작냐로 나누겟다\n"
      ],
      "metadata": {
        "colab": {
          "base_uri": "https://localhost:8080/",
          "height": 846
        },
        "id": "kjd6tBod5-HF",
        "outputId": "db7d874c-929d-41b3-ccc2-ca91970e2361"
      },
      "execution_count": 153,
      "outputs": [
        {
          "output_type": "display_data",
          "data": {
            "text/plain": [
              "<Figure size 1800x1080 with 1 Axes>"
            ],
            "image/png": "[encoded data removed]"
          },
          "metadata": {
            "needs_background": "light"
          }
        }
      ]
    }
  ]
}
