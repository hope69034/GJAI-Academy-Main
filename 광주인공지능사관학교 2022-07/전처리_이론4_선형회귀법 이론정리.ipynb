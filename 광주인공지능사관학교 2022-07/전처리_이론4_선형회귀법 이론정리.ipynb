{
  "nbformat": 4,
  "nbformat_minor": 0,
  "metadata": {
    "colab": {
      "name": "전처리.이론4.선형회귀법.rg라쏘릿지sgd",
      "provenance": [],
      "collapsed_sections": []
    },
    "kernelspec": {
      "name": "python3",
      "display_name": "Python 3"
    },
    "language_info": {
      "name": "python"
    }
  },
  "cells": [
    {
      "cell_type": "code",
      "source": [
        "# np.random.seed(42)"
      ],
      "metadata": {
        "id": "2MM57vJwLCSv"
      },
      "execution_count": null,
      "outputs": []
    },
    {
      "cell_type": "code",
      "source": [
        "분산 문제이다\n",
        "큰 물고기와 작은 물고기의 좌표점을 받고\n",
        "그것들의 특성을 분류하여 새x에 대해 큰 물고기인지 작은 물고기인지 예측할 것이다"
      ],
      "metadata": {
        "id": "11MEL5P13Dod"
      },
      "execution_count": null,
      "outputs": []
    },
    {
      "cell_type": "code",
      "execution_count": 6,
      "metadata": {
        "colab": {
          "base_uri": "https://localhost:8080/"
        },
        "id": "grVI7rqm0Pw1",
        "outputId": "3402b86a-bdc3-4724-dc40-90345a8e0206"
      },
      "outputs": [
        {
          "output_type": "stream",
          "name": "stdout",
          "text": [
            "35\n",
            "35\n"
          ]
        }
      ],
      "source": [
        "bream_length = [25.4, 26.3, 26.5, 29.0, 29.0, 29.7, 29.7, 30.0, 30.0, 30.7, 31.0, 31.0, 31.5, 32.0, 32.0, 32.0, 33.0, 33.0, 33.5, 33.5, 34.0, 34.0, 34.5, 35.0, 35.0, 35.0, 35.0, 36.0, 36.0, 37.0, 38.5, 38.5, 39.5, 41.0, 41.0]\n",
        "bream_weight = [242.0, 290.0, 340.0, 363.0, 430.0, 450.0, 500.0, 390.0, 450.0, 500.0, 475.0, 500.0, 500.0, 340.0, 600.0, 600.0, 700.0, 700.0, 610.0, 650.0, 575.0, 685.0, 620.0, 680.0, 700.0, 725.0, 720.0, 714.0, 850.0, 1000.0, 920.0, 955.0, 925.0, 975.0, 950.0]\n",
        "\n",
        "print(len(bream_length)) \n",
        "print(len(bream_weight))\n",
        "\n",
        "# 입출력의 수가 완전히 동일해야 한다    \n"
      ]
    },
    {
      "cell_type": "code",
      "source": [
        "import matplotlib.pyplot as plt\n",
        "\n",
        "plt.scatter(bream_length, bream_weight)\n",
        "plt.xlabel('length')\n",
        "plt.ylabel('weight')\n",
        "#plt.show()"
      ],
      "metadata": {
        "colab": {
          "base_uri": "https://localhost:8080/",
          "height": 297
        },
        "id": "WpbPbM4Y1NCd",
        "outputId": "6d3d589a-5b14-4383-cf25-5fba8bbc305a"
      },
      "execution_count": 8,
      "outputs": [
        {
          "output_type": "execute_result",
          "data": {
            "text/plain": [
              "Text(0, 0.5, 'weight')"
            ]
          },
          "metadata": {},
          "execution_count": 8
        },
        {
          "output_type": "display_data",
          "data": {
            "text/plain": [
              "<Figure size 432x288 with 1 Axes>"
            ],
            "image/png": "[encoded data removed]"
          },
          "metadata": {
            "needs_background": "light"
          }
        }
      ]
    },
    {
      "cell_type": "code",
      "source": [
        "smelt_length = [9.8, 10.5, 10.6, 11.0, 11.2, 11.3, 11.8, 11.8, 12.0, 12.2, 12.4, 13.0, 14.3, 15.0]\n",
        "smelt_weight = [6.7, 7.5, 7.0, 9.7, 9.8, 8.7, 10.0, 9.9, 9.8, 12.2, 13.4, 12.2, 19.7, 19.9]\n",
        "\n",
        "print(len(smelt_length)) \n",
        "print(len(smelt_weight))\n",
        "\n",
        "# 입출력의 수가 완전히 동일해야 한다    "
      ],
      "metadata": {
        "colab": {
          "base_uri": "https://localhost:8080/"
        },
        "id": "QCJMvNOT2QMz",
        "outputId": "5df629d4-5587-4cad-9b23-c53c11283fee"
      },
      "execution_count": 15,
      "outputs": [
        {
          "output_type": "stream",
          "name": "stdout",
          "text": [
            "14\n",
            "14\n"
          ]
        }
      ]
    },
    {
      "cell_type": "code",
      "source": [
        "plt.scatter(bream_length, bream_weight)    #큰 물고기의 x,y\n",
        "plt.scatter(smelt_length, smelt_weight, color='r') # 작은 물고기  x,y\n",
        "plt.xlabel('length')\n",
        "plt.ylabel('weight')\n",
        "plt.show()"
      ],
      "metadata": {
        "colab": {
          "base_uri": "https://localhost:8080/",
          "height": 279
        },
        "id": "9PJY4LcU2zdN",
        "outputId": "c18ffd2f-d5ed-4f8c-acb0-4f41448f5ad7"
      },
      "execution_count": 16,
      "outputs": [
        {
          "output_type": "display_data",
          "data": {
            "text/plain": [
              "<Figure size 432x288 with 1 Axes>"
            ],
            "image/png": "[encoded data removed]"
          },
          "metadata": {
            "needs_background": "light"
          }
        }
      ]
    },
    {
      "cell_type": "code",
      "source": [
        "length = bream_length + smelt_length   # 큰물고기의 길이 + 작은 물고기의 길이\n",
        "weight = bream_weight + smelt_weight   # 큰물고기무게+작은물고기무게"
      ],
      "metadata": {
        "id": "_K4glv3R3eF5"
      },
      "execution_count": 19,
      "outputs": []
    },
    {
      "cell_type": "code",
      "source": [
        "fish_data=[[l, w] for l, w in zip(length, weight)]   #zip함수로 합치기\n",
        " # 큰물고기의 표본이 35개 이고 작은 물고기의 표본이 14개라 합 49개이다\n",
        "print(len(fish_data))\n",
        "print()\n",
        "fish_data      #  표본이 49개이며  시리즈2 인풋이 2개다   [길이,무게]"
      ],
      "metadata": {
        "colab": {
          "base_uri": "https://localhost:8080/"
        },
        "id": "CLw9Ztpl3mFN",
        "outputId": "2be2e99f-0e73-4809-c292-ad9ca9914fad"
      },
      "execution_count": 28,
      "outputs": [
        {
          "output_type": "stream",
          "name": "stdout",
          "text": [
            "49\n",
            "\n"
          ]
        },
        {
          "output_type": "execute_result",
          "data": {
            "text/plain": [
              "[[25.4, 242.0],\n",
              " [26.3, 290.0],\n",
              " [26.5, 340.0],\n",
              " [29.0, 363.0],\n",
              " [29.0, 430.0],\n",
              " [29.7, 450.0],\n",
              " [29.7, 500.0],\n",
              " [30.0, 390.0],\n",
              " [30.0, 450.0],\n",
              " [30.7, 500.0],\n",
              " [31.0, 475.0],\n",
              " [31.0, 500.0],\n",
              " [31.5, 500.0],\n",
              " [32.0, 340.0],\n",
              " [32.0, 600.0],\n",
              " [32.0, 600.0],\n",
              " [33.0, 700.0],\n",
              " [33.0, 700.0],\n",
              " [33.5, 610.0],\n",
              " [33.5, 650.0],\n",
              " [34.0, 575.0],\n",
              " [34.0, 685.0],\n",
              " [34.5, 620.0],\n",
              " [35.0, 680.0],\n",
              " [35.0, 700.0],\n",
              " [35.0, 725.0],\n",
              " [35.0, 720.0],\n",
              " [36.0, 714.0],\n",
              " [36.0, 850.0],\n",
              " [37.0, 1000.0],\n",
              " [38.5, 920.0],\n",
              " [38.5, 955.0],\n",
              " [39.5, 925.0],\n",
              " [41.0, 975.0],\n",
              " [41.0, 950.0],\n",
              " [9.8, 6.7],\n",
              " [10.5, 7.5],\n",
              " [10.6, 7.0],\n",
              " [11.0, 9.7],\n",
              " [11.2, 9.8],\n",
              " [11.3, 8.7],\n",
              " [11.8, 10.0],\n",
              " [11.8, 9.9],\n",
              " [12.0, 9.8],\n",
              " [12.2, 12.2],\n",
              " [12.4, 13.4],\n",
              " [13.0, 12.2],\n",
              " [14.3, 19.7],\n",
              " [15.0, 19.9]]"
            ]
          },
          "metadata": {},
          "execution_count": 28
        }
      ]
    },
    {
      "cell_type": "code",
      "source": [
        "fish_target = [1]*35 + [0]*14     # 큰물고기가 35개 작은물고기가 14개니까  큰물고기를 1로 35개를 주고 작은물고기를 0으로 14개를 줌\n",
        "print(len(fish_target))           # 총 49개 \n",
        "print()\n",
        "print(fish_target)"
      ],
      "metadata": {
        "colab": {
          "base_uri": "https://localhost:8080/"
        },
        "id": "XjajT5pr4D0e",
        "outputId": "ad724153-db1e-4170-a74f-62bf7ae8a52d"
      },
      "execution_count": 30,
      "outputs": [
        {
          "output_type": "stream",
          "name": "stdout",
          "text": [
            "49\n",
            "\n",
            "[1, 1, 1, 1, 1, 1, 1, 1, 1, 1, 1, 1, 1, 1, 1, 1, 1, 1, 1, 1, 1, 1, 1, 1, 1, 1, 1, 1, 1, 1, 1, 1, 1, 1, 1, 0, 0, 0, 0, 0, 0, 0, 0, 0, 0, 0, 0, 0, 0]\n"
          ]
        }
      ]
    },
    {
      "cell_type": "code",
      "source": [
        "# K이웃알고리즘"
      ],
      "metadata": {
        "id": "dFJcvgLp5_WA"
      },
      "execution_count": null,
      "outputs": []
    },
    {
      "cell_type": "code",
      "source": [
        "from sklearn.neighbors import KNeighborsClassifier"
      ],
      "metadata": {
        "id": "hw0eV00i6E3I"
      },
      "execution_count": 32,
      "outputs": []
    },
    {
      "cell_type": "code",
      "source": [
        "kn=KNeighborsClassifier()\n",
        "kn.fit(fish_data, fish_target)"
      ],
      "metadata": {
        "colab": {
          "base_uri": "https://localhost:8080/"
        },
        "id": "up8TVfS16WrH",
        "outputId": "229c7f8c-0479-4381-f837-67ae92ccf20d"
      },
      "execution_count": 33,
      "outputs": [
        {
          "output_type": "execute_result",
          "data": {
            "text/plain": [
              "KNeighborsClassifier()"
            ]
          },
          "metadata": {},
          "execution_count": 33
        }
      ]
    },
    {
      "cell_type": "code",
      "source": [
        "kn.score(fish_data, fish_target)   #스코어 함수: 정확도를 알 수 있는        #피시데이터는  큰물고기+작은물고기[길이,무게]    피시타겟은 [11111111100]"
      ],
      "metadata": {
        "colab": {
          "base_uri": "https://localhost:8080/"
        },
        "id": "6FjJIN7F67A7",
        "outputId": "0180b031-584b-436a-b76a-f5059c317228"
      },
      "execution_count": 34,
      "outputs": [
        {
          "output_type": "execute_result",
          "data": {
            "text/plain": [
              "1.0"
            ]
          },
          "metadata": {},
          "execution_count": 34
        }
      ]
    },
    {
      "cell_type": "code",
      "source": [
        "plt.scatter(bream_length, bream_weight)   # 큰물고기의 길이,무게 좌표점\n",
        "plt.scatter(smelt_length, smelt_weight)   # 작은물고기의 길이,무게 좌표점\n",
        "plt.scatter(30, 600, marker='^')  # 30컴마600을 찍어봄  # marker='^' 세모로 점 찍는 거 (초록색세모점찍혔음) \n",
        "plt.xlabel('length')\n",
        "plt.ylabel('weight')\n",
        "plt.show()"
      ],
      "metadata": {
        "colab": {
          "base_uri": "https://localhost:8080/",
          "height": 279
        },
        "id": "kxrvLU2i7S3t",
        "outputId": "f48c51c0-486d-4fc4-d749-08dca5524be4"
      },
      "execution_count": 39,
      "outputs": [
        {
          "output_type": "display_data",
          "data": {
            "text/plain": [
              "<Figure size 432x288 with 1 Axes>"
            ],
            "image/png": "[encoded data removed]"
          },
          "metadata": {
            "needs_background": "light"
          }
        }
      ]
    },
    {
      "cell_type": "code",
      "source": [
        "kn.predict([[30, 600]])     # kn는케이이웃머신러닝의 학습이 끝난 것이다     입력 30컴마600의 출력y가 무엇인지 예측한다\n",
        "# 예측결과는 1 > 큰 물고기 라는 것을 맞췄다"
      ],
      "metadata": {
        "colab": {
          "base_uri": "https://localhost:8080/"
        },
        "id": "QjSNjyph7-Lk",
        "outputId": "8dc83a20-a108-4dce-efda-a8add15e6d56"
      },
      "execution_count": 40,
      "outputs": [
        {
          "output_type": "execute_result",
          "data": {
            "text/plain": [
              "array([1])"
            ]
          },
          "metadata": {},
          "execution_count": 40
        }
      ]
    },
    {
      "cell_type": "code",
      "source": [
        "kn._fit_X  # kn 머신러닝에 쓰인 X를 보여준다"
      ],
      "metadata": {
        "colab": {
          "base_uri": "https://localhost:8080/"
        },
        "id": "775uYwmR8StB",
        "outputId": "8ff47538-9dca-4b95-b7e1-dec9b01ac159"
      },
      "execution_count": 46,
      "outputs": [
        {
          "output_type": "execute_result",
          "data": {
            "text/plain": [
              "array([[  25.4,  242. ],\n",
              "       [  26.3,  290. ],\n",
              "       [  26.5,  340. ],\n",
              "       [  29. ,  363. ],\n",
              "       [  29. ,  430. ],\n",
              "       [  29.7,  450. ],\n",
              "       [  29.7,  500. ],\n",
              "       [  30. ,  390. ],\n",
              "       [  30. ,  450. ],\n",
              "       [  30.7,  500. ],\n",
              "       [  31. ,  475. ],\n",
              "       [  31. ,  500. ],\n",
              "       [  31.5,  500. ],\n",
              "       [  32. ,  340. ],\n",
              "       [  32. ,  600. ],\n",
              "       [  32. ,  600. ],\n",
              "       [  33. ,  700. ],\n",
              "       [  33. ,  700. ],\n",
              "       [  33.5,  610. ],\n",
              "       [  33.5,  650. ],\n",
              "       [  34. ,  575. ],\n",
              "       [  34. ,  685. ],\n",
              "       [  34.5,  620. ],\n",
              "       [  35. ,  680. ],\n",
              "       [  35. ,  700. ],\n",
              "       [  35. ,  725. ],\n",
              "       [  35. ,  720. ],\n",
              "       [  36. ,  714. ],\n",
              "       [  36. ,  850. ],\n",
              "       [  37. , 1000. ],\n",
              "       [  38.5,  920. ],\n",
              "       [  38.5,  955. ],\n",
              "       [  39.5,  925. ],\n",
              "       [  41. ,  975. ],\n",
              "       [  41. ,  950. ],\n",
              "       [   9.8,    6.7],\n",
              "       [  10.5,    7.5],\n",
              "       [  10.6,    7. ],\n",
              "       [  11. ,    9.7],\n",
              "       [  11.2,    9.8],\n",
              "       [  11.3,    8.7],\n",
              "       [  11.8,   10. ],\n",
              "       [  11.8,    9.9],\n",
              "       [  12. ,    9.8],\n",
              "       [  12.2,   12.2],\n",
              "       [  12.4,   13.4],\n",
              "       [  13. ,   12.2],\n",
              "       [  14.3,   19.7],\n",
              "       [  15. ,   19.9]])"
            ]
          },
          "metadata": {},
          "execution_count": 46
        }
      ]
    },
    {
      "cell_type": "code",
      "source": [
        "kn._y   # kn 머신러닝에 쓰인 Y를 보여준다"
      ],
      "metadata": {
        "colab": {
          "base_uri": "https://localhost:8080/"
        },
        "id": "3Se5tIaI97rK",
        "outputId": "892945c3-310a-44de-9d71-e74634dd18d1"
      },
      "execution_count": 42,
      "outputs": [
        {
          "output_type": "execute_result",
          "data": {
            "text/plain": [
              "array([1, 1, 1, 1, 1, 1, 1, 1, 1, 1, 1, 1, 1, 1, 1, 1, 1, 1, 1, 1, 1, 1,\n",
              "       1, 1, 1, 1, 1, 1, 1, 1, 1, 1, 1, 1, 1, 0, 0, 0, 0, 0, 0, 0, 0, 0,\n",
              "       0, 0, 0, 0, 0])"
            ]
          },
          "metadata": {},
          "execution_count": 42
        }
      ]
    },
    {
      "cell_type": "code",
      "source": [
        "kn49 = KNeighborsClassifier(n_neighbors=49)  # () 아무것도 안넣으면 n neighbors 가 디폴트로 5가 들어간다\n",
        "kn49.fit(fish_data, fish_target)             # 디폴트5가 들어가면 정확도가 100%인데 49를 넣으니 71프로가 되었다 (17을 넣어도 똑같다)\n",
        "kn49.score(fish_data, fish_target)          #n_neighbors=가 낮으면 훈련셋에 잘 들어맞고 테스트에 안맞는다=오버피팅 확률이 높다\n",
        "                                           #n_neighbors=가 높으면 반대로 언더피팅 확률이 높다\n",
        "                                        # for 문으로 최적의 n_neighbors=값을 찾을 수 있다 가장 핵심적인 하이퍼매개변수다\n",
        " # n_neighbors=T   는 새x하나를 줬을 때 가장 가까운 T개의 점을 찾고 그것들의 평균값으로 y를 예측하는 것이다\n",
        "# 그래서 표본 수 보다 높을 수 없는 것이고 n_neighbors=가 높으면 대략적인 값을 예측하여 언더피팅 확률이 높아지는 것이다                                      "
      ],
      "metadata": {
        "colab": {
          "base_uri": "https://localhost:8080/"
        },
        "id": "blQ3dpTr-cVT",
        "outputId": "bd75fb4c-0c4d-4303-cd17-7700d8924457"
      },
      "execution_count": 70,
      "outputs": [
        {
          "output_type": "execute_result",
          "data": {
            "text/plain": [
              "0.7142857142857143"
            ]
          },
          "metadata": {},
          "execution_count": 70
        }
      ]
    },
    {
      "cell_type": "code",
      "source": [
        "# 데이터 수집"
      ],
      "metadata": {
        "id": "cvkOCy7GF1ci"
      },
      "execution_count": null,
      "outputs": []
    },
    {
      "cell_type": "code",
      "source": [
        "X=fish_data         #  표본이 49개이며  시리즈2 인풋이 2개다   [길이,무게]\n",
        "Y=fish_target          # 렌 49의   11111111000 일차원 리스트다\n",
        " "
      ],
      "metadata": {
        "id": "Smw_ZHI7F3e_"
      },
      "execution_count": 72,
      "outputs": []
    },
    {
      "cell_type": "code",
      "source": [
        "import numpy as np\n",
        "input_arr = np.array(fish_data)              #  np.array 는 리스트,튜플을 > 배열(행렬) 로 만드는 함수이다\n",
        "target_arr = np.array(fish_target)\n",
        "\n",
        "input_arr.shape ,target_arr.shape \n"
      ],
      "metadata": {
        "colab": {
          "base_uri": "https://localhost:8080/"
        },
        "id": "sYvMFp64GK8v",
        "outputId": "073dd87e-c27e-4448-f82f-4ac60f58ed71"
      },
      "execution_count": 73,
      "outputs": [
        {
          "output_type": "execute_result",
          "data": {
            "text/plain": [
              "((49, 2), (49,))"
            ]
          },
          "metadata": {},
          "execution_count": 73
        }
      ]
    },
    {
      "cell_type": "code",
      "source": [
        "np.random.seed(42)       # ( ) 숫자가 무엇이 들어가던 상관 없다   # np.random.seed(숫자) : 랜덤값을 고정시켜주는 함수다\n",
        "index = np.arange(49)   # np.arange(a,b,c)     a이상  b미만까지 범위에서  c스텝으로 뽑는다 (디폴트 a=0, c=1)\n",
        "# index변수: 0~48까지의 수로 뽑았다\n",
        "np.random.shuffle(index) # # np.random.shuffleg 함수  : 어레이의 순서를 섞는다, 원본을 바로 수정한다\n",
        "index  # 자꾸 코드를 실행시켜도 고정이다        \n",
        "  # permutation을 사용하면 원본을 그대로 두고 새랜덤객체를 생성할 수 있다"
      ],
      "metadata": {
        "colab": {
          "base_uri": "https://localhost:8080/"
        },
        "id": "hPbITNqCHMKM",
        "outputId": "2716e07e-6866-45f9-e48b-1c7b2497248c"
      },
      "execution_count": 153,
      "outputs": [
        {
          "output_type": "execute_result",
          "data": {
            "text/plain": [
              "array([13, 45, 47, 44, 17, 27, 26, 25, 31, 19, 12,  4, 34,  8,  3,  6, 40,\n",
              "       41, 46, 15,  9, 16, 24, 33, 30,  0, 43, 32,  5, 29, 11, 36,  1, 21,\n",
              "        2, 37, 35, 23, 39, 10, 22, 18, 48, 20,  7, 42, 14, 28, 38])"
            ]
          },
          "metadata": {},
          "execution_count": 153
        }
      ]
    },
    {
      "cell_type": "code",
      "source": [
        "#중간 일단 생략"
      ],
      "metadata": {
        "id": "tBfslqU6IAAi"
      },
      "execution_count": 154,
      "outputs": []
    },
    {
      "cell_type": "code",
      "source": [
        "##\n",
        "##\n",
        "##\n",
        "##\n",
        "##\n",
        "##\n",
        "##\n",
        "##\n",
        "##\n",
        "##\n"
      ],
      "metadata": {
        "id": "6lZB9MSQL5Va"
      },
      "execution_count": null,
      "outputs": []
    },
    {
      "cell_type": "code",
      "source": [
        "# 로드보스톤"
      ],
      "metadata": {
        "id": "O9LJ6FPIL8OO"
      },
      "execution_count": null,
      "outputs": []
    },
    {
      "cell_type": "code",
      "source": [
        "from sklearn.datasets import load_boston\n",
        "df=load_boston()\n",
        "df"
      ],
      "metadata": {
        "id": "BZWOy2ACM3uM"
      },
      "execution_count": null,
      "outputs": []
    },
    {
      "cell_type": "code",
      "source": [
        "X=df['data']\n",
        "X.shape"
      ],
      "metadata": {
        "colab": {
          "base_uri": "https://localhost:8080/"
        },
        "id": "Ks-W2QUzM7Ec",
        "outputId": "15095c76-3be1-4674-c5fa-0acd6804c263"
      },
      "execution_count": 172,
      "outputs": [
        {
          "output_type": "execute_result",
          "data": {
            "text/plain": [
              "(506, 13)"
            ]
          },
          "metadata": {},
          "execution_count": 172
        }
      ]
    },
    {
      "cell_type": "code",
      "source": [
        "y=df.target   # == df['target'] 랑 같다\n",
        "y.shape"
      ],
      "metadata": {
        "colab": {
          "base_uri": "https://localhost:8080/"
        },
        "id": "_3E2FWgOM-Vc",
        "outputId": "f8af7c39-1ce3-44eb-e943-3f76b15e6ad2"
      },
      "execution_count": 173,
      "outputs": [
        {
          "output_type": "execute_result",
          "data": {
            "text/plain": [
              "(506,)"
            ]
          },
          "metadata": {},
          "execution_count": 173
        }
      ]
    },
    {
      "cell_type": "code",
      "source": [
        "# X 는 df데이터의 data ,  y는 df데이터의 target 이다\n",
        "X.shape,y.shape\n",
        "# 표본이 506으로 같다"
      ],
      "metadata": {
        "colab": {
          "base_uri": "https://localhost:8080/"
        },
        "id": "TeNtq3_gNPOQ",
        "outputId": "20d4ce6f-4adb-446f-9c0a-2efc23f8e580"
      },
      "execution_count": 161,
      "outputs": [
        {
          "output_type": "execute_result",
          "data": {
            "text/plain": [
              "((506, 13), (506,))"
            ]
          },
          "metadata": {},
          "execution_count": 161
        }
      ]
    },
    {
      "cell_type": "code",
      "source": [
        "df.feature_names  # df데이터의 피처네임"
      ],
      "metadata": {
        "colab": {
          "base_uri": "https://localhost:8080/"
        },
        "id": "Gah_pUlfNZvG",
        "outputId": "b7f889e5-92cf-4268-8e38-d37145427c00"
      },
      "execution_count": 162,
      "outputs": [
        {
          "output_type": "execute_result",
          "data": {
            "text/plain": [
              "array(['CRIM', 'ZN', 'INDUS', 'CHAS', 'NOX', 'RM', 'AGE', 'DIS', 'RAD',\n",
              "       'TAX', 'PTRATIO', 'B', 'LSTAT'], dtype='<U7')"
            ]
          },
          "metadata": {},
          "execution_count": 162
        }
      ]
    },
    {
      "cell_type": "code",
      "source": [
        "#data수집\n",
        "from sklearn.datasets import load_boston\n",
        "df=load_boston()\n",
        "X=df.data \n",
        "y=df.target\n"
      ],
      "metadata": {
        "id": "LoVi-vHTNyCA"
      },
      "execution_count": null,
      "outputs": []
    },
    {
      "cell_type": "code",
      "source": [
        "#data정제\n",
        "from sklearn.preprocessing import MinMaxScaler\n",
        "m_m_s = MinMaxScaler().fit(X)   # 민맥스스케일러를 선언하고 바로 X로 핏했다 X를 기반으로 연산 규칙을 정한 것이다\n",
        "s_x_data = m_m_s.transform(X)   # 민맥스스케일러를 X에 적용한다\n",
        "s_x_data.shape\n",
        "#  X=df.data 데이터를  X를 기반으로 피팅된 연산규칙을 완성한 민맥스케일러를 활용하여 값을 바꾼것을 변수 s_x_data 로 지정하였다. "
      ],
      "metadata": {
        "colab": {
          "base_uri": "https://localhost:8080/"
        },
        "id": "keMr1E4COIYb",
        "outputId": "af837597-5375-451d-89d3-6d3e0d80354c"
      },
      "execution_count": 174,
      "outputs": [
        {
          "output_type": "execute_result",
          "data": {
            "text/plain": [
              "(506, 13)"
            ]
          },
          "metadata": {},
          "execution_count": 174
        }
      ]
    },
    {
      "cell_type": "code",
      "source": [
        "#입력 data 정리\n",
        "from sklearn.model_selection import train_test_split\n",
        "t_x,tt_x,t_y,tt_y=train_test_split(s_x_data,y,test_size=0.3,random_state=10)\n",
        "t_x.shape,tt_x.shape,t_y.shape,tt_y.shape"
      ],
      "metadata": {
        "colab": {
          "base_uri": "https://localhost:8080/"
        },
        "id": "j_JmjUfOPUNg",
        "outputId": "538031fa-3ab5-4ce1-b1de-961d4db11462"
      },
      "execution_count": 175,
      "outputs": [
        {
          "output_type": "execute_result",
          "data": {
            "text/plain": [
              "((354, 13), (152, 13), (354,), (152,))"
            ]
          },
          "metadata": {},
          "execution_count": 175
        }
      ]
    },
    {
      "cell_type": "code",
      "source": [
        "#모델 생성 및 학습\n",
        "from sklearn.linear_model import LinearRegression, Lasso,Ridge, SGDRegressor\n",
        "\n",
        "rg = LinearRegression  (fit_intercept=True,normalize=False,copy_X=True,n_jobs=-1)\n",
        "laso_rg = Lasso  (alpha=0.01,fit_intercept=True,normalize=False,copy_X=True)\n",
        "rig_rg = Ridge  (alpha=0.01,fit_intercept=True,normalize=False,copy_X=True)\n",
        "SGD_rg = SGDRegressor  (alpha=0.01,max_iter=1000,penalty='l2',eta0=0.01)"
      ],
      "metadata": {
        "id": "ISqOu7DiPx4p"
      },
      "execution_count": 178,
      "outputs": []
    },
    {
      "cell_type": "code",
      "source": [
        "rg.fit(t_x,t_y)   #   t_x,  t_y 는  354,13   354,   의 트레인셋이다\n",
        "laso_rg.fit(t_x,t_y)  # 4가지 선형회귀 모델을 위에서 선언 후 핏으로 피팅시켰다\n",
        "rig_rg.fit(t_x,t_y)\n",
        "SGD_rg.fit(t_x,t_y)"
      ],
      "metadata": {
        "colab": {
          "base_uri": "https://localhost:8080/"
        },
        "id": "8luxXKmVQRw3",
        "outputId": "82b1e135-4f01-4d52-8394-1ab0fdd9e162"
      },
      "execution_count": 181,
      "outputs": [
        {
          "output_type": "stream",
          "name": "stderr",
          "text": [
            "/usr/local/lib/python3.7/dist-packages/sklearn/linear_model/_base.py:155: FutureWarning: 'normalize' was deprecated in version 1.0 and will be removed in 1.2. Please leave the normalize parameter to its default value to silence this warning. The default behavior of this estimator is to not do any normalization. If normalization is needed please use sklearn.preprocessing.StandardScaler instead.\n",
            "  FutureWarning,\n",
            "/usr/local/lib/python3.7/dist-packages/sklearn/linear_model/_base.py:155: FutureWarning: 'normalize' was deprecated in version 1.0 and will be removed in 1.2. Please leave the normalize parameter to its default value to silence this warning. The default behavior of this estimator is to not do any normalization. If normalization is needed please use sklearn.preprocessing.StandardScaler instead.\n",
            "  FutureWarning,\n",
            "/usr/local/lib/python3.7/dist-packages/sklearn/linear_model/_base.py:155: FutureWarning: 'normalize' was deprecated in version 1.0 and will be removed in 1.2. Please leave the normalize parameter to its default value to silence this warning. The default behavior of this estimator is to not do any normalization. If normalization is needed please use sklearn.preprocessing.StandardScaler instead.\n",
            "  FutureWarning,\n"
          ]
        },
        {
          "output_type": "execute_result",
          "data": {
            "text/plain": [
              "SGDRegressor(alpha=0.01)"
            ]
          },
          "metadata": {},
          "execution_count": 181
        }
      ]
    },
    {
      "cell_type": "code",
      "source": [
        "rg.coef_           # LinearRegression  선형회귀\n",
        "laso_rg.coef_      # Lasso\n",
        "rig_rg.coef_       # Ridge\n",
        "SGD_rg.coef_       # SGDRegressor    확률적경사하강법\n",
        "\n",
        "rg.intercept_\n",
        "laso_rg.intercept_\n",
        "rig_rg.intercept_\n",
        "SGD_rg.intercept_\n",
        "\n",
        "# SGD의 기울기와 절편값만 동떨어졌다. SGD : 확률적경사하강법 매스텝마다 x축시작점을 랜덤으로뽑는다\n",
        "# 확률성 때문에 동떨어진 값이 나오기도 한다"
      ],
      "metadata": {
        "id": "cUsaUeNyQpJC"
      },
      "execution_count": null,
      "outputs": []
    },
    {
      "cell_type": "code",
      "source": [
        "from sklearn.model_selection import train_test_split\n",
        "t_x,tt_x,t_y,tt_y=train_test_split(s_x_data,y,test_size=0.3,random_state=10)\n",
        "t_x.shape,tt_x.shape,t_y.shape,tt_y.shape"
      ],
      "metadata": {
        "colab": {
          "base_uri": "https://localhost:8080/"
        },
        "id": "lBiCzTU0VmOc",
        "outputId": "4d630188-b8ad-457f-f31f-47a402eac236"
      },
      "execution_count": 185,
      "outputs": [
        {
          "output_type": "execute_result",
          "data": {
            "text/plain": [
              "((354, 13), (152, 13), (354,), (152,))"
            ]
          },
          "metadata": {},
          "execution_count": 185
        }
      ]
    },
    {
      "cell_type": "code",
      "source": [
        "지도학습 \n",
        "회귀모델의 평가지표 -  ( 실y값, 모델의예측y) 을 넣어서 모델 성능을 평가한다\n",
        "\n",
        "[MSE] : Mean Squared Error 실제값에서 예측값을 뺀 값의 제곱의 평균\n",
        "RMSE : (MSE)**0.5  MSE에 루트를 씌운 값\n",
        "[MAE] : Mean Abolute Error 실제값에서 예측값을 뺀 값의 절대값의 평균\n",
        "[R2] : R2 Score(결정계수)  예측값의 분산을 실제값의 분산으로 나눈 것\n",
        "R2adj : 1-(1-R2)*(n-1)(n-p-1) 수정결정계수:R2는 학습데이터의 개수와 \n",
        "    종속변수의 개수에 영향을 받음 이를보완하기 위해 나온 것 "
      ],
      "metadata": {
        "id": "sDds9AlyXPec"
      },
      "execution_count": null,
      "outputs": []
    },
    {
      "cell_type": "code",
      "source": [
        "#모델 생성 및 학습\n",
        "from sklearn.linear_model import LinearRegression, Lasso,Ridge, SGDRegressor\n",
        "\n",
        "rg = LinearRegression  (fit_intercept=True,normalize=False,copy_X=True,n_jobs=-1)\n",
        "laso_rg = Lasso  (alpha=0.01,fit_intercept=True,normalize=False,copy_X=True)\n",
        "rig_rg = Ridge  (alpha=0.01,fit_intercept=True,normalize=False,copy_X=True)\n",
        "SGD_rg = SGDRegressor  (alpha=0.01,max_iter=1000,penalty='l2',eta0=0.01)\n",
        "\n",
        "# 각 회귀법을 했을 때 3가지 성능 측정법을 이용해서 확인해보자"
      ],
      "metadata": {
        "id": "RWpSEWiUagQt"
      },
      "execution_count": null,
      "outputs": []
    },
    {
      "cell_type": "code",
      "source": [
        "from sklearn.metrics import mean_squared_error,  mean_absolute_error,   r2_score\n",
        "#선형회귀 기본\n",
        "y_t=tt_y\n",
        "y_h=rg.predict(tt_x)   # rg = LinearRegression  (fit_intercept=True,normalize=False,copy_X=True,n_jobs=-1)\n",
        "mean_squared_error(y_t,y_h),mean_absolute_error(y_t,y_h), r2_score(y_t,y_h)\n",
        "        #    (  tt_y  ,              rg.predict(tt_x)       )\n",
        "        # (테스트셋의 실y값이다  ,   선형회귀모델에의해 테스트셋x로 예측되는 아웃풋 예측y )     \n"
      ],
      "metadata": {
        "colab": {
          "base_uri": "https://localhost:8080/"
        },
        "id": "MD7jXxj6aWEf",
        "outputId": "be0710eb-2a38-4fb7-b173-d350a5b82a16"
      },
      "execution_count": 188,
      "outputs": [
        {
          "output_type": "execute_result",
          "data": {
            "text/plain": [
              "(29.3265965261233, 3.7071271372718115, 0.6996255772983109)"
            ]
          },
          "metadata": {},
          "execution_count": 188
        }
      ]
    },
    {
      "cell_type": "code",
      "source": [
        "#라소회귀\n",
        "y_t=tt_y\n",
        "y_h=laso_rg.predict(tt_x)\n",
        "mean_squared_error(y_t,y_h),mean_absolute_error(y_t,y_h), r2_score(y_t,y_h)"
      ],
      "metadata": {
        "colab": {
          "base_uri": "https://localhost:8080/"
        },
        "id": "bX4ZqzqVZv8x",
        "outputId": "7559d459-ffa7-405d-8a67-f64375a44d55"
      },
      "execution_count": 187,
      "outputs": [
        {
          "output_type": "execute_result",
          "data": {
            "text/plain": [
              "(29.00924795065665, 3.669539846453703, 0.7028759849978913)"
            ]
          },
          "metadata": {},
          "execution_count": 187
        }
      ]
    },
    {
      "cell_type": "code",
      "source": [
        "#릿지회귀\n",
        "y_t=tt_y\n",
        "y_h=rig_rg.predict(tt_x)\n",
        "mean_squared_error(y_t,y_h),mean_absolute_error(y_t,y_h), r2_score(y_t,y_h)"
      ],
      "metadata": {
        "colab": {
          "base_uri": "https://localhost:8080/"
        },
        "id": "Wjv4dbJ3Z67c",
        "outputId": "48ec4de9-a4ad-46b0-f98f-2787821ec401"
      },
      "execution_count": 189,
      "outputs": [
        {
          "output_type": "execute_result",
          "data": {
            "text/plain": [
              "(29.315495121874008, 3.7058170941951745, 0.6997392822040127)"
            ]
          },
          "metadata": {},
          "execution_count": 189
        }
      ]
    },
    {
      "cell_type": "code",
      "source": [
        "#SGD_rg\n",
        "y_t=tt_y\n",
        "y_h=SGD_rg.predict(tt_x)\n",
        "mean_squared_error(y_t,y_h),mean_absolute_error(y_t,y_h), r2_score(y_t,y_h)"
      ],
      "metadata": {
        "colab": {
          "base_uri": "https://localhost:8080/"
        },
        "id": "i62U91mKaayH",
        "outputId": "d770547b-e535-4baa-f03e-4ed71a1ee6a0"
      },
      "execution_count": 190,
      "outputs": [
        {
          "output_type": "execute_result",
          "data": {
            "text/plain": [
              "(33.58219989446419, 3.913266373252982, 0.6560380302785227)"
            ]
          },
          "metadata": {},
          "execution_count": 190
        }
      ]
    },
    {
      "cell_type": "code",
      "source": [
        "#gd_lr = LinearRegressionGD(shuffle = False)  # [경사하강법]  섞으면 확률의 그라디언트 디센트가 되기 때문 #기본\n",
        "#bgd_lr = LinearRegressionGD(batch_size=len(X), shuffle = False)  # 배치사이즈로 만든 [전체 배치 경사하강법]\n",
        "#sgd_lr = LinearRegressionGD(shuffle = True)  # 확률 = sgd [확률적경사하강법][SGD] 셔플트루를 줘서\n",
        "#msgd_lr = LinearRegressionGD(batch_size=100,shuffle = True)   # 셔플트루에 작은배치사이즈를주었다 [미니배치SGD]  그래프를 쪼개서 SGD로 본다\n"
      ],
      "metadata": {
        "id": "nS1cjiODeBOn"
      },
      "execution_count": null,
      "outputs": []
    },
    {
      "cell_type": "code",
      "source": [
        "선형회귀법 (X,Y) : X,Y 데이터를 받아서 f(x)를 예측한다\n",
        "\n",
        "    선형회귀 : LinearRegression   가상의 선을 그으며 오차제곱합의 최솟값을 계산하여 f(x)를 예측한다 \n",
        "    라쏘, 릿지:  Lasso,Ridge (오버피팅방지, 이상치를 제어하는 선형회귀법)\n",
        "    경사하강법 : 오차함수에서 스텝마다 기울기를 구하여 기울기0의 최솟값 (오차의 최소)을 찾는다\n",
        "        경사하강법       LinearRegressionGD (shuffle = False)                         \n",
        "        전체배치경사하강법LinearRegressionGD (batch_size=len(X), shuffle = False)     배치사이즈를x만큼줘서 전체배치로\n",
        "        확률적경사하강법SGD  LinearRegressionGD(shuffle = True) / SGDRegressor        셔플트루, 기울기를 구하는 시작점이 랜덤이다\n",
        "        미니배치SGD         LinearRegressionGD  (batch_size=100,shuffle = True)       배치를 쪼개서SGD를\n",
        "\n",
        "성능평가모델 (실Y,예측Y) : 실Y와 학습한 모델이 예측한 Y를 받아서 모델 성능을 평가한다\n",
        "    \n",
        "    MSE  mean_squared_error    실제값에서 예측값을 뺀 값의 제곱의 평균\n",
        "    MAE  mean_absolute_error   실제값에서 예측값을 뺀 값의 절대값의 평균\n",
        "    R2 Score  r2_score     예측값의 분산을 실제값의 분산으로 나눈 것\n",
        "\n",
        "정규화 :  데이터가 가진 feature의 스케일이 심하게 차이가 나는 경우 피처의 중요도가 달라지기 때문에 필요\n",
        "    \n",
        "    민맥스스케일러     (X - MIN) / (MAX-MIN) \n",
        "    스탠다드스케일러     (X - 평균) / 표준편차   , (z스코어스케일러), (Z-Score Normalization)  "
      ],
      "metadata": {
        "id": "7ZWHe_mNlBSA"
      },
      "execution_count": null,
      "outputs": []
    }
  ]
}
