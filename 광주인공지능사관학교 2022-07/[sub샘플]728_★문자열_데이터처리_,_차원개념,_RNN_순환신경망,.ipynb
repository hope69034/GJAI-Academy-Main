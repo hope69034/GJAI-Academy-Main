{
  "nbformat": 4,
  "nbformat_minor": 0,
  "metadata": {
    "colab": {
      "name": "[sub샘플]728 ★문자열 데이터처리 , 차원개념,  RNN 순환신경망,",
      "provenance": [],
      "collapsed_sections": []
    },
    "kernelspec": {
      "name": "python3",
      "display_name": "Python 3"
    },
    "language_info": {
      "name": "python"
    }
  },
  "cells": [
    {
      "cell_type": "code",
      "execution_count": null,
      "metadata": {
        "id": "7uifpp5fKUxo"
      },
      "outputs": [],
      "source": [
        ""
      ]
    },
    {
      "cell_type": "code",
      "source": [
        "import tensorflow as tf\n",
        "tf.keras.utils.set_random_seed(42) #42로 고정되는 시드\n",
        "tf.config.experimental.enable_op_determinism() #이것도고정하는것"
      ],
      "metadata": {
        "id": "eHxvZ3Pm3k2E"
      },
      "execution_count": null,
      "outputs": []
    },
    {
      "cell_type": "code",
      "source": [
        "from keras.datasets import imdb\n",
        "(X_data, y_data), (tt_x, tt_y) = imdb.load_data(num_words=500)  #500   등장빈도가 1~500 위까지의 단어를 추출 즉 500가지 단어를 뽑는다\n",
        "                       \n",
        "X_data.shape , y_data.shape, tt_x.shape, tt_y.shape\n"
      ],
      "metadata": {
        "colab": {
          "base_uri": "https://localhost:8080/"
        },
        "id": "rt_A1qkR38Cs",
        "outputId": "e71c3bc8-8cdb-400c-fabb-e69b8290929c"
      },
      "execution_count": null,
      "outputs": [
        {
          "output_type": "execute_result",
          "data": {
            "text/plain": [
              "((25000,), (25000,), (25000,), (25000,))"
            ]
          },
          "metadata": {},
          "execution_count": 152
        }
      ]
    },
    {
      "cell_type": "code",
      "source": [
        "y_data , len(y_data)"
      ],
      "metadata": {
        "colab": {
          "base_uri": "https://localhost:8080/"
        },
        "id": "_CO0607MGclA",
        "outputId": "ef3bb393-93ab-4cef-9b78-69c098479938"
      },
      "execution_count": null,
      "outputs": [
        {
          "output_type": "execute_result",
          "data": {
            "text/plain": [
              "(array([1, 0, 0, ..., 0, 1, 0]), 25000)"
            ]
          },
          "metadata": {},
          "execution_count": 153
        }
      ]
    },
    {
      "cell_type": "code",
      "source": [
        "y_data.shape"
      ],
      "metadata": {
        "colab": {
          "base_uri": "https://localhost:8080/"
        },
        "id": "C3nZ5MTwaEhn",
        "outputId": "c89b6933-bd33-454e-e13f-ca285ac1f349"
      },
      "execution_count": null,
      "outputs": [
        {
          "output_type": "execute_result",
          "data": {
            "text/plain": [
              "(25000,)"
            ]
          },
          "metadata": {},
          "execution_count": 154
        }
      ]
    },
    {
      "cell_type": "code",
      "source": [
        "X_data.shape, len(X_data[0])"
      ],
      "metadata": {
        "colab": {
          "base_uri": "https://localhost:8080/"
        },
        "id": "ObQt8MUq-xAb",
        "outputId": "f13cbff6-851e-4aa8-b0ce-90d3fe4ce716"
      },
      "execution_count": null,
      "outputs": [
        {
          "output_type": "execute_result",
          "data": {
            "text/plain": [
              "((25000,), 218)"
            ]
          },
          "metadata": {},
          "execution_count": 158
        }
      ]
    },
    {
      "cell_type": "code",
      "source": [
        "import pandas as pd\n",
        "pd.DataFrame(X_data)"
      ],
      "metadata": {
        "colab": {
          "base_uri": "https://localhost:8080/",
          "height": 424
        },
        "id": "i8KUjlNv-3Gq",
        "outputId": "754bb582-9329-4ed8-df6b-8d1f872b3dae"
      },
      "execution_count": null,
      "outputs": [
        {
          "output_type": "execute_result",
          "data": {
            "text/plain": [
              "                                                       0\n",
              "0      [1, 14, 22, 16, 43, 2, 2, 2, 2, 65, 458, 2, 66...\n",
              "1      [1, 194, 2, 194, 2, 78, 228, 5, 6, 2, 2, 2, 13...\n",
              "2      [1, 14, 47, 8, 30, 31, 7, 4, 249, 108, 7, 4, 2...\n",
              "3      [1, 4, 2, 2, 33, 2, 4, 2, 432, 111, 153, 103, ...\n",
              "4      [1, 249, 2, 7, 61, 113, 10, 10, 13, 2, 14, 20,...\n",
              "...                                                  ...\n",
              "24995  [1, 14, 9, 6, 2, 20, 21, 2, 7, 2, 5, 2, 86, 58...\n",
              "24996  [1, 2, 2, 299, 6, 2, 37, 80, 81, 233, 8, 401, ...\n",
              "24997  [1, 11, 6, 230, 245, 2, 9, 6, 2, 446, 2, 45, 2...\n",
              "24998  [1, 2, 2, 69, 72, 2, 13, 2, 2, 8, 12, 2, 23, 5...\n",
              "24999  [1, 17, 6, 194, 337, 7, 4, 204, 22, 45, 254, 8...\n",
              "\n",
              "[25000 rows x 1 columns]"
            ],
            "text/html": [
              "\n",
              "  <div id=\"df-a7b458da-46c6-41ff-840a-cbbf0b5fa9ba\">\n",
              "    <div class=\"colab-df-container\">\n",
              "      <div>\n",
              "<style scoped>\n",
              "    .dataframe tbody tr th:only-of-type {\n",
              "        vertical-align: middle;\n",
              "    }\n",
              "\n",
              "    .dataframe tbody tr th {\n",
              "        vertical-align: top;\n",
              "    }\n",
              "\n",
              "    .dataframe thead th {\n",
              "        text-align: right;\n",
              "    }\n",
              "</style>\n",
              "<table border=\"1\" class=\"dataframe\">\n",
              "  <thead>\n",
              "    <tr style=\"text-align: right;\">\n",
              "      <th></th>\n",
              "      <th>0</th>\n",
              "    </tr>\n",
              "  </thead>\n",
              "  <tbody>\n",
              "    <tr>\n",
              "      <th>0</th>\n",
              "      <td>[1, 14, 22, 16, 43, 2, 2, 2, 2, 65, 458, 2, 66...</td>\n",
              "    </tr>\n",
              "    <tr>\n",
              "      <th>1</th>\n",
              "      <td>[1, 194, 2, 194, 2, 78, 228, 5, 6, 2, 2, 2, 13...</td>\n",
              "    </tr>\n",
              "    <tr>\n",
              "      <th>2</th>\n",
              "      <td>[1, 14, 47, 8, 30, 31, 7, 4, 249, 108, 7, 4, 2...</td>\n",
              "    </tr>\n",
              "    <tr>\n",
              "      <th>3</th>\n",
              "      <td>[1, 4, 2, 2, 33, 2, 4, 2, 432, 111, 153, 103, ...</td>\n",
              "    </tr>\n",
              "    <tr>\n",
              "      <th>4</th>\n",
              "      <td>[1, 249, 2, 7, 61, 113, 10, 10, 13, 2, 14, 20,...</td>\n",
              "    </tr>\n",
              "    <tr>\n",
              "      <th>...</th>\n",
              "      <td>...</td>\n",
              "    </tr>\n",
              "    <tr>\n",
              "      <th>24995</th>\n",
              "      <td>[1, 14, 9, 6, 2, 20, 21, 2, 7, 2, 5, 2, 86, 58...</td>\n",
              "    </tr>\n",
              "    <tr>\n",
              "      <th>24996</th>\n",
              "      <td>[1, 2, 2, 299, 6, 2, 37, 80, 81, 233, 8, 401, ...</td>\n",
              "    </tr>\n",
              "    <tr>\n",
              "      <th>24997</th>\n",
              "      <td>[1, 11, 6, 230, 245, 2, 9, 6, 2, 446, 2, 45, 2...</td>\n",
              "    </tr>\n",
              "    <tr>\n",
              "      <th>24998</th>\n",
              "      <td>[1, 2, 2, 69, 72, 2, 13, 2, 2, 8, 12, 2, 23, 5...</td>\n",
              "    </tr>\n",
              "    <tr>\n",
              "      <th>24999</th>\n",
              "      <td>[1, 17, 6, 194, 337, 7, 4, 204, 22, 45, 254, 8...</td>\n",
              "    </tr>\n",
              "  </tbody>\n",
              "</table>\n",
              "<p>25000 rows × 1 columns</p>\n",
              "</div>\n",
              "      <button class=\"colab-df-convert\" onclick=\"convertToInteractive('df-a7b458da-46c6-41ff-840a-cbbf0b5fa9ba')\"\n",
              "              title=\"Convert this dataframe to an interactive table.\"\n",
              "              style=\"display:none;\">\n",
              "        \n",
              "  <svg xmlns=\"http://www.w3.org/2000/svg\" height=\"24px\"viewBox=\"0 0 24 24\"\n",
              "       width=\"24px\">\n",
              "    <path d=\"M0 0h24v24H0V0z\" fill=\"none\"/>\n",
              "    <path d=\"M18.56 5.44l.94 2.06.94-2.06 2.06-.94-2.06-.94-.94-2.06-.94 2.06-2.06.94zm-11 1L8.5 8.5l.94-2.06 2.06-.94-2.06-.94L8.5 2.5l-.94 2.06-2.06.94zm10 10l.94 2.06.94-2.06 2.06-.94-2.06-.94-.94-2.06-.94 2.06-2.06.94z\"/><path d=\"M17.41 7.96l-1.37-1.37c-.4-.4-.92-.59-1.43-.59-.52 0-1.04.2-1.43.59L10.3 9.45l-7.72 7.72c-.78.78-.78 2.05 0 2.83L4 21.41c.39.39.9.59 1.41.59.51 0 1.02-.2 1.41-.59l7.78-7.78 2.81-2.81c.8-.78.8-2.07 0-2.86zM5.41 20L4 18.59l7.72-7.72 1.47 1.35L5.41 20z\"/>\n",
              "  </svg>\n",
              "      </button>\n",
              "      \n",
              "  <style>\n",
              "    .colab-df-container {\n",
              "      display:flex;\n",
              "      flex-wrap:wrap;\n",
              "      gap: 12px;\n",
              "    }\n",
              "\n",
              "    .colab-df-convert {\n",
              "      background-color: #E8F0FE;\n",
              "      border: none;\n",
              "      border-radius: 50%;\n",
              "      cursor: pointer;\n",
              "      display: none;\n",
              "      fill: #1967D2;\n",
              "      height: 32px;\n",
              "      padding: 0 0 0 0;\n",
              "      width: 32px;\n",
              "    }\n",
              "\n",
              "    .colab-df-convert:hover {\n",
              "      background-color: #E2EBFA;\n",
              "      box-shadow: 0px 1px 2px rgba(60, 64, 67, 0.3), 0px 1px 3px 1px rgba(60, 64, 67, 0.15);\n",
              "      fill: #174EA6;\n",
              "    }\n",
              "\n",
              "    [theme=dark] .colab-df-convert {\n",
              "      background-color: #3B4455;\n",
              "      fill: #D2E3FC;\n",
              "    }\n",
              "\n",
              "    [theme=dark] .colab-df-convert:hover {\n",
              "      background-color: #434B5C;\n",
              "      box-shadow: 0px 1px 3px 1px rgba(0, 0, 0, 0.15);\n",
              "      filter: drop-shadow(0px 1px 2px rgba(0, 0, 0, 0.3));\n",
              "      fill: #FFFFFF;\n",
              "    }\n",
              "  </style>\n",
              "\n",
              "      <script>\n",
              "        const buttonEl =\n",
              "          document.querySelector('#df-a7b458da-46c6-41ff-840a-cbbf0b5fa9ba button.colab-df-convert');\n",
              "        buttonEl.style.display =\n",
              "          google.colab.kernel.accessAllowed ? 'block' : 'none';\n",
              "\n",
              "        async function convertToInteractive(key) {\n",
              "          const element = document.querySelector('#df-a7b458da-46c6-41ff-840a-cbbf0b5fa9ba');\n",
              "          const dataTable =\n",
              "            await google.colab.kernel.invokeFunction('convertToInteractive',\n",
              "                                                     [key], {});\n",
              "          if (!dataTable) return;\n",
              "\n",
              "          const docLinkHtml = 'Like what you see? Visit the ' +\n",
              "            '<a target=\"_blank\" href=https://colab.research.google.com/notebooks/data_table.ipynb>data table notebook</a>'\n",
              "            + ' to learn more about interactive tables.';\n",
              "          element.innerHTML = '';\n",
              "          dataTable['output_type'] = 'display_data';\n",
              "          await google.colab.output.renderOutput(dataTable, element);\n",
              "          const docLink = document.createElement('div');\n",
              "          docLink.innerHTML = docLinkHtml;\n",
              "          element.appendChild(docLink);\n",
              "        }\n",
              "      </script>\n",
              "    </div>\n",
              "  </div>\n",
              "  "
            ]
          },
          "metadata": {},
          "execution_count": 159
        }
      ]
    },
    {
      "cell_type": "code",
      "source": [
        "import numpy as np\n",
        "l = np.array( [len(x) for x in t_x ])\n",
        "l.shape, np.max(l), np.unique(l)"
      ],
      "metadata": {
        "id": "YJtRFvin_Fd2"
      },
      "execution_count": null,
      "outputs": []
    },
    {
      "cell_type": "code",
      "source": [
        "pd.DataFrame(l)"
      ],
      "metadata": {
        "colab": {
          "base_uri": "https://localhost:8080/",
          "height": 424
        },
        "id": "oxlJ2jc6_LaH",
        "outputId": "1bd49f11-82c4-4906-bdbb-f8e28853a735"
      },
      "execution_count": null,
      "outputs": [
        {
          "output_type": "execute_result",
          "data": {
            "text/plain": [
              "         0\n",
              "0      259\n",
              "1      520\n",
              "2      290\n",
              "3      109\n",
              "4      559\n",
              "...    ...\n",
              "19995   58\n",
              "19996  120\n",
              "19997  300\n",
              "19998   70\n",
              "19999   77\n",
              "\n",
              "[20000 rows x 1 columns]"
            ],
            "text/html": [
              "\n",
              "  <div id=\"df-361bf8e1-0ac5-42ac-a059-668f8bdb5bed\">\n",
              "    <div class=\"colab-df-container\">\n",
              "      <div>\n",
              "<style scoped>\n",
              "    .dataframe tbody tr th:only-of-type {\n",
              "        vertical-align: middle;\n",
              "    }\n",
              "\n",
              "    .dataframe tbody tr th {\n",
              "        vertical-align: top;\n",
              "    }\n",
              "\n",
              "    .dataframe thead th {\n",
              "        text-align: right;\n",
              "    }\n",
              "</style>\n",
              "<table border=\"1\" class=\"dataframe\">\n",
              "  <thead>\n",
              "    <tr style=\"text-align: right;\">\n",
              "      <th></th>\n",
              "      <th>0</th>\n",
              "    </tr>\n",
              "  </thead>\n",
              "  <tbody>\n",
              "    <tr>\n",
              "      <th>0</th>\n",
              "      <td>259</td>\n",
              "    </tr>\n",
              "    <tr>\n",
              "      <th>1</th>\n",
              "      <td>520</td>\n",
              "    </tr>\n",
              "    <tr>\n",
              "      <th>2</th>\n",
              "      <td>290</td>\n",
              "    </tr>\n",
              "    <tr>\n",
              "      <th>3</th>\n",
              "      <td>109</td>\n",
              "    </tr>\n",
              "    <tr>\n",
              "      <th>4</th>\n",
              "      <td>559</td>\n",
              "    </tr>\n",
              "    <tr>\n",
              "      <th>...</th>\n",
              "      <td>...</td>\n",
              "    </tr>\n",
              "    <tr>\n",
              "      <th>19995</th>\n",
              "      <td>58</td>\n",
              "    </tr>\n",
              "    <tr>\n",
              "      <th>19996</th>\n",
              "      <td>120</td>\n",
              "    </tr>\n",
              "    <tr>\n",
              "      <th>19997</th>\n",
              "      <td>300</td>\n",
              "    </tr>\n",
              "    <tr>\n",
              "      <th>19998</th>\n",
              "      <td>70</td>\n",
              "    </tr>\n",
              "    <tr>\n",
              "      <th>19999</th>\n",
              "      <td>77</td>\n",
              "    </tr>\n",
              "  </tbody>\n",
              "</table>\n",
              "<p>20000 rows × 1 columns</p>\n",
              "</div>\n",
              "      <button class=\"colab-df-convert\" onclick=\"convertToInteractive('df-361bf8e1-0ac5-42ac-a059-668f8bdb5bed')\"\n",
              "              title=\"Convert this dataframe to an interactive table.\"\n",
              "              style=\"display:none;\">\n",
              "        \n",
              "  <svg xmlns=\"http://www.w3.org/2000/svg\" height=\"24px\"viewBox=\"0 0 24 24\"\n",
              "       width=\"24px\">\n",
              "    <path d=\"M0 0h24v24H0V0z\" fill=\"none\"/>\n",
              "    <path d=\"M18.56 5.44l.94 2.06.94-2.06 2.06-.94-2.06-.94-.94-2.06-.94 2.06-2.06.94zm-11 1L8.5 8.5l.94-2.06 2.06-.94-2.06-.94L8.5 2.5l-.94 2.06-2.06.94zm10 10l.94 2.06.94-2.06 2.06-.94-2.06-.94-.94-2.06-.94 2.06-2.06.94z\"/><path d=\"M17.41 7.96l-1.37-1.37c-.4-.4-.92-.59-1.43-.59-.52 0-1.04.2-1.43.59L10.3 9.45l-7.72 7.72c-.78.78-.78 2.05 0 2.83L4 21.41c.39.39.9.59 1.41.59.51 0 1.02-.2 1.41-.59l7.78-7.78 2.81-2.81c.8-.78.8-2.07 0-2.86zM5.41 20L4 18.59l7.72-7.72 1.47 1.35L5.41 20z\"/>\n",
              "  </svg>\n",
              "      </button>\n",
              "      \n",
              "  <style>\n",
              "    .colab-df-container {\n",
              "      display:flex;\n",
              "      flex-wrap:wrap;\n",
              "      gap: 12px;\n",
              "    }\n",
              "\n",
              "    .colab-df-convert {\n",
              "      background-color: #E8F0FE;\n",
              "      border: none;\n",
              "      border-radius: 50%;\n",
              "      cursor: pointer;\n",
              "      display: none;\n",
              "      fill: #1967D2;\n",
              "      height: 32px;\n",
              "      padding: 0 0 0 0;\n",
              "      width: 32px;\n",
              "    }\n",
              "\n",
              "    .colab-df-convert:hover {\n",
              "      background-color: #E2EBFA;\n",
              "      box-shadow: 0px 1px 2px rgba(60, 64, 67, 0.3), 0px 1px 3px 1px rgba(60, 64, 67, 0.15);\n",
              "      fill: #174EA6;\n",
              "    }\n",
              "\n",
              "    [theme=dark] .colab-df-convert {\n",
              "      background-color: #3B4455;\n",
              "      fill: #D2E3FC;\n",
              "    }\n",
              "\n",
              "    [theme=dark] .colab-df-convert:hover {\n",
              "      background-color: #434B5C;\n",
              "      box-shadow: 0px 1px 3px 1px rgba(0, 0, 0, 0.15);\n",
              "      filter: drop-shadow(0px 1px 2px rgba(0, 0, 0, 0.3));\n",
              "      fill: #FFFFFF;\n",
              "    }\n",
              "  </style>\n",
              "\n",
              "      <script>\n",
              "        const buttonEl =\n",
              "          document.querySelector('#df-361bf8e1-0ac5-42ac-a059-668f8bdb5bed button.colab-df-convert');\n",
              "        buttonEl.style.display =\n",
              "          google.colab.kernel.accessAllowed ? 'block' : 'none';\n",
              "\n",
              "        async function convertToInteractive(key) {\n",
              "          const element = document.querySelector('#df-361bf8e1-0ac5-42ac-a059-668f8bdb5bed');\n",
              "          const dataTable =\n",
              "            await google.colab.kernel.invokeFunction('convertToInteractive',\n",
              "                                                     [key], {});\n",
              "          if (!dataTable) return;\n",
              "\n",
              "          const docLinkHtml = 'Like what you see? Visit the ' +\n",
              "            '<a target=\"_blank\" href=https://colab.research.google.com/notebooks/data_table.ipynb>data table notebook</a>'\n",
              "            + ' to learn more about interactive tables.';\n",
              "          element.innerHTML = '';\n",
              "          dataTable['output_type'] = 'display_data';\n",
              "          await google.colab.output.renderOutput(dataTable, element);\n",
              "          const docLink = document.createElement('div');\n",
              "          docLink.innerHTML = docLinkHtml;\n",
              "          element.appendChild(docLink);\n",
              "        }\n",
              "      </script>\n",
              "    </div>\n",
              "  </div>\n",
              "  "
            ]
          },
          "metadata": {},
          "execution_count": 163
        }
      ]
    },
    {
      "cell_type": "code",
      "source": [
        "import numpy as np"
      ],
      "metadata": {
        "id": "IUC2PS98aIvR"
      },
      "execution_count": null,
      "outputs": []
    },
    {
      "cell_type": "code",
      "source": [
        "np.unique(y_data)"
      ],
      "metadata": {
        "colab": {
          "base_uri": "https://localhost:8080/"
        },
        "id": "Zv1xdxTRaGYQ",
        "outputId": "f4c7ead4-a7b1-43e0-f305-fe814dc5a15e"
      },
      "execution_count": null,
      "outputs": [
        {
          "output_type": "execute_result",
          "data": {
            "text/plain": [
              "array([0, 1])"
            ]
          },
          "metadata": {},
          "execution_count": 156
        }
      ]
    },
    {
      "cell_type": "code",
      "source": [
        "len(y_data)"
      ],
      "metadata": {
        "colab": {
          "base_uri": "https://localhost:8080/"
        },
        "id": "nKjleWzMaSBj",
        "outputId": "acd24109-d18c-485d-e425-45d146279eaa"
      },
      "execution_count": null,
      "outputs": [
        {
          "output_type": "execute_result",
          "data": {
            "text/plain": [
              "25000"
            ]
          },
          "metadata": {},
          "execution_count": 13
        }
      ]
    },
    {
      "cell_type": "code",
      "source": [
        "y_data[0] "
      ],
      "metadata": {
        "colab": {
          "base_uri": "https://localhost:8080/"
        },
        "id": "tCl4e2ehZ228",
        "outputId": "0ff03d1f-840f-414b-b3c0-3b124f40a203"
      },
      "execution_count": null,
      "outputs": [
        {
          "output_type": "execute_result",
          "data": {
            "text/plain": [
              "1"
            ]
          },
          "metadata": {},
          "execution_count": 12
        }
      ]
    },
    {
      "cell_type": "code",
      "source": [
        ""
      ],
      "metadata": {
        "id": "9ir8oc23GcpM"
      },
      "execution_count": null,
      "outputs": []
    },
    {
      "cell_type": "code",
      "source": [
        ""
      ],
      "metadata": {
        "id": "1E0KQxLJaXDR"
      },
      "execution_count": null,
      "outputs": []
    },
    {
      "cell_type": "code",
      "source": [
        "X_data.shape"
      ],
      "metadata": {
        "colab": {
          "base_uri": "https://localhost:8080/"
        },
        "id": "9QGVvpteaXLx",
        "outputId": "752999c3-7f27-4d63-9aa5-07412b887cb6"
      },
      "execution_count": null,
      "outputs": [
        {
          "output_type": "execute_result",
          "data": {
            "text/plain": [
              "(25000,)"
            ]
          },
          "metadata": {},
          "execution_count": 16
        }
      ]
    },
    {
      "cell_type": "code",
      "source": [
        "len(X_data)"
      ],
      "metadata": {
        "colab": {
          "base_uri": "https://localhost:8080/"
        },
        "id": "_LlwQwY6aZhL",
        "outputId": "9db5a2b9-e97b-4d5a-9658-c6b37f39a055"
      },
      "execution_count": null,
      "outputs": [
        {
          "output_type": "execute_result",
          "data": {
            "text/plain": [
              "25000"
            ]
          },
          "metadata": {},
          "execution_count": 15
        }
      ]
    },
    {
      "cell_type": "code",
      "source": [
        "np.unique(X_data[0])"
      ],
      "metadata": {
        "colab": {
          "base_uri": "https://localhost:8080/"
        },
        "id": "-YuX-sgiagOI",
        "outputId": "335ae592-57b5-4bdb-ad5d-cd3750008de5"
      },
      "execution_count": null,
      "outputs": [
        {
          "output_type": "execute_result",
          "data": {
            "text/plain": [
              "array([  1,   2,   4,   5,   6,   7,   8,   9,  12,  13,  14,  15,  16,\n",
              "        17,  18,  19,  21,  22,  25,  26,  28,  30,  32,  33,  35,  36,\n",
              "        38,  39,  43,  46,  48,  50,  51,  52,  56,  62,  65,  66,  71,\n",
              "        76,  77,  82,  87,  88,  92,  98, 100, 103, 104, 106, 107, 112,\n",
              "       113, 117, 124, 130, 134, 135, 141, 144, 147, 150, 167, 172, 173,\n",
              "       178, 192, 194, 215, 224, 226, 256, 283, 284, 297, 316, 317, 336,\n",
              "       381, 385, 386, 400, 407, 447, 458, 469, 476, 480])"
            ]
          },
          "metadata": {},
          "execution_count": 18
        }
      ]
    },
    {
      "cell_type": "code",
      "source": [
        "X_data[0][0]"
      ],
      "metadata": {
        "colab": {
          "base_uri": "https://localhost:8080/"
        },
        "id": "49Ats8t9al8x",
        "outputId": "33442515-37d1-420b-fcaa-667ba07f92b6"
      },
      "execution_count": null,
      "outputs": [
        {
          "output_type": "execute_result",
          "data": {
            "text/plain": [
              "1"
            ]
          },
          "metadata": {},
          "execution_count": 19
        }
      ]
    },
    {
      "cell_type": "code",
      "source": [
        ""
      ],
      "metadata": {
        "id": "Lx4tcVLW7bum"
      },
      "execution_count": null,
      "outputs": []
    },
    {
      "cell_type": "code",
      "source": [
        "\n",
        "# 25000 개의 숫자\n",
        "# 각 숫자/인덱스마다 200~300개의 수가 들어 있다                    #밸류당 각 숫자는 문장의길이\n",
        "# 또 그 안에 200~300개의 수가 있다"
      ],
      "metadata": {
        "colab": {
          "base_uri": "https://localhost:8080/"
        },
        "id": "p5NdBtCY7gW3",
        "outputId": "64633be5-4e5c-4785-bab0-f31c47d21c57"
      },
      "execution_count": null,
      "outputs": [
        {
          "output_type": "execute_result",
          "data": {
            "text/plain": [
              "366"
            ]
          },
          "metadata": {},
          "execution_count": 20
        }
      ]
    },
    {
      "cell_type": "code",
      "source": [
        "X_data.shape   # 2차원"
      ],
      "metadata": {
        "colab": {
          "base_uri": "https://localhost:8080/"
        },
        "id": "wWgd89oR8UnS",
        "outputId": "fae665b6-1b85-418d-b004-0f44685cb5bd"
      },
      "execution_count": null,
      "outputs": [
        {
          "output_type": "execute_result",
          "data": {
            "text/plain": [
              "(25000,)"
            ]
          },
          "metadata": {},
          "execution_count": 24
        }
      ]
    },
    {
      "cell_type": "code",
      "source": [
        "# 차원\n",
        "# shape은 행*열만 알 수 있다   (행, ) 이라고 밸류마다 1개의 값을 갖는 것은 아니다"
      ],
      "metadata": {
        "id": "-wwuIDbrGIW6"
      },
      "execution_count": null,
      "outputs": []
    },
    {
      "cell_type": "code",
      "source": [
        "len(X_data), len(X_data[0]), X_data[0][3]         # 2차원         [   [200개의수], [] , [] ,[]....  ]   \n",
        "#                                                                          25000개의 묶음 \n",
        "\n",
        "# 벡터 밸류 25000개  밸류하나당 밸류200개의 수가 들어있다.\n",
        "\n",
        "# 25000*200 = 500만개 "
      ],
      "metadata": {
        "colab": {
          "base_uri": "https://localhost:8080/"
        },
        "id": "9xb39ugT74j4",
        "outputId": "649fbf51-d3ae-4e88-8c13-5e391cf8e765"
      },
      "execution_count": null,
      "outputs": [
        {
          "output_type": "execute_result",
          "data": {
            "text/plain": [
              "(25000, 218, 16)"
            ]
          },
          "metadata": {},
          "execution_count": 122
        }
      ]
    },
    {
      "cell_type": "code",
      "source": [
        "import numpy as np\n",
        "a = np.array([1,2])     # 1차원  \n",
        "a.shape,       len(a),  a[0], \n",
        "\n",
        "# 벡터 원소2개\n",
        "# 1,2 "
      ],
      "metadata": {
        "colab": {
          "base_uri": "https://localhost:8080/"
        },
        "id": "Ok7P09pHAccd",
        "outputId": "56ebae29-37ce-4661-a94d-852662717553"
      },
      "execution_count": null,
      "outputs": [
        {
          "output_type": "execute_result",
          "data": {
            "text/plain": [
              "((2,), 2, 1)"
            ]
          },
          "metadata": {},
          "execution_count": 97
        }
      ]
    },
    {
      "cell_type": "code",
      "source": [
        "a"
      ],
      "metadata": {
        "colab": {
          "base_uri": "https://localhost:8080/"
        },
        "id": "0Y8zYVZBFFkc",
        "outputId": "d884d538-f361-4898-d0d3-4b3b177f437b"
      },
      "execution_count": null,
      "outputs": [
        {
          "output_type": "execute_result",
          "data": {
            "text/plain": [
              "array([1, 2])"
            ]
          },
          "metadata": {},
          "execution_count": 98
        }
      ]
    },
    {
      "cell_type": "code",
      "source": [
        "import numpy as np\n",
        "a = np.array([[1,2],[2.3], [3,4], [5,6]])   # 2차원\n",
        "a.shape,       len(a),  len(a[0]), a[0][0]\n",
        "\n",
        "#  벡터  원소[2개]씩 4개\n",
        "#  1.2  2.3  3.4  5.6"
      ],
      "metadata": {
        "colab": {
          "base_uri": "https://localhost:8080/"
        },
        "id": "XszCdW5q8p1P",
        "outputId": "b3dfdc05-94ca-4d7b-ad48-4029a9715e6f"
      },
      "execution_count": null,
      "outputs": [
        {
          "output_type": "stream",
          "name": "stderr",
          "text": [
            "/usr/local/lib/python3.7/dist-packages/ipykernel_launcher.py:2: VisibleDeprecationWarning: Creating an ndarray from ragged nested sequences (which is a list-or-tuple of lists-or-tuples-or ndarrays with different lengths or shapes) is deprecated. If you meant to do this, you must specify 'dtype=object' when creating the ndarray.\n",
            "  \n"
          ]
        },
        {
          "output_type": "execute_result",
          "data": {
            "text/plain": [
              "((4,), 4, 2, 1)"
            ]
          },
          "metadata": {},
          "execution_count": 118
        }
      ]
    },
    {
      "cell_type": "code",
      "source": [
        ""
      ],
      "metadata": {
        "colab": {
          "base_uri": "https://localhost:8080/"
        },
        "id": "nGuIJJiWMkHM",
        "outputId": "5866ee63-f572-4b71-afa6-3dd582d2c6bc"
      },
      "execution_count": null,
      "outputs": [
        {
          "output_type": "execute_result",
          "data": {
            "text/plain": [
              "[1, 2]"
            ]
          },
          "metadata": {},
          "execution_count": 117
        }
      ]
    },
    {
      "cell_type": "code",
      "source": [
        "a"
      ],
      "metadata": {
        "colab": {
          "base_uri": "https://localhost:8080/"
        },
        "id": "yQIlN2WJFNVD",
        "outputId": "3a49532d-625c-441d-ace3-05beba2e3a44"
      },
      "execution_count": null,
      "outputs": [
        {
          "output_type": "execute_result",
          "data": {
            "text/plain": [
              "array([list([1, 2]), list([2.3]), list([3, 4]), list([5, 6])],\n",
              "      dtype=object)"
            ]
          },
          "metadata": {},
          "execution_count": 96
        }
      ]
    },
    {
      "cell_type": "code",
      "source": [
        "import numpy as np\n",
        "a = np.array([[[1,2]],[[2.3]], [[3,4]], [[5,6]] ])  # 3차원\n",
        "a.shape,       len(a),  len(a[0]), a[0][0]\n",
        "\n",
        "# 배열 4행1열 각 열당 원소2개씩\n",
        "\n",
        "# '열'\n",
        "# 1,2\n",
        "# 2,3\n",
        "# 3,4\n",
        "# 5,6"
      ],
      "metadata": {
        "colab": {
          "base_uri": "https://localhost:8080/"
        },
        "id": "Lbkm5LBX_1Ml",
        "outputId": "25b891c1-c323-4d05-d2fb-eddaec4e3092"
      },
      "execution_count": null,
      "outputs": [
        {
          "output_type": "stream",
          "name": "stderr",
          "text": [
            "/usr/local/lib/python3.7/dist-packages/ipykernel_launcher.py:2: VisibleDeprecationWarning: Creating an ndarray from ragged nested sequences (which is a list-or-tuple of lists-or-tuples-or ndarrays with different lengths or shapes) is deprecated. If you meant to do this, you must specify 'dtype=object' when creating the ndarray.\n",
            "  \n"
          ]
        },
        {
          "output_type": "execute_result",
          "data": {
            "text/plain": [
              "((4, 1), 4, 1, [1, 2])"
            ]
          },
          "metadata": {},
          "execution_count": 103
        }
      ]
    },
    {
      "cell_type": "code",
      "source": [
        "import pandas as pd\n",
        "aa=pd.DataFrame(a)\n",
        "aa"
      ],
      "metadata": {
        "colab": {
          "base_uri": "https://localhost:8080/",
          "height": 175
        },
        "id": "PuTI9HYhFncF",
        "outputId": "2f642f03-1b4b-4aa6-b41b-86cff0c481ef"
      },
      "execution_count": null,
      "outputs": [
        {
          "output_type": "execute_result",
          "data": {
            "text/plain": [
              "        0\n",
              "0  [1, 2]\n",
              "1   [2.3]\n",
              "2  [3, 4]\n",
              "3  [5, 6]"
            ],
            "text/html": [
              "\n",
              "  <div id=\"df-030a7ad6-cb3e-4c0e-817c-30d4866dde32\">\n",
              "    <div class=\"colab-df-container\">\n",
              "      <div>\n",
              "<style scoped>\n",
              "    .dataframe tbody tr th:only-of-type {\n",
              "        vertical-align: middle;\n",
              "    }\n",
              "\n",
              "    .dataframe tbody tr th {\n",
              "        vertical-align: top;\n",
              "    }\n",
              "\n",
              "    .dataframe thead th {\n",
              "        text-align: right;\n",
              "    }\n",
              "</style>\n",
              "<table border=\"1\" class=\"dataframe\">\n",
              "  <thead>\n",
              "    <tr style=\"text-align: right;\">\n",
              "      <th></th>\n",
              "      <th>0</th>\n",
              "    </tr>\n",
              "  </thead>\n",
              "  <tbody>\n",
              "    <tr>\n",
              "      <th>0</th>\n",
              "      <td>[1, 2]</td>\n",
              "    </tr>\n",
              "    <tr>\n",
              "      <th>1</th>\n",
              "      <td>[2.3]</td>\n",
              "    </tr>\n",
              "    <tr>\n",
              "      <th>2</th>\n",
              "      <td>[3, 4]</td>\n",
              "    </tr>\n",
              "    <tr>\n",
              "      <th>3</th>\n",
              "      <td>[5, 6]</td>\n",
              "    </tr>\n",
              "  </tbody>\n",
              "</table>\n",
              "</div>\n",
              "      <button class=\"colab-df-convert\" onclick=\"convertToInteractive('df-030a7ad6-cb3e-4c0e-817c-30d4866dde32')\"\n",
              "              title=\"Convert this dataframe to an interactive table.\"\n",
              "              style=\"display:none;\">\n",
              "        \n",
              "  <svg xmlns=\"http://www.w3.org/2000/svg\" height=\"24px\"viewBox=\"0 0 24 24\"\n",
              "       width=\"24px\">\n",
              "    <path d=\"M0 0h24v24H0V0z\" fill=\"none\"/>\n",
              "    <path d=\"M18.56 5.44l.94 2.06.94-2.06 2.06-.94-2.06-.94-.94-2.06-.94 2.06-2.06.94zm-11 1L8.5 8.5l.94-2.06 2.06-.94-2.06-.94L8.5 2.5l-.94 2.06-2.06.94zm10 10l.94 2.06.94-2.06 2.06-.94-2.06-.94-.94-2.06-.94 2.06-2.06.94z\"/><path d=\"M17.41 7.96l-1.37-1.37c-.4-.4-.92-.59-1.43-.59-.52 0-1.04.2-1.43.59L10.3 9.45l-7.72 7.72c-.78.78-.78 2.05 0 2.83L4 21.41c.39.39.9.59 1.41.59.51 0 1.02-.2 1.41-.59l7.78-7.78 2.81-2.81c.8-.78.8-2.07 0-2.86zM5.41 20L4 18.59l7.72-7.72 1.47 1.35L5.41 20z\"/>\n",
              "  </svg>\n",
              "      </button>\n",
              "      \n",
              "  <style>\n",
              "    .colab-df-container {\n",
              "      display:flex;\n",
              "      flex-wrap:wrap;\n",
              "      gap: 12px;\n",
              "    }\n",
              "\n",
              "    .colab-df-convert {\n",
              "      background-color: #E8F0FE;\n",
              "      border: none;\n",
              "      border-radius: 50%;\n",
              "      cursor: pointer;\n",
              "      display: none;\n",
              "      fill: #1967D2;\n",
              "      height: 32px;\n",
              "      padding: 0 0 0 0;\n",
              "      width: 32px;\n",
              "    }\n",
              "\n",
              "    .colab-df-convert:hover {\n",
              "      background-color: #E2EBFA;\n",
              "      box-shadow: 0px 1px 2px rgba(60, 64, 67, 0.3), 0px 1px 3px 1px rgba(60, 64, 67, 0.15);\n",
              "      fill: #174EA6;\n",
              "    }\n",
              "\n",
              "    [theme=dark] .colab-df-convert {\n",
              "      background-color: #3B4455;\n",
              "      fill: #D2E3FC;\n",
              "    }\n",
              "\n",
              "    [theme=dark] .colab-df-convert:hover {\n",
              "      background-color: #434B5C;\n",
              "      box-shadow: 0px 1px 3px 1px rgba(0, 0, 0, 0.15);\n",
              "      filter: drop-shadow(0px 1px 2px rgba(0, 0, 0, 0.3));\n",
              "      fill: #FFFFFF;\n",
              "    }\n",
              "  </style>\n",
              "\n",
              "      <script>\n",
              "        const buttonEl =\n",
              "          document.querySelector('#df-030a7ad6-cb3e-4c0e-817c-30d4866dde32 button.colab-df-convert');\n",
              "        buttonEl.style.display =\n",
              "          google.colab.kernel.accessAllowed ? 'block' : 'none';\n",
              "\n",
              "        async function convertToInteractive(key) {\n",
              "          const element = document.querySelector('#df-030a7ad6-cb3e-4c0e-817c-30d4866dde32');\n",
              "          const dataTable =\n",
              "            await google.colab.kernel.invokeFunction('convertToInteractive',\n",
              "                                                     [key], {});\n",
              "          if (!dataTable) return;\n",
              "\n",
              "          const docLinkHtml = 'Like what you see? Visit the ' +\n",
              "            '<a target=\"_blank\" href=https://colab.research.google.com/notebooks/data_table.ipynb>data table notebook</a>'\n",
              "            + ' to learn more about interactive tables.';\n",
              "          element.innerHTML = '';\n",
              "          dataTable['output_type'] = 'display_data';\n",
              "          await google.colab.output.renderOutput(dataTable, element);\n",
              "          const docLink = document.createElement('div');\n",
              "          docLink.innerHTML = docLinkHtml;\n",
              "          element.appendChild(docLink);\n",
              "        }\n",
              "      </script>\n",
              "    </div>\n",
              "  </div>\n",
              "  "
            ]
          },
          "metadata": {},
          "execution_count": 104
        }
      ]
    },
    {
      "cell_type": "code",
      "source": [
        "a"
      ],
      "metadata": {
        "colab": {
          "base_uri": "https://localhost:8080/"
        },
        "id": "n6tz57rwFW-x",
        "outputId": "a620f001-de00-4e87-f466-b41cfd22d055"
      },
      "execution_count": null,
      "outputs": [
        {
          "output_type": "execute_result",
          "data": {
            "text/plain": [
              "array([[list([1, 2])],\n",
              "       [list([2.3])],\n",
              "       [list([3, 4])],\n",
              "       [list([5, 6])]], dtype=object)"
            ]
          },
          "metadata": {},
          "execution_count": 100
        }
      ]
    },
    {
      "cell_type": "code",
      "source": [
        "import pandas as pd\n",
        "aa=pd.DataFrame(a)\n",
        "aa"
      ],
      "metadata": {
        "colab": {
          "base_uri": "https://localhost:8080/",
          "height": 175
        },
        "id": "qkdti3ydD0Ui",
        "outputId": "e52c6790-7b43-4af5-c4fa-90b0ef15721f"
      },
      "execution_count": null,
      "outputs": [
        {
          "output_type": "execute_result",
          "data": {
            "text/plain": [
              "        0\n",
              "0  [1, 2]\n",
              "1   [2.3]\n",
              "2  [3, 4]\n",
              "3  [5, 6]"
            ],
            "text/html": [
              "\n",
              "  <div id=\"df-bca1f9c6-7f0e-4b92-9a96-5109fb5b961e\">\n",
              "    <div class=\"colab-df-container\">\n",
              "      <div>\n",
              "<style scoped>\n",
              "    .dataframe tbody tr th:only-of-type {\n",
              "        vertical-align: middle;\n",
              "    }\n",
              "\n",
              "    .dataframe tbody tr th {\n",
              "        vertical-align: top;\n",
              "    }\n",
              "\n",
              "    .dataframe thead th {\n",
              "        text-align: right;\n",
              "    }\n",
              "</style>\n",
              "<table border=\"1\" class=\"dataframe\">\n",
              "  <thead>\n",
              "    <tr style=\"text-align: right;\">\n",
              "      <th></th>\n",
              "      <th>0</th>\n",
              "    </tr>\n",
              "  </thead>\n",
              "  <tbody>\n",
              "    <tr>\n",
              "      <th>0</th>\n",
              "      <td>[1, 2]</td>\n",
              "    </tr>\n",
              "    <tr>\n",
              "      <th>1</th>\n",
              "      <td>[2.3]</td>\n",
              "    </tr>\n",
              "    <tr>\n",
              "      <th>2</th>\n",
              "      <td>[3, 4]</td>\n",
              "    </tr>\n",
              "    <tr>\n",
              "      <th>3</th>\n",
              "      <td>[5, 6]</td>\n",
              "    </tr>\n",
              "  </tbody>\n",
              "</table>\n",
              "</div>\n",
              "      <button class=\"colab-df-convert\" onclick=\"convertToInteractive('df-bca1f9c6-7f0e-4b92-9a96-5109fb5b961e')\"\n",
              "              title=\"Convert this dataframe to an interactive table.\"\n",
              "              style=\"display:none;\">\n",
              "        \n",
              "  <svg xmlns=\"http://www.w3.org/2000/svg\" height=\"24px\"viewBox=\"0 0 24 24\"\n",
              "       width=\"24px\">\n",
              "    <path d=\"M0 0h24v24H0V0z\" fill=\"none\"/>\n",
              "    <path d=\"M18.56 5.44l.94 2.06.94-2.06 2.06-.94-2.06-.94-.94-2.06-.94 2.06-2.06.94zm-11 1L8.5 8.5l.94-2.06 2.06-.94-2.06-.94L8.5 2.5l-.94 2.06-2.06.94zm10 10l.94 2.06.94-2.06 2.06-.94-2.06-.94-.94-2.06-.94 2.06-2.06.94z\"/><path d=\"M17.41 7.96l-1.37-1.37c-.4-.4-.92-.59-1.43-.59-.52 0-1.04.2-1.43.59L10.3 9.45l-7.72 7.72c-.78.78-.78 2.05 0 2.83L4 21.41c.39.39.9.59 1.41.59.51 0 1.02-.2 1.41-.59l7.78-7.78 2.81-2.81c.8-.78.8-2.07 0-2.86zM5.41 20L4 18.59l7.72-7.72 1.47 1.35L5.41 20z\"/>\n",
              "  </svg>\n",
              "      </button>\n",
              "      \n",
              "  <style>\n",
              "    .colab-df-container {\n",
              "      display:flex;\n",
              "      flex-wrap:wrap;\n",
              "      gap: 12px;\n",
              "    }\n",
              "\n",
              "    .colab-df-convert {\n",
              "      background-color: #E8F0FE;\n",
              "      border: none;\n",
              "      border-radius: 50%;\n",
              "      cursor: pointer;\n",
              "      display: none;\n",
              "      fill: #1967D2;\n",
              "      height: 32px;\n",
              "      padding: 0 0 0 0;\n",
              "      width: 32px;\n",
              "    }\n",
              "\n",
              "    .colab-df-convert:hover {\n",
              "      background-color: #E2EBFA;\n",
              "      box-shadow: 0px 1px 2px rgba(60, 64, 67, 0.3), 0px 1px 3px 1px rgba(60, 64, 67, 0.15);\n",
              "      fill: #174EA6;\n",
              "    }\n",
              "\n",
              "    [theme=dark] .colab-df-convert {\n",
              "      background-color: #3B4455;\n",
              "      fill: #D2E3FC;\n",
              "    }\n",
              "\n",
              "    [theme=dark] .colab-df-convert:hover {\n",
              "      background-color: #434B5C;\n",
              "      box-shadow: 0px 1px 3px 1px rgba(0, 0, 0, 0.15);\n",
              "      filter: drop-shadow(0px 1px 2px rgba(0, 0, 0, 0.3));\n",
              "      fill: #FFFFFF;\n",
              "    }\n",
              "  </style>\n",
              "\n",
              "      <script>\n",
              "        const buttonEl =\n",
              "          document.querySelector('#df-bca1f9c6-7f0e-4b92-9a96-5109fb5b961e button.colab-df-convert');\n",
              "        buttonEl.style.display =\n",
              "          google.colab.kernel.accessAllowed ? 'block' : 'none';\n",
              "\n",
              "        async function convertToInteractive(key) {\n",
              "          const element = document.querySelector('#df-bca1f9c6-7f0e-4b92-9a96-5109fb5b961e');\n",
              "          const dataTable =\n",
              "            await google.colab.kernel.invokeFunction('convertToInteractive',\n",
              "                                                     [key], {});\n",
              "          if (!dataTable) return;\n",
              "\n",
              "          const docLinkHtml = 'Like what you see? Visit the ' +\n",
              "            '<a target=\"_blank\" href=https://colab.research.google.com/notebooks/data_table.ipynb>data table notebook</a>'\n",
              "            + ' to learn more about interactive tables.';\n",
              "          element.innerHTML = '';\n",
              "          dataTable['output_type'] = 'display_data';\n",
              "          await google.colab.output.renderOutput(dataTable, element);\n",
              "          const docLink = document.createElement('div');\n",
              "          docLink.innerHTML = docLinkHtml;\n",
              "          element.appendChild(docLink);\n",
              "        }\n",
              "      </script>\n",
              "    </div>\n",
              "  </div>\n",
              "  "
            ]
          },
          "metadata": {},
          "execution_count": 88
        }
      ]
    },
    {
      "cell_type": "code",
      "source": [
        "import numpy as np\n",
        "a = np.array(  [  [[1,2],[3,4]]  ,  [[2.3],[3,4]]  , [[3,4],[3,4]], [[5,6],[3,4]]    ]  )  # 4차원 \n",
        "\n",
        "a.shape,       len(a),  len(a[0]), a[0][0]\n",
        "\n",
        "# 배열 4행2열 각 열당 원소2개씩\n",
        "# 1,2   3,4\n",
        "# 2,3   3,4\n",
        "# 3,4   3,4\n",
        "# 5,6   3,4\n"
      ],
      "metadata": {
        "colab": {
          "base_uri": "https://localhost:8080/"
        },
        "id": "NBwS-VzYBRxk",
        "outputId": "b39c8597-2f95-49f5-a24e-32c45bcf4c6d"
      },
      "execution_count": null,
      "outputs": [
        {
          "output_type": "stream",
          "name": "stderr",
          "text": [
            "/usr/local/lib/python3.7/dist-packages/ipykernel_launcher.py:2: VisibleDeprecationWarning: Creating an ndarray from ragged nested sequences (which is a list-or-tuple of lists-or-tuples-or ndarrays with different lengths or shapes) is deprecated. If you meant to do this, you must specify 'dtype=object' when creating the ndarray.\n",
            "  \n"
          ]
        },
        {
          "output_type": "execute_result",
          "data": {
            "text/plain": [
              "((4, 2), 4, 2, [1, 2])"
            ]
          },
          "metadata": {},
          "execution_count": 109
        }
      ]
    },
    {
      "cell_type": "code",
      "source": [
        "import pandas as pd\n",
        "aa=pd.DataFrame(a)\n",
        "aa"
      ],
      "metadata": {
        "colab": {
          "base_uri": "https://localhost:8080/",
          "height": 175
        },
        "id": "BvOTgkcFJ1Ez",
        "outputId": "001d80bb-20c9-4631-f3f6-a487d2daf134"
      },
      "execution_count": null,
      "outputs": [
        {
          "output_type": "execute_result",
          "data": {
            "text/plain": [
              "        0       1\n",
              "0  [1, 2]  [3, 4]\n",
              "1   [2.3]  [3, 4]\n",
              "2  [3, 4]  [3, 4]\n",
              "3  [5, 6]  [3, 4]"
            ],
            "text/html": [
              "\n",
              "  <div id=\"df-92208c69-f24c-4b3c-b236-5941ffdd362a\">\n",
              "    <div class=\"colab-df-container\">\n",
              "      <div>\n",
              "<style scoped>\n",
              "    .dataframe tbody tr th:only-of-type {\n",
              "        vertical-align: middle;\n",
              "    }\n",
              "\n",
              "    .dataframe tbody tr th {\n",
              "        vertical-align: top;\n",
              "    }\n",
              "\n",
              "    .dataframe thead th {\n",
              "        text-align: right;\n",
              "    }\n",
              "</style>\n",
              "<table border=\"1\" class=\"dataframe\">\n",
              "  <thead>\n",
              "    <tr style=\"text-align: right;\">\n",
              "      <th></th>\n",
              "      <th>0</th>\n",
              "      <th>1</th>\n",
              "    </tr>\n",
              "  </thead>\n",
              "  <tbody>\n",
              "    <tr>\n",
              "      <th>0</th>\n",
              "      <td>[1, 2]</td>\n",
              "      <td>[3, 4]</td>\n",
              "    </tr>\n",
              "    <tr>\n",
              "      <th>1</th>\n",
              "      <td>[2.3]</td>\n",
              "      <td>[3, 4]</td>\n",
              "    </tr>\n",
              "    <tr>\n",
              "      <th>2</th>\n",
              "      <td>[3, 4]</td>\n",
              "      <td>[3, 4]</td>\n",
              "    </tr>\n",
              "    <tr>\n",
              "      <th>3</th>\n",
              "      <td>[5, 6]</td>\n",
              "      <td>[3, 4]</td>\n",
              "    </tr>\n",
              "  </tbody>\n",
              "</table>\n",
              "</div>\n",
              "      <button class=\"colab-df-convert\" onclick=\"convertToInteractive('df-92208c69-f24c-4b3c-b236-5941ffdd362a')\"\n",
              "              title=\"Convert this dataframe to an interactive table.\"\n",
              "              style=\"display:none;\">\n",
              "        \n",
              "  <svg xmlns=\"http://www.w3.org/2000/svg\" height=\"24px\"viewBox=\"0 0 24 24\"\n",
              "       width=\"24px\">\n",
              "    <path d=\"M0 0h24v24H0V0z\" fill=\"none\"/>\n",
              "    <path d=\"M18.56 5.44l.94 2.06.94-2.06 2.06-.94-2.06-.94-.94-2.06-.94 2.06-2.06.94zm-11 1L8.5 8.5l.94-2.06 2.06-.94-2.06-.94L8.5 2.5l-.94 2.06-2.06.94zm10 10l.94 2.06.94-2.06 2.06-.94-2.06-.94-.94-2.06-.94 2.06-2.06.94z\"/><path d=\"M17.41 7.96l-1.37-1.37c-.4-.4-.92-.59-1.43-.59-.52 0-1.04.2-1.43.59L10.3 9.45l-7.72 7.72c-.78.78-.78 2.05 0 2.83L4 21.41c.39.39.9.59 1.41.59.51 0 1.02-.2 1.41-.59l7.78-7.78 2.81-2.81c.8-.78.8-2.07 0-2.86zM5.41 20L4 18.59l7.72-7.72 1.47 1.35L5.41 20z\"/>\n",
              "  </svg>\n",
              "      </button>\n",
              "      \n",
              "  <style>\n",
              "    .colab-df-container {\n",
              "      display:flex;\n",
              "      flex-wrap:wrap;\n",
              "      gap: 12px;\n",
              "    }\n",
              "\n",
              "    .colab-df-convert {\n",
              "      background-color: #E8F0FE;\n",
              "      border: none;\n",
              "      border-radius: 50%;\n",
              "      cursor: pointer;\n",
              "      display: none;\n",
              "      fill: #1967D2;\n",
              "      height: 32px;\n",
              "      padding: 0 0 0 0;\n",
              "      width: 32px;\n",
              "    }\n",
              "\n",
              "    .colab-df-convert:hover {\n",
              "      background-color: #E2EBFA;\n",
              "      box-shadow: 0px 1px 2px rgba(60, 64, 67, 0.3), 0px 1px 3px 1px rgba(60, 64, 67, 0.15);\n",
              "      fill: #174EA6;\n",
              "    }\n",
              "\n",
              "    [theme=dark] .colab-df-convert {\n",
              "      background-color: #3B4455;\n",
              "      fill: #D2E3FC;\n",
              "    }\n",
              "\n",
              "    [theme=dark] .colab-df-convert:hover {\n",
              "      background-color: #434B5C;\n",
              "      box-shadow: 0px 1px 3px 1px rgba(0, 0, 0, 0.15);\n",
              "      filter: drop-shadow(0px 1px 2px rgba(0, 0, 0, 0.3));\n",
              "      fill: #FFFFFF;\n",
              "    }\n",
              "  </style>\n",
              "\n",
              "      <script>\n",
              "        const buttonEl =\n",
              "          document.querySelector('#df-92208c69-f24c-4b3c-b236-5941ffdd362a button.colab-df-convert');\n",
              "        buttonEl.style.display =\n",
              "          google.colab.kernel.accessAllowed ? 'block' : 'none';\n",
              "\n",
              "        async function convertToInteractive(key) {\n",
              "          const element = document.querySelector('#df-92208c69-f24c-4b3c-b236-5941ffdd362a');\n",
              "          const dataTable =\n",
              "            await google.colab.kernel.invokeFunction('convertToInteractive',\n",
              "                                                     [key], {});\n",
              "          if (!dataTable) return;\n",
              "\n",
              "          const docLinkHtml = 'Like what you see? Visit the ' +\n",
              "            '<a target=\"_blank\" href=https://colab.research.google.com/notebooks/data_table.ipynb>data table notebook</a>'\n",
              "            + ' to learn more about interactive tables.';\n",
              "          element.innerHTML = '';\n",
              "          dataTable['output_type'] = 'display_data';\n",
              "          await google.colab.output.renderOutput(dataTable, element);\n",
              "          const docLink = document.createElement('div');\n",
              "          docLink.innerHTML = docLinkHtml;\n",
              "          element.appendChild(docLink);\n",
              "        }\n",
              "      </script>\n",
              "    </div>\n",
              "  </div>\n",
              "  "
            ]
          },
          "metadata": {},
          "execution_count": 110
        }
      ]
    },
    {
      "cell_type": "code",
      "source": [
        "import numpy as np\n",
        "a = np.array(  [  [[[1,2],[3,4]]]  , [ [[2.3],[3,4]]]  , [[[3,4],[3,4]]], [[[5,6],[3,4]]]    ]  )  # 5차원   \n",
        "a.shape,       len(a),  len(a[0]), a[0][0]\n",
        "\n",
        "# 배열 4행2열 각 열당 원소2개씩\n",
        "# 1,2   3,4\n",
        "# 2,3   3,4\n",
        "# 3,4   3,4\n",
        "# 5,6   3,4\n"
      ],
      "metadata": {
        "colab": {
          "base_uri": "https://localhost:8080/"
        },
        "id": "k1HAy90IJqGJ",
        "outputId": "c3a5a9bc-e200-4e85-8de3-9ed0e342ff14"
      },
      "execution_count": null,
      "outputs": [
        {
          "output_type": "stream",
          "name": "stderr",
          "text": [
            "/usr/local/lib/python3.7/dist-packages/ipykernel_launcher.py:2: VisibleDeprecationWarning: Creating an ndarray from ragged nested sequences (which is a list-or-tuple of lists-or-tuples-or ndarrays with different lengths or shapes) is deprecated. If you meant to do this, you must specify 'dtype=object' when creating the ndarray.\n",
            "  \n"
          ]
        },
        {
          "output_type": "execute_result",
          "data": {
            "text/plain": [
              "((4, 1, 2), 4, 1, array([list([1, 2]), list([3, 4])], dtype=object))"
            ]
          },
          "metadata": {},
          "execution_count": 111
        }
      ]
    },
    {
      "cell_type": "code",
      "source": [
        "import pandas as pd\n",
        "aa=pd.DataFrame(a)     # 에러  데이터프레임시각 표시하지 못하는 3차원\n",
        "aa"
      ],
      "metadata": {
        "id": "QCvEmxjHJ2Ln"
      },
      "execution_count": null,
      "outputs": []
    },
    {
      "cell_type": "code",
      "source": [
        "a"
      ],
      "metadata": {
        "colab": {
          "base_uri": "https://localhost:8080/"
        },
        "id": "QJhI7KioFfrj",
        "outputId": "d989044c-a037-4042-c38a-98004544db05"
      },
      "execution_count": null,
      "outputs": [
        {
          "output_type": "execute_result",
          "data": {
            "text/plain": [
              "array([[list([1, 2]), list([3, 4])],\n",
              "       [list([2.3]), list([3, 4])],\n",
              "       [list([3, 4]), list([3, 4])],\n",
              "       [list([5, 6]), list([3, 4])]], dtype=object)"
            ]
          },
          "metadata": {},
          "execution_count": 102
        }
      ]
    },
    {
      "cell_type": "code",
      "source": [
        "import numpy as np\n",
        "np.unique(X_data[0], return_counts=True )\n"
      ],
      "metadata": {
        "colab": {
          "base_uri": "https://localhost:8080/"
        },
        "id": "VxgWamij576m",
        "outputId": "4187435d-d4c2-4d5d-c827-696f436e4997"
      },
      "execution_count": null,
      "outputs": [
        {
          "output_type": "execute_result",
          "data": {
            "text/plain": [
              "(array([  1,   2,   4,   5,   6,   7,   8,   9,  12,  13,  14,  15,  16,\n",
              "         17,  18,  19,  21,  22,  25,  26,  28,  30,  32,  33,  35,  36,\n",
              "         38,  39,  43,  46,  48,  50,  51,  52,  56,  62,  65,  66,  71,\n",
              "         76,  77,  82,  87,  88,  92,  98, 100, 103, 104, 106, 107, 112,\n",
              "        113, 117, 124, 130, 134, 135, 141, 144, 147, 150, 167, 172, 173,\n",
              "        178, 192, 194, 215, 224, 226, 256, 283, 284, 297, 316, 317, 336,\n",
              "        381, 385, 386, 400, 407, 447, 458, 469, 476, 480]),\n",
              " array([ 1, 40, 15,  9,  3,  2,  3,  1,  6,  3,  3,  4, 11,  3,  3,  2,  1,\n",
              "         6,  4,  3,  2,  1,  3,  2,  1,  4,  4,  1,  4,  1,  1,  2,  2,  1,\n",
              "         1,  1,  2,  2,  2,  1,  1,  1,  1,  2,  1,  1,  1,  1,  2,  1,  1,\n",
              "         2,  1,  1,  1,  1,  1,  1,  1,  1,  1,  1,  1,  2,  1,  1,  1,  1,\n",
              "         1,  1,  2,  2,  1,  1,  1,  1,  1,  1,  1,  1,  1,  1,  1,  1,  1,\n",
              "         1,  2,  3]))"
            ]
          },
          "metadata": {},
          "execution_count": 115
        }
      ]
    },
    {
      "cell_type": "code",
      "source": [
        "len(X_data[0]), len(X_data[1])"
      ],
      "metadata": {
        "colab": {
          "base_uri": "https://localhost:8080/"
        },
        "id": "lQ7ezB4S6N57",
        "outputId": "f75bf052-d4b6-4c6b-8cb3-3e5f45dc401e"
      },
      "execution_count": null,
      "outputs": [
        {
          "output_type": "execute_result",
          "data": {
            "text/plain": [
              "(218, 189)"
            ]
          },
          "metadata": {},
          "execution_count": 8
        }
      ]
    },
    {
      "cell_type": "code",
      "source": [
        "len(np.unique(X_data[0])),np.unique(X_data[0])"
      ],
      "metadata": {
        "id": "A54AY80R6c19"
      },
      "execution_count": null,
      "outputs": []
    },
    {
      "cell_type": "code",
      "source": [
        ""
      ],
      "metadata": {
        "id": "wuZoVOQYGajL"
      },
      "execution_count": null,
      "outputs": []
    },
    {
      "cell_type": "code",
      "source": [
        ""
      ],
      "metadata": {
        "id": "ADD6KcQ0GanI"
      },
      "execution_count": null,
      "outputs": []
    },
    {
      "cell_type": "code",
      "source": [
        "len(X_data)"
      ],
      "metadata": {
        "colab": {
          "base_uri": "https://localhost:8080/"
        },
        "id": "tngqzeWGGarA",
        "outputId": "dd757e66-2ef5-4262-ed06-9ef1bb7897c8"
      },
      "execution_count": null,
      "outputs": [
        {
          "output_type": "execute_result",
          "data": {
            "text/plain": [
              "25000"
            ]
          },
          "metadata": {},
          "execution_count": 127
        }
      ]
    },
    {
      "cell_type": "code",
      "source": [
        "len(y_data)"
      ],
      "metadata": {
        "colab": {
          "base_uri": "https://localhost:8080/"
        },
        "id": "etXXjaUeGauu",
        "outputId": "a4f293c7-2722-4f53-d169-da4fdd2c66d0"
      },
      "execution_count": null,
      "outputs": [
        {
          "output_type": "execute_result",
          "data": {
            "text/plain": [
              "25000"
            ]
          },
          "metadata": {},
          "execution_count": 126
        }
      ]
    },
    {
      "cell_type": "code",
      "source": [
        "y_data, y_data[:]"
      ],
      "metadata": {
        "colab": {
          "base_uri": "https://localhost:8080/"
        },
        "id": "XYzBlaODGayi",
        "outputId": "2e5c52fa-b900-4943-e542-81a1ef42ce4a"
      },
      "execution_count": null,
      "outputs": [
        {
          "output_type": "execute_result",
          "data": {
            "text/plain": [
              "(array([1, 0, 0, ..., 0, 1, 0]), array([1, 0, 0, ..., 0, 1, 0]))"
            ]
          },
          "metadata": {},
          "execution_count": 129
        }
      ]
    },
    {
      "cell_type": "code",
      "source": [
        ""
      ],
      "metadata": {
        "id": "Wbla90cHO032"
      },
      "execution_count": null,
      "outputs": []
    },
    {
      "cell_type": "code",
      "source": [
        ""
      ],
      "metadata": {
        "id": "FtnlJ8VKO1L-"
      },
      "execution_count": null,
      "outputs": []
    },
    {
      "cell_type": "code",
      "source": [
        "from sklearn.model_selection import train_test_split\n",
        "t_x,v_x, t_y, v_y = train_test_split(X_data, y_data, test_size=0.2 , random_state=42)\n"
      ],
      "metadata": {
        "id": "s_N2pJlxO1Uy"
      },
      "execution_count": null,
      "outputs": []
    },
    {
      "cell_type": "code",
      "source": [
        "t_x.shape,v_x.shape, t_y.shape, v_y.shape , tt_x.shape, tt_y.shape"
      ],
      "metadata": {
        "colab": {
          "base_uri": "https://localhost:8080/"
        },
        "id": "IC0o2C-kPOHc",
        "outputId": "6967f546-028d-4e78-d59f-ca562094d26e"
      },
      "execution_count": null,
      "outputs": [
        {
          "output_type": "execute_result",
          "data": {
            "text/plain": [
              "((20000,), (5000,), (20000,), (5000,), (25000,), (25000,))"
            ]
          },
          "metadata": {},
          "execution_count": 135
        }
      ]
    },
    {
      "cell_type": "code",
      "source": [
        "type(t_x[0])"
      ],
      "metadata": {
        "colab": {
          "base_uri": "https://localhost:8080/"
        },
        "id": "r3T0rs5hPnUB",
        "outputId": "7d16ade2-e616-48a1-cf15-ab190221493f"
      },
      "execution_count": null,
      "outputs": [
        {
          "output_type": "execute_result",
          "data": {
            "text/plain": [
              "list"
            ]
          },
          "metadata": {},
          "execution_count": 137
        }
      ]
    },
    {
      "cell_type": "code",
      "source": [
        "import numpy as np\n",
        "l = np.array( [len(x) for x in t_x ])"
      ],
      "metadata": {
        "id": "2LZ1H8dpPdvv"
      },
      "execution_count": null,
      "outputs": []
    },
    {
      "cell_type": "code",
      "source": [
        "np.mean(l), np.median(l)\n",
        "#  평균값    중간값\n",
        "\n",
        "np.max(l)  #1854  묶음 중 len 가장 긴값"
      ],
      "metadata": {
        "colab": {
          "base_uri": "https://localhost:8080/"
        },
        "id": "ZNZICW3CP-05",
        "outputId": "16ca1478-30e1-46ab-c34e-59c7a43237a2"
      },
      "execution_count": null,
      "outputs": [
        {
          "output_type": "execute_result",
          "data": {
            "text/plain": [
              "(239.00925, 178.0)"
            ]
          },
          "metadata": {},
          "execution_count": 141
        }
      ]
    },
    {
      "cell_type": "code",
      "source": [
        "import matplotlib.pyplot as plt\n",
        "\n",
        "plt.hist(l)        # 한쪽으로 쏠려있다. 이걸보면  중간값을 잡으면 안된다는 걸 알 수 있다\n"
      ],
      "metadata": {
        "colab": {
          "base_uri": "https://localhost:8080/",
          "height": 356
        },
        "id": "odnndKcpQtji",
        "outputId": "39908efd-6f59-4fad-dfc3-297fa453d078"
      },
      "execution_count": null,
      "outputs": [
        {
          "output_type": "execute_result",
          "data": {
            "text/plain": [
              "(array([1.1149e+04, 5.7490e+03, 1.8590e+03, 7.3200e+02, 3.0600e+02,\n",
              "        1.8800e+02, 6.0000e+00, 4.0000e+00, 4.0000e+00, 3.0000e+00]),\n",
              " array([  11. ,  195.3,  379.6,  563.9,  748.2,  932.5, 1116.8, 1301.1,\n",
              "        1485.4, 1669.7, 1854. ]),\n",
              " <a list of 10 Patch objects>)"
            ]
          },
          "metadata": {},
          "execution_count": 143
        },
        {
          "output_type": "display_data",
          "data": {
            "text/plain": [
              "<Figure size 432x288 with 1 Axes>"
            ],
            "image/png": "[encoded data removed]"
          },
          "metadata": {
            "needs_background": "light"
          }
        }
      ]
    },
    {
      "cell_type": "code",
      "source": [
        "np.max(l) # 가장긴문장이 1854"
      ],
      "metadata": {
        "colab": {
          "base_uri": "https://localhost:8080/"
        },
        "id": "m2NoMTA9RiSM",
        "outputId": "412fda3f-d8d4-4b9a-e1fc-4d7770d967c6"
      },
      "execution_count": null,
      "outputs": [
        {
          "output_type": "execute_result",
          "data": {
            "text/plain": [
              "1854"
            ]
          },
          "metadata": {},
          "execution_count": 145
        }
      ]
    },
    {
      "cell_type": "code",
      "source": [
        "from keras.preprocessing.sequence import pad_sequences\n",
        "ck= pad_sequences(t_x)\n",
        "ck.shape"
      ],
      "metadata": {
        "colab": {
          "base_uri": "https://localhost:8080/"
        },
        "id": "3ysdiF45RCx2",
        "outputId": "ab2d085c-2dd2-48da-faca-02d071f55849"
      },
      "execution_count": null,
      "outputs": [
        {
          "output_type": "execute_result",
          "data": {
            "text/plain": [
              "(20000, 1854)"
            ]
          },
          "metadata": {},
          "execution_count": 153
        }
      ]
    },
    {
      "cell_type": "code",
      "source": [
        "ck[0]"
      ],
      "metadata": {
        "colab": {
          "base_uri": "https://localhost:8080/"
        },
        "id": "Kkx7zVRsS-E1",
        "outputId": "ad3da15d-9522-4838-df37-5c29e961195e"
      },
      "execution_count": null,
      "outputs": [
        {
          "output_type": "execute_result",
          "data": {
            "text/plain": [
              "array([  0,   0,   0, ...,  10, 470, 158], dtype=int32)"
            ]
          },
          "metadata": {},
          "execution_count": 154
        }
      ]
    },
    {
      "cell_type": "code",
      "source": [
        "t_x[0]"
      ],
      "metadata": {
        "id": "VPYuinc4R2da"
      },
      "execution_count": null,
      "outputs": []
    },
    {
      "cell_type": "code",
      "source": [
        "ck[0]"
      ],
      "metadata": {
        "colab": {
          "base_uri": "https://localhost:8080/"
        },
        "id": "l2yH5g8MR_Y6",
        "outputId": "d20f5761-fc71-4123-c866-75d18c587143"
      },
      "execution_count": null,
      "outputs": [
        {
          "output_type": "execute_result",
          "data": {
            "text/plain": [
              "array([  0,   0,   0, ...,  10, 470, 158], dtype=int32)"
            ]
          },
          "metadata": {},
          "execution_count": 147
        }
      ]
    },
    {
      "cell_type": "code",
      "source": [
        "from keras.preprocessing.sequence import pad_sequences\n",
        "ck= pad_sequences(t_x, maxlen=100) # 최대길이를100으로  타임스텝의 수를 100으로 제한한다\n",
        "ck.shape # 20000, 1854 에서  20000,100으로바뀜  # 문장의 길이가 100 이다"
      ],
      "metadata": {
        "colab": {
          "base_uri": "https://localhost:8080/"
        },
        "id": "HRNTqdQSSWX8",
        "outputId": "e54c075d-a135-4cd9-aa76-0a13262812a7"
      },
      "execution_count": null,
      "outputs": [
        {
          "output_type": "execute_result",
          "data": {
            "text/plain": [
              "(20000, 100)"
            ]
          },
          "metadata": {},
          "execution_count": 155
        }
      ]
    },
    {
      "cell_type": "code",
      "source": [
        "ck[0]"
      ],
      "metadata": {
        "colab": {
          "base_uri": "https://localhost:8080/"
        },
        "id": "x1HQKOiFSdKT",
        "outputId": "29460425-7488-4211-8169-46493143cb21"
      },
      "execution_count": null,
      "outputs": [
        {
          "output_type": "execute_result",
          "data": {
            "text/plain": [
              "array([ 10,   4,  20,   9,   2, 364, 352,   5,  45,   6,   2,   2,  33,\n",
              "       269,   8,   2, 142,   2,   5,   2,  17,  73,  17, 204,   5,   2,\n",
              "        19,  55,   2,   2,  92,  66, 104,  14,  20,  93,  76,   2, 151,\n",
              "        33,   4,  58,  12, 188,   2, 151,  12, 215,  69, 224, 142,  73,\n",
              "       237,   6,   2,   7,   2,   2, 188,   2, 103,  14,  31,  10,  10,\n",
              "       451,   7,   2,   5,   2,  80,  91,   2,  30,   2,  34,  14,  20,\n",
              "       151,  50,  26, 131,  49,   2,  84,  46,  50,  37,  80,  79,   6,\n",
              "         2,  46,   7,  14,  20,  10,  10, 470, 158], dtype=int32)"
            ]
          },
          "metadata": {},
          "execution_count": 156
        }
      ]
    },
    {
      "cell_type": "code",
      "source": [
        "from keras import Sequential\n",
        "from keras.layers import SimpleRNN, Dense\n",
        " "
      ],
      "metadata": {
        "id": "t1c_-SG_TCJs"
      },
      "execution_count": null,
      "outputs": []
    },
    {
      "cell_type": "code",
      "source": [
        "m = Sequential()   \n",
        "m.add( SimpleRNN( 8, input_shape=(100,500) ) )   #단어오백가지중에서라500\n",
        "m.add(  Dense( 1, activation='sigmoid' ) ) #아웃풋1개 \n"
      ],
      "metadata": {
        "id": "m2GxdK4ATUP_"
      },
      "execution_count": null,
      "outputs": []
    },
    {
      "cell_type": "code",
      "source": [
        ""
      ],
      "metadata": {
        "id": "uhu-q-_uUlyy"
      },
      "execution_count": null,
      "outputs": []
    },
    {
      "cell_type": "code",
      "source": [
        "from keras.preprocessing.sequence import pad_sequences\n",
        "ck_x= pad_sequences(t_x, maxlen=100) # 최대길이를100으로        타임스텝의 수를 100으로 제한한다\n",
        "ck_x.shape # 20000, 1854 에서  20000,100으로바뀜  # 문장의 길이가 100 이다"
      ],
      "metadata": {
        "colab": {
          "base_uri": "https://localhost:8080/"
        },
        "id": "3iTNyOYMVBuY",
        "outputId": "bda151b2-504d-45ff-aa38-f6aeaa593b15"
      },
      "execution_count": null,
      "outputs": [
        {
          "output_type": "execute_result",
          "data": {
            "text/plain": [
              "(20000, 100)"
            ]
          },
          "metadata": {},
          "execution_count": 161
        }
      ]
    },
    {
      "cell_type": "code",
      "source": [
        "from keras.utils.np_utils import to_categorical\n",
        "c_t_x = to_categorical(ck_x)\n",
        "c_t_x.shape"
      ],
      "metadata": {
        "colab": {
          "base_uri": "https://localhost:8080/"
        },
        "id": "2-AiaBf3VMR2",
        "outputId": "de9288d6-293e-42c6-f0b0-78624d189a01"
      },
      "execution_count": null,
      "outputs": [
        {
          "output_type": "execute_result",
          "data": {
            "text/plain": [
              "(20000, 100, 500)"
            ]
          },
          "metadata": {},
          "execution_count": 162
        }
      ]
    },
    {
      "cell_type": "code",
      "source": [
        "c_t_x[0] #문장에서 단어를꺼내옴"
      ],
      "metadata": {
        "colab": {
          "base_uri": "https://localhost:8080/"
        },
        "id": "FnouGUpdVYB7",
        "outputId": "cffc0b57-678e-4e76-bda4-c769dcd4057f"
      },
      "execution_count": null,
      "outputs": [
        {
          "output_type": "execute_result",
          "data": {
            "text/plain": [
              "array([[0., 0., 0., ..., 0., 0., 0.],\n",
              "       [0., 0., 0., ..., 0., 0., 0.],\n",
              "       [0., 0., 0., ..., 0., 0., 0.],\n",
              "       ...,\n",
              "       [0., 0., 0., ..., 0., 0., 0.],\n",
              "       [0., 0., 0., ..., 0., 0., 0.],\n",
              "       [0., 0., 0., ..., 0., 0., 0.]], dtype=float32)"
            ]
          },
          "metadata": {},
          "execution_count": 163
        }
      ]
    },
    {
      "cell_type": "code",
      "source": [
        "c_t_x[0][0]  # 이건 첫번쨰단어"
      ],
      "metadata": {
        "colab": {
          "base_uri": "https://localhost:8080/"
        },
        "id": "6BM-O2nAVcDw",
        "outputId": "fb1760d7-53a1-4507-e4a8-c47c1303c160"
      },
      "execution_count": null,
      "outputs": [
        {
          "output_type": "execute_result",
          "data": {
            "text/plain": [
              "array([0., 0., 0., 0., 0., 0., 0., 0., 0., 0., 1., 0., 0., 0., 0., 0., 0.,\n",
              "       0., 0., 0., 0., 0., 0., 0., 0., 0., 0., 0., 0., 0., 0., 0., 0., 0.,\n",
              "       0., 0., 0., 0., 0., 0., 0., 0., 0., 0., 0., 0., 0., 0., 0., 0., 0.,\n",
              "       0., 0., 0., 0., 0., 0., 0., 0., 0., 0., 0., 0., 0., 0., 0., 0., 0.,\n",
              "       0., 0., 0., 0., 0., 0., 0., 0., 0., 0., 0., 0., 0., 0., 0., 0., 0.,\n",
              "       0., 0., 0., 0., 0., 0., 0., 0., 0., 0., 0., 0., 0., 0., 0., 0., 0.,\n",
              "       0., 0., 0., 0., 0., 0., 0., 0., 0., 0., 0., 0., 0., 0., 0., 0., 0.,\n",
              "       0., 0., 0., 0., 0., 0., 0., 0., 0., 0., 0., 0., 0., 0., 0., 0., 0.,\n",
              "       0., 0., 0., 0., 0., 0., 0., 0., 0., 0., 0., 0., 0., 0., 0., 0., 0.,\n",
              "       0., 0., 0., 0., 0., 0., 0., 0., 0., 0., 0., 0., 0., 0., 0., 0., 0.,\n",
              "       0., 0., 0., 0., 0., 0., 0., 0., 0., 0., 0., 0., 0., 0., 0., 0., 0.,\n",
              "       0., 0., 0., 0., 0., 0., 0., 0., 0., 0., 0., 0., 0., 0., 0., 0., 0.,\n",
              "       0., 0., 0., 0., 0., 0., 0., 0., 0., 0., 0., 0., 0., 0., 0., 0., 0.,\n",
              "       0., 0., 0., 0., 0., 0., 0., 0., 0., 0., 0., 0., 0., 0., 0., 0., 0.,\n",
              "       0., 0., 0., 0., 0., 0., 0., 0., 0., 0., 0., 0., 0., 0., 0., 0., 0.,\n",
              "       0., 0., 0., 0., 0., 0., 0., 0., 0., 0., 0., 0., 0., 0., 0., 0., 0.,\n",
              "       0., 0., 0., 0., 0., 0., 0., 0., 0., 0., 0., 0., 0., 0., 0., 0., 0.,\n",
              "       0., 0., 0., 0., 0., 0., 0., 0., 0., 0., 0., 0., 0., 0., 0., 0., 0.,\n",
              "       0., 0., 0., 0., 0., 0., 0., 0., 0., 0., 0., 0., 0., 0., 0., 0., 0.,\n",
              "       0., 0., 0., 0., 0., 0., 0., 0., 0., 0., 0., 0., 0., 0., 0., 0., 0.,\n",
              "       0., 0., 0., 0., 0., 0., 0., 0., 0., 0., 0., 0., 0., 0., 0., 0., 0.,\n",
              "       0., 0., 0., 0., 0., 0., 0., 0., 0., 0., 0., 0., 0., 0., 0., 0., 0.,\n",
              "       0., 0., 0., 0., 0., 0., 0., 0., 0., 0., 0., 0., 0., 0., 0., 0., 0.,\n",
              "       0., 0., 0., 0., 0., 0., 0., 0., 0., 0., 0., 0., 0., 0., 0., 0., 0.,\n",
              "       0., 0., 0., 0., 0., 0., 0., 0., 0., 0., 0., 0., 0., 0., 0., 0., 0.,\n",
              "       0., 0., 0., 0., 0., 0., 0., 0., 0., 0., 0., 0., 0., 0., 0., 0., 0.,\n",
              "       0., 0., 0., 0., 0., 0., 0., 0., 0., 0., 0., 0., 0., 0., 0., 0., 0.,\n",
              "       0., 0., 0., 0., 0., 0., 0., 0., 0., 0., 0., 0., 0., 0., 0., 0., 0.,\n",
              "       0., 0., 0., 0., 0., 0., 0., 0., 0., 0., 0., 0., 0., 0., 0., 0., 0.,\n",
              "       0., 0., 0., 0., 0., 0., 0.], dtype=float32)"
            ]
          },
          "metadata": {},
          "execution_count": 164
        }
      ]
    },
    {
      "cell_type": "code",
      "source": [
        "len(c_t_x[0][0])"
      ],
      "metadata": {
        "colab": {
          "base_uri": "https://localhost:8080/"
        },
        "id": "uVsSfQUQXGZC",
        "outputId": "c76b42ab-dd63-40a9-ade5-bc292d7f578c"
      },
      "execution_count": null,
      "outputs": [
        {
          "output_type": "execute_result",
          "data": {
            "text/plain": [
              "500"
            ]
          },
          "metadata": {},
          "execution_count": 167
        }
      ]
    },
    {
      "cell_type": "code",
      "source": [
        "c_t_x[0][0][:12]  #원핫인코딩상태    [:12]  0이상 11이하"
      ],
      "metadata": {
        "colab": {
          "base_uri": "https://localhost:8080/"
        },
        "id": "XCq4EoyQVu6u",
        "outputId": "fbc85779-e8a6-4715-861b-e98d414e2b54"
      },
      "execution_count": null,
      "outputs": [
        {
          "output_type": "execute_result",
          "data": {
            "text/plain": [
              "array([0., 0., 0., 0., 0., 0., 0., 0., 0., 0., 1., 0.], dtype=float32)"
            ]
          },
          "metadata": {},
          "execution_count": 165
        }
      ]
    },
    {
      "cell_type": "code",
      "source": [
        "len(c_t_x[0][0][:12])"
      ],
      "metadata": {
        "colab": {
          "base_uri": "https://localhost:8080/"
        },
        "id": "d22AUannV6a6",
        "outputId": "74b396f2-3b11-47ab-d422-ddb541cbd66f"
      },
      "execution_count": null,
      "outputs": [
        {
          "output_type": "execute_result",
          "data": {
            "text/plain": [
              "12"
            ]
          },
          "metadata": {},
          "execution_count": 166
        }
      ]
    },
    {
      "cell_type": "code",
      "source": [
        "단어의 빈도수가 주요정보다\n",
        "데이터를 가져올 때\n",
        "단어의 개수를 센다\n",
        "가장 많은 것이 가장 앞에잇고 그걸 1번으로 번호 붙인다\n",
        "그리고 내림차순 정렬\n",
        "1 2 3 4  5\n",
        "  0번은 아웃오브 보캐불러리에   용어집에 담겨있지 않은 단어를 0으로 처리한 것\n",
        "\n",
        "  ([0., 0., 0., 0., 0., 0., 0., 0., 0., 0., 1., 0.] 에서 보면 원핫인코딩상태고 11인덱스에 1이라고 되어있다\n",
        "    즉 500개의 단어 중 11번로 빈도수가 높은 단어가 c_t_x[0][0] 에 담겨있다는 뜻이다\n",
        "   \n",
        "   "
      ],
      "metadata": {
        "id": "Gb2SuqHAVqhT"
      },
      "execution_count": null,
      "outputs": []
    },
    {
      "cell_type": "code",
      "source": [
        ""
      ],
      "metadata": {
        "id": "AO6C-mg-XQIQ"
      },
      "execution_count": null,
      "outputs": []
    },
    {
      "cell_type": "code",
      "source": [
        ""
      ],
      "metadata": {
        "id": "cnaWcpWUXYN2"
      },
      "execution_count": null,
      "outputs": []
    },
    {
      "cell_type": "code",
      "source": [
        ""
      ],
      "metadata": {
        "id": "sYC50fHZYEAK"
      },
      "execution_count": null,
      "outputs": []
    },
    {
      "cell_type": "code",
      "source": [
        ""
      ],
      "metadata": {
        "id": "U6UYTpicYEED"
      },
      "execution_count": null,
      "outputs": []
    },
    {
      "cell_type": "code",
      "source": [
        ""
      ],
      "metadata": {
        "id": "vsWmqAUBYEHl"
      },
      "execution_count": null,
      "outputs": []
    },
    {
      "cell_type": "code",
      "source": [
        ""
      ],
      "metadata": {
        "id": "SwZ46U9QYEK-"
      },
      "execution_count": null,
      "outputs": []
    },
    {
      "cell_type": "code",
      "source": [
        ""
      ],
      "metadata": {
        "id": "Rc89QwHCYEOv"
      },
      "execution_count": null,
      "outputs": []
    },
    {
      "cell_type": "code",
      "source": [
        ""
      ],
      "metadata": {
        "id": "pCi6JLAjYERx"
      },
      "execution_count": null,
      "outputs": []
    },
    {
      "cell_type": "code",
      "source": [
        "#데이터수집"
      ],
      "metadata": {
        "id": "0ewsW_5zXYSB"
      },
      "execution_count": null,
      "outputs": []
    },
    {
      "cell_type": "code",
      "source": [
        "from keras.datasets import imdb\n",
        "(X_data, y_data), (tt_x, tt_y) = imdb.load_data(num_words=500)  #500   등장빈도가 1~500 위까지의 단어를 추출 즉 500가지 단어를 뽑는다\n",
        "                       \n",
        "X_data.shape , y_data.shape, tt_x.shape, tt_y.shape\n"
      ],
      "metadata": {
        "colab": {
          "base_uri": "https://localhost:8080/"
        },
        "id": "66eEQv4TXdTC",
        "outputId": "95ff2ebc-2cd8-4b66-b62d-ba92f91ad7d4"
      },
      "execution_count": null,
      "outputs": [
        {
          "output_type": "execute_result",
          "data": {
            "text/plain": [
              "((25000,), (25000,), (25000,), (25000,))"
            ]
          },
          "metadata": {},
          "execution_count": 140
        }
      ]
    },
    {
      "cell_type": "code",
      "source": [
        "#데이터전처리"
      ],
      "metadata": {
        "id": "-D2FkSRwXejc"
      },
      "execution_count": null,
      "outputs": []
    },
    {
      "cell_type": "code",
      "source": [
        "from sklearn.model_selection import train_test_split\n",
        "t_x,v_x, t_y, v_y = train_test_split(X_data, y_data, test_size=0.2 , random_state=42)\n"
      ],
      "metadata": {
        "id": "1QbOUcTWXkA5"
      },
      "execution_count": null,
      "outputs": []
    },
    {
      "cell_type": "code",
      "source": [
        "t_x.shape, t_y.shape"
      ],
      "metadata": {
        "colab": {
          "base_uri": "https://localhost:8080/"
        },
        "id": "ZrLHCtHCfrTU",
        "outputId": "4ceeadb1-2859-4acf-ad56-00f24814de59"
      },
      "execution_count": null,
      "outputs": [
        {
          "output_type": "execute_result",
          "data": {
            "text/plain": [
              "((20000,), (20000,))"
            ]
          },
          "metadata": {},
          "execution_count": 132
        }
      ]
    },
    {
      "cell_type": "code",
      "source": [
        "np.unique( t_y , return_counts=True ) # 각 밸류들이 몇개인지도 보여준다   \n"
      ],
      "metadata": {
        "colab": {
          "base_uri": "https://localhost:8080/"
        },
        "id": "slF6Pmb9kNcU",
        "outputId": "0d367e93-6fae-491e-c11d-bb7216d5e1ab"
      },
      "execution_count": null,
      "outputs": [
        {
          "output_type": "execute_result",
          "data": {
            "text/plain": [
              "(array([0, 1]), array([10063,  9937]))"
            ]
          },
          "metadata": {},
          "execution_count": 133
        }
      ]
    },
    {
      "cell_type": "code",
      "source": [
        "len(t_x[0])\n",
        "                            [     [200~300개씩]  []      []   []         ]   \n",
        "                                                            20000 묶음\n",
        "\n",
        "                            [  [ [500개 ] , am , a ,boy ] , [   ] , [ ] .... ]     #원핫을 하면  단어하나를 [ 1~500 단어 -> 0/1값] 으로 차원하나늘어난다\n",
        "                               20000문장 \n",
        "\n",
        "     #원핫해도 아웃풋은 그대로다\n",
        "     # 아웃풋 0은 부정적리뷰 1은 근정적 리뷰\n",
        "\n",
        "                           "
      ],
      "metadata": {
        "colab": {
          "base_uri": "https://localhost:8080/"
        },
        "id": "JQsuKVmWhN8E",
        "outputId": "018c7795-a64f-48a0-ef60-2246aafa20bd"
      },
      "execution_count": null,
      "outputs": [
        {
          "output_type": "execute_result",
          "data": {
            "text/plain": [
              "259"
            ]
          },
          "metadata": {},
          "execution_count": 83
        }
      ]
    },
    {
      "cell_type": "code",
      "source": [
        "np.unique( t_x , )# 각 \n",
        " "
      ],
      "metadata": {
        "id": "viyKgGNwkLSJ"
      },
      "execution_count": null,
      "outputs": []
    },
    {
      "cell_type": "code",
      "source": [
        "len(t_x)"
      ],
      "metadata": {
        "colab": {
          "base_uri": "https://localhost:8080/"
        },
        "id": "3kW17OHChQ2G",
        "outputId": "d61fcc29-ad88-4743-8aa0-cf5541a0609b"
      },
      "execution_count": null,
      "outputs": [
        {
          "output_type": "execute_result",
          "data": {
            "text/plain": [
              "20000"
            ]
          },
          "metadata": {},
          "execution_count": 135
        }
      ]
    },
    {
      "cell_type": "code",
      "source": [
        "import numpy as np\n",
        "l = np.array( [len(x) for x in t_x ])\n",
        "np.max(l)   # 1854 개                   "
      ],
      "metadata": {
        "colab": {
          "base_uri": "https://localhost:8080/"
        },
        "id": "B5c6VMedpqQX",
        "outputId": "995a4573-8167-4cdf-df8e-a72676428af0"
      },
      "execution_count": null,
      "outputs": [
        {
          "output_type": "execute_result",
          "data": {
            "text/plain": [
              "1854"
            ]
          },
          "metadata": {},
          "execution_count": 136
        }
      ]
    },
    {
      "cell_type": "code",
      "source": [
        "np.unique(l), len(l)  #  20000개의 묶음 각 묶음의 len 을 뽑아냈다"
      ],
      "metadata": {
        "colab": {
          "base_uri": "https://localhost:8080/"
        },
        "id": "VnZFs2ajqUuE",
        "outputId": "fbe0ccda-a26a-4209-8185-fd45a315553f"
      },
      "execution_count": null,
      "outputs": [
        {
          "output_type": "execute_result",
          "data": {
            "text/plain": [
              "(array([  11,   12,   13,   15,   16,   18,   19,   21,   23,   24,   25,\n",
              "          26,   27,   28,   29,   30,   31,   32,   33,   34,   35,   36,\n",
              "          37,   38,   39,   40,   41,   42,   43,   44,   45,   46,   47,\n",
              "          48,   49,   50,   51,   52,   53,   54,   55,   56,   57,   58,\n",
              "          59,   60,   61,   62,   63,   64,   65,   66,   67,   68,   69,\n",
              "          70,   71,   72,   73,   74,   75,   76,   77,   78,   79,   80,\n",
              "          81,   82,   83,   84,   85,   86,   87,   88,   89,   90,   91,\n",
              "          92,   93,   94,   95,   96,   97,   98,   99,  100,  101,  102,\n",
              "         103,  104,  105,  106,  107,  108,  109,  110,  111,  112,  113,\n",
              "         114,  115,  116,  117,  118,  119,  120,  121,  122,  123,  124,\n",
              "         125,  126,  127,  128,  129,  130,  131,  132,  133,  134,  135,\n",
              "         136,  137,  138,  139,  140,  141,  142,  143,  144,  145,  146,\n",
              "         147,  148,  149,  150,  151,  152,  153,  154,  155,  156,  157,\n",
              "         158,  159,  160,  161,  162,  163,  164,  165,  166,  167,  168,\n",
              "         169,  170,  171,  172,  173,  174,  175,  176,  177,  178,  179,\n",
              "         180,  181,  182,  183,  184,  185,  186,  187,  188,  189,  190,\n",
              "         191,  192,  193,  194,  195,  196,  197,  198,  199,  200,  201,\n",
              "         202,  203,  204,  205,  206,  207,  208,  209,  210,  211,  212,\n",
              "         213,  214,  215,  216,  217,  218,  219,  220,  221,  222,  223,\n",
              "         224,  225,  226,  227,  228,  229,  230,  231,  232,  233,  234,\n",
              "         235,  236,  237,  238,  239,  240,  241,  242,  243,  244,  245,\n",
              "         246,  247,  248,  249,  250,  251,  252,  253,  254,  255,  256,\n",
              "         257,  258,  259,  260,  261,  262,  263,  264,  265,  266,  267,\n",
              "         268,  269,  270,  271,  272,  273,  274,  275,  276,  277,  278,\n",
              "         279,  280,  281,  282,  283,  284,  285,  286,  287,  288,  289,\n",
              "         290,  291,  292,  293,  294,  295,  296,  297,  298,  299,  300,\n",
              "         301,  302,  303,  304,  305,  306,  307,  308,  309,  310,  311,\n",
              "         312,  313,  314,  315,  316,  317,  318,  319,  320,  321,  322,\n",
              "         323,  324,  325,  326,  327,  328,  329,  330,  331,  332,  333,\n",
              "         334,  335,  336,  337,  338,  339,  340,  341,  342,  343,  344,\n",
              "         345,  346,  347,  348,  349,  350,  351,  352,  353,  354,  355,\n",
              "         356,  357,  358,  359,  360,  361,  362,  363,  364,  365,  366,\n",
              "         367,  368,  369,  370,  371,  372,  373,  374,  375,  376,  377,\n",
              "         378,  379,  380,  381,  382,  383,  384,  385,  386,  387,  388,\n",
              "         389,  390,  391,  392,  393,  394,  395,  396,  397,  398,  399,\n",
              "         400,  401,  402,  403,  404,  405,  406,  407,  408,  409,  410,\n",
              "         411,  412,  413,  414,  415,  416,  417,  418,  419,  420,  421,\n",
              "         422,  423,  424,  425,  426,  427,  428,  429,  430,  431,  432,\n",
              "         433,  434,  435,  436,  437,  438,  439,  440,  441,  442,  443,\n",
              "         444,  445,  446,  447,  448,  449,  450,  451,  452,  453,  454,\n",
              "         455,  456,  457,  458,  459,  460,  461,  462,  463,  464,  465,\n",
              "         466,  467,  468,  469,  470,  471,  472,  473,  474,  475,  476,\n",
              "         477,  478,  479,  480,  481,  482,  483,  484,  485,  486,  487,\n",
              "         488,  489,  490,  491,  492,  493,  494,  495,  496,  497,  498,\n",
              "         499,  500,  501,  502,  503,  504,  505,  506,  507,  508,  509,\n",
              "         510,  511,  512,  513,  514,  515,  516,  517,  518,  519,  520,\n",
              "         521,  522,  523,  524,  525,  526,  527,  528,  529,  530,  531,\n",
              "         532,  533,  534,  535,  536,  537,  538,  539,  540,  541,  542,\n",
              "         543,  544,  545,  546,  547,  548,  549,  550,  551,  552,  553,\n",
              "         554,  555,  556,  557,  558,  559,  560,  561,  562,  563,  564,\n",
              "         565,  566,  567,  568,  569,  570,  571,  572,  573,  574,  575,\n",
              "         576,  577,  578,  579,  580,  581,  582,  583,  584,  585,  586,\n",
              "         587,  588,  589,  590,  591,  592,  593,  594,  595,  596,  597,\n",
              "         598,  599,  600,  601,  602,  603,  604,  605,  606,  607,  608,\n",
              "         609,  610,  611,  612,  613,  614,  615,  616,  617,  618,  619,\n",
              "         620,  621,  622,  623,  624,  625,  626,  627,  628,  629,  630,\n",
              "         631,  632,  633,  634,  635,  636,  637,  638,  639,  640,  641,\n",
              "         642,  643,  644,  645,  646,  647,  648,  649,  650,  652,  653,\n",
              "         654,  655,  656,  657,  658,  659,  660,  661,  662,  663,  664,\n",
              "         666,  667,  668,  669,  670,  671,  672,  674,  675,  676,  677,\n",
              "         678,  679,  680,  681,  682,  683,  684,  685,  686,  687,  688,\n",
              "         689,  690,  691,  692,  693,  694,  696,  697,  698,  699,  700,\n",
              "         701,  702,  703,  704,  705,  706,  707,  708,  709,  710,  711,\n",
              "         712,  713,  714,  715,  716,  717,  719,  720,  721,  722,  723,\n",
              "         724,  725,  726,  727,  728,  729,  730,  731,  732,  733,  735,\n",
              "         736,  737,  738,  739,  740,  741,  743,  745,  746,  747,  748,\n",
              "         750,  751,  752,  753,  754,  755,  756,  757,  758,  759,  760,\n",
              "         761,  763,  764,  765,  766,  767,  768,  770,  771,  772,  773,\n",
              "         775,  776,  777,  778,  779,  780,  781,  782,  783,  784,  785,\n",
              "         787,  788,  790,  791,  792,  793,  794,  795,  796,  797,  798,\n",
              "         799,  800,  802,  803,  804,  805,  806,  807,  808,  809,  810,\n",
              "         811,  812,  814,  815,  816,  817,  819,  820,  822,  823,  824,\n",
              "         825,  826,  827,  828,  829,  831,  832,  833,  834,  835,  836,\n",
              "         837,  838,  839,  840,  842,  843,  844,  845,  846,  847,  848,\n",
              "         849,  850,  852,  854,  855,  856,  857,  860,  861,  862,  864,\n",
              "         868,  870,  871,  872,  874,  876,  877,  878,  879,  882,  883,\n",
              "         884,  886,  887,  888,  889,  890,  894,  898,  899,  900,  901,\n",
              "         903,  905,  907,  908,  909,  912,  913,  914,  915,  916,  917,\n",
              "         918,  919,  920,  921,  924,  925,  926,  927,  928,  929,  930,\n",
              "         932,  933,  935,  938,  939,  940,  942,  944,  945,  946,  947,\n",
              "         949,  950,  951,  953,  955,  957,  958,  959,  960,  961,  962,\n",
              "         963,  964,  965,  968,  969,  970,  971,  972,  973,  974,  975,\n",
              "         976,  977,  978,  979,  980,  981,  982,  983,  984,  985,  986,\n",
              "         987,  988,  989,  992,  993,  994,  996,  997,  999, 1000, 1001,\n",
              "        1002, 1003, 1004, 1006, 1007, 1008, 1009, 1010, 1011, 1012, 1013,\n",
              "        1014, 1015, 1016, 1018, 1020, 1021, 1022, 1023, 1024, 1025, 1028,\n",
              "        1029, 1030, 1033, 1034, 1036, 1038, 1039, 1042, 1050, 1057, 1063,\n",
              "        1082, 1084, 1092, 1097, 1162, 1165, 1216, 1222, 1236, 1291, 1306,\n",
              "        1337, 1394, 1409, 1530, 1546, 1571, 1629, 1733, 1851, 1854]), 20000)"
            ]
          },
          "metadata": {},
          "execution_count": 139
        }
      ]
    },
    {
      "cell_type": "code",
      "source": [
        "  패딩 : 데이터에 특정 값을 채워서 데이터의 크기(shape)를 조정하는 것을 패딩(padding)이라고 합니다.\n",
        "묶음당 단어 수가 다 다르기 떄문에 패딩으로 동일하게 맞춘다\n",
        "    [     [200~300개씩]  []      []   []         ]   \n",
        "                          20000 묶음\n",
        "    여기서 [200~300개씩] 이 묶음에서 가장 큰 값은 1854이다\n",
        "    그래서 맥스치를 설정하지 않고 패딩하면 1854로 \n",
        "\n",
        "    그리고  [200~300개씩]   에서  [1854개씩] 으로 늘려주기 위해 0값을 그냥 넣어준다.\n",
        "\n",
        "\n",
        "import numpy as np\n",
        "l = np.array( [len(x) for x in t_x ])\n",
        "np.max(l)   # 1854 개      \n",
        "\n",
        "패딩 : 데이터에 특정 값을 채워서 데이터의 크기(shape)를 조정하는 것을 패딩(padding)이라고 합니다.\n"
      ],
      "metadata": {
        "id": "PNqqX1v6pzmE"
      },
      "execution_count": null,
      "outputs": []
    },
    {
      "cell_type": "code",
      "source": [
        "from keras.preprocessing.sequence import pad_sequences  #데이터패딩작업\n",
        "ck_t_x= pad_sequences(t_x)\n",
        "                                          #    [     [1854개씩]  []      []   []         ]   \n",
        "                                           #                 20000 묶음\n",
        "ck_v_x= pad_sequences(v_x)"
      ],
      "metadata": {
        "id": "f1KyWMykgwUW"
      },
      "execution_count": null,
      "outputs": []
    },
    {
      "cell_type": "code",
      "source": [
        "ck_t_x.shape"
      ],
      "metadata": {
        "colab": {
          "base_uri": "https://localhost:8080/"
        },
        "id": "ByAgAPe7gi_l",
        "outputId": "f285f4c2-3c78-49a9-f349-aa3256a80d68"
      },
      "execution_count": null,
      "outputs": [
        {
          "output_type": "execute_result",
          "data": {
            "text/plain": [
              "(20000, 1854)"
            ]
          },
          "metadata": {},
          "execution_count": 86
        }
      ]
    },
    {
      "cell_type": "code",
      "source": [
        "ㅊ"
      ],
      "metadata": {
        "id": "wO-bGcV1o7F7"
      },
      "execution_count": null,
      "outputs": []
    },
    {
      "cell_type": "code",
      "source": [
        "ck_t_x[0]"
      ],
      "metadata": {
        "colab": {
          "base_uri": "https://localhost:8080/"
        },
        "id": "_cqGLv58h9W9",
        "outputId": "14b50006-d48a-4fd3-ffb6-1fbe97acccb0"
      },
      "execution_count": null,
      "outputs": [
        {
          "output_type": "execute_result",
          "data": {
            "text/plain": [
              "array([  0,   0,   0, ...,  10, 470, 158], dtype=int32)"
            ]
          },
          "metadata": {},
          "execution_count": 91
        }
      ]
    },
    {
      "cell_type": "code",
      "source": [
        "ck_t_x[0][:50]"
      ],
      "metadata": {
        "colab": {
          "base_uri": "https://localhost:8080/"
        },
        "id": "8cGXKRysiABG",
        "outputId": "0c27ee16-f667-432b-b0b0-ac215aa3c6d9"
      },
      "execution_count": null,
      "outputs": [
        {
          "output_type": "execute_result",
          "data": {
            "text/plain": [
              "array([0, 0, 0, 0, 0, 0, 0, 0, 0, 0, 0, 0, 0, 0, 0, 0, 0, 0, 0, 0, 0, 0,\n",
              "       0, 0, 0, 0, 0, 0, 0, 0, 0, 0, 0, 0, 0, 0, 0, 0, 0, 0, 0, 0, 0, 0,\n",
              "       0, 0, 0, 0, 0, 0], dtype=int32)"
            ]
          },
          "metadata": {},
          "execution_count": 98
        }
      ]
    },
    {
      "cell_type": "code",
      "source": [
        "len(ck_t_x[0])"
      ],
      "metadata": {
        "colab": {
          "base_uri": "https://localhost:8080/"
        },
        "id": "FQ8U7t-qhXgs",
        "outputId": "bfcb3ad1-8095-4435-9274-ec0776a53f42"
      },
      "execution_count": null,
      "outputs": [
        {
          "output_type": "execute_result",
          "data": {
            "text/plain": [
              "1854"
            ]
          },
          "metadata": {},
          "execution_count": 87
        }
      ]
    },
    {
      "cell_type": "code",
      "source": [
        "ck_t_x[0][1853]"
      ],
      "metadata": {
        "colab": {
          "base_uri": "https://localhost:8080/"
        },
        "id": "tVsxR4Z0haiy",
        "outputId": "df153741-84e6-4e57-90a7-7fd04d2e6a1f"
      },
      "execution_count": null,
      "outputs": [
        {
          "output_type": "execute_result",
          "data": {
            "text/plain": [
              "158"
            ]
          },
          "metadata": {},
          "execution_count": 90
        }
      ]
    },
    {
      "cell_type": "code",
      "source": [
        "ck_t_x"
      ],
      "metadata": {
        "colab": {
          "base_uri": "https://localhost:8080/"
        },
        "id": "MLBjlJSMg0dO",
        "outputId": "e8cbd0a5-637d-4fa8-af7e-25f12c1938f3"
      },
      "execution_count": null,
      "outputs": [
        {
          "output_type": "execute_result",
          "data": {
            "text/plain": [
              "array([[  0,   0,   0, ...,  10, 470, 158],\n",
              "       [  0,   0,   0, ...,   6,   2,   2],\n",
              "       [  0,   0,   0, ...,   2,   2,  12],\n",
              "       ...,\n",
              "       [  0,   0,   0, ...,   7,  14,   2],\n",
              "       [  0,   0,   0, ...,  25, 170,   2],\n",
              "       [  0,   0,   0, ...,  25, 194,   2]], dtype=int32)"
            ]
          },
          "metadata": {},
          "execution_count": 73
        }
      ]
    },
    {
      "cell_type": "code",
      "source": [
        "len(ck_t_x[0])"
      ],
      "metadata": {
        "colab": {
          "base_uri": "https://localhost:8080/"
        },
        "id": "4xMHG2I1g2m_",
        "outputId": "4dad66f8-f9cf-4f60-b603-7cd2baed9cff"
      },
      "execution_count": null,
      "outputs": [
        {
          "output_type": "execute_result",
          "data": {
            "text/plain": [
              "1854"
            ]
          },
          "metadata": {},
          "execution_count": 74
        }
      ]
    },
    {
      "cell_type": "code",
      "source": [
        "ck_t_x[0]"
      ],
      "metadata": {
        "colab": {
          "base_uri": "https://localhost:8080/"
        },
        "id": "TW3dsEuuhC_1",
        "outputId": "1d6bba0f-3c22-4632-fd62-f7c9464dc0f9"
      },
      "execution_count": null,
      "outputs": [
        {
          "output_type": "execute_result",
          "data": {
            "text/plain": [
              "array([  0,   0,   0, ...,  10, 470, 158], dtype=int32)"
            ]
          },
          "metadata": {},
          "execution_count": 78
        }
      ]
    },
    {
      "cell_type": "code",
      "source": [
        "ck_t_x[0][0]"
      ],
      "metadata": {
        "colab": {
          "base_uri": "https://localhost:8080/"
        },
        "id": "VzrsK8zCg5hd",
        "outputId": "94e960ad-76f4-4573-eba2-ab02cbe385fd"
      },
      "execution_count": null,
      "outputs": [
        {
          "output_type": "execute_result",
          "data": {
            "text/plain": [
              "0"
            ]
          },
          "metadata": {},
          "execution_count": 75
        }
      ]
    },
    {
      "cell_type": "code",
      "source": [
        "            숫자 1854개 리스트"
      ],
      "metadata": {
        "colab": {
          "base_uri": "https://localhost:8080/",
          "height": 173
        },
        "id": "cNRZHakqg9O5",
        "outputId": "e71116a8-6315-4493-bccf-0e21a5e20d90"
      },
      "execution_count": null,
      "outputs": [
        {
          "output_type": "error",
          "ename": "TypeError",
          "evalue": "ignored",
          "traceback": [
            "\u001b[0;31m---------------------------------------------------------------------------\u001b[0m",
            "\u001b[0;31mTypeError\u001b[0m                                 Traceback (most recent call last)",
            "\u001b[0;32m<ipython-input-77-8563858bc4ea>\u001b[0m in \u001b[0;36m<module>\u001b[0;34m()\u001b[0m\n\u001b[0;32m----> 1\u001b[0;31m \u001b[0mlen\u001b[0m\u001b[0;34m(\u001b[0m\u001b[0mck_t_x\u001b[0m\u001b[0;34m[\u001b[0m\u001b[0;36m0\u001b[0m\u001b[0;34m]\u001b[0m\u001b[0;34m[\u001b[0m\u001b[0;36m0\u001b[0m\u001b[0;34m]\u001b[0m\u001b[0;34m)\u001b[0m\u001b[0;34m\u001b[0m\u001b[0;34m\u001b[0m\u001b[0m\n\u001b[0m",
            "\u001b[0;31mTypeError\u001b[0m: object of type 'numpy.int32' has no len()"
          ]
        }
      ]
    },
    {
      "cell_type": "code",
      "source": [
        "from keras.preprocessing.sequence import pad_sequences  #데이터패딩작업\n",
        "ck_t_x= pad_sequences(t_x, maxlen=100)\n",
        " \n",
        "ck_v_x= pad_sequences(v_x, maxlen=100)"
      ],
      "metadata": {
        "id": "yTMjnNqGXndW"
      },
      "execution_count": null,
      "outputs": []
    },
    {
      "cell_type": "code",
      "source": [
        "ck_t_x.shape"
      ],
      "metadata": {
        "colab": {
          "base_uri": "https://localhost:8080/"
        },
        "id": "CFgxPjCNfudE",
        "outputId": "9a4db12c-7e73-4715-fb05-98509769246b"
      },
      "execution_count": null,
      "outputs": [
        {
          "output_type": "execute_result",
          "data": {
            "text/plain": [
              "(20000, 100)"
            ]
          },
          "metadata": {},
          "execution_count": 144
        }
      ]
    },
    {
      "cell_type": "code",
      "source": [
        "import pandas as pd\n",
        "pd.DataFrame(ck_t_x)\n",
        "\n",
        "\n",
        "1 2 3    500\n",
        "0 0 0 0 0 0 0  1  0 0  0"
      ],
      "metadata": {
        "colab": {
          "base_uri": "https://localhost:8080/",
          "height": 424
        },
        "id": "JY2gFRhMree3",
        "outputId": "b7bff9bd-c51e-45ea-a986-fa29e25f7257"
      },
      "execution_count": null,
      "outputs": [
        {
          "output_type": "execute_result",
          "data": {
            "text/plain": [
              "        0    1    2    3    4    5    6    7    8    9   ...   90   91   92  \\\n",
              "0       10    4   20    9    2  364  352    5   45    6  ...    6    2   46   \n",
              "1      206    2   26    2    5    2    4  414    9    2  ...  312    2    2   \n",
              "2        2    7    2   45    2    8  106  158  234  159  ...    5   47   57   \n",
              "3        7   58    4   20   16    2    5    2   45    2  ...    2    2    2   \n",
              "4       23    2  304  178  180   19    4    2  417    2  ...    8  148   37   \n",
              "...    ...  ...  ...  ...  ...  ...  ...  ...  ...  ...  ...  ...  ...  ...   \n",
              "19995    0    0    0    0    0    0    0    0    0    0  ...    2    2    4   \n",
              "19996    6  196   58   13  131  421   12   10   10    4  ...    9  407   31   \n",
              "19997    2   37  299    4    2  272  484    2   11    4  ...    2   16    2   \n",
              "19998    0    0    0    0    0    0    0    0    0    0  ...  291  154    2   \n",
              "19999    0    0    0    0    0    0    0    0    0    0  ...   17   59  127   \n",
              "\n",
              "        93  94   95   96  97   98   99  \n",
              "0        7  14   20   10  10  470  158  \n",
              "1        2   2    2    5   6    2    2  \n",
              "2        2  23    4   65   2    2   12  \n",
              "3        2  11    4   22  16  340    2  \n",
              "4      416  68  456   23  15    2    2  \n",
              "...    ...  ..  ...  ...  ..  ...  ...  \n",
              "19995    2   2  344   18  14   31    2  \n",
              "19996    7   4  118  108   7   32   58  \n",
              "19997  195   8    2   46   7   14    2  \n",
              "19998    6   9   51  214  25  170    2  \n",
              "19999    5  12   80    2  25  194    2  \n",
              "\n",
              "[20000 rows x 100 columns]"
            ],
            "text/html": [
              "\n",
              "  <div id=\"df-cabadfac-573e-46ac-806c-44599b37a585\">\n",
              "    <div class=\"colab-df-container\">\n",
              "      <div>\n",
              "<style scoped>\n",
              "    .dataframe tbody tr th:only-of-type {\n",
              "        vertical-align: middle;\n",
              "    }\n",
              "\n",
              "    .dataframe tbody tr th {\n",
              "        vertical-align: top;\n",
              "    }\n",
              "\n",
              "    .dataframe thead th {\n",
              "        text-align: right;\n",
              "    }\n",
              "</style>\n",
              "<table border=\"1\" class=\"dataframe\">\n",
              "  <thead>\n",
              "    <tr style=\"text-align: right;\">\n",
              "      <th></th>\n",
              "      <th>0</th>\n",
              "      <th>1</th>\n",
              "      <th>2</th>\n",
              "      <th>3</th>\n",
              "      <th>4</th>\n",
              "      <th>5</th>\n",
              "      <th>6</th>\n",
              "      <th>7</th>\n",
              "      <th>8</th>\n",
              "      <th>9</th>\n",
              "      <th>...</th>\n",
              "      <th>90</th>\n",
              "      <th>91</th>\n",
              "      <th>92</th>\n",
              "      <th>93</th>\n",
              "      <th>94</th>\n",
              "      <th>95</th>\n",
              "      <th>96</th>\n",
              "      <th>97</th>\n",
              "      <th>98</th>\n",
              "      <th>99</th>\n",
              "    </tr>\n",
              "  </thead>\n",
              "  <tbody>\n",
              "    <tr>\n",
              "      <th>0</th>\n",
              "      <td>10</td>\n",
              "      <td>4</td>\n",
              "      <td>20</td>\n",
              "      <td>9</td>\n",
              "      <td>2</td>\n",
              "      <td>364</td>\n",
              "      <td>352</td>\n",
              "      <td>5</td>\n",
              "      <td>45</td>\n",
              "      <td>6</td>\n",
              "      <td>...</td>\n",
              "      <td>6</td>\n",
              "      <td>2</td>\n",
              "      <td>46</td>\n",
              "      <td>7</td>\n",
              "      <td>14</td>\n",
              "      <td>20</td>\n",
              "      <td>10</td>\n",
              "      <td>10</td>\n",
              "      <td>470</td>\n",
              "      <td>158</td>\n",
              "    </tr>\n",
              "    <tr>\n",
              "      <th>1</th>\n",
              "      <td>206</td>\n",
              "      <td>2</td>\n",
              "      <td>26</td>\n",
              "      <td>2</td>\n",
              "      <td>5</td>\n",
              "      <td>2</td>\n",
              "      <td>4</td>\n",
              "      <td>414</td>\n",
              "      <td>9</td>\n",
              "      <td>2</td>\n",
              "      <td>...</td>\n",
              "      <td>312</td>\n",
              "      <td>2</td>\n",
              "      <td>2</td>\n",
              "      <td>2</td>\n",
              "      <td>2</td>\n",
              "      <td>2</td>\n",
              "      <td>5</td>\n",
              "      <td>6</td>\n",
              "      <td>2</td>\n",
              "      <td>2</td>\n",
              "    </tr>\n",
              "    <tr>\n",
              "      <th>2</th>\n",
              "      <td>2</td>\n",
              "      <td>7</td>\n",
              "      <td>2</td>\n",
              "      <td>45</td>\n",
              "      <td>2</td>\n",
              "      <td>8</td>\n",
              "      <td>106</td>\n",
              "      <td>158</td>\n",
              "      <td>234</td>\n",
              "      <td>159</td>\n",
              "      <td>...</td>\n",
              "      <td>5</td>\n",
              "      <td>47</td>\n",
              "      <td>57</td>\n",
              "      <td>2</td>\n",
              "      <td>23</td>\n",
              "      <td>4</td>\n",
              "      <td>65</td>\n",
              "      <td>2</td>\n",
              "      <td>2</td>\n",
              "      <td>12</td>\n",
              "    </tr>\n",
              "    <tr>\n",
              "      <th>3</th>\n",
              "      <td>7</td>\n",
              "      <td>58</td>\n",
              "      <td>4</td>\n",
              "      <td>20</td>\n",
              "      <td>16</td>\n",
              "      <td>2</td>\n",
              "      <td>5</td>\n",
              "      <td>2</td>\n",
              "      <td>45</td>\n",
              "      <td>2</td>\n",
              "      <td>...</td>\n",
              "      <td>2</td>\n",
              "      <td>2</td>\n",
              "      <td>2</td>\n",
              "      <td>2</td>\n",
              "      <td>11</td>\n",
              "      <td>4</td>\n",
              "      <td>22</td>\n",
              "      <td>16</td>\n",
              "      <td>340</td>\n",
              "      <td>2</td>\n",
              "    </tr>\n",
              "    <tr>\n",
              "      <th>4</th>\n",
              "      <td>23</td>\n",
              "      <td>2</td>\n",
              "      <td>304</td>\n",
              "      <td>178</td>\n",
              "      <td>180</td>\n",
              "      <td>19</td>\n",
              "      <td>4</td>\n",
              "      <td>2</td>\n",
              "      <td>417</td>\n",
              "      <td>2</td>\n",
              "      <td>...</td>\n",
              "      <td>8</td>\n",
              "      <td>148</td>\n",
              "      <td>37</td>\n",
              "      <td>416</td>\n",
              "      <td>68</td>\n",
              "      <td>456</td>\n",
              "      <td>23</td>\n",
              "      <td>15</td>\n",
              "      <td>2</td>\n",
              "      <td>2</td>\n",
              "    </tr>\n",
              "    <tr>\n",
              "      <th>...</th>\n",
              "      <td>...</td>\n",
              "      <td>...</td>\n",
              "      <td>...</td>\n",
              "      <td>...</td>\n",
              "      <td>...</td>\n",
              "      <td>...</td>\n",
              "      <td>...</td>\n",
              "      <td>...</td>\n",
              "      <td>...</td>\n",
              "      <td>...</td>\n",
              "      <td>...</td>\n",
              "      <td>...</td>\n",
              "      <td>...</td>\n",
              "      <td>...</td>\n",
              "      <td>...</td>\n",
              "      <td>...</td>\n",
              "      <td>...</td>\n",
              "      <td>...</td>\n",
              "      <td>...</td>\n",
              "      <td>...</td>\n",
              "      <td>...</td>\n",
              "    </tr>\n",
              "    <tr>\n",
              "      <th>19995</th>\n",
              "      <td>0</td>\n",
              "      <td>0</td>\n",
              "      <td>0</td>\n",
              "      <td>0</td>\n",
              "      <td>0</td>\n",
              "      <td>0</td>\n",
              "      <td>0</td>\n",
              "      <td>0</td>\n",
              "      <td>0</td>\n",
              "      <td>0</td>\n",
              "      <td>...</td>\n",
              "      <td>2</td>\n",
              "      <td>2</td>\n",
              "      <td>4</td>\n",
              "      <td>2</td>\n",
              "      <td>2</td>\n",
              "      <td>344</td>\n",
              "      <td>18</td>\n",
              "      <td>14</td>\n",
              "      <td>31</td>\n",
              "      <td>2</td>\n",
              "    </tr>\n",
              "    <tr>\n",
              "      <th>19996</th>\n",
              "      <td>6</td>\n",
              "      <td>196</td>\n",
              "      <td>58</td>\n",
              "      <td>13</td>\n",
              "      <td>131</td>\n",
              "      <td>421</td>\n",
              "      <td>12</td>\n",
              "      <td>10</td>\n",
              "      <td>10</td>\n",
              "      <td>4</td>\n",
              "      <td>...</td>\n",
              "      <td>9</td>\n",
              "      <td>407</td>\n",
              "      <td>31</td>\n",
              "      <td>7</td>\n",
              "      <td>4</td>\n",
              "      <td>118</td>\n",
              "      <td>108</td>\n",
              "      <td>7</td>\n",
              "      <td>32</td>\n",
              "      <td>58</td>\n",
              "    </tr>\n",
              "    <tr>\n",
              "      <th>19997</th>\n",
              "      <td>2</td>\n",
              "      <td>37</td>\n",
              "      <td>299</td>\n",
              "      <td>4</td>\n",
              "      <td>2</td>\n",
              "      <td>272</td>\n",
              "      <td>484</td>\n",
              "      <td>2</td>\n",
              "      <td>11</td>\n",
              "      <td>4</td>\n",
              "      <td>...</td>\n",
              "      <td>2</td>\n",
              "      <td>16</td>\n",
              "      <td>2</td>\n",
              "      <td>195</td>\n",
              "      <td>8</td>\n",
              "      <td>2</td>\n",
              "      <td>46</td>\n",
              "      <td>7</td>\n",
              "      <td>14</td>\n",
              "      <td>2</td>\n",
              "    </tr>\n",
              "    <tr>\n",
              "      <th>19998</th>\n",
              "      <td>0</td>\n",
              "      <td>0</td>\n",
              "      <td>0</td>\n",
              "      <td>0</td>\n",
              "      <td>0</td>\n",
              "      <td>0</td>\n",
              "      <td>0</td>\n",
              "      <td>0</td>\n",
              "      <td>0</td>\n",
              "      <td>0</td>\n",
              "      <td>...</td>\n",
              "      <td>291</td>\n",
              "      <td>154</td>\n",
              "      <td>2</td>\n",
              "      <td>6</td>\n",
              "      <td>9</td>\n",
              "      <td>51</td>\n",
              "      <td>214</td>\n",
              "      <td>25</td>\n",
              "      <td>170</td>\n",
              "      <td>2</td>\n",
              "    </tr>\n",
              "    <tr>\n",
              "      <th>19999</th>\n",
              "      <td>0</td>\n",
              "      <td>0</td>\n",
              "      <td>0</td>\n",
              "      <td>0</td>\n",
              "      <td>0</td>\n",
              "      <td>0</td>\n",
              "      <td>0</td>\n",
              "      <td>0</td>\n",
              "      <td>0</td>\n",
              "      <td>0</td>\n",
              "      <td>...</td>\n",
              "      <td>17</td>\n",
              "      <td>59</td>\n",
              "      <td>127</td>\n",
              "      <td>5</td>\n",
              "      <td>12</td>\n",
              "      <td>80</td>\n",
              "      <td>2</td>\n",
              "      <td>25</td>\n",
              "      <td>194</td>\n",
              "      <td>2</td>\n",
              "    </tr>\n",
              "  </tbody>\n",
              "</table>\n",
              "<p>20000 rows × 100 columns</p>\n",
              "</div>\n",
              "      <button class=\"colab-df-convert\" onclick=\"convertToInteractive('df-cabadfac-573e-46ac-806c-44599b37a585')\"\n",
              "              title=\"Convert this dataframe to an interactive table.\"\n",
              "              style=\"display:none;\">\n",
              "        \n",
              "  <svg xmlns=\"http://www.w3.org/2000/svg\" height=\"24px\"viewBox=\"0 0 24 24\"\n",
              "       width=\"24px\">\n",
              "    <path d=\"M0 0h24v24H0V0z\" fill=\"none\"/>\n",
              "    <path d=\"M18.56 5.44l.94 2.06.94-2.06 2.06-.94-2.06-.94-.94-2.06-.94 2.06-2.06.94zm-11 1L8.5 8.5l.94-2.06 2.06-.94-2.06-.94L8.5 2.5l-.94 2.06-2.06.94zm10 10l.94 2.06.94-2.06 2.06-.94-2.06-.94-.94-2.06-.94 2.06-2.06.94z\"/><path d=\"M17.41 7.96l-1.37-1.37c-.4-.4-.92-.59-1.43-.59-.52 0-1.04.2-1.43.59L10.3 9.45l-7.72 7.72c-.78.78-.78 2.05 0 2.83L4 21.41c.39.39.9.59 1.41.59.51 0 1.02-.2 1.41-.59l7.78-7.78 2.81-2.81c.8-.78.8-2.07 0-2.86zM5.41 20L4 18.59l7.72-7.72 1.47 1.35L5.41 20z\"/>\n",
              "  </svg>\n",
              "      </button>\n",
              "      \n",
              "  <style>\n",
              "    .colab-df-container {\n",
              "      display:flex;\n",
              "      flex-wrap:wrap;\n",
              "      gap: 12px;\n",
              "    }\n",
              "\n",
              "    .colab-df-convert {\n",
              "      background-color: #E8F0FE;\n",
              "      border: none;\n",
              "      border-radius: 50%;\n",
              "      cursor: pointer;\n",
              "      display: none;\n",
              "      fill: #1967D2;\n",
              "      height: 32px;\n",
              "      padding: 0 0 0 0;\n",
              "      width: 32px;\n",
              "    }\n",
              "\n",
              "    .colab-df-convert:hover {\n",
              "      background-color: #E2EBFA;\n",
              "      box-shadow: 0px 1px 2px rgba(60, 64, 67, 0.3), 0px 1px 3px 1px rgba(60, 64, 67, 0.15);\n",
              "      fill: #174EA6;\n",
              "    }\n",
              "\n",
              "    [theme=dark] .colab-df-convert {\n",
              "      background-color: #3B4455;\n",
              "      fill: #D2E3FC;\n",
              "    }\n",
              "\n",
              "    [theme=dark] .colab-df-convert:hover {\n",
              "      background-color: #434B5C;\n",
              "      box-shadow: 0px 1px 3px 1px rgba(0, 0, 0, 0.15);\n",
              "      filter: drop-shadow(0px 1px 2px rgba(0, 0, 0, 0.3));\n",
              "      fill: #FFFFFF;\n",
              "    }\n",
              "  </style>\n",
              "\n",
              "      <script>\n",
              "        const buttonEl =\n",
              "          document.querySelector('#df-cabadfac-573e-46ac-806c-44599b37a585 button.colab-df-convert');\n",
              "        buttonEl.style.display =\n",
              "          google.colab.kernel.accessAllowed ? 'block' : 'none';\n",
              "\n",
              "        async function convertToInteractive(key) {\n",
              "          const element = document.querySelector('#df-cabadfac-573e-46ac-806c-44599b37a585');\n",
              "          const dataTable =\n",
              "            await google.colab.kernel.invokeFunction('convertToInteractive',\n",
              "                                                     [key], {});\n",
              "          if (!dataTable) return;\n",
              "\n",
              "          const docLinkHtml = 'Like what you see? Visit the ' +\n",
              "            '<a target=\"_blank\" href=https://colab.research.google.com/notebooks/data_table.ipynb>data table notebook</a>'\n",
              "            + ' to learn more about interactive tables.';\n",
              "          element.innerHTML = '';\n",
              "          dataTable['output_type'] = 'display_data';\n",
              "          await google.colab.output.renderOutput(dataTable, element);\n",
              "          const docLink = document.createElement('div');\n",
              "          docLink.innerHTML = docLinkHtml;\n",
              "          element.appendChild(docLink);\n",
              "        }\n",
              "      </script>\n",
              "    </div>\n",
              "  </div>\n",
              "  "
            ]
          },
          "metadata": {},
          "execution_count": 146
        }
      ]
    },
    {
      "cell_type": "code",
      "source": [
        "ck_t_x[0], ck_t_x[0][0],ck_t_x[0][0][0]"
      ],
      "metadata": {
        "id": "xffDB-E9fw0-"
      },
      "execution_count": null,
      "outputs": []
    },
    {
      "cell_type": "code",
      "source": [
        "# del ck_t_x\n",
        "# del ck_tt_x\n",
        "# del ck_v_x\n",
        "# del t_x\n",
        "# del v_x\n",
        "# del tt_x\n",
        "# del X_data\n",
        "# del y_data"
      ],
      "metadata": {
        "id": "C5ppfX1jYyLs"
      },
      "execution_count": null,
      "outputs": []
    },
    {
      "cell_type": "code",
      "source": [
        "from keras.utils.np_utils import to_categorical #원핫\n",
        "c_t_x = to_categorical(ck_t_x)\n",
        " \n",
        "c_v_x = to_categorical(ck_v_x)\n"
      ],
      "metadata": {
        "id": "zHSDZ3AxX31_"
      },
      "execution_count": null,
      "outputs": []
    },
    {
      "cell_type": "code",
      "source": [
        "c_t_x.shape              # 원핫으로  20000묶음 안        [ 100개의 단어 ]    에서  각 단어당  1~500까지  0/1 로   \n",
        "              # 즉 1~500 시리즈 중 하나만 1 값이다"
      ],
      "metadata": {
        "colab": {
          "base_uri": "https://localhost:8080/"
        },
        "id": "K5ZdIzhKryhB",
        "outputId": "28906da8-fd76-42bb-9c2f-6bf044b229fd"
      },
      "execution_count": null,
      "outputs": [
        {
          "output_type": "execute_result",
          "data": {
            "text/plain": [
              "(20000, 100, 500)"
            ]
          },
          "metadata": {},
          "execution_count": 149
        }
      ]
    },
    {
      "cell_type": "code",
      "source": [
        "import pandas as pd\n",
        "pd.DataFrame(c_t_x)    #위데이터프레임에서 각 값마다 전부  [ 500개 0/1 칸으로 인코딩 ] 즉 1개의 1과 499개의 0 이 들어가고 학습에 좋지 않다"
      ],
      "metadata": {
        "colab": {
          "base_uri": "https://localhost:8080/",
          "height": 343
        },
        "id": "Dyq9BKYFrrIx",
        "outputId": "42a006f1-f72b-44ce-9361-2d6f282234ea"
      },
      "execution_count": null,
      "outputs": [
        {
          "output_type": "error",
          "ename": "ValueError",
          "evalue": "ignored",
          "traceback": [
            "\u001b[0;31m---------------------------------------------------------------------------\u001b[0m",
            "\u001b[0;31mValueError\u001b[0m                                Traceback (most recent call last)",
            "\u001b[0;32m<ipython-input-148-9f91293b7753>\u001b[0m in \u001b[0;36m<module>\u001b[0;34m()\u001b[0m\n\u001b[1;32m      1\u001b[0m \u001b[0;32mimport\u001b[0m \u001b[0mpandas\u001b[0m \u001b[0;32mas\u001b[0m \u001b[0mpd\u001b[0m\u001b[0;34m\u001b[0m\u001b[0;34m\u001b[0m\u001b[0m\n\u001b[0;32m----> 2\u001b[0;31m \u001b[0mpd\u001b[0m\u001b[0;34m.\u001b[0m\u001b[0mDataFrame\u001b[0m\u001b[0;34m(\u001b[0m\u001b[0mc_t_x\u001b[0m\u001b[0;34m)\u001b[0m\u001b[0;34m\u001b[0m\u001b[0;34m\u001b[0m\u001b[0m\n\u001b[0m",
            "\u001b[0;32m/usr/local/lib/python3.7/dist-packages/pandas/core/frame.py\u001b[0m in \u001b[0;36m__init__\u001b[0;34m(self, data, index, columns, dtype, copy)\u001b[0m\n\u001b[1;32m    676\u001b[0m                     \u001b[0mdtype\u001b[0m\u001b[0;34m=\u001b[0m\u001b[0mdtype\u001b[0m\u001b[0;34m,\u001b[0m\u001b[0;34m\u001b[0m\u001b[0;34m\u001b[0m\u001b[0m\n\u001b[1;32m    677\u001b[0m                     \u001b[0mcopy\u001b[0m\u001b[0;34m=\u001b[0m\u001b[0mcopy\u001b[0m\u001b[0;34m,\u001b[0m\u001b[0;34m\u001b[0m\u001b[0;34m\u001b[0m\u001b[0m\n\u001b[0;32m--> 678\u001b[0;31m                     \u001b[0mtyp\u001b[0m\u001b[0;34m=\u001b[0m\u001b[0mmanager\u001b[0m\u001b[0;34m,\u001b[0m\u001b[0;34m\u001b[0m\u001b[0;34m\u001b[0m\u001b[0m\n\u001b[0m\u001b[1;32m    679\u001b[0m                 )\n\u001b[1;32m    680\u001b[0m \u001b[0;34m\u001b[0m\u001b[0m\n",
            "\u001b[0;32m/usr/local/lib/python3.7/dist-packages/pandas/core/internals/construction.py\u001b[0m in \u001b[0;36mndarray_to_mgr\u001b[0;34m(values, index, columns, dtype, copy, typ)\u001b[0m\n\u001b[1;32m    302\u001b[0m         \u001b[0;31m# by definition an array here\u001b[0m\u001b[0;34m\u001b[0m\u001b[0;34m\u001b[0m\u001b[0;34m\u001b[0m\u001b[0m\n\u001b[1;32m    303\u001b[0m         \u001b[0;31m# the dtypes will be coerced to a single dtype\u001b[0m\u001b[0;34m\u001b[0m\u001b[0;34m\u001b[0m\u001b[0;34m\u001b[0m\u001b[0m\n\u001b[0;32m--> 304\u001b[0;31m         \u001b[0mvalues\u001b[0m \u001b[0;34m=\u001b[0m \u001b[0m_prep_ndarray\u001b[0m\u001b[0;34m(\u001b[0m\u001b[0mvalues\u001b[0m\u001b[0;34m,\u001b[0m \u001b[0mcopy\u001b[0m\u001b[0;34m=\u001b[0m\u001b[0mcopy\u001b[0m\u001b[0;34m)\u001b[0m\u001b[0;34m\u001b[0m\u001b[0;34m\u001b[0m\u001b[0m\n\u001b[0m\u001b[1;32m    305\u001b[0m \u001b[0;34m\u001b[0m\u001b[0m\n\u001b[1;32m    306\u001b[0m     \u001b[0;32mif\u001b[0m \u001b[0mdtype\u001b[0m \u001b[0;32mis\u001b[0m \u001b[0;32mnot\u001b[0m \u001b[0;32mNone\u001b[0m \u001b[0;32mand\u001b[0m \u001b[0;32mnot\u001b[0m \u001b[0mis_dtype_equal\u001b[0m\u001b[0;34m(\u001b[0m\u001b[0mvalues\u001b[0m\u001b[0;34m.\u001b[0m\u001b[0mdtype\u001b[0m\u001b[0;34m,\u001b[0m \u001b[0mdtype\u001b[0m\u001b[0;34m)\u001b[0m\u001b[0;34m:\u001b[0m\u001b[0;34m\u001b[0m\u001b[0;34m\u001b[0m\u001b[0m\n",
            "\u001b[0;32m/usr/local/lib/python3.7/dist-packages/pandas/core/internals/construction.py\u001b[0m in \u001b[0;36m_prep_ndarray\u001b[0;34m(values, copy)\u001b[0m\n\u001b[1;32m    553\u001b[0m         \u001b[0mvalues\u001b[0m \u001b[0;34m=\u001b[0m \u001b[0mvalues\u001b[0m\u001b[0;34m.\u001b[0m\u001b[0mreshape\u001b[0m\u001b[0;34m(\u001b[0m\u001b[0;34m(\u001b[0m\u001b[0mvalues\u001b[0m\u001b[0;34m.\u001b[0m\u001b[0mshape\u001b[0m\u001b[0;34m[\u001b[0m\u001b[0;36m0\u001b[0m\u001b[0;34m]\u001b[0m\u001b[0;34m,\u001b[0m \u001b[0;36m1\u001b[0m\u001b[0;34m)\u001b[0m\u001b[0;34m)\u001b[0m\u001b[0;34m\u001b[0m\u001b[0;34m\u001b[0m\u001b[0m\n\u001b[1;32m    554\u001b[0m     \u001b[0;32melif\u001b[0m \u001b[0mvalues\u001b[0m\u001b[0;34m.\u001b[0m\u001b[0mndim\u001b[0m \u001b[0;34m!=\u001b[0m \u001b[0;36m2\u001b[0m\u001b[0;34m:\u001b[0m\u001b[0;34m\u001b[0m\u001b[0;34m\u001b[0m\u001b[0m\n\u001b[0;32m--> 555\u001b[0;31m         \u001b[0;32mraise\u001b[0m \u001b[0mValueError\u001b[0m\u001b[0;34m(\u001b[0m\u001b[0;34mf\"Must pass 2-d input. shape={values.shape}\"\u001b[0m\u001b[0;34m)\u001b[0m\u001b[0;34m\u001b[0m\u001b[0;34m\u001b[0m\u001b[0m\n\u001b[0m\u001b[1;32m    556\u001b[0m \u001b[0;34m\u001b[0m\u001b[0m\n\u001b[1;32m    557\u001b[0m     \u001b[0;32mreturn\u001b[0m \u001b[0mvalues\u001b[0m\u001b[0;34m\u001b[0m\u001b[0;34m\u001b[0m\u001b[0m\n",
            "\u001b[0;31mValueError\u001b[0m: Must pass 2-d input. shape=(20000, 100, 500)"
          ]
        }
      ]
    },
    {
      "cell_type": "code",
      "source": [
        "#원핫 >   피처500개 500차원"
      ],
      "metadata": {
        "id": "g9-OB38pYwYP"
      },
      "execution_count": null,
      "outputs": []
    },
    {
      "cell_type": "code",
      "source": [
        ""
      ],
      "metadata": {
        "id": "s5CV1UhLc7EY"
      },
      "execution_count": null,
      "outputs": []
    },
    {
      "cell_type": "code",
      "source": [
        "from keras import Sequential\n",
        "from keras.layers import SimpleRNN, Dense\n",
        "from tensorflow.keras.optimizers import SGD, RMSprop, Adam\n",
        "from tensorflow.keras.callbacks import EarlyStopping, ModelCheckpoint\n",
        "m = Sequential()   \n",
        "m.add( SimpleRNN( 8, input_shape=(100,500) ) )   #단어오백가지중에서라500          # 8 : 쉘 수   심플알엔엔 순환신경망  100 위에 패딩으로 100줄   인풋모양정리\n",
        "m.add(  Dense( 1, activation='sigmoid' ) ) #아웃풋1개   출력층 , 이진분류 시그모이드\n"
      ],
      "metadata": {
        "id": "1XU_qD-6cy4U"
      },
      "execution_count": null,
      "outputs": []
    },
    {
      "cell_type": "code",
      "source": [
        ""
      ],
      "metadata": {
        "id": "P4CDipcTdfS_"
      },
      "execution_count": null,
      "outputs": []
    },
    {
      "cell_type": "code",
      "source": [
        "\n",
        "m.compile(optimizer = RMSprop(learning_rate=0.0001) , loss='binary_crossentropy'  , metrics=['accuracy'])  # 옵티마이저 알엠 기본값\n",
        "  # 로스펑션: 아웃풋기준 이진분류 - binary"
      ],
      "metadata": {
        "id": "s_ExL_T3dLw4"
      },
      "execution_count": null,
      "outputs": []
    },
    {
      "cell_type": "code",
      "source": [
        "\n",
        "es = EarlyStopping(patience= 4, restore_best_weights=True)\n",
        "ck = ModelCheckpoint ('m.h5')"
      ],
      "metadata": {
        "id": "ijhrnIG1dqgG"
      },
      "execution_count": null,
      "outputs": []
    },
    {
      "cell_type": "code",
      "source": [
        "hy = m.fit(c_t_x, t_y,  validation_data=(c_v_x, v_y) ,  callbacks=[es,ck],  batch_size=64,  epochs=2  )  #배치사이즈는 2의 배수로\n",
        "#콜백사용시 - 벨리데이션셋"
      ],
      "metadata": {
        "colab": {
          "base_uri": "https://localhost:8080/"
        },
        "id": "qMEf1O_FeVZd",
        "outputId": "31210771-e44a-4d39-8af4-0e46abe6f24d"
      },
      "execution_count": null,
      "outputs": [
        {
          "output_type": "stream",
          "name": "stdout",
          "text": [
            "Epoch 1/2\n",
            "313/313 [==============================] - 22s 72ms/step - loss: 0.6603 - accuracy: 0.6382 - val_loss: 0.6537 - val_accuracy: 0.6536\n",
            "Epoch 2/2\n",
            "313/313 [==============================] - 22s 71ms/step - loss: 0.6449 - accuracy: 0.6636 - val_loss: 0.6402 - val_accuracy: 0.6686\n"
          ]
        }
      ]
    },
    {
      "cell_type": "code",
      "source": [
        ""
      ],
      "metadata": {
        "id": "XLa9IaLwfDx_"
      },
      "execution_count": null,
      "outputs": []
    },
    {
      "cell_type": "code",
      "source": [
        "import matplotlib.pyplot as plt"
      ],
      "metadata": {
        "id": "tyDWS6mkfLFm"
      },
      "execution_count": null,
      "outputs": []
    },
    {
      "cell_type": "code",
      "source": [
        "plt.plot(hy.history['loss'],color='g')\n",
        "plt.plot(hy.history['val_loss'])"
      ],
      "metadata": {
        "colab": {
          "base_uri": "https://localhost:8080/",
          "height": 283
        },
        "id": "wG3MChQNfEQ-",
        "outputId": "851c6285-81bf-4dac-9db6-e29ef04779c5"
      },
      "execution_count": null,
      "outputs": [
        {
          "output_type": "execute_result",
          "data": {
            "text/plain": [
              "[<matplotlib.lines.Line2D at 0x7f936ecb3050>]"
            ]
          },
          "metadata": {},
          "execution_count": 61
        },
        {
          "output_type": "display_data",
          "data": {
            "text/plain": [
              "<Figure size 432x288 with 1 Axes>"
            ],
            "image/png": "[encoded data removed]"
          },
          "metadata": {
            "needs_background": "light"
          }
        }
      ]
    },
    {
      "cell_type": "code",
      "source": [
        ""
      ],
      "metadata": {
        "id": "rdmqiv_ClDfg"
      },
      "execution_count": null,
      "outputs": []
    },
    {
      "cell_type": "code",
      "source": [
        ""
      ],
      "metadata": {
        "id": "D1n8y27ElDjf"
      },
      "execution_count": null,
      "outputs": []
    },
    {
      "cell_type": "code",
      "source": [
        ""
      ],
      "metadata": {
        "id": "DzHOvH_flDnP"
      },
      "execution_count": null,
      "outputs": []
    },
    {
      "cell_type": "code",
      "source": [
        "from keras import Sequential\n",
        "from keras.layers import SimpleRNN, Dense, Embedding\n",
        "from tensorflow.keras.optimizers import SGD, RMSprop, Adam\n",
        "from tensorflow.keras.callbacks import EarlyStopping, ModelCheckpoint\n",
        "m1 = Sequential()  \n",
        "m1.add(Embedding(500,16,input_length=100 ))  \n",
        "  # 인풋렝스100  한묶음으로 한번에 들어가니까 한묶음의 길이 100으로\n",
        "#심플rnn에 잇엇던 인풋이여기로 #500  500개단어   # 16 : 오백개의 단어를 16차원으로 정리    16차원으로 오백개의 단어를 표현하겠다.\n",
        "    # 그래서 오백개로 원핫인코딩된 자료를 줄 필요가 없다  > 핏에서 c_ 대신 ck_\n",
        "     # 원핫 안한 데이터를 자동으로 임베딩이 해준다\n",
        "     # 16 차원에 점하나 찍은 벡터화  여기서 차원은 임의의 값 하이퍼매개변수\n",
        "# 임베딩 단어 벡터화 - 임의의 좌표(16차원)에 한 점찍기\n",
        "m1.add( SimpleRNN( 8)) #순환신경망  # 8은 cell 셀 수  (뉴런수)\n",
        "m1.add(  Dense( 1, activation='sigmoid' ) ) #아웃풋1개   출력층 , 이진분류 시그모이드\n",
        "m1.summary()\n",
        "\n",
        "#긍정리뷰 / 부정리뷰 분류"
      ],
      "metadata": {
        "colab": {
          "base_uri": "https://localhost:8080/"
        },
        "id": "0cl27xOBlDqB",
        "outputId": "9317e144-e5d4-4360-bcef-ec740a69066b"
      },
      "execution_count": null,
      "outputs": [
        {
          "output_type": "stream",
          "name": "stdout",
          "text": [
            "Model: \"sequential_7\"\n",
            "_________________________________________________________________\n",
            " Layer (type)                Output Shape              Param #   \n",
            "=================================================================\n",
            " embedding_1 (Embedding)     (None, 100, 16)           8000      \n",
            "                                                                 \n",
            " simple_rnn_7 (SimpleRNN)    (None, 8)                 200       \n",
            "                                                                 \n",
            " dense_7 (Dense)             (None, 1)                 9         \n",
            "                                                                 \n",
            "=================================================================\n",
            "Total params: 8,209\n",
            "Trainable params: 8,209\n",
            "Non-trainable params: 0\n",
            "_________________________________________________________________\n"
          ]
        }
      ]
    },
    {
      "cell_type": "code",
      "source": [
        "\n",
        "m1.compile(optimizer = RMSprop(learning_rate=0.0001) , loss='binary_crossentropy'  , metrics=['accuracy'])  # 옵티마이저 알엠 기본값\n",
        "  # 로스펑션: 아웃풋기준 이진분류 - binary\n",
        "es = EarlyStopping(patience= 4, restore_best_weights=True)\n",
        "ck = ModelCheckpoint ('m.h5')\n",
        "\n",
        "hy = m1.fit(ck_t_x, t_y,  validation_data=(ck_v_x, v_y) ,  callbacks=[es,ck],  batch_size=64,  epochs=20  )  #배치사이즈는 2의 배수로\n",
        "#콜백사용시 - 벨리데이션셋"
      ],
      "metadata": {
        "colab": {
          "base_uri": "https://localhost:8080/"
        },
        "id": "AC22uJWHlqC5",
        "outputId": "aa85de5f-4ed6-437f-d22f-b354c2111f53"
      },
      "execution_count": null,
      "outputs": [
        {
          "output_type": "stream",
          "name": "stdout",
          "text": [
            "Epoch 1/20\n",
            "313/313 [==============================] - 9s 25ms/step - loss: 0.5743 - accuracy: 0.7319 - val_loss: 0.5622 - val_accuracy: 0.7404\n",
            "Epoch 2/20\n",
            "313/313 [==============================] - 8s 24ms/step - loss: 0.5463 - accuracy: 0.7528 - val_loss: 0.5402 - val_accuracy: 0.7528\n",
            "Epoch 3/20\n",
            "313/313 [==============================] - 8s 25ms/step - loss: 0.5247 - accuracy: 0.7656 - val_loss: 0.5266 - val_accuracy: 0.7536\n",
            "Epoch 4/20\n",
            "313/313 [==============================] - 9s 28ms/step - loss: 0.5086 - accuracy: 0.7765 - val_loss: 0.5224 - val_accuracy: 0.7564\n",
            "Epoch 5/20\n",
            "313/313 [==============================] - 8s 25ms/step - loss: 0.4966 - accuracy: 0.7815 - val_loss: 0.5057 - val_accuracy: 0.7684\n",
            "Epoch 6/20\n",
            "313/313 [==============================] - 10s 32ms/step - loss: 0.4864 - accuracy: 0.7875 - val_loss: 0.5039 - val_accuracy: 0.7682\n",
            "Epoch 7/20\n",
            "313/313 [==============================] - 9s 30ms/step - loss: 0.4774 - accuracy: 0.7901 - val_loss: 0.4899 - val_accuracy: 0.7770\n",
            "Epoch 8/20\n",
            "313/313 [==============================] - 9s 30ms/step - loss: 0.4697 - accuracy: 0.7956 - val_loss: 0.4924 - val_accuracy: 0.7698\n",
            "Epoch 9/20\n",
            "313/313 [==============================] - 11s 36ms/step - loss: 0.4637 - accuracy: 0.7964 - val_loss: 0.4865 - val_accuracy: 0.7756\n",
            "Epoch 10/20\n",
            "313/313 [==============================] - 8s 27ms/step - loss: 0.4574 - accuracy: 0.8013 - val_loss: 0.4798 - val_accuracy: 0.7780\n",
            "Epoch 11/20\n",
            "313/313 [==============================] - 10s 33ms/step - loss: 0.4517 - accuracy: 0.8040 - val_loss: 0.4779 - val_accuracy: 0.7800\n",
            "Epoch 12/20\n",
            "313/313 [==============================] - 9s 30ms/step - loss: 0.4479 - accuracy: 0.8060 - val_loss: 0.4753 - val_accuracy: 0.7786\n",
            "Epoch 13/20\n",
            "313/313 [==============================] - 8s 25ms/step - loss: 0.4430 - accuracy: 0.8076 - val_loss: 0.4729 - val_accuracy: 0.7844\n",
            "Epoch 14/20\n",
            "313/313 [==============================] - 8s 25ms/step - loss: 0.4385 - accuracy: 0.8103 - val_loss: 0.4706 - val_accuracy: 0.7812\n",
            "Epoch 15/20\n",
            "313/313 [==============================] - 8s 27ms/step - loss: 0.4351 - accuracy: 0.8144 - val_loss: 0.4764 - val_accuracy: 0.7786\n",
            "Epoch 16/20\n",
            "313/313 [==============================] - 12s 38ms/step - loss: 0.4321 - accuracy: 0.8140 - val_loss: 0.4741 - val_accuracy: 0.7818\n",
            "Epoch 17/20\n",
            "313/313 [==============================] - 10s 31ms/step - loss: 0.4288 - accuracy: 0.8153 - val_loss: 0.4705 - val_accuracy: 0.7818\n",
            "Epoch 18/20\n",
            "313/313 [==============================] - 11s 36ms/step - loss: 0.4257 - accuracy: 0.8172 - val_loss: 0.4659 - val_accuracy: 0.7838\n",
            "Epoch 19/20\n",
            "313/313 [==============================] - 11s 34ms/step - loss: 0.4228 - accuracy: 0.8178 - val_loss: 0.4666 - val_accuracy: 0.7856\n",
            "Epoch 20/20\n",
            "313/313 [==============================] - 8s 26ms/step - loss: 0.4200 - accuracy: 0.8195 - val_loss: 0.4630 - val_accuracy: 0.7840\n"
          ]
        }
      ]
    },
    {
      "cell_type": "code",
      "source": [
        "plt.plot(hy.history['loss'],color='g')\n",
        "plt.plot(hy.history['val_loss'])"
      ],
      "metadata": {
        "colab": {
          "base_uri": "https://localhost:8080/",
          "height": 283
        },
        "id": "ca7GZY3Lmx0W",
        "outputId": "52b559d0-9195-49b7-8449-4e4998b3d3de"
      },
      "execution_count": null,
      "outputs": [
        {
          "output_type": "execute_result",
          "data": {
            "text/plain": [
              "[<matplotlib.lines.Line2D at 0x7f9360b67410>]"
            ]
          },
          "metadata": {},
          "execution_count": 125
        },
        {
          "output_type": "display_data",
          "data": {
            "text/plain": [
              "<Figure size 432x288 with 1 Axes>"
            ],
            "image/png": "[encoded data removed]"
          },
          "metadata": {
            "needs_background": "light"
          }
        }
      ]
    },
    {
      "cell_type": "code",
      "source": [
        "# import numpy as np\n",
        "# l = np.array( [len(x) for x in t_x ])\n",
        "# np.max(l)   # 1854 개"
      ],
      "metadata": {
        "id": "J-u23TKFm4F9"
      },
      "execution_count": null,
      "outputs": []
    },
    {
      "cell_type": "code",
      "source": [
        ""
      ],
      "metadata": {
        "id": "HJ7Fu8kqv_nI"
      },
      "execution_count": null,
      "outputs": []
    },
    {
      "cell_type": "code",
      "source": [
        ""
      ],
      "metadata": {
        "id": "OJZQgovuv_re"
      },
      "execution_count": null,
      "outputs": []
    },
    {
      "cell_type": "code",
      "source": [
        ""
      ],
      "metadata": {
        "id": "Xg6HigYYv_vI"
      },
      "execution_count": null,
      "outputs": []
    },
    {
      "cell_type": "code",
      "source": [
        "# RNN 의 문제\n",
        "    불안정한 그레이디언트문제\n",
        "    학습이지속되면 ㅇ이전기억의소실\n",
        "    과거학습요소상실\n",
        "    단기기억문제\n",
        "\n",
        "> 기본 RNN은 사용하지 않는다.\n",
        "\n",
        "> cell 을 보완하는 방법으로 해결\n",
        "\n",
        "# 단기기억문제해결하기\n",
        "    장단기메모리 LSTM  cell  (cell모양이바뀜)\n",
        "    핍홀 연결\n",
        "    게이트순환유닛 GRU cell (cell모양이바뀜)\n",
        "    1D 합성곱 층을 사용해 시퀀스 처리하기\n",
        "    WAVENET\n",
        "\n",
        "    gru,  lstm    히든풋의 경우 1/2씩 줄어든다고 하면 자꾸돌면 계속 줄어드는데\n",
        "                  지알유랑 엘엣스티엠은 인풋을 1/2로 같이 줄여서 비율을 맞춰준다\n",
        "                  이 비율은 순환하면 조금씩 줄긴해서 단기기억문제를 완전히 해결한 것은 아니다 \n",
        "\n",
        "\n"
      ],
      "metadata": {
        "id": "WnyaeM4hv_zS"
      },
      "execution_count": null,
      "outputs": []
    }
  ]
}