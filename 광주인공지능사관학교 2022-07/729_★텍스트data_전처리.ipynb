{
  "nbformat": 4,
  "nbformat_minor": 0,
  "metadata": {
    "colab": {
      "name": "729 ★텍스트data 전처리",
      "provenance": []
    },
    "kernelspec": {
      "name": "python3",
      "display_name": "Python 3"
    },
    "language_info": {
      "name": "python"
    }
  },
  "cells": [
    {
      "cell_type": "code",
      "source": [
        "! pip install kss konlpy"
      ],
      "metadata": {
        "colab": {
          "base_uri": "https://localhost:8080/"
        },
        "id": "o166z8LhttE_",
        "outputId": "7588a9c8-1c5c-4f4f-b1df-3b5e072b4650"
      },
      "execution_count": 1,
      "outputs": [
        {
          "output_type": "stream",
          "name": "stdout",
          "text": [
            "Looking in indexes: https://pypi.org/simple, https://us-python.pkg.dev/colab-wheels/public/simple/\n",
            "Requirement already satisfied: kss in /usr/local/lib/python3.7/dist-packages (3.4.3)\n",
            "Requirement already satisfied: konlpy in /usr/local/lib/python3.7/dist-packages (0.6.0)\n",
            "Requirement already satisfied: more-itertools in /usr/local/lib/python3.7/dist-packages (from kss) (8.13.0)\n",
            "Requirement already satisfied: emoji==1.2.0 in /usr/local/lib/python3.7/dist-packages (from kss) (1.2.0)\n",
            "Requirement already satisfied: regex in /usr/local/lib/python3.7/dist-packages (from kss) (2022.6.2)\n",
            "Requirement already satisfied: JPype1>=0.7.0 in /usr/local/lib/python3.7/dist-packages (from konlpy) (1.4.0)\n",
            "Requirement already satisfied: numpy>=1.6 in /usr/local/lib/python3.7/dist-packages (from konlpy) (1.21.6)\n",
            "Requirement already satisfied: lxml>=4.1.0 in /usr/local/lib/python3.7/dist-packages (from konlpy) (4.2.6)\n",
            "Requirement already satisfied: typing-extensions in /usr/local/lib/python3.7/dist-packages (from JPype1>=0.7.0->konlpy) (4.1.1)\n"
          ]
        }
      ]
    },
    {
      "cell_type": "code",
      "execution_count": 2,
      "metadata": {
        "id": "mkRRcu5vtY03"
      },
      "outputs": [],
      "source": [
        "import nltk, kss, konlpy       # nltk 영어분석기   konlpy한국어분석기"
      ]
    },
    {
      "cell_type": "code",
      "source": [
        "nltk.__version__,konlpy.__version__"
      ],
      "metadata": {
        "colab": {
          "base_uri": "https://localhost:8080/"
        },
        "id": "G6Eics78uBQm",
        "outputId": "52b4d575-517a-4300-8957-21f2e9b801e8"
      },
      "execution_count": 3,
      "outputs": [
        {
          "output_type": "execute_result",
          "data": {
            "text/plain": [
              "('3.7', '0.6.0')"
            ]
          },
          "metadata": {},
          "execution_count": 3
        }
      ]
    },
    {
      "cell_type": "code",
      "source": [
        "from tensorflow.keras.preprocessing.text import text_to_word_sequence #<토크나이저??;토큰화;잘라주는\n",
        "from nltk.tokenize import word_tokenize # 토크나이저\n",
        "from nltk.tokenize import WordPunctTokenizer #토크나이저"
      ],
      "metadata": {
        "id": "j2sbRi8mub6v"
      },
      "execution_count": 4,
      "outputs": []
    },
    {
      "cell_type": "code",
      "source": [
        "nltk.download('punkt')\n",
        "nltk.download('averaged_perceptron_tagger')"
      ],
      "metadata": {
        "colab": {
          "base_uri": "https://localhost:8080/"
        },
        "id": "gwvUzzNSwO54",
        "outputId": "cdc93636-e5e7-442b-e5f6-c6464f5e1c58"
      },
      "execution_count": 5,
      "outputs": [
        {
          "output_type": "stream",
          "name": "stderr",
          "text": [
            "[nltk_data] Downloading package punkt to /root/nltk_data...\n",
            "[nltk_data]   Package punkt is already up-to-date!\n",
            "[nltk_data] Downloading package averaged_perceptron_tagger to\n",
            "[nltk_data]     /root/nltk_data...\n",
            "[nltk_data]   Package averaged_perceptron_tagger is already up-to-\n",
            "[nltk_data]       date!\n"
          ]
        },
        {
          "output_type": "execute_result",
          "data": {
            "text/plain": [
              "True"
            ]
          },
          "metadata": {},
          "execution_count": 5
        }
      ]
    },
    {
      "cell_type": "code",
      "source": [
        "d=\"the as you with out themselves powerful lets loves their becomes reaching had journalist of lot from anyone to have after out atmosphere never more room titillate it so heart shows to years of every never going villaronga help moments or of every\"\n",
        "\n"
      ],
      "metadata": {
        "id": "LhREsHtwvmVf"
      },
      "execution_count": 6,
      "outputs": []
    },
    {
      "cell_type": "code",
      "source": [
        "word_tokenize(d)"
      ],
      "metadata": {
        "colab": {
          "base_uri": "https://localhost:8080/"
        },
        "id": "Lq0Y6FAUwH-9",
        "outputId": "1ce359ee-9774-4b2a-ae42-232b7655e948"
      },
      "execution_count": 7,
      "outputs": [
        {
          "output_type": "execute_result",
          "data": {
            "text/plain": [
              "['the',\n",
              " 'as',\n",
              " 'you',\n",
              " 'with',\n",
              " 'out',\n",
              " 'themselves',\n",
              " 'powerful',\n",
              " 'lets',\n",
              " 'loves',\n",
              " 'their',\n",
              " 'becomes',\n",
              " 'reaching',\n",
              " 'had',\n",
              " 'journalist',\n",
              " 'of',\n",
              " 'lot',\n",
              " 'from',\n",
              " 'anyone',\n",
              " 'to',\n",
              " 'have',\n",
              " 'after',\n",
              " 'out',\n",
              " 'atmosphere',\n",
              " 'never',\n",
              " 'more',\n",
              " 'room',\n",
              " 'titillate',\n",
              " 'it',\n",
              " 'so',\n",
              " 'heart',\n",
              " 'shows',\n",
              " 'to',\n",
              " 'years',\n",
              " 'of',\n",
              " 'every',\n",
              " 'never',\n",
              " 'going',\n",
              " 'villaronga',\n",
              " 'help',\n",
              " 'moments',\n",
              " 'or',\n",
              " 'of',\n",
              " 'every']"
            ]
          },
          "metadata": {},
          "execution_count": 7
        }
      ]
    },
    {
      "cell_type": "code",
      "source": [
        "len(word_tokenize(d))"
      ],
      "metadata": {
        "colab": {
          "base_uri": "https://localhost:8080/"
        },
        "id": "8dEo-QRvvpLy",
        "outputId": "cb3c359a-cd5a-4070-ffed-51712f233337"
      },
      "execution_count": 8,
      "outputs": [
        {
          "output_type": "execute_result",
          "data": {
            "text/plain": [
              "43"
            ]
          },
          "metadata": {},
          "execution_count": 8
        }
      ]
    },
    {
      "cell_type": "code",
      "source": [
        "WordPunctTokenizer().tokenize(d)  #대문자니까클래스 > 인스턴스가필요하다"
      ],
      "metadata": {
        "colab": {
          "base_uri": "https://localhost:8080/"
        },
        "id": "Igi6QnYBvpW0",
        "outputId": "255675b7-06da-4b70-c4f5-79c89ce9cf7e"
      },
      "execution_count": 9,
      "outputs": [
        {
          "output_type": "execute_result",
          "data": {
            "text/plain": [
              "['the',\n",
              " 'as',\n",
              " 'you',\n",
              " 'with',\n",
              " 'out',\n",
              " 'themselves',\n",
              " 'powerful',\n",
              " 'lets',\n",
              " 'loves',\n",
              " 'their',\n",
              " 'becomes',\n",
              " 'reaching',\n",
              " 'had',\n",
              " 'journalist',\n",
              " 'of',\n",
              " 'lot',\n",
              " 'from',\n",
              " 'anyone',\n",
              " 'to',\n",
              " 'have',\n",
              " 'after',\n",
              " 'out',\n",
              " 'atmosphere',\n",
              " 'never',\n",
              " 'more',\n",
              " 'room',\n",
              " 'titillate',\n",
              " 'it',\n",
              " 'so',\n",
              " 'heart',\n",
              " 'shows',\n",
              " 'to',\n",
              " 'years',\n",
              " 'of',\n",
              " 'every',\n",
              " 'never',\n",
              " 'going',\n",
              " 'villaronga',\n",
              " 'help',\n",
              " 'moments',\n",
              " 'or',\n",
              " 'of',\n",
              " 'every']"
            ]
          },
          "metadata": {},
          "execution_count": 9
        }
      ]
    },
    {
      "cell_type": "code",
      "source": [
        "d='안녕하세요. 저는 강의 중 입니다'\n",
        "text_to_word_sequence(d)  # 아웃풋을 보면 . 이 날아갔다"
      ],
      "metadata": {
        "colab": {
          "base_uri": "https://localhost:8080/"
        },
        "id": "RiWw4Q5RvsXF",
        "outputId": "7067b97a-1ae2-494f-b4b4-066a50bbe79f"
      },
      "execution_count": 10,
      "outputs": [
        {
          "output_type": "execute_result",
          "data": {
            "text/plain": [
              "['안녕하세요', '저는', '강의', '중', '입니다']"
            ]
          },
          "metadata": {},
          "execution_count": 10
        }
      ]
    },
    {
      "cell_type": "code",
      "source": [
        "d=\"Don't the as you with out themselves powerful lets loves their becomes reaching had journalist of lot from anyone to have after out atmosphere never more room titillate it so heart shows to years of every never going villaronga help moments or of every\"\n",
        "\n",
        "\n",
        "from nltk.tokenize import TreebankWordTokenizer\n",
        "TreebankWordTokenizer().tokenize(d), word_tokenize(d), WordPunctTokenizer().tokenize(d)  #자르는 방식이 다르다 don't"
      ],
      "metadata": {
        "colab": {
          "base_uri": "https://localhost:8080/"
        },
        "id": "zidqnqW1vsb8",
        "outputId": "e3d5b4bc-3603-495f-ff42-cf2d79043c23"
      },
      "execution_count": 11,
      "outputs": [
        {
          "output_type": "execute_result",
          "data": {
            "text/plain": [
              "(['Do',\n",
              "  \"n't\",\n",
              "  'the',\n",
              "  'as',\n",
              "  'you',\n",
              "  'with',\n",
              "  'out',\n",
              "  'themselves',\n",
              "  'powerful',\n",
              "  'lets',\n",
              "  'loves',\n",
              "  'their',\n",
              "  'becomes',\n",
              "  'reaching',\n",
              "  'had',\n",
              "  'journalist',\n",
              "  'of',\n",
              "  'lot',\n",
              "  'from',\n",
              "  'anyone',\n",
              "  'to',\n",
              "  'have',\n",
              "  'after',\n",
              "  'out',\n",
              "  'atmosphere',\n",
              "  'never',\n",
              "  'more',\n",
              "  'room',\n",
              "  'titillate',\n",
              "  'it',\n",
              "  'so',\n",
              "  'heart',\n",
              "  'shows',\n",
              "  'to',\n",
              "  'years',\n",
              "  'of',\n",
              "  'every',\n",
              "  'never',\n",
              "  'going',\n",
              "  'villaronga',\n",
              "  'help',\n",
              "  'moments',\n",
              "  'or',\n",
              "  'of',\n",
              "  'every'],\n",
              " ['Do',\n",
              "  \"n't\",\n",
              "  'the',\n",
              "  'as',\n",
              "  'you',\n",
              "  'with',\n",
              "  'out',\n",
              "  'themselves',\n",
              "  'powerful',\n",
              "  'lets',\n",
              "  'loves',\n",
              "  'their',\n",
              "  'becomes',\n",
              "  'reaching',\n",
              "  'had',\n",
              "  'journalist',\n",
              "  'of',\n",
              "  'lot',\n",
              "  'from',\n",
              "  'anyone',\n",
              "  'to',\n",
              "  'have',\n",
              "  'after',\n",
              "  'out',\n",
              "  'atmosphere',\n",
              "  'never',\n",
              "  'more',\n",
              "  'room',\n",
              "  'titillate',\n",
              "  'it',\n",
              "  'so',\n",
              "  'heart',\n",
              "  'shows',\n",
              "  'to',\n",
              "  'years',\n",
              "  'of',\n",
              "  'every',\n",
              "  'never',\n",
              "  'going',\n",
              "  'villaronga',\n",
              "  'help',\n",
              "  'moments',\n",
              "  'or',\n",
              "  'of',\n",
              "  'every'],\n",
              " ['Don',\n",
              "  \"'\",\n",
              "  't',\n",
              "  'the',\n",
              "  'as',\n",
              "  'you',\n",
              "  'with',\n",
              "  'out',\n",
              "  'themselves',\n",
              "  'powerful',\n",
              "  'lets',\n",
              "  'loves',\n",
              "  'their',\n",
              "  'becomes',\n",
              "  'reaching',\n",
              "  'had',\n",
              "  'journalist',\n",
              "  'of',\n",
              "  'lot',\n",
              "  'from',\n",
              "  'anyone',\n",
              "  'to',\n",
              "  'have',\n",
              "  'after',\n",
              "  'out',\n",
              "  'atmosphere',\n",
              "  'never',\n",
              "  'more',\n",
              "  'room',\n",
              "  'titillate',\n",
              "  'it',\n",
              "  'so',\n",
              "  'heart',\n",
              "  'shows',\n",
              "  'to',\n",
              "  'years',\n",
              "  'of',\n",
              "  'every',\n",
              "  'never',\n",
              "  'going',\n",
              "  'villaronga',\n",
              "  'help',\n",
              "  'moments',\n",
              "  'or',\n",
              "  'of',\n",
              "  'every'])"
            ]
          },
          "metadata": {},
          "execution_count": 11
        }
      ]
    },
    {
      "cell_type": "code",
      "source": [
        "d2 =  \"Don't the as you with out themselves powerful lets loves their becomes reaching had journalist of lot from anyone to have after out atmosphere never more room titillate it so heart shows to years of every never going villaronga help moments or of every\"\n"
      ],
      "metadata": {
        "id": "Rwfa0yMUvsgM"
      },
      "execution_count": 12,
      "outputs": []
    },
    {
      "cell_type": "code",
      "source": [
        "d_k='안녕하십니까. 저는 오늘 강의 중입니다. 어렵나요? 보죠.'"
      ],
      "metadata": {
        "id": "RsdWps4Jyvuv"
      },
      "execution_count": 13,
      "outputs": []
    },
    {
      "cell_type": "code",
      "source": [
        "#문장토큰 센트토크나이즈"
      ],
      "metadata": {
        "id": "g5YeKaS-zrPX"
      },
      "execution_count": 14,
      "outputs": []
    },
    {
      "cell_type": "code",
      "source": [
        "from nltk.tokenize import sent_tokenize # 영어 토크나이저  인데 한글이되나? #이건 문장토큰  #문장토큰이라 단어토큰보다 문장토큰이 먼저발동한다\n",
        "sent_tokenize(d2)                       #                                   "
      ],
      "metadata": {
        "colab": {
          "base_uri": "https://localhost:8080/"
        },
        "id": "lHxj6i4HvskG",
        "outputId": "936c4b0b-e854-4da3-bbb4-5d43694cf0a8"
      },
      "execution_count": 15,
      "outputs": [
        {
          "output_type": "execute_result",
          "data": {
            "text/plain": [
              "[\"Don't the as you with out themselves powerful lets loves their becomes reaching had journalist of lot from anyone to have after out atmosphere never more room titillate it so heart shows to years of every never going villaronga help moments or of every\"]"
            ]
          },
          "metadata": {},
          "execution_count": 15
        }
      ]
    },
    {
      "cell_type": "code",
      "source": [
        "sent_tokenize(d_k)"
      ],
      "metadata": {
        "colab": {
          "base_uri": "https://localhost:8080/"
        },
        "id": "-JsU27j5vdtm",
        "outputId": "b121654c-67dc-4754-a1ec-6740acb83d8b"
      },
      "execution_count": 16,
      "outputs": [
        {
          "output_type": "execute_result",
          "data": {
            "text/plain": [
              "['안녕하십니까.', '저는 오늘 강의 중입니다.', '어렵나요?', '보죠.']"
            ]
          },
          "metadata": {},
          "execution_count": 16
        }
      ]
    },
    {
      "cell_type": "code",
      "source": [
        "'강'.isalpha() #isalpha()알파벳이맞는지확인 영어/한글"
      ],
      "metadata": {
        "colab": {
          "base_uri": "https://localhost:8080/"
        },
        "id": "OfrmFRfNzJiJ",
        "outputId": "8b1a9b2c-a236-45eb-8951-25cc5c2793ed"
      },
      "execution_count": 17,
      "outputs": [
        {
          "output_type": "execute_result",
          "data": {
            "text/plain": [
              "True"
            ]
          },
          "metadata": {},
          "execution_count": 17
        }
      ]
    },
    {
      "cell_type": "code",
      "source": [
        ""
      ],
      "metadata": {
        "id": "cWNuUXqdz9ne"
      },
      "execution_count": 17,
      "outputs": []
    },
    {
      "cell_type": "code",
      "source": [
        "from nltk.tokenize import word_tokenize #토크나이저로나누고 테그를들어가겟다\n",
        "from nltk.tag import  pos_tag #영어분석기\n",
        "from konlpy.tag import Okt, Kkma #한국어분석 한국어형태소분석기  형태소=tag\n",
        "  #형태소 분석 후 형태소를 기준으로 잘라냄"
      ],
      "metadata": {
        "id": "ab3H6s16z9r_"
      },
      "execution_count": 20,
      "outputs": []
    },
    {
      "cell_type": "code",
      "source": [
        "d=\"Don't the as you with out themselves powerful lets loves their becomes reaching had journalist of lot from anyone to have after out atmosphere never more room titillate it so heart shows to years of every never going villaronga help moments or of every\"\n",
        "k_d='오늘은 인공지능 입니다. 어렵네요.'"
      ],
      "metadata": {
        "id": "mWDtzdNx0bLi"
      },
      "execution_count": 22,
      "outputs": []
    },
    {
      "cell_type": "code",
      "source": [
        "n_t=word_tokenize(d)"
      ],
      "metadata": {
        "id": "bFNs7WIB07Om"
      },
      "execution_count": 23,
      "outputs": []
    },
    {
      "cell_type": "code",
      "source": [
        "pos_tag(n_t) #주어냐목적어냐를 옆에 표기함"
      ],
      "metadata": {
        "colab": {
          "base_uri": "https://localhost:8080/"
        },
        "id": "Jo301cl00-Bq",
        "outputId": "d9c8f5ee-7286-4a0c-cdd6-8fb53ef0f9af"
      },
      "execution_count": 24,
      "outputs": [
        {
          "output_type": "execute_result",
          "data": {
            "text/plain": [
              "[('Do', 'VBP'),\n",
              " (\"n't\", 'RB'),\n",
              " ('the', 'DT'),\n",
              " ('as', 'IN'),\n",
              " ('you', 'PRP'),\n",
              " ('with', 'IN'),\n",
              " ('out', 'RP'),\n",
              " ('themselves', 'PRP'),\n",
              " ('powerful', 'JJ'),\n",
              " ('lets', 'NNS'),\n",
              " ('loves', 'VBZ'),\n",
              " ('their', 'PRP$'),\n",
              " ('becomes', 'NNS'),\n",
              " ('reaching', 'VBG'),\n",
              " ('had', 'VBD'),\n",
              " ('journalist', 'NN'),\n",
              " ('of', 'IN'),\n",
              " ('lot', 'NN'),\n",
              " ('from', 'IN'),\n",
              " ('anyone', 'NN'),\n",
              " ('to', 'TO'),\n",
              " ('have', 'VB'),\n",
              " ('after', 'IN'),\n",
              " ('out', 'RP'),\n",
              " ('atmosphere', 'RB'),\n",
              " ('never', 'RB'),\n",
              " ('more', 'JJR'),\n",
              " ('room', 'NN'),\n",
              " ('titillate', 'NN'),\n",
              " ('it', 'PRP'),\n",
              " ('so', 'IN'),\n",
              " ('heart', 'NN'),\n",
              " ('shows', 'VBZ'),\n",
              " ('to', 'TO'),\n",
              " ('years', 'NNS'),\n",
              " ('of', 'IN'),\n",
              " ('every', 'DT'),\n",
              " ('never', 'RB'),\n",
              " ('going', 'VBG'),\n",
              " ('villaronga', 'NN'),\n",
              " ('help', 'NN'),\n",
              " ('moments', 'NNS'),\n",
              " ('or', 'CC'),\n",
              " ('of', 'IN'),\n",
              " ('every', 'DT')]"
            ]
          },
          "metadata": {},
          "execution_count": 24
        }
      ]
    },
    {
      "cell_type": "code",
      "source": [
        "# Okt # 대문자 클래스 - 인스턴스객체를만들어야한다\n",
        "k_n=Okt()\n",
        "k_n.morphs(k_d) #형태소를기준으로단어들만보겟다   여기서단어란명사가 아니라 잘라낸워드를뜻함\n"
      ],
      "metadata": {
        "colab": {
          "base_uri": "https://localhost:8080/"
        },
        "id": "-10vb1S70V6L",
        "outputId": "93180d42-a4d1-4b5a-ae1d-7f8e06c9a6a6"
      },
      "execution_count": 25,
      "outputs": [
        {
          "output_type": "execute_result",
          "data": {
            "text/plain": [
              "['오늘', '은', '인공', '지능', '입니다', '.', '어렵네요', '.']"
            ]
          },
          "metadata": {},
          "execution_count": 25
        }
      ]
    },
    {
      "cell_type": "code",
      "source": [
        "k_n.pos(k_d) #pos 품사태깅"
      ],
      "metadata": {
        "colab": {
          "base_uri": "https://localhost:8080/"
        },
        "id": "zE9cVRW91uCW",
        "outputId": "a3a76ad5-065f-4aaa-e1cf-5e4de32a0032"
      },
      "execution_count": 26,
      "outputs": [
        {
          "output_type": "execute_result",
          "data": {
            "text/plain": [
              "[('오늘', 'Noun'),\n",
              " ('은', 'Josa'),\n",
              " ('인공', 'Noun'),\n",
              " ('지능', 'Noun'),\n",
              " ('입니다', 'Adjective'),\n",
              " ('.', 'Punctuation'),\n",
              " ('어렵네요', 'Adjective'),\n",
              " ('.', 'Punctuation')]"
            ]
          },
          "metadata": {},
          "execution_count": 26
        }
      ]
    },
    {
      "cell_type": "code",
      "source": [
        "k_n.nouns(k_d) # 명사만 뽑겟다"
      ],
      "metadata": {
        "colab": {
          "base_uri": "https://localhost:8080/"
        },
        "id": "iZs0Wv6y19z7",
        "outputId": "8f276fa5-3a6e-420c-968c-c94533a21510"
      },
      "execution_count": 27,
      "outputs": [
        {
          "output_type": "execute_result",
          "data": {
            "text/plain": [
              "['오늘', '인공', '지능']"
            ]
          },
          "metadata": {},
          "execution_count": 27
        }
      ]
    },
    {
      "cell_type": "code",
      "source": [
        "k_n2 = Kkma()\n",
        "k_n2.morphs(k_d),k_n2.pos(k_d),k_n2.nouns(k_d)"
      ],
      "metadata": {
        "colab": {
          "base_uri": "https://localhost:8080/"
        },
        "id": "X3mAkF8g2BKa",
        "outputId": "0b78f4d2-3298-4e97-983b-00c9d470fbb6"
      },
      "execution_count": 29,
      "outputs": [
        {
          "output_type": "execute_result",
          "data": {
            "text/plain": [
              "(['오늘', '은', '인공지능', '이', 'ㅂ니다', '.', '어렵', '네요', '.'],\n",
              " [('오늘', 'NNG'),\n",
              "  ('은', 'JX'),\n",
              "  ('인공지능', 'NNG'),\n",
              "  ('이', 'VCP'),\n",
              "  ('ㅂ니다', 'EFN'),\n",
              "  ('.', 'SF'),\n",
              "  ('어렵', 'VV'),\n",
              "  ('네요', 'EFN'),\n",
              "  ('.', 'SF')],\n",
              " ['오늘', '인공', '인공지능', '지능'])"
            ]
          },
          "metadata": {},
          "execution_count": 29
        }
      ]
    },
    {
      "cell_type": "code",
      "source": [
        "k_n = Okt()\n",
        "k_n.morphs(k_d),k_n.pos(k_d),k_n.nouns(k_d)"
      ],
      "metadata": {
        "colab": {
          "base_uri": "https://localhost:8080/"
        },
        "id": "Co9uYjRm7F1G",
        "outputId": "dc5531c0-6e5a-46e7-af3d-433edc5df8ba"
      },
      "execution_count": 30,
      "outputs": [
        {
          "output_type": "execute_result",
          "data": {
            "text/plain": [
              "(['오늘', '은', '인공', '지능', '입니다', '.', '어렵네요', '.'],\n",
              " [('오늘', 'Noun'),\n",
              "  ('은', 'Josa'),\n",
              "  ('인공', 'Noun'),\n",
              "  ('지능', 'Noun'),\n",
              "  ('입니다', 'Adjective'),\n",
              "  ('.', 'Punctuation'),\n",
              "  ('어렵네요', 'Adjective'),\n",
              "  ('.', 'Punctuation')],\n",
              " ['오늘', '인공', '지능'])"
            ]
          },
          "metadata": {},
          "execution_count": 30
        }
      ]
    },
    {
      "cell_type": "code",
      "source": [
        "# 기본적으로 범용적인 Okt 를 쓰자"
      ],
      "metadata": {
        "id": "kkyEmfUq8A4_"
      },
      "execution_count": null,
      "outputs": []
    },
    {
      "cell_type": "code",
      "source": [
        "data = '오늘은 내용이 쉽지는 않군요 그런데 배고파요. 시간은 빠르게 흐르는데 모르겠네요'"
      ],
      "metadata": {
        "id": "bgnDIRrq8yUI"
      },
      "execution_count": 32,
      "outputs": []
    },
    {
      "cell_type": "code",
      "source": [
        "불용어 = '은 는 이 가 요 그런데 배고파요'.split()\n",
        "불용어\n"
      ],
      "metadata": {
        "colab": {
          "base_uri": "https://localhost:8080/"
        },
        "id": "s9qaaGw-88HO",
        "outputId": "80312c48-db64-4018-d846-11cfa27ee63b"
      },
      "execution_count": 33,
      "outputs": [
        {
          "output_type": "execute_result",
          "data": {
            "text/plain": [
              "['은', '는', '이', '가', '요', '그런데', '배고파요']"
            ]
          },
          "metadata": {},
          "execution_count": 33
        }
      ]
    },
    {
      "cell_type": "code",
      "source": [
        "okt= Okt()\n",
        "t_dd = okt.morphs(data)\n",
        "t_dd"
      ],
      "metadata": {
        "colab": {
          "base_uri": "https://localhost:8080/"
        },
        "id": "FsEXHW1V91Li",
        "outputId": "29a816a4-bcf2-47ca-b786-deda718cbb22"
      },
      "execution_count": 35,
      "outputs": [
        {
          "output_type": "execute_result",
          "data": {
            "text/plain": [
              "['오늘',\n",
              " '은',\n",
              " '내용',\n",
              " '이',\n",
              " '쉽지는',\n",
              " '않군요',\n",
              " '그런데',\n",
              " '배고파요',\n",
              " '.',\n",
              " '시간',\n",
              " '은',\n",
              " '빠르게',\n",
              " '흐르는데',\n",
              " '모르겠네요']"
            ]
          },
          "metadata": {},
          "execution_count": 35
        }
      ]
    },
    {
      "cell_type": "code",
      "source": [
        "end_d  =  [i for i in t_dd if not i in 불용어]  # 불용어가 아닌 것만 담겠다.\n",
        "end_d"
      ],
      "metadata": {
        "colab": {
          "base_uri": "https://localhost:8080/"
        },
        "id": "ynofhv7E-Bar",
        "outputId": "44578dc7-4567-48d1-f787-9717f5f50d97"
      },
      "execution_count": 37,
      "outputs": [
        {
          "output_type": "execute_result",
          "data": {
            "text/plain": [
              "['오늘', '내용', '쉽지는', '않군요', '.', '시간', '빠르게', '흐르는데', '모르겠네요']"
            ]
          },
          "metadata": {},
          "execution_count": 37
        }
      ]
    },
    {
      "cell_type": "code",
      "source": [
        "#정규표현식 패키지불러오기\n",
        "import re # 'd.t' 이건 정규표현식 . 가아니고 그냥문자열이니까 정규표현식패키지가필요"
      ],
      "metadata": {
        "id": "LclqkIVn_HoJ"
      },
      "execution_count": 114,
      "outputs": []
    },
    {
      "cell_type": "code",
      "source": [
        "r = re.compile('d.t')  # r 정규표현식장치"
      ],
      "metadata": {
        "id": "TYKIv_VY_g6A"
      },
      "execution_count": 41,
      "outputs": []
    },
    {
      "cell_type": "code",
      "source": [
        "r.search('data')      # 일치하는범위를알려줌   한개의임의의문자를일컷는다"
      ],
      "metadata": {
        "colab": {
          "base_uri": "https://localhost:8080/"
        },
        "id": "l9ujJrdT_oHq",
        "outputId": "c299f006-8e53-486e-d470-41078b28e4a2"
      },
      "execution_count": 43,
      "outputs": [
        {
          "output_type": "execute_result",
          "data": {
            "text/plain": [
              "<re.Match object; span=(0, 3), match='dat'>"
            ]
          },
          "metadata": {},
          "execution_count": 43
        }
      ]
    },
    {
      "cell_type": "code",
      "source": [
        "r = re.compile('d?t')  # r 정규표현식장치  # ?는 물음표앞문자 디가잇어도 되고 없어도된다\n",
        "r.search('dddtt')  #d,t인식                 # t는 기본적으로 잇어야 찾아지고 d는 잇어도되고 없어도된다"
      ],
      "metadata": {
        "colab": {
          "base_uri": "https://localhost:8080/"
        },
        "id": "vuhM1SGm_M8C",
        "outputId": "53f1dd87-a6ac-4233-aa5f-488d283692cc"
      },
      "execution_count": 44,
      "outputs": [
        {
          "output_type": "execute_result",
          "data": {
            "text/plain": [
              "<re.Match object; span=(2, 4), match='dt'>"
            ]
          },
          "metadata": {},
          "execution_count": 44
        }
      ]
    },
    {
      "cell_type": "code",
      "source": [
        "r.search('ddddttttttt')"
      ],
      "metadata": {
        "colab": {
          "base_uri": "https://localhost:8080/"
        },
        "id": "YMMHBmYjARCK",
        "outputId": "1714b596-8af1-4e7f-f280-07736231388c"
      },
      "execution_count": 63,
      "outputs": [
        {
          "output_type": "execute_result",
          "data": {
            "text/plain": [
              "<re.Match object; span=(3, 5), match='dt'>"
            ]
          },
          "metadata": {},
          "execution_count": 63
        }
      ]
    },
    {
      "cell_type": "code",
      "source": [
        "r.search('ddddt')"
      ],
      "metadata": {
        "colab": {
          "base_uri": "https://localhost:8080/"
        },
        "id": "6v40tk1DAY9u",
        "outputId": "d41ae4c6-3346-4307-819b-cb9d4b8a55a0"
      },
      "execution_count": 93,
      "outputs": [
        {
          "output_type": "execute_result",
          "data": {
            "text/plain": [
              "<re.Match object; span=(0, 5), match='ddddt'>"
            ]
          },
          "metadata": {},
          "execution_count": 93
        }
      ]
    },
    {
      "cell_type": "code",
      "source": [
        "r = re.compile('d*t')            # t는 끝에 잇어야 하고 앞에 d는 무한대로 잇어도 되고 없어도 상관 없다\n",
        "r.search('dddddt')  #  (0,6) 은 시작부터끝까지 "
      ],
      "metadata": {
        "colab": {
          "base_uri": "https://localhost:8080/",
          "height": 136
        },
        "id": "0NOGs0NfA21O",
        "outputId": "43d39ffe-c509-4b44-9eab-90799ce0bb28"
      },
      "execution_count": 92,
      "outputs": [
        {
          "output_type": "error",
          "ename": "SyntaxError",
          "evalue": "ignored",
          "traceback": [
            "\u001b[0;36m  File \u001b[0;32m\"<ipython-input-92-97eda69a0075>\"\u001b[0;36m, line \u001b[0;32m2\u001b[0m\n\u001b[0;31m    r.search('dddddt')    (0,6) 은 시작부터끝까지\u001b[0m\n\u001b[0m                                ^\u001b[0m\n\u001b[0;31mSyntaxError\u001b[0m\u001b[0;31m:\u001b[0m invalid syntax\n"
          ]
        }
      ]
    },
    {
      "cell_type": "code",
      "source": [
        "r = re.compile('d*t')\n",
        "r.search('ttttttt')    "
      ],
      "metadata": {
        "colab": {
          "base_uri": "https://localhost:8080/"
        },
        "id": "iOU0jHB3BKGG",
        "outputId": "06888a8b-8581-4e06-c9ce-84bf2a106a84"
      },
      "execution_count": 91,
      "outputs": [
        {
          "output_type": "execute_result",
          "data": {
            "text/plain": [
              "<re.Match object; span=(0, 1), match='t'>"
            ]
          },
          "metadata": {},
          "execution_count": 91
        }
      ]
    },
    {
      "cell_type": "code",
      "source": [
        "r = re.compile('d+t')  #티 앞에 d가 최소 한개는 잇어야 인식\n",
        "r.search('ddddddddddttttttt')    "
      ],
      "metadata": {
        "colab": {
          "base_uri": "https://localhost:8080/"
        },
        "id": "86IkpMXOBeQT",
        "outputId": "af6903bb-2ae1-45d6-c45f-b21fec30513a"
      },
      "execution_count": 90,
      "outputs": [
        {
          "output_type": "execute_result",
          "data": {
            "text/plain": [
              "<re.Match object; span=(0, 11), match='ddddddddddt'>"
            ]
          },
          "metadata": {},
          "execution_count": 90
        }
      ]
    },
    {
      "cell_type": "code",
      "source": [
        "r = re.compile('^ds')  #앞이 ds여야 인식\n",
        "r.search('ds')    "
      ],
      "metadata": {
        "colab": {
          "base_uri": "https://localhost:8080/"
        },
        "id": "cI7F0P1hBy1A",
        "outputId": "666b875c-06ab-41f4-cf42-9bf97146f339"
      },
      "execution_count": 95,
      "outputs": [
        {
          "output_type": "execute_result",
          "data": {
            "text/plain": [
              "<re.Match object; span=(0, 2), match='ds'>"
            ]
          },
          "metadata": {},
          "execution_count": 95
        }
      ]
    },
    {
      "cell_type": "code",
      "source": [
        "data=' ?'\n",
        "data.replace('^ +','')                 #  ^   뒤의문자열로 문자열이 시작합니다  >  즉 공백으로 시작하는지 보는 표현식\n",
        "#공백으로 시작하는 것이 맞으니 인식         # [^문자] : 해당문자를제외한문자를매치"
      ],
      "metadata": {
        "colab": {
          "base_uri": "https://localhost:8080/",
          "height": 35
        },
        "id": "pvSvsVA_CAKo",
        "outputId": "77e4af43-b154-426b-ab21-49a7c6abe97e"
      },
      "execution_count": 119,
      "outputs": [
        {
          "output_type": "execute_result",
          "data": {
            "text/plain": [
              "' ?'"
            ],
            "application/vnd.google.colaboratory.intrinsic+json": {
              "type": "string"
            }
          },
          "metadata": {},
          "execution_count": 119
        }
      ]
    },
    {
      "cell_type": "code",
      "source": [
        "data=' ?'\n",
        "r = re.compile('^ ')  \n",
        "if r.search(data):  # 공백으로시작하는지조건으로걸엇다\n",
        "    print('실행') "
      ],
      "metadata": {
        "colab": {
          "base_uri": "https://localhost:8080/"
        },
        "id": "G3ixdqLHCXne",
        "outputId": "53313b8c-0db1-4192-b7c8-c5dfa815efbe"
      },
      "execution_count": 111,
      "outputs": [
        {
          "output_type": "stream",
          "name": "stdout",
          "text": [
            "실행\n"
          ]
        }
      ]
    },
    {
      "cell_type": "code",
      "source": [
        "#특정 변수 앞의 공백을 제거하는 슬라이싱\n",
        "#정규표현식 패키지불러오기\n",
        "import re # 'd.t' 이건 정규표현식 . 가아니고 그냥문자열이니까 정규표현식패키지가필요\n",
        "data=' ?'\n",
        "r = re.compile('^ ')             #  ^해당문자를제외한\n",
        "if r.search(data):\n",
        "    data =data[1:]\n",
        "data  #0인덱을 날리는 전처리\n",
        "    "
      ],
      "metadata": {
        "colab": {
          "base_uri": "https://localhost:8080/",
          "height": 35
        },
        "id": "IttQc19oCu26",
        "outputId": "b8b97296-320a-4b67-8ed5-ef2a1e86d210"
      },
      "execution_count": 212,
      "outputs": [
        {
          "output_type": "execute_result",
          "data": {
            "text/plain": [
              "'?'"
            ],
            "application/vnd.google.colaboratory.intrinsic+json": {
              "type": "string"
            }
          },
          "metadata": {},
          "execution_count": 212
        }
      ]
    },
    {
      "cell_type": "code",
      "source": [
        ""
      ],
      "metadata": {
        "colab": {
          "base_uri": "https://localhost:8080/",
          "height": 209
        },
        "id": "7xJbwm9NSvxl",
        "outputId": "c427eedd-bb4e-45a1-ccd2-9fe7b2f8b3f3"
      },
      "execution_count": 211,
      "outputs": [
        {
          "output_type": "error",
          "ename": "NameError",
          "evalue": "ignored",
          "traceback": [
            "\u001b[0;31m---------------------------------------------------------------------------\u001b[0m",
            "\u001b[0;31mNameError\u001b[0m                                 Traceback (most recent call last)",
            "\u001b[0;32m<ipython-input-211-6636562e19b8>\u001b[0m in \u001b[0;36m<module>\u001b[0;34m()\u001b[0m\n\u001b[1;32m      1\u001b[0m \u001b[0mdata\u001b[0m\u001b[0;34m=\u001b[0m\u001b[0;34m' ?'\u001b[0m\u001b[0;34m\u001b[0m\u001b[0;34m\u001b[0m\u001b[0m\n\u001b[0;32m----> 2\u001b[0;31m \u001b[0mdf\u001b[0m\u001b[0;34m[\u001b[0m\u001b[0;34m'key'\u001b[0m\u001b[0;34m]\u001b[0m \u001b[0;34m=\u001b[0m \u001b[0mdf\u001b[0m\u001b[0;34m.\u001b[0m\u001b[0mkey\u001b[0m\u001b[0;34m.\u001b[0m\u001b[0mstr\u001b[0m\u001b[0;34m.\u001b[0m\u001b[0mreplace\u001b[0m\u001b[0;34m(\u001b[0m\u001b[0;34m'^ '\u001b[0m\u001b[0;34m,\u001b[0m\u001b[0mdata\u001b[0m\u001b[0;34m[\u001b[0m\u001b[0;36m1\u001b[0m\u001b[0;34m:\u001b[0m\u001b[0;34m]\u001b[0m\u001b[0;34m)\u001b[0m\u001b[0;34m\u001b[0m\u001b[0;34m\u001b[0m\u001b[0m\n\u001b[0m\u001b[1;32m      3\u001b[0m \u001b[0mdata\u001b[0m\u001b[0;34m\u001b[0m\u001b[0;34m\u001b[0m\u001b[0m\n",
            "\u001b[0;31mNameError\u001b[0m: name 'df' is not defined"
          ]
        }
      ]
    },
    {
      "cell_type": "code",
      "source": [
        "#데이터프레임에서 시리즈 쭉 뽑아서 앞 공백 없애기  ' ㄴㅇㄹㄴㅇㄹ'"
      ],
      "metadata": {
        "id": "Uz0mTrqvEwJR"
      },
      "execution_count": null,
      "outputs": []
    },
    {
      "cell_type": "code",
      "source": [
        "df['key'] = df.key.str.replace('^ ', '')  # '^ ' 이조건에 맞을 때   ''  이렇게 바꿔준다   #공백으로 시작하는 밸류들은 공백을 없앤다\n",
        "                            # 공백 1개로 시작하는 걸 찾고 ' ' 공백하나가 조건이니까 뒤에서 '' 하면 딱 맨 앞의 공백 하나만 제거된다 (pd로 확인)\n",
        "                          # '^ ' 이건 맨 앞이 공백인지 확인하는 조건, ''은 공백을 지운다  \n",
        "df['key'] = df.key.str.replace('^ ', )   \n",
        "\n",
        "df['key'] = df.key.str.replace('^ +', ) # 공백이있고 뒤에문자가붙은거 \n",
        "#데이터프레임에서 시리즈가지고와서 문자에서 대체한다  앞은조건 뒤는 바꿀것\n"
      ],
      "metadata": {
        "id": "ekUItrSNDH5D"
      },
      "execution_count": null,
      "outputs": []
    },
    {
      "cell_type": "code",
      "source": [
        "import pandas as pd\n",
        "b= pd.DataFrame({'key':['abdddd   ', 122,' a','  aa',' a ']})\n",
        "b"
      ],
      "metadata": {
        "colab": {
          "base_uri": "https://localhost:8080/",
          "height": 206
        },
        "id": "ewxMV31sHT4w",
        "outputId": "8624f4e8-a3ac-4b0a-9bb9-d4457591eed6"
      },
      "execution_count": 250,
      "outputs": [
        {
          "output_type": "execute_result",
          "data": {
            "text/plain": [
              "         key\n",
              "0  abdddd   \n",
              "1        122\n",
              "2          a\n",
              "3         aa\n",
              "4         a "
            ],
            "text/html": [
              "\n",
              "  <div id=\"df-66a59def-8c94-495a-aa65-171afb9f9ea2\">\n",
              "    <div class=\"colab-df-container\">\n",
              "      <div>\n",
              "<style scoped>\n",
              "    .dataframe tbody tr th:only-of-type {\n",
              "        vertical-align: middle;\n",
              "    }\n",
              "\n",
              "    .dataframe tbody tr th {\n",
              "        vertical-align: top;\n",
              "    }\n",
              "\n",
              "    .dataframe thead th {\n",
              "        text-align: right;\n",
              "    }\n",
              "</style>\n",
              "<table border=\"1\" class=\"dataframe\">\n",
              "  <thead>\n",
              "    <tr style=\"text-align: right;\">\n",
              "      <th></th>\n",
              "      <th>key</th>\n",
              "    </tr>\n",
              "  </thead>\n",
              "  <tbody>\n",
              "    <tr>\n",
              "      <th>0</th>\n",
              "      <td>abdddd</td>\n",
              "    </tr>\n",
              "    <tr>\n",
              "      <th>1</th>\n",
              "      <td>122</td>\n",
              "    </tr>\n",
              "    <tr>\n",
              "      <th>2</th>\n",
              "      <td>a</td>\n",
              "    </tr>\n",
              "    <tr>\n",
              "      <th>3</th>\n",
              "      <td>aa</td>\n",
              "    </tr>\n",
              "    <tr>\n",
              "      <th>4</th>\n",
              "      <td>a</td>\n",
              "    </tr>\n",
              "  </tbody>\n",
              "</table>\n",
              "</div>\n",
              "      <button class=\"colab-df-convert\" onclick=\"convertToInteractive('df-66a59def-8c94-495a-aa65-171afb9f9ea2')\"\n",
              "              title=\"Convert this dataframe to an interactive table.\"\n",
              "              style=\"display:none;\">\n",
              "        \n",
              "  <svg xmlns=\"http://www.w3.org/2000/svg\" height=\"24px\"viewBox=\"0 0 24 24\"\n",
              "       width=\"24px\">\n",
              "    <path d=\"M0 0h24v24H0V0z\" fill=\"none\"/>\n",
              "    <path d=\"M18.56 5.44l.94 2.06.94-2.06 2.06-.94-2.06-.94-.94-2.06-.94 2.06-2.06.94zm-11 1L8.5 8.5l.94-2.06 2.06-.94-2.06-.94L8.5 2.5l-.94 2.06-2.06.94zm10 10l.94 2.06.94-2.06 2.06-.94-2.06-.94-.94-2.06-.94 2.06-2.06.94z\"/><path d=\"M17.41 7.96l-1.37-1.37c-.4-.4-.92-.59-1.43-.59-.52 0-1.04.2-1.43.59L10.3 9.45l-7.72 7.72c-.78.78-.78 2.05 0 2.83L4 21.41c.39.39.9.59 1.41.59.51 0 1.02-.2 1.41-.59l7.78-7.78 2.81-2.81c.8-.78.8-2.07 0-2.86zM5.41 20L4 18.59l7.72-7.72 1.47 1.35L5.41 20z\"/>\n",
              "  </svg>\n",
              "      </button>\n",
              "      \n",
              "  <style>\n",
              "    .colab-df-container {\n",
              "      display:flex;\n",
              "      flex-wrap:wrap;\n",
              "      gap: 12px;\n",
              "    }\n",
              "\n",
              "    .colab-df-convert {\n",
              "      background-color: #E8F0FE;\n",
              "      border: none;\n",
              "      border-radius: 50%;\n",
              "      cursor: pointer;\n",
              "      display: none;\n",
              "      fill: #1967D2;\n",
              "      height: 32px;\n",
              "      padding: 0 0 0 0;\n",
              "      width: 32px;\n",
              "    }\n",
              "\n",
              "    .colab-df-convert:hover {\n",
              "      background-color: #E2EBFA;\n",
              "      box-shadow: 0px 1px 2px rgba(60, 64, 67, 0.3), 0px 1px 3px 1px rgba(60, 64, 67, 0.15);\n",
              "      fill: #174EA6;\n",
              "    }\n",
              "\n",
              "    [theme=dark] .colab-df-convert {\n",
              "      background-color: #3B4455;\n",
              "      fill: #D2E3FC;\n",
              "    }\n",
              "\n",
              "    [theme=dark] .colab-df-convert:hover {\n",
              "      background-color: #434B5C;\n",
              "      box-shadow: 0px 1px 3px 1px rgba(0, 0, 0, 0.15);\n",
              "      filter: drop-shadow(0px 1px 2px rgba(0, 0, 0, 0.3));\n",
              "      fill: #FFFFFF;\n",
              "    }\n",
              "  </style>\n",
              "\n",
              "      <script>\n",
              "        const buttonEl =\n",
              "          document.querySelector('#df-66a59def-8c94-495a-aa65-171afb9f9ea2 button.colab-df-convert');\n",
              "        buttonEl.style.display =\n",
              "          google.colab.kernel.accessAllowed ? 'block' : 'none';\n",
              "\n",
              "        async function convertToInteractive(key) {\n",
              "          const element = document.querySelector('#df-66a59def-8c94-495a-aa65-171afb9f9ea2');\n",
              "          const dataTable =\n",
              "            await google.colab.kernel.invokeFunction('convertToInteractive',\n",
              "                                                     [key], {});\n",
              "          if (!dataTable) return;\n",
              "\n",
              "          const docLinkHtml = 'Like what you see? Visit the ' +\n",
              "            '<a target=\"_blank\" href=https://colab.research.google.com/notebooks/data_table.ipynb>data table notebook</a>'\n",
              "            + ' to learn more about interactive tables.';\n",
              "          element.innerHTML = '';\n",
              "          dataTable['output_type'] = 'display_data';\n",
              "          await google.colab.output.renderOutput(dataTable, element);\n",
              "          const docLink = document.createElement('div');\n",
              "          docLink.innerHTML = docLinkHtml;\n",
              "          element.appendChild(docLink);\n",
              "        }\n",
              "      </script>\n",
              "    </div>\n",
              "  </div>\n",
              "  "
            ]
          },
          "metadata": {},
          "execution_count": 250
        }
      ]
    },
    {
      "cell_type": "code",
      "source": [
        "# 시리즈의 각 원소 밸류들을 전부 슬라이싱 할 수 있다\n",
        "import pandas as pd\n",
        "b= pd.DataFrame({'key':['abdddd   ', 122,' a','  aa',' a ']})\n",
        "b\n",
        "b['key'] = b.key.str[1:3]\n",
        "b"
      ],
      "metadata": {
        "colab": {
          "base_uri": "https://localhost:8080/",
          "height": 206
        },
        "id": "A_1Ip5vXHl2z",
        "outputId": "0b6cfba1-09b2-4aad-a54f-1b4f91b602f1"
      },
      "execution_count": 251,
      "outputs": [
        {
          "output_type": "execute_result",
          "data": {
            "text/plain": [
              "   key\n",
              "0   bd\n",
              "1  NaN\n",
              "2    a\n",
              "3    a\n",
              "4   a "
            ],
            "text/html": [
              "\n",
              "  <div id=\"df-aee58937-09d0-4f03-90cc-aa3cd2776f3f\">\n",
              "    <div class=\"colab-df-container\">\n",
              "      <div>\n",
              "<style scoped>\n",
              "    .dataframe tbody tr th:only-of-type {\n",
              "        vertical-align: middle;\n",
              "    }\n",
              "\n",
              "    .dataframe tbody tr th {\n",
              "        vertical-align: top;\n",
              "    }\n",
              "\n",
              "    .dataframe thead th {\n",
              "        text-align: right;\n",
              "    }\n",
              "</style>\n",
              "<table border=\"1\" class=\"dataframe\">\n",
              "  <thead>\n",
              "    <tr style=\"text-align: right;\">\n",
              "      <th></th>\n",
              "      <th>key</th>\n",
              "    </tr>\n",
              "  </thead>\n",
              "  <tbody>\n",
              "    <tr>\n",
              "      <th>0</th>\n",
              "      <td>bd</td>\n",
              "    </tr>\n",
              "    <tr>\n",
              "      <th>1</th>\n",
              "      <td>NaN</td>\n",
              "    </tr>\n",
              "    <tr>\n",
              "      <th>2</th>\n",
              "      <td>a</td>\n",
              "    </tr>\n",
              "    <tr>\n",
              "      <th>3</th>\n",
              "      <td>a</td>\n",
              "    </tr>\n",
              "    <tr>\n",
              "      <th>4</th>\n",
              "      <td>a</td>\n",
              "    </tr>\n",
              "  </tbody>\n",
              "</table>\n",
              "</div>\n",
              "      <button class=\"colab-df-convert\" onclick=\"convertToInteractive('df-aee58937-09d0-4f03-90cc-aa3cd2776f3f')\"\n",
              "              title=\"Convert this dataframe to an interactive table.\"\n",
              "              style=\"display:none;\">\n",
              "        \n",
              "  <svg xmlns=\"http://www.w3.org/2000/svg\" height=\"24px\"viewBox=\"0 0 24 24\"\n",
              "       width=\"24px\">\n",
              "    <path d=\"M0 0h24v24H0V0z\" fill=\"none\"/>\n",
              "    <path d=\"M18.56 5.44l.94 2.06.94-2.06 2.06-.94-2.06-.94-.94-2.06-.94 2.06-2.06.94zm-11 1L8.5 8.5l.94-2.06 2.06-.94-2.06-.94L8.5 2.5l-.94 2.06-2.06.94zm10 10l.94 2.06.94-2.06 2.06-.94-2.06-.94-.94-2.06-.94 2.06-2.06.94z\"/><path d=\"M17.41 7.96l-1.37-1.37c-.4-.4-.92-.59-1.43-.59-.52 0-1.04.2-1.43.59L10.3 9.45l-7.72 7.72c-.78.78-.78 2.05 0 2.83L4 21.41c.39.39.9.59 1.41.59.51 0 1.02-.2 1.41-.59l7.78-7.78 2.81-2.81c.8-.78.8-2.07 0-2.86zM5.41 20L4 18.59l7.72-7.72 1.47 1.35L5.41 20z\"/>\n",
              "  </svg>\n",
              "      </button>\n",
              "      \n",
              "  <style>\n",
              "    .colab-df-container {\n",
              "      display:flex;\n",
              "      flex-wrap:wrap;\n",
              "      gap: 12px;\n",
              "    }\n",
              "\n",
              "    .colab-df-convert {\n",
              "      background-color: #E8F0FE;\n",
              "      border: none;\n",
              "      border-radius: 50%;\n",
              "      cursor: pointer;\n",
              "      display: none;\n",
              "      fill: #1967D2;\n",
              "      height: 32px;\n",
              "      padding: 0 0 0 0;\n",
              "      width: 32px;\n",
              "    }\n",
              "\n",
              "    .colab-df-convert:hover {\n",
              "      background-color: #E2EBFA;\n",
              "      box-shadow: 0px 1px 2px rgba(60, 64, 67, 0.3), 0px 1px 3px 1px rgba(60, 64, 67, 0.15);\n",
              "      fill: #174EA6;\n",
              "    }\n",
              "\n",
              "    [theme=dark] .colab-df-convert {\n",
              "      background-color: #3B4455;\n",
              "      fill: #D2E3FC;\n",
              "    }\n",
              "\n",
              "    [theme=dark] .colab-df-convert:hover {\n",
              "      background-color: #434B5C;\n",
              "      box-shadow: 0px 1px 3px 1px rgba(0, 0, 0, 0.15);\n",
              "      filter: drop-shadow(0px 1px 2px rgba(0, 0, 0, 0.3));\n",
              "      fill: #FFFFFF;\n",
              "    }\n",
              "  </style>\n",
              "\n",
              "      <script>\n",
              "        const buttonEl =\n",
              "          document.querySelector('#df-aee58937-09d0-4f03-90cc-aa3cd2776f3f button.colab-df-convert');\n",
              "        buttonEl.style.display =\n",
              "          google.colab.kernel.accessAllowed ? 'block' : 'none';\n",
              "\n",
              "        async function convertToInteractive(key) {\n",
              "          const element = document.querySelector('#df-aee58937-09d0-4f03-90cc-aa3cd2776f3f');\n",
              "          const dataTable =\n",
              "            await google.colab.kernel.invokeFunction('convertToInteractive',\n",
              "                                                     [key], {});\n",
              "          if (!dataTable) return;\n",
              "\n",
              "          const docLinkHtml = 'Like what you see? Visit the ' +\n",
              "            '<a target=\"_blank\" href=https://colab.research.google.com/notebooks/data_table.ipynb>data table notebook</a>'\n",
              "            + ' to learn more about interactive tables.';\n",
              "          element.innerHTML = '';\n",
              "          dataTable['output_type'] = 'display_data';\n",
              "          await google.colab.output.renderOutput(dataTable, element);\n",
              "          const docLink = document.createElement('div');\n",
              "          docLink.innerHTML = docLinkHtml;\n",
              "          element.appendChild(docLink);\n",
              "        }\n",
              "      </script>\n",
              "    </div>\n",
              "  </div>\n",
              "  "
            ]
          },
          "metadata": {},
          "execution_count": 251
        }
      ]
    },
    {
      "cell_type": "code",
      "source": [
        "import numpy as np\n",
        "np.unique(b)"
      ],
      "metadata": {
        "colab": {
          "base_uri": "https://localhost:8080/",
          "height": 378
        },
        "id": "-hBS-AXPHrKO",
        "outputId": "2a63294c-4c5a-4bc0-82b9-3883080b822e"
      },
      "execution_count": 241,
      "outputs": [
        {
          "output_type": "error",
          "ename": "TypeError",
          "evalue": "ignored",
          "traceback": [
            "\u001b[0;31m---------------------------------------------------------------------------\u001b[0m",
            "\u001b[0;31mTypeError\u001b[0m                                 Traceback (most recent call last)",
            "\u001b[0;32m<ipython-input-241-d04044bbd820>\u001b[0m in \u001b[0;36m<module>\u001b[0;34m()\u001b[0m\n\u001b[1;32m      1\u001b[0m \u001b[0;32mimport\u001b[0m \u001b[0mnumpy\u001b[0m \u001b[0;32mas\u001b[0m \u001b[0mnp\u001b[0m\u001b[0;34m\u001b[0m\u001b[0;34m\u001b[0m\u001b[0m\n\u001b[0;32m----> 2\u001b[0;31m \u001b[0mnp\u001b[0m\u001b[0;34m.\u001b[0m\u001b[0munique\u001b[0m\u001b[0;34m(\u001b[0m\u001b[0mb\u001b[0m\u001b[0;34m)\u001b[0m\u001b[0;34m\u001b[0m\u001b[0;34m\u001b[0m\u001b[0m\n\u001b[0m",
            "\u001b[0;32m<__array_function__ internals>\u001b[0m in \u001b[0;36munique\u001b[0;34m(*args, **kwargs)\u001b[0m\n",
            "\u001b[0;32m/usr/local/lib/python3.7/dist-packages/numpy/lib/arraysetops.py\u001b[0m in \u001b[0;36munique\u001b[0;34m(ar, return_index, return_inverse, return_counts, axis)\u001b[0m\n\u001b[1;32m    270\u001b[0m     \u001b[0mar\u001b[0m \u001b[0;34m=\u001b[0m \u001b[0mnp\u001b[0m\u001b[0;34m.\u001b[0m\u001b[0masanyarray\u001b[0m\u001b[0;34m(\u001b[0m\u001b[0mar\u001b[0m\u001b[0;34m)\u001b[0m\u001b[0;34m\u001b[0m\u001b[0;34m\u001b[0m\u001b[0m\n\u001b[1;32m    271\u001b[0m     \u001b[0;32mif\u001b[0m \u001b[0maxis\u001b[0m \u001b[0;32mis\u001b[0m \u001b[0;32mNone\u001b[0m\u001b[0;34m:\u001b[0m\u001b[0;34m\u001b[0m\u001b[0;34m\u001b[0m\u001b[0m\n\u001b[0;32m--> 272\u001b[0;31m         \u001b[0mret\u001b[0m \u001b[0;34m=\u001b[0m \u001b[0m_unique1d\u001b[0m\u001b[0;34m(\u001b[0m\u001b[0mar\u001b[0m\u001b[0;34m,\u001b[0m \u001b[0mreturn_index\u001b[0m\u001b[0;34m,\u001b[0m \u001b[0mreturn_inverse\u001b[0m\u001b[0;34m,\u001b[0m \u001b[0mreturn_counts\u001b[0m\u001b[0;34m)\u001b[0m\u001b[0;34m\u001b[0m\u001b[0;34m\u001b[0m\u001b[0m\n\u001b[0m\u001b[1;32m    273\u001b[0m         \u001b[0;32mreturn\u001b[0m \u001b[0m_unpack_tuple\u001b[0m\u001b[0;34m(\u001b[0m\u001b[0mret\u001b[0m\u001b[0;34m)\u001b[0m\u001b[0;34m\u001b[0m\u001b[0;34m\u001b[0m\u001b[0m\n\u001b[1;32m    274\u001b[0m \u001b[0;34m\u001b[0m\u001b[0m\n",
            "\u001b[0;32m/usr/local/lib/python3.7/dist-packages/numpy/lib/arraysetops.py\u001b[0m in \u001b[0;36m_unique1d\u001b[0;34m(ar, return_index, return_inverse, return_counts)\u001b[0m\n\u001b[1;32m    331\u001b[0m         \u001b[0maux\u001b[0m \u001b[0;34m=\u001b[0m \u001b[0mar\u001b[0m\u001b[0;34m[\u001b[0m\u001b[0mperm\u001b[0m\u001b[0;34m]\u001b[0m\u001b[0;34m\u001b[0m\u001b[0;34m\u001b[0m\u001b[0m\n\u001b[1;32m    332\u001b[0m     \u001b[0;32melse\u001b[0m\u001b[0;34m:\u001b[0m\u001b[0;34m\u001b[0m\u001b[0;34m\u001b[0m\u001b[0m\n\u001b[0;32m--> 333\u001b[0;31m         \u001b[0mar\u001b[0m\u001b[0;34m.\u001b[0m\u001b[0msort\u001b[0m\u001b[0;34m(\u001b[0m\u001b[0;34m)\u001b[0m\u001b[0;34m\u001b[0m\u001b[0;34m\u001b[0m\u001b[0m\n\u001b[0m\u001b[1;32m    334\u001b[0m         \u001b[0maux\u001b[0m \u001b[0;34m=\u001b[0m \u001b[0mar\u001b[0m\u001b[0;34m\u001b[0m\u001b[0;34m\u001b[0m\u001b[0m\n\u001b[1;32m    335\u001b[0m     \u001b[0mmask\u001b[0m \u001b[0;34m=\u001b[0m \u001b[0mnp\u001b[0m\u001b[0;34m.\u001b[0m\u001b[0mempty\u001b[0m\u001b[0;34m(\u001b[0m\u001b[0maux\u001b[0m\u001b[0;34m.\u001b[0m\u001b[0mshape\u001b[0m\u001b[0;34m,\u001b[0m \u001b[0mdtype\u001b[0m\u001b[0;34m=\u001b[0m\u001b[0mnp\u001b[0m\u001b[0;34m.\u001b[0m\u001b[0mbool_\u001b[0m\u001b[0;34m)\u001b[0m\u001b[0;34m\u001b[0m\u001b[0;34m\u001b[0m\u001b[0m\n",
            "\u001b[0;31mTypeError\u001b[0m: '<' not supported between instances of 'float' and 'str'"
          ]
        }
      ]
    },
    {
      "cell_type": "code",
      "source": [
        ""
      ],
      "metadata": {
        "id": "bMbTpP9lMCC8"
      },
      "execution_count": null,
      "outputs": []
    },
    {
      "cell_type": "code",
      "source": [
        "b= pd.DataFrame({'key':['a',' a','  aa',' a ']})\n",
        "\n",
        "b['key'] = b.key.str.replace('^ ', '') \n",
        "b"
      ],
      "metadata": {
        "colab": {
          "base_uri": "https://localhost:8080/",
          "height": 211
        },
        "id": "_vA_QlaQMCVv",
        "outputId": "dc77d3b9-8fa4-4b3e-f62b-643abe5f3442"
      },
      "execution_count": 141,
      "outputs": [
        {
          "output_type": "stream",
          "name": "stderr",
          "text": [
            "/usr/local/lib/python3.7/dist-packages/ipykernel_launcher.py:3: FutureWarning: The default value of regex will change from True to False in a future version.\n",
            "  This is separate from the ipykernel package so we can avoid doing imports until\n"
          ]
        },
        {
          "output_type": "execute_result",
          "data": {
            "text/plain": [
              "   key\n",
              "0    a\n",
              "1    a\n",
              "2   aa\n",
              "3   a "
            ],
            "text/html": [
              "\n",
              "  <div id=\"df-9bebc297-00be-4f9e-b9d7-4f4a9801acf0\">\n",
              "    <div class=\"colab-df-container\">\n",
              "      <div>\n",
              "<style scoped>\n",
              "    .dataframe tbody tr th:only-of-type {\n",
              "        vertical-align: middle;\n",
              "    }\n",
              "\n",
              "    .dataframe tbody tr th {\n",
              "        vertical-align: top;\n",
              "    }\n",
              "\n",
              "    .dataframe thead th {\n",
              "        text-align: right;\n",
              "    }\n",
              "</style>\n",
              "<table border=\"1\" class=\"dataframe\">\n",
              "  <thead>\n",
              "    <tr style=\"text-align: right;\">\n",
              "      <th></th>\n",
              "      <th>key</th>\n",
              "    </tr>\n",
              "  </thead>\n",
              "  <tbody>\n",
              "    <tr>\n",
              "      <th>0</th>\n",
              "      <td>a</td>\n",
              "    </tr>\n",
              "    <tr>\n",
              "      <th>1</th>\n",
              "      <td>a</td>\n",
              "    </tr>\n",
              "    <tr>\n",
              "      <th>2</th>\n",
              "      <td>aa</td>\n",
              "    </tr>\n",
              "    <tr>\n",
              "      <th>3</th>\n",
              "      <td>a</td>\n",
              "    </tr>\n",
              "  </tbody>\n",
              "</table>\n",
              "</div>\n",
              "      <button class=\"colab-df-convert\" onclick=\"convertToInteractive('df-9bebc297-00be-4f9e-b9d7-4f4a9801acf0')\"\n",
              "              title=\"Convert this dataframe to an interactive table.\"\n",
              "              style=\"display:none;\">\n",
              "        \n",
              "  <svg xmlns=\"http://www.w3.org/2000/svg\" height=\"24px\"viewBox=\"0 0 24 24\"\n",
              "       width=\"24px\">\n",
              "    <path d=\"M0 0h24v24H0V0z\" fill=\"none\"/>\n",
              "    <path d=\"M18.56 5.44l.94 2.06.94-2.06 2.06-.94-2.06-.94-.94-2.06-.94 2.06-2.06.94zm-11 1L8.5 8.5l.94-2.06 2.06-.94-2.06-.94L8.5 2.5l-.94 2.06-2.06.94zm10 10l.94 2.06.94-2.06 2.06-.94-2.06-.94-.94-2.06-.94 2.06-2.06.94z\"/><path d=\"M17.41 7.96l-1.37-1.37c-.4-.4-.92-.59-1.43-.59-.52 0-1.04.2-1.43.59L10.3 9.45l-7.72 7.72c-.78.78-.78 2.05 0 2.83L4 21.41c.39.39.9.59 1.41.59.51 0 1.02-.2 1.41-.59l7.78-7.78 2.81-2.81c.8-.78.8-2.07 0-2.86zM5.41 20L4 18.59l7.72-7.72 1.47 1.35L5.41 20z\"/>\n",
              "  </svg>\n",
              "      </button>\n",
              "      \n",
              "  <style>\n",
              "    .colab-df-container {\n",
              "      display:flex;\n",
              "      flex-wrap:wrap;\n",
              "      gap: 12px;\n",
              "    }\n",
              "\n",
              "    .colab-df-convert {\n",
              "      background-color: #E8F0FE;\n",
              "      border: none;\n",
              "      border-radius: 50%;\n",
              "      cursor: pointer;\n",
              "      display: none;\n",
              "      fill: #1967D2;\n",
              "      height: 32px;\n",
              "      padding: 0 0 0 0;\n",
              "      width: 32px;\n",
              "    }\n",
              "\n",
              "    .colab-df-convert:hover {\n",
              "      background-color: #E2EBFA;\n",
              "      box-shadow: 0px 1px 2px rgba(60, 64, 67, 0.3), 0px 1px 3px 1px rgba(60, 64, 67, 0.15);\n",
              "      fill: #174EA6;\n",
              "    }\n",
              "\n",
              "    [theme=dark] .colab-df-convert {\n",
              "      background-color: #3B4455;\n",
              "      fill: #D2E3FC;\n",
              "    }\n",
              "\n",
              "    [theme=dark] .colab-df-convert:hover {\n",
              "      background-color: #434B5C;\n",
              "      box-shadow: 0px 1px 3px 1px rgba(0, 0, 0, 0.15);\n",
              "      filter: drop-shadow(0px 1px 2px rgba(0, 0, 0, 0.3));\n",
              "      fill: #FFFFFF;\n",
              "    }\n",
              "  </style>\n",
              "\n",
              "      <script>\n",
              "        const buttonEl =\n",
              "          document.querySelector('#df-9bebc297-00be-4f9e-b9d7-4f4a9801acf0 button.colab-df-convert');\n",
              "        buttonEl.style.display =\n",
              "          google.colab.kernel.accessAllowed ? 'block' : 'none';\n",
              "\n",
              "        async function convertToInteractive(key) {\n",
              "          const element = document.querySelector('#df-9bebc297-00be-4f9e-b9d7-4f4a9801acf0');\n",
              "          const dataTable =\n",
              "            await google.colab.kernel.invokeFunction('convertToInteractive',\n",
              "                                                     [key], {});\n",
              "          if (!dataTable) return;\n",
              "\n",
              "          const docLinkHtml = 'Like what you see? Visit the ' +\n",
              "            '<a target=\"_blank\" href=https://colab.research.google.com/notebooks/data_table.ipynb>data table notebook</a>'\n",
              "            + ' to learn more about interactive tables.';\n",
              "          element.innerHTML = '';\n",
              "          dataTable['output_type'] = 'display_data';\n",
              "          await google.colab.output.renderOutput(dataTable, element);\n",
              "          const docLink = document.createElement('div');\n",
              "          docLink.innerHTML = docLinkHtml;\n",
              "          element.appendChild(docLink);\n",
              "        }\n",
              "      </script>\n",
              "    </div>\n",
              "  </div>\n",
              "  "
            ]
          },
          "metadata": {},
          "execution_count": 141
        }
      ]
    },
    {
      "cell_type": "code",
      "source": [
        "import numpy as np\n",
        "np.unique(b)"
      ],
      "metadata": {
        "colab": {
          "base_uri": "https://localhost:8080/"
        },
        "id": "iuSXZDrgMHnu",
        "outputId": "b37f0bdc-ad70-4d51-e480-d2c77ee1d0fb"
      },
      "execution_count": 142,
      "outputs": [
        {
          "output_type": "execute_result",
          "data": {
            "text/plain": [
              "array([' aa', 'a', 'a '], dtype=object)"
            ]
          },
          "metadata": {},
          "execution_count": 142
        }
      ]
    },
    {
      "cell_type": "code",
      "source": [
        "b['key'][3]"
      ],
      "metadata": {
        "colab": {
          "base_uri": "https://localhost:8080/",
          "height": 35
        },
        "id": "rLhHEDiXMlqi",
        "outputId": "3b096275-e45f-4b30-a59f-92318fab4b68"
      },
      "execution_count": 143,
      "outputs": [
        {
          "output_type": "execute_result",
          "data": {
            "text/plain": [
              "'a '"
            ],
            "application/vnd.google.colaboratory.intrinsic+json": {
              "type": "string"
            }
          },
          "metadata": {},
          "execution_count": 143
        }
      ]
    },
    {
      "cell_type": "code",
      "source": [
        ""
      ],
      "metadata": {
        "id": "sQ7QD1-DXx_C"
      },
      "execution_count": null,
      "outputs": []
    },
    {
      "cell_type": "code",
      "source": [
        ""
      ],
      "metadata": {
        "id": "8T-l4_JeXyDW"
      },
      "execution_count": null,
      "outputs": []
    },
    {
      "cell_type": "code",
      "source": [
        "import pandas as pd\n",
        "k = pd.DataFrame([' data','da ta','data', '  data' ], columns=['data'])\n",
        "k"
      ],
      "metadata": {
        "colab": {
          "base_uri": "https://localhost:8080/",
          "height": 175
        },
        "id": "4PJE6adfXyHI",
        "outputId": "aa6fa3b2-c71a-40df-e13b-43f0f94b388c"
      },
      "execution_count": 266,
      "outputs": [
        {
          "output_type": "execute_result",
          "data": {
            "text/plain": [
              "     data\n",
              "0    data\n",
              "1   da ta\n",
              "2    data\n",
              "3    data"
            ],
            "text/html": [
              "\n",
              "  <div id=\"df-f815fb4a-c3ac-4373-b8a3-3b6eb0a6fe64\">\n",
              "    <div class=\"colab-df-container\">\n",
              "      <div>\n",
              "<style scoped>\n",
              "    .dataframe tbody tr th:only-of-type {\n",
              "        vertical-align: middle;\n",
              "    }\n",
              "\n",
              "    .dataframe tbody tr th {\n",
              "        vertical-align: top;\n",
              "    }\n",
              "\n",
              "    .dataframe thead th {\n",
              "        text-align: right;\n",
              "    }\n",
              "</style>\n",
              "<table border=\"1\" class=\"dataframe\">\n",
              "  <thead>\n",
              "    <tr style=\"text-align: right;\">\n",
              "      <th></th>\n",
              "      <th>data</th>\n",
              "    </tr>\n",
              "  </thead>\n",
              "  <tbody>\n",
              "    <tr>\n",
              "      <th>0</th>\n",
              "      <td>data</td>\n",
              "    </tr>\n",
              "    <tr>\n",
              "      <th>1</th>\n",
              "      <td>da ta</td>\n",
              "    </tr>\n",
              "    <tr>\n",
              "      <th>2</th>\n",
              "      <td>data</td>\n",
              "    </tr>\n",
              "    <tr>\n",
              "      <th>3</th>\n",
              "      <td>data</td>\n",
              "    </tr>\n",
              "  </tbody>\n",
              "</table>\n",
              "</div>\n",
              "      <button class=\"colab-df-convert\" onclick=\"convertToInteractive('df-f815fb4a-c3ac-4373-b8a3-3b6eb0a6fe64')\"\n",
              "              title=\"Convert this dataframe to an interactive table.\"\n",
              "              style=\"display:none;\">\n",
              "        \n",
              "  <svg xmlns=\"http://www.w3.org/2000/svg\" height=\"24px\"viewBox=\"0 0 24 24\"\n",
              "       width=\"24px\">\n",
              "    <path d=\"M0 0h24v24H0V0z\" fill=\"none\"/>\n",
              "    <path d=\"M18.56 5.44l.94 2.06.94-2.06 2.06-.94-2.06-.94-.94-2.06-.94 2.06-2.06.94zm-11 1L8.5 8.5l.94-2.06 2.06-.94-2.06-.94L8.5 2.5l-.94 2.06-2.06.94zm10 10l.94 2.06.94-2.06 2.06-.94-2.06-.94-.94-2.06-.94 2.06-2.06.94z\"/><path d=\"M17.41 7.96l-1.37-1.37c-.4-.4-.92-.59-1.43-.59-.52 0-1.04.2-1.43.59L10.3 9.45l-7.72 7.72c-.78.78-.78 2.05 0 2.83L4 21.41c.39.39.9.59 1.41.59.51 0 1.02-.2 1.41-.59l7.78-7.78 2.81-2.81c.8-.78.8-2.07 0-2.86zM5.41 20L4 18.59l7.72-7.72 1.47 1.35L5.41 20z\"/>\n",
              "  </svg>\n",
              "      </button>\n",
              "      \n",
              "  <style>\n",
              "    .colab-df-container {\n",
              "      display:flex;\n",
              "      flex-wrap:wrap;\n",
              "      gap: 12px;\n",
              "    }\n",
              "\n",
              "    .colab-df-convert {\n",
              "      background-color: #E8F0FE;\n",
              "      border: none;\n",
              "      border-radius: 50%;\n",
              "      cursor: pointer;\n",
              "      display: none;\n",
              "      fill: #1967D2;\n",
              "      height: 32px;\n",
              "      padding: 0 0 0 0;\n",
              "      width: 32px;\n",
              "    }\n",
              "\n",
              "    .colab-df-convert:hover {\n",
              "      background-color: #E2EBFA;\n",
              "      box-shadow: 0px 1px 2px rgba(60, 64, 67, 0.3), 0px 1px 3px 1px rgba(60, 64, 67, 0.15);\n",
              "      fill: #174EA6;\n",
              "    }\n",
              "\n",
              "    [theme=dark] .colab-df-convert {\n",
              "      background-color: #3B4455;\n",
              "      fill: #D2E3FC;\n",
              "    }\n",
              "\n",
              "    [theme=dark] .colab-df-convert:hover {\n",
              "      background-color: #434B5C;\n",
              "      box-shadow: 0px 1px 3px 1px rgba(0, 0, 0, 0.15);\n",
              "      filter: drop-shadow(0px 1px 2px rgba(0, 0, 0, 0.3));\n",
              "      fill: #FFFFFF;\n",
              "    }\n",
              "  </style>\n",
              "\n",
              "      <script>\n",
              "        const buttonEl =\n",
              "          document.querySelector('#df-f815fb4a-c3ac-4373-b8a3-3b6eb0a6fe64 button.colab-df-convert');\n",
              "        buttonEl.style.display =\n",
              "          google.colab.kernel.accessAllowed ? 'block' : 'none';\n",
              "\n",
              "        async function convertToInteractive(key) {\n",
              "          const element = document.querySelector('#df-f815fb4a-c3ac-4373-b8a3-3b6eb0a6fe64');\n",
              "          const dataTable =\n",
              "            await google.colab.kernel.invokeFunction('convertToInteractive',\n",
              "                                                     [key], {});\n",
              "          if (!dataTable) return;\n",
              "\n",
              "          const docLinkHtml = 'Like what you see? Visit the ' +\n",
              "            '<a target=\"_blank\" href=https://colab.research.google.com/notebooks/data_table.ipynb>data table notebook</a>'\n",
              "            + ' to learn more about interactive tables.';\n",
              "          element.innerHTML = '';\n",
              "          dataTable['output_type'] = 'display_data';\n",
              "          await google.colab.output.renderOutput(dataTable, element);\n",
              "          const docLink = document.createElement('div');\n",
              "          docLink.innerHTML = docLinkHtml;\n",
              "          element.appendChild(docLink);\n",
              "        }\n",
              "      </script>\n",
              "    </div>\n",
              "  </div>\n",
              "  "
            ]
          },
          "metadata": {},
          "execution_count": 266
        }
      ]
    },
    {
      "cell_type": "code",
      "source": [
        "k.data  #  = k['data'] 비슷,같은 것"
      ],
      "metadata": {
        "colab": {
          "base_uri": "https://localhost:8080/"
        },
        "id": "iX-EOlV_YaSy",
        "outputId": "6ebc6bbf-84f0-4805-af6a-7ab7b428dc57"
      },
      "execution_count": 256,
      "outputs": [
        {
          "output_type": "execute_result",
          "data": {
            "text/plain": [
              "0      data\n",
              "1     da ta\n",
              "2      data\n",
              "3      data\n",
              "Name: data, dtype: object"
            ]
          },
          "metadata": {},
          "execution_count": 256
        }
      ]
    },
    {
      "cell_type": "code",
      "source": [
        "k.data.str.replace('^ +', '')[3]  # '^ ' 하면 앞 한 공백만 지우는데 ^ + 하니까  [^ +]문자 여길바꾸니까 앞공백 이어진 것을 전부 지워버린다."
      ],
      "metadata": {
        "colab": {
          "base_uri": "https://localhost:8080/",
          "height": 72
        },
        "id": "4NeFlP5_YhLz",
        "outputId": "e8a28fee-f567-4d44-aaf1-edc67766c062"
      },
      "execution_count": 263,
      "outputs": [
        {
          "output_type": "stream",
          "name": "stderr",
          "text": [
            "/usr/local/lib/python3.7/dist-packages/ipykernel_launcher.py:1: FutureWarning: The default value of regex will change from True to False in a future version.\n",
            "  \"\"\"Entry point for launching an IPython kernel.\n"
          ]
        },
        {
          "output_type": "execute_result",
          "data": {
            "text/plain": [
              "'data'"
            ],
            "application/vnd.google.colaboratory.intrinsic+json": {
              "type": "string"
            }
          },
          "metadata": {},
          "execution_count": 263
        }
      ]
    },
    {
      "cell_type": "code",
      "source": [
        "np.unique(k)"
      ],
      "metadata": {
        "colab": {
          "base_uri": "https://localhost:8080/"
        },
        "id": "COMrAnZXYJiu",
        "outputId": "29b6a304-5495-4b40-c948-3e5fbc29a229"
      },
      "execution_count": 253,
      "outputs": [
        {
          "output_type": "execute_result",
          "data": {
            "text/plain": [
              "array(['  data', ' data', 'da ta', 'data'], dtype=object)"
            ]
          },
          "metadata": {},
          "execution_count": 253
        }
      ]
    },
    {
      "cell_type": "code",
      "source": [
        "' data'.str.replace('^ +', '')"
      ],
      "metadata": {
        "colab": {
          "base_uri": "https://localhost:8080/",
          "height": 172
        },
        "id": "fJ3QVE6pYNsG",
        "outputId": "06687c1b-ef03-4d43-9733-5a785bebc161"
      },
      "execution_count": 255,
      "outputs": [
        {
          "output_type": "error",
          "ename": "AttributeError",
          "evalue": "ignored",
          "traceback": [
            "\u001b[0;31m---------------------------------------------------------------------------\u001b[0m",
            "\u001b[0;31mAttributeError\u001b[0m                            Traceback (most recent call last)",
            "\u001b[0;32m<ipython-input-255-d8d5471f8294>\u001b[0m in \u001b[0;36m<module>\u001b[0;34m()\u001b[0m\n\u001b[0;32m----> 1\u001b[0;31m \u001b[0;34m' data'\u001b[0m\u001b[0;34m.\u001b[0m\u001b[0mstr\u001b[0m\u001b[0;34m.\u001b[0m\u001b[0mreplace\u001b[0m\u001b[0;34m(\u001b[0m\u001b[0;34m'^ +'\u001b[0m\u001b[0;34m,\u001b[0m \u001b[0;34m''\u001b[0m\u001b[0;34m)\u001b[0m\u001b[0;34m\u001b[0m\u001b[0;34m\u001b[0m\u001b[0m\n\u001b[0m",
            "\u001b[0;31mAttributeError\u001b[0m: 'str' object has no attribute 'str'"
          ]
        }
      ]
    },
    {
      "cell_type": "code",
      "source": [
        "k.data.str.replace('^ +' , '')[0]\n",
        "# k['data'].str같은것"
      ],
      "metadata": {
        "colab": {
          "base_uri": "https://localhost:8080/",
          "height": 72
        },
        "id": "c9omMDZlZpCJ",
        "outputId": "f05ee57b-8aaf-4493-c4ee-d13f461cfbb8"
      },
      "execution_count": 274,
      "outputs": [
        {
          "output_type": "stream",
          "name": "stderr",
          "text": [
            "/usr/local/lib/python3.7/dist-packages/ipykernel_launcher.py:1: FutureWarning: The default value of regex will change from True to False in a future version.\n",
            "  \"\"\"Entry point for launching an IPython kernel.\n"
          ]
        },
        {
          "output_type": "execute_result",
          "data": {
            "text/plain": [
              "'data'"
            ],
            "application/vnd.google.colaboratory.intrinsic+json": {
              "type": "string"
            }
          },
          "metadata": {},
          "execution_count": 274
        }
      ]
    },
    {
      "cell_type": "code",
      "source": [
        "'^ + data'.replace('^ +' , '') # 이건 문자정규식이 아니라   ^ + 문자를 지워버린 것"
      ],
      "metadata": {
        "colab": {
          "base_uri": "https://localhost:8080/",
          "height": 35
        },
        "id": "RrRSNlbiZtqk",
        "outputId": "3a6bdab6-b64b-4a44-e9a3-228bf39a59db"
      },
      "execution_count": 272,
      "outputs": [
        {
          "output_type": "execute_result",
          "data": {
            "text/plain": [
              "' data'"
            ],
            "application/vnd.google.colaboratory.intrinsic+json": {
              "type": "string"
            }
          },
          "metadata": {},
          "execution_count": 272
        }
      ]
    },
    {
      "cell_type": "code",
      "source": [
        ""
      ],
      "metadata": {
        "id": "x6__O6N8a74o"
      },
      "execution_count": null,
      "outputs": []
    },
    {
      "cell_type": "code",
      "source": [
        "r = re.compile('asd{2}k')  #중괄호는  2의숫자는 앞의 d를두개로한다는 뜻  asddk와 같은 의미다\n",
        "r.search('asdk')  #서칭안된다"
      ],
      "metadata": {
        "id": "c0RqzQPWa7_z"
      },
      "execution_count": 308,
      "outputs": []
    },
    {
      "cell_type": "code",
      "source": [
        "r = re.compile('asd{2}k')\n",
        "r.search('asddk')  #서칭 "
      ],
      "metadata": {
        "colab": {
          "base_uri": "https://localhost:8080/"
        },
        "id": "A1TVFwa7bLrb",
        "outputId": "38e319b3-9bd4-4ed7-e481-de69252f1532"
      },
      "execution_count": 309,
      "outputs": [
        {
          "output_type": "execute_result",
          "data": {
            "text/plain": [
              "<re.Match object; span=(0, 5), match='asddk'>"
            ]
          },
          "metadata": {},
          "execution_count": 309
        }
      ]
    },
    {
      "cell_type": "code",
      "source": [
        "r = re.compile('asd{2,4}k')\n",
        "r.search('asdddddk')  # d가 두개~4개 까지만 서칭이 된다  2이상 4이하\n",
        "  "
      ],
      "metadata": {
        "id": "LHqVH6l-bgA6"
      },
      "execution_count": 310,
      "outputs": []
    },
    {
      "cell_type": "code",
      "source": [
        "r = re.compile('asd{,2}k')"
      ],
      "metadata": {
        "id": "xHXDFVghb11h"
      },
      "execution_count": 311,
      "outputs": []
    },
    {
      "cell_type": "code",
      "source": [
        "r = re.compile('asd{2,}k')  # 2개이상 ~무한대"
      ],
      "metadata": {
        "id": "jKKzYMrNbzIW"
      },
      "execution_count": 312,
      "outputs": []
    },
    {
      "cell_type": "code",
      "source": [
        ""
      ],
      "metadata": {
        "id": "2QGeou8rjqVB"
      },
      "execution_count": null,
      "outputs": []
    },
    {
      "cell_type": "code",
      "source": [
        "span()\t매치된 문자열의 (시작, 끝)에 해당하는  튜플을 돌려준다.  시작 이상 끝 미만의 인덱스값"
      ],
      "metadata": {
        "id": "L2X25FDab8Dp"
      },
      "execution_count": null,
      "outputs": []
    },
    {
      "cell_type": "code",
      "source": [
        ""
      ],
      "metadata": {
        "id": "C3tGNK8Yjq5d"
      },
      "execution_count": null,
      "outputs": []
    },
    {
      "cell_type": "code",
      "source": [
        "괄호안의문자유무판단  [-]범위를뜻한다\n"
      ],
      "metadata": {
        "id": "VUN2GEOkcAvK"
      },
      "execution_count": null,
      "outputs": []
    },
    {
      "cell_type": "code",
      "source": [
        "r = re.compile('[abc]')\n",
        "r.search('edofia')     #  span5,6    5이상 6미만 인덱스에서매ㅣㅇ"
      ],
      "metadata": {
        "colab": {
          "base_uri": "https://localhost:8080/"
        },
        "id": "IrHp151TcCq_",
        "outputId": "30989438-c408-4af7-f287-5cb407f0b796"
      },
      "execution_count": 336,
      "outputs": [
        {
          "output_type": "execute_result",
          "data": {
            "text/plain": [
              "<re.Match object; span=(5, 6), match='a'>"
            ]
          },
          "metadata": {},
          "execution_count": 336
        }
      ]
    },
    {
      "cell_type": "code",
      "source": [
        "r = re.compile('[a-c]') #a부터c까지         #대괄호 안에서는 대괄호 안의 문자 중 앞에서부터 스캔해서 딱 하나랑만 매칭이 된다\n",
        "r.search('cacdbofi')"
      ],
      "metadata": {
        "colab": {
          "base_uri": "https://localhost:8080/"
        },
        "id": "gTPiZE3wce0O",
        "outputId": "65d9cd04-2999-4ff1-95fa-f1072ae294f6"
      },
      "execution_count": 334,
      "outputs": [
        {
          "output_type": "execute_result",
          "data": {
            "text/plain": [
              "<re.Match object; span=(0, 1), match='c'>"
            ]
          },
          "metadata": {},
          "execution_count": 334
        }
      ]
    },
    {
      "cell_type": "code",
      "source": [
        "r = re.compile('abc') #a부터c까지\n",
        "r.search('abcc')"
      ],
      "metadata": {
        "colab": {
          "base_uri": "https://localhost:8080/"
        },
        "id": "PeRbVBwokgj9",
        "outputId": "3878dde6-1055-4cd4-fc3d-c80b85866845"
      },
      "execution_count": 331,
      "outputs": [
        {
          "output_type": "execute_result",
          "data": {
            "text/plain": [
              "<re.Match object; span=(0, 3), match='abc'>"
            ]
          },
          "metadata": {},
          "execution_count": 331
        }
      ]
    },
    {
      "cell_type": "code",
      "source": [
        "r = re.compile('[a-zA-Z]') #알파벳전부\n",
        "r.search('aAA')"
      ],
      "metadata": {
        "colab": {
          "base_uri": "https://localhost:8080/"
        },
        "id": "dt5XjGhWcZKJ",
        "outputId": "48017dc5-ca13-4fcd-b51d-522231d269b6"
      },
      "execution_count": 330,
      "outputs": [
        {
          "output_type": "execute_result",
          "data": {
            "text/plain": [
              "<re.Match object; span=(0, 1), match='a'>"
            ]
          },
          "metadata": {},
          "execution_count": 330
        }
      ]
    },
    {
      "cell_type": "code",
      "source": [
        "r = re.compile('[^a-zA-Z]') # 알파벳범위가아닐대 [ ] 안에 ^는다른의미 해당문자를제외한문자\n",
        "r.search( 'ㅁ')"
      ],
      "metadata": {
        "colab": {
          "base_uri": "https://localhost:8080/"
        },
        "id": "jVfjzLMKczJb",
        "outputId": "1d0cff70-0457-4142-eb5f-2ad12065444e"
      },
      "execution_count": 317,
      "outputs": [
        {
          "output_type": "execute_result",
          "data": {
            "text/plain": [
              "<re.Match object; span=(0, 1), match='ㅁ'>"
            ]
          },
          "metadata": {},
          "execution_count": 317
        }
      ]
    },
    {
      "cell_type": "code",
      "source": [
        "r = re.compile('[^ a-zA-Z]') # 알파벳범위가아닐대 [ ] 안에 ^는다른의미 해당문자를제외한문자\n",
        "r.search( ' ㅁ') #"
      ],
      "metadata": {
        "colab": {
          "base_uri": "https://localhost:8080/"
        },
        "id": "QVet2c6tc5-R",
        "outputId": "85dcc5cb-9a18-4a6d-fa54-e979c312edf2"
      },
      "execution_count": 318,
      "outputs": [
        {
          "output_type": "execute_result",
          "data": {
            "text/plain": [
              "<re.Match object; span=(1, 2), match='ㅁ'>"
            ]
          },
          "metadata": {},
          "execution_count": 318
        }
      ]
    },
    {
      "cell_type": "code",
      "source": [
        "r = re.compile('[ a-zA-Z]') # 알파벳범위가아닐대 [ ] 안에 ^는다른의미 해당문자를제외한문자\n",
        "r.search( ' ㅁ') "
      ],
      "metadata": {
        "colab": {
          "base_uri": "https://localhost:8080/"
        },
        "id": "4zp4Wzj1dhsb",
        "outputId": "8044beeb-045e-4ea3-c896-b8c90a3ab1df"
      },
      "execution_count": 319,
      "outputs": [
        {
          "output_type": "execute_result",
          "data": {
            "text/plain": [
              "<re.Match object; span=(0, 1), match=' '>"
            ]
          },
          "metadata": {},
          "execution_count": 319
        }
      ]
    },
    {
      "cell_type": "code",
      "source": [
        "r = re.compile('\\s') # 알파벳범위가아닐대 [ ] 안에 ^는다른의미 해당문자를제외한문자\n",
        "r.search(' ') #?"
      ],
      "metadata": {
        "colab": {
          "base_uri": "https://localhost:8080/"
        },
        "id": "4Ru1W-tVderM",
        "outputId": "72a78f9f-8ce8-4e94-ba56-a1d1ccf192e4"
      },
      "execution_count": 320,
      "outputs": [
        {
          "output_type": "execute_result",
          "data": {
            "text/plain": [
              "<re.Match object; span=(0, 1), match=' '>"
            ]
          },
          "metadata": {},
          "execution_count": 320
        }
      ]
    },
    {
      "cell_type": "code",
      "source": [
        "r = re.compile('\\S') # 알파벳범위가아닐대 [ ] 안에 ^는다른의미 해당문자를제외한문자\n",
        "r.search(' ') #?  # \\s긍정 \\S부정"
      ],
      "metadata": {
        "id": "lGsxzidGdprk"
      },
      "execution_count": 321,
      "outputs": []
    },
    {
      "cell_type": "code",
      "source": [
        "#정규표현식문법 역슬래쉬\\ "
      ],
      "metadata": {
        "id": "8twE3n4NdpwO"
      },
      "execution_count": null,
      "outputs": []
    },
    {
      "cell_type": "code",
      "source": [
        "span=(  ) 위치정보"
      ],
      "metadata": {
        "id": "SYnDIpSad-Gd"
      },
      "execution_count": null,
      "outputs": []
    },
    {
      "cell_type": "code",
      "source": [
        "정규표현식모듈함수\n",
        "\n",
        "re.compile() \n",
        "re.search() 문자열전체를서칭\n",
        "re.matach() 문자열의처음을서칭\n",
        "re.split() 정규표현식을기준으로스플릿\n",
        "re.findall()\n",
        "re.finditer()\n",
        "re.sub()\n"
      ],
      "metadata": {
        "id": "CEhd0AP4d-LJ"
      },
      "execution_count": null,
      "outputs": []
    },
    {
      "cell_type": "code",
      "source": [
        ""
      ],
      "metadata": {
        "id": "oD5SDuj8fxxS"
      },
      "execution_count": null,
      "outputs": []
    },
    {
      "cell_type": "code",
      "source": [
        ""
      ],
      "metadata": {
        "id": "Kb1BO68Rf4z6"
      },
      "execution_count": null,
      "outputs": []
    },
    {
      "cell_type": "code",
      "source": [
        "정수인코딩"
      ],
      "metadata": {
        "id": "3CgQie9if44Q"
      },
      "execution_count": null,
      "outputs": []
    },
    {
      "cell_type": "code",
      "source": [
        "from nltk.tokenize import sent_tokenize#문장토큰화\n",
        "from nltk.tokenize import   word_tokenize #단어토큰화           #영어분석\n",
        "from nltk.corpus import stopwords #불용어\n"
      ],
      "metadata": {
        "id": "41vdZ8Rbf8ZB"
      },
      "execution_count": 302,
      "outputs": []
    },
    {
      "cell_type": "code",
      "source": [
        "text = 'A barbar is a person. a barber is good person. a'"
      ],
      "metadata": {
        "id": "IhOxqHh1f8da"
      },
      "execution_count": 303,
      "outputs": []
    },
    {
      "cell_type": "code",
      "source": [
        "문장토큰화_된_data = sent_tokenize(text)\n",
        "문장토큰화_된_data\n"
      ],
      "metadata": {
        "colab": {
          "base_uri": "https://localhost:8080/"
        },
        "id": "XumuToAMf5oY",
        "outputId": "6c38287e-32e5-4379-f7a7-5c381a0cfd21"
      },
      "execution_count": 304,
      "outputs": [
        {
          "output_type": "execute_result",
          "data": {
            "text/plain": [
              "['A barbar is a person.', 'a barber is good person.', 'a']"
            ]
          },
          "metadata": {},
          "execution_count": 304
        }
      ]
    },
    {
      "cell_type": "code",
      "source": [
        "# 영어는 소문자로 통합 암묵적룰\n"
      ],
      "metadata": {
        "id": "CL9EzD-9glza"
      },
      "execution_count": null,
      "outputs": []
    },
    {
      "cell_type": "code",
      "source": [
        "#보캐불러리 만들기#"
      ],
      "metadata": {
        "id": "XPrRcnB6hEly"
      },
      "execution_count": null,
      "outputs": []
    },
    {
      "cell_type": "code",
      "source": [
        "nltk.download('stopwords')"
      ],
      "metadata": {
        "colab": {
          "base_uri": "https://localhost:8080/"
        },
        "id": "EgG_t7Kkhr2W",
        "outputId": "ce933dae-1627-4ed8-ce7c-494e74df8870"
      },
      "execution_count": 306,
      "outputs": [
        {
          "output_type": "stream",
          "name": "stderr",
          "text": [
            "[nltk_data] Downloading package stopwords to /root/nltk_data...\n",
            "[nltk_data]   Unzipping corpora/stopwords.zip.\n"
          ]
        },
        {
          "output_type": "execute_result",
          "data": {
            "text/plain": [
              "True"
            ]
          },
          "metadata": {},
          "execution_count": 306
        }
      ]
    },
    {
      "cell_type": "code",
      "source": [
        "단어모음 = {}\n",
        "t_data = []\n",
        "불용성단어 = set(stopwords.words('english')) #영어로구성된불용어모음집가져오기  # 중복안되게 set 으로 받았다\n",
        "불용성단어 #거를단어"
      ],
      "metadata": {
        "id": "8N9wv6TLhH9V"
      },
      "execution_count": null,
      "outputs": []
    },
    {
      "cell_type": "code",
      "source": [
        "소문자로만들기"
      ],
      "metadata": {
        "id": "WHphLG3flSu2"
      },
      "execution_count": null,
      "outputs": []
    },
    {
      "cell_type": "code",
      "source": [
        "for 문장 in 문장토큰화_된_data:\n",
        "    단어토큰화_된_data = word_tokenize(문장)\n",
        "    l=[]\n",
        "    for 단어 in 단어토큰화_된_data:\n",
        "        소문자화된_단어 = 단어.lower()  #로어소문자로바꾸기\n",
        "        if 소문자화된_단어 not in 불용성단어:\n",
        "            if len(소문자화된_단어) > 2 : #알파벳짧은 것 의미 적을 거니까 배제해보자 2보다 큰 것을 담는다\n",
        "                aa=l.append(소문자화된_단어)\n",
        "\n",
        "                if 소문자화된_단어 not in 단어모음: # 단어모음에잇니 #없다면\n",
        "                    단어모음[소문자화된_단어]= 0\n",
        "                단어모음[소문자화된_단어]+= 1\n",
        "                    \n",
        "    t_data.append(l)\n",
        "t_data\n",
        "\n"
      ],
      "metadata": {
        "colab": {
          "base_uri": "https://localhost:8080/"
        },
        "id": "N3Oy94JmiK-T",
        "outputId": "cfc2f79b-68a0-466b-8591-6782ac203037"
      },
      "execution_count": 351,
      "outputs": [
        {
          "output_type": "execute_result",
          "data": {
            "text/plain": [
              "[['barbar', 'person'],\n",
              " ['barber', 'good', 'person'],\n",
              " [],\n",
              " ['barbar', 'person'],\n",
              " ['barber', 'good', 'person'],\n",
              " [],\n",
              " ['barbar', 'person'],\n",
              " ['barber', 'good', 'person'],\n",
              " []]"
            ]
          },
          "metadata": {},
          "execution_count": 351
        }
      ]
    },
    {
      "cell_type": "code",
      "source": [
        "단어모음 #빈도수"
      ],
      "metadata": {
        "colab": {
          "base_uri": "https://localhost:8080/"
        },
        "id": "wqB2TqOcnH64",
        "outputId": "6bb26196-e3ad-4729-82c1-454ceae78d20"
      },
      "execution_count": 344,
      "outputs": [
        {
          "output_type": "execute_result",
          "data": {
            "text/plain": [
              "{'barbar': 2, 'barber': 2, 'good': 2, 'person': 4}"
            ]
          },
          "metadata": {},
          "execution_count": 344
        }
      ]
    },
    {
      "cell_type": "code",
      "source": [
        "aa #변수지정x함??"
      ],
      "metadata": {
        "id": "w57Pc10TnKWA"
      },
      "execution_count": 352,
      "outputs": []
    },
    {
      "cell_type": "code",
      "source": [
        ""
      ],
      "metadata": {
        "id": "c-MMphXmncLe"
      },
      "execution_count": null,
      "outputs": []
    },
    {
      "cell_type": "code",
      "source": [
        "정렬된_단어모음 = sorted(단어모음.items(), key=lambda x:x[1] , reverse = True )  #sorted 나열의기준 키를 같이지정하고싶을떄 솔티드"
      ],
      "metadata": {
        "id": "MooMc937ne2d"
      },
      "execution_count": 348,
      "outputs": []
    },
    {
      "cell_type": "code",
      "source": [
        "정렬된_단어모음"
      ],
      "metadata": {
        "colab": {
          "base_uri": "https://localhost:8080/"
        },
        "id": "ImWKl9nkoIat",
        "outputId": "e5f07109-7e9f-4dc7-9cff-92d0a3645c07"
      },
      "execution_count": 349,
      "outputs": [
        {
          "output_type": "execute_result",
          "data": {
            "text/plain": [
              "[('person', 4), ('barbar', 2), ('barber', 2), ('good', 2)]"
            ]
          },
          "metadata": {},
          "execution_count": 349
        }
      ]
    },
    {
      "cell_type": "code",
      "source": [
        "단어_인덱스={}   #문자대신 컴퓨터가이해할수잇는숫자로 바꾸기\n",
        "i=0\n",
        "for (단어, 빈도수) in 정렬된_단어모음:  #빈도낮은걸 버리겟다 #정~ 딕셔너리\n",
        "    if 빈도수 > 1: \n",
        "        i+=1\n",
        "        단어_인덱스[단어]=i # 단어를 키값으로 i를 넘버링\n",
        "단어_인덱스\n",
        "\n",
        "\n",
        "\n"
      ],
      "metadata": {
        "colab": {
          "base_uri": "https://localhost:8080/"
        },
        "id": "CaM8ILKyoJgy",
        "outputId": "7fef3ed2-dc2b-408e-f26d-2f02998bf84b"
      },
      "execution_count": 354,
      "outputs": [
        {
          "output_type": "execute_result",
          "data": {
            "text/plain": [
              "{'barbar': 2, 'barber': 3, 'good': 4, 'person': 1}"
            ]
          },
          "metadata": {},
          "execution_count": 354
        }
      ]
    },
    {
      "cell_type": "code",
      "source": [
        "살릴단어수 = 2\n",
        "제거_data=[단어 for 단어, i in 단어_인덱스.items() if i >살릴단어수 ]  #비중높은것만살리기위해\n",
        "\n",
        "for i in 제거_data:\n",
        "    del 단어_인덱스[i]\n",
        "단어_인덱스"
      ],
      "metadata": {
        "colab": {
          "base_uri": "https://localhost:8080/"
        },
        "id": "dQ5OSB_7pGwV",
        "outputId": "d8bdc17a-4284-432d-dd68-285f09ea2b35"
      },
      "execution_count": 355,
      "outputs": [
        {
          "output_type": "execute_result",
          "data": {
            "text/plain": [
              "{'barbar': 2, 'person': 1}"
            ]
          },
          "metadata": {},
          "execution_count": 355
        }
      ]
    },
    {
      "cell_type": "code",
      "source": [
        "단어_인덱스['oov'] = len(단어_인덱스)+1   #oov 아웃오브보캐불러리\n",
        "단어_인덱스 #어짜피문자는숫자로 단어인덱만잃어버리지않으면 아웃보캐를 가지고잇어도 문제가생기지않는다  단어가없다 단어가스지않는단어\n",
        "#단어인덱스-보캐불러리만잃지않으면된다 보캐불러리만잇으면 아웃오브보캐를 무시할 수 잇다"
      ],
      "metadata": {
        "colab": {
          "base_uri": "https://localhost:8080/"
        },
        "id": "qflBVRKDp54e",
        "outputId": "fff8a6ce-08bb-4d36-8713-a20676b79986"
      },
      "execution_count": 357,
      "outputs": [
        {
          "output_type": "execute_result",
          "data": {
            "text/plain": [
              "{'barbar': 2, 'oov': 3, 'person': 1}"
            ]
          },
          "metadata": {},
          "execution_count": 357
        }
      ]
    },
    {
      "cell_type": "code",
      "source": [
        "t_data"
      ],
      "metadata": {
        "colab": {
          "base_uri": "https://localhost:8080/"
        },
        "id": "hR5asLAmrvsP",
        "outputId": "6550bed0-5bb0-4eb1-a986-6395b96c3f50"
      },
      "execution_count": 358,
      "outputs": [
        {
          "output_type": "execute_result",
          "data": {
            "text/plain": [
              "[['barbar', 'person'],\n",
              " ['barber', 'good', 'person'],\n",
              " [],\n",
              " ['barbar', 'person'],\n",
              " ['barber', 'good', 'person'],\n",
              " [],\n",
              " ['barbar', 'person'],\n",
              " ['barber', 'good', 'person'],\n",
              " []]"
            ]
          },
          "metadata": {},
          "execution_count": 358
        }
      ]
    },
    {
      "cell_type": "code",
      "source": [
        "ec_data=[]\n",
        "for 문장 in t_data:\n",
        "    ec_d = []\n",
        "    for 단어 in 문장:\n",
        "        try: #트라이익셉예외처리   딕셔너리에서 없는 키값을 불러오려고 할 떄 에러가 나기 떄문에 처리하기위함\n",
        "            ec_d.append(단어_인덱스[단어])\n",
        "        except KeyError:\n",
        "            ec_d.append(단어_인덱스['oov'])  # ec_d인코딩된데이터\n",
        "    ec_data.append(ec_d)\n",
        "ec_data\n",
        "\n",
        "# 정수인코딩 끝\n",
        "    단어를 빈도수 순으로 정렬한 단어집합(vocabulary)을 만들고, 빈도수가 높은 순으로 1번부터 정수를 부여하는 방법\n",
        "    딕셔너리\n",
        "    카운터"
      ],
      "metadata": {
        "colab": {
          "base_uri": "https://localhost:8080/"
        },
        "id": "x_IqZCgarys5",
        "outputId": "7f482856-a9e1-4608-9702-e8e6f6ba2f0c"
      },
      "execution_count": 359,
      "outputs": [
        {
          "output_type": "execute_result",
          "data": {
            "text/plain": [
              "[[2, 1], [3, 3, 1], [], [2, 1], [3, 3, 1], [], [2, 1], [3, 3, 1], []]"
            ]
          },
          "metadata": {},
          "execution_count": 359
        }
      ]
    },
    {
      "cell_type": "code",
      "source": [
        "Counter 기반 정수 인코딩"
      ],
      "metadata": {
        "id": "1-iozS0otS4K"
      },
      "execution_count": null,
      "outputs": []
    },
    {
      "cell_type": "code",
      "source": [
        "from collections import Counter"
      ],
      "metadata": {
        "id": "007h9LB1tW1t"
      },
      "execution_count": 360,
      "outputs": []
    },
    {
      "cell_type": "code",
      "source": [
        "# 토큰화\n",
        "# 코퍼스 > 문장 > 단어\n",
        "t_data"
      ],
      "metadata": {
        "colab": {
          "base_uri": "https://localhost:8080/"
        },
        "id": "xalEZN1mtdGn",
        "outputId": "bcc6186d-ffec-4259-9fbf-c438ac52a946"
      },
      "execution_count": 362,
      "outputs": [
        {
          "output_type": "execute_result",
          "data": {
            "text/plain": [
              "[['barbar', 'person'],\n",
              " ['barber', 'good', 'person'],\n",
              " [],\n",
              " ['barbar', 'person'],\n",
              " ['barber', 'good', 'person'],\n",
              " [],\n",
              " ['barbar', 'person'],\n",
              " ['barber', 'good', 'person'],\n",
              " []]"
            ]
          },
          "metadata": {},
          "execution_count": 362
        }
      ]
    },
    {
      "cell_type": "code",
      "source": [
        "단어모두모음= sum(t_data,[]) \n",
        "단어모두모음"
      ],
      "metadata": {
        "colab": {
          "base_uri": "https://localhost:8080/"
        },
        "id": "ZwQc_v3ctmQ6",
        "outputId": "ed759047-bf36-4fe2-d39d-9a48246415af"
      },
      "execution_count": 363,
      "outputs": [
        {
          "output_type": "execute_result",
          "data": {
            "text/plain": [
              "['barbar',\n",
              " 'person',\n",
              " 'barber',\n",
              " 'good',\n",
              " 'person',\n",
              " 'barbar',\n",
              " 'person',\n",
              " 'barber',\n",
              " 'good',\n",
              " 'person',\n",
              " 'barbar',\n",
              " 'person',\n",
              " 'barber',\n",
              " 'good',\n",
              " 'person']"
            ]
          },
          "metadata": {},
          "execution_count": 363
        }
      ]
    },
    {
      "cell_type": "code",
      "source": [
        "end_단어_모음 = Counter(단어모두모음) #단어수세기\n",
        "end_단어_모음"
      ],
      "metadata": {
        "colab": {
          "base_uri": "https://localhost:8080/"
        },
        "id": "YthQvzfgt1ia",
        "outputId": "dee5c834-a39f-493e-f072-deaf086e1db3"
      },
      "execution_count": 364,
      "outputs": [
        {
          "output_type": "execute_result",
          "data": {
            "text/plain": [
              "Counter({'barbar': 3, 'barber': 3, 'good': 3, 'person': 6})"
            ]
          },
          "metadata": {},
          "execution_count": 364
        }
      ]
    },
    {
      "cell_type": "code",
      "source": [
        "빈도별_단어 = end_단어_모음.most_common(살릴단어수)\n",
        "빈도별_단어\n"
      ],
      "metadata": {
        "colab": {
          "base_uri": "https://localhost:8080/"
        },
        "id": "0LYRfIQ7uB3V",
        "outputId": "a4330a8e-217a-4cae-9506-42811b7ee139"
      },
      "execution_count": 365,
      "outputs": [
        {
          "output_type": "execute_result",
          "data": {
            "text/plain": [
              "[('person', 6), ('barbar', 3)]"
            ]
          },
          "metadata": {},
          "execution_count": 365
        }
      ]
    },
    {
      "cell_type": "code",
      "source": [
        "단어인덱스2 = {}\n",
        "i=0\n",
        "for 단어, 빈도수 in 빈도별_단어:\n",
        "    i+=1\n",
        "    단어인덱스2[단어]=i\n",
        "단어인덱스2"
      ],
      "metadata": {
        "colab": {
          "base_uri": "https://localhost:8080/"
        },
        "id": "VgeqK0sBuVS8",
        "outputId": "f866c800-7070-4e56-d3c6-287d4f040db6"
      },
      "execution_count": 366,
      "outputs": [
        {
          "output_type": "execute_result",
          "data": {
            "text/plain": [
              "{'barbar': 2, 'person': 1}"
            ]
          },
          "metadata": {},
          "execution_count": 366
        }
      ]
    },
    {
      "cell_type": "code",
      "source": [
        "단어인덱스2['oov'] = len(단어인덱스2)+1   #oov 아웃오브보캐불러리\n",
        "단어인덱스2 "
      ],
      "metadata": {
        "colab": {
          "base_uri": "https://localhost:8080/"
        },
        "id": "DGewtLHouuH1",
        "outputId": "13b4a72a-7272-4f46-9b50-86ee416e0b93"
      },
      "execution_count": 367,
      "outputs": [
        {
          "output_type": "execute_result",
          "data": {
            "text/plain": [
              "{'barbar': 2, 'oov': 3, 'person': 1}"
            ]
          },
          "metadata": {},
          "execution_count": 367
        }
      ]
    },
    {
      "cell_type": "code",
      "source": [
        "ec_data2=[]\n",
        "for 문장 in t_data:\n",
        "    ec_d = []\n",
        "    for 단어 in 문장:\n",
        "        try: #트라이익셉예외처리   딕셔너리에서 없는 키값을 불러오려고 할 떄 에러가 나기 떄문에 처리하기위함\n",
        "            ec_d.append(단어인덱스2[단어])\n",
        "        except KeyError:\n",
        "            ec_d.append(단어인덱스2['oov'])  # ec_d인코딩된데이터\n",
        "    ec_data2.append(ec_d)\n",
        "ec_data2\n"
      ],
      "metadata": {
        "colab": {
          "base_uri": "https://localhost:8080/"
        },
        "id": "1THC6ioCu1Xu",
        "outputId": "18a9c288-8a49-457e-d1f3-4208c372c299"
      },
      "execution_count": 368,
      "outputs": [
        {
          "output_type": "execute_result",
          "data": {
            "text/plain": [
              "[[2, 1], [3, 3, 1], [], [2, 1], [3, 3, 1], [], [2, 1], [3, 3, 1], []]"
            ]
          },
          "metadata": {},
          "execution_count": 368
        }
      ]
    },
    {
      "cell_type": "code",
      "source": [
        "영어 nltk 정수인코딩"
      ],
      "metadata": {
        "id": "-OG14VUjvIBy"
      },
      "execution_count": null,
      "outputs": []
    },
    {
      "cell_type": "code",
      "source": [
        "from nltk import FreqDist\n",
        "import numpy as np\n",
        "t_data"
      ],
      "metadata": {
        "colab": {
          "base_uri": "https://localhost:8080/"
        },
        "id": "njkzZ8jfvOVt",
        "outputId": "935cfb80-e733-4022-b1a1-75bcf6c53b1a"
      },
      "execution_count": 370,
      "outputs": [
        {
          "output_type": "execute_result",
          "data": {
            "text/plain": [
              "[['barbar', 'person'],\n",
              " ['barber', 'good', 'person'],\n",
              " [],\n",
              " ['barbar', 'person'],\n",
              " ['barber', 'good', 'person'],\n",
              " [],\n",
              " ['barbar', 'person'],\n",
              " ['barber', 'good', 'person'],\n",
              " []]"
            ]
          },
          "metadata": {},
          "execution_count": 370
        }
      ]
    },
    {
      "cell_type": "code",
      "source": [
        "np.hstack(t_data) #에이치스택 - 모음집"
      ],
      "metadata": {
        "colab": {
          "base_uri": "https://localhost:8080/"
        },
        "id": "TuTaBlftvmu8",
        "outputId": "a4bda11d-fa3a-4a30-dfe3-41f4d33c6cc5"
      },
      "execution_count": 372,
      "outputs": [
        {
          "output_type": "execute_result",
          "data": {
            "text/plain": [
              "array(['barbar', 'person', 'barber', 'good', 'person', 'barbar', 'person',\n",
              "       'barber', 'good', 'person', 'barbar', 'person', 'barber', 'good',\n",
              "       'person'], dtype='<U32')"
            ]
          },
          "metadata": {},
          "execution_count": 372
        }
      ]
    },
    {
      "cell_type": "code",
      "source": [
        "단어_모음집 = FreqDist(np.hstack(t_data)) #빈도수\n",
        "단어_모음집 \n"
      ],
      "metadata": {
        "colab": {
          "base_uri": "https://localhost:8080/"
        },
        "id": "tU8CFCimvbv3",
        "outputId": "e11bb220-5bff-447b-d38a-ac7ec8a20278"
      },
      "execution_count": 380,
      "outputs": [
        {
          "output_type": "execute_result",
          "data": {
            "text/plain": [
              "FreqDist({'barbar': 3, 'barber': 3, 'good': 3, 'person': 6})"
            ]
          },
          "metadata": {},
          "execution_count": 380
        }
      ]
    },
    {
      "cell_type": "code",
      "source": [
        "결과_단어_모음집 = 단어_모음집.most_common(살릴단어수)\n",
        "결과_단어_모음집 "
      ],
      "metadata": {
        "colab": {
          "base_uri": "https://localhost:8080/"
        },
        "id": "DI4B67Mqv2KA",
        "outputId": "62ee3f14-e86a-4a27-8189-421fe1b79b85"
      },
      "execution_count": 381,
      "outputs": [
        {
          "output_type": "execute_result",
          "data": {
            "text/plain": [
              "[('person', 6), ('barbar', 3)]"
            ]
          },
          "metadata": {},
          "execution_count": 381
        }
      ]
    },
    {
      "cell_type": "markdown",
      "source": [
        ""
      ],
      "metadata": {
        "id": "a3EVFxypwF64"
      }
    },
    {
      "cell_type": "code",
      "source": [
        ""
      ],
      "metadata": {
        "id": "Pn_gSbcGwGf_"
      },
      "execution_count": null,
      "outputs": []
    },
    {
      "cell_type": "code",
      "source": [
        ""
      ],
      "metadata": {
        "id": "9C4kei32zHol"
      },
      "execution_count": null,
      "outputs": []
    },
    {
      "cell_type": "code",
      "source": [
        "데이터전처리"
      ],
      "metadata": {
        "id": "F4s61KKHwHFD"
      },
      "execution_count": null,
      "outputs": []
    },
    {
      "cell_type": "code",
      "source": [
        "from tensorflow.keras.preprocessing.text import Tokenizer #토크나이저클래스  를가지고보캐불러리를만들겟다\n"
      ],
      "metadata": {
        "id": "lWjPgVk_wHrT"
      },
      "execution_count": 382,
      "outputs": []
    },
    {
      "cell_type": "code",
      "source": [
        "ck_t = Tokenizer()\n",
        "ck_t.fit_on_texts(t_data)\n",
        "print(ck_t.word_index)\n",
        "print(ck_t.word_counts)"
      ],
      "metadata": {
        "colab": {
          "base_uri": "https://localhost:8080/"
        },
        "id": "gFAG0YOTwPrw",
        "outputId": "e81280c8-a75f-4f52-dff7-d68abf77932f"
      },
      "execution_count": 383,
      "outputs": [
        {
          "output_type": "stream",
          "name": "stdout",
          "text": [
            "{'person': 1, 'barbar': 2, 'barber': 3, 'good': 4}\n",
            "OrderedDict([('barbar', 3), ('person', 6), ('barber', 3), ('good', 3)])\n"
          ]
        }
      ]
    },
    {
      "cell_type": "code",
      "source": [
        "tr_data = ck_t.text_to_word_sequence(t_data)  # 트랜스퍼\n",
        "tr_data #보캐불러리"
      ],
      "metadata": {
        "id": "Ar2Mo4V2wub0"
      },
      "execution_count": null,
      "outputs": []
    },
    {
      "cell_type": "code",
      "source": [
        ""
      ],
      "metadata": {
        "id": "ybXEmMmezkN5"
      },
      "execution_count": null,
      "outputs": []
    },
    {
      "cell_type": "code",
      "source": [
        ""
      ],
      "metadata": {
        "id": "Le-e31BnzkS2"
      },
      "execution_count": null,
      "outputs": []
    },
    {
      "cell_type": "code",
      "source": [
        "살릴단어수 # 두개빼고는 전부 아웃오브보캐로 뺴겟다는 "
      ],
      "metadata": {
        "colab": {
          "base_uri": "https://localhost:8080/"
        },
        "id": "_Aar0Hl4zkX5",
        "outputId": "ae47ee78-c924-4fc7-97ef-0c316be38777"
      },
      "execution_count": 384,
      "outputs": [
        {
          "output_type": "execute_result",
          "data": {
            "text/plain": [
              "2"
            ]
          },
          "metadata": {},
          "execution_count": 384
        }
      ]
    },
    {
      "cell_type": "code",
      "source": [
        "test = Tokenizer(num_words=살릴단어수)\n",
        "\n",
        "num_words=None, #내가사용한문자에대한내용\n",
        "filters='!\"#$%&()*+,-./:;<=>?@[\\\\]^_`{|}~\\t\\n',   #특수문자제거하라는것\n",
        "lower=True, #소문자\n",
        "split=' ', \n",
        "char_level=False, \n",
        "oov_token=None, #토큰쓸거니\n",
        "document_count=0,\n",
        " **kwargs)"
      ],
      "metadata": {
        "id": "OTPhj4etzuHU"
      },
      "execution_count": null,
      "outputs": []
    },
    {
      "cell_type": "code",
      "source": [
        "토크나이저를 쓸 때 살릴단어수에서 하나는 oov로바찐다     (넘워드=살릴단어+1) #<이걸로사용\n",
        "                                                          (넘워드=살릴단어+2, 아웃오버보캐=)\n",
        "#매개변수로아웃오버보캐를넣을때\n",
        "#살릴단어수가4면 3까지만뽑힌다 그런데 0값은 자동으로 날리기 떄문에 2까지만 뽑힌다\n",
        " # 즉 살릴단어수+2 를 입력해야한다\n",
        "\n",
        "토크나이저쓰면 인덱스붙는다"
      ],
      "metadata": {
        "id": "B1LQk0fK0You"
      },
      "execution_count": null,
      "outputs": []
    },
    {
      "cell_type": "code",
      "source": [
        ""
      ],
      "metadata": {
        "id": "fq6qRe_93SZ8"
      },
      "execution_count": null,
      "outputs": []
    },
    {
      "cell_type": "code",
      "source": [
        ""
      ],
      "metadata": {
        "id": "TsiXKKI63SeV"
      },
      "execution_count": null,
      "outputs": []
    },
    {
      "cell_type": "code",
      "source": [
        ""
      ],
      "metadata": {
        "id": "ACG0KSJF3Y9i"
      },
      "execution_count": null,
      "outputs": []
    },
    {
      "cell_type": "code",
      "source": [
        "# 케라스 전처리기 이용 정리\n",
        "# 데이터수집(코퍼스수집)"
      ],
      "metadata": {
        "id": "83vs5iP-3ZK4"
      },
      "execution_count": null,
      "outputs": []
    },
    {
      "cell_type": "code",
      "source": [
        "text = \"A barber is a person. a barber is good person. a barber is huge person. he Knew A Secret! The Secret He Kept is huge secret. Huge secret. His barber kept his word. a barber kept his word. His barber kept his secret. But keeping and keeping such a huge secret to himself was driving the barber crazy. the barber went up a huge mountain.\""
      ],
      "metadata": {
        "id": "3SdSDGvd3Si6"
      },
      "execution_count": 385,
      "outputs": []
    },
    {
      "cell_type": "code",
      "source": [
        "#토큰화"
      ],
      "metadata": {
        "id": "n4rShgAB3qH_"
      },
      "execution_count": null,
      "outputs": []
    },
    {
      "cell_type": "code",
      "source": [
        "from tensorflow.keras.preprocessing.text import text_to_word_sequence #<토크나이저??;토큰화;잘라주는\n",
        "from nltk.tokenize import word_tokenize # 토크나이저\n",
        "from nltk.tokenize import WordPunctTokenizer #토크나이저\n",
        "from nltk.corpus import stopwords\n"
      ],
      "metadata": {
        "id": "bkXhlg8R3t8X"
      },
      "execution_count": 395,
      "outputs": []
    },
    {
      "cell_type": "code",
      "source": [
        "\n",
        "\n",
        "nltk.download('stopwords')"
      ],
      "metadata": {
        "colab": {
          "base_uri": "https://localhost:8080/"
        },
        "id": "x4gXNK8y4UGS",
        "outputId": "8df7416a-4625-4fa2-f640-8085dbf8461d"
      },
      "execution_count": 396,
      "outputs": [
        {
          "output_type": "stream",
          "name": "stderr",
          "text": [
            "[nltk_data] Downloading package stopwords to /root/nltk_data...\n",
            "[nltk_data]   Package stopwords is already up-to-date!\n"
          ]
        },
        {
          "output_type": "execute_result",
          "data": {
            "text/plain": [
              "True"
            ]
          },
          "metadata": {},
          "execution_count": 396
        }
      ]
    },
    {
      "cell_type": "code",
      "source": [
        "문장토큰화_된_data = sent_tokenize(text)\n",
        "문장토큰화_된_data\n"
      ],
      "metadata": {
        "colab": {
          "base_uri": "https://localhost:8080/"
        },
        "id": "uJjuXvZ-35-r",
        "outputId": "5dfb1d3b-4b0d-4e6e-fa9c-f8039e2e3b5a"
      },
      "execution_count": 397,
      "outputs": [
        {
          "output_type": "execute_result",
          "data": {
            "text/plain": [
              "['A barber is a person.',\n",
              " 'a barber is good person.',\n",
              " 'a barber is huge person.',\n",
              " 'he Knew A Secret!',\n",
              " 'The Secret He Kept is huge secret.',\n",
              " 'Huge secret.',\n",
              " 'His barber kept his word.',\n",
              " 'a barber kept his word.',\n",
              " 'His barber kept his secret.',\n",
              " 'But keeping and keeping such a huge secret to himself was driving the barber crazy.',\n",
              " 'the barber went up a huge mountain.']"
            ]
          },
          "metadata": {},
          "execution_count": 397
        }
      ]
    },
    {
      "cell_type": "code",
      "source": [
        "단어모음 = {}\n",
        "t_data = []\n",
        "불용성단어 = set(stopwords.words('english')) #영어로구성된불용어모음집가져오기  # 중복안되게 set 으로 받았다\n",
        "불용성단어 #거를단어\n",
        "\n",
        "for 문장 in 문장토큰화_된_data:\n",
        "    단어토큰화_된_data = word_tokenize(문장)\n",
        "    l=[]\n",
        "    for 단어 in 단어토큰화_된_data:\n",
        "        소문자화된_단어 = 단어.lower()  #로어소문자로바꾸기\n",
        "        if 소문자화된_단어 not in 불용성단어:\n",
        "            if len(소문자화된_단어) > 2 : #알파벳짧은 것 의미 적을 거니까 배제해보자 2보다 큰 것을 담는다\n",
        "                aa=l.append(소문자화된_단어)\n",
        "\n",
        "                if 소문자화된_단어 not in 단어모음: # 단어모음에잇니 #없다면\n",
        "                    단어모음[소문자화된_단어]= 0\n",
        "                단어모음[소문자화된_단어]+= 1\n",
        "                    \n",
        "    t_data.append(l)\n",
        "t_data\n",
        "\n"
      ],
      "metadata": {
        "colab": {
          "base_uri": "https://localhost:8080/"
        },
        "id": "__YvEMEF4B_2",
        "outputId": "a0d1e519-ba1c-4245-d5c5-dabf3069dfc1"
      },
      "execution_count": 398,
      "outputs": [
        {
          "output_type": "execute_result",
          "data": {
            "text/plain": [
              "[['barber', 'person'],\n",
              " ['barber', 'good', 'person'],\n",
              " ['barber', 'huge', 'person'],\n",
              " ['knew', 'secret'],\n",
              " ['secret', 'kept', 'huge', 'secret'],\n",
              " ['huge', 'secret'],\n",
              " ['barber', 'kept', 'word'],\n",
              " ['barber', 'kept', 'word'],\n",
              " ['barber', 'kept', 'secret'],\n",
              " ['keeping', 'keeping', 'huge', 'secret', 'driving', 'barber', 'crazy'],\n",
              " ['barber', 'went', 'huge', 'mountain']]"
            ]
          },
          "metadata": {},
          "execution_count": 398
        }
      ]
    },
    {
      "cell_type": "code",
      "source": [
        ""
      ],
      "metadata": {
        "id": "TMhb9MzD4h48"
      },
      "execution_count": null,
      "outputs": []
    },
    {
      "cell_type": "code",
      "source": [
        "정수인코딩"
      ],
      "metadata": {
        "id": "w2-e6-n04jQu"
      },
      "execution_count": null,
      "outputs": []
    },
    {
      "cell_type": "code",
      "source": [
        "from tensorflow.keras.preprocessing.text import Tokenizer\n",
        "tk= Tokenizer()\n",
        "tk.fit_on_texts(t_data)\n",
        "ec_data = tk.texts_to_sequences(t_data)\n",
        "ec_data"
      ],
      "metadata": {
        "colab": {
          "base_uri": "https://localhost:8080/"
        },
        "id": "VoCmk2e84qB3",
        "outputId": "68f1e000-bec2-4fa2-c782-680823bc5736"
      },
      "execution_count": 399,
      "outputs": [
        {
          "output_type": "execute_result",
          "data": {
            "text/plain": [
              "[[1, 5],\n",
              " [1, 8, 5],\n",
              " [1, 3, 5],\n",
              " [9, 2],\n",
              " [2, 4, 3, 2],\n",
              " [3, 2],\n",
              " [1, 4, 6],\n",
              " [1, 4, 6],\n",
              " [1, 4, 2],\n",
              " [7, 7, 3, 2, 10, 1, 11],\n",
              " [1, 12, 3, 13]]"
            ]
          },
          "metadata": {},
          "execution_count": 399
        }
      ]
    },
    {
      "cell_type": "code",
      "source": [
        "패딩"
      ],
      "metadata": {
        "id": "p620tV8j5buj"
      },
      "execution_count": null,
      "outputs": []
    },
    {
      "cell_type": "code",
      "source": [
        "from tensorflow.keras.preprocessing.sequence import pad_sequences #패딩\n",
        "ec_data #인코딩된데이터\n",
        "end_data = pad_sequences(ec_data)\n",
        "end_data"
      ],
      "metadata": {
        "colab": {
          "base_uri": "https://localhost:8080/"
        },
        "id": "B8Bp6o9R5gCZ",
        "outputId": "a06ae8d0-fad0-40fc-d996-6c4190b46b63"
      },
      "execution_count": 405,
      "outputs": [
        {
          "output_type": "execute_result",
          "data": {
            "text/plain": [
              "array([[ 0,  0,  0,  0,  0,  1,  5],\n",
              "       [ 0,  0,  0,  0,  1,  8,  5],\n",
              "       [ 0,  0,  0,  0,  1,  3,  5],\n",
              "       [ 0,  0,  0,  0,  0,  9,  2],\n",
              "       [ 0,  0,  0,  2,  4,  3,  2],\n",
              "       [ 0,  0,  0,  0,  0,  3,  2],\n",
              "       [ 0,  0,  0,  0,  1,  4,  6],\n",
              "       [ 0,  0,  0,  0,  1,  4,  6],\n",
              "       [ 0,  0,  0,  0,  1,  4,  2],\n",
              "       [ 7,  7,  3,  2, 10,  1, 11],\n",
              "       [ 0,  0,  0,  1, 12,  3, 13]], dtype=int32)"
            ]
          },
          "metadata": {},
          "execution_count": 405
        }
      ]
    },
    {
      "cell_type": "code",
      "source": [
        "end_data = pad_sequences (ec_data, padding = 'post')  # 0을 뒤쪽으로 채우는 패딩\n",
        "end_data"
      ],
      "metadata": {
        "colab": {
          "base_uri": "https://localhost:8080/"
        },
        "id": "J-VyAKj-55wI",
        "outputId": "c491b3f7-d89b-4190-a9d9-36ecd66191e8"
      },
      "execution_count": 401,
      "outputs": [
        {
          "output_type": "execute_result",
          "data": {
            "text/plain": [
              "array([[ 1,  5,  0,  0,  0,  0,  0],\n",
              "       [ 1,  8,  5,  0,  0,  0,  0],\n",
              "       [ 1,  3,  5,  0,  0,  0,  0],\n",
              "       [ 9,  2,  0,  0,  0,  0,  0],\n",
              "       [ 2,  4,  3,  2,  0,  0,  0],\n",
              "       [ 3,  2,  0,  0,  0,  0,  0],\n",
              "       [ 1,  4,  6,  0,  0,  0,  0],\n",
              "       [ 1,  4,  6,  0,  0,  0,  0],\n",
              "       [ 1,  4,  2,  0,  0,  0,  0],\n",
              "       [ 7,  7,  3,  2, 10,  1, 11],\n",
              "       [ 1, 12,  3, 13,  0,  0,  0]], dtype=int32)"
            ]
          },
          "metadata": {},
          "execution_count": 401
        }
      ]
    },
    {
      "cell_type": "code",
      "source": [
        "end_data = pad_sequences (ec_data, padding = 'post', maxlen=4)  # 0을 뒤쪽으로 채우는 패딩\n",
        "end_data                 #지우는 것도 채우는 것도 앞에서부터다 기본값이            7 7 73 이 없어진것을보면알수잇다\n",
        "\n",
        "# 순환신경망. 앞/ 단기기억/ 앞에가 지워지니가   앞에서 채운다\n",
        "# 지우는 관점에선 미괄식"
      ],
      "metadata": {
        "colab": {
          "base_uri": "https://localhost:8080/"
        },
        "id": "r3LKaWSV6Khq",
        "outputId": "01eef36d-d17e-4e98-9017-37622b946999"
      },
      "execution_count": 402,
      "outputs": [
        {
          "output_type": "execute_result",
          "data": {
            "text/plain": [
              "array([[ 1,  5,  0,  0],\n",
              "       [ 1,  8,  5,  0],\n",
              "       [ 1,  3,  5,  0],\n",
              "       [ 9,  2,  0,  0],\n",
              "       [ 2,  4,  3,  2],\n",
              "       [ 3,  2,  0,  0],\n",
              "       [ 1,  4,  6,  0],\n",
              "       [ 1,  4,  6,  0],\n",
              "       [ 1,  4,  2,  0],\n",
              "       [ 2, 10,  1, 11],\n",
              "       [ 1, 12,  3, 13]], dtype=int32)"
            ]
          },
          "metadata": {},
          "execution_count": 402
        }
      ]
    },
    {
      "cell_type": "code",
      "source": [
        "end_data = pad_sequences (ec_data, padding = 'post',truncating='post', maxlen=4)  # 0을 뒤쪽으로 채우는 패딩\n",
        "end_data                # 이건 뒤에서 지워진다"
      ],
      "metadata": {
        "colab": {
          "base_uri": "https://localhost:8080/"
        },
        "id": "7RCiZPAW6p3h",
        "outputId": "e03b527e-1977-4341-904d-b88eb1d419c6"
      },
      "execution_count": 407,
      "outputs": [
        {
          "output_type": "execute_result",
          "data": {
            "text/plain": [
              "array([[ 1,  5,  0,  0],\n",
              "       [ 1,  8,  5,  0],\n",
              "       [ 1,  3,  5,  0],\n",
              "       [ 9,  2,  0,  0],\n",
              "       [ 2,  4,  3,  2],\n",
              "       [ 3,  2,  0,  0],\n",
              "       [ 1,  4,  6,  0],\n",
              "       [ 1,  4,  6,  0],\n",
              "       [ 1,  4,  2,  0],\n",
              "       [ 7,  7,  3,  2],\n",
              "       [ 1, 12,  3, 13]], dtype=int32)"
            ]
          },
          "metadata": {},
          "execution_count": 407
        }
      ]
    },
    {
      "cell_type": "code",
      "source": [
        "end_data = pad_sequences(ec_data, maxlen=4)\n",
        "end_data"
      ],
      "metadata": {
        "colab": {
          "base_uri": "https://localhost:8080/"
        },
        "id": "0KwOn4Bn6WZU",
        "outputId": "f9c521ed-6fbe-4b9e-8eeb-3c7fac3a5b6b"
      },
      "execution_count": 403,
      "outputs": [
        {
          "output_type": "execute_result",
          "data": {
            "text/plain": [
              "array([[ 0,  0,  1,  5],\n",
              "       [ 0,  1,  8,  5],\n",
              "       [ 0,  1,  3,  5],\n",
              "       [ 0,  0,  9,  2],\n",
              "       [ 2,  4,  3,  2],\n",
              "       [ 0,  0,  3,  2],\n",
              "       [ 0,  1,  4,  6],\n",
              "       [ 0,  1,  4,  6],\n",
              "       [ 0,  1,  4,  2],\n",
              "       [ 2, 10,  1, 11],\n",
              "       [ 1, 12,  3, 13]], dtype=int32)"
            ]
          },
          "metadata": {},
          "execution_count": 403
        }
      ]
    },
    {
      "cell_type": "code",
      "source": [
        " \n",
        "end_data = pad_sequences (ec_data, padding = 'post', maxlen=4, value=3)  # 0대신 3을 넣는다 \n",
        "end_data           \n"
      ],
      "metadata": {
        "colab": {
          "base_uri": "https://localhost:8080/"
        },
        "id": "BQMeLNSZ7mYF",
        "outputId": "750907eb-289b-4df8-8c31-547c993f8d61"
      },
      "execution_count": 409,
      "outputs": [
        {
          "output_type": "execute_result",
          "data": {
            "text/plain": [
              "array([[ 1,  5,  3,  3],\n",
              "       [ 1,  8,  5,  3],\n",
              "       [ 1,  3,  5,  3],\n",
              "       [ 9,  2,  3,  3],\n",
              "       [ 2,  4,  3,  2],\n",
              "       [ 3,  2,  3,  3],\n",
              "       [ 1,  4,  6,  3],\n",
              "       [ 1,  4,  6,  3],\n",
              "       [ 1,  4,  2,  3],\n",
              "       [ 2, 10,  1, 11],\n",
              "       [ 1, 12,  3, 13]], dtype=int32)"
            ]
          },
          "metadata": {},
          "execution_count": 409
        }
      ]
    },
    {
      "cell_type": "code",
      "source": [
        "v=len(tk.word_index)+1 # 아웃오브보캐로 채워지는\n",
        "#없으니까패딩으로스겟다\n",
        "end_data = pad_sequences (ec_data, padding = 'post', maxlen=4, value= v)  # 0대신 v을 넣는다 \n",
        "end_data           \n",
        "\n",
        "# > 그냥 0 으로 쓰세요 value날려"
      ],
      "metadata": {
        "colab": {
          "base_uri": "https://localhost:8080/"
        },
        "id": "pUjWvKuT8EaE",
        "outputId": "9c0e1127-fd35-4085-da3a-bfc493f5be73"
      },
      "execution_count": 410,
      "outputs": [
        {
          "output_type": "execute_result",
          "data": {
            "text/plain": [
              "array([[ 1,  5, 14, 14],\n",
              "       [ 1,  8,  5, 14],\n",
              "       [ 1,  3,  5, 14],\n",
              "       [ 9,  2, 14, 14],\n",
              "       [ 2,  4,  3,  2],\n",
              "       [ 3,  2, 14, 14],\n",
              "       [ 1,  4,  6, 14],\n",
              "       [ 1,  4,  6, 14],\n",
              "       [ 1,  4,  2, 14],\n",
              "       [ 2, 10,  1, 11],\n",
              "       [ 1, 12,  3, 13]], dtype=int32)"
            ]
          },
          "metadata": {},
          "execution_count": 410
        }
      ]
    },
    {
      "cell_type": "code",
      "source": [
        ""
      ],
      "metadata": {
        "id": "mNoz28OR8ccV"
      },
      "execution_count": null,
      "outputs": []
    },
    {
      "cell_type": "code",
      "source": [
        ""
      ],
      "metadata": {
        "id": "o0ZzZcn78cpM"
      },
      "execution_count": null,
      "outputs": []
    },
    {
      "cell_type": "code",
      "source": [
        "한글관점"
      ],
      "metadata": {
        "id": "gm1vq8598cuz"
      },
      "execution_count": null,
      "outputs": []
    },
    {
      "cell_type": "code",
      "source": [
        "k_data = '오늘은 시간이 빠르게 가네요'\n",
        "from tensorflow.keras.preprocessing.text import Tokenizer\n",
        "k_tk=Tokenizer()\n",
        "# k_tk.fit_on_texts(k_data)  #코퍼스를 전달받는다 코퍼스는 이차원 ㄷ\n",
        "k_tk.fit_on_texts([k_data]) #차원을하나올려버리면단어로받는다\n",
        "k_tk.index_word"
      ],
      "metadata": {
        "colab": {
          "base_uri": "https://localhost:8080/"
        },
        "id": "MR-9aiar8jfO",
        "outputId": "7f1ddc7d-c5d1-4f3b-ff0f-526af676f419"
      },
      "execution_count": 413,
      "outputs": [
        {
          "output_type": "execute_result",
          "data": {
            "text/plain": [
              "{1: '오늘은', 2: '시간이', 3: '빠르게', 4: '가네요'}"
            ]
          },
          "metadata": {},
          "execution_count": 413
        }
      ]
    },
    {
      "cell_type": "code",
      "source": [
        "txt = '오늘은 이상하게 피곤 하네요 그런데 시간은 느리게 가네요'\n",
        "#보캐입장에선 입력안받ㄴ은데이터는 없는단어로 인식\n",
        "\n",
        "k_tk.texts_to_sequences([txt])[0]\n",
        "# txt랑 k_tk랑 겹치는 부분이 오늘은 이랑 가네요 두개다 그 인덱스가 1과 4이다\n",
        "#보캐를 만들ㄷ려고 토큰화작업을 하는 것이다\n",
        "\n",
        "\n",
        "\n",
        "#아웃풋에원핫거는건 분류할 떄 카~"
      ],
      "metadata": {
        "colab": {
          "base_uri": "https://localhost:8080/"
        },
        "id": "OvHwaCao9RUs",
        "outputId": "b2fb3056-037b-42e0-cfb5-dbcc9cf98a0d"
      },
      "execution_count": 416,
      "outputs": [
        {
          "output_type": "execute_result",
          "data": {
            "text/plain": [
              "[1, 4]"
            ]
          },
          "metadata": {},
          "execution_count": 416
        }
      ]
    },
    {
      "cell_type": "code",
      "source": [
        "패딩:병렬연산을위해여러문장의길이를임의로동일하게맞춰주는작업\n",
        ">\n",
        "원핫\n",
        "\n",
        "투카테원핫 차원이많이늘어난다  > 차원의저주/소실  > 벡터화-임베딩 작은차원"
      ],
      "metadata": {
        "id": "Zo1EmUuVA6Lx"
      },
      "execution_count": null,
      "outputs": []
    },
    {
      "cell_type": "code",
      "source": [
        ""
      ],
      "metadata": {
        "id": "zGjs58Q1Bvfq"
      },
      "execution_count": null,
      "outputs": []
    },
    {
      "cell_type": "code",
      "source": [
        ""
      ],
      "metadata": {
        "id": "Z-u7_SX2CAIc"
      },
      "execution_count": null,
      "outputs": []
    },
    {
      "cell_type": "code",
      "source": [
        "언어모델이란:이전단어로다음단어를예측\n",
        "    통계를이용한방법과인공신경망을이용한방법 / 최근에는인공신경망성능이좋음\n"
      ],
      "metadata": {
        "id": "-DMJMUPCCAMv"
      },
      "execution_count": null,
      "outputs": []
    },
    {
      "cell_type": "code",
      "source": [
        "# 통계기반모델       \n",
        "\n",
        "유니그램\n",
        "i        am         a            boy           n-1과 n값을 비교하여 확률을 연산\n",
        "\n",
        "바이그램\n",
        "i am            am a             a boy\n",
        "엔그램\n",
        "i am a            am a boy\n",
        "\n",
        "엔그램의한계\n",
        "    희소문제\n",
        "        충분한데이터를관측하지못하여언어를정확히모델링하지못하는문제\n",
        "\n",
        "조건부확률/ 유니그램 바이그램 엔그램"
      ],
      "metadata": {
        "id": "YF35DkMAEgJJ"
      },
      "execution_count": null,
      "outputs": []
    },
    {
      "cell_type": "code",
      "source": [
        ""
      ],
      "metadata": {
        "id": "PryTHoIYFKT5"
      },
      "execution_count": null,
      "outputs": []
    },
    {
      "cell_type": "code",
      "source": [
        "단어표현\n",
        "    워드투백 Word2Vec  단어를 벡터로 바꾸겠다는뜻 차원에 단어를 뿌리는 방법\n"
      ],
      "metadata": {
        "id": "HdqG3p-4FLFr"
      },
      "execution_count": null,
      "outputs": []
    }
  ]
}