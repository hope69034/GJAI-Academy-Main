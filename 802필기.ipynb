{
  "nbformat": 4,
  "nbformat_minor": 0,
  "metadata": {
    "colab": {
      "name": "802필기 ",
      "provenance": [],
      "collapsed_sections": []
    },
    "kernelspec": {
      "name": "python3",
      "display_name": "Python 3"
    },
    "language_info": {
      "name": "python"
    }
  },
  "cells": [
    {
      "cell_type": "code",
      "execution_count": null,
      "metadata": {
        "colab": {
          "base_uri": "https://localhost:8080/"
        },
        "id": "iHpZ67B5-kJe",
        "outputId": "23466258-cc36-45d4-bb1b-e184fff381b2"
      },
      "outputs": [
        {
          "output_type": "stream",
          "name": "stdout",
          "text": [
            "Looking in indexes: https://pypi.org/simple, https://us-python.pkg.dev/colab-wheels/public/simple/\n",
            "Requirement already satisfied: kss in /usr/local/lib/python3.7/dist-packages (3.4.3)\n",
            "Requirement already satisfied: konlpy in /usr/local/lib/python3.7/dist-packages (0.6.0)\n",
            "Requirement already satisfied: regex in /usr/local/lib/python3.7/dist-packages (from kss) (2022.6.2)\n",
            "Requirement already satisfied: emoji==1.2.0 in /usr/local/lib/python3.7/dist-packages (from kss) (1.2.0)\n",
            "Requirement already satisfied: more-itertools in /usr/local/lib/python3.7/dist-packages (from kss) (8.13.0)\n",
            "Requirement already satisfied: JPype1>=0.7.0 in /usr/local/lib/python3.7/dist-packages (from konlpy) (1.4.0)\n",
            "Requirement already satisfied: numpy>=1.6 in /usr/local/lib/python3.7/dist-packages (from konlpy) (1.21.6)\n",
            "Requirement already satisfied: lxml>=4.1.0 in /usr/local/lib/python3.7/dist-packages (from konlpy) (4.9.1)\n",
            "Requirement already satisfied: typing-extensions in /usr/local/lib/python3.7/dist-packages (from JPype1>=0.7.0->konlpy) (4.1.1)\n"
          ]
        }
      ],
      "source": [
        "! pip install kss konlpy\n",
        "import nltk, kss, konlpy\n",
        "from konlpy.tag import Okt # 한국어 단어 토크나이저"
      ]
    },
    {
      "cell_type": "code",
      "source": [
        "\n",
        "t_data = '나는 오늘은 습기가 높아서 슬퍼 강의는 잘 듣고 있니?'\n",
        "tk = Okt()"
      ],
      "metadata": {
        "id": "BaqbvvmL_3v-"
      },
      "execution_count": null,
      "outputs": []
    },
    {
      "cell_type": "code",
      "source": [
        "def 문장_처리(in_t):\n",
        "    입력문자 = in_t.replace('?','')\n",
        "    토큰_data= tk.morphs(입력문자) #모프,전체부르기?      \n",
        "    단어집합 = {}    #보캐만들기\n",
        "    단어빈도수 = []\n",
        "    for 단어 in 토큰_data:\n",
        "        if 단어 not in 단어집합 : #단어집합 딕셔너리에 없다면 # 딕셔너리에키값으로\n",
        "            단어집합[단어] = len(단어집합)  # 키와밸류 추가\n",
        "            단어빈도수.insert(len(단어집합)-1 , 1) # insert    # 1:처음들어가니까\n",
        "        else:\n",
        "            단어인덱스 = 단어집합.get(단어)  # 단어의 인덱스 # get 밸류뽑아오는\n",
        "            단어빈도수[단어인덱스] += 1 #횟수 기록\n",
        "    return 단어집합, 단어빈도수 #튜플로 두개 리턴"
      ],
      "metadata": {
        "id": "VkXepGRz_64G"
      },
      "execution_count": null,
      "outputs": []
    },
    {
      "cell_type": "code",
      "source": [
        "from sklearn.feature_extraction.text import CountVectorizer\n",
        "t_t = t_data.replace('?','')\n",
        "bv = CountVectorizer()\n",
        "bv.fit_transform([t_t]).toarray()"
      ],
      "metadata": {
        "colab": {
          "base_uri": "https://localhost:8080/"
        },
        "id": "rgE3EgMAFJTi",
        "outputId": "3de64058-95d4-4c65-d759-3fc94d4de6c0"
      },
      "execution_count": null,
      "outputs": [
        {
          "output_type": "execute_result",
          "data": {
            "text/plain": [
              "array([[1, 1, 1, 1, 1, 1, 1, 1]])"
            ]
          },
          "metadata": {},
          "execution_count": 4
        }
      ]
    },
    {
      "cell_type": "code",
      "source": [
        "문서 = [ '나는 강의는 어려워', '나는 날씨가 덥고 습기가 많아', '나는 오늘은 그냥 있니?' , '나는 수업은 듣고 있니?' ]"
      ],
      "metadata": {
        "id": "_RAJc7jNFpud"
      },
      "execution_count": null,
      "outputs": []
    },
    {
      "cell_type": "code",
      "source": [
        "bv.vocabulary_"
      ],
      "metadata": {
        "colab": {
          "base_uri": "https://localhost:8080/"
        },
        "id": "dIzQ5pZLFmsU",
        "outputId": "f8a68ae3-143a-4117-a7d0-fbbff5b16081"
      },
      "execution_count": null,
      "outputs": [
        {
          "output_type": "execute_result",
          "data": {
            "text/plain": [
              "{'강의는': 0, '나는': 1, '높아서': 2, '듣고': 3, '슬퍼': 4, '습기가': 5, '오늘은': 6, '있니': 7}"
            ]
          },
          "metadata": {},
          "execution_count": 6
        }
      ]
    },
    {
      "cell_type": "code",
      "source": [
        "# DTM 행렬 / BOW빈도\n",
        "bv.transform(문서).toarray()"
      ],
      "metadata": {
        "colab": {
          "base_uri": "https://localhost:8080/"
        },
        "id": "I1afnFyTF3k7",
        "outputId": "075409de-5717-467e-b9f5-8280d7b27c11"
      },
      "execution_count": null,
      "outputs": [
        {
          "output_type": "execute_result",
          "data": {
            "text/plain": [
              "array([[1, 1, 0, 0, 0, 0, 0, 0],\n",
              "       [0, 1, 0, 0, 0, 1, 0, 0],\n",
              "       [0, 1, 0, 0, 0, 0, 1, 1],\n",
              "       [0, 1, 0, 1, 0, 0, 0, 1]])"
            ]
          },
          "metadata": {},
          "execution_count": 7
        }
      ]
    },
    {
      "cell_type": "code",
      "source": [
        "bv2 = CountVectorizer(stop_words=['나는']) #불용어=나는\n",
        "bv2.fit_transform(문서).toarray()"
      ],
      "metadata": {
        "colab": {
          "base_uri": "https://localhost:8080/"
        },
        "id": "5koXyI4NGnXP",
        "outputId": "70ec6147-78dc-4e04-f73b-2e424d01d087"
      },
      "execution_count": null,
      "outputs": [
        {
          "output_type": "execute_result",
          "data": {
            "text/plain": [
              "array([[1, 0, 0, 0, 0, 0, 0, 0, 1, 0, 0],\n",
              "       [0, 0, 1, 1, 0, 1, 0, 1, 0, 0, 0],\n",
              "       [0, 1, 0, 0, 0, 0, 0, 0, 0, 1, 1],\n",
              "       [0, 0, 0, 0, 1, 0, 1, 0, 0, 0, 1]])"
            ]
          },
          "metadata": {},
          "execution_count": 8
        }
      ]
    },
    {
      "cell_type": "code",
      "source": [
        "bv2.vocabulary_ # '나는'이 없다"
      ],
      "metadata": {
        "colab": {
          "base_uri": "https://localhost:8080/"
        },
        "id": "PnEuJ5KEGa9q",
        "outputId": "61a74563-674d-4b03-d7f5-e8e155662577"
      },
      "execution_count": null,
      "outputs": [
        {
          "output_type": "execute_result",
          "data": {
            "text/plain": [
              "{'강의는': 0,\n",
              " '그냥': 1,\n",
              " '날씨가': 2,\n",
              " '덥고': 3,\n",
              " '듣고': 4,\n",
              " '많아': 5,\n",
              " '수업은': 6,\n",
              " '습기가': 7,\n",
              " '어려워': 8,\n",
              " '오늘은': 9,\n",
              " '있니': 10}"
            ]
          },
          "metadata": {},
          "execution_count": 9
        }
      ]
    },
    {
      "cell_type": "markdown",
      "source": [
        "TF-IDF    #단어마다 가중치를 다르게 주는 것"
      ],
      "metadata": {
        "id": "ny2at2P4HIbf"
      }
    },
    {
      "cell_type": "code",
      "source": [
        "t_data = [ \n",
        "    '공부 하고 싶다' ,\n",
        "    '공부 하고 싫다' ,\n",
        "    '공부 내일 할까' ,\n",
        "    '공부 하고 놀기' ,\n",
        "    '놀기 말고 놀자' ] \n",
        "\n",
        "from math import log\n",
        "import pandas as pd \n"
      ],
      "metadata": {
        "id": "XrKROdZmHK3f"
      },
      "execution_count": null,
      "outputs": []
    },
    {
      "cell_type": "code",
      "source": [
        "vos = list(set( 단어 for 문장 in t_data for 단어 in 문장.split())) # 중복방지를위한set\n",
        "vos"
      ],
      "metadata": {
        "colab": {
          "base_uri": "https://localhost:8080/"
        },
        "id": "obz5y0OvH5sK",
        "outputId": "091c71ed-4528-4fc1-8887-e748ed9f18aa"
      },
      "execution_count": null,
      "outputs": [
        {
          "output_type": "execute_result",
          "data": {
            "text/plain": [
              "['할까', '하고', '내일', '싫다', '공부', '놀기', '말고', '놀자', '싶다']"
            ]
          },
          "metadata": {},
          "execution_count": 6
        }
      ]
    },
    {
      "cell_type": "code",
      "source": [
        "type(vos),type(t_data)"
      ],
      "metadata": {
        "colab": {
          "base_uri": "https://localhost:8080/"
        },
        "id": "xCfJPpHFzVuX",
        "outputId": "647e4346-2753-4fc1-8371-b4d32abe07d9"
      },
      "execution_count": null,
      "outputs": [
        {
          "output_type": "execute_result",
          "data": {
            "text/plain": [
              "(list, list)"
            ]
          },
          "metadata": {},
          "execution_count": 7
        }
      ]
    },
    {
      "cell_type": "code",
      "source": [
        "len(vos), len(t_data)"
      ],
      "metadata": {
        "colab": {
          "base_uri": "https://localhost:8080/"
        },
        "id": "Ba8Ad1vnye5c",
        "outputId": "5ae57e50-38f9-48eb-96a0-d755498b2ce3"
      },
      "execution_count": null,
      "outputs": [
        {
          "output_type": "execute_result",
          "data": {
            "text/plain": [
              "(9, 5)"
            ]
          },
          "metadata": {},
          "execution_count": 8
        }
      ]
    },
    {
      "cell_type": "code",
      "source": [
        "import pandas as pd\n",
        "pd.DataFrame(t_data)"
      ],
      "metadata": {
        "colab": {
          "base_uri": "https://localhost:8080/",
          "height": 206
        },
        "id": "LsfgPtvO2KEy",
        "outputId": "0705b7e7-d38e-4dbb-a5b0-ecfb8fed701b"
      },
      "execution_count": null,
      "outputs": [
        {
          "output_type": "execute_result",
          "data": {
            "text/plain": [
              "          0\n",
              "0  공부 하고 싶다\n",
              "1  공부 하고 싫다\n",
              "2  공부 내일 할까\n",
              "3  공부 하고 놀기\n",
              "4  놀기 말고 놀자"
            ],
            "text/html": [
              "\n",
              "  <div id=\"df-44f0a4ac-2e35-4a47-99d3-5b83e8f84369\">\n",
              "    <div class=\"colab-df-container\">\n",
              "      <div>\n",
              "<style scoped>\n",
              "    .dataframe tbody tr th:only-of-type {\n",
              "        vertical-align: middle;\n",
              "    }\n",
              "\n",
              "    .dataframe tbody tr th {\n",
              "        vertical-align: top;\n",
              "    }\n",
              "\n",
              "    .dataframe thead th {\n",
              "        text-align: right;\n",
              "    }\n",
              "</style>\n",
              "<table border=\"1\" class=\"dataframe\">\n",
              "  <thead>\n",
              "    <tr style=\"text-align: right;\">\n",
              "      <th></th>\n",
              "      <th>0</th>\n",
              "    </tr>\n",
              "  </thead>\n",
              "  <tbody>\n",
              "    <tr>\n",
              "      <th>0</th>\n",
              "      <td>공부 하고 싶다</td>\n",
              "    </tr>\n",
              "    <tr>\n",
              "      <th>1</th>\n",
              "      <td>공부 하고 싫다</td>\n",
              "    </tr>\n",
              "    <tr>\n",
              "      <th>2</th>\n",
              "      <td>공부 내일 할까</td>\n",
              "    </tr>\n",
              "    <tr>\n",
              "      <th>3</th>\n",
              "      <td>공부 하고 놀기</td>\n",
              "    </tr>\n",
              "    <tr>\n",
              "      <th>4</th>\n",
              "      <td>놀기 말고 놀자</td>\n",
              "    </tr>\n",
              "  </tbody>\n",
              "</table>\n",
              "</div>\n",
              "      <button class=\"colab-df-convert\" onclick=\"convertToInteractive('df-44f0a4ac-2e35-4a47-99d3-5b83e8f84369')\"\n",
              "              title=\"Convert this dataframe to an interactive table.\"\n",
              "              style=\"display:none;\">\n",
              "        \n",
              "  <svg xmlns=\"http://www.w3.org/2000/svg\" height=\"24px\"viewBox=\"0 0 24 24\"\n",
              "       width=\"24px\">\n",
              "    <path d=\"M0 0h24v24H0V0z\" fill=\"none\"/>\n",
              "    <path d=\"M18.56 5.44l.94 2.06.94-2.06 2.06-.94-2.06-.94-.94-2.06-.94 2.06-2.06.94zm-11 1L8.5 8.5l.94-2.06 2.06-.94-2.06-.94L8.5 2.5l-.94 2.06-2.06.94zm10 10l.94 2.06.94-2.06 2.06-.94-2.06-.94-.94-2.06-.94 2.06-2.06.94z\"/><path d=\"M17.41 7.96l-1.37-1.37c-.4-.4-.92-.59-1.43-.59-.52 0-1.04.2-1.43.59L10.3 9.45l-7.72 7.72c-.78.78-.78 2.05 0 2.83L4 21.41c.39.39.9.59 1.41.59.51 0 1.02-.2 1.41-.59l7.78-7.78 2.81-2.81c.8-.78.8-2.07 0-2.86zM5.41 20L4 18.59l7.72-7.72 1.47 1.35L5.41 20z\"/>\n",
              "  </svg>\n",
              "      </button>\n",
              "      \n",
              "  <style>\n",
              "    .colab-df-container {\n",
              "      display:flex;\n",
              "      flex-wrap:wrap;\n",
              "      gap: 12px;\n",
              "    }\n",
              "\n",
              "    .colab-df-convert {\n",
              "      background-color: #E8F0FE;\n",
              "      border: none;\n",
              "      border-radius: 50%;\n",
              "      cursor: pointer;\n",
              "      display: none;\n",
              "      fill: #1967D2;\n",
              "      height: 32px;\n",
              "      padding: 0 0 0 0;\n",
              "      width: 32px;\n",
              "    }\n",
              "\n",
              "    .colab-df-convert:hover {\n",
              "      background-color: #E2EBFA;\n",
              "      box-shadow: 0px 1px 2px rgba(60, 64, 67, 0.3), 0px 1px 3px 1px rgba(60, 64, 67, 0.15);\n",
              "      fill: #174EA6;\n",
              "    }\n",
              "\n",
              "    [theme=dark] .colab-df-convert {\n",
              "      background-color: #3B4455;\n",
              "      fill: #D2E3FC;\n",
              "    }\n",
              "\n",
              "    [theme=dark] .colab-df-convert:hover {\n",
              "      background-color: #434B5C;\n",
              "      box-shadow: 0px 1px 3px 1px rgba(0, 0, 0, 0.15);\n",
              "      filter: drop-shadow(0px 1px 2px rgba(0, 0, 0, 0.3));\n",
              "      fill: #FFFFFF;\n",
              "    }\n",
              "  </style>\n",
              "\n",
              "      <script>\n",
              "        const buttonEl =\n",
              "          document.querySelector('#df-44f0a4ac-2e35-4a47-99d3-5b83e8f84369 button.colab-df-convert');\n",
              "        buttonEl.style.display =\n",
              "          google.colab.kernel.accessAllowed ? 'block' : 'none';\n",
              "\n",
              "        async function convertToInteractive(key) {\n",
              "          const element = document.querySelector('#df-44f0a4ac-2e35-4a47-99d3-5b83e8f84369');\n",
              "          const dataTable =\n",
              "            await google.colab.kernel.invokeFunction('convertToInteractive',\n",
              "                                                     [key], {});\n",
              "          if (!dataTable) return;\n",
              "\n",
              "          const docLinkHtml = 'Like what you see? Visit the ' +\n",
              "            '<a target=\"_blank\" href=https://colab.research.google.com/notebooks/data_table.ipynb>data table notebook</a>'\n",
              "            + ' to learn more about interactive tables.';\n",
              "          element.innerHTML = '';\n",
              "          dataTable['output_type'] = 'display_data';\n",
              "          await google.colab.output.renderOutput(dataTable, element);\n",
              "          const docLink = document.createElement('div');\n",
              "          docLink.innerHTML = docLinkHtml;\n",
              "          element.appendChild(docLink);\n",
              "        }\n",
              "      </script>\n",
              "    </div>\n",
              "  </div>\n",
              "  "
            ]
          },
          "metadata": {},
          "execution_count": 9
        }
      ]
    },
    {
      "cell_type": "code",
      "source": [
        "pd.DataFrame(vos)"
      ],
      "metadata": {
        "colab": {
          "base_uri": "https://localhost:8080/",
          "height": 332
        },
        "id": "-uvsSanW2MSR",
        "outputId": "ad0d02a1-12e1-40c3-ef24-f715eda9d804"
      },
      "execution_count": null,
      "outputs": [
        {
          "output_type": "execute_result",
          "data": {
            "text/plain": [
              "    0\n",
              "0  할까\n",
              "1  하고\n",
              "2  내일\n",
              "3  싫다\n",
              "4  공부\n",
              "5  놀기\n",
              "6  말고\n",
              "7  놀자\n",
              "8  싶다"
            ],
            "text/html": [
              "\n",
              "  <div id=\"df-29755839-b453-4d5a-a9d9-94514dd281ff\">\n",
              "    <div class=\"colab-df-container\">\n",
              "      <div>\n",
              "<style scoped>\n",
              "    .dataframe tbody tr th:only-of-type {\n",
              "        vertical-align: middle;\n",
              "    }\n",
              "\n",
              "    .dataframe tbody tr th {\n",
              "        vertical-align: top;\n",
              "    }\n",
              "\n",
              "    .dataframe thead th {\n",
              "        text-align: right;\n",
              "    }\n",
              "</style>\n",
              "<table border=\"1\" class=\"dataframe\">\n",
              "  <thead>\n",
              "    <tr style=\"text-align: right;\">\n",
              "      <th></th>\n",
              "      <th>0</th>\n",
              "    </tr>\n",
              "  </thead>\n",
              "  <tbody>\n",
              "    <tr>\n",
              "      <th>0</th>\n",
              "      <td>할까</td>\n",
              "    </tr>\n",
              "    <tr>\n",
              "      <th>1</th>\n",
              "      <td>하고</td>\n",
              "    </tr>\n",
              "    <tr>\n",
              "      <th>2</th>\n",
              "      <td>내일</td>\n",
              "    </tr>\n",
              "    <tr>\n",
              "      <th>3</th>\n",
              "      <td>싫다</td>\n",
              "    </tr>\n",
              "    <tr>\n",
              "      <th>4</th>\n",
              "      <td>공부</td>\n",
              "    </tr>\n",
              "    <tr>\n",
              "      <th>5</th>\n",
              "      <td>놀기</td>\n",
              "    </tr>\n",
              "    <tr>\n",
              "      <th>6</th>\n",
              "      <td>말고</td>\n",
              "    </tr>\n",
              "    <tr>\n",
              "      <th>7</th>\n",
              "      <td>놀자</td>\n",
              "    </tr>\n",
              "    <tr>\n",
              "      <th>8</th>\n",
              "      <td>싶다</td>\n",
              "    </tr>\n",
              "  </tbody>\n",
              "</table>\n",
              "</div>\n",
              "      <button class=\"colab-df-convert\" onclick=\"convertToInteractive('df-29755839-b453-4d5a-a9d9-94514dd281ff')\"\n",
              "              title=\"Convert this dataframe to an interactive table.\"\n",
              "              style=\"display:none;\">\n",
              "        \n",
              "  <svg xmlns=\"http://www.w3.org/2000/svg\" height=\"24px\"viewBox=\"0 0 24 24\"\n",
              "       width=\"24px\">\n",
              "    <path d=\"M0 0h24v24H0V0z\" fill=\"none\"/>\n",
              "    <path d=\"M18.56 5.44l.94 2.06.94-2.06 2.06-.94-2.06-.94-.94-2.06-.94 2.06-2.06.94zm-11 1L8.5 8.5l.94-2.06 2.06-.94-2.06-.94L8.5 2.5l-.94 2.06-2.06.94zm10 10l.94 2.06.94-2.06 2.06-.94-2.06-.94-.94-2.06-.94 2.06-2.06.94z\"/><path d=\"M17.41 7.96l-1.37-1.37c-.4-.4-.92-.59-1.43-.59-.52 0-1.04.2-1.43.59L10.3 9.45l-7.72 7.72c-.78.78-.78 2.05 0 2.83L4 21.41c.39.39.9.59 1.41.59.51 0 1.02-.2 1.41-.59l7.78-7.78 2.81-2.81c.8-.78.8-2.07 0-2.86zM5.41 20L4 18.59l7.72-7.72 1.47 1.35L5.41 20z\"/>\n",
              "  </svg>\n",
              "      </button>\n",
              "      \n",
              "  <style>\n",
              "    .colab-df-container {\n",
              "      display:flex;\n",
              "      flex-wrap:wrap;\n",
              "      gap: 12px;\n",
              "    }\n",
              "\n",
              "    .colab-df-convert {\n",
              "      background-color: #E8F0FE;\n",
              "      border: none;\n",
              "      border-radius: 50%;\n",
              "      cursor: pointer;\n",
              "      display: none;\n",
              "      fill: #1967D2;\n",
              "      height: 32px;\n",
              "      padding: 0 0 0 0;\n",
              "      width: 32px;\n",
              "    }\n",
              "\n",
              "    .colab-df-convert:hover {\n",
              "      background-color: #E2EBFA;\n",
              "      box-shadow: 0px 1px 2px rgba(60, 64, 67, 0.3), 0px 1px 3px 1px rgba(60, 64, 67, 0.15);\n",
              "      fill: #174EA6;\n",
              "    }\n",
              "\n",
              "    [theme=dark] .colab-df-convert {\n",
              "      background-color: #3B4455;\n",
              "      fill: #D2E3FC;\n",
              "    }\n",
              "\n",
              "    [theme=dark] .colab-df-convert:hover {\n",
              "      background-color: #434B5C;\n",
              "      box-shadow: 0px 1px 3px 1px rgba(0, 0, 0, 0.15);\n",
              "      filter: drop-shadow(0px 1px 2px rgba(0, 0, 0, 0.3));\n",
              "      fill: #FFFFFF;\n",
              "    }\n",
              "  </style>\n",
              "\n",
              "      <script>\n",
              "        const buttonEl =\n",
              "          document.querySelector('#df-29755839-b453-4d5a-a9d9-94514dd281ff button.colab-df-convert');\n",
              "        buttonEl.style.display =\n",
              "          google.colab.kernel.accessAllowed ? 'block' : 'none';\n",
              "\n",
              "        async function convertToInteractive(key) {\n",
              "          const element = document.querySelector('#df-29755839-b453-4d5a-a9d9-94514dd281ff');\n",
              "          const dataTable =\n",
              "            await google.colab.kernel.invokeFunction('convertToInteractive',\n",
              "                                                     [key], {});\n",
              "          if (!dataTable) return;\n",
              "\n",
              "          const docLinkHtml = 'Like what you see? Visit the ' +\n",
              "            '<a target=\"_blank\" href=https://colab.research.google.com/notebooks/data_table.ipynb>data table notebook</a>'\n",
              "            + ' to learn more about interactive tables.';\n",
              "          element.innerHTML = '';\n",
              "          dataTable['output_type'] = 'display_data';\n",
              "          await google.colab.output.renderOutput(dataTable, element);\n",
              "          const docLink = document.createElement('div');\n",
              "          docLink.innerHTML = docLinkHtml;\n",
              "          element.appendChild(docLink);\n",
              "        }\n",
              "      </script>\n",
              "    </div>\n",
              "  </div>\n",
              "  "
            ]
          },
          "metadata": {},
          "execution_count": 10
        }
      ]
    },
    {
      "cell_type": "code",
      "source": [
        "# TF-IDF  공식 코드화\n",
        "n=len(t_data)\n",
        "def tf(t,d):                #  tf는 몇번 나왔는지 카운트\n",
        "    return d.count(t)\n",
        "def idf(t):\n",
        "    df=0 #횟수\n",
        "    for 문장 in t_data:\n",
        "        df +=  t in 문장   # 문장안에 t 가 있다면 1이 df에 전달됨\n",
        "    return log(n/(df+1))                   # idf 공식    idf(d,t) = log ( n / 1+df(t) )\n",
        "def tfidf(t,d):\n",
        "    return tf(t,d)*idf(t)"
      ],
      "metadata": {
        "id": "hyDXcwzpIgX4"
      },
      "execution_count": null,
      "outputs": []
    },
    {
      "cell_type": "code",
      "source": [
        "# DTM = tf table\n",
        "t_l = []\n",
        "for i in range(n): #문서 수 n개\n",
        "    t_l.append([]) # 이차원리스트를만들기위한  #인덱스넣을칸작업\n",
        "    d = t_data[i]\n",
        "    for j in range(len(vos)): #vos 보캐불러셋집합\n",
        "        t = vos[j]\n",
        "        t_l[-1].append(tf(t,d))\n",
        "import pandas as pd\n",
        "tf_ = pd.DataFrame(t_l, columns = vos)\n",
        "tf_  # 싶다 - 1이 하나뿐 > 문장에서 주요의미 > 가중치 높게"
      ],
      "metadata": {
        "colab": {
          "base_uri": "https://localhost:8080/",
          "height": 206
        },
        "id": "gSpAN080J2kd",
        "outputId": "4073ce25-f702-4c7d-80e5-2b1a37097aa6"
      },
      "execution_count": null,
      "outputs": [
        {
          "output_type": "execute_result",
          "data": {
            "text/plain": [
              "   싫다  놀기  공부  할까  하고  싶다  내일  말고  놀자\n",
              "0   0   0   1   0   1   1   0   0   0\n",
              "1   1   0   1   0   1   0   0   0   0\n",
              "2   0   0   1   1   0   0   1   0   0\n",
              "3   0   1   1   0   1   0   0   0   0\n",
              "4   0   1   0   0   0   0   0   1   1"
            ],
            "text/html": [
              "\n",
              "  <div id=\"df-f1248034-1641-4a84-b3f9-74869e2fc8c3\">\n",
              "    <div class=\"colab-df-container\">\n",
              "      <div>\n",
              "<style scoped>\n",
              "    .dataframe tbody tr th:only-of-type {\n",
              "        vertical-align: middle;\n",
              "    }\n",
              "\n",
              "    .dataframe tbody tr th {\n",
              "        vertical-align: top;\n",
              "    }\n",
              "\n",
              "    .dataframe thead th {\n",
              "        text-align: right;\n",
              "    }\n",
              "</style>\n",
              "<table border=\"1\" class=\"dataframe\">\n",
              "  <thead>\n",
              "    <tr style=\"text-align: right;\">\n",
              "      <th></th>\n",
              "      <th>싫다</th>\n",
              "      <th>놀기</th>\n",
              "      <th>공부</th>\n",
              "      <th>할까</th>\n",
              "      <th>하고</th>\n",
              "      <th>싶다</th>\n",
              "      <th>내일</th>\n",
              "      <th>말고</th>\n",
              "      <th>놀자</th>\n",
              "    </tr>\n",
              "  </thead>\n",
              "  <tbody>\n",
              "    <tr>\n",
              "      <th>0</th>\n",
              "      <td>0</td>\n",
              "      <td>0</td>\n",
              "      <td>1</td>\n",
              "      <td>0</td>\n",
              "      <td>1</td>\n",
              "      <td>1</td>\n",
              "      <td>0</td>\n",
              "      <td>0</td>\n",
              "      <td>0</td>\n",
              "    </tr>\n",
              "    <tr>\n",
              "      <th>1</th>\n",
              "      <td>1</td>\n",
              "      <td>0</td>\n",
              "      <td>1</td>\n",
              "      <td>0</td>\n",
              "      <td>1</td>\n",
              "      <td>0</td>\n",
              "      <td>0</td>\n",
              "      <td>0</td>\n",
              "      <td>0</td>\n",
              "    </tr>\n",
              "    <tr>\n",
              "      <th>2</th>\n",
              "      <td>0</td>\n",
              "      <td>0</td>\n",
              "      <td>1</td>\n",
              "      <td>1</td>\n",
              "      <td>0</td>\n",
              "      <td>0</td>\n",
              "      <td>1</td>\n",
              "      <td>0</td>\n",
              "      <td>0</td>\n",
              "    </tr>\n",
              "    <tr>\n",
              "      <th>3</th>\n",
              "      <td>0</td>\n",
              "      <td>1</td>\n",
              "      <td>1</td>\n",
              "      <td>0</td>\n",
              "      <td>1</td>\n",
              "      <td>0</td>\n",
              "      <td>0</td>\n",
              "      <td>0</td>\n",
              "      <td>0</td>\n",
              "    </tr>\n",
              "    <tr>\n",
              "      <th>4</th>\n",
              "      <td>0</td>\n",
              "      <td>1</td>\n",
              "      <td>0</td>\n",
              "      <td>0</td>\n",
              "      <td>0</td>\n",
              "      <td>0</td>\n",
              "      <td>0</td>\n",
              "      <td>1</td>\n",
              "      <td>1</td>\n",
              "    </tr>\n",
              "  </tbody>\n",
              "</table>\n",
              "</div>\n",
              "      <button class=\"colab-df-convert\" onclick=\"convertToInteractive('df-f1248034-1641-4a84-b3f9-74869e2fc8c3')\"\n",
              "              title=\"Convert this dataframe to an interactive table.\"\n",
              "              style=\"display:none;\">\n",
              "        \n",
              "  <svg xmlns=\"http://www.w3.org/2000/svg\" height=\"24px\"viewBox=\"0 0 24 24\"\n",
              "       width=\"24px\">\n",
              "    <path d=\"M0 0h24v24H0V0z\" fill=\"none\"/>\n",
              "    <path d=\"M18.56 5.44l.94 2.06.94-2.06 2.06-.94-2.06-.94-.94-2.06-.94 2.06-2.06.94zm-11 1L8.5 8.5l.94-2.06 2.06-.94-2.06-.94L8.5 2.5l-.94 2.06-2.06.94zm10 10l.94 2.06.94-2.06 2.06-.94-2.06-.94-.94-2.06-.94 2.06-2.06.94z\"/><path d=\"M17.41 7.96l-1.37-1.37c-.4-.4-.92-.59-1.43-.59-.52 0-1.04.2-1.43.59L10.3 9.45l-7.72 7.72c-.78.78-.78 2.05 0 2.83L4 21.41c.39.39.9.59 1.41.59.51 0 1.02-.2 1.41-.59l7.78-7.78 2.81-2.81c.8-.78.8-2.07 0-2.86zM5.41 20L4 18.59l7.72-7.72 1.47 1.35L5.41 20z\"/>\n",
              "  </svg>\n",
              "      </button>\n",
              "      \n",
              "  <style>\n",
              "    .colab-df-container {\n",
              "      display:flex;\n",
              "      flex-wrap:wrap;\n",
              "      gap: 12px;\n",
              "    }\n",
              "\n",
              "    .colab-df-convert {\n",
              "      background-color: #E8F0FE;\n",
              "      border: none;\n",
              "      border-radius: 50%;\n",
              "      cursor: pointer;\n",
              "      display: none;\n",
              "      fill: #1967D2;\n",
              "      height: 32px;\n",
              "      padding: 0 0 0 0;\n",
              "      width: 32px;\n",
              "    }\n",
              "\n",
              "    .colab-df-convert:hover {\n",
              "      background-color: #E2EBFA;\n",
              "      box-shadow: 0px 1px 2px rgba(60, 64, 67, 0.3), 0px 1px 3px 1px rgba(60, 64, 67, 0.15);\n",
              "      fill: #174EA6;\n",
              "    }\n",
              "\n",
              "    [theme=dark] .colab-df-convert {\n",
              "      background-color: #3B4455;\n",
              "      fill: #D2E3FC;\n",
              "    }\n",
              "\n",
              "    [theme=dark] .colab-df-convert:hover {\n",
              "      background-color: #434B5C;\n",
              "      box-shadow: 0px 1px 3px 1px rgba(0, 0, 0, 0.15);\n",
              "      filter: drop-shadow(0px 1px 2px rgba(0, 0, 0, 0.3));\n",
              "      fill: #FFFFFF;\n",
              "    }\n",
              "  </style>\n",
              "\n",
              "      <script>\n",
              "        const buttonEl =\n",
              "          document.querySelector('#df-f1248034-1641-4a84-b3f9-74869e2fc8c3 button.colab-df-convert');\n",
              "        buttonEl.style.display =\n",
              "          google.colab.kernel.accessAllowed ? 'block' : 'none';\n",
              "\n",
              "        async function convertToInteractive(key) {\n",
              "          const element = document.querySelector('#df-f1248034-1641-4a84-b3f9-74869e2fc8c3');\n",
              "          const dataTable =\n",
              "            await google.colab.kernel.invokeFunction('convertToInteractive',\n",
              "                                                     [key], {});\n",
              "          if (!dataTable) return;\n",
              "\n",
              "          const docLinkHtml = 'Like what you see? Visit the ' +\n",
              "            '<a target=\"_blank\" href=https://colab.research.google.com/notebooks/data_table.ipynb>data table notebook</a>'\n",
              "            + ' to learn more about interactive tables.';\n",
              "          element.innerHTML = '';\n",
              "          dataTable['output_type'] = 'display_data';\n",
              "          await google.colab.output.renderOutput(dataTable, element);\n",
              "          const docLink = document.createElement('div');\n",
              "          docLink.innerHTML = docLinkHtml;\n",
              "          element.appendChild(docLink);\n",
              "        }\n",
              "      </script>\n",
              "    </div>\n",
              "  </div>\n",
              "  "
            ]
          },
          "metadata": {},
          "execution_count": 4
        }
      ]
    },
    {
      "cell_type": "code",
      "source": [
        "idf_l = []\n",
        "for i in range(len(vos)):\n",
        "    t=vos[i]\n",
        "    idf_l.append(idf(t))\n",
        "idf_ = pd.DataFrame(idf_l , index=vos , columns=['IDF']) \n",
        "idf_\n",
        "# 각단어별 idf  가중치를 보여준다  단어마다 weight 곱셈 = 벡터화"
      ],
      "metadata": {
        "colab": {
          "base_uri": "https://localhost:8080/",
          "height": 332
        },
        "id": "Hlpx9kTVLgly",
        "outputId": "c96efa68-8a94-4dca-ab86-a56c01c9da10"
      },
      "execution_count": null,
      "outputs": [
        {
          "output_type": "execute_result",
          "data": {
            "text/plain": [
              "         IDF\n",
              "싶다  0.916291\n",
              "공부  0.000000\n",
              "하고  0.223144\n",
              "할까  0.916291\n",
              "놀기  0.510826\n",
              "싫다  0.916291\n",
              "내일  0.916291\n",
              "놀자  0.916291\n",
              "말고  0.916291"
            ],
            "text/html": [
              "\n",
              "  <div id=\"df-1d5068a7-fea8-4a33-abfa-aabcda85ac7f\">\n",
              "    <div class=\"colab-df-container\">\n",
              "      <div>\n",
              "<style scoped>\n",
              "    .dataframe tbody tr th:only-of-type {\n",
              "        vertical-align: middle;\n",
              "    }\n",
              "\n",
              "    .dataframe tbody tr th {\n",
              "        vertical-align: top;\n",
              "    }\n",
              "\n",
              "    .dataframe thead th {\n",
              "        text-align: right;\n",
              "    }\n",
              "</style>\n",
              "<table border=\"1\" class=\"dataframe\">\n",
              "  <thead>\n",
              "    <tr style=\"text-align: right;\">\n",
              "      <th></th>\n",
              "      <th>IDF</th>\n",
              "    </tr>\n",
              "  </thead>\n",
              "  <tbody>\n",
              "    <tr>\n",
              "      <th>싶다</th>\n",
              "      <td>0.916291</td>\n",
              "    </tr>\n",
              "    <tr>\n",
              "      <th>공부</th>\n",
              "      <td>0.000000</td>\n",
              "    </tr>\n",
              "    <tr>\n",
              "      <th>하고</th>\n",
              "      <td>0.223144</td>\n",
              "    </tr>\n",
              "    <tr>\n",
              "      <th>할까</th>\n",
              "      <td>0.916291</td>\n",
              "    </tr>\n",
              "    <tr>\n",
              "      <th>놀기</th>\n",
              "      <td>0.510826</td>\n",
              "    </tr>\n",
              "    <tr>\n",
              "      <th>싫다</th>\n",
              "      <td>0.916291</td>\n",
              "    </tr>\n",
              "    <tr>\n",
              "      <th>내일</th>\n",
              "      <td>0.916291</td>\n",
              "    </tr>\n",
              "    <tr>\n",
              "      <th>놀자</th>\n",
              "      <td>0.916291</td>\n",
              "    </tr>\n",
              "    <tr>\n",
              "      <th>말고</th>\n",
              "      <td>0.916291</td>\n",
              "    </tr>\n",
              "  </tbody>\n",
              "</table>\n",
              "</div>\n",
              "      <button class=\"colab-df-convert\" onclick=\"convertToInteractive('df-1d5068a7-fea8-4a33-abfa-aabcda85ac7f')\"\n",
              "              title=\"Convert this dataframe to an interactive table.\"\n",
              "              style=\"display:none;\">\n",
              "        \n",
              "  <svg xmlns=\"http://www.w3.org/2000/svg\" height=\"24px\"viewBox=\"0 0 24 24\"\n",
              "       width=\"24px\">\n",
              "    <path d=\"M0 0h24v24H0V0z\" fill=\"none\"/>\n",
              "    <path d=\"M18.56 5.44l.94 2.06.94-2.06 2.06-.94-2.06-.94-.94-2.06-.94 2.06-2.06.94zm-11 1L8.5 8.5l.94-2.06 2.06-.94-2.06-.94L8.5 2.5l-.94 2.06-2.06.94zm10 10l.94 2.06.94-2.06 2.06-.94-2.06-.94-.94-2.06-.94 2.06-2.06.94z\"/><path d=\"M17.41 7.96l-1.37-1.37c-.4-.4-.92-.59-1.43-.59-.52 0-1.04.2-1.43.59L10.3 9.45l-7.72 7.72c-.78.78-.78 2.05 0 2.83L4 21.41c.39.39.9.59 1.41.59.51 0 1.02-.2 1.41-.59l7.78-7.78 2.81-2.81c.8-.78.8-2.07 0-2.86zM5.41 20L4 18.59l7.72-7.72 1.47 1.35L5.41 20z\"/>\n",
              "  </svg>\n",
              "      </button>\n",
              "      \n",
              "  <style>\n",
              "    .colab-df-container {\n",
              "      display:flex;\n",
              "      flex-wrap:wrap;\n",
              "      gap: 12px;\n",
              "    }\n",
              "\n",
              "    .colab-df-convert {\n",
              "      background-color: #E8F0FE;\n",
              "      border: none;\n",
              "      border-radius: 50%;\n",
              "      cursor: pointer;\n",
              "      display: none;\n",
              "      fill: #1967D2;\n",
              "      height: 32px;\n",
              "      padding: 0 0 0 0;\n",
              "      width: 32px;\n",
              "    }\n",
              "\n",
              "    .colab-df-convert:hover {\n",
              "      background-color: #E2EBFA;\n",
              "      box-shadow: 0px 1px 2px rgba(60, 64, 67, 0.3), 0px 1px 3px 1px rgba(60, 64, 67, 0.15);\n",
              "      fill: #174EA6;\n",
              "    }\n",
              "\n",
              "    [theme=dark] .colab-df-convert {\n",
              "      background-color: #3B4455;\n",
              "      fill: #D2E3FC;\n",
              "    }\n",
              "\n",
              "    [theme=dark] .colab-df-convert:hover {\n",
              "      background-color: #434B5C;\n",
              "      box-shadow: 0px 1px 3px 1px rgba(0, 0, 0, 0.15);\n",
              "      filter: drop-shadow(0px 1px 2px rgba(0, 0, 0, 0.3));\n",
              "      fill: #FFFFFF;\n",
              "    }\n",
              "  </style>\n",
              "\n",
              "      <script>\n",
              "        const buttonEl =\n",
              "          document.querySelector('#df-1d5068a7-fea8-4a33-abfa-aabcda85ac7f button.colab-df-convert');\n",
              "        buttonEl.style.display =\n",
              "          google.colab.kernel.accessAllowed ? 'block' : 'none';\n",
              "\n",
              "        async function convertToInteractive(key) {\n",
              "          const element = document.querySelector('#df-1d5068a7-fea8-4a33-abfa-aabcda85ac7f');\n",
              "          const dataTable =\n",
              "            await google.colab.kernel.invokeFunction('convertToInteractive',\n",
              "                                                     [key], {});\n",
              "          if (!dataTable) return;\n",
              "\n",
              "          const docLinkHtml = 'Like what you see? Visit the ' +\n",
              "            '<a target=\"_blank\" href=https://colab.research.google.com/notebooks/data_table.ipynb>data table notebook</a>'\n",
              "            + ' to learn more about interactive tables.';\n",
              "          element.innerHTML = '';\n",
              "          dataTable['output_type'] = 'display_data';\n",
              "          await google.colab.output.renderOutput(dataTable, element);\n",
              "          const docLink = document.createElement('div');\n",
              "          docLink.innerHTML = docLinkHtml;\n",
              "          element.appendChild(docLink);\n",
              "        }\n",
              "      </script>\n",
              "    </div>\n",
              "  </div>\n",
              "  "
            ]
          },
          "metadata": {},
          "execution_count": 14
        }
      ]
    },
    {
      "cell_type": "code",
      "source": [
        "tf_idf_l = []\n",
        "for i in range(n):\n",
        "    tf_idf_l.append([])\n",
        "    d = t_data[i]\n",
        "    for j in range(len(vos)):\n",
        "        t = vos[j]\n",
        "        tf_idf_l[-1].append(tfidf(t,d))\n",
        "tf_idf_ = pd.DataFrame(tf_idf_l, columns=vos )\n",
        "tf_idf_             \n",
        "# 데이터테이블: tf 와 idf 곱   tf-idf"
      ],
      "metadata": {
        "colab": {
          "base_uri": "https://localhost:8080/",
          "height": 206
        },
        "id": "fZBEys6MNvlH",
        "outputId": "e92f1290-0f2f-454d-ff49-8039aec56224"
      },
      "execution_count": null,
      "outputs": [
        {
          "output_type": "execute_result",
          "data": {
            "text/plain": [
              "         싶다   공부        하고        할까        놀기        싫다        내일        놀자  \\\n",
              "0  0.916291  0.0  0.223144  0.000000  0.000000  0.000000  0.000000  0.000000   \n",
              "1  0.000000  0.0  0.223144  0.000000  0.000000  0.916291  0.000000  0.000000   \n",
              "2  0.000000  0.0  0.000000  0.916291  0.000000  0.000000  0.916291  0.000000   \n",
              "3  0.000000  0.0  0.223144  0.000000  0.510826  0.000000  0.000000  0.000000   \n",
              "4  0.000000  0.0  0.000000  0.000000  0.510826  0.000000  0.000000  0.916291   \n",
              "\n",
              "         말고  \n",
              "0  0.000000  \n",
              "1  0.000000  \n",
              "2  0.000000  \n",
              "3  0.000000  \n",
              "4  0.916291  "
            ],
            "text/html": [
              "\n",
              "  <div id=\"df-74647385-4296-4348-8881-b7939d20b975\">\n",
              "    <div class=\"colab-df-container\">\n",
              "      <div>\n",
              "<style scoped>\n",
              "    .dataframe tbody tr th:only-of-type {\n",
              "        vertical-align: middle;\n",
              "    }\n",
              "\n",
              "    .dataframe tbody tr th {\n",
              "        vertical-align: top;\n",
              "    }\n",
              "\n",
              "    .dataframe thead th {\n",
              "        text-align: right;\n",
              "    }\n",
              "</style>\n",
              "<table border=\"1\" class=\"dataframe\">\n",
              "  <thead>\n",
              "    <tr style=\"text-align: right;\">\n",
              "      <th></th>\n",
              "      <th>싶다</th>\n",
              "      <th>공부</th>\n",
              "      <th>하고</th>\n",
              "      <th>할까</th>\n",
              "      <th>놀기</th>\n",
              "      <th>싫다</th>\n",
              "      <th>내일</th>\n",
              "      <th>놀자</th>\n",
              "      <th>말고</th>\n",
              "    </tr>\n",
              "  </thead>\n",
              "  <tbody>\n",
              "    <tr>\n",
              "      <th>0</th>\n",
              "      <td>0.916291</td>\n",
              "      <td>0.0</td>\n",
              "      <td>0.223144</td>\n",
              "      <td>0.000000</td>\n",
              "      <td>0.000000</td>\n",
              "      <td>0.000000</td>\n",
              "      <td>0.000000</td>\n",
              "      <td>0.000000</td>\n",
              "      <td>0.000000</td>\n",
              "    </tr>\n",
              "    <tr>\n",
              "      <th>1</th>\n",
              "      <td>0.000000</td>\n",
              "      <td>0.0</td>\n",
              "      <td>0.223144</td>\n",
              "      <td>0.000000</td>\n",
              "      <td>0.000000</td>\n",
              "      <td>0.916291</td>\n",
              "      <td>0.000000</td>\n",
              "      <td>0.000000</td>\n",
              "      <td>0.000000</td>\n",
              "    </tr>\n",
              "    <tr>\n",
              "      <th>2</th>\n",
              "      <td>0.000000</td>\n",
              "      <td>0.0</td>\n",
              "      <td>0.000000</td>\n",
              "      <td>0.916291</td>\n",
              "      <td>0.000000</td>\n",
              "      <td>0.000000</td>\n",
              "      <td>0.916291</td>\n",
              "      <td>0.000000</td>\n",
              "      <td>0.000000</td>\n",
              "    </tr>\n",
              "    <tr>\n",
              "      <th>3</th>\n",
              "      <td>0.000000</td>\n",
              "      <td>0.0</td>\n",
              "      <td>0.223144</td>\n",
              "      <td>0.000000</td>\n",
              "      <td>0.510826</td>\n",
              "      <td>0.000000</td>\n",
              "      <td>0.000000</td>\n",
              "      <td>0.000000</td>\n",
              "      <td>0.000000</td>\n",
              "    </tr>\n",
              "    <tr>\n",
              "      <th>4</th>\n",
              "      <td>0.000000</td>\n",
              "      <td>0.0</td>\n",
              "      <td>0.000000</td>\n",
              "      <td>0.000000</td>\n",
              "      <td>0.510826</td>\n",
              "      <td>0.000000</td>\n",
              "      <td>0.000000</td>\n",
              "      <td>0.916291</td>\n",
              "      <td>0.916291</td>\n",
              "    </tr>\n",
              "  </tbody>\n",
              "</table>\n",
              "</div>\n",
              "      <button class=\"colab-df-convert\" onclick=\"convertToInteractive('df-74647385-4296-4348-8881-b7939d20b975')\"\n",
              "              title=\"Convert this dataframe to an interactive table.\"\n",
              "              style=\"display:none;\">\n",
              "        \n",
              "  <svg xmlns=\"http://www.w3.org/2000/svg\" height=\"24px\"viewBox=\"0 0 24 24\"\n",
              "       width=\"24px\">\n",
              "    <path d=\"M0 0h24v24H0V0z\" fill=\"none\"/>\n",
              "    <path d=\"M18.56 5.44l.94 2.06.94-2.06 2.06-.94-2.06-.94-.94-2.06-.94 2.06-2.06.94zm-11 1L8.5 8.5l.94-2.06 2.06-.94-2.06-.94L8.5 2.5l-.94 2.06-2.06.94zm10 10l.94 2.06.94-2.06 2.06-.94-2.06-.94-.94-2.06-.94 2.06-2.06.94z\"/><path d=\"M17.41 7.96l-1.37-1.37c-.4-.4-.92-.59-1.43-.59-.52 0-1.04.2-1.43.59L10.3 9.45l-7.72 7.72c-.78.78-.78 2.05 0 2.83L4 21.41c.39.39.9.59 1.41.59.51 0 1.02-.2 1.41-.59l7.78-7.78 2.81-2.81c.8-.78.8-2.07 0-2.86zM5.41 20L4 18.59l7.72-7.72 1.47 1.35L5.41 20z\"/>\n",
              "  </svg>\n",
              "      </button>\n",
              "      \n",
              "  <style>\n",
              "    .colab-df-container {\n",
              "      display:flex;\n",
              "      flex-wrap:wrap;\n",
              "      gap: 12px;\n",
              "    }\n",
              "\n",
              "    .colab-df-convert {\n",
              "      background-color: #E8F0FE;\n",
              "      border: none;\n",
              "      border-radius: 50%;\n",
              "      cursor: pointer;\n",
              "      display: none;\n",
              "      fill: #1967D2;\n",
              "      height: 32px;\n",
              "      padding: 0 0 0 0;\n",
              "      width: 32px;\n",
              "    }\n",
              "\n",
              "    .colab-df-convert:hover {\n",
              "      background-color: #E2EBFA;\n",
              "      box-shadow: 0px 1px 2px rgba(60, 64, 67, 0.3), 0px 1px 3px 1px rgba(60, 64, 67, 0.15);\n",
              "      fill: #174EA6;\n",
              "    }\n",
              "\n",
              "    [theme=dark] .colab-df-convert {\n",
              "      background-color: #3B4455;\n",
              "      fill: #D2E3FC;\n",
              "    }\n",
              "\n",
              "    [theme=dark] .colab-df-convert:hover {\n",
              "      background-color: #434B5C;\n",
              "      box-shadow: 0px 1px 3px 1px rgba(0, 0, 0, 0.15);\n",
              "      filter: drop-shadow(0px 1px 2px rgba(0, 0, 0, 0.3));\n",
              "      fill: #FFFFFF;\n",
              "    }\n",
              "  </style>\n",
              "\n",
              "      <script>\n",
              "        const buttonEl =\n",
              "          document.querySelector('#df-74647385-4296-4348-8881-b7939d20b975 button.colab-df-convert');\n",
              "        buttonEl.style.display =\n",
              "          google.colab.kernel.accessAllowed ? 'block' : 'none';\n",
              "\n",
              "        async function convertToInteractive(key) {\n",
              "          const element = document.querySelector('#df-74647385-4296-4348-8881-b7939d20b975');\n",
              "          const dataTable =\n",
              "            await google.colab.kernel.invokeFunction('convertToInteractive',\n",
              "                                                     [key], {});\n",
              "          if (!dataTable) return;\n",
              "\n",
              "          const docLinkHtml = 'Like what you see? Visit the ' +\n",
              "            '<a target=\"_blank\" href=https://colab.research.google.com/notebooks/data_table.ipynb>data table notebook</a>'\n",
              "            + ' to learn more about interactive tables.';\n",
              "          element.innerHTML = '';\n",
              "          dataTable['output_type'] = 'display_data';\n",
              "          await google.colab.output.renderOutput(dataTable, element);\n",
              "          const docLink = document.createElement('div');\n",
              "          docLink.innerHTML = docLinkHtml;\n",
              "          element.appendChild(docLink);\n",
              "        }\n",
              "      </script>\n",
              "    </div>\n",
              "  </div>\n",
              "  "
            ]
          },
          "metadata": {},
          "execution_count": 15
        }
      ]
    },
    {
      "cell_type": "code",
      "source": [
        "# 국소표현.이산표현  BOW DTM  TF-IDF  (임베딩도 일종의 국소표현 임베딩을 하면 된다 단 유사도검사시 TF IDF로)\n",
        "# 분산표현.연속표현  Word2Vec, FastText"
      ],
      "metadata": {
        "id": "WGnlSK6QOr3-"
      },
      "execution_count": null,
      "outputs": []
    },
    {
      "cell_type": "code",
      "source": [
        "from sklearn.feature_extraction.text import TfidfVectorizer\n",
        "t_data "
      ],
      "metadata": {
        "colab": {
          "base_uri": "https://localhost:8080/"
        },
        "id": "rzuIMAGiOjCj",
        "outputId": "979561c4-5a59-400a-9e8a-41ec6d421c0b"
      },
      "execution_count": null,
      "outputs": [
        {
          "output_type": "execute_result",
          "data": {
            "text/plain": [
              "['공부 하고 싶다', '공부 하고 싫다', '공부 내일 할까', '공부 하고 놀기', '놀기 말고 놀자']"
            ]
          },
          "metadata": {},
          "execution_count": 17
        }
      ]
    },
    {
      "cell_type": "code",
      "source": [
        "# tf idf 라이브러리"
      ],
      "metadata": {
        "id": "gSfO8Q12PN6q"
      },
      "execution_count": null,
      "outputs": []
    },
    {
      "cell_type": "code",
      "source": [
        "tfidfv = TfidfVectorizer().fit(t_data)\n",
        "tfidfv.vocabulary_"
      ],
      "metadata": {
        "colab": {
          "base_uri": "https://localhost:8080/"
        },
        "id": "9IfnMmSdPE1E",
        "outputId": "20a2cd6d-4acc-4068-f9dd-7a53c6f9ecb4"
      },
      "execution_count": null,
      "outputs": [
        {
          "output_type": "execute_result",
          "data": {
            "text/plain": [
              "{'공부': 0,\n",
              " '내일': 1,\n",
              " '놀기': 2,\n",
              " '놀자': 3,\n",
              " '말고': 4,\n",
              " '싫다': 5,\n",
              " '싶다': 6,\n",
              " '하고': 7,\n",
              " '할까': 8}"
            ]
          },
          "metadata": {},
          "execution_count": 19
        }
      ]
    },
    {
      "cell_type": "code",
      "source": [
        "tfidfv.transform(t_data).toarray()"
      ],
      "metadata": {
        "colab": {
          "base_uri": "https://localhost:8080/"
        },
        "id": "wejZ9NiiPQjM",
        "outputId": "8263f36d-bc47-46ef-c711-105d4dd2eccc"
      },
      "execution_count": null,
      "outputs": [
        {
          "output_type": "execute_result",
          "data": {
            "text/plain": [
              "array([[0.42395393, 0.        , 0.        , 0.        , 0.        ,\n",
              "        0.        , 0.75251519, 0.5039682 , 0.        ],\n",
              "       [0.42395393, 0.        , 0.        , 0.        , 0.        ,\n",
              "        0.75251519, 0.        , 0.5039682 , 0.        ],\n",
              "       [0.37008621, 0.65690037, 0.        , 0.        , 0.        ,\n",
              "        0.        , 0.        , 0.        , 0.65690037],\n",
              "       [0.47330879, 0.        , 0.6778033 , 0.        , 0.        ,\n",
              "        0.        , 0.        , 0.56263796, 0.        ],\n",
              "       [0.        , 0.        , 0.49552379, 0.61418897, 0.61418897,\n",
              "        0.        , 0.        , 0.        , 0.        ]])"
            ]
          },
          "metadata": {},
          "execution_count": 20
        }
      ]
    },
    {
      "cell_type": "code",
      "source": [
        "# tfidfv.transform(t_data).toarray().shape # 문장당9차원 9피처    > 원핫 9*9차원"
      ],
      "metadata": {
        "colab": {
          "base_uri": "https://localhost:8080/"
        },
        "id": "wmR8Y7xIPeHB",
        "outputId": "03038f1d-a1ce-41d4-abe2-03e750059e10"
      },
      "execution_count": null,
      "outputs": [
        {
          "output_type": "execute_result",
          "data": {
            "text/plain": [
              "(5, 9)"
            ]
          },
          "metadata": {},
          "execution_count": 21
        }
      ]
    },
    {
      "cell_type": "code",
      "source": [
        ""
      ],
      "metadata": {
        "id": "FNrN9GDzT0gN"
      },
      "execution_count": null,
      "outputs": []
    },
    {
      "cell_type": "code",
      "source": [
        ""
      ],
      "metadata": {
        "id": "fZ_tomo7UNu2"
      },
      "execution_count": null,
      "outputs": []
    },
    {
      "cell_type": "code",
      "source": [
        ""
      ],
      "metadata": {
        "id": "hbKbheQMWuMx"
      },
      "execution_count": null,
      "outputs": []
    },
    {
      "cell_type": "code",
      "source": [
        ""
      ],
      "metadata": {
        "id": "Jiq_Ybm8WuRx"
      },
      "execution_count": null,
      "outputs": []
    },
    {
      "cell_type": "code",
      "source": [
        "import numpy as np\n",
        "#벡터데이터 = 1차원어레이 = tensor\n",
        "data1 = np.array([1,1,1,1]) # 데이터관점에서는 4차원이다 데이터관점에서는 피처수가 차원\n",
        "np.linalg.norm(data1) # linalg.norm  벡터를 정규화  # 원점에서 점으로 선 긋기"
      ],
      "metadata": {
        "colab": {
          "base_uri": "https://localhost:8080/"
        },
        "id": "-rFtb8fsUNyA",
        "outputId": "eb38be7c-4d3b-4ed8-ab4a-7c7ddf117a76"
      },
      "execution_count": null,
      "outputs": [
        {
          "output_type": "execute_result",
          "data": {
            "text/plain": [
              "2.0"
            ]
          },
          "metadata": {},
          "execution_count": 22
        }
      ]
    },
    {
      "cell_type": "code",
      "source": [
        "def cos_i(A,B): #코사인유사도 # 벡터간기울기비교 방향성이 같은지 유사도 판별  #방향같으면 1 역방향이면 -1   구십도면 0 (긍정방향/부정방향)\n",
        "    return A.dot(B)/(np.linalg.norm(A)*np.linalg.norm(B))"
      ],
      "metadata": {
        "id": "f_L_CYeNU8tc"
      },
      "execution_count": null,
      "outputs": []
    },
    {
      "cell_type": "code",
      "source": [
        "d1 = np.array( [0,5,5,5])\n",
        "d2 = np.array( [0,-1,-1,-1])\n",
        "cos_i(d1,d2)"
      ],
      "metadata": {
        "colab": {
          "base_uri": "https://localhost:8080/"
        },
        "id": "Ku26yosOVbWv",
        "outputId": "1728dbee-4deb-4d57-d4e4-887229a503f9"
      },
      "execution_count": null,
      "outputs": [
        {
          "output_type": "execute_result",
          "data": {
            "text/plain": [
              "-1.0"
            ]
          },
          "metadata": {},
          "execution_count": 25
        }
      ]
    },
    {
      "cell_type": "code",
      "source": [
        "import pandas as pd\n",
        "from sklearn.feature_extraction.text import TfidfVectorizer  \n",
        "from sklearn.metrics.pairwise import cosine_similarity\n"
      ],
      "metadata": {
        "id": "CJ6wSx6ZUvAO"
      },
      "execution_count": null,
      "outputs": []
    },
    {
      "cell_type": "code",
      "source": [
        "data = pd.read_csv('data1.csv', low_memory=False)\n"
      ],
      "metadata": {
        "id": "8VJvabzZWle-"
      },
      "execution_count": null,
      "outputs": []
    },
    {
      "cell_type": "code",
      "source": [
        "data = data.head(20000)\n",
        "data['overview'] = data['overview'].fillna('')"
      ],
      "metadata": {
        "id": "17wDvsGeXznh"
      },
      "execution_count": null,
      "outputs": []
    },
    {
      "cell_type": "code",
      "source": [
        "tfidf = TfidfVectorizer (stop_words='english') #문장가져오기\n",
        "tfidf_t = tfidf.fit_transform(data['overview']) \n",
        "tfidf_t"
      ],
      "metadata": {
        "colab": {
          "base_uri": "https://localhost:8080/"
        },
        "id": "MfZTOBQ_XcTw",
        "outputId": "55d8a583-7886-4b23-e18e-7a4b53585036"
      },
      "execution_count": null,
      "outputs": [
        {
          "output_type": "execute_result",
          "data": {
            "text/plain": [
              "<20000x47487 sparse matrix of type '<class 'numpy.float64'>'\n",
              "\twith 535909 stored elements in Compressed Sparse Row format>"
            ]
          },
          "metadata": {},
          "execution_count": 43
        }
      ]
    },
    {
      "cell_type": "code",
      "source": [
        "\n",
        "cos = cosine_similarity(tfidf_t, tfidf_t) # 이만*이만 값\n",
        "cos.shape"
      ],
      "metadata": {
        "colab": {
          "base_uri": "https://localhost:8080/"
        },
        "id": "-EGFzp5UWd0X",
        "outputId": "bfcf8bec-ea4c-4c1d-a37d-a775568ba55b"
      },
      "execution_count": null,
      "outputs": [
        {
          "output_type": "execute_result",
          "data": {
            "text/plain": [
              "(20000, 20000)"
            ]
          },
          "metadata": {},
          "execution_count": 44
        }
      ]
    },
    {
      "cell_type": "code",
      "source": [
        "data.index"
      ],
      "metadata": {
        "colab": {
          "base_uri": "https://localhost:8080/"
        },
        "id": "0aBlh-lfT0mN",
        "outputId": "377d2faf-e67c-454c-fd69-82b1773db2f2"
      },
      "execution_count": null,
      "outputs": [
        {
          "output_type": "execute_result",
          "data": {
            "text/plain": [
              "RangeIndex(start=0, stop=20000, step=1)"
            ]
          },
          "metadata": {},
          "execution_count": 45
        }
      ]
    },
    {
      "cell_type": "code",
      "source": [
        "t_idx = dict(zip(data['title'], data.index ))\n",
        "t_idx"
      ],
      "metadata": {
        "colab": {
          "base_uri": "https://localhost:8080/"
        },
        "id": "Jk768jpxYdr5",
        "outputId": "f087e9be-5cb2-4345-b413-d8392b87154b"
      },
      "execution_count": null,
      "outputs": [
        {
          "output_type": "execute_result",
          "data": {
            "text/plain": [
              "{'Toy Story': 0,\n",
              " 'Jumanji': 1,\n",
              " 'Grumpier Old Men': 2,\n",
              " 'Waiting to Exhale': 3,\n",
              " 'Father of the Bride Part II': 4,\n",
              " 'Heat': 14684,\n",
              " 'Sabrina': 888,\n",
              " 'Tom and Huck': 7,\n",
              " 'Sudden Death': 8,\n",
              " 'GoldenEye': 9,\n",
              " 'The American President': 10,\n",
              " 'Dracula: Dead and Loving It': 11,\n",
              " 'Balto': 12,\n",
              " 'Nixon': 13,\n",
              " 'Cutthroat Island': 14,\n",
              " 'Casino': 15,\n",
              " 'Sense and Sensibility': 16,\n",
              " 'Four Rooms': 17,\n",
              " 'Ace Ventura: When Nature Calls': 18,\n",
              " 'Money Train': 19,\n",
              " 'Get Shorty': 20,\n",
              " 'Copycat': 21,\n",
              " 'Assassins': 22,\n",
              " 'Powder': 23,\n",
              " 'Leaving Las Vegas': 24,\n",
              " 'Othello': 15347,\n",
              " 'Now and Then': 26,\n",
              " 'Persuasion': 14838,\n",
              " 'The City of Lost Children': 28,\n",
              " 'Shanghai Triad': 29,\n",
              " 'Dangerous Minds': 30,\n",
              " 'Twelve Monkeys': 31,\n",
              " 'Wings of Courage': 32,\n",
              " 'Babe': 33,\n",
              " 'Carrington': 34,\n",
              " 'Dead Man Walking': 35,\n",
              " 'Across the Sea of Time': 36,\n",
              " 'It Takes Two': 37,\n",
              " 'Clueless': 38,\n",
              " 'Cry, the Beloved Country': 39,\n",
              " 'Richard III': 17719,\n",
              " 'Dead Presidents': 41,\n",
              " 'Restoration': 42,\n",
              " 'Mortal Kombat': 43,\n",
              " 'To Die For': 44,\n",
              " 'How To Make An American Quilt': 45,\n",
              " 'Se7en': 46,\n",
              " 'Pocahontas': 47,\n",
              " 'When Night Is Falling': 48,\n",
              " 'The Usual Suspects': 49,\n",
              " 'Guardian Angel': 50,\n",
              " 'Mighty Aphrodite': 51,\n",
              " 'Lamerica': 52,\n",
              " 'The Big Green': 53,\n",
              " 'Georgia': 54,\n",
              " 'Kids of the Round Table': 55,\n",
              " 'Home for the Holidays': 56,\n",
              " 'The Postman': 1644,\n",
              " 'The Confessional': 58,\n",
              " 'The Indian in the Cupboard': 59,\n",
              " 'Eye for an Eye': 60,\n",
              " \"Mr. Holland's Opus\": 61,\n",
              " \"Don't Be a Menace to South Central While Drinking Your Juice in the Hood\": 62,\n",
              " 'Two If by Sea': 63,\n",
              " 'Bio-Dome': 64,\n",
              " 'Lawnmower Man 2: Beyond Cyberspace': 65,\n",
              " 'Two Bits': 66,\n",
              " 'French Twist': 67,\n",
              " 'Friday': 68,\n",
              " 'From Dusk Till Dawn': 69,\n",
              " 'Fair Game': 16077,\n",
              " 'Kicking and Screaming': 71,\n",
              " 'Les Miserables': 72,\n",
              " 'Bed of Roses': 19880,\n",
              " 'Big Bully': 74,\n",
              " 'Screamers': 75,\n",
              " 'Nico Icon': 76,\n",
              " 'The Crossing Guard': 77,\n",
              " 'The Juror': 78,\n",
              " 'The White Balloon': 79,\n",
              " \"Things to Do in Denver When You're Dead\": 80,\n",
              " \"Antonia's Line\": 81,\n",
              " 'Once Upon a Time... When We Were Colored': 82,\n",
              " 'Last Summer in the Hamptons': 83,\n",
              " 'Angels and Insects': 84,\n",
              " 'White Squall': 85,\n",
              " 'Dunston Checks In': 86,\n",
              " 'Black Sheep': 16328,\n",
              " 'Nick of Time': 88,\n",
              " 'The Journey of August King': 89,\n",
              " 'Mary Reilly': 90,\n",
              " 'Vampire in Brooklyn': 91,\n",
              " 'Beautiful Girls': 92,\n",
              " 'Broken Arrow': 11937,\n",
              " \"A Midwinter's Tale\": 94,\n",
              " 'La Haine': 95,\n",
              " 'Shopping': 96,\n",
              " 'Heidi Fleiss: Hollywood Madam': 97,\n",
              " 'City Hall': 98,\n",
              " 'Bottle Rocket': 99,\n",
              " 'Mr. Wrong': 100,\n",
              " 'Unforgettable': 101,\n",
              " 'Happy Gilmore': 102,\n",
              " 'The Bridges of Madison County': 103,\n",
              " 'Nobody Loves Me': 104,\n",
              " 'Muppet Treasure Island': 105,\n",
              " 'Catwalk': 106,\n",
              " 'Headless Body in Topless Bar': 107,\n",
              " 'Braveheart': 108,\n",
              " 'Taxi Driver': 109,\n",
              " 'Rumble in the Bronx': 110,\n",
              " 'Before and After': 111,\n",
              " \"Margaret's Museum\": 112,\n",
              " 'Happiness Is in the Field': 113,\n",
              " 'Anne Frank Remembered': 114,\n",
              " \"The Young Poisoner's Handbook\": 115,\n",
              " 'If Lucy Fell': 116,\n",
              " 'Steal Big Steal Little': 117,\n",
              " 'Race the Sun': 118,\n",
              " 'The Boys of St. Vincent': 119,\n",
              " 'Boomerang': 120,\n",
              " 'Chungking Express': 121,\n",
              " 'The Star Maker': 122,\n",
              " 'Flirting with Disaster': 123,\n",
              " 'The Neverending Story III: Escape from Fantasia': 124,\n",
              " 'The Silences of the Palace': 125,\n",
              " \"Jupiter's Wife\": 126,\n",
              " 'Pie in the Sky': 127,\n",
              " 'Angela': 128,\n",
              " 'Frankie Starlight': 129,\n",
              " 'Jade': 130,\n",
              " 'Nueba Yol': 131,\n",
              " 'Sonic Outlaws': 132,\n",
              " 'Down Periscope': 133,\n",
              " 'From the Journals of Jean Seberg': 134,\n",
              " 'Man of the Year': 11330,\n",
              " 'The Neon Bible': 136,\n",
              " 'Target': 8878,\n",
              " 'Up Close & Personal': 138,\n",
              " 'The Birdcage': 139,\n",
              " 'Virgin Mary': 140,\n",
              " 'The Brothers McMullen': 141,\n",
              " 'Bad Boys': 9364,\n",
              " 'The Amazing Panda Adventure': 143,\n",
              " 'The Basketball Diaries': 144,\n",
              " 'An Awfully Big Adventure': 145,\n",
              " 'Amateur': 146,\n",
              " 'Apollo 13': 147,\n",
              " 'Rob Roy': 148,\n",
              " 'The Addiction': 149,\n",
              " 'Batman Forever': 150,\n",
              " 'Belle de Jour': 151,\n",
              " 'Beyond Rangoon': 152,\n",
              " 'Blue in the Face': 153,\n",
              " 'Canadian Bacon': 154,\n",
              " 'Casper': 155,\n",
              " 'Clockers': 156,\n",
              " 'Congo': 157,\n",
              " 'Crimson Tide': 158,\n",
              " 'Crumb': 159,\n",
              " 'Desperado': 160,\n",
              " 'Devil in a Blue Dress': 161,\n",
              " 'Die Hard: With a Vengeance': 162,\n",
              " 'The Doom Generation': 163,\n",
              " 'Feast of July': 164,\n",
              " 'First Knight': 165,\n",
              " 'Free Willy 2 - The Adventure Home': 166,\n",
              " 'Hackers': 167,\n",
              " 'Jeffrey': 168,\n",
              " 'Johnny Mnemonic': 169,\n",
              " 'Judge Dredd': 170,\n",
              " 'Jury Duty': 171,\n",
              " 'Kids': 172,\n",
              " 'Living in Oblivion': 173,\n",
              " 'Lord of Illusions': 174,\n",
              " 'Love & Human Remains': 175,\n",
              " 'Mad Love': 11620,\n",
              " 'Mallrats': 177,\n",
              " 'Mighty Morphin Power Rangers: The Movie': 178,\n",
              " 'Moonlight and Valentino': 179,\n",
              " 'Mute Witness': 180,\n",
              " 'Nadja': 181,\n",
              " 'The Net': 182,\n",
              " 'Nine Months': 183,\n",
              " 'Party Girl': 15941,\n",
              " 'The Prophecy': 185,\n",
              " 'Reckless': 14294,\n",
              " 'Safe': 18906,\n",
              " 'The Scarlet Letter': 18903,\n",
              " 'The Show': 189,\n",
              " 'Showgirls': 190,\n",
              " 'Smoke': 191,\n",
              " 'Something to Talk About': 192,\n",
              " 'Species': 193,\n",
              " 'The Stars Fell on Henrietta': 194,\n",
              " 'Strange Days': 195,\n",
              " 'The Umbrellas of Cherbourg': 196,\n",
              " 'The Tie That Binds': 197,\n",
              " 'Three Wishes': 198,\n",
              " 'Total Eclipse': 199,\n",
              " 'To Wong Foo, Thanks for Everything! Julie Newmar': 200,\n",
              " 'Under Siege 2: Dark Territory': 201,\n",
              " 'Unstrung Heroes': 202,\n",
              " 'Unzipped': 203,\n",
              " 'A Walk in the Clouds': 204,\n",
              " 'Waterworld': 205,\n",
              " \"White Man's Burden\": 206,\n",
              " 'Wild Bill': 19205,\n",
              " 'The Browning Version': 10251,\n",
              " 'Bushwhacked': 209,\n",
              " 'Burnt by the Sun': 210,\n",
              " 'Before the Rain': 211,\n",
              " 'Before Sunrise': 212,\n",
              " 'Billy Madison': 213,\n",
              " 'The Babysitter': 214,\n",
              " 'Boys on the Side': 215,\n",
              " 'The Cure': 18680,\n",
              " 'Castle Freak': 217,\n",
              " 'Circle of Friends': 218,\n",
              " 'Clerks': 219,\n",
              " 'Don Juan DeMarco': 220,\n",
              " 'Disclosure': 221,\n",
              " 'Dream Man': 222,\n",
              " 'Drop Zone': 223,\n",
              " 'Destiny Turns on the Radio': 224,\n",
              " 'Death and the Maiden': 225,\n",
              " 'Dolores Claiborne': 226,\n",
              " 'Dumb and Dumber': 227,\n",
              " 'Eat Drink Man Woman': 228,\n",
              " 'Exotica': 229,\n",
              " 'Exit to Eden': 230,\n",
              " 'Ed Wood': 231,\n",
              " 'French Kiss': 232,\n",
              " 'Forget Paris': 233,\n",
              " 'Far from Home: The Adventures of Yellow Dog': 234,\n",
              " 'A Goofy Movie': 235,\n",
              " 'Hideaway': 236,\n",
              " 'Fluke': 237,\n",
              " 'Farinelli': 238,\n",
              " 'Gordy': 239,\n",
              " 'Gumby: The Movie': 240,\n",
              " 'The Glass Shield': 241,\n",
              " 'Hoop Dreams': 242,\n",
              " 'Heavenly Creatures': 243,\n",
              " 'Houseguest': 244,\n",
              " 'Immortal Beloved': 245,\n",
              " 'Heavyweights': 246,\n",
              " 'The Hunted': 6081,\n",
              " 'I.Q.': 248,\n",
              " 'Interview with the Vampire': 249,\n",
              " 'Jefferson in Paris': 250,\n",
              " 'The Jerky Boys': 251,\n",
              " 'Junior': 252,\n",
              " 'Just Cause': 253,\n",
              " \"A Kid in King Arthur's Court\": 254,\n",
              " 'Kiss of Death': 10602,\n",
              " 'Star Wars': 256,\n",
              " 'Little Women': 6902,\n",
              " 'A Little Princess': 258,\n",
              " 'Ladybird Ladybird': 259,\n",
              " \"L'Enfer\": 260,\n",
              " 'Like Water for Chocolate': 261,\n",
              " 'Legends of the Fall': 262,\n",
              " 'Major Payne': 263,\n",
              " 'Little Odessa': 264,\n",
              " 'Mi Vida Loca': 265,\n",
              " 'Love Affair': 6688,\n",
              " 'Losing Isaiah': 267,\n",
              " 'The Madness of King George': 268,\n",
              " \"Mary Shelley's Frankenstein\": 269,\n",
              " 'Man of the House': 9731,\n",
              " 'Mixed Nuts': 271,\n",
              " 'Milk Money': 272,\n",
              " 'Miracle on 34th Street': 2285,\n",
              " 'Miami Rhapsody': 274,\n",
              " 'My Family': 275,\n",
              " 'Murder in the First': 276,\n",
              " \"Nobody's Fool\": 8889,\n",
              " 'Nell': 278,\n",
              " 'New Jersey Drive': 279,\n",
              " 'New York Cop': 280,\n",
              " 'Beyond Bedlam': 281,\n",
              " 'Nemesis 2 - Nebula': 282,\n",
              " 'Nina Takes a Lover': 283,\n",
              " 'Natural Born Killers': 284,\n",
              " 'Only You': 285,\n",
              " 'Once Were Warriors': 286,\n",
              " 'Poison Ivy II: Lily': 287,\n",
              " 'Outbreak': 288,\n",
              " 'Leon: The Professional': 289,\n",
              " 'The Perez Family': 290,\n",
              " \"A Pyromaniac's Love Story\": 291,\n",
              " 'Pulp Fiction': 292,\n",
              " 'Panther': 293,\n",
              " 'Pushing Hands': 294,\n",
              " 'Priest': 17108,\n",
              " 'Quiz Show': 296,\n",
              " 'Picture Bride': 297,\n",
              " 'Queen Margot': 298,\n",
              " 'The Quick and the Dead': 13489,\n",
              " 'Roommates': 300,\n",
              " 'Prêt-à-Porter': 301,\n",
              " 'Three Colors: Red': 302,\n",
              " 'Three Colors: Blue': 303,\n",
              " 'Three Colors: White': 304,\n",
              " 'Red Firecracker, Green Firecracker': 305,\n",
              " 'Rent-a-Kid': 306,\n",
              " 'Relative Fear': 307,\n",
              " 'Stuart Saves His Family': 308,\n",
              " 'The Swan Princess': 309,\n",
              " 'The Secret of Roan Inish': 310,\n",
              " 'The Specialist': 311,\n",
              " 'Stargate': 312,\n",
              " 'The Santa Clause': 313,\n",
              " 'The Shawshank Redemption': 314,\n",
              " 'Shallow Grave': 315,\n",
              " 'Suture': 316,\n",
              " 'Strawberry and Chocolate': 317,\n",
              " 'Swimming with Sharks': 318,\n",
              " 'The Sum of Us': 319,\n",
              " 'Senior Trip': 320,\n",
              " 'To Live': 321,\n",
              " 'Tank Girl': 322,\n",
              " 'Tales from the Crypt: Demon Knight': 323,\n",
              " 'Star Trek: Generations': 324,\n",
              " 'Tales from the Hood': 325,\n",
              " 'Tom & Viv': 326,\n",
              " 'Village of the Damned': 2440,\n",
              " 'Tommy Boy': 328,\n",
              " 'Vanya on 42nd Street': 329,\n",
              " 'The Underneath': 330,\n",
              " 'The Walking Dead': 7659,\n",
              " \"What's Eating Gilbert Grape\": 332,\n",
              " 'Virtuosity': 333,\n",
              " 'While You Were Sleeping': 334,\n",
              " 'The War': 19158,\n",
              " 'Double Happiness': 336,\n",
              " \"Muriel's Wedding\": 337,\n",
              " 'The Baby-Sitters Club': 338,\n",
              " 'Ace Ventura: Pet Detective': 339,\n",
              " 'The Adventures of Priscilla, Queen of the Desert': 340,\n",
              " 'Backbeat': 341,\n",
              " 'Bitter Moon': 342,\n",
              " 'Bullets Over Broadway': 343,\n",
              " 'Clear and Present Danger': 344,\n",
              " 'The Client': 345,\n",
              " 'Corrina, Corrina': 346,\n",
              " 'Crooklyn': 347,\n",
              " 'The Crow': 348,\n",
              " 'Cobb': 349,\n",
              " 'The Flintstones': 350,\n",
              " 'Forrest Gump': 351,\n",
              " 'Four Weddings and a Funeral': 352,\n",
              " 'Higher Learning': 353,\n",
              " 'I Like It Like That': 354,\n",
              " 'I Love Trouble': 355,\n",
              " 'It Could Happen to You': 356,\n",
              " 'The Jungle Book': 1969,\n",
              " 'The Wonderful, Horrible Life of Leni Riefenstahl': 358,\n",
              " 'The Lion King': 359,\n",
              " 'Little Buddha': 360,\n",
              " 'New Nightmare': 361,\n",
              " 'The Mask': 362,\n",
              " 'Maverick': 363,\n",
              " 'Mrs. Parker and the Vicious Circle': 364,\n",
              " 'The Naked Gun 33⅓: The Final Insult': 365,\n",
              " 'The Paper': 366,\n",
              " 'Reality Bites': 367,\n",
              " 'Red Rock West': 368,\n",
              " 'Ri¢hie Ri¢h': 369,\n",
              " 'Safe Passage': 370,\n",
              " 'The River Wild': 371,\n",
              " 'Speed': 372,\n",
              " 'Speechless': 373,\n",
              " 'Timecop': 374,\n",
              " 'True Lies': 375,\n",
              " 'When a Man Loves a Woman': 376,\n",
              " 'Wolf': 11656,\n",
              " 'Wyatt Earp': 378,\n",
              " 'Bad Company': 5292,\n",
              " 'A Man of No Importance': 380,\n",
              " 'S.F.W.': 381,\n",
              " 'A Low Down Dirty Shame': 382,\n",
              " 'Boys Life: Three Stories of Love, Lust, and Liberation': 383,\n",
              " 'Colonel Chabert': 384,\n",
              " 'Faster, Pussycat! Kill! Kill!': 385,\n",
              " \"Jason's Lyric\": 386,\n",
              " 'The Secret Adventures of Tom Thumb': 387,\n",
              " 'Street Fighter': 388,\n",
              " 'Coldblooded': 389,\n",
              " 'Desert Winds': 390,\n",
              " 'Fall Time': 391,\n",
              " 'The Fear': 392,\n",
              " 'Frank and Ollie': 393,\n",
              " 'Girl in the Cadillac': 394,\n",
              " 'Homage': 395,\n",
              " 'Mirage': 10938,\n",
              " 'Open Season': 11311,\n",
              " 'Dos Crímenes': 398,\n",
              " 'Brother Minister: The Assassination of Malcolm X': 399,\n",
              " 'Highlander: The Final Dimension': 400,\n",
              " 'Federal Hill': 401,\n",
              " 'In the Mouth of Madness': 402,\n",
              " '8 Seconds': 403,\n",
              " 'Above the Rim': 404,\n",
              " 'Addams Family Values': 405,\n",
              " 'Martin Lawrence: You So Crazy': 406,\n",
              " 'The Age of Innocence': 19762,\n",
              " 'Airheads': 408,\n",
              " 'The Air Up There': 409,\n",
              " 'Another Stakeout': 410,\n",
              " 'Bad Girls': 411,\n",
              " 'Barcelona': 412,\n",
              " 'Being Human': 413,\n",
              " 'The Beverly Hillbillies': 414,\n",
              " 'Beverly Hills Cop III': 415,\n",
              " 'Black Beauty': 8202,\n",
              " 'Blink': 417,\n",
              " 'Blown Away': 18154,\n",
              " 'Blue Chips': 419,\n",
              " 'Blue Sky': 420,\n",
              " 'Body Snatchers': 421,\n",
              " 'Boxing Helena': 422,\n",
              " 'A Bronx Tale': 423,\n",
              " 'Cabin Boy': 424,\n",
              " 'Calendar Girl': 425,\n",
              " \"Carlito's Way\": 426,\n",
              " \"City Slickers II: The Legend of Curly's Gold\": 427,\n",
              " 'Clean Slate': 428,\n",
              " 'Cliffhanger': 429,\n",
              " 'Coneheads': 430,\n",
              " 'Color of Night': 431,\n",
              " 'Cops & Robbersons': 432,\n",
              " 'The Cowboy Way': 433,\n",
              " 'Dangerous Game': 434,\n",
              " 'Dave': 435,\n",
              " 'Dazed and Confused': 436,\n",
              " 'Demolition Man': 437,\n",
              " 'The Endless Summer 2': 438,\n",
              " 'Even Cowgirls Get the Blues': 439,\n",
              " 'Fatal Instinct': 440,\n",
              " 'Farewell My Concubine': 441,\n",
              " 'The Favor': 442,\n",
              " 'Fearless': 11051,\n",
              " 'Fear of a Black Hat': 444,\n",
              " 'With Honors': 445,\n",
              " 'Flesh and Bone': 446,\n",
              " \"Widows' Peak\": 447,\n",
              " 'For Love or Money': 448,\n",
              " 'The Firm': 19164,\n",
              " 'Free Willy': 450,\n",
              " 'Fresh': 451,\n",
              " 'The Fugitive': 12175,\n",
              " 'Geronimo: An American Legend': 453,\n",
              " 'The Getaway': 7577,\n",
              " 'Getting Even with Dad': 455,\n",
              " 'Go Fish': 456,\n",
              " 'A Good Man in Africa': 457,\n",
              " 'Guilty as Sin': 458,\n",
              " 'Hard Target': 459,\n",
              " 'Heaven & Earth': 460,\n",
              " 'Hot Shots! Part Deux': 461,\n",
              " 'Live Nude Girls': 462,\n",
              " 'The Englishman Who Went Up a Hill But Came Down a Mountain': 463,\n",
              " 'The House of the Spirits': 464,\n",
              " 'House Party 3': 465,\n",
              " 'The Hudsucker Proxy': 466,\n",
              " \"I'll Do Anything\": 467,\n",
              " 'In the Army Now': 468,\n",
              " 'In the Line of Fire': 469,\n",
              " 'In the Name of the Father': 470,\n",
              " 'The Inkwell': 471,\n",
              " \"What's Love Got to Do with It\": 472,\n",
              " 'Jimmy Hollywood': 473,\n",
              " 'Judgment Night': 474,\n",
              " 'Jurassic Park': 475,\n",
              " 'Kalifornia': 476,\n",
              " 'Killing Zoe': 477,\n",
              " 'King of the Hill': 478,\n",
              " 'Lassie': 11227,\n",
              " 'Last Action Hero': 480,\n",
              " 'Life With Mikey': 481,\n",
              " 'Lightning Jack': 482,\n",
              " 'M. Butterfly': 483,\n",
              " 'Made in America': 484,\n",
              " 'Malice': 485,\n",
              " 'The Man without a Face': 486,\n",
              " 'Manhattan Murder Mystery': 487,\n",
              " 'Menace II Society': 488,\n",
              " 'Executive Decision': 489,\n",
              " 'In the Realm of the Senses': 490,\n",
              " 'What Happened Was...': 491,\n",
              " 'Much Ado About Nothing': 492,\n",
              " 'Mr. Jones': 493,\n",
              " 'Mr. Wonderful': 494,\n",
              " 'Mrs. Doubtfire': 495,\n",
              " 'Naked': 496,\n",
              " 'The Next Karate Kid': 497,\n",
              " 'The New Age': 498,\n",
              " 'No Escape': 499,\n",
              " 'North': 15555,\n",
              " 'Orlando': 501,\n",
              " 'A Perfect World': 502,\n",
              " 'Philadelphia': 503,\n",
              " 'The Piano': 504,\n",
              " 'Poetic Justice': 505,\n",
              " 'The Program': 506,\n",
              " 'The Puppet Masters': 507,\n",
              " 'Radioland Murders': 508,\n",
              " 'The Ref': 509,\n",
              " 'The Remains of the Day': 510,\n",
              " 'Renaissance Man': 511,\n",
              " 'Rising Sun': 512,\n",
              " 'The Road to Wellville': 513,\n",
              " 'RoboCop 3': 514,\n",
              " 'Robin Hood: Men in Tights': 515,\n",
              " 'Romeo Is Bleeding': 516,\n",
              " 'Romper Stomper': 517,\n",
              " 'Ruby in Paradise': 518,\n",
              " 'Rudy': 519,\n",
              " 'The Saint of Fort Washington': 520,\n",
              " 'Savage Nights': 521,\n",
              " \"Schindler's List\": 522,\n",
              " 'The Scout': 523,\n",
              " 'Searching for Bobby Fischer': 524,\n",
              " 'Second Best': 525,\n",
              " 'The Secret Garden': 8467,\n",
              " 'Serial Mom': 527,\n",
              " 'The Shadow': 528,\n",
              " 'Shadowlands': 529,\n",
              " 'Short Cuts': 530,\n",
              " 'A Simple Twist of Fate': 531,\n",
              " 'Sirens': 532,\n",
              " 'Six Degrees of Separation': 533,\n",
              " 'Sleepless in Seattle': 534,\n",
              " 'Sliver': 535,\n",
              " 'Blade Runner': 536,\n",
              " 'Son in Law': 537,\n",
              " 'So I Married an Axe Murderer': 538,\n",
              " 'Striking Distance': 539,\n",
              " 'Harem': 540,\n",
              " 'Super Mario Bros.': 541,\n",
              " 'Surviving the Game': 542,\n",
              " 'Terminal Velocity': 543,\n",
              " 'Thirty Two Short Films About Glenn Gould': 544,\n",
              " 'Threesome': 545,\n",
              " 'The Nightmare Before Christmas': 546,\n",
              " 'The Three Musketeers': 18589,\n",
              " 'Tombstone': 548,\n",
              " 'Trial by Jury': 549,\n",
              " 'True Romance': 550,\n",
              " 'The War Room': 551,\n",
              " 'The Pagemaster': 552,\n",
              " 'Paris, France': 553,\n",
              " 'The Beans of Egypt, Maine': 554,\n",
              " 'Killer': 18114,\n",
              " 'Welcome to the Dollhouse': 556,\n",
              " 'Germinal': 557,\n",
              " 'Chasers': 558,\n",
              " 'Cronos': 559,\n",
              " 'Naked in New York': 560,\n",
              " 'Kika': 561,\n",
              " 'Bhaji on the Beach': 562,\n",
              " 'Little Big League': 563,\n",
              " 'The Slingshot': 564,\n",
              " 'Wide Eyed and Legless': 565,\n",
              " 'Foreign Student': 566,\n",
              " 'Ciao, Professore!': 567,\n",
              " 'Spanking the Monkey': 568,\n",
              " 'The Little Rascals': 569,\n",
              " 'À la mode': 570,\n",
              " 'Andre': 571,\n",
              " 'The Escort': 572,\n",
              " 'Princess Caraboo': 573,\n",
              " 'The Celluloid Closet': 574,\n",
              " 'Café au Lait': 575,\n",
              " 'Dear Diary': 576,\n",
              " \"I Don't Want to Talk About It\": 577,\n",
              " 'The Brady Bunch Movie': 578,\n",
              " 'Home Alone': 579,\n",
              " 'Ghost': 580,\n",
              " 'Aladdin': 581,\n",
              " 'Terminator 2: Judgment Day': 582,\n",
              " 'Dances with Wolves': 583,\n",
              " 'Tough and Deadly': 584,\n",
              " 'Batman': 8603,\n",
              " 'The Silence of the Lambs': 586,\n",
              " 'Snow White and the Seven Dwarfs': 587,\n",
              " 'Beauty and the Beast': 6912,\n",
              " 'Pinocchio': 17942,\n",
              " 'Pretty Woman': 590,\n",
              " 'Window to Paris': 591,\n",
              " 'The Wild Bunch': 592,\n",
              " 'Love and a .45': 593,\n",
              " \"The Wooden Man's Bride\": 594,\n",
              " 'A Great Day in Harlem': 595,\n",
              " 'Bye Bye Love': 596,\n",
              " 'One Fine Day': 597,\n",
              " 'Candyman: Farewell to the Flesh': 598,\n",
              " 'Century': 599,\n",
              " 'Fargo': 600,\n",
              " 'Homeward Bound II: Lost in San Francisco': 601,\n",
              " 'Heavy Metal': 602,\n",
              " 'Hellraiser: Bloodline': 603,\n",
              " 'The Pallbearer': 604,\n",
              " 'Jane Eyre': 16834,\n",
              " 'Loaded': 606,\n",
              " 'Bread and Chocolate': 607,\n",
              " 'The Aristocats': 608,\n",
              " 'The Flower of My Secret': 609,\n",
              " 'Two Much': 610,\n",
              " 'Ed': 611,\n",
              " 'Scream of Stone': 612,\n",
              " 'My Favorite Season': 613,\n",
              " 'A Modern Affair': 614,\n",
              " 'Condition Red': 615,\n",
              " 'Halfaouine: Boy of the Terraces': 616,\n",
              " 'A Thin Line Between Love and Hate': 617,\n",
              " 'The Last Supper': 618,\n",
              " 'Primal Fear': 619,\n",
              " 'Rude': 620,\n",
              " 'Carried Away': 621,\n",
              " 'All Dogs Go to Heaven 2': 622,\n",
              " 'Land and Freedom': 623,\n",
              " 'Denise Calls Up': 624,\n",
              " 'Theodore Rex': 625,\n",
              " 'A Family Thing': 626,\n",
              " 'Frisk': 627,\n",
              " 'Sgt. Bilko': 628,\n",
              " 'Jack & Sarah': 629,\n",
              " 'Girl 6': 630,\n",
              " 'Diabolique': 6964,\n",
              " 'Little Indian, Big City': 632,\n",
              " 'Roula': 633,\n",
              " 'Peanuts – Die Bank zahlt alles': 634,\n",
              " 'Happy Weekend': 635,\n",
              " 'Nelly and Monsieur Arnaud': 636,\n",
              " 'Courage Under Fire': 637,\n",
              " 'Mission: Impossible': 638,\n",
              " 'Cold Fever': 639,\n",
              " 'Moll Flanders': 640,\n",
              " 'The Superwife': 641,\n",
              " '301, 302': 642,\n",
              " 'DragonHeart': 643,\n",
              " 'Und keiner weint mir nach': 644,\n",
              " \"My Mother's Courage\": 645,\n",
              " 'Eddie': 646,\n",
              " 'Yankee Zulu': 647,\n",
              " \"Billy's Holiday\": 648,\n",
              " 'Purple Noon': 649,\n",
              " 'August': 12792,\n",
              " 'James and the Giant Peach': 651,\n",
              " 'Fear': 652,\n",
              " 'Kids in the Hall: Brain Candy': 653,\n",
              " 'Faithful': 654,\n",
              " 'Underground': 655,\n",
              " 'All Things Fair': 656,\n",
              " 'Bloodsport II': 657,\n",
              " 'Pather Panchali': 658,\n",
              " 'The World of Apu': 659,\n",
              " 'Mystery Science Theater 3000: The Movie': 660,\n",
              " 'Tarantella': 661,\n",
              " 'Space Jam': 662,\n",
              " 'Barbarella': 663,\n",
              " 'Hostile Intentions': 664,\n",
              " 'They Bite': 665,\n",
              " 'Some Folks Call It a Sling Blade': 666,\n",
              " 'The Run of the Country': 667,\n",
              " 'Alphaville': 668,\n",
              " 'Coup de Torchon': 669,\n",
              " 'Tigrero: A Film That Was Never Made': 670,\n",
              " 'The Eye of Vichy': 671,\n",
              " 'Windows': 672,\n",
              " \"It's My Party\": 673,\n",
              " 'Country Life': 674,\n",
              " 'Operation Dumbo Drop': 675,\n",
              " 'The Promise': 17378,\n",
              " 'Mrs. Winterbourne': 677,\n",
              " 'Solo': 678,\n",
              " 'Under The Domim Tree': 679,\n",
              " 'The Substitute': 12800,\n",
              " 'True Crime': 2448,\n",
              " 'Butterfly Kiss': 682,\n",
              " 'Feeling Minnesota': 683,\n",
              " 'Delta of Venus': 684,\n",
              " 'To Cross the Rubicon': 685,\n",
              " 'Angus': 686,\n",
              " 'Priest Daens': 687,\n",
              " 'Faces': 688,\n",
              " 'Boys': 17679,\n",
              " 'The Quest': 690,\n",
              " 'Cosi': 691,\n",
              " 'Sunset Park': 692,\n",
              " 'Mulholland Falls': 693,\n",
              " 'The Truth About Cats & Dogs': 694,\n",
              " 'Oliver & Company': 695,\n",
              " 'Celtic Pride': 696,\n",
              " 'Flipper': 8123,\n",
              " 'Captives': 698,\n",
              " 'Of Love and Shadows': 699,\n",
              " 'Dead Man': 700,\n",
              " 'The Horseman on the Roof': 701,\n",
              " 'Switchblade Sisters': 702,\n",
              " 'Mouth to Mouth': 11064,\n",
              " 'The Visitors': 704,\n",
              " 'Multiplicity': 705,\n",
              " 'The Haunted World of Edward D. Wood, Jr.': 706,\n",
              " 'Two Friends': 707,\n",
              " 'The Craft': 708,\n",
              " 'The Great White Hype': 709,\n",
              " 'Last Dance': 710,\n",
              " 'War Stories Our Mother Never Told Us': 711,\n",
              " 'Cold Comfort Farm': 712,\n",
              " 'Institute Benjamenta, or This Dream People Call Human Life': 713,\n",
              " \"Heaven's Prisoners\": 714,\n",
              " 'Original Gangstas': 715,\n",
              " 'The Rock': 716,\n",
              " 'Getting Away with Murder': 717,\n",
              " 'Cemetery Man': 718,\n",
              " 'Twister': 7430,\n",
              " 'Barb Wire': 720,\n",
              " 'Le Garçu': 721,\n",
              " 'Honeymoon': 19937,\n",
              " 'Ghost in the Shell': 723,\n",
              " 'Thinner': 724,\n",
              " 'Spy Hard': 725,\n",
              " 'Brothers in Trouble': 726,\n",
              " 'A Close Shave': 727,\n",
              " 'Force of Evil': 728,\n",
              " 'The Stupids': 729,\n",
              " 'The Arrival': 730,\n",
              " 'The Man from Down Under': 731,\n",
              " 'Dr. Strangelove or: How I Learned to Stop Worrying and Love the Bomb': 732,\n",
              " 'Careful': 733,\n",
              " 'Vermont Is for Lovers': 734,\n",
              " 'A Month by the Lake': 735,\n",
              " 'Gold Diggers: The Secret of Bear Mountain': 736,\n",
              " 'Kim': 737,\n",
              " 'Carmen Miranda: Bananas Is My Business': 738,\n",
              " 'Ashes of Time': 739,\n",
              " 'The Jar': 740,\n",
              " 'Maya Lin: A Strong Clear Vision': 741,\n",
              " 'Stalingrad': 742,\n",
              " 'The Phantom': 15495,\n",
              " 'Striptease': 744,\n",
              " 'The Last of the High Kings': 745,\n",
              " 'Heavy': 746,\n",
              " 'Jack': 747,\n",
              " 'I Shot Andy Warhol': 748,\n",
              " 'The Grass Harp': 749,\n",
              " \"Someone Else's America\": 750,\n",
              " 'Life is Rosy': 751,\n",
              " 'Quartier Mozart': 752,\n",
              " 'Touki Bouki': 753,\n",
              " \"God's Gift\": 754,\n",
              " 'Spirits of the Dead': 755,\n",
              " 'Babyfever': 756,\n",
              " \"Pharaoh's  Army\": 757,\n",
              " 'Trainspotting': 758,\n",
              " 'Til There Was You': 759,\n",
              " 'Independence Day': 760,\n",
              " 'Stealing Beauty': 761,\n",
              " 'The Fan': 5518,\n",
              " 'The Hunchback of Notre Dame': 8303,\n",
              " 'The Cable Guy': 764,\n",
              " 'Kingpin': 765,\n",
              " 'Eraser': 766,\n",
              " 'The Gate of Heavenly Peace': 767,\n",
              " 'The Nutty Professor': 2027,\n",
              " 'I, the Worst of All': 769,\n",
              " 'An Unforgettable Summer': 770,\n",
              " 'A Hungarian Fairy Tale': 771,\n",
              " 'My Life and Times With Antonin Artaud': 772,\n",
              " 'Midnight Dancers': 773,\n",
              " 'Somebody to Love': 774,\n",
              " 'A Very Natural Thing': 775,\n",
              " 'The Old Lady Who Walked in the Sea': 776,\n",
              " 'Daylight': 18928,\n",
              " 'The Frighteners': 778,\n",
              " 'Lone Star': 779,\n",
              " 'Harriet the Spy': 780,\n",
              " 'Phenomenon': 781,\n",
              " 'Walking and Talking': 782,\n",
              " \"She's the One\": 783,\n",
              " 'A Time to Kill': 784,\n",
              " 'American Buffalo': 785,\n",
              " 'Rendezvous in Paris': 786,\n",
              " 'Alaska': 787,\n",
              " 'Fled': 788,\n",
              " 'Kazaam': 789,\n",
              " 'Magic Hunter': 790,\n",
              " 'Larger Than Life': 791,\n",
              " 'A Boy Called Hate': 792,\n",
              " 'Power 98': 793,\n",
              " 'Two Deaths': 794,\n",
              " 'A Very Brady Sequel': 795,\n",
              " 'Stefano Quantestorie': 796,\n",
              " 'Death in the Garden': 797,\n",
              " 'Hedd Wyn': 798,\n",
              " 'La Collectionneuse': 799,\n",
              " 'Kaspar Hauser': 800,\n",
              " 'Regular Guys': 801,\n",
              " 'Diebinnen': 802,\n",
              " 'The Convent': 4867,\n",
              " 'The Adventures of Pinocchio': 804,\n",
              " \"Joe's Apartment\": 805,\n",
              " 'The First Wives Club': 806,\n",
              " 'Stonewall': 807,\n",
              " 'Ransom': 7044,\n",
              " 'High School High': 809,\n",
              " 'Phat Beach': 810,\n",
              " 'Foxfire': 811,\n",
              " 'Chain Reaction': 13785,\n",
              " 'Matilda': 813,\n",
              " 'Emma': 16821,\n",
              " 'The Crow: City of Angels': 815,\n",
              " 'House Arrest': 816,\n",
              " 'Eyes Without a Face': 817,\n",
              " 'Bordello of Blood': 818,\n",
              " 'Lotto Land': 819,\n",
              " 'The Story of Xinghua': 820,\n",
              " 'The Day the Sun Turned Cold': 821,\n",
              " 'Flirt': 822,\n",
              " 'The Big Squeeze': 823,\n",
              " 'The Spitfire Grill': 824,\n",
              " 'Escape from L.A.': 825,\n",
              " 'Cyclo': 826,\n",
              " 'Basquiat': 827,\n",
              " 'Tin Cup': 828,\n",
              " 'Dingo': 829,\n",
              " 'The Ballad of Narayama': 2399,\n",
              " 'Every Other Weekend': 831,\n",
              " 'Mille bolle blu': 832,\n",
              " 'Crows and Sparrows': 833,\n",
              " 'The Godfather': 834,\n",
              " 'Maybe... Maybe Not': 835,\n",
              " 'Police Story 3: Supercop': 836,\n",
              " 'Manny & Lo': 837,\n",
              " 'Wife': 838,\n",
              " 'Small Faces': 839,\n",
              " 'Bound': 840,\n",
              " 'Carpool': 841,\n",
              " 'Death in Brunswick': 842,\n",
              " 'Kansas City': 843,\n",
              " \"Gone Fishin'\": 844,\n",
              " \"Lover's Knot\": 845,\n",
              " \"Vive L'Amour\": 846,\n",
              " 'Shadow of Angels': 847,\n",
              " 'Killer: A Journal of Murder': 848,\n",
              " 'Nothing to Lose': 6896,\n",
              " 'Project S': 850,\n",
              " 'Girls Town': 851,\n",
              " 'Bye-Bye': 852,\n",
              " 'The Relic': 853,\n",
              " 'The Island of Dr. Moreau': 15443,\n",
              " 'First Kid': 855,\n",
              " 'The Trigger Effect': 856,\n",
              " 'Sweet Nothing': 857,\n",
              " 'Bogus': 858,\n",
              " 'Bulletproof': 859,\n",
              " 'Talk of Angels': 860,\n",
              " 'The Land Before Time III: The Time of the Great Giving': 861,\n",
              " '1-900': 862,\n",
              " 'Baton Rouge': 863,\n",
              " 'Halloween: The Curse of Michael Myers': 864,\n",
              " 'Twelfth Night': 865,\n",
              " 'Mother Night': 866,\n",
              " 'Liebelei': 867,\n",
              " 'Venice': 868,\n",
              " 'Wild Reeds': 869,\n",
              " 'For Whom the Bell Tolls': 870,\n",
              " 'The Philadelphia Story': 871,\n",
              " \"Singin' in the Rain\": 872,\n",
              " 'An American in Paris': 873,\n",
              " 'Funny Face': 874,\n",
              " \"Breakfast at Tiffany's\": 875,\n",
              " 'Vertigo': 876,\n",
              " 'Rear Window': 877,\n",
              " 'It Happened One Night': 878,\n",
              " 'Gaslight': 8384,\n",
              " 'The Gay Divorcee': 880,\n",
              " 'North by Northwest': 881,\n",
              " 'The Apartment': 6640,\n",
              " 'Some Like It Hot': 883,\n",
              " 'Charade': 884,\n",
              " 'Casablanca': 885,\n",
              " 'The Maltese Falcon': 7665,\n",
              " 'My Fair Lady': 887,\n",
              " 'Roman Holiday': 889,\n",
              " 'The Little Princess': 890,\n",
              " 'Meet Me in St. Louis': 891,\n",
              " 'The Wizard of Oz': 15515,\n",
              " 'Gone with the Wind': 893,\n",
              " 'My Favorite Year': 894,\n",
              " 'Sunset Boulevard': 895,\n",
              " 'Citizen Kane': 896,\n",
              " '2001: A Space Odyssey': 897,\n",
              " 'Golden Earrings': 898,\n",
              " 'All About Eve': 899,\n",
              " 'The Women': 12916,\n",
              " 'Rebecca': 901,\n",
              " 'Foreign Correspondent': 902,\n",
              " 'Notorious': 13335,\n",
              " 'Spellbound': 6193,\n",
              " 'An Affair to Remember': 905,\n",
              " 'To Catch a Thief': 906,\n",
              " 'Father of the Bride': 6793,\n",
              " 'The Band Wagon': 908,\n",
              " 'Ninotchka': 909,\n",
              " 'Love in the Afternoon': 10754,\n",
              " 'Gigi': 17866,\n",
              " 'The Reluctant Debutante': 912,\n",
              " 'The Adventures of Robin Hood': 913,\n",
              " 'The Mark of Zorro': 12685,\n",
              " 'Laura': 915,\n",
              " 'The Ghost and Mrs. Muir': 916,\n",
              " 'Lost Horizon': 11459,\n",
              " 'Top Hat': 918,\n",
              " 'To Be or Not to Be': 8834,\n",
              " 'My Man Godfrey': 2979,\n",
              " 'Giant': 14261,\n",
              " 'East of Eden': 922,\n",
              " 'The Thin Man': 923,\n",
              " 'His Girl Friday': 924,\n",
              " 'Around the World in Eighty Days': 925,\n",
              " \"It's a Wonderful Life\": 926,\n",
              " 'Mr. Smith Goes to Washington': 927,\n",
              " 'Bringing Up Baby': 928,\n",
              " 'Penny Serenade': 929,\n",
              " 'Lady of Burlesque': 931,\n",
              " 'Of Human Bondage': 932,\n",
              " 'Angel on My Shoulder': 933,\n",
              " 'Little Lord Fauntleroy': 934,\n",
              " 'They Made Me a Criminal': 935,\n",
              " 'The Inspector General': 936,\n",
              " 'Angel and the Badman': 937,\n",
              " 'The 39 Steps': 938,\n",
              " 'A Walk in the Sun': 939,\n",
              " 'The Outlaw': 940,\n",
              " 'Night of the Living Dead': 7663,\n",
              " 'The African Queen': 942,\n",
              " 'Beat the Devil': 943,\n",
              " 'Cat on a Hot Tin Roof': 944,\n",
              " 'The Last Time I Saw Paris': 945,\n",
              " 'Meet John Doe': 946,\n",
              " 'Algiers': 947,\n",
              " 'Something to Sing About': 948,\n",
              " 'A Farewell to Arms': 15074,\n",
              " 'Moonlight Murder': 950,\n",
              " 'Nothing Personal': 17793,\n",
              " 'Yes, Madam': 952,\n",
              " 'Dangerous Ground': 953,\n",
              " 'Picnic': 954,\n",
              " 'Madagascar Skin': 955,\n",
              " 'The Pompatus of Love': 956,\n",
              " 'Small Wonders': 957,\n",
              " 'Fly Away Home': 958,\n",
              " 'Bliss': 8864,\n",
              " 'Grace of My Heart': 960,\n",
              " 'Brother of Sleep': 961,\n",
              " 'Maximum Risk': 962,\n",
              " 'Michael Collins': 963,\n",
              " \"The Rich Man's Wife\": 964,\n",
              " 'Infinity': 965,\n",
              " 'Big Night': 966,\n",
              " 'Last Man Standing': 967,\n",
              " 'Caught': 11823,\n",
              " 'Set It Off': 969,\n",
              " '2 Days in the Valley': 970,\n",
              " 'Curdled': 971,\n",
              " \"L'associé\": 972,\n",
              " \"Ed's Next Move\": 973,\n",
              " 'Extreme Measures': 974,\n",
              " 'The Glimmer Man': 975,\n",
              " 'D3: The Mighty Ducks': 976,\n",
              " 'The Chamber': 977,\n",
              " 'The Apple Dumpling Gang': 978,\n",
              " 'Davy Crockett, King of the Wild Frontier': 979,\n",
              " 'Escape to Witch Mountain': 980,\n",
              " 'The Love Bug': 981,\n",
              " 'Herbie Rides Again': 982,\n",
              " 'Old Yeller': 983,\n",
              " 'The Parent Trap': 1950,\n",
              " 'Pollyanna': 985,\n",
              " 'Homeward Bound: The Incredible Journey': 986,\n",
              " 'The Shaggy Dog': 10858,\n",
              " 'Swiss Family Robinson': 988,\n",
              " 'That Darn Cat!': 989,\n",
              " '20,000 Leagues Under the Sea': 13003,\n",
              " 'Cool Runnings': 991,\n",
              " 'Angels in the Outfield': 992,\n",
              " 'Cinderella': 13076,\n",
              " 'Winnie the Pooh and the Blustery Day': 994,\n",
              " 'The Three Caballeros': 995,\n",
              " 'The Sword in the Stone': 996,\n",
              " 'So Dear to My Heart': 997,\n",
              " 'Robin Hood: Prince of Thieves': 998,\n",
              " 'Mary Poppins': 999,\n",
              " 'Dumbo': 1000,\n",
              " \"Pete's Dragon\": 1001,\n",
              " ...}"
            ]
          },
          "metadata": {},
          "execution_count": 46
        }
      ]
    },
    {
      "cell_type": "code",
      "source": [
        "def ck_s_t(t, cosine_sim = cos ):\n",
        "    idx = t_idx[t]\n",
        "    c_sc = list(enumerate(cosine_sim[idx])) # 넘버링 #이누머-열거\n",
        "    c_sc = sorted ( c_sc, key=lambda a:a[1] , reverse=True)\n",
        "    return c_sc[0]\n"
      ],
      "metadata": {
        "id": "AVC2Y4JHZDO3"
      },
      "execution_count": null,
      "outputs": []
    },
    {
      "cell_type": "code",
      "source": [
        "ck_s_t('Toy Story')\n"
      ],
      "metadata": {
        "colab": {
          "base_uri": "https://localhost:8080/"
        },
        "id": "9yrXtHNfaY8r",
        "outputId": "5fd98206-814b-4c63-815a-ebd8b04481ee"
      },
      "execution_count": null,
      "outputs": [
        {
          "output_type": "execute_result",
          "data": {
            "text/plain": [
              "(0, 1.0)"
            ]
          },
          "metadata": {},
          "execution_count": 50
        }
      ]
    },
    {
      "cell_type": "code",
      "source": [
        "def ck_s_t(t, cosine_sim = cos ):\n",
        "    idx = t_idx[t]\n",
        "    c_sc = list(enumerate(cosine_sim[idx])) # 넘버링 #이누머-열거\n",
        "    c_sc = sorted ( c_sc, key=lambda a:a[1] , reverse=True)\n",
        "    return c_sc[1] \n",
        "# [1] 유사도"
      ],
      "metadata": {
        "id": "PgR1u-1CauG0"
      },
      "execution_count": null,
      "outputs": []
    },
    {
      "cell_type": "code",
      "source": [
        "ck_s_t('Toy Story')\n"
      ],
      "metadata": {
        "colab": {
          "base_uri": "https://localhost:8080/"
        },
        "id": "-qyAFyWaavmG",
        "outputId": "9efcc645-3712-4c21-ca45-e72ba1db2dca"
      },
      "execution_count": null,
      "outputs": [
        {
          "output_type": "execute_result",
          "data": {
            "text/plain": [
              "(15348, 0.5258229300737997)"
            ]
          },
          "metadata": {},
          "execution_count": 52
        }
      ]
    },
    {
      "cell_type": "code",
      "source": [
        "def ck_s_t(t, cosine_sim = cos ):\n",
        "    idx = t_idx[t]\n",
        "    c_sc = list(enumerate(cosine_sim[idx])) # 넘버링 #이누머-열거\n",
        "    c_sc = sorted ( c_sc, key=lambda a:a[1] , reverse=True)\n",
        "    m_d = c_sc[1:6] \n",
        "    m_i = [i[0]for i in m_d]\n",
        "    return data['title'].iloc[m_i]\n",
        "    "
      ],
      "metadata": {
        "id": "ZSjcY9csa1GM"
      },
      "execution_count": null,
      "outputs": []
    },
    {
      "cell_type": "code",
      "source": [
        "ck_s_t('Toy Story')\n"
      ],
      "metadata": {
        "colab": {
          "base_uri": "https://localhost:8080/"
        },
        "id": "upwU42-wbUR0",
        "outputId": "7439f49f-e08e-49a0-b7e1-7160f202b2f0"
      },
      "execution_count": null,
      "outputs": [
        {
          "output_type": "execute_result",
          "data": {
            "text/plain": [
              "15348               Toy Story 3\n",
              "2997                Toy Story 2\n",
              "10301    The 40 Year Old Virgin\n",
              "8327                  The Champ\n",
              "1071      Rebel Without a Cause\n",
              "Name: title, dtype: object"
            ]
          },
          "metadata": {},
          "execution_count": 54
        }
      ]
    },
    {
      "cell_type": "code",
      "source": [
        ""
      ],
      "metadata": {
        "id": "TbbJTHoWbu8d"
      },
      "execution_count": null,
      "outputs": []
    },
    {
      "cell_type": "code",
      "source": [
        ""
      ],
      "metadata": {
        "id": "OqKcDFDHbvBM"
      },
      "execution_count": null,
      "outputs": []
    },
    {
      "cell_type": "code",
      "source": [
        "#자카드유사도"
      ],
      "metadata": {
        "id": "EU92yZVAbvFr"
      },
      "execution_count": null,
      "outputs": []
    },
    {
      "cell_type": "code",
      "source": [
        "A = set([1,2,3,4,5])\n",
        "B = set([4,5,6,7,8,9])\n",
        "A|B  # or   합집합"
      ],
      "metadata": {
        "colab": {
          "base_uri": "https://localhost:8080/"
        },
        "id": "S9K-89jBbwHc",
        "outputId": "8b227c45-6838-4600-e121-556b5c6676c3"
      },
      "execution_count": null,
      "outputs": [
        {
          "output_type": "execute_result",
          "data": {
            "text/plain": [
              "{1, 2, 3, 4, 5, 6, 7, 8, 9}"
            ]
          },
          "metadata": {},
          "execution_count": 55
        }
      ]
    },
    {
      "cell_type": "code",
      "source": [
        "A&B #and 교집합"
      ],
      "metadata": {
        "colab": {
          "base_uri": "https://localhost:8080/"
        },
        "id": "8PWAEVo2cEmL",
        "outputId": "39ceb36c-10ac-46fb-d090-e348d62e9278"
      },
      "execution_count": null,
      "outputs": [
        {
          "output_type": "execute_result",
          "data": {
            "text/plain": [
              "{4, 5}"
            ]
          },
          "metadata": {},
          "execution_count": 56
        }
      ]
    },
    {
      "cell_type": "code",
      "source": [
        "data1 = '나는 오늘 정말 피곤해 그래서 힘들어'.split()\n",
        "data2 = '나는 오늘 정말 못해 그래서 힘들어'.split()\n",
        "data3 = '나는 오늘 너무 즐거와 그래서 행복해'.split()\n"
      ],
      "metadata": {
        "id": "9suEJ6upcInM"
      },
      "execution_count": null,
      "outputs": []
    },
    {
      "cell_type": "code",
      "source": [
        "data1"
      ],
      "metadata": {
        "colab": {
          "base_uri": "https://localhost:8080/"
        },
        "id": "ndqqzFnnckhU",
        "outputId": "111a9857-c177-4556-a0f1-579710ebacf3"
      },
      "execution_count": null,
      "outputs": [
        {
          "output_type": "execute_result",
          "data": {
            "text/plain": [
              "['나는', '오늘', '정말', '피곤해', '그래서', '힘들어']"
            ]
          },
          "metadata": {},
          "execution_count": 59
        }
      ]
    },
    {
      "cell_type": "code",
      "source": [
        "un=set(data1) | set(data2)\n",
        "un"
      ],
      "metadata": {
        "colab": {
          "base_uri": "https://localhost:8080/"
        },
        "id": "hPSqCcksccPY",
        "outputId": "b8f47ec2-bff5-46e8-a620-062fe042ba0b"
      },
      "execution_count": null,
      "outputs": [
        {
          "output_type": "execute_result",
          "data": {
            "text/plain": [
              "{'그래서', '나는', '못해', '오늘', '정말', '피곤해', '힘들어'}"
            ]
          },
          "metadata": {},
          "execution_count": 58
        }
      ]
    },
    {
      "cell_type": "code",
      "source": [
        "intd=set(data1) & set(data2)\n",
        "intd"
      ],
      "metadata": {
        "colab": {
          "base_uri": "https://localhost:8080/"
        },
        "id": "xh9nNgJfcjX5",
        "outputId": "a74450c3-f6c0-4f47-ea23-065c57950d3c"
      },
      "execution_count": null,
      "outputs": [
        {
          "output_type": "execute_result",
          "data": {
            "text/plain": [
              "{'그래서', '나는', '오늘', '정말', '힘들어'}"
            ]
          },
          "metadata": {},
          "execution_count": 60
        }
      ]
    },
    {
      "cell_type": "code",
      "source": [
        "len(intd)/len(un) #이것이 유사도"
      ],
      "metadata": {
        "colab": {
          "base_uri": "https://localhost:8080/"
        },
        "id": "fw-68HlGcrFE",
        "outputId": "40ca6096-f08f-4711-d85e-9e59e5b9e0f3"
      },
      "execution_count": null,
      "outputs": [
        {
          "output_type": "execute_result",
          "data": {
            "text/plain": [
              "0.7142857142857143"
            ]
          },
          "metadata": {},
          "execution_count": 61
        }
      ]
    },
    {
      "cell_type": "code",
      "source": [
        "un1=set(data1) | set(data3)\n",
        "intd1=set(data1) & set(data3)\n",
        "len(intd1)/len(un1) #이것이 유사도   #data1은 data2와 더 유사도가 높다"
      ],
      "metadata": {
        "colab": {
          "base_uri": "https://localhost:8080/"
        },
        "id": "ztf8MCU8cwDC",
        "outputId": "aabb0400-bb0d-40e1-ef46-78091b2ec62c"
      },
      "execution_count": null,
      "outputs": [
        {
          "output_type": "execute_result",
          "data": {
            "text/plain": [
              "0.3333333333333333"
            ]
          },
          "metadata": {},
          "execution_count": 75
        }
      ]
    },
    {
      "cell_type": "code",
      "source": [
        ""
      ],
      "metadata": {
        "id": "y4lcwEo_dPE8"
      },
      "execution_count": null,
      "outputs": []
    },
    {
      "cell_type": "code",
      "source": [
        "data1 = '나는 오늘 정말 피곤해 그래서 힘들어' \n",
        "data2 = '나는 오늘 정말 못해 그래서 힘들어' \n",
        "data3 = '나는 오늘 너무 즐거와 그래서 행복해' \n"
      ],
      "metadata": {
        "id": "bb8lA4T6dPI7"
      },
      "execution_count": null,
      "outputs": []
    },
    {
      "cell_type": "code",
      "source": [
        "t_v = TfidfVectorizer()\n",
        "m_data = t_v.fit_transform( [data1,data2,data3])\n",
        "m_data.toarray()\n",
        "#3개의 문장이 벡터화 점 찍혓다"
      ],
      "metadata": {
        "colab": {
          "base_uri": "https://localhost:8080/"
        },
        "id": "bRu5kqjhdPPl",
        "outputId": "a8007640-a7ff-4300-8303-ca267b74be0d"
      },
      "execution_count": null,
      "outputs": [
        {
          "output_type": "execute_result",
          "data": {
            "text/plain": [
              "array([[0.32999531, 0.32999531, 0.        , 0.        , 0.32999531,\n",
              "        0.42492904, 0.        , 0.55873062, 0.        , 0.42492904],\n",
              "       [0.32999531, 0.32999531, 0.        , 0.55873062, 0.32999531,\n",
              "        0.42492904, 0.        , 0.        , 0.        , 0.42492904],\n",
              "       [0.29360705, 0.29360705, 0.49711994, 0.        , 0.29360705,\n",
              "        0.        , 0.49711994, 0.        , 0.49711994, 0.        ]])"
            ]
          },
          "metadata": {},
          "execution_count": 79
        }
      ]
    },
    {
      "cell_type": "code",
      "source": [
        "m_data.toarray().shape # 단어10개 피처10개 해당피처에 숫자값"
      ],
      "metadata": {
        "colab": {
          "base_uri": "https://localhost:8080/"
        },
        "id": "CDeRDLlUfJXF",
        "outputId": "2e38e7aa-08b4-4d57-e58f-d7847016f20c"
      },
      "execution_count": null,
      "outputs": [
        {
          "output_type": "execute_result",
          "data": {
            "text/plain": [
              "(3, 10)"
            ]
          },
          "metadata": {},
          "execution_count": 80
        }
      ]
    },
    {
      "cell_type": "code",
      "source": [
        "#유클리드유사도   점과점사이의거리 (피타고라스정리활용)"
      ],
      "metadata": {
        "id": "8uWbJXEAgC5g"
      },
      "execution_count": null,
      "outputs": []
    },
    {
      "cell_type": "code",
      "source": [
        "def f(A,B):\n",
        "    return np.sqrt( np.sum((A-B)**2)  )\n",
        "    "
      ],
      "metadata": {
        "id": "mO1AU31Agilm"
      },
      "execution_count": null,
      "outputs": []
    },
    {
      "cell_type": "code",
      "source": [
        "m_data[0].toarray()"
      ],
      "metadata": {
        "colab": {
          "base_uri": "https://localhost:8080/"
        },
        "id": "kNDKpEQug9jp",
        "outputId": "059d3bb5-5a15-4bfb-d166-9b52e48463c1"
      },
      "execution_count": null,
      "outputs": [
        {
          "output_type": "execute_result",
          "data": {
            "text/plain": [
              "array([[0.32999531, 0.32999531, 0.        , 0.        , 0.32999531,\n",
              "        0.42492904, 0.        , 0.55873062, 0.        , 0.42492904]])"
            ]
          },
          "metadata": {},
          "execution_count": 82
        }
      ]
    },
    {
      "cell_type": "code",
      "source": [
        "m_data.toarray()[0]"
      ],
      "metadata": {
        "colab": {
          "base_uri": "https://localhost:8080/"
        },
        "id": "2rg-rk_IhEjk",
        "outputId": "d678e03a-0c4e-4dea-b7f2-6721628a4cdc"
      },
      "execution_count": null,
      "outputs": [
        {
          "output_type": "execute_result",
          "data": {
            "text/plain": [
              "array([0.32999531, 0.32999531, 0.        , 0.        , 0.32999531,\n",
              "       0.42492904, 0.        , 0.55873062, 0.        , 0.42492904])"
            ]
          },
          "metadata": {},
          "execution_count": 83
        }
      ]
    },
    {
      "cell_type": "code",
      "source": [
        "A = m_data.toarray()[0]\n",
        "B = m_data.toarray()[1]\n",
        "C = m_data.toarray()[2]"
      ],
      "metadata": {
        "id": "DFADfRM4hIO4"
      },
      "execution_count": null,
      "outputs": []
    },
    {
      "cell_type": "code",
      "source": [
        "f(A,B), f(A,C)"
      ],
      "metadata": {
        "colab": {
          "base_uri": "https://localhost:8080/"
        },
        "id": "a_fJ-NBahNqU",
        "outputId": "a0a2b33b-f2a5-4a32-a334-8243d83ec4ee"
      },
      "execution_count": null,
      "outputs": [
        {
          "output_type": "execute_result",
          "data": {
            "text/plain": [
              "(0.7901644267844229, 1.1910777960950294)"
            ]
          },
          "metadata": {},
          "execution_count": 85
        }
      ]
    },
    {
      "cell_type": "code",
      "source": [
        "def e_f(m):\n",
        "    return m/np.sum(m)\n",
        "e_m_d = e_f(m_data) #정규화끝난매트릭스데이터"
      ],
      "metadata": {
        "id": "bvZqV_kMhA3V"
      },
      "execution_count": null,
      "outputs": []
    },
    {
      "cell_type": "code",
      "source": [
        "from sklearn.metrics import euclidean_distances #유클리드거리 소문자-매소드\n",
        "euclidean_distances(m_data[0:1], m_data[1:2]) #거리값"
      ],
      "metadata": {
        "colab": {
          "base_uri": "https://localhost:8080/"
        },
        "id": "pryjJJSTh-tX",
        "outputId": "702dc3c9-eea8-4233-ecb0-e399292a8d3f"
      },
      "execution_count": null,
      "outputs": [
        {
          "output_type": "execute_result",
          "data": {
            "text/plain": [
              "array([[0.79016443]])"
            ]
          },
          "metadata": {},
          "execution_count": 94
        }
      ]
    },
    {
      "cell_type": "code",
      "source": [
        "euclidean_distances(e_m_d[0:1], e_m_d[1:2])"
      ],
      "metadata": {
        "colab": {
          "base_uri": "https://localhost:8080/"
        },
        "id": "_Trz1heGh13i",
        "outputId": "51a751ad-2a52-4b4b-dd86-e77d2bd1bcd5"
      },
      "execution_count": null,
      "outputs": [
        {
          "output_type": "execute_result",
          "data": {
            "text/plain": [
              "array([[0.11021454]])"
            ]
          },
          "metadata": {},
          "execution_count": 95
        }
      ]
    },
    {
      "cell_type": "code",
      "source": [
        "euclidean_distances(e_m_d[0:1], e_m_d[2:])"
      ],
      "metadata": {
        "colab": {
          "base_uri": "https://localhost:8080/"
        },
        "id": "vAh4nZTaiUPO",
        "outputId": "7b1aaafa-6c3b-4f50-b3da-b1113ae31224"
      },
      "execution_count": null,
      "outputs": [
        {
          "output_type": "execute_result",
          "data": {
            "text/plain": [
              "array([[0.16613516]])"
            ]
          },
          "metadata": {},
          "execution_count": 96
        }
      ]
    },
    {
      "cell_type": "code",
      "source": [
        ""
      ],
      "metadata": {
        "id": "HhxQxjWxiwYY"
      },
      "execution_count": null,
      "outputs": []
    },
    {
      "cell_type": "code",
      "source": [
        ""
      ],
      "metadata": {
        "id": "fS7lqoG-iwdO"
      },
      "execution_count": null,
      "outputs": []
    },
    {
      "cell_type": "code",
      "source": [
        "# 멘하탄유사도    "
      ],
      "metadata": {
        "id": "lwvmp-tbiwhP"
      },
      "execution_count": null,
      "outputs": []
    },
    {
      "cell_type": "code",
      "source": [
        "from sklearn.metrics.pairwise import manhattan_distances\n",
        "print( manhattan_distances(m_data[0:1], m_data[1:2])  , manhattan_distances(m_data[0:1], m_data[2:])  )\n",
        "print( manhattan_distances(e_m_d[0:1], e_m_d[1:2])  ,manhattan_distances(m_data[0:1], m_data[2:])     )"
      ],
      "metadata": {
        "colab": {
          "base_uri": "https://localhost:8080/"
        },
        "id": "4mxM17-NjChF",
        "outputId": "55d3d952-7d3b-4171-b09d-6ba60c47bf45"
      },
      "execution_count": null,
      "outputs": [
        {
          "output_type": "stream",
          "name": "stdout",
          "text": [
            "[[1.11746125]] [[3.00911332]]\n",
            "[[0.1558669]] [[3.00911332]]\n"
          ]
        }
      ]
    },
    {
      "cell_type": "code",
      "source": [
        "\n",
        "맨하탄유사도 :사각형격자로이루어진지도에서출발에서도착까지가로지르지않고라수잇는최단거리\n",
        "코사인유사도 두벡터사이의코사인각도를구하는방법 -1~1  1에가까울수록유사함\n",
        "              가장 널리쓰임   코사인세타=  a백dot b백/ a b  코드자체가 코사인세타\n",
        "유클리디언유사도  엔차원 공간의 두 점 사이의 최단거리\n",
        "자카드유사도  두문장을각단어의집합으로만든뒤집합을통해유사도르측정 일에가까울수록유사도가높음 영부터일사이의값을가짐\n",
        "\n"
      ],
      "metadata": {
        "id": "CJrFQ5oFj-0j"
      },
      "execution_count": null,
      "outputs": []
    },
    {
      "cell_type": "code",
      "source": [
        ""
      ],
      "metadata": {
        "id": "_X6qKTxPlN_l"
      },
      "execution_count": null,
      "outputs": []
    },
    {
      "cell_type": "code",
      "source": [
        ""
      ],
      "metadata": {
        "id": "-lf-1WjlLByZ"
      },
      "execution_count": null,
      "outputs": []
    },
    {
      "cell_type": "code",
      "source": [
        ""
      ],
      "metadata": {
        "id": "VTZwcQ-mLCB8"
      },
      "execution_count": null,
      "outputs": []
    },
    {
      "cell_type": "code",
      "source": [
        ""
      ],
      "metadata": {
        "id": "vjpjqL6lLCJD"
      },
      "execution_count": null,
      "outputs": []
    },
    {
      "cell_type": "code",
      "source": [
        ""
      ],
      "metadata": {
        "id": "V2Ch8mvpLCOP"
      },
      "execution_count": null,
      "outputs": []
    },
    {
      "cell_type": "code",
      "source": [
        ""
      ],
      "metadata": {
        "id": "cAnEl67FLCYT"
      },
      "execution_count": null,
      "outputs": []
    },
    {
      "cell_type": "code",
      "source": [
        "data = [data1,data2,data3]\n",
        "from tensorflow.keras.preprocessing.text import Tokenizer\n",
        "tk = Tokenizer()\n",
        "tk.fit_on_texts(data)\n",
        "tk.index_word"
      ],
      "metadata": {
        "colab": {
          "base_uri": "https://localhost:8080/",
          "height": 245
        },
        "id": "bLp4QdiJlODC",
        "outputId": "fd4c41f2-f42a-40b5-b68c-955eb6b41029"
      },
      "execution_count": null,
      "outputs": [
        {
          "output_type": "error",
          "ename": "NameError",
          "evalue": "ignored",
          "traceback": [
            "\u001b[0;31m---------------------------------------------------------------------------\u001b[0m",
            "\u001b[0;31mNameError\u001b[0m                                 Traceback (most recent call last)",
            "\u001b[0;32m<ipython-input-14-49370955f8d5>\u001b[0m in \u001b[0;36m<module>\u001b[0;34m()\u001b[0m\n\u001b[0;32m----> 1\u001b[0;31m \u001b[0mdata\u001b[0m \u001b[0;34m=\u001b[0m \u001b[0;34m[\u001b[0m\u001b[0mdata1\u001b[0m\u001b[0;34m,\u001b[0m\u001b[0mdata2\u001b[0m\u001b[0;34m,\u001b[0m\u001b[0mdata3\u001b[0m\u001b[0;34m]\u001b[0m\u001b[0;34m\u001b[0m\u001b[0;34m\u001b[0m\u001b[0m\n\u001b[0m\u001b[1;32m      2\u001b[0m \u001b[0;32mfrom\u001b[0m \u001b[0mtensorflow\u001b[0m\u001b[0;34m.\u001b[0m\u001b[0mkeras\u001b[0m\u001b[0;34m.\u001b[0m\u001b[0mpreprocessing\u001b[0m\u001b[0;34m.\u001b[0m\u001b[0mtext\u001b[0m \u001b[0;32mimport\u001b[0m \u001b[0mTokenizer\u001b[0m\u001b[0;34m\u001b[0m\u001b[0;34m\u001b[0m\u001b[0m\n\u001b[1;32m      3\u001b[0m \u001b[0mtk\u001b[0m \u001b[0;34m=\u001b[0m \u001b[0mTokenizer\u001b[0m\u001b[0;34m(\u001b[0m\u001b[0;34m)\u001b[0m\u001b[0;34m\u001b[0m\u001b[0;34m\u001b[0m\u001b[0m\n\u001b[1;32m      4\u001b[0m \u001b[0mtk\u001b[0m\u001b[0;34m.\u001b[0m\u001b[0mfit_on_texts\u001b[0m\u001b[0;34m(\u001b[0m\u001b[0mdata\u001b[0m\u001b[0;34m)\u001b[0m\u001b[0;34m\u001b[0m\u001b[0;34m\u001b[0m\u001b[0m\n\u001b[1;32m      5\u001b[0m \u001b[0mtk\u001b[0m\u001b[0;34m.\u001b[0m\u001b[0mindex_word\u001b[0m\u001b[0;34m\u001b[0m\u001b[0;34m\u001b[0m\u001b[0m\n",
            "\u001b[0;31mNameError\u001b[0m: name 'data1' is not defined"
          ]
        }
      ]
    },
    {
      "cell_type": "code",
      "source": [
        "tk.texts_to_matrix(data, mode='count')"
      ],
      "metadata": {
        "colab": {
          "base_uri": "https://localhost:8080/"
        },
        "id": "sJR4POCTltJ4",
        "outputId": "869e8db1-bb74-4bfa-a6a3-90c3fd138f73"
      },
      "execution_count": null,
      "outputs": [
        {
          "output_type": "execute_result",
          "data": {
            "text/plain": [
              "array([[0., 1., 1., 1., 1., 1., 1., 0., 0., 0., 0.],\n",
              "       [0., 1., 1., 1., 1., 1., 0., 1., 0., 0., 0.],\n",
              "       [0., 1., 1., 1., 0., 0., 0., 0., 1., 1., 1.]])"
            ]
          },
          "metadata": {},
          "execution_count": 101
        }
      ]
    },
    {
      "cell_type": "code",
      "source": [
        "tk.texts_to_matrix(data, mode='tfidf')"
      ],
      "metadata": {
        "colab": {
          "base_uri": "https://localhost:8080/"
        },
        "id": "Y0bXv6Dil9Y2",
        "outputId": "b8234462-3b61-45d9-e4c5-039e455ae16a"
      },
      "execution_count": null,
      "outputs": [
        {
          "output_type": "execute_result",
          "data": {
            "text/plain": [
              "array([[0.        , 0.55961579, 0.55961579, 0.55961579, 0.69314718,\n",
              "        0.69314718, 0.91629073, 0.        , 0.        , 0.        ,\n",
              "        0.        ],\n",
              "       [0.        , 0.55961579, 0.55961579, 0.55961579, 0.69314718,\n",
              "        0.69314718, 0.        , 0.91629073, 0.        , 0.        ,\n",
              "        0.        ],\n",
              "       [0.        , 0.55961579, 0.55961579, 0.55961579, 0.        ,\n",
              "        0.        , 0.        , 0.        , 0.91629073, 0.91629073,\n",
              "        0.91629073]])"
            ]
          },
          "metadata": {},
          "execution_count": 104
        }
      ]
    },
    {
      "cell_type": "code",
      "source": [
        ""
      ],
      "metadata": {
        "id": "N_1lfbpjmnbL"
      },
      "execution_count": null,
      "outputs": []
    },
    {
      "cell_type": "code",
      "source": [
        "from tensorflow.keras.preprocessing.text import Tokenizer"
      ],
      "metadata": {
        "id": "Rk4yW5khmnfG"
      },
      "execution_count": null,
      "outputs": []
    },
    {
      "cell_type": "code",
      "source": [
        "from sklearn.datasets import fetch_20newsgroups #분류 문제 풀기\n",
        "import pandas as pd\n",
        "import numpy as np\n",
        "from tensorflow.keras.preprocessing.text import Tokenizer\n",
        "from tensorflow.keras.utils import to_categorical  \n",
        "import matplotlib.pyplot as plt"
      ],
      "metadata": {
        "id": "Uqx9tvkgmnjF"
      },
      "execution_count": null,
      "outputs": []
    },
    {
      "cell_type": "code",
      "source": [
        "w_data = fetch_20newsgroups()   #딕셔너리? 데이터 로드\n",
        "w_data.keys()"
      ],
      "metadata": {
        "colab": {
          "base_uri": "https://localhost:8080/"
        },
        "id": "0hkkZId6G29e",
        "outputId": "db66e33b-77fb-424d-8199-8f2705052409"
      },
      "execution_count": null,
      "outputs": [
        {
          "output_type": "execute_result",
          "data": {
            "text/plain": [
              "dict_keys(['data', 'filenames', 'target_names', 'target', 'DESCR'])"
            ]
          },
          "metadata": {},
          "execution_count": 4
        }
      ]
    },
    {
      "cell_type": "code",
      "source": [
        "X_data = w_data.data #data 시리즈슬라이스\n",
        "y_data = w_data.target #타겟시리즈슬라이스"
      ],
      "metadata": {
        "id": "PCp6DFT4GV_i"
      },
      "execution_count": null,
      "outputs": []
    },
    {
      "cell_type": "code",
      "source": [
        "len(X_data), len(y_data) #txt라이상치확인어렵다\n",
        "#\n"
      ],
      "metadata": {
        "colab": {
          "base_uri": "https://localhost:8080/"
        },
        "id": "7Os1M68-HMkN",
        "outputId": "b0e59446-8f35-41b1-f8da-cab64d36def2"
      },
      "execution_count": null,
      "outputs": [
        {
          "output_type": "execute_result",
          "data": {
            "text/plain": [
              "(11314, 11314)"
            ]
          },
          "metadata": {},
          "execution_count": 6
        }
      ]
    },
    {
      "cell_type": "code",
      "source": [
        "len(np.unique(X_data)), np.unique(y_data)"
      ],
      "metadata": {
        "colab": {
          "base_uri": "https://localhost:8080/"
        },
        "id": "ekE6HuJ5H7zw",
        "outputId": "4b652758-04dd-47ca-f2dc-c91f558be8df"
      },
      "execution_count": null,
      "outputs": [
        {
          "output_type": "execute_result",
          "data": {
            "text/plain": [
              "(11314,\n",
              " array([ 0,  1,  2,  3,  4,  5,  6,  7,  8,  9, 10, 11, 12, 13, 14, 15, 16,\n",
              "        17, 18, 19]))"
            ]
          },
          "metadata": {},
          "execution_count": 7
        }
      ]
    },
    {
      "cell_type": "code",
      "source": [
        "all_data = pd.DataFrame()\n",
        "all_data['X']=X_data\n",
        "all_data['y']=y_data\n",
        "all_data"
      ],
      "metadata": {
        "colab": {
          "base_uri": "https://localhost:8080/",
          "height": 424
        },
        "id": "iwKbmySDIM6K",
        "outputId": "ed1de0a1-b2fa-4bb9-91bf-01d8f6b4d807"
      },
      "execution_count": null,
      "outputs": [
        {
          "output_type": "execute_result",
          "data": {
            "text/plain": [
              "                                                       X   y\n",
              "0      From: lerxst@wam.umd.edu (where's my thing)\\nS...   7\n",
              "1      From: guykuo@carson.u.washington.edu (Guy Kuo)...   4\n",
              "2      From: twillis@ec.ecn.purdue.edu (Thomas E Will...   4\n",
              "3      From: jgreen@amber (Joe Green)\\nSubject: Re: W...   1\n",
              "4      From: jcm@head-cfa.harvard.edu (Jonathan McDow...  14\n",
              "...                                                  ...  ..\n",
              "11309  From: jim.zisfein@factory.com (Jim Zisfein) \\n...  13\n",
              "11310  From: ebodin@pearl.tufts.edu\\nSubject: Screen ...   4\n",
              "11311  From: westes@netcom.com (Will Estes)\\nSubject:...   3\n",
              "11312  From: steve@hcrlgw (Steven Collins)\\nSubject: ...   1\n",
              "11313  From: gunning@cco.caltech.edu (Kevin J. Gunnin...   8\n",
              "\n",
              "[11314 rows x 2 columns]"
            ],
            "text/html": [
              "\n",
              "  <div id=\"df-de38a30d-e72f-4cc7-bc8f-9c5a6bbee0d2\">\n",
              "    <div class=\"colab-df-container\">\n",
              "      <div>\n",
              "<style scoped>\n",
              "    .dataframe tbody tr th:only-of-type {\n",
              "        vertical-align: middle;\n",
              "    }\n",
              "\n",
              "    .dataframe tbody tr th {\n",
              "        vertical-align: top;\n",
              "    }\n",
              "\n",
              "    .dataframe thead th {\n",
              "        text-align: right;\n",
              "    }\n",
              "</style>\n",
              "<table border=\"1\" class=\"dataframe\">\n",
              "  <thead>\n",
              "    <tr style=\"text-align: right;\">\n",
              "      <th></th>\n",
              "      <th>X</th>\n",
              "      <th>y</th>\n",
              "    </tr>\n",
              "  </thead>\n",
              "  <tbody>\n",
              "    <tr>\n",
              "      <th>0</th>\n",
              "      <td>From: lerxst@wam.umd.edu (where's my thing)\\nS...</td>\n",
              "      <td>7</td>\n",
              "    </tr>\n",
              "    <tr>\n",
              "      <th>1</th>\n",
              "      <td>From: guykuo@carson.u.washington.edu (Guy Kuo)...</td>\n",
              "      <td>4</td>\n",
              "    </tr>\n",
              "    <tr>\n",
              "      <th>2</th>\n",
              "      <td>From: twillis@ec.ecn.purdue.edu (Thomas E Will...</td>\n",
              "      <td>4</td>\n",
              "    </tr>\n",
              "    <tr>\n",
              "      <th>3</th>\n",
              "      <td>From: jgreen@amber (Joe Green)\\nSubject: Re: W...</td>\n",
              "      <td>1</td>\n",
              "    </tr>\n",
              "    <tr>\n",
              "      <th>4</th>\n",
              "      <td>From: jcm@head-cfa.harvard.edu (Jonathan McDow...</td>\n",
              "      <td>14</td>\n",
              "    </tr>\n",
              "    <tr>\n",
              "      <th>...</th>\n",
              "      <td>...</td>\n",
              "      <td>...</td>\n",
              "    </tr>\n",
              "    <tr>\n",
              "      <th>11309</th>\n",
              "      <td>From: jim.zisfein@factory.com (Jim Zisfein) \\n...</td>\n",
              "      <td>13</td>\n",
              "    </tr>\n",
              "    <tr>\n",
              "      <th>11310</th>\n",
              "      <td>From: ebodin@pearl.tufts.edu\\nSubject: Screen ...</td>\n",
              "      <td>4</td>\n",
              "    </tr>\n",
              "    <tr>\n",
              "      <th>11311</th>\n",
              "      <td>From: westes@netcom.com (Will Estes)\\nSubject:...</td>\n",
              "      <td>3</td>\n",
              "    </tr>\n",
              "    <tr>\n",
              "      <th>11312</th>\n",
              "      <td>From: steve@hcrlgw (Steven Collins)\\nSubject: ...</td>\n",
              "      <td>1</td>\n",
              "    </tr>\n",
              "    <tr>\n",
              "      <th>11313</th>\n",
              "      <td>From: gunning@cco.caltech.edu (Kevin J. Gunnin...</td>\n",
              "      <td>8</td>\n",
              "    </tr>\n",
              "  </tbody>\n",
              "</table>\n",
              "<p>11314 rows × 2 columns</p>\n",
              "</div>\n",
              "      <button class=\"colab-df-convert\" onclick=\"convertToInteractive('df-de38a30d-e72f-4cc7-bc8f-9c5a6bbee0d2')\"\n",
              "              title=\"Convert this dataframe to an interactive table.\"\n",
              "              style=\"display:none;\">\n",
              "        \n",
              "  <svg xmlns=\"http://www.w3.org/2000/svg\" height=\"24px\"viewBox=\"0 0 24 24\"\n",
              "       width=\"24px\">\n",
              "    <path d=\"M0 0h24v24H0V0z\" fill=\"none\"/>\n",
              "    <path d=\"M18.56 5.44l.94 2.06.94-2.06 2.06-.94-2.06-.94-.94-2.06-.94 2.06-2.06.94zm-11 1L8.5 8.5l.94-2.06 2.06-.94-2.06-.94L8.5 2.5l-.94 2.06-2.06.94zm10 10l.94 2.06.94-2.06 2.06-.94-2.06-.94-.94-2.06-.94 2.06-2.06.94z\"/><path d=\"M17.41 7.96l-1.37-1.37c-.4-.4-.92-.59-1.43-.59-.52 0-1.04.2-1.43.59L10.3 9.45l-7.72 7.72c-.78.78-.78 2.05 0 2.83L4 21.41c.39.39.9.59 1.41.59.51 0 1.02-.2 1.41-.59l7.78-7.78 2.81-2.81c.8-.78.8-2.07 0-2.86zM5.41 20L4 18.59l7.72-7.72 1.47 1.35L5.41 20z\"/>\n",
              "  </svg>\n",
              "      </button>\n",
              "      \n",
              "  <style>\n",
              "    .colab-df-container {\n",
              "      display:flex;\n",
              "      flex-wrap:wrap;\n",
              "      gap: 12px;\n",
              "    }\n",
              "\n",
              "    .colab-df-convert {\n",
              "      background-color: #E8F0FE;\n",
              "      border: none;\n",
              "      border-radius: 50%;\n",
              "      cursor: pointer;\n",
              "      display: none;\n",
              "      fill: #1967D2;\n",
              "      height: 32px;\n",
              "      padding: 0 0 0 0;\n",
              "      width: 32px;\n",
              "    }\n",
              "\n",
              "    .colab-df-convert:hover {\n",
              "      background-color: #E2EBFA;\n",
              "      box-shadow: 0px 1px 2px rgba(60, 64, 67, 0.3), 0px 1px 3px 1px rgba(60, 64, 67, 0.15);\n",
              "      fill: #174EA6;\n",
              "    }\n",
              "\n",
              "    [theme=dark] .colab-df-convert {\n",
              "      background-color: #3B4455;\n",
              "      fill: #D2E3FC;\n",
              "    }\n",
              "\n",
              "    [theme=dark] .colab-df-convert:hover {\n",
              "      background-color: #434B5C;\n",
              "      box-shadow: 0px 1px 3px 1px rgba(0, 0, 0, 0.15);\n",
              "      filter: drop-shadow(0px 1px 2px rgba(0, 0, 0, 0.3));\n",
              "      fill: #FFFFFF;\n",
              "    }\n",
              "  </style>\n",
              "\n",
              "      <script>\n",
              "        const buttonEl =\n",
              "          document.querySelector('#df-de38a30d-e72f-4cc7-bc8f-9c5a6bbee0d2 button.colab-df-convert');\n",
              "        buttonEl.style.display =\n",
              "          google.colab.kernel.accessAllowed ? 'block' : 'none';\n",
              "\n",
              "        async function convertToInteractive(key) {\n",
              "          const element = document.querySelector('#df-de38a30d-e72f-4cc7-bc8f-9c5a6bbee0d2');\n",
              "          const dataTable =\n",
              "            await google.colab.kernel.invokeFunction('convertToInteractive',\n",
              "                                                     [key], {});\n",
              "          if (!dataTable) return;\n",
              "\n",
              "          const docLinkHtml = 'Like what you see? Visit the ' +\n",
              "            '<a target=\"_blank\" href=https://colab.research.google.com/notebooks/data_table.ipynb>data table notebook</a>'\n",
              "            + ' to learn more about interactive tables.';\n",
              "          element.innerHTML = '';\n",
              "          dataTable['output_type'] = 'display_data';\n",
              "          await google.colab.output.renderOutput(dataTable, element);\n",
              "          const docLink = document.createElement('div');\n",
              "          docLink.innerHTML = docLinkHtml;\n",
              "          element.appendChild(docLink);\n",
              "        }\n",
              "      </script>\n",
              "    </div>\n",
              "  </div>\n",
              "  "
            ]
          },
          "metadata": {},
          "execution_count": 15
        }
      ]
    },
    {
      "cell_type": "code",
      "source": [
        "n_l = []\n",
        "for i in X_data:\n",
        "    print(i)\n",
        "    n = len(i)\n",
        "    n_l.append(n)\n",
        "max(n_l), min(n_l) #맥스렌민렌"
      ],
      "metadata": {
        "id": "93p1A4RKIc-T"
      },
      "execution_count": null,
      "outputs": []
    },
    {
      "cell_type": "code",
      "source": [
        "tk = Tokenizer(num_words=10000 )  #num_words=\n",
        "tk.fit_on_texts(X_data)\n",
        "t_x_data = tk.texts_to_matrix(X_data) #매트릭스로꺼내기  입력도 매트릭스로\n",
        "t_x_data.shape"
      ],
      "metadata": {
        "colab": {
          "base_uri": "https://localhost:8080/"
        },
        "id": "M91nJoPyL1OQ",
        "outputId": "f6899a30-f26c-47a0-9d89-c84d1719eb79"
      },
      "execution_count": null,
      "outputs": [
        {
          "output_type": "execute_result",
          "data": {
            "text/plain": [
              "(11314, 10000)"
            ]
          },
          "metadata": {},
          "execution_count": 18
        }
      ]
    },
    {
      "cell_type": "code",
      "source": [
        "type(X_data[0]) # 이게 str으로나오면 매트릭스로 전달해도 문제없다는 뜻"
      ],
      "metadata": {
        "colab": {
          "base_uri": "https://localhost:8080/"
        },
        "id": "LH1o8KdGMnC4",
        "outputId": "059b6f69-804d-48da-ef54-d0599da0e863"
      },
      "execution_count": null,
      "outputs": [
        {
          "output_type": "execute_result",
          "data": {
            "text/plain": [
              "str"
            ]
          },
          "metadata": {},
          "execution_count": 17
        }
      ]
    },
    {
      "cell_type": "code",
      "source": [
        "t1_x_data = tk.texts_to_matrix(X_data, mode='count')\n",
        "t1_x_data"
      ],
      "metadata": {
        "colab": {
          "base_uri": "https://localhost:8080/"
        },
        "id": "qKu_7Lt6M248",
        "outputId": "40f7c08e-5e78-44c1-c652-ad770a56a0d7"
      },
      "execution_count": null,
      "outputs": [
        {
          "output_type": "execute_result",
          "data": {
            "text/plain": [
              "array([[ 0.,  6.,  2., ...,  0.,  0.,  0.],\n",
              "       [ 0.,  4.,  1., ...,  0.,  0.,  0.],\n",
              "       [ 0., 21.,  6., ...,  0.,  0.,  0.],\n",
              "       ...,\n",
              "       [ 0., 12.,  1., ...,  0.,  0.,  0.],\n",
              "       [ 0.,  3.,  2., ...,  0.,  0.,  0.],\n",
              "       [ 0.,  0.,  0., ...,  0.,  0.,  0.]])"
            ]
          },
          "metadata": {},
          "execution_count": 19
        }
      ]
    },
    {
      "cell_type": "code",
      "source": [
        "t2_x_data = tk.texts_to_matrix(X_data, mode='tfidf') #tf라는카운트에 가중치를곱\n",
        "t2_x_data\n",
        "\n",
        "#문장의벡터화"
      ],
      "metadata": {
        "colab": {
          "base_uri": "https://localhost:8080/"
        },
        "id": "vvNBR-x2M_Iw",
        "outputId": "c4c8e210-f9c3-47be-a78d-186dfc79ff5b"
      },
      "execution_count": null,
      "outputs": [
        {
          "output_type": "execute_result",
          "data": {
            "text/plain": [
              "array([[0.        , 2.03303026, 1.26800369, ..., 0.        , 0.        ,\n",
              "        0.        ],\n",
              "       [0.        , 1.73776026, 0.74890341, ..., 0.        , 0.        ,\n",
              "        0.        ],\n",
              "       [0.        , 2.94532413, 2.09075818, ..., 0.        , 0.        ,\n",
              "        0.        ],\n",
              "       ...,\n",
              "       [0.        , 2.53779767, 0.74890341, ..., 0.        , 0.        ,\n",
              "        0.        ],\n",
              "       [0.        , 1.52826285, 1.26800369, ..., 0.        , 0.        ,\n",
              "        0.        ],\n",
              "       [0.        , 0.        , 0.        , ..., 0.        , 0.        ,\n",
              "        0.        ]])"
            ]
          },
          "metadata": {},
          "execution_count": 20
        }
      ]
    },
    {
      "cell_type": "code",
      "source": [
        ""
      ],
      "metadata": {
        "id": "GK7TBfXBNYXY"
      },
      "execution_count": null,
      "outputs": []
    },
    {
      "cell_type": "code",
      "source": [
        "X_data1 = t_x_data\n",
        "X_data2 = t1_x_data\n",
        "X_data3 = t2_x_data"
      ],
      "metadata": {
        "id": "6MLsg8HVNYbd"
      },
      "execution_count": null,
      "outputs": []
    },
    {
      "cell_type": "code",
      "source": [
        "y다중클래스분류 y를 투카테"
      ],
      "metadata": {
        "id": "5a0BDFICNhQM"
      },
      "execution_count": null,
      "outputs": []
    },
    {
      "cell_type": "code",
      "source": [
        "Y_data = to_categorical(y_data)\n",
        "Y_data"
      ],
      "metadata": {
        "colab": {
          "base_uri": "https://localhost:8080/"
        },
        "id": "aChShuYSNnOK",
        "outputId": "9a738938-d109-4f57-f431-d6b6724e6a97"
      },
      "execution_count": null,
      "outputs": [
        {
          "output_type": "execute_result",
          "data": {
            "text/plain": [
              "array([[0., 0., 0., ..., 0., 0., 0.],\n",
              "       [0., 0., 0., ..., 0., 0., 0.],\n",
              "       [0., 0., 0., ..., 0., 0., 0.],\n",
              "       ...,\n",
              "       [0., 0., 0., ..., 0., 0., 0.],\n",
              "       [0., 1., 0., ..., 0., 0., 0.],\n",
              "       [0., 0., 0., ..., 0., 0., 0.]], dtype=float32)"
            ]
          },
          "metadata": {},
          "execution_count": 23
        }
      ]
    },
    {
      "cell_type": "code",
      "source": [
        "len(X_data1), len(Y_data) ,len(X_data2),len(X_data3)"
      ],
      "metadata": {
        "colab": {
          "base_uri": "https://localhost:8080/"
        },
        "id": "FSD_FJ7_NsVy",
        "outputId": "30881b34-3009-4e01-9478-ba00211d6cd9"
      },
      "execution_count": null,
      "outputs": [
        {
          "output_type": "execute_result",
          "data": {
            "text/plain": [
              "(11314, 11314, 11314, 11314)"
            ]
          },
          "metadata": {},
          "execution_count": 26
        }
      ]
    },
    {
      "cell_type": "code",
      "source": [
        "from sklearn.model_selection import train_test_split\n",
        "#단어유무특징을갖는data\n",
        "t_x_1, tt_x_1, t_y_1, tt_y_1 = train_test_split(X_data1, Y_data, random_state=1)\n",
        "#단어 빈도수(카운트) 특징을갖는data\n",
        "t_x_2, tt_x_2, t_y_2, tt_y_2 = train_test_split(X_data2, Y_data, random_state=1)\n",
        "#단어 tfidf 가중치 특징을갖는data\n",
        "t_x_3, tt_x_3, t_y_3, tt_y_3 = train_test_split(X_data3, Y_data, random_state=1)"
      ],
      "metadata": {
        "id": "6ymXtgG4Np4g"
      },
      "execution_count": null,
      "outputs": []
    },
    {
      "cell_type": "code",
      "source": [
        "#다중클래스분류소프트맥스 아웃풋20개 인풋10000개"
      ],
      "metadata": {
        "id": "uhpwnqZWNHXx"
      },
      "execution_count": null,
      "outputs": []
    },
    {
      "cell_type": "code",
      "source": [
        "#모델생성\n",
        "\n",
        "from keras import Sequential # 모델\n",
        "from keras.layers import SimpleRNN, LSTM, GRU,   Dense, Embedding   ,Dropout\n",
        "from tensorflow.keras.optimizers import SGD, RMSprop, Adam\n",
        "\n",
        "m = Sequential()\n",
        "m.add( Dense( 256, input_shape=(10000,), activation='relu' ) )\n",
        "\n",
        "m.add(Dropout(0.3))\n",
        "\n",
        "m.add( Dense( 128, input_shape=(10000,),   ) )\n",
        "\n",
        "m.add(Dropout(0.3))\n",
        "\n",
        "m.add( Dense( 20, input_shape=(10000,), activation='softmax' ) )\n",
        "m.compile(optimizer = 'adam' , loss='categorical_crossentropy'  , metrics=['accuracy'])  # 옵티마이저 알엠 기본값, 옵티마이저는 백프로파게이션값을 계산하는 함수다. 액티베이션은 인풋-아웃풋 과정에서 웨이트를 갱신하는 함수 # 로스펑션: 은 손실값을 계산하는 함수, 아웃풋기준 이진분류니까 binary, 다중분류면 sparse_categorical_crossentropy 다중분류인데 아웃풋을 원핫했으면 categorical_crossentropy : 아웃풋 원핫은 표현방법일 뿐 이진분류가 아니라 그대로 다중분류다 # mean_squared_error 회귀면 엠엣스이 이것만 기억 m.compile(loss='mse' metrics = ['mae'])  \n",
        "\n",
        " "
      ],
      "metadata": {
        "id": "0K8nXLwYPEh6"
      },
      "execution_count": null,
      "outputs": []
    },
    {
      "cell_type": "code",
      "source": [
        "hy = m.fit( t_x_1, t_y_1,  validation_data=(tt_x_1, tt_y_1 ),epochs=100   )  # 배치사이즈는 2의 배수로 #콜백사용시: 벨리데이션셋 권장 # 핏에 의한 가중치는 m 에 학습되어 있다 hy가 아니다. 딥러닝 모델은 여전히 m 이다. # 추가학습이 필요할 경우 그대로 아래칸에 복붙하면 애초에 에폭을 여러번 돌린 것과 같은 효과를 낼 수 있다.\n",
        "#데이터를매트릭스로만들엇기떄문에 가능  시퀀셜데이터인데 시퀀셜모델없이 벡터화해서 "
      ],
      "metadata": {
        "colab": {
          "base_uri": "https://localhost:8080/"
        },
        "id": "teXp0w33QbaR",
        "outputId": "2d413427-472b-433a-9fed-065b49a39398"
      },
      "execution_count": null,
      "outputs": [
        {
          "output_type": "stream",
          "name": "stdout",
          "text": [
            "Epoch 1/100\n",
            "266/266 [==============================] - 9s 33ms/step - loss: 0.2112 - accuracy: 0.9472 - val_loss: 0.3820 - val_accuracy: 0.8989\n",
            "Epoch 2/100\n",
            "266/266 [==============================] - 10s 37ms/step - loss: 0.0805 - accuracy: 0.9862 - val_loss: 0.3654 - val_accuracy: 0.8968\n",
            "Epoch 3/100\n",
            "266/266 [==============================] - 8s 31ms/step - loss: 0.0556 - accuracy: 0.9899 - val_loss: 0.4178 - val_accuracy: 0.8915\n",
            "Epoch 4/100\n",
            "266/266 [==============================] - 10s 36ms/step - loss: 0.0432 - accuracy: 0.9941 - val_loss: 0.4180 - val_accuracy: 0.8989\n",
            "Epoch 5/100\n",
            "266/266 [==============================] - 10s 36ms/step - loss: 0.0204 - accuracy: 0.9973 - val_loss: 0.4346 - val_accuracy: 0.8964\n",
            "Epoch 6/100\n",
            "266/266 [==============================] - 10s 39ms/step - loss: 0.0318 - accuracy: 0.9940 - val_loss: 0.4941 - val_accuracy: 0.8809\n",
            "Epoch 7/100\n",
            "266/266 [==============================] - 8s 31ms/step - loss: 0.0406 - accuracy: 0.9912 - val_loss: 0.5969 - val_accuracy: 0.8646\n",
            "Epoch 8/100\n",
            "266/266 [==============================] - 7s 26ms/step - loss: 0.0227 - accuracy: 0.9948 - val_loss: 0.5006 - val_accuracy: 0.8943\n",
            "Epoch 9/100\n",
            "266/266 [==============================] - 7s 28ms/step - loss: 0.0190 - accuracy: 0.9962 - val_loss: 0.5093 - val_accuracy: 0.8957\n",
            "Epoch 10/100\n",
            "266/266 [==============================] - 7s 27ms/step - loss: 0.0152 - accuracy: 0.9975 - val_loss: 0.5102 - val_accuracy: 0.8947\n",
            "Epoch 11/100\n",
            "266/266 [==============================] - 7s 27ms/step - loss: 0.0152 - accuracy: 0.9975 - val_loss: 0.6437 - val_accuracy: 0.8735\n",
            "Epoch 12/100\n",
            "266/266 [==============================] - 7s 27ms/step - loss: 0.0251 - accuracy: 0.9936 - val_loss: 0.5933 - val_accuracy: 0.8883\n",
            "Epoch 13/100\n",
            "266/266 [==============================] - 7s 27ms/step - loss: 0.0268 - accuracy: 0.9949 - val_loss: 0.5796 - val_accuracy: 0.8862\n",
            "Epoch 14/100\n",
            "266/266 [==============================] - 7s 26ms/step - loss: 0.0256 - accuracy: 0.9945 - val_loss: 0.7305 - val_accuracy: 0.8738\n",
            "Epoch 15/100\n",
            "266/266 [==============================] - 7s 27ms/step - loss: 0.0868 - accuracy: 0.9889 - val_loss: 0.7858 - val_accuracy: 0.8784\n",
            "Epoch 16/100\n",
            "266/266 [==============================] - 7s 28ms/step - loss: 0.0740 - accuracy: 0.9853 - val_loss: 0.7221 - val_accuracy: 0.8650\n",
            "Epoch 17/100\n",
            "266/266 [==============================] - 12s 45ms/step - loss: 0.0201 - accuracy: 0.9948 - val_loss: 0.6428 - val_accuracy: 0.8848\n",
            "Epoch 18/100\n",
            "266/266 [==============================] - 10s 39ms/step - loss: 0.0285 - accuracy: 0.9954 - val_loss: 0.6334 - val_accuracy: 0.8844\n",
            "Epoch 19/100\n",
            "266/266 [==============================] - 10s 36ms/step - loss: 0.0312 - accuracy: 0.9951 - val_loss: 0.7116 - val_accuracy: 0.8855\n",
            "Epoch 20/100\n",
            "266/266 [==============================] - 10s 39ms/step - loss: 0.0518 - accuracy: 0.9934 - val_loss: 0.6651 - val_accuracy: 0.8925\n",
            "Epoch 21/100\n",
            "266/266 [==============================] - 9s 34ms/step - loss: 0.0274 - accuracy: 0.9936 - val_loss: 0.7246 - val_accuracy: 0.8894\n",
            "Epoch 22/100\n",
            "266/266 [==============================] - 8s 30ms/step - loss: 0.0211 - accuracy: 0.9965 - val_loss: 0.7265 - val_accuracy: 0.8911\n",
            "Epoch 23/100\n",
            "266/266 [==============================] - 9s 33ms/step - loss: 0.0308 - accuracy: 0.9940 - val_loss: 0.8872 - val_accuracy: 0.8685\n",
            "Epoch 24/100\n",
            "266/266 [==============================] - 9s 33ms/step - loss: 0.0268 - accuracy: 0.9936 - val_loss: 0.7324 - val_accuracy: 0.8879\n",
            "Epoch 25/100\n",
            "266/266 [==============================] - 9s 32ms/step - loss: 0.0086 - accuracy: 0.9979 - val_loss: 0.7114 - val_accuracy: 0.8936\n",
            "Epoch 26/100\n",
            "266/266 [==============================] - 9s 36ms/step - loss: 0.0102 - accuracy: 0.9982 - val_loss: 0.7264 - val_accuracy: 0.8929\n",
            "Epoch 27/100\n",
            "266/266 [==============================] - 10s 37ms/step - loss: 0.0145 - accuracy: 0.9974 - val_loss: 0.7171 - val_accuracy: 0.8964\n",
            "Epoch 28/100\n",
            "266/266 [==============================] - 10s 38ms/step - loss: 0.0121 - accuracy: 0.9975 - val_loss: 0.7365 - val_accuracy: 0.8982\n",
            "Epoch 29/100\n",
            "266/266 [==============================] - 11s 41ms/step - loss: 0.0248 - accuracy: 0.9943 - val_loss: 0.7391 - val_accuracy: 0.8964\n",
            "Epoch 30/100\n",
            "266/266 [==============================] - 9s 35ms/step - loss: 0.0133 - accuracy: 0.9974 - val_loss: 0.7957 - val_accuracy: 0.8911\n",
            "Epoch 31/100\n",
            "266/266 [==============================] - 6s 24ms/step - loss: 0.0213 - accuracy: 0.9961 - val_loss: 0.7999 - val_accuracy: 0.8915\n",
            "Epoch 32/100\n",
            "266/266 [==============================] - 6s 24ms/step - loss: 0.0260 - accuracy: 0.9949 - val_loss: 0.9027 - val_accuracy: 0.8848\n",
            "Epoch 33/100\n",
            "266/266 [==============================] - 7s 25ms/step - loss: 0.0360 - accuracy: 0.9938 - val_loss: 0.9718 - val_accuracy: 0.8834\n",
            "Epoch 34/100\n",
            "266/266 [==============================] - 6s 24ms/step - loss: 0.0207 - accuracy: 0.9975 - val_loss: 0.8926 - val_accuracy: 0.8841\n",
            "Epoch 35/100\n",
            "266/266 [==============================] - 6s 24ms/step - loss: 0.0115 - accuracy: 0.9975 - val_loss: 0.8611 - val_accuracy: 0.8890\n",
            "Epoch 36/100\n",
            "266/266 [==============================] - 6s 24ms/step - loss: 0.0117 - accuracy: 0.9978 - val_loss: 0.8668 - val_accuracy: 0.8890\n",
            "Epoch 37/100\n",
            "266/266 [==============================] - 6s 24ms/step - loss: 0.0116 - accuracy: 0.9976 - val_loss: 0.8646 - val_accuracy: 0.8908\n",
            "Epoch 38/100\n",
            "266/266 [==============================] - 7s 25ms/step - loss: 0.0075 - accuracy: 0.9982 - val_loss: 0.8920 - val_accuracy: 0.8915\n",
            "Epoch 39/100\n",
            "266/266 [==============================] - 6s 24ms/step - loss: 0.0081 - accuracy: 0.9985 - val_loss: 0.9188 - val_accuracy: 0.8830\n",
            "Epoch 40/100\n",
            "266/266 [==============================] - 7s 25ms/step - loss: 0.0309 - accuracy: 0.9941 - val_loss: 1.0957 - val_accuracy: 0.8671\n",
            "Epoch 41/100\n",
            "266/266 [==============================] - 7s 25ms/step - loss: 0.0161 - accuracy: 0.9959 - val_loss: 1.0234 - val_accuracy: 0.8742\n",
            "Epoch 42/100\n",
            "266/266 [==============================] - 7s 25ms/step - loss: 0.0311 - accuracy: 0.9960 - val_loss: 0.8708 - val_accuracy: 0.8876\n",
            "Epoch 43/100\n",
            "266/266 [==============================] - 7s 26ms/step - loss: 0.0113 - accuracy: 0.9967 - val_loss: 1.0032 - val_accuracy: 0.8890\n",
            "Epoch 44/100\n",
            "266/266 [==============================] - 7s 25ms/step - loss: 0.0637 - accuracy: 0.9897 - val_loss: 1.1187 - val_accuracy: 0.8791\n",
            "Epoch 45/100\n",
            "266/266 [==============================] - 7s 27ms/step - loss: 0.0176 - accuracy: 0.9962 - val_loss: 1.1629 - val_accuracy: 0.8745\n",
            "Epoch 46/100\n",
            "266/266 [==============================] - 7s 25ms/step - loss: 0.0106 - accuracy: 0.9976 - val_loss: 1.0151 - val_accuracy: 0.8802\n",
            "Epoch 47/100\n",
            "266/266 [==============================] - 6s 24ms/step - loss: 0.0106 - accuracy: 0.9975 - val_loss: 0.9451 - val_accuracy: 0.8890\n",
            "Epoch 48/100\n",
            "266/266 [==============================] - 6s 24ms/step - loss: 0.0074 - accuracy: 0.9986 - val_loss: 0.9171 - val_accuracy: 0.8915\n",
            "Epoch 49/100\n",
            "266/266 [==============================] - 7s 28ms/step - loss: 0.0071 - accuracy: 0.9978 - val_loss: 0.9828 - val_accuracy: 0.8819\n",
            "Epoch 50/100\n",
            "266/266 [==============================] - 6s 24ms/step - loss: 0.0107 - accuracy: 0.9981 - val_loss: 0.9305 - val_accuracy: 0.8834\n",
            "Epoch 51/100\n",
            "266/266 [==============================] - 6s 23ms/step - loss: 0.0067 - accuracy: 0.9980 - val_loss: 1.1113 - val_accuracy: 0.8816\n",
            "Epoch 52/100\n",
            "266/266 [==============================] - 6s 24ms/step - loss: 0.0279 - accuracy: 0.9968 - val_loss: 1.0103 - val_accuracy: 0.8869\n",
            "Epoch 53/100\n",
            "266/266 [==============================] - 6s 23ms/step - loss: 0.0145 - accuracy: 0.9969 - val_loss: 1.3859 - val_accuracy: 0.8735\n",
            "Epoch 54/100\n",
            "266/266 [==============================] - 7s 26ms/step - loss: 0.0160 - accuracy: 0.9967 - val_loss: 1.1623 - val_accuracy: 0.8872\n",
            "Epoch 55/100\n",
            "266/266 [==============================] - 7s 25ms/step - loss: 0.0178 - accuracy: 0.9958 - val_loss: 1.1011 - val_accuracy: 0.8837\n",
            "Epoch 56/100\n",
            "266/266 [==============================] - 6s 24ms/step - loss: 0.0085 - accuracy: 0.9982 - val_loss: 1.0551 - val_accuracy: 0.8922\n",
            "Epoch 57/100\n",
            "266/266 [==============================] - 6s 24ms/step - loss: 0.0097 - accuracy: 0.9978 - val_loss: 1.1185 - val_accuracy: 0.8887\n",
            "Epoch 58/100\n",
            "266/266 [==============================] - 7s 25ms/step - loss: 0.0274 - accuracy: 0.9976 - val_loss: 1.2674 - val_accuracy: 0.8763\n",
            "Epoch 59/100\n",
            "266/266 [==============================] - 7s 25ms/step - loss: 0.0087 - accuracy: 0.9975 - val_loss: 1.1147 - val_accuracy: 0.8890\n",
            "Epoch 60/100\n",
            "266/266 [==============================] - 6s 24ms/step - loss: 0.0224 - accuracy: 0.9978 - val_loss: 1.1442 - val_accuracy: 0.8844\n",
            "Epoch 61/100\n",
            "266/266 [==============================] - 6s 23ms/step - loss: 0.0100 - accuracy: 0.9976 - val_loss: 1.2449 - val_accuracy: 0.8798\n",
            "Epoch 62/100\n",
            "266/266 [==============================] - 6s 23ms/step - loss: 0.0161 - accuracy: 0.9973 - val_loss: 1.1827 - val_accuracy: 0.8922\n",
            "Epoch 63/100\n",
            "266/266 [==============================] - 6s 24ms/step - loss: 0.0101 - accuracy: 0.9984 - val_loss: 1.3806 - val_accuracy: 0.8809\n",
            "Epoch 64/100\n",
            "266/266 [==============================] - 6s 24ms/step - loss: 0.0195 - accuracy: 0.9971 - val_loss: 1.4515 - val_accuracy: 0.8834\n",
            "Epoch 65/100\n",
            "266/266 [==============================] - 6s 24ms/step - loss: 0.0173 - accuracy: 0.9967 - val_loss: 1.3102 - val_accuracy: 0.8826\n",
            "Epoch 66/100\n",
            "266/266 [==============================] - 7s 25ms/step - loss: 0.0075 - accuracy: 0.9989 - val_loss: 1.2926 - val_accuracy: 0.8883\n",
            "Epoch 67/100\n",
            "266/266 [==============================] - 6s 24ms/step - loss: 0.0049 - accuracy: 0.9989 - val_loss: 1.3228 - val_accuracy: 0.8812\n",
            "Epoch 68/100\n",
            "266/266 [==============================] - 7s 26ms/step - loss: 0.0047 - accuracy: 0.9980 - val_loss: 1.2392 - val_accuracy: 0.8894\n",
            "Epoch 69/100\n",
            "266/266 [==============================] - 6s 24ms/step - loss: 0.0065 - accuracy: 0.9982 - val_loss: 1.2751 - val_accuracy: 0.8823\n",
            "Epoch 70/100\n",
            "266/266 [==============================] - 6s 24ms/step - loss: 0.0194 - accuracy: 0.9975 - val_loss: 1.2723 - val_accuracy: 0.8802\n",
            "Epoch 71/100\n",
            "266/266 [==============================] - 7s 24ms/step - loss: 0.0217 - accuracy: 0.9960 - val_loss: 1.3095 - val_accuracy: 0.8879\n",
            "Epoch 72/100\n",
            "266/266 [==============================] - 7s 25ms/step - loss: 0.0084 - accuracy: 0.9982 - val_loss: 1.2863 - val_accuracy: 0.8901\n",
            "Epoch 73/100\n",
            "266/266 [==============================] - 7s 25ms/step - loss: 0.0057 - accuracy: 0.9988 - val_loss: 1.2948 - val_accuracy: 0.8855\n",
            "Epoch 74/100\n",
            "266/266 [==============================] - 7s 25ms/step - loss: 0.0194 - accuracy: 0.9972 - val_loss: 1.3160 - val_accuracy: 0.8837\n",
            "Epoch 75/100\n",
            "266/266 [==============================] - 7s 25ms/step - loss: 0.0190 - accuracy: 0.9967 - val_loss: 1.2729 - val_accuracy: 0.8894\n",
            "Epoch 76/100\n",
            "266/266 [==============================] - 7s 25ms/step - loss: 0.0069 - accuracy: 0.9982 - val_loss: 1.3029 - val_accuracy: 0.8901\n",
            "Epoch 77/100\n",
            "266/266 [==============================] - 7s 25ms/step - loss: 0.0180 - accuracy: 0.9976 - val_loss: 1.5223 - val_accuracy: 0.8780\n",
            "Epoch 78/100\n",
            "266/266 [==============================] - 7s 25ms/step - loss: 0.0153 - accuracy: 0.9978 - val_loss: 1.3664 - val_accuracy: 0.8841\n",
            "Epoch 79/100\n",
            "266/266 [==============================] - 7s 25ms/step - loss: 0.0034 - accuracy: 0.9986 - val_loss: 1.3756 - val_accuracy: 0.8834\n",
            "Epoch 80/100\n",
            "266/266 [==============================] - 6s 24ms/step - loss: 0.0136 - accuracy: 0.9969 - val_loss: 1.4165 - val_accuracy: 0.8834\n",
            "Epoch 81/100\n",
            "266/266 [==============================] - 6s 23ms/step - loss: 0.0116 - accuracy: 0.9974 - val_loss: 1.4805 - val_accuracy: 0.8766\n",
            "Epoch 82/100\n",
            "266/266 [==============================] - 6s 23ms/step - loss: 0.0075 - accuracy: 0.9991 - val_loss: 1.4163 - val_accuracy: 0.8922\n",
            "Epoch 83/100\n",
            "266/266 [==============================] - 6s 23ms/step - loss: 0.0138 - accuracy: 0.9982 - val_loss: 1.4418 - val_accuracy: 0.8805\n",
            "Epoch 84/100\n",
            "266/266 [==============================] - 6s 24ms/step - loss: 0.0092 - accuracy: 0.9982 - val_loss: 1.5115 - val_accuracy: 0.8805\n",
            "Epoch 85/100\n",
            "266/266 [==============================] - 6s 24ms/step - loss: 0.0088 - accuracy: 0.9991 - val_loss: 1.3735 - val_accuracy: 0.8862\n",
            "Epoch 86/100\n",
            "266/266 [==============================] - 6s 24ms/step - loss: 0.0083 - accuracy: 0.9986 - val_loss: 1.5814 - val_accuracy: 0.8770\n",
            "Epoch 87/100\n",
            "266/266 [==============================] - 6s 24ms/step - loss: 0.0058 - accuracy: 0.9989 - val_loss: 1.4399 - val_accuracy: 0.8915\n",
            "Epoch 88/100\n",
            "266/266 [==============================] - 7s 27ms/step - loss: 0.0077 - accuracy: 0.9981 - val_loss: 1.4599 - val_accuracy: 0.8904\n",
            "Epoch 89/100\n",
            "266/266 [==============================] - 6s 24ms/step - loss: 0.0073 - accuracy: 0.9989 - val_loss: 1.5386 - val_accuracy: 0.8901\n",
            "Epoch 90/100\n",
            "266/266 [==============================] - 6s 24ms/step - loss: 0.0073 - accuracy: 0.9986 - val_loss: 1.6201 - val_accuracy: 0.8809\n",
            "Epoch 91/100\n",
            "266/266 [==============================] - 6s 24ms/step - loss: 0.0216 - accuracy: 0.9963 - val_loss: 1.6653 - val_accuracy: 0.8816\n",
            "Epoch 92/100\n",
            "266/266 [==============================] - 6s 24ms/step - loss: 0.0038 - accuracy: 0.9985 - val_loss: 1.6035 - val_accuracy: 0.8812\n",
            "Epoch 93/100\n",
            "266/266 [==============================] - 7s 25ms/step - loss: 0.0087 - accuracy: 0.9979 - val_loss: 1.6910 - val_accuracy: 0.8855\n",
            "Epoch 94/100\n",
            "266/266 [==============================] - 7s 25ms/step - loss: 0.0074 - accuracy: 0.9986 - val_loss: 1.7276 - val_accuracy: 0.8777\n",
            "Epoch 95/100\n",
            "266/266 [==============================] - 7s 26ms/step - loss: 0.0125 - accuracy: 0.9980 - val_loss: 1.6483 - val_accuracy: 0.8841\n",
            "Epoch 96/100\n",
            "266/266 [==============================] - 7s 26ms/step - loss: 0.0629 - accuracy: 0.9939 - val_loss: 1.7230 - val_accuracy: 0.8844\n",
            "Epoch 97/100\n",
            "266/266 [==============================] - 7s 25ms/step - loss: 0.0366 - accuracy: 0.9961 - val_loss: 1.8538 - val_accuracy: 0.8745\n",
            "Epoch 98/100\n",
            "266/266 [==============================] - 7s 26ms/step - loss: 0.0301 - accuracy: 0.9962 - val_loss: 1.7659 - val_accuracy: 0.8841\n",
            "Epoch 99/100\n",
            "266/266 [==============================] - 7s 26ms/step - loss: 0.0174 - accuracy: 0.9965 - val_loss: 1.6524 - val_accuracy: 0.8844\n",
            "Epoch 100/100\n",
            "266/266 [==============================] - 7s 25ms/step - loss: 0.0194 - accuracy: 0.9969 - val_loss: 1.7338 - val_accuracy: 0.8862\n"
          ]
        }
      ]
    }
  ]
}