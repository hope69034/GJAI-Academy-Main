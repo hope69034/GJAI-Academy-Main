{
  "nbformat": 4,
  "nbformat_minor": 0,
  "metadata": {
    "colab": {
      "name": "Untitled0.ipynb",
      "provenance": []
    },
    "kernelspec": {
      "name": "python3",
      "display_name": "Python 3"
    },
    "language_info": {
      "name": "python"
    }
  },
  "cells": [
    {
      "cell_type": "code",
      "execution_count": 1,
      "metadata": {
        "colab": {
          "base_uri": "https://localhost:8080/"
        },
        "id": "RH3yfbhGjYLd",
        "outputId": "b6615b0d-4da7-4913-a14a-f7986b5942a2"
      },
      "outputs": [
        {
          "output_type": "stream",
          "name": "stdout",
          "text": [
            "4 5\n",
            "20\n"
          ]
        }
      ],
      "source": [
        "A, B = map(int,input().split())\n",
        "if 0 < A and B < 10:\n",
        "    print(A*B)"
      ]
    }
  ]
}