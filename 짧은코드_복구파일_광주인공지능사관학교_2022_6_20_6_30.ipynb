{
  "nbformat": 4,
  "nbformat_minor": 0,
  "metadata": {
    "colab": {
      "name": "짧은코드/복구파일/광주인공지능사관학교/2022.6.20~6.30",
      "provenance": [],
      "collapsed_sections": []
    },
    "kernelspec": {
      "name": "python3",
      "display_name": "Python 3"
    },
    "language_info": {
      "name": "python"
    }
  },
  "cells": [
    {
      "cell_type": "markdown",
      "source": [
        "# 정수 5개를 입력하면 절대값의 합 출력"
      ],
      "metadata": {
        "id": "f_64r14CfhLH"
      }
    },
    {
      "cell_type": "code",
      "source": [
        "a,b,c,d,e = map(int,input(\"정수 5개 입력:구문자 ' '\").split())\n",
        "abs(a)+abs(b)+abs(c)+abs(d)+abs(e)\n",
        "#abs절대값''"
      ],
      "metadata": {
        "colab": {
          "base_uri": "https://localhost:8080/"
        },
        "id": "9TWRAjI4fknw",
        "outputId": "4f644632-c4fc-454c-a605-0674e5ab8d18"
      },
      "execution_count": 2,
      "outputs": [
        {
          "name": "stdout",
          "output_type": "stream",
          "text": [
            "정수 5개 입력:구문자 ' '-1 2 4 5 -6\n"
          ]
        },
        {
          "output_type": "execute_result",
          "data": {
            "text/plain": [
              "18"
            ]
          },
          "metadata": {},
          "execution_count": 2
        }
      ]
    },
    {
      "cell_type": "markdown",
      "source": [
        "# 정수 3개를 입력하면 3개 중 최솟값 출력"
      ],
      "metadata": {
        "id": "Rcoi1tlSfuHn"
      }
    },
    {
      "cell_type": "code",
      "source": [
        "a,b,c = map(int,input('3개정수입력공백구분:').split())\n",
        "#인풋3개중 최소\n",
        "aaa=    c  if a>c else    a   if  a<b  else b           if  b<c   else c\n",
        "print(aaa)"
      ],
      "metadata": {
        "colab": {
          "base_uri": "https://localhost:8080/"
        },
        "id": "24l7CstMfytg",
        "outputId": "923aa0de-4f0a-4b5c-9c05-298a250b3db1"
      },
      "execution_count": 3,
      "outputs": [
        {
          "output_type": "stream",
          "name": "stdout",
          "text": [
            "3개정수입력공백구분:2 1 4\n",
            "1\n"
          ]
        }
      ]
    },
    {
      "cell_type": "markdown",
      "source": [
        "# 0부터 10 사이의 정수 A, B를 인풋 시 B-A 출력"
      ],
      "metadata": {
        "id": "i2rQXUb8f_gp"
      }
    },
    {
      "cell_type": "code",
      "source": [
        "A, B =map(int,input().split())\n",
        "if 0 < A and B < 10 :\n",
        "    print(A-B)"
      ],
      "metadata": {
        "colab": {
          "base_uri": "https://localhost:8080/"
        },
        "id": "hisjoRhTf_oh",
        "outputId": "4a81f0f0-4eb8-428b-dab1-244682c212a4"
      },
      "execution_count": 4,
      "outputs": [
        {
          "output_type": "stream",
          "name": "stdout",
          "text": [
            "3 5\n",
            "-2\n"
          ]
        }
      ]
    },
    {
      "cell_type": "markdown",
      "source": [
        "# 신호등 색상 입력 시 안내 문구를 출력"
      ],
      "metadata": {
        "id": "5bPMFtywgM9h"
      }
    },
    {
      "cell_type": "code",
      "source": [
        "ck = input ('신호색상을 입력하시오:')[0].upper()     #소문자로입력해도 가능하게    어퍼로 \n",
        "#r 빨간불 y 노란불 g 초록불\n",
        "#   정지      경고    진행    을 출력\n",
        "결과='잘못입력되엇습니다'\n",
        "if ck=='R': 결과='정지'      #인풋값= 문자열    \n",
        "elif ck=='Y' : 결과='경고'\n",
        "elif ck=='G' :결과='진행'\n",
        "print(f'신호내용:{결과}')"
      ],
      "metadata": {
        "colab": {
          "base_uri": "https://localhost:8080/"
        },
        "id": "Y-NxwwP4gNFN",
        "outputId": "f434a17e-5c24-4021-b6c3-5f964558e3cd"
      },
      "execution_count": 8,
      "outputs": [
        {
          "output_type": "stream",
          "name": "stdout",
          "text": [
            "신호색상을 입력하시오:g\n",
            "신호내용:진행\n"
          ]
        }
      ]
    },
    {
      "cell_type": "markdown",
      "source": [
        "# 슬라이스 역주행 규칙 (스캔방향,스텝방향)"
      ],
      "metadata": {
        "id": "W7ZEJsF4hqDJ"
      }
    },
    {
      "cell_type": "code",
      "source": [
        "s = (0,1,2,3,4)\n",
        "print(s[:-1:-1])  #빈튜플    # 종료지 원소4  스캔 오른쪽에서 왼쪽 \n",
        "\n",
        "# 시작점:양극단 둘 중 하나 (스텝에서 방향성 받음)  끝 -1인덱    음수스텝   s튜플 오른쪽에서 왼쪽으로 스캔\n",
        "\n",
        "#시작과 끝점이 둘다 비면 스텝에 의해 방향성만 잡고 전부 추출한다\n",
        "\n",
        "#시작 또는 끝점 하나가 비면  [시작 점은 포함 끝점은 미포함]  양끝점 어느 한 곳에서 시작하는 스캔 - 스텝에 의해 그 방향성이 결정\n",
        "  # 양수 스텝 : 그 컨테이너 왼쪽 끝에서 오른쪽으로 스캔\n",
        "  # 음수 스텝 :             오른쪽      왼쪽\n",
        "  # 시작점과 끝점에 의해 스캔의 브레이크나 추출시작지점만 바뀐다\n",
        "\n",
        "#[시작::+]     [1,2,3,시작,5,6]     끝 엠티     양수스텝   > 컨태아너 왼쪽에서 오른쪽스캔        #  시작,5,6\n",
        "#[시작::-]     [1,2,3,시작,5,6]    끝 엠티     음수스텝   >  컨태이너 오른쪽에서 왼쪽으로 스캔  #   시작 3 2 1\n",
        "    \n",
        "#[:종료:+]     [1,2,3,종료,5,6]    시작 엠티     양수스텝   >  컨태이너 왼쪽에서 오른쪽으로 스캔 #   1,2,3  \n",
        "#[:종료:-]     [1,2,3,종료,5,6]    시작 엠티     음수스텝   >  컨태이너 오른쪽에서 왼쪽으로 스캔 #   6,5"
      ],
      "metadata": {
        "colab": {
          "base_uri": "https://localhost:8080/"
        },
        "id": "-beCQTDdgtC4",
        "outputId": "aee0f168-1e0c-473e-cf14-d81c2ecb622c"
      },
      "execution_count": 10,
      "outputs": [
        {
          "output_type": "stream",
          "name": "stdout",
          "text": [
            "()\n"
          ]
        }
      ]
    },
    {
      "cell_type": "markdown",
      "source": [
        "# 사칙연산"
      ],
      "metadata": {
        "id": "fsAK88buhm8Z"
      }
    },
    {
      "cell_type": "code",
      "source": [
        "a=7.5\n",
        "b=2.5\n",
        "\n",
        "print(a+b)\n",
        "print(a-b)\n",
        "print(a*b)\n",
        "print(a/b)\n",
        "print(a-(b*3))#  >나머지연산으로수정\n",
        "#ab가실수라 프린트도 실수\n",
        "print(a%b)"
      ],
      "metadata": {
        "colab": {
          "base_uri": "https://localhost:8080/"
        },
        "id": "S6XhN5wkhnDJ",
        "outputId": "9933f8a1-dbbc-4bfd-c75d-0b0ac0b14c6e"
      },
      "execution_count": 11,
      "outputs": [
        {
          "output_type": "stream",
          "name": "stdout",
          "text": [
            "10.0\n",
            "5.0\n",
            "18.75\n",
            "3.0\n",
            "0.0\n",
            "0.0\n"
          ]
        }
      ]
    },
    {
      "cell_type": "markdown",
      "source": [
        "# 구구단 출력"
      ],
      "metadata": {
        "id": "kXvN26ByhnKi"
      }
    },
    {
      "cell_type": "code",
      "source": [
        "for i in range(1,10):\n",
        "    print(f'[ {i} 단 ]') \n",
        "    for j in range(1,10):\n",
        "        print(f'{i} * {j} = {i*j}') \n",
        "    print()"
      ],
      "metadata": {
        "colab": {
          "base_uri": "https://localhost:8080/"
        },
        "id": "1ExchdCYh17s",
        "outputId": "b2e3c3ab-c401-4a65-8394-371fbe86ee6e"
      },
      "execution_count": 12,
      "outputs": [
        {
          "output_type": "stream",
          "name": "stdout",
          "text": [
            "[ 1 단 ]\n",
            "1 * 1 = 1\n",
            "1 * 2 = 2\n",
            "1 * 3 = 3\n",
            "1 * 4 = 4\n",
            "1 * 5 = 5\n",
            "1 * 6 = 6\n",
            "1 * 7 = 7\n",
            "1 * 8 = 8\n",
            "1 * 9 = 9\n",
            "\n",
            "[ 2 단 ]\n",
            "2 * 1 = 2\n",
            "2 * 2 = 4\n",
            "2 * 3 = 6\n",
            "2 * 4 = 8\n",
            "2 * 5 = 10\n",
            "2 * 6 = 12\n",
            "2 * 7 = 14\n",
            "2 * 8 = 16\n",
            "2 * 9 = 18\n",
            "\n",
            "[ 3 단 ]\n",
            "3 * 1 = 3\n",
            "3 * 2 = 6\n",
            "3 * 3 = 9\n",
            "3 * 4 = 12\n",
            "3 * 5 = 15\n",
            "3 * 6 = 18\n",
            "3 * 7 = 21\n",
            "3 * 8 = 24\n",
            "3 * 9 = 27\n",
            "\n",
            "[ 4 단 ]\n",
            "4 * 1 = 4\n",
            "4 * 2 = 8\n",
            "4 * 3 = 12\n",
            "4 * 4 = 16\n",
            "4 * 5 = 20\n",
            "4 * 6 = 24\n",
            "4 * 7 = 28\n",
            "4 * 8 = 32\n",
            "4 * 9 = 36\n",
            "\n",
            "[ 5 단 ]\n",
            "5 * 1 = 5\n",
            "5 * 2 = 10\n",
            "5 * 3 = 15\n",
            "5 * 4 = 20\n",
            "5 * 5 = 25\n",
            "5 * 6 = 30\n",
            "5 * 7 = 35\n",
            "5 * 8 = 40\n",
            "5 * 9 = 45\n",
            "\n",
            "[ 6 단 ]\n",
            "6 * 1 = 6\n",
            "6 * 2 = 12\n",
            "6 * 3 = 18\n",
            "6 * 4 = 24\n",
            "6 * 5 = 30\n",
            "6 * 6 = 36\n",
            "6 * 7 = 42\n",
            "6 * 8 = 48\n",
            "6 * 9 = 54\n",
            "\n",
            "[ 7 단 ]\n",
            "7 * 1 = 7\n",
            "7 * 2 = 14\n",
            "7 * 3 = 21\n",
            "7 * 4 = 28\n",
            "7 * 5 = 35\n",
            "7 * 6 = 42\n",
            "7 * 7 = 49\n",
            "7 * 8 = 56\n",
            "7 * 9 = 63\n",
            "\n",
            "[ 8 단 ]\n",
            "8 * 1 = 8\n",
            "8 * 2 = 16\n",
            "8 * 3 = 24\n",
            "8 * 4 = 32\n",
            "8 * 5 = 40\n",
            "8 * 6 = 48\n",
            "8 * 7 = 56\n",
            "8 * 8 = 64\n",
            "8 * 9 = 72\n",
            "\n",
            "[ 9 단 ]\n",
            "9 * 1 = 9\n",
            "9 * 2 = 18\n",
            "9 * 3 = 27\n",
            "9 * 4 = 36\n",
            "9 * 5 = 45\n",
            "9 * 6 = 54\n",
            "9 * 7 = 63\n",
            "9 * 8 = 72\n",
            "9 * 9 = 81\n",
            "\n"
          ]
        }
      ]
    },
    {
      "cell_type": "markdown",
      "source": [
        "# 개 그리기"
      ],
      "metadata": {
        "id": "qScWAnwWh15L"
      }
    },
    {
      "cell_type": "code",
      "source": [
        "print( '''|\\_/|\n",
        "|q p|   /}\n",
        "( 0 )\"\"\"\\\\\n",
        "|\"^\"`    |\n",
        "||_/=\\\\\\__|''')"
      ],
      "metadata": {
        "colab": {
          "base_uri": "https://localhost:8080/"
        },
        "id": "iZv1VlLbh12T",
        "outputId": "55154034-0d00-4647-e3cf-3fd8b511a5f2"
      },
      "execution_count": 13,
      "outputs": [
        {
          "output_type": "stream",
          "name": "stdout",
          "text": [
            "|\\_/|\n",
            "|q p|   /}\n",
            "( 0 )\"\"\"\\\n",
            "|\"^\"`    |\n",
            "||_/=\\\\__|\n"
          ]
        }
      ]
    },
    {
      "cell_type": "markdown",
      "source": [
        "# 행과 열을 인풋하면 자동으로 행렬을 출력 1"
      ],
      "metadata": {
        "id": "8ktvLt82h1zr"
      }
    },
    {
      "cell_type": "code",
      "source": [
        "#  7.\t행과 열을 입력받아 다음과 같이 출력하는 프로그램을 만드시오.\n",
        "#  4 5 입력\n",
        "#  1 2 3 4 5\n",
        "#  2 4 6 8 10\n",
        "#  3 6 9 12 15\n",
        "#  4 8 12 16 20\n",
        "\n",
        "inp_행, inp_열 = map(int,input(\"행과 열을 공백으로 구분하여 입력하세요.: \").split(' '))\n",
        "list1=[]\n",
        "for a in range(1,inp_행+1) :        # 1 2 3 4 행 선언 # 행만큼 실행하기위한 \n",
        "        a_2 = a * inp_열             # 각 행당 열의 끝값 구하기\n",
        "        for b in range(1,a_2+1):           # 행의 열값 전체뽑기\n",
        "            if b % a == 0:                       # a의 배수만 뽑기\n",
        "                list1.append(b)         #리스트1에 전체값 리스트로 넣기\n",
        "list2=[]\n",
        "for d in range(1,inp_행+1) :        #열의배수마다 줄바꿈을 위한 열의 배수를 담은 리스트2\n",
        "    list2.append(d * inp_열)\n",
        "for c in list1 : \n",
        "    if c in list2  :\n",
        "        list2.remove(c)       #열의배수리스트 리스트2에 리무브를 활용하여 각 행당 한번의 줄바꿈만 실행\n",
        "        print(c,end='\\n')            \n",
        "    else:\n",
        "        print(c,end=' ') "
      ],
      "metadata": {
        "colab": {
          "base_uri": "https://localhost:8080/"
        },
        "id": "w9n9JBCUh1wL",
        "outputId": "b0eb8f56-157b-4e0a-8366-6e55544a0522"
      },
      "execution_count": 14,
      "outputs": [
        {
          "output_type": "stream",
          "name": "stdout",
          "text": [
            "행과 열을 공백으로 구분하여 입력하세요.: 3 5\n",
            "1 2 3 4 5\n",
            "2 4 6 8 10\n",
            "3 6 9 12 15\n"
          ]
        }
      ]
    },
    {
      "cell_type": "markdown",
      "source": [
        "# 행과 열을 인풋하면 자동으로 행렬을 출력 2"
      ],
      "metadata": {
        "id": "8HaBzKU9iqEm"
      }
    },
    {
      "cell_type": "code",
      "source": [
        "inp_열_배수=[]\n",
        "inp_행, inp_열 = map(int,input(\"행과 열을 공백으로 구분하여 입력하세요.: \").split(' '))  #공백기준 행열 인풋\n",
        "# 원소 수 행*열\n",
        "inp_원소 = inp_행 * inp_열\n",
        "#줄바꿈을위해. 열의 배수를 행을 이용하여 선언 열*1 열*2.. 열*행\n",
        "for b in range(1,inp_행+1):\n",
        "    inp_열_배수.append(b * inp_열)\n",
        "for a in range(1,inp_원소+1) :\n",
        "    if a in inp_열_배수 :\n",
        "        print(a,end='\\n')\n",
        "        continue    # 열의배수에서 줄바꿈\n",
        "    print(a,end=' ')   "
      ],
      "metadata": {
        "colab": {
          "base_uri": "https://localhost:8080/"
        },
        "id": "pKggGT8Wh1p7",
        "outputId": "69cfca34-f931-4aa2-d2c6-b93fbdfb766d"
      },
      "execution_count": 15,
      "outputs": [
        {
          "output_type": "stream",
          "name": "stdout",
          "text": [
            "행과 열을 공백으로 구분하여 입력하세요.: 3 5\n",
            "1 2 3 4 5\n",
            "6 7 8 9 10\n",
            "11 12 13 14 15\n"
          ]
        }
      ]
    },
    {
      "cell_type": "markdown",
      "source": [
        "# 0과 10 사이의 두 수를 입력 받아 곱을 출력"
      ],
      "metadata": {
        "id": "2K1AcOplh1VN"
      }
    },
    {
      "cell_type": "code",
      "source": [
        "A, B = map(int,input().split())\n",
        "if 0 < A and B < 10:\n",
        "    print(A*B)"
      ],
      "metadata": {
        "colab": {
          "base_uri": "https://localhost:8080/"
        },
        "id": "5tT27yGuirkb",
        "outputId": "d4bcb5e9-380a-4f3e-a4ba-3f06a8dda22c"
      },
      "execution_count": 16,
      "outputs": [
        {
          "output_type": "stream",
          "name": "stdout",
          "text": [
            "3 5\n",
            "15\n"
          ]
        }
      ]
    },
    {
      "cell_type": "markdown",
      "source": [
        "# 시험 점수의 최고, 최저, 평균을 알려주는 프로그램"
      ],
      "metadata": {
        "id": "UU19dbnEirre"
      }
    },
    {
      "cell_type": "code",
      "source": [
        "# 6.\tn개의 과목 점수를 입력받아 최고점수, 최저점수, 평균을 출력하는 프로그램을 만드시오.\n",
        "# (단, 사용자가 음수를 입력하면 프로그램이 종료되고 결과를 출력함).\n",
        "\n",
        "# n : 5 입력\n",
        "# 60 70 80 -1 입력\n",
        "# 최고점수 : 80\n",
        "# 최저점수 : 60\n",
        "# 평균 : 70\n",
        "\n",
        "n = int(input('과목의 개수를 입력하세요: ')) #과목수\n",
        "\n",
        "list1 = [] \n",
        "\n",
        "for i in range(0, n):      # n과목만큼 인풋 반복\n",
        "    num = int(input(f\"{i+1}번째 과목의 점수를 입력하세요: \"))\n",
        "    if num < 0 :   #음수입력시 브레이크로 탈출\n",
        "        break\n",
        "    list1.append(num)     # 각 과목 점수를 넣은 리스트 만들기\n",
        "print('최고점수 : ',max(list1)) # 최고점 맥스리스트\n",
        "print('최소점수 : ',min(list1)) #최소점 민리스트\n",
        "sum_1 = sum(list1)  # 리스트원소들의 합 구하기 썸리스트\n",
        "average = sum_1 / len(list1)        #평균구하기\n",
        "print('평균 : ',int(average))     # 평균을 정수로 받기"
      ],
      "metadata": {
        "colab": {
          "base_uri": "https://localhost:8080/"
        },
        "id": "tfFF0uExiryA",
        "outputId": "743d6d74-1955-4a01-da3e-8858900ff0ce"
      },
      "execution_count": 18,
      "outputs": [
        {
          "output_type": "stream",
          "name": "stdout",
          "text": [
            "과목의 개수를 입력하세요: 3\n",
            "1번째 과목의 점수를 입력하세요: 60\n",
            "2번째 과목의 점수를 입력하세요: 70\n",
            "3번째 과목의 점수를 입력하세요: 80\n",
            "최고점수 :  80\n",
            "최소점수 :  60\n",
            "평균 :  70\n"
          ]
        }
      ]
    },
    {
      "cell_type": "markdown",
      "source": [
        "# a+b 다양하게"
      ],
      "metadata": {
        "id": "6D7lrnolir5Z"
      }
    },
    {
      "cell_type": "code",
      "source": [
        "a=100\n",
        "b=200\n",
        "print(a+b)\n",
        "print(a,'+',b,'=',a+b,sep='')  # sep 디폴트: 띄어쓰기 > 빈문자로 띄어쓰기 삭제\n",
        "\n",
        "print('%d+  %d=%d' %(a,b,a+b) )       # %d  :정수를 넣겠다     뒤에 %(a,b,a+b) : 앞 %d 에 각각각 넣을 정수 \n",
        "   # %s면 문자\n",
        "oo=print('%d+  %d=%d' %(a,b,a+b) ) \n",
        "print(type(oo))\n",
        "\n",
        "\n",
        "# 정수+정수 = 넌타입?        #프린트는 > 넌타입이다\n",
        "\n",
        "\n",
        "print('{1}+{0}={2}'.format(a,b,a+b))   # {}안에는 포맷괄호의 인덱스값 - 생략가능 - 생략시 왼쪽에서오른쪽 \n",
        "                                            # {}안 포맷()안의 인덱스를 적어서 순서 바꾸기 가능 \n",
        "print(f'{a}+{b}={a+b}')\n",
        " \n",
        "print ( str(a)    +       \"+\"        +      str(b)      +     '='     +    str(a+b))\n",
        "  # 전부 문자로 전환  프린트문자+문자는 연결\n",
        "yy=print ( str(a)    +       \"+\"        +      str(b)      +     '='     +    str(a+b))\n",
        "print(type(yy))"
      ],
      "metadata": {
        "colab": {
          "base_uri": "https://localhost:8080/"
        },
        "id": "HGriENxqjMcm",
        "outputId": "4ac3ec86-ab0a-4436-edfd-43161490ee7d"
      },
      "execution_count": 19,
      "outputs": [
        {
          "output_type": "stream",
          "name": "stdout",
          "text": [
            "300\n",
            "100+200=300\n",
            "100+  200=300\n",
            "100+  200=300\n",
            "<class 'NoneType'>\n",
            "200+100=300\n",
            "100+200=300\n",
            "100+200=300\n",
            "100+200=300\n",
            "<class 'NoneType'>\n"
          ]
        }
      ]
    },
    {
      "cell_type": "markdown",
      "source": [
        "# 1부터 인풋까지 출력"
      ],
      "metadata": {
        "id": "zLC9h1uljMiH"
      }
    },
    {
      "cell_type": "code",
      "source": [
        "n = int(input('정수입력'))\n",
        "#1에서부터n까지하나식출력하는코드\n",
        "#range(1,n+1)     #1에서n까지\n",
        "for i in range(1,n+1):       # for 반복문  for변수in리스트:\n",
        "    print(i,end='\\t')  #\\t탭간격 \n",
        "    if i%4==0:\n",
        "      print()"
      ],
      "metadata": {
        "colab": {
          "base_uri": "https://localhost:8080/"
        },
        "id": "eJeInKLMjMoQ",
        "outputId": "c76d2690-7ea0-47f0-8160-e0d4867d9611"
      },
      "execution_count": 20,
      "outputs": [
        {
          "output_type": "stream",
          "name": "stdout",
          "text": [
            "정수입력5\n",
            "1\t2\t3\t4\t\n",
            "5\t"
          ]
        }
      ]
    },
    {
      "cell_type": "markdown",
      "source": [
        "# 1+2+3+4+5"
      ],
      "metadata": {
        "id": "dOohaxKBjMtq"
      }
    },
    {
      "cell_type": "code",
      "source": [
        "d=[1,2,3,4,5]\n",
        "n=0\n",
        "for i in d:\n",
        "     n+=abs(i)  \n",
        "print(n)         # 1+2+3+4+5"
      ],
      "metadata": {
        "colab": {
          "base_uri": "https://localhost:8080/"
        },
        "id": "0FjhWZAHjMyv",
        "outputId": "62f14fd5-44b9-453d-fac1-1b7f8613bcf4"
      },
      "execution_count": 21,
      "outputs": [
        {
          "output_type": "stream",
          "name": "stdout",
          "text": [
            "15\n"
          ]
        }
      ]
    },
    {
      "cell_type": "markdown",
      "source": [
        "# 인풋의 배수는 제외하고 0~100 출력"
      ],
      "metadata": {
        "id": "LveeSCZdjM35"
      }
    },
    {
      "cell_type": "code",
      "source": [
        "# 3.\t0~100까지 출력하시오.(단 사용자가 입력한 값의 배수는 출력하지 않음)\n",
        "\n",
        "# 입력\n",
        "# 5\n",
        "# 출력\n",
        "# 1,2,3,4,6,7,8,9…99\n",
        "\n",
        "#1\n",
        "\n",
        "n = int(input())\n",
        "list=[]\n",
        "for a in range(0,101):\n",
        "    list.append(a)                         # list 는 0~100까지담긴리스트\n",
        "b = list[ : : n ]                          # b 는  인풋의 배수가 담긴 리스트\n",
        "list_sub_b = [x for x in list if x not in b]        # list리스트 빼기 b리스트 코드        리스트2원소 중 b에 없는 것만 뽑는 코드\n",
        "for d in list_sub_b:\n",
        "    if d == list_sub_b[-1]:              #마지막원소에 붙는 콤마를 없애기 위해 리스트의 -1인덱에서 end='' 후 브레이크\n",
        "        print(d,end='') \n",
        "        break          \n",
        "    print(d,end=',') # 리스트의 원소들을 하나씩 출력\n",
        "print()\n",
        "\n",
        "#2\n",
        "\n",
        "n = int(input())\n",
        "list=[]\n",
        "for a in range(0,101):\n",
        "    list.append(a)                         # list 는 0~100까지담긴리스트\n",
        "b = list[ : : n ]                          # b 는  인풋의 배수가 담긴 리스트\n",
        "list_sub_b = (x for x in list if x not in b)        # 제너레이터\n",
        "for d in list_sub_b:\n",
        "    print(d,end=',') # 리스트의 원소들을 하나씩 출력\n",
        "print(end='\\b')     #마지막 콤마 없애기    \n",
        "print()\n",
        "\n",
        "#3\n",
        "\n",
        "n = int(input())\n",
        "list=[]\n",
        "for a in range(0,101):\n",
        "    list.append(a)                         # list 는 0~100까지담긴리스트\n",
        "b = list[ : : n ]                          # b 는  인풋의 배수가 담긴 리스트\n",
        "list_sub_b = []       # 리스트빼기리스트\n",
        "for x in list : \n",
        "    if x not in b:\n",
        "        list_sub_b.append(x)  \n",
        "for d in list_sub_b:\n",
        "    print(d,end=',') # 리스트의 원소들을 하나씩 출력, 끝 줄바꿈>콤마\n",
        "print(end='\\b')     #마지막 콤마 없애기    \n",
        "\n",
        "print()\n",
        "\n",
        "#4\n",
        "\n",
        "n = int(input())\n",
        "list=[]\n",
        "for a in range(0,101):\n",
        "    list.append(a)                         # list 는 0~100까지담긴리스트\n",
        "b = list[ : : n ]                          # b 는  인풋의 배수가 담긴 리스트\n",
        "list_sub_b = []       # 리스트빼기리스트\n",
        "for x in list : \n",
        "    if x not in b:\n",
        "        list_sub_b.append(x)  \n",
        "for d in list_sub_b:\n",
        "    print(d,end=',') # 리스트의 원소들을 하나씩 출력, 끝 줄바꿈>콤마\n",
        "print(end='\\b')     #마지막 콤마5 없애기"
      ],
      "metadata": {
        "colab": {
          "base_uri": "https://localhost:8080/"
        },
        "id": "6M4o4nAzjtCS",
        "outputId": "e388cec2-0a66-4b7d-ac1c-db7f715827c5"
      },
      "execution_count": 22,
      "outputs": [
        {
          "output_type": "stream",
          "name": "stdout",
          "text": [
            "5\n",
            "1,2,3,4,6,7,8,9,11,12,13,14,16,17,18,19,21,22,23,24,26,27,28,29,31,32,33,34,36,37,38,39,41,42,43,44,46,47,48,49,51,52,53,54,56,57,58,59,61,62,63,64,66,67,68,69,71,72,73,74,76,77,78,79,81,82,83,84,86,87,88,89,91,92,93,94,96,97,98,99\n",
            "4\n",
            "1,2,3,5,6,7,9,10,11,13,14,15,17,18,19,21,22,23,25,26,27,29,30,31,33,34,35,37,38,39,41,42,43,45,46,47,49,50,51,53,54,55,57,58,59,61,62,63,65,66,67,69,70,71,73,74,75,77,78,79,81,82,83,85,86,87,89,90,91,93,94,95,97,98,99,\b\n",
            "1\n",
            "\b\n",
            "2\n",
            "1,3,5,7,9,11,13,15,17,19,21,23,25,27,29,31,33,35,37,39,41,43,45,47,49,51,53,55,57,59,61,63,65,67,69,71,73,75,77,79,81,83,85,87,89,91,93,95,97,99,\b"
          ]
        }
      ]
    }
  ]
}