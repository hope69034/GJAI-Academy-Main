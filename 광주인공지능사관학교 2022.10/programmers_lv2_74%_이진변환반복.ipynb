{
  "nbformat": 4,
  "nbformat_minor": 0,
  "metadata": {
    "colab": {
      "provenance": []
    },
    "kernelspec": {
      "name": "python3",
      "display_name": "Python 3"
    },
    "language_info": {
      "name": "python"
    }
  },
  "cells": [
    {
      "cell_type": "markdown",
      "source": [
        "https://school.programmers.co.kr/learn/courses/30/lessons/70129?language=python3\n",
        "프로그래머스 레벨2 문제 풀기\n",
        "정답률 74%"
      ],
      "metadata": {
        "id": "ESRrubMCzTIT"
      }
    },
    {
      "cell_type": "code",
      "execution_count": 1,
      "metadata": {
        "id": "YdR7RTm-rlRI"
      },
      "outputs": [],
      "source": [
        "s=\"010101011100\""
      ]
    },
    {
      "cell_type": "code",
      "source": [
        "ll=[]\n",
        "for i in s:\n",
        "    if int(i) != 0:\n",
        "        ll.append(i)\n",
        "print(ll)"
      ],
      "metadata": {
        "colab": {
          "base_uri": "https://localhost:8080/"
        },
        "id": "wdenQiMhsazN",
        "outputId": "82347c63-d2d9-40ba-b7ba-97dc28c0a19e"
      },
      "execution_count": 5,
      "outputs": [
        {
          "output_type": "stream",
          "name": "stdout",
          "text": [
            "['1', '1', '1', '1', '1', '1']\n"
          ]
        }
      ]
    },
    {
      "cell_type": "code",
      "source": [
        "ll=[]\n",
        "for i in s:\n",
        "    if int(i) != 0:\n",
        "        ll.append(i)\n",
        "lllen = len(ll)  # 6\n"
      ],
      "metadata": {
        "id": "XfzMoRH5sbGI"
      },
      "execution_count": 7,
      "outputs": []
    },
    {
      "cell_type": "code",
      "source": [
        "def binary(num):\n",
        "    save = []\n",
        "    \n",
        "    while True:\n",
        "        a = int(num / 2)\n",
        "        b = int(num % 2)\n",
        "        save.insert(0, b)\n",
        "        \n",
        "        if a != 0:\n",
        "            num = a\n",
        "        else:\n",
        "            break\n",
        "            \n",
        "    final = ''.join(map(str, save))\n",
        "    print(final)\n",
        " \n",
        "binary(lllen)  #이진수 110"
      ],
      "metadata": {
        "id": "P_ODxRS7sbKc",
        "colab": {
          "base_uri": "https://localhost:8080/"
        },
        "outputId": "923e7503-84c5-4825-c6e2-5b9211547aab"
      },
      "execution_count": 10,
      "outputs": [
        {
          "output_type": "stream",
          "name": "stdout",
          "text": [
            "110\n"
          ]
        }
      ]
    },
    {
      "cell_type": "code",
      "source": [
        "s=\"0111010\""
      ],
      "metadata": {
        "id": "CRZNYXpggoG2"
      },
      "execution_count": 29,
      "outputs": []
    },
    {
      "cell_type": "code",
      "source": [
        "ll=[]\n",
        "for i in s:\n",
        "    if int(i) != 0:\n",
        "        ll.append(i)\n",
        "lllen = len(ll)  # 6\n",
        "\n",
        "def binary(num):\n",
        "    save = []\n",
        "    \n",
        "    while True:\n",
        "        a = int(num / 2)\n",
        "        b = int(num % 2)\n",
        "        save.insert(0, b)\n",
        "        \n",
        "        if a != 0:\n",
        "            num = a\n",
        "        else:\n",
        "            break\n",
        "            \n",
        "    final = ''.join(map(str, save))  //100이진수\n",
        "    print(final)\n",
        " \n",
        "print(binary(lllen))  #이진수 11\n"
      ],
      "metadata": {
        "colab": {
          "base_uri": "https://localhost:8080/"
        },
        "id": "3PkuKjBxgoK5",
        "outputId": "d52732d7-847e-4288-893f-ccc78049f359"
      },
      "execution_count": 31,
      "outputs": [
        {
          "output_type": "stream",
          "name": "stdout",
          "text": [
            "100\n",
            "None\n"
          ]
        }
      ]
    },
    {
      "cell_type": "code",
      "source": [
        "bn = binary(lllen)\n",
        "if bn !=1 :\n",
        "    s=bn\n",
        "else :\n",
        "    print(\"ee\")"
      ],
      "metadata": {
        "id": "CSC1R24lgrW_"
      },
      "execution_count": 14,
      "outputs": []
    },
    {
      "cell_type": "code",
      "source": [],
      "metadata": {
        "id": "Dl2TDF4MhE6j"
      },
      "execution_count": null,
      "outputs": []
    },
    {
      "cell_type": "code",
      "source": [],
      "metadata": {
        "id": "gv-htqa1hE9-"
      },
      "execution_count": null,
      "outputs": []
    },
    {
      "cell_type": "code",
      "source": [
        " def solution(s):\n",
        "    ll=[]\n",
        "    for i in s:\n",
        "        if int(i) != 0:\n",
        "            ll.append(i)\n",
        "    lllen = len(ll)  # 6\n",
        "\n",
        "    def binary(num):\n",
        "        save = []\n",
        "        \n",
        "        while True:\n",
        "            a = int(num / 2)\n",
        "            b = int(num % 2)\n",
        "            save.insert(0, b)\n",
        "            \n",
        "            if a != 0:\n",
        "                num = a\n",
        "            else:\n",
        "                break\n",
        "                \n",
        "        final = ''.join(map(str, save))\n",
        "    binary(lllen)  #이진수 11\n",
        "    bn = binary(lllen)\n",
        "    if bn !=1 :\n",
        "        solution(str(bn))\n",
        "    else :\n",
        "        print(\"ee\")\n",
        "\n",
        "solution(\"0111010\")\n"
      ],
      "metadata": {
        "colab": {
          "base_uri": "https://localhost:8080/",
          "height": 370
        },
        "id": "GxPU1Po9hFB2",
        "outputId": "fc3ea2db-ac98-4a41-fadb-c46b4ca9d058"
      },
      "execution_count": 20,
      "outputs": [
        {
          "output_type": "error",
          "ename": "ValueError",
          "evalue": "ignored",
          "traceback": [
            "\u001b[0;31m---------------------------------------------------------------------------\u001b[0m",
            "\u001b[0;31mValueError\u001b[0m                                Traceback (most recent call last)",
            "\u001b[0;32m<ipython-input-20-aa685c854521>\u001b[0m in \u001b[0;36m<module>\u001b[0;34m\u001b[0m\n\u001b[1;32m     27\u001b[0m        \u001b[0mprint\u001b[0m\u001b[0;34m(\u001b[0m\u001b[0;34m\"ee\"\u001b[0m\u001b[0;34m)\u001b[0m\u001b[0;34m\u001b[0m\u001b[0;34m\u001b[0m\u001b[0m\n\u001b[1;32m     28\u001b[0m \u001b[0;34m\u001b[0m\u001b[0m\n\u001b[0;32m---> 29\u001b[0;31m \u001b[0msolution\u001b[0m\u001b[0;34m(\u001b[0m\u001b[0;34m\"0111010\"\u001b[0m\u001b[0;34m)\u001b[0m\u001b[0;34m\u001b[0m\u001b[0;34m\u001b[0m\u001b[0m\n\u001b[0m",
            "\u001b[0;32m<ipython-input-20-aa685c854521>\u001b[0m in \u001b[0;36msolution\u001b[0;34m(s)\u001b[0m\n\u001b[1;32m     23\u001b[0m    \u001b[0mbn\u001b[0m \u001b[0;34m=\u001b[0m \u001b[0mbinary\u001b[0m\u001b[0;34m(\u001b[0m\u001b[0mlllen\u001b[0m\u001b[0;34m)\u001b[0m\u001b[0;34m\u001b[0m\u001b[0;34m\u001b[0m\u001b[0m\n\u001b[1;32m     24\u001b[0m    \u001b[0;32mif\u001b[0m \u001b[0mbn\u001b[0m \u001b[0;34m!=\u001b[0m\u001b[0;36m1\u001b[0m \u001b[0;34m:\u001b[0m\u001b[0;34m\u001b[0m\u001b[0;34m\u001b[0m\u001b[0m\n\u001b[0;32m---> 25\u001b[0;31m        \u001b[0msolution\u001b[0m\u001b[0;34m(\u001b[0m\u001b[0mstr\u001b[0m\u001b[0;34m(\u001b[0m\u001b[0mbn\u001b[0m\u001b[0;34m)\u001b[0m\u001b[0;34m)\u001b[0m\u001b[0;34m\u001b[0m\u001b[0;34m\u001b[0m\u001b[0m\n\u001b[0m\u001b[1;32m     26\u001b[0m    \u001b[0;32melse\u001b[0m \u001b[0;34m:\u001b[0m\u001b[0;34m\u001b[0m\u001b[0;34m\u001b[0m\u001b[0m\n\u001b[1;32m     27\u001b[0m        \u001b[0mprint\u001b[0m\u001b[0;34m(\u001b[0m\u001b[0;34m\"ee\"\u001b[0m\u001b[0;34m)\u001b[0m\u001b[0;34m\u001b[0m\u001b[0;34m\u001b[0m\u001b[0m\n",
            "\u001b[0;32m<ipython-input-20-aa685c854521>\u001b[0m in \u001b[0;36msolution\u001b[0;34m(s)\u001b[0m\n\u001b[1;32m      2\u001b[0m    \u001b[0mll\u001b[0m\u001b[0;34m=\u001b[0m\u001b[0;34m[\u001b[0m\u001b[0;34m]\u001b[0m\u001b[0;34m\u001b[0m\u001b[0;34m\u001b[0m\u001b[0m\n\u001b[1;32m      3\u001b[0m    \u001b[0;32mfor\u001b[0m \u001b[0mi\u001b[0m \u001b[0;32min\u001b[0m \u001b[0ms\u001b[0m\u001b[0;34m:\u001b[0m\u001b[0;34m\u001b[0m\u001b[0;34m\u001b[0m\u001b[0m\n\u001b[0;32m----> 4\u001b[0;31m        \u001b[0;32mif\u001b[0m \u001b[0mint\u001b[0m\u001b[0;34m(\u001b[0m\u001b[0mi\u001b[0m\u001b[0;34m)\u001b[0m \u001b[0;34m!=\u001b[0m \u001b[0;36m0\u001b[0m\u001b[0;34m:\u001b[0m\u001b[0;34m\u001b[0m\u001b[0;34m\u001b[0m\u001b[0m\n\u001b[0m\u001b[1;32m      5\u001b[0m            \u001b[0mll\u001b[0m\u001b[0;34m.\u001b[0m\u001b[0mappend\u001b[0m\u001b[0;34m(\u001b[0m\u001b[0mi\u001b[0m\u001b[0;34m)\u001b[0m\u001b[0;34m\u001b[0m\u001b[0;34m\u001b[0m\u001b[0m\n\u001b[1;32m      6\u001b[0m    \u001b[0mlllen\u001b[0m \u001b[0;34m=\u001b[0m \u001b[0mlen\u001b[0m\u001b[0;34m(\u001b[0m\u001b[0mll\u001b[0m\u001b[0;34m)\u001b[0m  \u001b[0;31m# 6\u001b[0m\u001b[0;34m\u001b[0m\u001b[0;34m\u001b[0m\u001b[0m\n",
            "\u001b[0;31mValueError\u001b[0m: invalid literal for int() with base 10: 'N'"
          ]
        }
      ]
    },
    {
      "cell_type": "code",
      "source": [
        "\n",
        "count=0\n",
        "def solution(s):\n",
        "\n",
        "\n",
        "\n",
        "    ll=[]\n",
        "    for i in s:\n",
        "        if int(i) != 0:\n",
        "            ll.append(i)\n",
        "    lllen = len(ll)  # 6\n",
        "    \n",
        "    def binary(num):\n",
        "        save = []\n",
        "        \n",
        "        while True:\n",
        "            a = int(num / 2)\n",
        "            b = int(num % 2)\n",
        "            save.insert(0, b)\n",
        "            \n",
        "            if a != 0:\n",
        "                num = a\n",
        "            else:\n",
        "                break\n",
        "                \n",
        "        final = ''.join(map(str, save)) #이진수 100\n",
        "      #  print(final)\n",
        "        if int(final) != 1 :\n",
        "            count += 1\n",
        "            solution(str(final))\n",
        "        else:\n",
        "            print(count)\n",
        "            print(\"1완료\")\n",
        "\n",
        "    binary(lllen)  #함수실행\n",
        "    \n",
        "\n",
        "solution(\"0111010\") #함수실행\n",
        "\n",
        " \n"
      ],
      "metadata": {
        "colab": {
          "base_uri": "https://localhost:8080/",
          "height": 407
        },
        "id": "tEc7R-r9h5lt",
        "outputId": "12599f8b-2807-401c-d5e3-18029ff782ce"
      },
      "execution_count": 49,
      "outputs": [
        {
          "output_type": "error",
          "ename": "UnboundLocalError",
          "evalue": "ignored",
          "traceback": [
            "\u001b[0;31m---------------------------------------------------------------------------\u001b[0m",
            "\u001b[0;31mUnboundLocalError\u001b[0m                         Traceback (most recent call last)",
            "\u001b[0;32m<ipython-input-49-5e888aa9eab3>\u001b[0m in \u001b[0;36m<module>\u001b[0;34m\u001b[0m\n\u001b[1;32m     34\u001b[0m \u001b[0;34m\u001b[0m\u001b[0m\n\u001b[1;32m     35\u001b[0m \u001b[0;34m\u001b[0m\u001b[0m\n\u001b[0;32m---> 36\u001b[0;31m \u001b[0msolution\u001b[0m\u001b[0;34m(\u001b[0m\u001b[0;34m\"0111010\"\u001b[0m\u001b[0;34m)\u001b[0m \u001b[0;31m#함수실행\u001b[0m\u001b[0;34m\u001b[0m\u001b[0;34m\u001b[0m\u001b[0m\n\u001b[0m\u001b[1;32m     37\u001b[0m \u001b[0;34m\u001b[0m\u001b[0m\n\u001b[1;32m     38\u001b[0m \u001b[0;34m\u001b[0m\u001b[0m\n",
            "\u001b[0;32m<ipython-input-49-5e888aa9eab3>\u001b[0m in \u001b[0;36msolution\u001b[0;34m(s)\u001b[0m\n\u001b[1;32m     31\u001b[0m             \u001b[0mprint\u001b[0m\u001b[0;34m(\u001b[0m\u001b[0;34m\"1완료\"\u001b[0m\u001b[0;34m)\u001b[0m\u001b[0;34m\u001b[0m\u001b[0;34m\u001b[0m\u001b[0m\n\u001b[1;32m     32\u001b[0m \u001b[0;34m\u001b[0m\u001b[0m\n\u001b[0;32m---> 33\u001b[0;31m     \u001b[0mbinary\u001b[0m\u001b[0;34m(\u001b[0m\u001b[0mlllen\u001b[0m\u001b[0;34m)\u001b[0m  \u001b[0;31m#함수실행\u001b[0m\u001b[0;34m\u001b[0m\u001b[0;34m\u001b[0m\u001b[0m\n\u001b[0m\u001b[1;32m     34\u001b[0m \u001b[0;34m\u001b[0m\u001b[0m\n\u001b[1;32m     35\u001b[0m \u001b[0;34m\u001b[0m\u001b[0m\n",
            "\u001b[0;32m<ipython-input-49-5e888aa9eab3>\u001b[0m in \u001b[0;36mbinary\u001b[0;34m(num)\u001b[0m\n\u001b[1;32m     25\u001b[0m       \u001b[0;31m#  print(final)\u001b[0m\u001b[0;34m\u001b[0m\u001b[0;34m\u001b[0m\u001b[0;34m\u001b[0m\u001b[0m\n\u001b[1;32m     26\u001b[0m         \u001b[0;32mif\u001b[0m \u001b[0mint\u001b[0m\u001b[0;34m(\u001b[0m\u001b[0mfinal\u001b[0m\u001b[0;34m)\u001b[0m \u001b[0;34m!=\u001b[0m \u001b[0;36m1\u001b[0m \u001b[0;34m:\u001b[0m\u001b[0;34m\u001b[0m\u001b[0;34m\u001b[0m\u001b[0m\n\u001b[0;32m---> 27\u001b[0;31m             \u001b[0mcount\u001b[0m \u001b[0;34m+=\u001b[0m \u001b[0;36m1\u001b[0m\u001b[0;34m\u001b[0m\u001b[0;34m\u001b[0m\u001b[0m\n\u001b[0m\u001b[1;32m     28\u001b[0m             \u001b[0msolution\u001b[0m\u001b[0;34m(\u001b[0m\u001b[0mstr\u001b[0m\u001b[0;34m(\u001b[0m\u001b[0mfinal\u001b[0m\u001b[0;34m)\u001b[0m\u001b[0;34m)\u001b[0m\u001b[0;34m\u001b[0m\u001b[0;34m\u001b[0m\u001b[0m\n\u001b[1;32m     29\u001b[0m         \u001b[0;32melse\u001b[0m\u001b[0;34m:\u001b[0m\u001b[0;34m\u001b[0m\u001b[0;34m\u001b[0m\u001b[0m\n",
            "\u001b[0;31mUnboundLocalError\u001b[0m: local variable 'count' referenced before assignment"
          ]
        }
      ]
    },
    {
      "cell_type": "code",
      "source": [],
      "metadata": {
        "id": "msTtUfBRmevI"
      },
      "execution_count": null,
      "outputs": []
    },
    {
      "cell_type": "code",
      "source": [],
      "metadata": {
        "id": "7ZaMDFJ1mez0"
      },
      "execution_count": null,
      "outputs": []
    },
    {
      "cell_type": "code",
      "source": [
        "\n",
        "def Fsolution(s):\n",
        "\n",
        "    count=0\n",
        "    \n",
        "   \n",
        "\n",
        "    def solution(s):\n",
        "         \n",
        "        ll=[]\n",
        "        for i in s:\n",
        "            if int(i) != 0:\n",
        "                ll.append(i)\n",
        "        lllen = len(ll)  # 6\n",
        "        \n",
        "        def binary(num):\n",
        "            save = []\n",
        "            \n",
        "            while True:\n",
        "                a = int(num / 2)\n",
        "                b = int(num % 2)\n",
        "                save.insert(0, b)\n",
        "                \n",
        "                if a != 0:\n",
        "                    num = a\n",
        "                else:\n",
        "                    break\n",
        "                    \n",
        "            final = ''.join(map(str, save)) #이진수 100\n",
        "            #print(final)\n",
        "            if int(final) != 1 :\n",
        "                count += 1\n",
        "                solution(str(final))\n",
        "            else:\n",
        "                print(count)\n",
        "                print(\"1완료\")\n",
        "\n",
        "        binary(lllen)  #함수실행\n",
        "        \n",
        "    solution(s)\n",
        "\n",
        "\n",
        "Fsolution(\"0111010\") #함수실행\n",
        "\n",
        "    \n"
      ],
      "metadata": {
        "colab": {
          "base_uri": "https://localhost:8080/",
          "height": 407
        },
        "id": "NgvEyG_Pme3v",
        "outputId": "5ec55e68-158f-4678-c8cb-f24f4be9ad6b"
      },
      "execution_count": 59,
      "outputs": [
        {
          "output_type": "error",
          "ename": "UnboundLocalError",
          "evalue": "ignored",
          "traceback": [
            "\u001b[0;31m---------------------------------------------------------------------------\u001b[0m",
            "\u001b[0;31mUnboundLocalError\u001b[0m                         Traceback (most recent call last)",
            "\u001b[0;32m<ipython-input-59-37ed031240a4>\u001b[0m in \u001b[0;36m<module>\u001b[0;34m\u001b[0m\n\u001b[1;32m     39\u001b[0m \u001b[0;34m\u001b[0m\u001b[0m\n\u001b[1;32m     40\u001b[0m \u001b[0;34m\u001b[0m\u001b[0m\n\u001b[0;32m---> 41\u001b[0;31m \u001b[0mFsolution\u001b[0m\u001b[0;34m(\u001b[0m\u001b[0;34m\"0111010\"\u001b[0m\u001b[0;34m)\u001b[0m \u001b[0;31m#함수실행\u001b[0m\u001b[0;34m\u001b[0m\u001b[0;34m\u001b[0m\u001b[0m\n\u001b[0m\u001b[1;32m     42\u001b[0m \u001b[0;34m\u001b[0m\u001b[0m\n\u001b[1;32m     43\u001b[0m \u001b[0;34m\u001b[0m\u001b[0m\n",
            "\u001b[0;32m<ipython-input-59-37ed031240a4>\u001b[0m in \u001b[0;36mFsolution\u001b[0;34m(s)\u001b[0m\n\u001b[1;32m     36\u001b[0m \u001b[0;34m\u001b[0m\u001b[0m\n\u001b[1;32m     37\u001b[0m         \u001b[0mbinary\u001b[0m\u001b[0;34m(\u001b[0m\u001b[0mlllen\u001b[0m\u001b[0;34m)\u001b[0m  \u001b[0;31m#함수실행\u001b[0m\u001b[0;34m\u001b[0m\u001b[0;34m\u001b[0m\u001b[0m\n\u001b[0;32m---> 38\u001b[0;31m     \u001b[0msolution\u001b[0m\u001b[0;34m(\u001b[0m\u001b[0ms\u001b[0m\u001b[0;34m)\u001b[0m\u001b[0;34m\u001b[0m\u001b[0;34m\u001b[0m\u001b[0m\n\u001b[0m\u001b[1;32m     39\u001b[0m \u001b[0;34m\u001b[0m\u001b[0m\n\u001b[1;32m     40\u001b[0m \u001b[0;34m\u001b[0m\u001b[0m\n",
            "\u001b[0;32m<ipython-input-59-37ed031240a4>\u001b[0m in \u001b[0;36msolution\u001b[0;34m(s)\u001b[0m\n\u001b[1;32m     35\u001b[0m                 \u001b[0mprint\u001b[0m\u001b[0;34m(\u001b[0m\u001b[0;34m\"1완료\"\u001b[0m\u001b[0;34m)\u001b[0m\u001b[0;34m\u001b[0m\u001b[0;34m\u001b[0m\u001b[0m\n\u001b[1;32m     36\u001b[0m \u001b[0;34m\u001b[0m\u001b[0m\n\u001b[0;32m---> 37\u001b[0;31m         \u001b[0mbinary\u001b[0m\u001b[0;34m(\u001b[0m\u001b[0mlllen\u001b[0m\u001b[0;34m)\u001b[0m  \u001b[0;31m#함수실행\u001b[0m\u001b[0;34m\u001b[0m\u001b[0;34m\u001b[0m\u001b[0m\n\u001b[0m\u001b[1;32m     38\u001b[0m     \u001b[0msolution\u001b[0m\u001b[0;34m(\u001b[0m\u001b[0ms\u001b[0m\u001b[0;34m)\u001b[0m\u001b[0;34m\u001b[0m\u001b[0;34m\u001b[0m\u001b[0m\n\u001b[1;32m     39\u001b[0m \u001b[0;34m\u001b[0m\u001b[0m\n",
            "\u001b[0;32m<ipython-input-59-37ed031240a4>\u001b[0m in \u001b[0;36mbinary\u001b[0;34m(num)\u001b[0m\n\u001b[1;32m     29\u001b[0m             \u001b[0;31m#print(final)\u001b[0m\u001b[0;34m\u001b[0m\u001b[0;34m\u001b[0m\u001b[0;34m\u001b[0m\u001b[0m\n\u001b[1;32m     30\u001b[0m             \u001b[0;32mif\u001b[0m \u001b[0mint\u001b[0m\u001b[0;34m(\u001b[0m\u001b[0mfinal\u001b[0m\u001b[0;34m)\u001b[0m \u001b[0;34m!=\u001b[0m \u001b[0;36m1\u001b[0m \u001b[0;34m:\u001b[0m\u001b[0;34m\u001b[0m\u001b[0;34m\u001b[0m\u001b[0m\n\u001b[0;32m---> 31\u001b[0;31m                 \u001b[0mcount\u001b[0m \u001b[0;34m+=\u001b[0m \u001b[0;36m1\u001b[0m\u001b[0;34m\u001b[0m\u001b[0;34m\u001b[0m\u001b[0m\n\u001b[0m\u001b[1;32m     32\u001b[0m                 \u001b[0msolution\u001b[0m\u001b[0;34m(\u001b[0m\u001b[0mstr\u001b[0m\u001b[0;34m(\u001b[0m\u001b[0mfinal\u001b[0m\u001b[0;34m)\u001b[0m\u001b[0;34m)\u001b[0m\u001b[0;34m\u001b[0m\u001b[0;34m\u001b[0m\u001b[0m\n\u001b[1;32m     33\u001b[0m             \u001b[0;32melse\u001b[0m\u001b[0;34m:\u001b[0m\u001b[0;34m\u001b[0m\u001b[0;34m\u001b[0m\u001b[0m\n",
            "\u001b[0;31mUnboundLocalError\u001b[0m: local variable 'count' referenced before assignment"
          ]
        }
      ]
    },
    {
      "cell_type": "code",
      "source": [
        "llist=[]\n",
        "def solution(s):\n",
        "  \n",
        "    llist.append(1)\n",
        "    \n",
        "\n",
        "    ll=[]\n",
        "    for i in s:\n",
        "        if int(i) != 0:\n",
        "            ll.append(i)\n",
        "    lllen = len(ll)  # 6\n",
        "    num = lllen\n",
        " \n",
        "    save = []\n",
        "    \n",
        "    while True:\n",
        "        a = int(num / 2)\n",
        "        b = int(num % 2)\n",
        "        save.insert(0, b)\n",
        "        \n",
        "        if a != 0:\n",
        "            num = a\n",
        "        else:\n",
        "            break\n",
        "            \n",
        "    final = ''.join(map(str, save)) #이진수 100\n",
        "    #print(final)\n",
        "    if int(final) != 1 :\n",
        "       \n",
        "        solution(str(final))\n",
        "    else:\n",
        "        print(len(llist))\n",
        "        print(\"완료\")\n",
        " \n",
        "\n",
        " \n",
        "   \n",
        "\n",
        " \n",
        "\n",
        "solution(\"0111010\") #함수실행\n",
        "\n",
        "    \n"
      ],
      "metadata": {
        "colab": {
          "base_uri": "https://localhost:8080/"
        },
        "id": "otdkiaiPpZDr",
        "outputId": "03003dcd-7e0c-4f04-bdac-36f255657883"
      },
      "execution_count": 77,
      "outputs": [
        {
          "output_type": "stream",
          "name": "stdout",
          "text": [
            "2\n",
            "완료\n"
          ]
        }
      ]
    },
    {
      "cell_type": "code",
      "source": [],
      "metadata": {
        "id": "IpwivIuEsIp-"
      },
      "execution_count": null,
      "outputs": []
    },
    {
      "cell_type": "code",
      "source": [],
      "metadata": {
        "id": "qPA4a24fsJD4"
      },
      "execution_count": null,
      "outputs": []
    },
    {
      "cell_type": "code",
      "source": [],
      "metadata": {
        "id": "i-Qi510VsJJW"
      },
      "execution_count": null,
      "outputs": []
    },
    {
      "cell_type": "code",
      "source": [
        "def Fsolution(s): \n",
        "    llist=[] \n",
        "    countzero=[]\n",
        "\n",
        "    def solution(s):\n",
        "\n",
        " \n",
        "        llist.append(1)\n",
        "        \n",
        "\n",
        "        ll=[]\n",
        "        for i in s:\n",
        "            if int(i) != 0:\n",
        "                ll.append(i)\n",
        "            else:\n",
        "                countzero.append(1)\n",
        "\n",
        "        lllen = len(ll)  # 6\n",
        "        num = lllen\n",
        "    \n",
        "        save = []\n",
        "        \n",
        "        while True:\n",
        "            a = int(num / 2)\n",
        "            b = int(num % 2)\n",
        "            save.insert(0, b)\n",
        "            \n",
        "            if a != 0:\n",
        "                num = a\n",
        "            else:\n",
        "                break\n",
        "                \n",
        "        final = ''.join(map(str, save)) #이진수 100\n",
        "        #print(final)\n",
        "        if int(final) != 1 :\n",
        "        \n",
        "            solution(str(final))\n",
        "        else:\n",
        "            print(len(llist),len(countzero))\n",
        "            print(\"완료\")\n",
        "\n",
        "    solution(s)\n",
        " \n",
        "Fsolution(\"110010101001\") #함수실행\n",
        "\n",
        "    \n"
      ],
      "metadata": {
        "colab": {
          "base_uri": "https://localhost:8080/"
        },
        "id": "M_PPRTUosJOa",
        "outputId": "8ff2b441-f05b-4620-8e31-b1c16446e5c8"
      },
      "execution_count": 90,
      "outputs": [
        {
          "output_type": "stream",
          "name": "stdout",
          "text": [
            "3 8\n",
            "완료\n"
          ]
        }
      ]
    },
    {
      "cell_type": "code",
      "source": [
        "def solution(s): \n",
        "    llist=[] \n",
        "    countzero=[]\n",
        "\n",
        "    def Fsolution(s):\n",
        "\n",
        " \n",
        "        llist.append(1)\n",
        "        \n",
        "\n",
        "        ll=[]\n",
        "        for i in s:\n",
        "            if int(i) != 0:\n",
        "                ll.append(i)\n",
        "            else:\n",
        "                countzero.append(1)\n",
        "\n",
        "        lllen = len(ll)  # 6\n",
        "        num = lllen\n",
        "    \n",
        "        save = []\n",
        "        \n",
        "        while True:\n",
        "            a = int(num / 2)\n",
        "            b = int(num % 2)\n",
        "            save.insert(0, b)\n",
        "            \n",
        "            if a != 0:\n",
        "                num = a\n",
        "            else:\n",
        "                break\n",
        "                \n",
        "        final = ''.join(map(str, save)) #이진수 100\n",
        "        #print(final)\n",
        "        if int(final) != 1 :\n",
        "        \n",
        "            Fsolution(str(final))\n",
        "        else:\n",
        "            print(len(llist),len(countzero))\n",
        "            print(\"완료\")\n",
        "\n",
        "    Fsolution(s)\n",
        " \n",
        "solution(\"110010101001\") #함수실행\n",
        "\n",
        "    \n"
      ],
      "metadata": {
        "colab": {
          "base_uri": "https://localhost:8080/"
        },
        "id": "HbyI-be9vxn9",
        "outputId": "ede27688-f089-48d3-f014-aa24b3e9708a"
      },
      "execution_count": 97,
      "outputs": [
        {
          "output_type": "stream",
          "name": "stdout",
          "text": [
            "3 8\n",
            "완료\n"
          ]
        }
      ]
    },
    {
      "cell_type": "code",
      "source": [],
      "metadata": {
        "id": "ne8U_vhdv9-W"
      },
      "execution_count": null,
      "outputs": []
    },
    {
      "cell_type": "code",
      "source": [],
      "metadata": {
        "id": "FUXZ7MuSzEWA"
      },
      "execution_count": null,
      "outputs": []
    },
    {
      "cell_type": "code",
      "source": [],
      "metadata": {
        "id": "o5_tdQxPzEZ1"
      },
      "execution_count": null,
      "outputs": []
    },
    {
      "cell_type": "code",
      "source": [
        "#완성코드\n",
        "def solution(s): \n",
        "    llist=[] \n",
        "    countzero=[]\n",
        "    def Fsolution(s):\n",
        "        llist.append(1)\n",
        "        ll=[]\n",
        "        for i in s:\n",
        "            if int(i) != 0:\n",
        "                ll.append(i)\n",
        "            else:\n",
        "                countzero.append(1)\n",
        "        lllen = len(ll)  # 6\n",
        "        num = lllen\n",
        "        save = []\n",
        "        while True:\n",
        "            a = int(num / 2)\n",
        "            b = int(num % 2)\n",
        "            save.insert(0, b)\n",
        "            if a != 0:\n",
        "                num = a\n",
        "            else:\n",
        "                break\n",
        "        final = ''.join(map(str, save)) #이진수 100\n",
        "        #print(final)\n",
        "        if int(final) != 1 :\n",
        "            Fsolution(str(final))\n",
        "        else:\n",
        "            pass\n",
        "    Fsolution(s) #함수실행\n",
        "    return len(llist), len(countzero)"
      ],
      "metadata": {
        "colab": {
          "base_uri": "https://localhost:8080/"
        },
        "id": "UAbt5-nOv-CO",
        "outputId": "3933ba8f-6b46-4832-93d0-1d72c22fb8bd"
      },
      "execution_count": 111,
      "outputs": [
        {
          "output_type": "stream",
          "name": "stdout",
          "text": [
            "(3, 8)\n"
          ]
        }
      ]
    },
    {
      "cell_type": "code",
      "source": [
        "#다른사용자의간단한풀이\n",
        "def solution(s):\n",
        "    a, b = 0, 0\n",
        "    while s != '1':\n",
        "        a += 1\n",
        "        num = s.count('1')\n",
        "        b += len(s) - num\n",
        "        s = bin(num)[2:]\n",
        "    return [a, b]"
      ],
      "metadata": {
        "id": "42DUMgVWy5Ip"
      },
      "execution_count": null,
      "outputs": []
    }
  ]
}
