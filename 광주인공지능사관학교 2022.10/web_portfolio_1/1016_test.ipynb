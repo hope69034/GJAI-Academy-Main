{
  "nbformat": 4,
  "nbformat_minor": 0,
  "metadata": {
    "colab": {
      "provenance": [],
      "collapsed_sections": []
    },
    "kernelspec": {
      "name": "python3",
      "display_name": "Python 3"
    },
    "language_info": {
      "name": "python"
    },
    "accelerator": "GPU"
  },
  "cells": [
    {
      "cell_type": "code",
      "source": [
        "# 실행시간 : 40분"
      ],
      "metadata": {
        "id": "lXo0qjC9PlVg"
      },
      "execution_count": null,
      "outputs": []
    },
    {
      "cell_type": "code",
      "source": [
        "from google.colab import drive\n",
        "drive.mount('/content/drive')"
      ],
      "metadata": {
        "colab": {
          "base_uri": "https://localhost:8080/"
        },
        "id": "CMLSebHK94Y3",
        "outputId": "9781e33b-6bb9-4e39-ad7c-eabf0d9e3080"
      },
      "execution_count": 6,
      "outputs": [
        {
          "output_type": "stream",
          "name": "stdout",
          "text": [
            "Mounted at /content/drive\n"
          ]
        }
      ]
    },
    {
      "cell_type": "code",
      "source": [
        "!pip install efficientnet_pytorch\n",
        "import torchvision\n",
        "from torchvision import transforms\n",
        "import os\n",
        "from torch.utils.data import Dataset,DataLoader\n",
        "import torch\n",
        "from torch.utils.data import Dataset,DataLoader\n",
        "from tqdm import tqdm\n",
        "import torch.nn.functional as F  # F : 테스트 로스 연산 함수"
      ],
      "metadata": {
        "colab": {
          "base_uri": "https://localhost:8080/"
        },
        "id": "ScXWK6zV94WQ",
        "outputId": "33f9f058-24cf-46cd-94fd-957a08793ad7"
      },
      "execution_count": 7,
      "outputs": [
        {
          "output_type": "stream",
          "name": "stdout",
          "text": [
            "Looking in indexes: https://pypi.org/simple, https://us-python.pkg.dev/colab-wheels/public/simple/\n",
            "Requirement already satisfied: efficientnet_pytorch in /usr/local/lib/python3.7/dist-packages (0.7.1)\n",
            "Requirement already satisfied: torch in /usr/local/lib/python3.7/dist-packages (from efficientnet_pytorch) (1.12.1+cu113)\n",
            "Requirement already satisfied: typing-extensions in /usr/local/lib/python3.7/dist-packages (from torch->efficientnet_pytorch) (4.1.1)\n"
          ]
        }
      ]
    },
    {
      "cell_type": "code",
      "source": [
        "## check point // 모델 파일 경로 \n",
        "PATH1 = '/content/drive/MyDrive/sdproject/scalp_weights/'+'aram_model1.pt'   \n",
        "PATH2 = '/content/drive/MyDrive/sdproject/scalp_weights/'+'aram_model2.pt'   \n",
        "PATH3 = '/content/drive/MyDrive/sdproject/scalp_weights/'+'aram_model3.pt'   \n",
        "PATH4 = '/content/drive/MyDrive/sdproject/scalp_weights/'+'aram_model4.pt'   \n",
        "PATH5 = '/content/drive/MyDrive/sdproject/scalp_weights/'+'aram_model5.pt'   \n",
        "PATH6 = '/content/drive/MyDrive/sdproject/scalp_weights/'+'aram_model6.pt'   "
      ],
      "metadata": {
        "id": "DGGVcq_Q94TX"
      },
      "execution_count": 8,
      "outputs": []
    },
    {
      "cell_type": "code",
      "source": [
        "## 모델 check point // 모델 1~6\n",
        "device = torch.device('cuda:0' if torch.cuda.is_available() else 'cpu')\n",
        "model1 = torch.load(PATH1, map_location=device)\n",
        "model2 = torch.load(PATH2, map_location=device)\n",
        "model3 = torch.load(PATH3, map_location=device)\n",
        "model4 = torch.load(PATH4, map_location=device)\n",
        "model5 = torch.load(PATH5, map_location=device)\n",
        "model6 = torch.load(PATH6, map_location=device)"
      ],
      "metadata": {
        "id": "9ke99k_p94Lg"
      },
      "execution_count": 10,
      "outputs": []
    },
    {
      "cell_type": "code",
      "source": [
        "## 전처리\n",
        "# 전처리 규칙\n",
        "transforms_test = transforms.Compose([                                      \n",
        "                                        transforms.Resize([int(600), int(600)], interpolation=transforms.InterpolationMode.BOX), \n",
        "                                        transforms.ToTensor(), \n",
        "                                        transforms.Normalize(mean=[0.485, 0.456, 0.406], std=[0.229, 0.224, 0.225]) \n",
        "                                      ])\n",
        "# check point // root 경로 폴더 속 jpg를 전처리, 텐서화 (root 속에 폴더를 하나 더 만들어서 jpg를 묶어야 함) \n",
        "testset1 = torchvision.datasets.ImageFolder(root = '/content/drive/MyDrive/sdproject/train_data/model1/test' ,\n",
        "                    transform = transforms_test)\n",
        "testset2 = torchvision.datasets.ImageFolder(root = '/content/drive/MyDrive/sdproject/train_data/model2/test' ,\n",
        "                    transform = transforms_test)\n",
        "testset3 = torchvision.datasets.ImageFolder(root = '/content/drive/MyDrive/sdproject/train_data/model3/test' ,\n",
        "                    transform = transforms_test)\n",
        "testset4 = torchvision.datasets.ImageFolder(root = '/content/drive/MyDrive/sdproject/train_data/model4/test' ,\n",
        "                    transform = transforms_test)\n",
        "testset5 = torchvision.datasets.ImageFolder(root = '/content/drive/MyDrive/sdproject/train_data/model5/test' ,\n",
        "                    transform = transforms_test)\n",
        "testset6 = torchvision.datasets.ImageFolder(root = '/content/drive/MyDrive/sdproject/train_data/model6/test' ,\n",
        "                    transform = transforms_test)\n",
        "# check point // 로더 : 전처리한 이미지와 라벨링된 정답값을 튜플로 묶음 for data, target in testloader: 에서 data는 데이터의 특징  target은 데이터의 정답값\n",
        "testloader1 = DataLoader(testset1, batch_size=2, shuffle=False, num_workers=0) \n",
        "testloader2 = DataLoader(testset2, batch_size=2, shuffle=False, num_workers=0) \n",
        "testloader3 = DataLoader(testset3, batch_size=2, shuffle=False, num_workers=0) \n",
        "testloader4 = DataLoader(testset4, batch_size=2, shuffle=False, num_workers=0) \n",
        "testloader5 = DataLoader(testset5, batch_size=2, shuffle=False, num_workers=0) \n",
        "testloader6 = DataLoader(testset6, batch_size=2, shuffle=False, num_workers=0) "
      ],
      "metadata": {
        "id": "iYJNqy84-T9T"
      },
      "execution_count": 11,
      "outputs": []
    },
    {
      "cell_type": "code",
      "execution_count": 12,
      "metadata": {
        "colab": {
          "base_uri": "https://localhost:8080/"
        },
        "id": "ZcnTI4Q19QFj",
        "outputId": "ad264fd3-27cf-494f-c913-487c9b8f2b94"
      },
      "outputs": [
        {
          "output_type": "stream",
          "name": "stderr",
          "text": [
            "100%|██████████| 238/238 [04:00<00:00,  1.01s/it]\n"
          ]
        },
        {
          "output_type": "stream",
          "name": "stdout",
          "text": [
            "\n",
            "Test set Accuracy: 78/476 (16.39%)\n",
            "\n"
          ]
        },
        {
          "output_type": "stream",
          "name": "stderr",
          "text": [
            "100%|██████████| 331/331 [07:38<00:00,  1.39s/it]\n"
          ]
        },
        {
          "output_type": "stream",
          "name": "stdout",
          "text": [
            "\n",
            "Test set Accuracy: 324/662 (48.94%)\n",
            "\n"
          ]
        },
        {
          "output_type": "stream",
          "name": "stderr",
          "text": [
            "100%|██████████| 359/359 [08:02<00:00,  1.34s/it]\n"
          ]
        },
        {
          "output_type": "stream",
          "name": "stdout",
          "text": [
            "\n",
            "Test set Accuracy: 461/718 (64.21%)\n",
            "\n"
          ]
        },
        {
          "output_type": "stream",
          "name": "stderr",
          "text": [
            "100%|██████████| 197/197 [04:31<00:00,  1.38s/it]\n"
          ]
        },
        {
          "output_type": "stream",
          "name": "stdout",
          "text": [
            "\n",
            "Test set Accuracy: 281/394 (71.32%)\n",
            "\n"
          ]
        },
        {
          "output_type": "stream",
          "name": "stderr",
          "text": [
            "100%|██████████| 310/310 [06:54<00:00,  1.34s/it]\n"
          ]
        },
        {
          "output_type": "stream",
          "name": "stdout",
          "text": [
            "\n",
            "Test set Accuracy: 370/620 (59.68%)\n",
            "\n"
          ]
        },
        {
          "output_type": "stream",
          "name": "stderr",
          "text": [
            "100%|██████████| 577/577 [12:57<00:00,  1.35s/it]"
          ]
        },
        {
          "output_type": "stream",
          "name": "stdout",
          "text": [
            "\n",
            "Test set Accuracy: 633/1154 (54.85%)\n",
            "\n"
          ]
        },
        {
          "output_type": "stream",
          "name": "stderr",
          "text": [
            "\n"
          ]
        }
      ],
      "source": [
        "## 테스트 펑션\n",
        "# check point // 평가모드로 전환 # 평가모드와 학습모드의 layer 구성이 다르다\n",
        "model1.eval() \n",
        "model2.eval()\n",
        "model3.eval() \n",
        "model4.eval()\n",
        "model5.eval() \n",
        "model6.eval()\n",
        "\n",
        "# check point //\n",
        "# output_list = []\n",
        "# test_loss = 0\n",
        " \n",
        "# 펑션\n",
        "if __name__ == '__main__':\n",
        "    with torch.no_grad(): \n",
        "    # 평가할 땐  gradient를 backpropagation 하지 않기 때문에 no grad로 gradient 계산을 막아서 연산 속도를 높인다\n",
        "\n",
        "            # model1\n",
        "            correct = 0\n",
        "            for data, target in tqdm(testloader1):                                   \n",
        "                data, target  = data.to(device), target.to(device) \n",
        "                output = model1(data)   # model1에 데이터를 넣어서 아웃풋 > [a,b,c,d] 각 0,1,2,3 의 확률값 리턴 가장 큰 것이 pred\n",
        "                # output_list.append(output)\n",
        "                #test_loss += F.nll_loss(output, target, reduction = 'sum').item()  # test_loss변수에 각 로스를 축적\n",
        "                pred = output.argmax(dim=1, keepdim=True) # argmax : 리스트에서 최댓값의 인덱스를 뽑아줌 > y값아웃풋인덱\n",
        "                correct += pred.eq(target.view_as(pred)).sum().item() # accuracy 측정을 위한 변수 # 각 예측이 맞았는지 틀렸는지 correct변수에 축적 맞을 때마다 +1  # # view_as() 함수는 target 텐서를 view_as() 함수 안에 들어가는 인수(pred)의 모양대로 다시 정렬한다.\n",
        "                    #view_as() 함수는 target 텐서를 view_as() 함수 안에 들어가는 인수(pred)의 모양대로 다시 정렬한다.\n",
        "                    #pred.eq(data) : pred와 data가 일치하는지 검사\n",
        "            print('\\nTest set Accuracy: {}/{} ({:.2f}%)\\n'.format(correct, len(testloader1.dataset), 100. * correct / len(testloader1.dataset)))\n",
        "\n",
        "            # model2\n",
        "            correct = 0   \n",
        "            for data, target in tqdm(testloader2):                                   \n",
        "                data, target  = data.to(device), target.to(device) \n",
        "                output = model2(data)  \n",
        "                pred = output.argmax(dim=1, keepdim=True) \n",
        "                correct += pred.eq(target.view_as(pred)).sum().item()\n",
        "            print('\\nTest set Accuracy: {}/{} ({:.2f}%)\\n'.format(correct, len(testloader2.dataset), 100. * correct / len(testloader2.dataset)))\n",
        "\n",
        "            # model3\n",
        "            correct = 0   \n",
        "            for data, target in tqdm(testloader3):                                   \n",
        "                data, target  = data.to(device), target.to(device) \n",
        "                output = model3(data)  \n",
        "                pred = output.argmax(dim=1, keepdim=True) \n",
        "                correct += pred.eq(target.view_as(pred)).sum().item()\n",
        "            print('\\nTest set Accuracy: {}/{} ({:.2f}%)\\n'.format(correct, len(testloader3.dataset), 100. * correct / len(testloader3.dataset)))\n",
        "\n",
        "            # model4\n",
        "            correct = 0   \n",
        "            for data, target in tqdm(testloader4):                                   \n",
        "                data, target  = data.to(device), target.to(device) \n",
        "                output = model4(data)  \n",
        "                pred = output.argmax(dim=1, keepdim=True) \n",
        "                correct += pred.eq(target.view_as(pred)).sum().item()\n",
        "            print('\\nTest set Accuracy: {}/{} ({:.2f}%)\\n'.format(correct, len(testloader4.dataset), 100. * correct / len(testloader4.dataset)))\n",
        "\n",
        "            # model5\n",
        "            correct = 0   \n",
        "            for data, target in tqdm(testloader5):                                   \n",
        "                data, target  = data.to(device), target.to(device) \n",
        "                output = model5(data)  \n",
        "                pred = output.argmax(dim=1, keepdim=True) \n",
        "                correct += pred.eq(target.view_as(pred)).sum().item()\n",
        "            print('\\nTest set Accuracy: {}/{} ({:.2f}%)\\n'.format(correct, len(testloader5.dataset), 100. * correct / len(testloader5.dataset)))\n",
        "\n",
        "            # model6\n",
        "            correct = 0   \n",
        "            for data, target in tqdm(testloader6):                                   \n",
        "                data, target  = data.to(device), target.to(device) \n",
        "                output = model6(data)  \n",
        "                pred = output.argmax(dim=1, keepdim=True) \n",
        "                correct += pred.eq(target.view_as(pred)).sum().item()\n",
        "            print('\\nTest set Accuracy: {}/{} ({:.2f}%)\\n'.format(correct, len(testloader6.dataset), 100. * correct / len(testloader6.dataset)))"
      ]
    },
    {
      "cell_type": "code",
      "source": [
        "## 출력\n",
        "# 0:양호, 1:경증, 2:중등도, 3:중증\n",
        "# test_loss /= len(testloader.dataset)  # 로스축적된 로스를 데이터 수(경로안jpg수)로 나누기\n",
        "# 아큐러시 출력 ( :.4f 소수점반올림 )\n",
        "# print('\\nTest set Accuracy: {}/{} ({:.4f}%)\\n'.format(correct, len(testloader1.dataset), 100. * correct / len(testloader1.dataset)))  # 축적된 예측값을 데이터 개수로 나누기 *100 > 확률%값\n",
        "# print('\\nTest set Accuracy: {}/{} ({:.4f}%)\\n'.format(correct, len(testloader2.dataset), 100. * correct / len(testloader2.dataset)))\n",
        "# print('\\nTest set Accuracy: {}/{} ({:.4f}%)\\n'.format(correct, len(testloader3.dataset), 100. * correct / len(testloader3.dataset)))\n",
        "# print('\\nTest set Accuracy: {}/{} ({:.4f}%)\\n'.format(correct, len(testloader4.dataset), 100. * correct / len(testloader4.dataset)))\n",
        "# print('\\nTest set Accuracy: {}/{} ({:.4f}%)\\n'.format(correct, len(testloader5.dataset), 100. * correct / len(testloader5.dataset)))\n",
        "# print('\\nTest set Accuracy: {}/{} ({:.4f}%)\\n'.format(correct, len(testloader6.dataset), 100. * correct / len(testloader6.dataset)))\n",
        "# 로스, 아큐러시 출력\n",
        "# print('\\nTest set: Average Loss: {:.4f}, Accuracy: {}/{} ({:.4f}%)\\n'.format(test_loss, correct, len(testloader.dataset), 100. * correct / len(testloader.dataset)))\n",
        "\n",
        "# 업로드 이미지에 대한 output predict 값\n",
        "# 업로드 폴더로 실행 > 아웃풋리스트에서 최근 업로드 파일을 -1인덱스로 잡은 후 아웃풋 리스트에서 -1 인덱스로 최근 업로드 파일을 잡고 argmax로 아웃풋 0 1 2 3 중 최댓값의 인덱스를 리턴\n",
        "# m1output = output_list[-1]\n",
        "# m1predict = output_list[-1].argmax(dim=1, keepdim=True)\n",
        "# print('model1 미세각질 output :', m1output) # tensor([[-7.3876,  1.1129,  2.3978, -0.7094]], device='cuda:0') 로 각 아웃풋 4개에 대한 수치를 알려줌\n",
        "# print('model1 미세각질 predict :',m1predict)   # 위 값 중 최댓값의 인덱스를 알려줌 > 즉 predict 값"
      ],
      "metadata": {
        "id": "RUu88j-SATjl"
      },
      "execution_count": 13,
      "outputs": []
    }
  ]
}