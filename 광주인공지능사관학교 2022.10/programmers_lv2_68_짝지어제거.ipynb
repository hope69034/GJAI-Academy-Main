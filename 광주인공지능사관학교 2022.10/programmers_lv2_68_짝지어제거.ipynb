{
  "nbformat": 4,
  "nbformat_minor": 0,
  "metadata": {
    "colab": {
      "provenance": [],
      "collapsed_sections": []
    },
    "kernelspec": {
      "name": "python3",
      "display_name": "Python 3"
    },
    "language_info": {
      "name": "python"
    }
  },
  "cells": [
    {
      "cell_type": "code",
      "execution_count": null,
      "metadata": {
        "id": "txzHsO7YHNnT"
      },
      "outputs": [],
      "source": []
    },
    {
      "cell_type": "code",
      "source": [],
      "metadata": {
        "id": "52Fz68boHR26"
      },
      "execution_count": null,
      "outputs": []
    },
    {
      "cell_type": "code",
      "source": [
        "s = \"baabaa\""
      ],
      "metadata": {
        "id": "1XjATG2AHR78"
      },
      "execution_count": 4,
      "outputs": []
    },
    {
      "cell_type": "code",
      "source": [
        "s[0]"
      ],
      "metadata": {
        "colab": {
          "base_uri": "https://localhost:8080/",
          "height": 36
        },
        "id": "lEzi5QB5HR_r",
        "outputId": "2a25f97a-fdb0-400b-8b22-02c7856f0f30"
      },
      "execution_count": 5,
      "outputs": [
        {
          "output_type": "execute_result",
          "data": {
            "text/plain": [
              "'b'"
            ],
            "application/vnd.google.colaboratory.intrinsic+json": {
              "type": "string"
            }
          },
          "metadata": {},
          "execution_count": 5
        }
      ]
    },
    {
      "cell_type": "code",
      "source": [
        "for i in s:\n",
        "    print(i)"
      ],
      "metadata": {
        "colab": {
          "base_uri": "https://localhost:8080/"
        },
        "id": "sqqZK5bDHSDn",
        "outputId": "b19ae183-b9b6-4436-8563-27b316de5592"
      },
      "execution_count": 6,
      "outputs": [
        {
          "output_type": "stream",
          "name": "stdout",
          "text": [
            "b\n",
            "a\n",
            "a\n",
            "b\n",
            "a\n",
            "a\n"
          ]
        }
      ]
    },
    {
      "cell_type": "code",
      "source": [
        "slist = list(s)\n",
        "print(slist) \n",
        "\n",
        "\n",
        "\n",
        "     "
      ],
      "metadata": {
        "colab": {
          "base_uri": "https://localhost:8080/"
        },
        "id": "EaoHs4FvH7JU",
        "outputId": "184b93b7-495b-4756-93fb-3e430fd4dd2b"
      },
      "execution_count": 9,
      "outputs": [
        {
          "output_type": "stream",
          "name": "stdout",
          "text": [
            "['b', 'a', 'a', 'b', 'a', 'a']\n"
          ]
        }
      ]
    },
    {
      "cell_type": "code",
      "source": [
        "for i in range(1000):\n",
        "    if slist[i]  == slist[i+1] :\n",
        "        n1=slist[i]\n",
        "        n2=slist[i+1]\n",
        "        slist.remove(n1)\n",
        "        slist.remove(n2)\n",
        "\n",
        "\n",
        "\n",
        "        \n"
      ],
      "metadata": {
        "id": "mQV3cPT-Ijlr"
      },
      "execution_count": null,
      "outputs": []
    },
    {
      "cell_type": "code",
      "source": [
        " \n"
      ],
      "metadata": {
        "id": "dpoEEjpuKC7w"
      },
      "execution_count": null,
      "outputs": []
    },
    {
      "cell_type": "code",
      "source": [
        "while True:\n",
        "     \n",
        "        i=0\n",
        "        if slist[i]  == slist[i+1] :\n",
        "            n1=slist[i]\n",
        "            n2=slist[i+1]\n",
        "            slist.remove(n1)\n",
        "            slist.remove(n2)\n",
        "        elif slist[i] == slist[-1]:\n",
        "            print(slist)    \n",
        "        else:\n",
        "            i+=1\n",
        "   "
      ],
      "metadata": {
        "id": "KqHJGONkM8Nx"
      },
      "execution_count": null,
      "outputs": []
    },
    {
      "cell_type": "code",
      "source": [
        "s = \"baabaa\"\n",
        "slist = list(s)"
      ],
      "metadata": {
        "id": "2-LC_nILP4Rz"
      },
      "execution_count": null,
      "outputs": []
    },
    {
      "cell_type": "code",
      "source": [
        "while True:\n",
        "    i=0\n",
        "    if slist[i]  == slist[i+1] :\n",
        "        n1=slist[i]\n",
        "        n2=slist[i+1]\n",
        "        slist.remove(n1)\n",
        "        slist.remove(n2)\n",
        "    elif slist[i] == slist[-1]:\n",
        "        print(slist)    \n",
        "    else:\n",
        "        i+=1\n",
        "   "
      ],
      "metadata": {
        "id": "HuTIRG0PNY0X"
      },
      "execution_count": null,
      "outputs": []
    },
    {
      "cell_type": "code",
      "source": [],
      "metadata": {
        "id": "xdSdcPlDNa0-"
      },
      "execution_count": null,
      "outputs": []
    },
    {
      "cell_type": "code",
      "source": [
        "s = \"baabaa\"\n",
        "slist = list(s)\n",
        "\n",
        "while True:\n",
        "    i=0\n",
        "    if slist[i]  == slist[i+1] :\n",
        "        n1=slist[i]\n",
        "        n2=slist[i+1]\n",
        "        slist.remove(n1)\n",
        "        slist.remove(n2)\n",
        "    elif slist[i] == slist[-1]:\n",
        "        print(slist)    \n",
        "    else:\n",
        "        i+=1\n",
        "   "
      ],
      "metadata": {
        "id": "OUhB4MrGNa5Q"
      },
      "execution_count": null,
      "outputs": []
    },
    {
      "cell_type": "code",
      "source": [
        "s = \"baabaa\"\n",
        "slist = list(s)\n",
        "\n",
        "while True:\n",
        "    i=0\n",
        "    if slist[i]  == slist[i+1] :\n",
        "        n1=slist[i]\n",
        "        n2=slist[i+1]\n",
        "        slist.remove(n1)\n",
        "        slist.remove(n2)\n",
        "    elif slist[i] == slist[-1]:\n",
        "        if len(slist)==0:\n",
        "            return 1\n",
        "        else :\n",
        "            return slist\n",
        "          \n",
        "    else:\n",
        "        i+=1\n",
        "   "
      ],
      "metadata": {
        "id": "QlhXRhykN1_G"
      },
      "execution_count": null,
      "outputs": []
    },
    {
      "cell_type": "code",
      "source": [
        "def solution(s):\n",
        "    slist = list(s)\n",
        "    while True:\n",
        "        i=0\n",
        "        if slist[i]  == slist[i+1] :\n",
        "            n1=slist[i]\n",
        "            n2=slist[i+1]\n",
        "            slist.remove(n1)\n",
        "            slist.remove(n2)\n",
        "        elif slist[i] == slist[-1]:\n",
        "            if len(slist)==0:\n",
        "                return 1\n",
        "            else :\n",
        "                return slist\n",
        "            \n",
        "        else:\n",
        "            i+=1"
      ],
      "metadata": {
        "id": "Kbim5tRoODDk"
      },
      "execution_count": null,
      "outputs": []
    },
    {
      "cell_type": "code",
      "source": [
        "def solution(s):\n",
        "    slist = list(s)\n",
        "    while True:\n",
        "        i=0\n",
        "        if slist[i]  == slist[i+1] :\n",
        "            del slist[i:i+1] \n",
        "        elif slist[i+1] == slist[-1]:\n",
        "            if len(slist)==0:\n",
        "                return 1\n",
        "            else :\n",
        "                return slist\n",
        "            \n",
        "        else:\n",
        "            i+=1"
      ],
      "metadata": {
        "id": "wHALg0r0OnF3"
      },
      "execution_count": null,
      "outputs": []
    },
    {
      "cell_type": "code",
      "source": [
        "#부분통과 코드\n",
        "def solution(s):\n",
        "    a=True\n",
        "    slist = list(s)\n",
        "    while a:\n",
        "        i=0\n",
        "        if slist[i]  == slist[i+1] :\n",
        "            del slist[i:i+1] \n",
        "            if len(slist)==0:\n",
        "                a=False\n",
        "                return 1\n",
        "                \n",
        "        elif slist[i+1] == slist[-1]: #인덱스문제\n",
        "                a=False\n",
        "                return 0\n",
        "                \n",
        "        else:\n",
        "            i+=1"
      ],
      "metadata": {
        "id": "1g4vMy2URRBm"
      },
      "execution_count": null,
      "outputs": []
    },
    {
      "cell_type": "code",
      "source": [
        "#부분통과 코드\n",
        "def solution(s):\n",
        "    a=True\n",
        "    slist = list(s)\n",
        "    while a:\n",
        "        i=0\n",
        "        if slist[i]  == slist[i+1] :\n",
        "            del slist[i:i+1] \n",
        "            if len(slist)==0:\n",
        "                a=False\n",
        "                return 1\n",
        "                \n",
        "        elif slist[i+1] == slist[-1]: #인덱스문제\n",
        "                a=False\n",
        "                return 0\n",
        "                \n",
        "        else:\n",
        "            i+=1"
      ],
      "metadata": {
        "id": "KgB1HJg8aJlb"
      },
      "execution_count": null,
      "outputs": []
    },
    {
      "cell_type": "code",
      "source": [
        "\n",
        "s = \"aa\"\n",
        "a=True\n",
        "slist = list(s)\n",
        "i=0\n",
        "while a:\n",
        "    if slist[i]  == slist[i+1] :\n",
        "        print(11455)\n",
        "        del slist[i:i+2] \n",
        "        print(1145)\n",
        "        i=0\n",
        "        print(114)\n",
        "        if len(slist)==0:\n",
        "            print(11)\n",
        "            a=False\n",
        "            print(1)\n",
        "\n",
        "            \n",
        "    else:\n",
        "        i+=1"
      ],
      "metadata": {
        "colab": {
          "base_uri": "https://localhost:8080/"
        },
        "id": "dKY8vN1WcMhC",
        "outputId": "465b3f8c-9371-44a1-9253-3583a4125f97"
      },
      "execution_count": 16,
      "outputs": [
        {
          "output_type": "stream",
          "name": "stdout",
          "text": [
            "11455\n",
            "1145\n",
            "114\n",
            "11\n",
            "1\n"
          ]
        }
      ]
    },
    {
      "cell_type": "code",
      "source": [
        "\n",
        "s = \"baabaa\"\n",
        "a=True\n",
        "slist = list(s)\n",
        "i=0\n",
        "while a:\n",
        "    if slist[i]  == slist[i+1]: \n",
        "        del slist[i:i+2] \n",
        "        i=0\n",
        "        if len(slist)==0:\n",
        "            a=False\n",
        "            print(1)\n",
        "    else:\n",
        "        i+=1\n",
        "\n",
        "\n",
        "\n",
        "\n",
        "            elif for slist[i]  != slist[i+1] and slist[i+1] == slist[-1]:\n",
        "        a=False\n",
        "        print(0) "
      ],
      "metadata": {
        "colab": {
          "base_uri": "https://localhost:8080/"
        },
        "id": "4jLj86aOdfIe",
        "outputId": "efd1293b-002f-4609-8444-279ebb1beccf"
      },
      "execution_count": 21,
      "outputs": [
        {
          "output_type": "stream",
          "name": "stdout",
          "text": [
            "0\n"
          ]
        }
      ]
    },
    {
      "cell_type": "code",
      "source": [
        "\n",
        "s = \"ttt\"\n",
        "a=True\n",
        "slist = list(s)\n",
        "i=0\n",
        "\n",
        "while a:\n",
        "    if slist[i]  == slist[i+1]: \n",
        "        del slist[i:i+2] \n",
        "        i=0\n",
        "        if len(slist)==0 :\n",
        "            a=False\n",
        "            print(1)\n",
        "        elif len(slist)==1 :\n",
        "            a=False\n",
        "            print(3)\n",
        "    else:\n",
        "        i+=1\n",
        "        count=0\n",
        "        for j in range(len(slist)-1):        \n",
        "            if slist[j] != slist[j+1]:\n",
        "                count+=1\n",
        "                if count == len(slist)-1 :\n",
        "                    a=False\n",
        "                    print(0)\n",
        "            \n",
        "\n"
      ],
      "metadata": {
        "colab": {
          "base_uri": "https://localhost:8080/"
        },
        "id": "U_CEczYDfREH",
        "outputId": "09df5cd2-6a09-44d9-8c85-75878f88c8a4"
      },
      "execution_count": 36,
      "outputs": [
        {
          "output_type": "stream",
          "name": "stdout",
          "text": [
            "3\n"
          ]
        }
      ]
    },
    {
      "cell_type": "code",
      "source": [
        "def solution(s):\n",
        "    a=True\n",
        "    slist = list(s)\n",
        "    i=0\n",
        "    while a:\n",
        "        if slist[i]  == slist[i+1]: \n",
        "            del slist[i:i+2] \n",
        "            i=0\n",
        "            if len(slist)==0:\n",
        "                a=False\n",
        "                return 1\n",
        "        else:\n",
        "            i+=1\n",
        "            count=0\n",
        "            for j in range(len(slist)-1):        \n",
        "                if slist[j] != slist[j+1]:\n",
        "                    count+=1\n",
        "                    if count == len(slist)-1 :\n",
        "                        a=False\n",
        "                        return 0\n",
        "            \n",
        "\n"
      ],
      "metadata": {
        "id": "IrGc1dpihqLv"
      },
      "execution_count": null,
      "outputs": []
    },
    {
      "cell_type": "code",
      "source": [
        "def solution(s):\n",
        "    a=True\n",
        "    slist = list(s)\n",
        "    i=0\n",
        "    while a:\n",
        "        if slist[i]  == slist[i+1]: \n",
        "            del slist[i:i+2] \n",
        "            i=0\n",
        "            if len(slist)==0:\n",
        "\n",
        "                return 1\n",
        "        else:\n",
        "            i+=1\n",
        "            count=0\n",
        "            for j in range(len(slist)-1):        \n",
        "                if slist[j] != slist[j+1]:\n",
        "                    count+=1\n",
        "                    if count == len(slist)-1 :\n",
        "                   \n",
        "                        return 0\n",
        "            \n",
        "\n"
      ],
      "metadata": {
        "id": "koNYFFoliBzl"
      },
      "execution_count": null,
      "outputs": []
    },
    {
      "cell_type": "code",
      "source": [
        "\n",
        "def solution(s):\n",
        "    a=True\n",
        "    slist = list(s)\n",
        "    i=0\n",
        "\n",
        "    while a:\n",
        "        if slist[i]  == slist[i+1]: \n",
        "            del slist[i:i+2] \n",
        "            i=0\n",
        "            if len(slist)==0 :\n",
        "                a=False\n",
        "                return 1\n",
        "            elif len(slist)==1 :\n",
        "                a=False\n",
        "                return 0\n",
        "        else:\n",
        "            i+=1\n",
        "            count=0\n",
        "            for j in range(len(slist)-1):        \n",
        "                if slist[j] != slist[j+1]:\n",
        "                    count+=1\n",
        "                    if count == len(slist)-1 :\n",
        "                        a=False\n",
        "                        return 0\n",
        "                \n",
        "\n"
      ],
      "metadata": {
        "id": "RT6E9NREi9fX"
      },
      "execution_count": null,
      "outputs": []
    },
    {
      "cell_type": "code",
      "source": [
        "# 나의 풀이 시간초과    50% 통과\n",
        "def solution(s):\n",
        "    a=True\n",
        "    slist = list(s)\n",
        "    i=0\n",
        "    while a:\n",
        "        if slist[i]  == slist[i+1]: \n",
        "            del slist[i:i+2] \n",
        "            i=0\n",
        "            if len(slist)==0 : \n",
        "                return 1\n",
        "            elif len(slist)==1 : \n",
        "                return 0\n",
        "        else:\n",
        "            i+=1\n",
        "            count=0\n",
        "            for j in range(len(slist)-1):        \n",
        "                if slist[j] != slist[j+1]:\n",
        "                    count+=1\n",
        "                    if count == len(slist)-1 : \n",
        "                        return 0"
      ],
      "metadata": {
        "id": "P_PTnCf9jQut"
      },
      "execution_count": null,
      "outputs": []
    },
    {
      "cell_type": "code",
      "source": [
        "# 다른 유저의 정답 풀이\n",
        "def solution(s):\n",
        "    stack = []\n",
        "    for i in s:\n",
        "        if len(stack) == 0:\n",
        "            stack.append(i)\n",
        "        elif stack[-1] == i:\n",
        "            stack.pop()\n",
        "        else:\n",
        "            stack.append(i)\n",
        "    if len(stack) == 0:\n",
        "        return 1\n",
        "    else:\n",
        "        return 0\n",
        "\n",
        "\n",
        "print(solution(\"aabbaat\"))"
      ],
      "metadata": {
        "colab": {
          "base_uri": "https://localhost:8080/"
        },
        "id": "ns1sVJV2kEe_",
        "outputId": "2db9d009-edef-4cc0-8a43-acdb16927731"
      },
      "execution_count": 55,
      "outputs": [
        {
          "output_type": "stream",
          "name": "stdout",
          "text": [
            "0\n"
          ]
        }
      ]
    }
  ]
}