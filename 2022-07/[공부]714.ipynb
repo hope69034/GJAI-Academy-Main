{
  "nbformat": 4,
  "nbformat_minor": 0,
  "metadata": {
    "colab": {
      "name": "[공부]714",
      "provenance": [],
      "collapsed_sections": []
    },
    "kernelspec": {
      "name": "python3",
      "display_name": "Python 3"
    },
    "language_info": {
      "name": "python"
    }
  },
  "cells": [
    {
      "cell_type": "code",
      "execution_count": 1,
      "metadata": {
        "id": "FJMwBKpb-z9A",
        "colab": {
          "base_uri": "https://localhost:8080/"
        },
        "outputId": "4106743a-5083-4076-ad09-fe3d49d26245"
      },
      "outputs": [
        {
          "output_type": "execute_result",
          "data": {
            "text/plain": [
              "array([[2, 0],\n",
              "       [1, 3]])"
            ]
          },
          "metadata": {},
          "execution_count": 1
        }
      ],
      "source": [
        "y_t=[1,0,1,1,0,1]\n",
        "y_p=[0,0,1,1,0,1]\n",
        "from sklearn.metrics import confusion_matrix\n",
        "confusion_matrix(y_t,y_p)#tn,fp,fn,tp\n"
      ]
    },
    {
      "cell_type": "code",
      "source": [
        "# 컨퓨전메트릭스 어레이 구성"
      ],
      "metadata": {
        "id": "pF2yp7ibd9wH"
      },
      "execution_count": 2,
      "outputs": []
    },
    {
      "cell_type": "code",
      "source": [
        "                머신의 예측값\n",
        "                   false(n)      true(p)\n",
        "실Y값  false        t  n           f p\n",
        "       true         f  n           t p\n",
        " (예측과 맞으면 t)\n",
        " "
      ],
      "metadata": {
        "id": "XQfZ7PLDeAhh",
        "colab": {
          "base_uri": "https://localhost:8080/",
          "height": 136
        },
        "outputId": "cc8f8b16-6ced-4837-ae70-79d09ff00fd5"
      },
      "execution_count": 3,
      "outputs": [
        {
          "output_type": "error",
          "ename": "SyntaxError",
          "evalue": "ignored",
          "traceback": [
            "\u001b[0;36m  File \u001b[0;32m\"<ipython-input-3-0963257b7533>\"\u001b[0;36m, line \u001b[0;32m1\u001b[0m\n\u001b[0;31m    머신의 예측값\u001b[0m\n\u001b[0m          ^\u001b[0m\n\u001b[0;31mSyntaxError\u001b[0m\u001b[0;31m:\u001b[0m invalid syntax\n"
          ]
        }
      ]
    },
    {
      "cell_type": "code",
      "source": [
        "# 변수 = 어레이.라벨()       어레이의 원소들을 라벨(인덱)로 쓰겠다는 함수\n",
        "                            # 변수를 하나 쓰면 한 묶음의 어레이([])로 담기고\n",
        "                            # 변수를 , 구분 원소만큼 넣으면 각 변수에 1원소가 담긴다 \n",
        "tn,fp,fn,tp=confusion_matrix(y_t,y_p).ravel()        \n",
        "tn,fp,fn,tp"
      ],
      "metadata": {
        "id": "_d2xp4oeejhz"
      },
      "execution_count": null,
      "outputs": []
    },
    {
      "cell_type": "code",
      "source": [
        "(tn+tp)/(tn+fp+fn+tp)"
      ],
      "metadata": {
        "id": "uiNiVgc0gQkL"
      },
      "execution_count": null,
      "outputs": []
    },
    {
      "cell_type": "code",
      "source": [
        "# Accuracy (정확도)\n",
        "# TP + TN / TP + TN + FP + FN\n",
        "# 예측성공 / 전체예측에서\n",
        "\n",
        "# Precision (정밀도)\n",
        "# TP / TP + FP\n",
        "# 예측성공 / True로 예측한 것 중 \n",
        "\n",
        "# Recall (민감도,재현율)\n",
        "# TP / TP + FN\n",
        "# 예측성공 / 실제True값이었던 것 중\n",
        "\n",
        "# F1-Score\n",
        "# F1 Score는 Precision과 Recall의 조화평균으로 주로 분류 클래스 간의 데이터가 불균형이 심각할때 사용한다.\n",
        "# 데이터 분류 클래스가 균일하지 못하면 머신러닝 성능을 제대로 나타낼 수 없기 때문에 F1 Score를 사용한다.\n",
        "# F1 Score는 정밀도와 재현율의 조화평균이다.\n",
        "#   2  *  precision+recall   /   precision⋅recall\n",
        "# 높을수록 좋은 모델이다."
      ],
      "metadata": {
        "id": "i2xMJgg1hJ__"
      },
      "execution_count": null,
      "outputs": []
    },
    {
      "cell_type": "code",
      "source": [
        "import numpy as np\n",
        "y_t=np.array([1,0,1,1,0,1])\n",
        "y_p=np.array([0,0,1,1,0,1])\n",
        "\n",
        "print( type(y_t==y_p) )\n",
        "print( y_t==y_p )\n",
        "sum( y_t==y_p )"
      ],
      "metadata": {
        "id": "do95FgdxjsHm"
      },
      "execution_count": null,
      "outputs": []
    },
    {
      "cell_type": "code",
      "source": [
        "len(y_t)"
      ],
      "metadata": {
        "id": "aXE2ph5MhOAU"
      },
      "execution_count": null,
      "outputs": []
    },
    {
      "cell_type": "code",
      "source": [
        "from sklearn.metrics import accuracy_score, precision_score\n",
        "from sklearn.metrics import recall_score, f1_score"
      ],
      "metadata": {
        "id": "Nn1KVqfRlB3P"
      },
      "execution_count": null,
      "outputs": []
    },
    {
      "cell_type": "code",
      "source": [
        "y_t=np.array([1,0,1,1,0,1])\n",
        "y_p=np.array([0,0,1,1,0,1])\n",
        "\n",
        "accuracy_score( y_t , y_p ) #정확도  5/6=0.83333\n",
        "\n",
        "# Accuracy (정확도)\n",
        "# TP + TN / TP + TN + FP + FN\n",
        "# 예측성공 / 전체예측에서"
      ],
      "metadata": {
        "id": "Alwfl9iKlTUj"
      },
      "execution_count": null,
      "outputs": []
    },
    {
      "cell_type": "code",
      "source": [
        "precision_score( y_t , y_p ) #정밀도\n",
        "\n",
        "# Precision (정밀도)\n",
        "# TP / TP + FP\n",
        "# 예측성공 / True로 예측한 것 중 "
      ],
      "metadata": {
        "id": "04GsOofGlfg3"
      },
      "execution_count": null,
      "outputs": []
    },
    {
      "cell_type": "code",
      "source": [
        "recall_score(y_t,y_p) #민감도,재현율\n",
        "\n",
        "# Recall (민감도,재현율)\n",
        "# TP / TP + FN\n",
        "# 예측성공 / 실제True값이었던 것 중\n"
      ],
      "metadata": {
        "id": "Mbfa7P99madC"
      },
      "execution_count": null,
      "outputs": []
    },
    {
      "cell_type": "code",
      "source": [
        "f1_score(y_t,y_p)#F1스코어\n",
        "\n",
        "# F1-Score\n",
        "# F1 Score는 Precision과 Recall의 조화평균으로 주로 분류 클래스 간의 데이터가 불균형이 심각할때 사용한다.\n",
        "# 데이터 분류 클래스가 균일하지 못하면 머신러닝 성능을 제대로 나타낼 수 없기 때문에 F1 Score를 사용한다.\n",
        "# F1 Score는 정밀도와 재현율의 조화평균이다.\n",
        "#   2  *  precision+recall   /   precision⋅recall\n",
        "# 높을수록 좋은 모델이다."
      ],
      "metadata": {
        "id": "kMDDxxjOm0ed"
      },
      "execution_count": null,
      "outputs": []
    },
    {
      "cell_type": "code",
      "source": [
        "import pandas as pd\n",
        "data_url= \"http://www-stat.wharton.upenn.edu/~waterman/DataSets/uva.txt\"\n",
        "\n",
        "df = pd.read_table(data_url)\n",
        "df"
      ],
      "metadata": {
        "id": "L3QPFi5fpS7I"
      },
      "execution_count": null,
      "outputs": []
    },
    {
      "cell_type": "code",
      "source": [
        "df.pop('who')                     # 데이터.pop('시리즈')   시리즈 빼기\n",
        "df.pop('Country')\n",
        "df.pop('Years on Internet')\n",
        "df"
      ],
      "metadata": {
        "id": "QKuDxfhbqI56"
      },
      "execution_count": null,
      "outputs": []
    },
    {
      "cell_type": "code",
      "source": [
        "df.dtypes"
      ],
      "metadata": {
        "id": "bvh85SU_qVgE"
      },
      "execution_count": null,
      "outputs": []
    },
    {
      "cell_type": "code",
      "source": [
        "df['Household Income']\n"
      ],
      "metadata": {
        "id": "5fiLDHbwrQwu"
      },
      "execution_count": null,
      "outputs": []
    },
    {
      "cell_type": "code",
      "source": [
        "df[['Household Income']]  # [ ] 로 한번더 감싸야 시리즈이름까지 나온다"
      ],
      "metadata": {
        "id": "dNx1RZ0KrZW6"
      },
      "execution_count": null,
      "outputs": []
    },
    {
      "cell_type": "code",
      "source": [
        "d=df[['Gender']]\n",
        "d"
      ],
      "metadata": {
        "id": "M1fu9rFarh2b"
      },
      "execution_count": null,
      "outputs": []
    },
    {
      "cell_type": "code",
      "source": [
        "d=df[['Gender']]\n",
        "d['Household Income ']=df['Household Income']  # [['Household Income']] 으로하면 시리즈이름까지 가지고 온다   "
      ],
      "metadata": {
        "id": "aiCrDwecsfCL"
      },
      "execution_count": null,
      "outputs": []
    },
    {
      "cell_type": "code",
      "source": [
        "d"
      ],
      "metadata": {
        "id": "VFbQp5_jt2B8"
      },
      "execution_count": null,
      "outputs": []
    },
    {
      "cell_type": "code",
      "source": [
        "d.dtypes\n"
      ],
      "metadata": {
        "id": "2L1mKqxZuAZ0"
      },
      "execution_count": null,
      "outputs": []
    },
    {
      "cell_type": "code",
      "source": [
        "d['Gender']=d['Gender'].astype('category')      # astype 타입을 바꿔준다"
      ],
      "metadata": {
        "id": "KWfB4Yb3trKz"
      },
      "execution_count": null,
      "outputs": []
    },
    {
      "cell_type": "code",
      "source": [
        "d.dtypes"
      ],
      "metadata": {
        "id": "8kuMgPcLuMR_"
      },
      "execution_count": null,
      "outputs": []
    },
    {
      "cell_type": "code",
      "source": [
        "d_o_h=pd.get_dummies(d)  #겟_더미스(데이터)   밸류값들은 시리즈로 올려서 밸류값이 0과1로 표현될 수 있게 만든다 = 원핫 인코딩"
      ],
      "metadata": {
        "id": "VtkFSCHcuSaF"
      },
      "execution_count": null,
      "outputs": []
    },
    {
      "cell_type": "code",
      "source": [
        "d_o_h"
      ],
      "metadata": {
        "id": "gjPDIMEmuet_"
      },
      "execution_count": null,
      "outputs": []
    },
    {
      "cell_type": "code",
      "source": [
        "d_o_h.dtypes"
      ],
      "metadata": {
        "id": "lovFaJJqua7o"
      },
      "execution_count": null,
      "outputs": []
    },
    {
      "cell_type": "code",
      "source": [
        "df"
      ],
      "metadata": {
        "id": "hAwBL6ixvdIc"
      },
      "execution_count": null,
      "outputs": []
    },
    {
      "cell_type": "code",
      "source": [
        "df_o_h = pd.get_dummies(df)\n",
        "df_o_h.shape    # 데이터.shape    행,열 로 표현"
      ],
      "metadata": {
        "id": "runrcpfouxvb"
      },
      "execution_count": null,
      "outputs": []
    },
    {
      "cell_type": "code",
      "source": [
        "df_o_h.isnull() # 결측지가 있는 곳에 True를 넣어서 보여준다"
      ],
      "metadata": {
        "id": "6ic-gtMjvkrX"
      },
      "execution_count": null,
      "outputs": []
    },
    {
      "cell_type": "code",
      "source": [
        "df_o_h.isnull().sum()    # 시리즈별 결측치의 개수를 보여준다"
      ],
      "metadata": {
        "id": "17zDIXVpvs2l"
      },
      "execution_count": null,
      "outputs": []
    },
    {
      "cell_type": "code",
      "source": [
        "df_o_h.isnull().sum()/len(df_o_h)      #결측지가 2.86 프로 있다는 것을 보여준다"
      ],
      "metadata": {
        "id": "GKbAttw5v4jN"
      },
      "execution_count": null,
      "outputs": []
    },
    {
      "cell_type": "code",
      "source": [
        "df_o_h.loc[pd.isnull(df_o_h['Age']),'Age']=df_o_h['Age'].mean()"
      ],
      "metadata": {
        "id": "mVieYK37wmZx"
      },
      "execution_count": null,
      "outputs": []
    },
    {
      "cell_type": "code",
      "source": [
        "df_o_h.loc [      pd.isnull(df_o_h['Age'])       ,       'Age'        ]  =   df_o_h['Age'].mean()\n",
        "#              age시리즈에있는 결측치 컴마 에이지시리즈 요기에      나이 평균값을 넣어서 채워준다"
      ],
      "metadata": {
        "id": "k6aot6zWwzIv"
      },
      "execution_count": null,
      "outputs": []
    },
    {
      "cell_type": "code",
      "source": [
        "df_o_h['Age']"
      ],
      "metadata": {
        "id": "qXV0VbP1w2Oc"
      },
      "execution_count": null,
      "outputs": []
    },
    {
      "cell_type": "code",
      "source": [
        "df_o_h['Age'].mean()"
      ],
      "metadata": {
        "id": "ZKl4a4mkw81S"
      },
      "execution_count": null,
      "outputs": []
    },
    {
      "cell_type": "code",
      "source": [
        "df_o_h"
      ],
      "metadata": {
        "id": "AGc79EAwzf_O"
      },
      "execution_count": null,
      "outputs": []
    },
    {
      "cell_type": "code",
      "source": [
        "#   loc 는 좌표점을 행열의 네임으로 뽑는다\n",
        "#   iloc 는 좌표점ㅇㄹ 인덱스 즉 숫자로만 뽑는다\n",
        "\n",
        "x_data  =  df_o_h.iloc[:,1:].values         # 행은 전부  , 열은 1부터 전부   > 인풋\n",
        " \n",
        "y_data=df_o_h.iloc[:,0].values  # 행은 전부 열은 0 인덱스만    >   아웃풋\n",
        "\n",
        "x_data.shape,   y_data.shape    # 행이 같다 : 인풋과 아웃풋의 데이터 수가 같다 - 반드시 같아야 한다\n",
        "                    "
      ],
      "metadata": {
        "id": "LBRA8dEnxAZr"
      },
      "execution_count": null,
      "outputs": []
    },
    {
      "cell_type": "code",
      "source": [
        "from sklearn.preprocessing import MinMaxScaler\n",
        "from sklearn.model_selection import train_test_split\n",
        "\n",
        "m_x_data = MinMaxScaler()\n",
        "\n",
        "ck_data = m_x_data.fit_transform(x_data)     #인풋 기준 민맥스 스케일러로 피팅 후 스케일링함\n",
        "\n",
        "t_x,  tt_x,  t_y,  tt_y   =   train_test_split ( ck_data, y_data, test_size=0.3, random_state=42 )\n",
        "  # 믹맥스스케일링한 인풋과    그냥 와이풋을 스플릿 했다\n"
      ],
      "metadata": {
        "id": "c_ySLxqy2k32"
      },
      "execution_count": null,
      "outputs": []
    },
    {
      "cell_type": "code",
      "source": [
        "t_x.shape,t_y.shape  #쉐입항상확인!"
      ],
      "metadata": {
        "id": "H1MZeWpO37iJ"
      },
      "execution_count": null,
      "outputs": []
    },
    {
      "cell_type": "code",
      "source": [
        "from sklearn.linear_model import LogisticRegression\n",
        "logrg = LogisticRegression()     # 로지스틱 리그레션 회귀\n",
        "logrg.fit(t_x,t_y)   #트레인데이터 스플릿한 거 로지스틱회귀로 핏"
      ],
      "metadata": {
        "id": "aRP9m0Mx3_YO"
      },
      "execution_count": null,
      "outputs": []
    },
    {
      "cell_type": "code",
      "source": [
        "tt_y[:5]   # 테스트데이터의 0~5      0~4    초 5개 뽑기"
      ],
      "metadata": {
        "id": "iQekm5oR2nKE"
      },
      "execution_count": null,
      "outputs": []
    },
    {
      "cell_type": "code",
      "source": [
        "logrg.predict(tt_x[:5])   # 5문제 기준 로지스틱으로 2개를 맞췄다"
      ],
      "metadata": {
        "id": "E8KDNg3f5TN5"
      },
      "execution_count": null,
      "outputs": []
    },
    {
      "cell_type": "code",
      "source": [
        "logrg.predict_proba(tt_x[:5])\n",
        "#.predict_proba(X) 는 0과1의 예측확률이다   아래 출력을 보면 왼쪽의 확률이 전부 50프로를 넘어서 0 0 0 0 0 을 예측했다\n",
        "# 왼쪽과 오른쪽의 합은 항상 1\n"
      ],
      "metadata": {
        "id": "vAAma9-B5pTg"
      },
      "execution_count": null,
      "outputs": []
    },
    {
      "cell_type": "code",
      "source": [
        "y_t  =  tt_y.copy()   # 말 그대로 카피다\n",
        "y_p  =  logrg.predict(tt_x)    # 로지스틱리그레션으로 예측한 인풋 tt_x(테스트데이터)에 대한 아웃풋"
      ],
      "metadata": {
        "id": "aBLenlJ77jzL"
      },
      "execution_count": null,
      "outputs": []
    },
    {
      "cell_type": "code",
      "source": [
        "tt_y"
      ],
      "metadata": {
        "id": "gq_5PMRv79un"
      },
      "execution_count": null,
      "outputs": []
    },
    {
      "cell_type": "code",
      "source": [
        "y_t"
      ],
      "metadata": {
        "id": "lBHnY7In7_hq"
      },
      "execution_count": null,
      "outputs": []
    },
    {
      "cell_type": "code",
      "source": [
        "confusion_matrix(y_t,y_p)  # y_t  =  tt_y.copy()  테스트데이터의 아웃풋\n",
        "                           # y_p  =  logrg.predict(tt_x)  그것을 예측한 값\n",
        "                           "
      ],
      "metadata": {
        "id": "KGroLy5j9AIG"
      },
      "execution_count": null,
      "outputs": []
    },
    {
      "cell_type": "code",
      "source": [
        "accuracy_score(y_t,y_p)\n",
        "\n",
        "# Accuracy (정확도)\n",
        "# TP + TN / TP + TN + FP + FN\n",
        "# 예측성공 / 전체예측에서\n",
        "\n",
        "# Precision (정밀도)\n",
        "# TP / TP + FP\n",
        "# 예측성공 / True로 예측한 것 중 \n",
        "\n",
        "# Recall (민감도,재현율)\n",
        "# TP / TP + FN\n",
        "# 예측성공 / 실제True값이었던 것 중\n",
        "\n",
        "# F1-Score\n",
        "# F1 Score는 Precision과 Recall의 조화평균으로 주로 분류 클래스 간의 데이터가 불균형이 심각할때 사용한다.\n",
        "# 데이터 분류 클래스가 균일하지 못하면 머신러닝 성능을 제대로 나타낼 수 없기 때문에 F1 Score를 사용한다.\n",
        "# F1 Score는 정밀도와 재현율의 조화평균이다.\n",
        "#   2  *  precision+recall   /   precision⋅recall\n",
        "# 높을수록 좋은 모델이다."
      ],
      "metadata": {
        "id": "Id1ayp0p8wiW"
      },
      "execution_count": null,
      "outputs": []
    },
    {
      "cell_type": "code",
      "source": [
        "import pandas as pd\n",
        "\n",
        "fish = pd.read_csv('https://bit.ly/fish_csv')\n",
        "fish"
      ],
      "metadata": {
        "id": "9jJCrCGT9BKO"
      },
      "execution_count": null,
      "outputs": []
    },
    {
      "cell_type": "code",
      "source": [
        "pd.unique(fish['Species'])  #유니크   열에 있는 밸류값들의 종류를 확인한다"
      ],
      "metadata": {
        "id": "YmtltKlk884A"
      },
      "execution_count": null,
      "outputs": []
    },
    {
      "cell_type": "code",
      "source": [
        "y_data=fish['Species']    # 아웃풋 지정\n",
        "y_data.shape             "
      ],
      "metadata": {
        "id": "r16Ha6pk-WXf"
      },
      "execution_count": null,
      "outputs": []
    },
    {
      "cell_type": "code",
      "source": [
        "fish = pd.read_csv('https://bit.ly/fish_csv')\n",
        "fish\n",
        "\n",
        "fish.pop('Species')  \n",
        "fish  #  빠져있다 팝은  원본까지 바로 수정이 된다"
      ],
      "metadata": {
        "id": "fV--Lb7I-9uV"
      },
      "execution_count": null,
      "outputs": []
    },
    {
      "cell_type": "code",
      "source": [
        "x_data=fish  #원본데이터에서 아웃풋을 빼고 그것을 x_data로 지정 즉 인풋\n",
        "x_data\n",
        "#  인풋 x_data 아웃풋 y_data "
      ],
      "metadata": {
        "id": "NeYZNutM_JQD"
      },
      "execution_count": null,
      "outputs": []
    },
    {
      "cell_type": "code",
      "source": [
        "y_data"
      ],
      "metadata": {
        "id": "TtYFEvU7AwMU"
      },
      "execution_count": null,
      "outputs": []
    },
    {
      "cell_type": "code",
      "source": [
        " \n",
        "y_data=='Bream'\n"
      ],
      "metadata": {
        "id": "wvFmN-Lf_2-B"
      },
      "execution_count": null,
      "outputs": []
    },
    {
      "cell_type": "code",
      "source": [
        "y_data=='Smelt'"
      ],
      "metadata": {
        "id": "aNkCtSbfAf-c"
      },
      "execution_count": null,
      "outputs": []
    },
    {
      "cell_type": "code",
      "source": [
        "b_i = (y_data=='Bream') | (y_data=='Smelt')      # | 는 or의 의미  \n",
        "b_i , "
      ],
      "metadata": {
        "id": "AfRXQwlcAprz"
      },
      "execution_count": null,
      "outputs": []
    },
    {
      "cell_type": "code",
      "source": [
        "y_data"
      ],
      "metadata": {
        "id": "FNJG-AevCGWn"
      },
      "execution_count": null,
      "outputs": []
    },
    {
      "cell_type": "code",
      "source": [
        "\n",
        "tr_y_data=y_data[b_i]          # b_i는 트루or폴스 데이터다   y_data에서   트루인 곳만 뽑앗다  그래서 데이터가 159에서 49로 줄었다 \n",
        "tr_y_data,   tr_y_data.shape\n"
      ],
      "metadata": {
        "id": "z9LCek4QA1f-"
      },
      "execution_count": null,
      "outputs": []
    },
    {
      "cell_type": "code",
      "source": [
        "tr_x_data=x_data[b_i]\n",
        "tr_x_data.head(), tr_x_data.shape    #      결과적으로 아웃풋은   Bream 이랑 Smelt 이진분류형이 되었고 인풋 또한 그대로 뽑아오면서 49행을 맞췄다 "
      ],
      "metadata": {
        "id": "25oX3iL2CdAz"
      },
      "execution_count": null,
      "outputs": []
    },
    {
      "cell_type": "code",
      "source": [
        "from sklearn.preprocessing import StandardScaler\n",
        "s_x_data=StandardScaler().fit_transform(tr_x_data)  \n",
        "s_x_data   # 스케일러변수를 따로 선언안하고 바로 이렇게하면 바로 들어간다   \n",
        "# 스케일링한 인풋데이터"
      ],
      "metadata": {
        "id": "wpBh3pXpDBE7"
      },
      "execution_count": null,
      "outputs": []
    },
    {
      "cell_type": "code",
      "source": [
        "t_x,tt_x,t_y,tt_y=train_test_split(s_x_data,tr_y_data,test_size=0.3,random_state=42)"
      ],
      "metadata": {
        "id": "un2Tu6UOExOd"
      },
      "execution_count": null,
      "outputs": []
    },
    {
      "cell_type": "code",
      "source": [
        "lorg=LogisticRegression()\n",
        "lorg.fit(t_x,t_y)\n"
      ],
      "metadata": {
        "id": "KN7iFadhEzDl"
      },
      "execution_count": null,
      "outputs": []
    },
    {
      "cell_type": "code",
      "source": [
        "lorg.predict(tt_x[:10]) # 테스트x데이터로 예측한 y를  0~9인덱    10개 뽑는다"
      ],
      "metadata": {
        "id": "oXG6X4euFVEU"
      },
      "execution_count": null,
      "outputs": []
    },
    {
      "cell_type": "code",
      "source": [
        "lorg.predict_proba(tt_x[:10])  # 예측의 확률이다   왼쪽이 높으면 Bream 값을  오른쪽이 높으면 Smelt 를 예측한다"
      ],
      "metadata": {
        "id": "lC1Yln5XFsZK"
      },
      "execution_count": null,
      "outputs": []
    },
    {
      "cell_type": "code",
      "source": [
        "lorg.coef_  # 기울기 w 세타"
      ],
      "metadata": {
        "id": "GfCWgJvWITwY"
      },
      "execution_count": null,
      "outputs": []
    },
    {
      "cell_type": "code",
      "source": [
        "f_end=lorg.decision_function(tt_x[:10])\n",
        "f_end   #결정함수\n",
        "# predict_proba 랑 비슷하다   값의 음/양에 따라 예측y가 갈린다\n",
        "# 음의 경우 predict_proba 에서 왼쪽 값이다"
      ],
      "metadata": {
        "id": "myDsQBRjI1y6"
      },
      "execution_count": null,
      "outputs": []
    },
    {
      "cell_type": "code",
      "source": [
        "from scipy.special import expit  # 결정함수를 받아서 원소별 1값의 확률을 계산한다\n",
        "expit(f_end)                     # Smelt 가 뽑힐 확률을 보여주는 것이다"
      ],
      "metadata": {
        "id": "89WErWm5Le9q"
      },
      "execution_count": null,
      "outputs": []
    },
    {
      "cell_type": "code",
      "source": [
        "x_data"
      ],
      "metadata": {
        "id": "n9APRUcwZjoh"
      },
      "execution_count": null,
      "outputs": []
    },
    {
      "cell_type": "code",
      "source": [
        "a_tr_x=StandardScaler().fit_transform(x_data)\n",
        "t_x,tt_x,t_y,tt_y=train_test_split(a_tr_x,y_data,test_size=0.3,random_state=42)"
      ],
      "metadata": {
        "id": "AxW4EKbaMdZW"
      },
      "execution_count": null,
      "outputs": []
    },
    {
      "cell_type": "code",
      "source": [
        ""
      ],
      "metadata": {
        "id": "ghavK8mMU7Eg"
      },
      "execution_count": null,
      "outputs": []
    }
  ]
}