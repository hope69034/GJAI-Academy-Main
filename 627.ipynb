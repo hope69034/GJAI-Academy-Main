{
  "nbformat": 4,
  "nbformat_minor": 0,
  "metadata": {
    "colab": {
      "name": "627",
      "provenance": [],
      "collapsed_sections": []
    },
    "kernelspec": {
      "name": "python3",
      "display_name": "Python 3"
    },
    "language_info": {
      "name": "python"
    }
  },
  "cells": [
    {
      "cell_type": "code",
      "execution_count": null,
      "metadata": {
        "id": "gtjHSVjgdx5V"
      },
      "outputs": [],
      "source": [
        "잇으면슬수잇고없으면못슨다\n",
        "접근할수잇으면잇는거고접근할수없으면없는거다"
      ]
    },
    {
      "cell_type": "code",
      "source": [
        "이스케이프문자   \\역슬래시\n",
        "\\ 아랫줄올리기\n",
        "\\n 엔터\n",
        "\\b 백스페이스\n",
        "\\t 탭 줄맞춤\n",
        "\\\\   문자\\\n",
        "\\'   '\n",
        "\\r 줄 바꿈, 커서를 앞으로 이동\n",
        "\\f 줄 바꿈, 커서를 다음 줄로 이동"
      ],
      "metadata": {
        "id": "yJ0vRXKuj41i"
      },
      "execution_count": null,
      "outputs": []
    },
    {
      "cell_type": "code",
      "source": [
        "영역\n",
        "\n",
        "스택                                                 힙\n",
        "기본                                               저장\n",
        "               "
      ],
      "metadata": {
        "id": "pWI6dyJumLKp"
      },
      "execution_count": null,
      "outputs": []
    },
    {
      "cell_type": "code",
      "source": [
        "n=int(input(\"n:\"))#입력 data갯수 결정\n",
        "n_l=[]#입력data 저장용 list\n",
        "while True:#단일 다중 입력 장치   무한루프와일트루\n",
        "  입력=input(\"점수입력기(구분자 ' '):\").split()#lst->원소의 갯수  스플: 구분자 공백 기준으로 문자열 자르기\n",
        "  #스플릿때문에 (인풋)문자열에서 리스트자료형으로 변화 ( .스플릿 시 원소가1개여도 리스트로)\n",
        "   # 이 리스트의 원소는 문자열\n",
        "  if len(입력)>1:#다중입력장치   \n",
        "    n_l.extend(list(map(int,입력))[:n])#다중입력시 최대 n개 까지 입력\n",
        "  else:\n",
        "    n_l.append(int(입력[0]))#단일 입력시 list의 원소 1개만 전달\n",
        "  if len(n_l)>=n:#전체 길이 확인\n",
        "    n_l=n_l[:n]#무조건 data는 n개 입력\n",
        "    break\n",
        "for i in range(len(n_l)):\n",
        "  if n_l[i] <0:#음수 확인\n",
        "    n_l=n_l[:i]#음수시 슬라이싱 및 원본갱신\n",
        "    break\n",
        "print(type(max(n_l)))    \n",
        "print(f\"최고점수:{max(n_l)}\")#리스트내부의 최대값 도출\n",
        "print(f\"최저점수:{min(n_l)}\")#리스트내부의 최소값도출\n",
        "print(f\"평균점수:{sum(n_l)/len(n_l)}\")#리스트내부의 모든\n",
        "print(n_l)"
      ],
      "metadata": {
        "colab": {
          "base_uri": "https://localhost:8080/"
        },
        "id": "McVrqu2noX6q",
        "outputId": "ad184682-9279-4dd8-d102-6eb68655b869"
      },
      "execution_count": 25,
      "outputs": [
        {
          "output_type": "stream",
          "name": "stdout",
          "text": [
            "n:3\n",
            "점수입력기(구분자 ' '):10\n",
            "점수입력기(구분자 ' '):20\n",
            "점수입력기(구분자 ' '):30\n",
            "<class 'int'>\n",
            "최고점수:30\n",
            "최저점수:10\n",
            "평균점수:20.0\n",
            "[10, 20, 30]\n"
          ]
        }
      ]
    },
    {
      "cell_type": "code",
      "source": [
        "inp_행, inp_열 = map(int,input(\"행과 열을 공백으로 구분하여 입력하세요.: \").split(' '))\n",
        "\n",
        "for a in range(1,inp_행+1) :        # 1 2 3 4 행 선언 # 행만큼 실행하기위한 \n",
        "    for j in range(1,inp_열+1) :\n",
        "        print(i*j, end=' ')\n",
        "    print()     \n"
      ],
      "metadata": {
        "colab": {
          "base_uri": "https://localhost:8080/"
        },
        "id": "3-6A4GXYwk3y",
        "outputId": "c68d70ba-09c3-4fa2-fd79-02cf9991870b"
      },
      "execution_count": 22,
      "outputs": [
        {
          "output_type": "stream",
          "name": "stdout",
          "text": [
            "행과 열을 공백으로 구분하여 입력하세요.: 4 5\n",
            "1 2 3 4 5 \n",
            "1 2 3 4 5 \n",
            "1 2 3 4 5 \n",
            "1 2 3 4 5 \n"
          ]
        }
      ]
    },
    {
      "cell_type": "code",
      "source": [
        "# 오른쪽으로 정렬해서 고정길이 10자리로 보여주는 것은 어떨까요?\n",
        "\n",
        "# \"{변수명:>자리수}\"형태로 입력하면 더 가독성있게 만들 수 있습니다.\n",
        "\n",
        "aa = [2, 30, 500]\n",
        "for a in aa:\n",
        "    print(f\"{a:>10}$\")"
      ],
      "metadata": {
        "colab": {
          "base_uri": "https://localhost:8080/"
        },
        "id": "1_0UeJT03Ywe",
        "outputId": "56ce7406-abe1-44a7-dc6a-acd313df1596"
      },
      "execution_count": 24,
      "outputs": [
        {
          "output_type": "stream",
          "name": "stdout",
          "text": [
            "         2$\n",
            "        30$\n",
            "       500$\n"
          ]
        }
      ]
    },
    {
      "cell_type": "code",
      "source": [
        "# 파이썬리스트피디에프\n",
        "#1. 100개의 정수를 저장할 수 있는 배열을 선언하고 정수를 차례대로 입력받다가 0이 입력\n",
        "# 되면 입력을 종료한다. 0을 제외하고 입력받은 수를 가장 나중에 입력된 정수부터 차례대\n",
        "# 로 출력하는 프로그램을 만드시오. 입력\n",
        "# 3 5 10 55 4 0\n",
        "# 출력\n",
        "# 4 55 10 5 3\n",
        "b=[]\n",
        "#100개초과하는 인풋은 브레이크\n",
        "c=[ 0 for _ in range(100) ]  # == [0]* 100\n",
        "while True : \n",
        "    a = int(input('정수1개입력'))\n",
        "    if a == 0 :\n",
        "        break\n",
        "    else:    \n",
        "        c.append(a)\n",
        "        if c[100]==True :\n",
        "             b.append(a) \n",
        "print(list(reversed(b)))\n",
        "\n",
        "\n",
        "\n",
        "\n",
        "\n",
        "# l= [ 0 for i in range(100) ]  # [ 영]은 정수가 비어잇다 [0,0,0,0,0,0]\n",
        "#l= [ 0 for _ in range(100) ]  # # 변수i룰선언하지않겟다[편의성]\n",
        "\n",
        "#l2 =[i for i in range(100)]\n",
        "\n",
        "#l=[0]* 100 # 영백개 리스트생성  단 1차원리스트만가능\n",
        "\n",
        "\n",
        "\n",
        "\n",
        "\n",
        "\n",
        "\n",
        "\n",
        "\n",
        "\n",
        "\n",
        "\n",
        "\n",
        "#111111111111111111111111111111111111111111111111111111\n",
        "#tnltnlq쉽게코드완성조건은입력시반드시일개씩만입력한다\n",
        "l=[]\n",
        "for i in range(100)\n",
        "    n=int(input('정수1개입력'))\n",
        "    if n==0:\n",
        "        break\n",
        "        # data가 100개 저장된 리스트 만들어짐 /  0입력 직전의 리스트가 만들어짐\n",
        "print(l[::-1])             #뒤집어출력\n",
        "#1111111111111111111111111111111111111111111\n",
        "\n",
        "#다중입력과 단일입력 두가지를 동시에 제공하는 프로그램\n",
        "# 인풋한번에받기exend\n",
        "l2=[]\n",
        "for i in range(100):\n",
        "    in_data= list(map(int,input('정수 입력 구분자는 공백 :').split()))\n",
        "    if len(in_data) > 1:  #인풋 수  #단일입력인지 다중입력인지 확인  참이면 다중\n",
        "        if 0 in in_data :\n",
        "            l2.extend(in_data[:in_data.index(0)])    # 리스ㅌ.index[a] 라수투애0 a가 존재,        #extend하나씩꺼내서추가\n",
        "             # 0까지 잘라넣겟다 엘투에\n",
        "            break #반복루프탈\n",
        "        else: \n",
        "            l2.extend(in_data)   # 0이없다면 최대100개가능\n",
        "            if len(l2)>=100 :\n",
        "                l2=l2[:100]   #엘투  에잇는 0없는  100개의원소 슬라이스 \n",
        "                break\n",
        "    else:#단입입력시조건\n",
        "        #영인지아닌지확인필ㅇ7\n",
        "       # ck=in_data[0]    # 인풋의리스트데이터의첫인덱스- 단일입력이니까 첫인덱하나\n",
        "        if in_data == 0 :\n",
        "            break\n",
        "        else :\n",
        "             l2.append(in_data)   \n",
        "    if len(l2)>=100:\n",
        "        l2=l2[:100]\n",
        "        break                 \n",
        "print(l2[::-1])\n",
        "# break 반복 루프를 브레이크 반복문 열견된 것 전부 탈출  if if if 전부\n",
        "\n",
        "\n",
        "\n"
      ],
      "metadata": {
        "colab": {
          "base_uri": "https://localhost:8080/"
        },
        "id": "lH7gFZhC8IwB",
        "outputId": "e4875ed5-563c-4e47-bb68-fd5efa6045a3"
      },
      "execution_count": 58,
      "outputs": [
        {
          "output_type": "stream",
          "name": "stdout",
          "text": [
            "1\n",
            "2\n",
            "3\n",
            "0\n",
            "[3, 2, 1]\n"
          ]
        }
      ]
    },
    {
      "cell_type": "code",
      "source": [
        "# 2. . 10개의 정수를 입력받아 배열에 저장한다. 0~50 사이의 숫자, 51~100 사이의 숫자, 101 \n",
        "# 이상의 숫자를 분류해서 출력하는 프로그램을 만드시오. 입력\n",
        "# 8 98 1 56 23 159 200 12 52 76\n",
        "# 출력\n",
        "# 0~50 숫자 : 8 1 23 12\n",
        "# 51~100 숫자 : 98 56 52 76\n",
        "# 101 이상 숫자 : 159 200\n",
        "\n",
        "list1 =[] #10개의인풋값리스트로\n",
        "a=[]\n",
        "b=[]\n",
        "c=[]\n",
        "aa,bb,cc,dd,ee,ff, gg,hh,ii,jj = map(int,input('0이상의 10개의정수띄어쓰기로구분하여입력:').split())\n",
        "list1= [aa,bb,cc,dd,ee,ff, gg,hh,ii,jj]\n",
        "for x in list1 :\n",
        "    if 0 <= x <50:\n",
        "        a.append(x)\n",
        "        \n",
        "    elif 50 <= x <100:\n",
        "        b.append(x)\n",
        "    elif 100 <= x :\n",
        "        c.append(x)\n",
        "    else: \n",
        "        print('0이상의 정수가 아닌 것이 있습니다')\n",
        "        break\n",
        "print('0~50수:',a )\n",
        "print('50~100수:',b )\n",
        "print('100이성수:',c )\n",
        "\n",
        "\n",
        "\n",
        "for i in range(10):\n",
        "    n=int(input('정수1개입력:'))\n",
        "    if 0 <= n <50:\n",
        "        a.append(n)\n",
        "        \n",
        "    elif 50 <= n <100:\n",
        "        b.append(n)\n",
        "    elif 100 <= n :\n",
        "        c.append(n)\n",
        "    else: \n",
        "        print('0이상의 정수가 아닌 것이 있습니다')\n",
        "        break\n",
        "print('0~50수:',a )\n",
        "print('50~100수:',b )\n",
        "print('100이성수:',c )"
      ],
      "metadata": {
        "colab": {
          "base_uri": "https://localhost:8080/"
        },
        "id": "QTM38QzC-hBz",
        "outputId": "7b22120a-22dc-4675-e26e-03b0197cafea"
      },
      "execution_count": 50,
      "outputs": [
        {
          "output_type": "stream",
          "name": "stdout",
          "text": [
            "0이상의 10개의정수띄어쓰기로구분하여입력:8 98 1 56 23 159 200 12 52 76\n",
            "0~50수: [8, 1, 23, 12]\n",
            "50~100수: [98, 56, 52, 76]\n",
            "100이성수: [159, 200]\n"
          ]
        }
      ]
    },
    {
      "cell_type": "code",
      "source": [
        "l=[0]*100         0을백번입력\n",
        "l2= [0 for _ in range(100)] 하나씩 100번 넣기  실행 100번   \n",
        "l3 = [[0]]*10            [0]을백개\n",
        "l4= [[0] for _ in range(100)]      2차원으로  [0] 원소가100개  실행100번\n",
        "\n",
        "l=[0]*10\n",
        "2\tl2= [0 for _ in range(10)]\n",
        "3\tl3 = [[0]]*10\n",
        "4\tl4= [[0] for _ in range(10)]\n",
        "파이튜터"
      ],
      "metadata": {
        "id": "KAY-7dPzHv2U"
      },
      "execution_count": null,
      "outputs": []
    },
    {
      "cell_type": "code",
      "source": [
        "\n",
        "\n",
        "a=[0]\n",
        "type(str(a))\n",
        "#len(str(a))\n",
        "int(str(a))\n",
        "\n",
        "int() 괄호안에 숫자인 스트링\n",
        "int( '[0]') 은 스트링이지만   숫자 아님      괄호+0+괄호라 숫자로 못 바꿈\n",
        "\n",
        "\n",
        "\n",
        "\n",
        "\n",
        "\n"
      ],
      "metadata": {
        "id": "S9JurbarJILs"
      },
      "execution_count": null,
      "outputs": []
    },
    {
      "cell_type": "code",
      "source": [
        "a=[1,2]\n",
        "print(max(a))\n",
        "print(type(max(a)))  # max(a) 타입 인트\n",
        "print(f'{max(a)}' )\n",
        "k=max(a)\n",
        "print(f'{k}' )\n",
        "print(f'{2}' )\n",
        "#{ } 변수, 인트-인트는그대로\n",
        "\n",
        "print(f'{2}' )\n",
        "print(f'{3+4}' )\n",
        "print(type(f'{3+4}'))  #스트링\n",
        "\n",
        "print(f'{3+4+max(a)+min(a)}' )\n",
        "\n",
        "print(type(f'{ max(a) + 1    ,    2 }' ))  #스트링 \n",
        "print(f'{ max(a) + 1,2 }' )\n",
        "\n",
        "\n",
        "p=(1,2)\n",
        "print(type(p)) #튜플\n",
        "\n",
        "#t=f\"{ max(a) + 1    ,2 ,sep='' }\"\n",
        "type(t) #str\n",
        "print(t)\n",
        "\n",
        "a='(3, 2)'\n",
        "print(a)\n",
        "type(a)"
      ],
      "metadata": {
        "colab": {
          "base_uri": "https://localhost:8080/"
        },
        "id": "mjTlNc6xWysP",
        "outputId": "7fd3e83d-2adc-4f50-9a12-ef72524eaeb6"
      },
      "execution_count": 108,
      "outputs": [
        {
          "output_type": "stream",
          "name": "stdout",
          "text": [
            "2\n",
            "<class 'int'>\n",
            "2\n",
            "2\n",
            "2\n",
            "2\n",
            "7\n",
            "<class 'str'>\n",
            "10\n",
            "<class 'str'>\n",
            "(3, 2)\n",
            "<class 'tuple'>\n",
            "(3, 2)\n",
            "(3, 2)\n"
          ]
        },
        {
          "output_type": "execute_result",
          "data": {
            "text/plain": [
              "str"
            ]
          },
          "metadata": {},
          "execution_count": 108
        }
      ]
    },
    {
      "cell_type": "code",
      "source": [
        "print(f\"{2,end=''}\" )"
      ],
      "metadata": {
        "colab": {
          "base_uri": "https://localhost:8080/",
          "height": 136
        },
        "id": "3naMlJrlc0m9",
        "outputId": "2158ec7a-c0d7-46fd-c782-fe566135fc87"
      },
      "execution_count": 110,
      "outputs": [
        {
          "output_type": "error",
          "ename": "SyntaxError",
          "evalue": "ignored",
          "traceback": [
            "\u001b[0;36m  File \u001b[0;32m\"<fstring>\"\u001b[0;36m, line \u001b[0;32m1\u001b[0m\n\u001b[0;31m    (2,end='')\u001b[0m\n\u001b[0m          ^\u001b[0m\n\u001b[0;31mSyntaxError\u001b[0m\u001b[0;31m:\u001b[0m invalid syntax\n"
          ]
        }
      ]
    },
    {
      "cell_type": "code",
      "source": [
        "r=[1,223]\n",
        "type(f'{max(r)}')  # str\n",
        "len(f'{max(r)}')                        #f스트링 '' 값은 전부 str타입   f'{}'안에는 변수,인트(그대로)\n",
        "print(f'{max(r),max(r)}')\n",
        "len(f'{max(r),max(r)}')"
      ],
      "metadata": {
        "colab": {
          "base_uri": "https://localhost:8080/"
        },
        "id": "jm983-WQdMqa",
        "outputId": "fe2e153e-6768-4b9c-8729-708b1405bac3"
      },
      "execution_count": 116,
      "outputs": [
        {
          "output_type": "stream",
          "name": "stdout",
          "text": [
            "(223, 223)\n"
          ]
        },
        {
          "output_type": "execute_result",
          "data": {
            "text/plain": [
              "10"
            ]
          },
          "metadata": {},
          "execution_count": 116
        }
      ]
    },
    {
      "cell_type": "code",
      "source": [
        "# 3. \n",
        "#  영문 대문자를 입력 받다가 대문자 이외의 문자가 입력되면 입력을 중단하고, 1번 이상\n",
        "# 입력된 문자와 그 문자의 개수를 출력하는 프로그램을 만드시오. 입력\n",
        "# A B C F F F B Z @\n",
        "# 출력\n",
        "# A : 1                      #딕셔너리로\n",
        "# B : 2\n",
        "# C : 1\n",
        "# F : 3\n",
        "# Z : 1\n",
        "\n",
        "a=['A','B','C','D','E','F','G','H','I','J','K','L','M','N','O','P','Q','R','S','T','U','V','W','X','Y','Z']\n",
        "c=[]\n",
        "\n",
        "while True:\n",
        "    b=input('영문대문자를입력하세요:')\n",
        "    if not (b in a):\n",
        "        break\n",
        "    else:\n",
        "        for x in a:\n",
        "            if x==b:\n",
        "                c.append(b)   \n",
        "print(c)\n",
        "d=[]\n",
        "for x in a :\n",
        "            d.append(c.count(x))\n",
        "print(d)\n",
        "                \n",
        "#a리스트 d리스트로 딕션    \n",
        "dictionary = dict(zip(a, d))\n",
        "print(dictionary)\n",
        "\n",
        "\n"
      ],
      "metadata": {
        "colab": {
          "base_uri": "https://localhost:8080/"
        },
        "id": "mhU-ytCtjnoi",
        "outputId": "6046a43e-597c-40b2-a4d5-a17787f52787"
      },
      "execution_count": 143,
      "outputs": [
        {
          "output_type": "stream",
          "name": "stdout",
          "text": [
            "영문대문자를입력하세요:A\n",
            "영문대문자를입력하세요:A\n",
            "영문대문자를입력하세요:A\n",
            "영문대문자를입력하세요:B\n",
            "영문대문자를입력하세요:B\n",
            "영문대문자를입력하세요:C\n",
            "영문대문자를입력하세요:2\n",
            "['A', 'A', 'A', 'B', 'B', 'C']\n",
            "[3, 2, 1, 0, 0, 0, 0, 0, 0, 0, 0, 0, 0, 0, 0, 0, 0, 0, 0, 0, 0, 0, 0, 0, 0, 0]\n",
            "{'A': 3, 'B': 2, 'C': 1, 'D': 0, 'E': 0, 'F': 0, 'G': 0, 'H': 0, 'I': 0, 'J': 0, 'K': 0, 'L': 0, 'M': 0, 'N': 0, 'O': 0, 'P': 0, 'Q': 0, 'R': 0, 'S': 0, 'T': 0, 'U': 0, 'V': 0, 'W': 0, 'X': 0, 'Y': 0, 'Z': 0}\n"
          ]
        }
      ]
    },
    {
      "cell_type": "code",
      "source": [
        "# 3. \n",
        "#  영문 대문자를 입력 받다가 대문자 이외의 문자가 입력되면 입력을 중단하고, 1번 이상\n",
        "# 입력된 문자와 그 문자의 개수를 출력하는 프로그램을 만드시오. 입력\n",
        "# A B C F F F B Z @\n",
        "# 출력\n",
        "# A : 1                      #딕셔너리로\n",
        "# B : 2\n",
        "# C : 1\n",
        "# F : 3\n",
        "# Z : 1\n",
        "\n",
        "dic={}\n",
        "while True:\n",
        "    in_data=input('대문자입력:')[0] #한글자만입력받기\n",
        "    if not ('A' <= in_data <= 'Z') : #대문자 인풋받앗을때\n",
        "        break\n",
        "    if in_data in dic.keys():\n",
        "        dic[in_data] +=1\n",
        "    else:\n",
        "        dic[in_data]=1\n",
        "for key,v in dic.items():\n",
        "    print(f\"{key}:{v}\")\n",
        "\n",
        "\n"
      ],
      "metadata": {
        "colab": {
          "base_uri": "https://localhost:8080/"
        },
        "id": "Anx8jeVXnfZe",
        "outputId": "d2f2e486-6164-4068-e272-a59d2b29e1e7"
      },
      "execution_count": 142,
      "outputs": [
        {
          "output_type": "stream",
          "name": "stdout",
          "text": [
            "대문자입력:A\n",
            "대문자입력:3\n",
            "A:1\n"
          ]
        }
      ]
    },
    {
      "cell_type": "code",
      "source": [
        "#ord('A')-ord('A')        #ord t숫자로만드는함수\n",
        "\n",
        "l=[0 for _ in range(26)]\n",
        "l[ord('B')-ord('A')] +=1\n",
        "for i in range(len(l)):  #i는인덱역할\n",
        "if l[i] >0:\n",
        "    print(chr(ord('A')+i)),':',l[i])    #chr\n",
        "\n"
      ],
      "metadata": {
        "id": "htFUAPJmp7MY"
      },
      "execution_count": null,
      "outputs": []
    },
    {
      "cell_type": "code",
      "source": [
        "\n",
        "#4. 숫자배열을 입력 받고 거꾸로 출력하는 프로그램을 만드시오. ex) 1 2 3 4 5 6 7 8 9 입력\n",
        "#9 8 7 6 5 4 3 2 1\n",
        " #어펜드 넣기 팝 빼기\n",
        " \n",
        "\n",
        "l=[1,2,3,4,5,6,7,8,9]\n",
        "print(l)\n",
        "\n",
        "for i in range(len(l)):\n",
        "    print(l.pop(), end=' ')   #팝 끝원소를 빼서 쓰고 원래리스트에선 삭제    9를 뽑고 l에서 9제거  8~  \n",
        "\n",
        "\n",
        "\n",
        "\n",
        "\n",
        "\n",
        "\n",
        "\n",
        "\n",
        "\n",
        "\n",
        "\n",
        "\n",
        "\n",
        "\n",
        "\n",
        "\n",
        "\n"
      ],
      "metadata": {
        "colab": {
          "base_uri": "https://localhost:8080/"
        },
        "id": "9IgWFasmsE2K",
        "outputId": "4d335f0c-aaa4-4733-8904-d4aeefc0eccb"
      },
      "execution_count": 146,
      "outputs": [
        {
          "output_type": "stream",
          "name": "stdout",
          "text": [
            "[1, 2, 3, 4, 5, 6, 7, 8, 9]\n",
            "9 8 7 6 5 4 3 2 1 "
          ]
        }
      ]
    },
    {
      "cell_type": "code",
      "source": [
        "#  5. 정수형 N을 입력받아 다음과 같은 출력을 하는 프로그램을 만드시오. \n",
        "#입력    \n",
        "# 4             #이차원필요                \n",
        "# 출력\n",
        "# 1 2 3 4 \n",
        "# 12 13 14 5\n",
        "# 11 16 15 6\n",
        "# 10 9 8 7\n",
        "\n",
        "# 총 원소는 = 1에서부터 n의 제곱까지\n",
        "\n",
        "\n",
        "#이차원은 인덱스 두개로 표현\n",
        "\n",
        "\n",
        "# 인풋 n 행 n 열\n",
        "\n",
        "\n",
        "dx = [1,0,-1,0]  # 저차원방향성   # 0 방향안바뀜     [ 왼쪽에서 오른쪽,  오른쪽에서 아래로, 아래에서 왼쪽으로 , 왼쪽에서 위로 ]\n",
        "dy = [0,1,0,-1 ]  #고차원방향성                   # 1 오른쪽으로  0 그대로(위또는아래) -1 왼쪽으로\n",
        "\n",
        "# 2차원의 좌표점 (고차원,저차원)\n",
        "\n",
        "#0.0 0.1  0.2 0.3     #저차원만1식증가\n",
        "#             1.3\n",
        "#              2.3\n",
        "#             3.3     # 고차원만1씩증가\n",
        "\n",
        "\n",
        "#  3.0   3.1  3.2      3.3   #  저차원만 1씩 감소\n",
        "\n",
        "#  2.0\n",
        "#  3.0                  #고차원만 1씩감소\n",
        "\n",
        "\n",
        "\n",
        "\n",
        "d=0  # 방향인덱스\n",
        "x=0\n",
        "y=0\n",
        "n = int(input('정수 n입력:'))\n",
        "\n",
        "\n",
        "\n",
        "\n",
        "# [0 for i range(n)]   # 0으로 가득찬 일차원리스트\n",
        "\n",
        "a =  [[0 for i in range(n)] for i in range(n)]    #일차원리스트가 n개 2차원리스트\n",
        " # a는 0으로 가득찬 2차원리스트\n",
        "\n",
        "print(a)\n",
        "\n",
        "\n",
        "#          1,1  1,2   1,3 1,n\n",
        "#          2,1  2,2   2,3 2,n\n",
        "#          3,1 3,2   3,3  3,n \n",
        "#          n,1 n,2  n,3  n,n\n",
        "#\n",
        "\n",
        "for i in range(1, (n*n+1)) :  #총원소 엔의엔승\n",
        "               a[y][x]=i    #고차원이먼저    #리스트에데이터입력   \n",
        "               yy = y+dy[d]  # yy는다음좌표 다음 와이좌표예상         #변화된y            \n",
        "               xx = x+dx[d]       # 다음 엑스좌표예상                #변화된x\n",
        "               #그좌표에넣어도되는지확인해야함\n",
        "               if ( 0 <= yy < n ) and ( 0 <= xx < n ) :    #데이터조건 범위확인    #변화된y x\n",
        "                    if a[yy][xx] ==0 :  ### 비어잇는장소만넣을수잇으니비엇는지확인   값유무확인 #변화된 y x\n",
        "                        y=yy  #변화된y  #예상이진짜가된...\n",
        "                        x=xx  #변화된x   xx> 변화된x         yy> 변화된 y\n",
        "                    else:    #q비어있지않을때 > 방향전환의규칙\n",
        "                        d=(d+1) % 4  # 사로나눈나머지는 영일이삼\n",
        "                        x+=dx[d]\n",
        "                        y+=dy[d]\n",
        "               else:\n",
        "                     d=(d+1) % 4    # 위엘스까지 엘스두개로 방향전환의규칙을설정\n",
        "                     x+=dx[d]\n",
        "                     y+=dy[d]\n",
        "for a1 in a:\n",
        "    for i in a1:\n",
        "        print(i, end='\\t')\n",
        "    print()                   \n",
        "\n",
        "\n",
        "# 행렬 나선구조 파이썬\n",
        "# 달팽이 배열\n"
      ],
      "metadata": {
        "colab": {
          "base_uri": "https://localhost:8080/"
        },
        "id": "sQ6bZqFNtU0t",
        "outputId": "fb4bcdf7-fac1-4f08-a9f0-7cbd0c976a1c"
      },
      "execution_count": 160,
      "outputs": [
        {
          "output_type": "stream",
          "name": "stdout",
          "text": [
            "정수 n입력:4\n",
            "[[0, 0, 0, 0], [0, 0, 0, 0], [0, 0, 0, 0], [0, 0, 0, 0]]\n",
            "1\t2\t3\t4\t\n",
            "12\t13\t14\t5\t\n",
            "11\t16\t15\t6\t\n",
            "10\t9\t8\t7\t\n"
          ]
        }
      ]
    },
    {
      "cell_type": "code",
      "source": [
        "함수function : 어떤일을수행하는코드의덩어리또는코드의묶음\n",
        "함수장점\n",
        " 필요할때마다호출가능 논리적인단위로분할가능 코드의캡슐화\n",
        "\n",
        "\n",
        " print(\"a\") #출력함수 프린트\n",
        "\n",
        "\n",
        "\n",
        "\n",
        " "
      ],
      "metadata": {
        "id": "G3Mqi-Wy6YWU"
      },
      "execution_count": null,
      "outputs": []
    },
    {
      "cell_type": "code",
      "source": [
        "def f():\n",
        "    print(\"a\")\n",
        "    print(\"a\")\n",
        "    print(\"a\")\n",
        "    print(\"a\")\n",
        "    print(\"a\")\n",
        "f()    "
      ],
      "metadata": {
        "colab": {
          "base_uri": "https://localhost:8080/"
        },
        "id": "dbqw1A6v7Bmv",
        "outputId": "db9904ea-e61e-4c3f-f1af-7cd9a9e767e2"
      },
      "execution_count": 163,
      "outputs": [
        {
          "output_type": "stream",
          "name": "stdout",
          "text": [
            "a\n",
            "a\n",
            "a\n",
            "a\n",
            "a\n"
          ]
        }
      ]
    },
    {
      "cell_type": "code",
      "source": [
        "#gkla함수만들기\n",
        "#def 함수이름(매개변수)  :\n",
        "   #함수실행내용\n",
        "\n",
        "def f() :     #콜론 블록시작할때  #함수생성 함수선언\n",
        "    print('함수실행')\n",
        "\n",
        "f()  #함수호출\n",
        "\n",
        "\n",
        "\n"
      ],
      "metadata": {
        "id": "NZegkXFK72U9"
      },
      "execution_count": null,
      "outputs": []
    },
    {
      "cell_type": "code",
      "source": [
        "함수의원형\n",
        "  함수의이름\n",
        "  함수의 매개변수의 수            # def f() 에서  f() 과 f(1) 다르다  매개변수0개/1개\n",
        "  함수의리턴자료형 -     파이썬에서는 고민할 필요 없다 - 덕타이핑특성때ㅁ\n",
        "  함수의매개변수자료형   파이썬에서는 고민할 필요 없다 - 덕타이핑특성때문\n",
        "4개중 하나라도 다르면 다른 함수이다\n",
        "\n",
        "#######  즉 함수의 이름과 매개변수만 고려\n",
        "\n",
        "# 기본매개변수디폴트매개변수 \n",
        "\n",
        "이름 매개변수의수 함수의호출규칙을결정한다\n",
        "  "
      ],
      "metadata": {
        "id": "0bNSvWI_9bj2"
      },
      "execution_count": null,
      "outputs": []
    },
    {
      "cell_type": "code",
      "source": [
        "a=10 # a의 공간에 10객체를 넣겠다\n",
        "a=20 #20으로바뀌다 함수안에또함수넣어도 바뀜\n",
        "\n"
      ],
      "metadata": {
        "id": "aVs3ztCzDI7s"
      },
      "execution_count": null,
      "outputs": []
    },
    {
      "cell_type": "code",
      "source": [
        "def f1() :\n",
        "    print('함수동작')\n",
        "f1() \n",
        "\n",
        "\n",
        "def f1() :\n",
        "    print('새함수동작')\n",
        "f1() \n",
        " #이것도 새함수동작으로 교체된다\n",
        "\n",
        " \n",
        "    "
      ],
      "metadata": {
        "colab": {
          "base_uri": "https://localhost:8080/"
        },
        "id": "Nmd4MCVIDd5M",
        "outputId": "5c846aea-f49c-462c-c295-284b8bd6881d"
      },
      "execution_count": 168,
      "outputs": [
        {
          "output_type": "stream",
          "name": "stdout",
          "text": [
            "새함수동작\n"
          ]
        }
      ]
    },
    {
      "cell_type": "code",
      "source": [
        "def f(x) :\n",
        "    print(x,'입력받은함수')\n",
        "f(c)    c변수가없어서에러"
      ],
      "metadata": {
        "colab": {
          "base_uri": "https://localhost:8080/"
        },
        "id": "SbtzoyeSEFXD",
        "outputId": "d214447c-5f3b-48ad-a230-b6bc063fe0d6"
      },
      "execution_count": 176,
      "outputs": [
        {
          "output_type": "stream",
          "name": "stdout",
          "text": [
            "['A', 'A', 'A', 'B', 'B', 'C'] 입력받은함수\n"
          ]
        }
      ]
    },
    {
      "cell_type": "code",
      "source": [
        "def f(x='기본값') :           # 매개변수 디폴트 설정   - 생략시 동작\n",
        "    print(x,'입력받은함수')\n",
        "f()\n",
        " #디폴트설정안하면 f()이랑다른함수"
      ],
      "metadata": {
        "colab": {
          "base_uri": "https://localhost:8080/"
        },
        "id": "pK8ooCnQEwq3",
        "outputId": "963d8fd6-544e-4b83-b4a1-912b6b3b16a1"
      },
      "execution_count": 178,
      "outputs": [
        {
          "output_type": "stream",
          "name": "stdout",
          "text": [
            "기본값 입력받은함수\n"
          ]
        }
      ]
    },
    {
      "cell_type": "code",
      "source": [
        "함수의이름이같으면같은함수\n",
        "함수의매개변수는기본값을가질수있다\n",
        "파이썬의 기본 함수 구조\n",
        "\n",
        "함수의 생성\n",
        "\n",
        "def 함수이름(매개변수..) :\n",
        "    실행문 \n",
        "\n",
        "잇으면슬수잇고없으면슬수없다\n",
        "접근할수잇으면잇는거고접근할수잇으면없는거다\n",
        "\n",
        "\n"
      ],
      "metadata": {
        "id": "BJFbwmsQFt2M"
      },
      "execution_count": null,
      "outputs": []
    },
    {
      "cell_type": "code",
      "source": [
        "def ffD_1() :   # gkatng 함수이름 식별자규칙을따른다\n",
        "    print('1')\n",
        "ffD_1()"
      ],
      "metadata": {
        "colab": {
          "base_uri": "https://localhost:8080/"
        },
        "id": "QlVX5iZLG7i0",
        "outputId": "13bcda7c-50a4-4ee1-bd42-150f3973aa86"
      },
      "execution_count": 180,
      "outputs": [
        {
          "output_type": "stream",
          "name": "stdout",
          "text": [
            "1\n"
          ]
        }
      ]
    },
    {
      "cell_type": "code",
      "source": [
        "함수def definition (매개변수 parameter) :\n",
        "  수행문\n",
        "  return 이 수행되면 함수 종료\n",
        "  매개변수나 리턴은 생략 가능함\n",
        "  리턴을 안써도 반드시 동작한다 존재한다\n",
        "  리턴- 넌타입전달\n"
      ],
      "metadata": {
        "id": "4pTFHSd7HIxx"
      },
      "execution_count": null,
      "outputs": []
    },
    {
      "cell_type": "code",
      "source": [
        "def f(x):\n",
        "    print('1')\n",
        "print(type(f(x)))    넌타입\n",
        "\n"
      ],
      "metadata": {
        "colab": {
          "base_uri": "https://localhost:8080/"
        },
        "id": "K4lAFbTfH5jc",
        "outputId": "dd086b55-4bec-4273-a1ae-bf23c83a9804"
      },
      "execution_count": 181,
      "outputs": [
        {
          "output_type": "stream",
          "name": "stdout",
          "text": [
            "1\n",
            "<class 'NoneType'>\n"
          ]
        }
      ]
    },
    {
      "cell_type": "code",
      "source": [
        "변수=10   #전역변수 일반적인변수 모든영역에서접근가능한변수\n",
        "def f():\n",
        "    print(변수)\n",
        "f()\n",
        "print(type(f()))\n",
        "print(변수)    \n",
        "print(type(변수))\n"
      ],
      "metadata": {
        "colab": {
          "base_uri": "https://localhost:8080/"
        },
        "id": "5YeyG8tVIH7V",
        "outputId": "25ca3c82-27ef-4f88-a683-dd496f415a2c"
      },
      "execution_count": 184,
      "outputs": [
        {
          "output_type": "stream",
          "name": "stdout",
          "text": [
            "10\n",
            "10\n",
            "<class 'NoneType'>\n",
            "10\n",
            "<class 'int'>\n"
          ]
        }
      ]
    },
    {
      "cell_type": "code",
      "source": [
        "변수=10   #전역변수 일반적인변수 모든영역에서접근가능한변수\n",
        "def f():\n",
        "    변수=20      \n",
        "    print(변수)\n",
        "f()\n",
        "print(type(f()))        # def함수로  숫자를 프린트 한 후 타입을 또 프린트\n",
        "print(변수)    \n",
        "print(type(변수))\n"
      ],
      "metadata": {
        "colab": {
          "base_uri": "https://localhost:8080/"
        },
        "id": "9NQe4t8uJCkV",
        "outputId": "94c99a17-945f-45db-ad31-6f9af2137104"
      },
      "execution_count": 185,
      "outputs": [
        {
          "output_type": "stream",
          "name": "stdout",
          "text": [
            "20\n",
            "20\n",
            "<class 'NoneType'>\n",
            "10\n",
            "<class 'int'>\n"
          ]
        }
      ]
    },
    {
      "cell_type": "code",
      "source": [
        "#변수의우선순의  지역변수 > 전역변수\n",
        "#전역이우선이면 지역을 선언할 수 없다\n",
        "\n",
        "변수=10   #전역변수 일반적인변수 모든영역에서접근가능한변수\n",
        "def f():\n",
        "    변수=20 #지역변수     \n",
        "    print(변수)\n",
        "f()\n",
        "\n",
        "print(변수)  "
      ],
      "metadata": {
        "colab": {
          "base_uri": "https://localhost:8080/"
        },
        "id": "V7R7Au-tJQbd",
        "outputId": "4e7e8de4-33c6-4716-a7b4-548d4a2daae0"
      },
      "execution_count": 186,
      "outputs": [
        {
          "output_type": "stream",
          "name": "stdout",
          "text": [
            "20\n",
            "10\n"
          ]
        }
      ]
    },
    {
      "cell_type": "code",
      "source": [
        "def f():\n",
        "    변수=10\n",
        "    f1()\n",
        "    print(변수)\n",
        "def f1():\n",
        "    print(변수)    \n",
        "    변수 = 20\n",
        "    print(변수)\n",
        "\n",
        "f()    \n",
        "\n",
        "\n",
        "\n",
        "\n"
      ],
      "metadata": {
        "colab": {
          "base_uri": "https://localhost:8080/",
          "height": 395
        },
        "id": "wNwF5ZrQAm0m",
        "outputId": "03a8c6b3-9e05-473e-8d02-53ac751243bc"
      },
      "execution_count": 187,
      "outputs": [
        {
          "output_type": "error",
          "ename": "UnboundLocalError",
          "evalue": "ignored",
          "traceback": [
            "\u001b[0;31m---------------------------------------------------------------------------\u001b[0m",
            "\u001b[0;31mUnboundLocalError\u001b[0m                         Traceback (most recent call last)",
            "\u001b[0;32m<ipython-input-187-f622d5fe2df8>\u001b[0m in \u001b[0;36m<module>\u001b[0;34m()\u001b[0m\n\u001b[1;32m      8\u001b[0m     \u001b[0mprint\u001b[0m\u001b[0;34m(\u001b[0m\u001b[0m변수\u001b[0m\u001b[0;34m)\u001b[0m\u001b[0;34m\u001b[0m\u001b[0;34m\u001b[0m\u001b[0m\n\u001b[1;32m      9\u001b[0m \u001b[0;34m\u001b[0m\u001b[0m\n\u001b[0;32m---> 10\u001b[0;31m \u001b[0mf\u001b[0m\u001b[0;34m(\u001b[0m\u001b[0;34m)\u001b[0m\u001b[0;34m\u001b[0m\u001b[0;34m\u001b[0m\u001b[0m\n\u001b[0m\u001b[1;32m     11\u001b[0m \u001b[0;34m\u001b[0m\u001b[0m\n\u001b[1;32m     12\u001b[0m \u001b[0;34m\u001b[0m\u001b[0m\n",
            "\u001b[0;32m<ipython-input-187-f622d5fe2df8>\u001b[0m in \u001b[0;36mf\u001b[0;34m()\u001b[0m\n\u001b[1;32m      1\u001b[0m \u001b[0;32mdef\u001b[0m \u001b[0mf\u001b[0m\u001b[0;34m(\u001b[0m\u001b[0;34m)\u001b[0m\u001b[0;34m:\u001b[0m\u001b[0;34m\u001b[0m\u001b[0;34m\u001b[0m\u001b[0m\n\u001b[1;32m      2\u001b[0m     \u001b[0m변수\u001b[0m\u001b[0;34m=\u001b[0m\u001b[0;36m10\u001b[0m\u001b[0;34m\u001b[0m\u001b[0;34m\u001b[0m\u001b[0m\n\u001b[0;32m----> 3\u001b[0;31m     \u001b[0mf1\u001b[0m\u001b[0;34m(\u001b[0m\u001b[0;34m)\u001b[0m\u001b[0;34m\u001b[0m\u001b[0;34m\u001b[0m\u001b[0m\n\u001b[0m\u001b[1;32m      4\u001b[0m     \u001b[0mprint\u001b[0m\u001b[0;34m(\u001b[0m\u001b[0m변수\u001b[0m\u001b[0;34m)\u001b[0m\u001b[0;34m\u001b[0m\u001b[0;34m\u001b[0m\u001b[0m\n\u001b[1;32m      5\u001b[0m \u001b[0;32mdef\u001b[0m \u001b[0mf1\u001b[0m\u001b[0;34m(\u001b[0m\u001b[0;34m)\u001b[0m\u001b[0;34m:\u001b[0m\u001b[0;34m\u001b[0m\u001b[0;34m\u001b[0m\u001b[0m\n",
            "\u001b[0;32m<ipython-input-187-f622d5fe2df8>\u001b[0m in \u001b[0;36mf1\u001b[0;34m()\u001b[0m\n\u001b[1;32m      4\u001b[0m     \u001b[0mprint\u001b[0m\u001b[0;34m(\u001b[0m\u001b[0m변수\u001b[0m\u001b[0;34m)\u001b[0m\u001b[0;34m\u001b[0m\u001b[0;34m\u001b[0m\u001b[0m\n\u001b[1;32m      5\u001b[0m \u001b[0;32mdef\u001b[0m \u001b[0mf1\u001b[0m\u001b[0;34m(\u001b[0m\u001b[0;34m)\u001b[0m\u001b[0;34m:\u001b[0m\u001b[0;34m\u001b[0m\u001b[0;34m\u001b[0m\u001b[0m\n\u001b[0;32m----> 6\u001b[0;31m     \u001b[0mprint\u001b[0m\u001b[0;34m(\u001b[0m\u001b[0m변수\u001b[0m\u001b[0;34m)\u001b[0m\u001b[0;34m\u001b[0m\u001b[0;34m\u001b[0m\u001b[0m\n\u001b[0m\u001b[1;32m      7\u001b[0m     \u001b[0m변수\u001b[0m \u001b[0;34m=\u001b[0m \u001b[0;36m20\u001b[0m\u001b[0;34m\u001b[0m\u001b[0;34m\u001b[0m\u001b[0m\n\u001b[1;32m      8\u001b[0m     \u001b[0mprint\u001b[0m\u001b[0;34m(\u001b[0m\u001b[0m변수\u001b[0m\u001b[0;34m)\u001b[0m\u001b[0;34m\u001b[0m\u001b[0;34m\u001b[0m\u001b[0m\n",
            "\u001b[0;31mUnboundLocalError\u001b[0m: local variable '변수' referenced before assignment"
          ]
        }
      ]
    },
    {
      "cell_type": "code",
      "source": [
        "변수=0\n",
        "def f():\n",
        "    print('함수f1동작')\n",
        "    변수=10\n",
        "    f1()\n",
        "    print(변수)\n",
        "def f1():\n",
        "    print(변수)    \n",
        "    #변수 = 20\n",
        "    print(변수)\n",
        "\n",
        "f()    #함수호출\n",
        "\n",
        "#  f 와 f1 은 다른지역이다\n",
        "\n",
        "\n",
        "\n",
        "\n",
        "#"
      ],
      "metadata": {
        "colab": {
          "base_uri": "https://localhost:8080/"
        },
        "id": "fQ0zoHFGK5Gg",
        "outputId": "cfb6cfac-d2ac-433c-9821-864c293ac587"
      },
      "execution_count": 189,
      "outputs": [
        {
          "output_type": "stream",
          "name": "stdout",
          "text": [
            "함수f1동작\n",
            "0\n",
            "0\n",
            "10\n"
          ]
        }
      ]
    },
    {
      "cell_type": "code",
      "source": [
        "#변수=0\n",
        "def f():\n",
        "    print('함수f1동작')\n",
        "    변수=10\n",
        "    f1()\n",
        "    print(변수)\n",
        "def f1():\n",
        "    print(변수)    \n",
        "    변수 = 20\n",
        "    print(변수)\n",
        "\n",
        "f()    #함수호출\n",
        "\n",
        "#  f 와 f1 은 다른지역이다\n",
        "\n",
        "\n",
        "\n",
        "#20\n",
        "#10"
      ],
      "metadata": {
        "colab": {
          "base_uri": "https://localhost:8080/",
          "height": 413
        },
        "id": "ATpJCvaFLeQ6",
        "outputId": "5bf58dde-09b4-4778-882f-b779d270b270"
      },
      "execution_count": 192,
      "outputs": [
        {
          "output_type": "stream",
          "name": "stdout",
          "text": [
            "함수f1동작\n"
          ]
        },
        {
          "output_type": "error",
          "ename": "UnboundLocalError",
          "evalue": "ignored",
          "traceback": [
            "\u001b[0;31m---------------------------------------------------------------------------\u001b[0m",
            "\u001b[0;31mUnboundLocalError\u001b[0m                         Traceback (most recent call last)",
            "\u001b[0;32m<ipython-input-192-c5f1cc500456>\u001b[0m in \u001b[0;36m<module>\u001b[0;34m()\u001b[0m\n\u001b[1;32m     10\u001b[0m     \u001b[0mprint\u001b[0m\u001b[0;34m(\u001b[0m\u001b[0m변수\u001b[0m\u001b[0;34m)\u001b[0m\u001b[0;34m\u001b[0m\u001b[0;34m\u001b[0m\u001b[0m\n\u001b[1;32m     11\u001b[0m \u001b[0;34m\u001b[0m\u001b[0m\n\u001b[0;32m---> 12\u001b[0;31m \u001b[0mf\u001b[0m\u001b[0;34m(\u001b[0m\u001b[0;34m)\u001b[0m    \u001b[0;31m#함수호출\u001b[0m\u001b[0;34m\u001b[0m\u001b[0;34m\u001b[0m\u001b[0m\n\u001b[0m\u001b[1;32m     13\u001b[0m \u001b[0;34m\u001b[0m\u001b[0m\n\u001b[1;32m     14\u001b[0m \u001b[0;31m#  f 와 f1 은 다른지역이다\u001b[0m\u001b[0;34m\u001b[0m\u001b[0;34m\u001b[0m\u001b[0;34m\u001b[0m\u001b[0m\n",
            "\u001b[0;32m<ipython-input-192-c5f1cc500456>\u001b[0m in \u001b[0;36mf\u001b[0;34m()\u001b[0m\n\u001b[1;32m      3\u001b[0m     \u001b[0mprint\u001b[0m\u001b[0;34m(\u001b[0m\u001b[0;34m'함수f1동작'\u001b[0m\u001b[0;34m)\u001b[0m\u001b[0;34m\u001b[0m\u001b[0;34m\u001b[0m\u001b[0m\n\u001b[1;32m      4\u001b[0m     \u001b[0m변수\u001b[0m\u001b[0;34m=\u001b[0m\u001b[0;36m10\u001b[0m\u001b[0;34m\u001b[0m\u001b[0;34m\u001b[0m\u001b[0m\n\u001b[0;32m----> 5\u001b[0;31m     \u001b[0mf1\u001b[0m\u001b[0;34m(\u001b[0m\u001b[0;34m)\u001b[0m\u001b[0;34m\u001b[0m\u001b[0;34m\u001b[0m\u001b[0m\n\u001b[0m\u001b[1;32m      6\u001b[0m     \u001b[0mprint\u001b[0m\u001b[0;34m(\u001b[0m\u001b[0m변수\u001b[0m\u001b[0;34m)\u001b[0m\u001b[0;34m\u001b[0m\u001b[0;34m\u001b[0m\u001b[0m\n\u001b[1;32m      7\u001b[0m \u001b[0;32mdef\u001b[0m \u001b[0mf1\u001b[0m\u001b[0;34m(\u001b[0m\u001b[0;34m)\u001b[0m\u001b[0;34m:\u001b[0m\u001b[0;34m\u001b[0m\u001b[0;34m\u001b[0m\u001b[0m\n",
            "\u001b[0;32m<ipython-input-192-c5f1cc500456>\u001b[0m in \u001b[0;36mf1\u001b[0;34m()\u001b[0m\n\u001b[1;32m      6\u001b[0m     \u001b[0mprint\u001b[0m\u001b[0;34m(\u001b[0m\u001b[0m변수\u001b[0m\u001b[0;34m)\u001b[0m\u001b[0;34m\u001b[0m\u001b[0;34m\u001b[0m\u001b[0m\n\u001b[1;32m      7\u001b[0m \u001b[0;32mdef\u001b[0m \u001b[0mf1\u001b[0m\u001b[0;34m(\u001b[0m\u001b[0;34m)\u001b[0m\u001b[0;34m:\u001b[0m\u001b[0;34m\u001b[0m\u001b[0;34m\u001b[0m\u001b[0m\n\u001b[0;32m----> 8\u001b[0;31m     \u001b[0mprint\u001b[0m\u001b[0;34m(\u001b[0m\u001b[0m변수\u001b[0m\u001b[0;34m)\u001b[0m\u001b[0;34m\u001b[0m\u001b[0;34m\u001b[0m\u001b[0m\n\u001b[0m\u001b[1;32m      9\u001b[0m     \u001b[0m변수\u001b[0m \u001b[0;34m=\u001b[0m \u001b[0;36m20\u001b[0m\u001b[0;34m\u001b[0m\u001b[0;34m\u001b[0m\u001b[0m\n\u001b[1;32m     10\u001b[0m     \u001b[0mprint\u001b[0m\u001b[0;34m(\u001b[0m\u001b[0m변수\u001b[0m\u001b[0;34m)\u001b[0m\u001b[0;34m\u001b[0m\u001b[0;34m\u001b[0m\u001b[0m\n",
            "\u001b[0;31mUnboundLocalError\u001b[0m: local variable '변수' referenced before assignment"
          ]
        }
      ]
    },
    {
      "cell_type": "code",
      "source": [
        "#변수=0\n",
        "def f():\n",
        "    print('함수f1동작')\n",
        "    변수=10\n",
        "    f1()\n",
        "    print(변수)\n",
        "def f1():\n",
        "    print(변수)    \n",
        "    변수 = 20\n",
        "    print(변수)\n",
        "\n",
        "f()    #함수호출\n",
        "\n",
        "#  f 와 f1 은 다른지역이다\n"
      ],
      "metadata": {
        "id": "MKgN2BEvL3TX"
      },
      "execution_count": null,
      "outputs": []
    },
    {
      "cell_type": "code",
      "source": [
        "변수=0\n",
        "def f():\n",
        "    print('함수f1동작')\n",
        "    변수=10\n",
        "    f1()\n",
        "    print(변수)\n",
        "def f1():\n",
        "    변수 = 20\n",
        "    print(변수)    \n",
        "  \n",
        "    print(변수)\n",
        "\n",
        "f()    #함수호출                 #def 안에서 지역 변수는 그 안에서만  > 지역 변수가 없으면 전역변수만 활용 > 전역 변수가 없으면 에러\n",
        "                                # 서로다른 def 지역변수선언이영향안준다서로 서로다른지역\n",
        "                                  "
      ],
      "metadata": {
        "id": "cr1McksEM72L"
      },
      "execution_count": null,
      "outputs": []
    },
    {
      "cell_type": "code",
      "source": [
        "변수=21\n",
        "def f():\n",
        "    print('함수f1동작')\n",
        "    변수=10\n",
        "    f1()\n",
        "    print(변수)\n",
        "def f1():\n",
        "    print('함수f1동작')\n",
        "    print(변수)             #지역변수가 있으면 전역변수가 없는 취급 받는다   > 전역변수를 불러오지 못한다 > 에러\n",
        "    변수 = 20      # def안에 지역변수가 전혀 없어야 전역변수를 불러온다\n",
        "    print(변수)\n",
        "f()                   #함수호출                  "
      ],
      "metadata": {
        "colab": {
          "base_uri": "https://localhost:8080/",
          "height": 395
        },
        "id": "y762Kyk8NMk5",
        "outputId": "2c534a5e-e4f3-4632-82e4-7a4fc6285c89"
      },
      "execution_count": 197,
      "outputs": [
        {
          "output_type": "stream",
          "name": "stdout",
          "text": [
            "함수f1동작\n",
            "함수f1동작\n"
          ]
        },
        {
          "output_type": "error",
          "ename": "UnboundLocalError",
          "evalue": "ignored",
          "traceback": [
            "\u001b[0;31m---------------------------------------------------------------------------\u001b[0m",
            "\u001b[0;31mUnboundLocalError\u001b[0m                         Traceback (most recent call last)",
            "\u001b[0;32m<ipython-input-197-84c031d6cad6>\u001b[0m in \u001b[0;36m<module>\u001b[0;34m()\u001b[0m\n\u001b[1;32m     10\u001b[0m     \u001b[0m변수\u001b[0m \u001b[0;34m=\u001b[0m \u001b[0;36m20\u001b[0m\u001b[0;34m\u001b[0m\u001b[0;34m\u001b[0m\u001b[0m\n\u001b[1;32m     11\u001b[0m     \u001b[0mprint\u001b[0m\u001b[0;34m(\u001b[0m\u001b[0m변수\u001b[0m\u001b[0;34m)\u001b[0m\u001b[0;34m\u001b[0m\u001b[0;34m\u001b[0m\u001b[0m\n\u001b[0;32m---> 12\u001b[0;31m \u001b[0mf\u001b[0m\u001b[0;34m(\u001b[0m\u001b[0;34m)\u001b[0m                   \u001b[0;31m#함수호출\u001b[0m\u001b[0;34m\u001b[0m\u001b[0;34m\u001b[0m\u001b[0m\n\u001b[0m",
            "\u001b[0;32m<ipython-input-197-84c031d6cad6>\u001b[0m in \u001b[0;36mf\u001b[0;34m()\u001b[0m\n\u001b[1;32m      3\u001b[0m     \u001b[0mprint\u001b[0m\u001b[0;34m(\u001b[0m\u001b[0;34m'함수f1동작'\u001b[0m\u001b[0;34m)\u001b[0m\u001b[0;34m\u001b[0m\u001b[0;34m\u001b[0m\u001b[0m\n\u001b[1;32m      4\u001b[0m     \u001b[0m변수\u001b[0m\u001b[0;34m=\u001b[0m\u001b[0;36m10\u001b[0m\u001b[0;34m\u001b[0m\u001b[0;34m\u001b[0m\u001b[0m\n\u001b[0;32m----> 5\u001b[0;31m     \u001b[0mf1\u001b[0m\u001b[0;34m(\u001b[0m\u001b[0;34m)\u001b[0m\u001b[0;34m\u001b[0m\u001b[0;34m\u001b[0m\u001b[0m\n\u001b[0m\u001b[1;32m      6\u001b[0m     \u001b[0mprint\u001b[0m\u001b[0;34m(\u001b[0m\u001b[0m변수\u001b[0m\u001b[0;34m)\u001b[0m\u001b[0;34m\u001b[0m\u001b[0;34m\u001b[0m\u001b[0m\n\u001b[1;32m      7\u001b[0m \u001b[0;32mdef\u001b[0m \u001b[0mf1\u001b[0m\u001b[0;34m(\u001b[0m\u001b[0;34m)\u001b[0m\u001b[0;34m:\u001b[0m\u001b[0;34m\u001b[0m\u001b[0;34m\u001b[0m\u001b[0m\n",
            "\u001b[0;32m<ipython-input-197-84c031d6cad6>\u001b[0m in \u001b[0;36mf1\u001b[0;34m()\u001b[0m\n\u001b[1;32m      7\u001b[0m \u001b[0;32mdef\u001b[0m \u001b[0mf1\u001b[0m\u001b[0;34m(\u001b[0m\u001b[0;34m)\u001b[0m\u001b[0;34m:\u001b[0m\u001b[0;34m\u001b[0m\u001b[0;34m\u001b[0m\u001b[0m\n\u001b[1;32m      8\u001b[0m     \u001b[0mprint\u001b[0m\u001b[0;34m(\u001b[0m\u001b[0;34m'함수f1동작'\u001b[0m\u001b[0;34m)\u001b[0m\u001b[0;34m\u001b[0m\u001b[0;34m\u001b[0m\u001b[0m\n\u001b[0;32m----> 9\u001b[0;31m     \u001b[0mprint\u001b[0m\u001b[0;34m(\u001b[0m\u001b[0m변수\u001b[0m\u001b[0;34m)\u001b[0m             \u001b[0;31m#지역변수가 있으면 전역변수가 없는 취급 받는다\u001b[0m\u001b[0;34m\u001b[0m\u001b[0;34m\u001b[0m\u001b[0m\n\u001b[0m\u001b[1;32m     10\u001b[0m     \u001b[0m변수\u001b[0m \u001b[0;34m=\u001b[0m \u001b[0;36m20\u001b[0m\u001b[0;34m\u001b[0m\u001b[0;34m\u001b[0m\u001b[0m\n\u001b[1;32m     11\u001b[0m     \u001b[0mprint\u001b[0m\u001b[0;34m(\u001b[0m\u001b[0m변수\u001b[0m\u001b[0;34m)\u001b[0m\u001b[0;34m\u001b[0m\u001b[0;34m\u001b[0m\u001b[0m\n",
            "\u001b[0;31mUnboundLocalError\u001b[0m: local variable '변수' referenced before assignment"
          ]
        }
      ]
    },
    {
      "cell_type": "code",
      "source": [
        "변수=21\n",
        "def f():\n",
        "    print('함수f1동작')\n",
        "    변수=10\n",
        "    f1()\n",
        "    print(변수)\n",
        "def f1():\n",
        "    print('함수f1동작')\n",
        "    print(변수)             #지역변수가 있으면 전역변수가 없는 취급 받는다   > 전역변수를 불러오지 못한다 > 에러\n",
        "    변수 = 20      # def안에 지역변수가 전혀 없어야 전역변수를 불러온다\n",
        "    print(변수)                                   #  전역변수에 접근할수는잇다 접근할수잇으면 잇느 거다 >>>>>>>>>>> 변수가 2개다\n",
        "f()                   #함수호출                       단지 가까운게 먼저다 그래서 지역변수가 호출 > 에러\n",
        "                                            #변수우선순위 지역>전역\n",
        "                                            \n",
        "\n",
        "\n",
        "\n"
      ],
      "metadata": {
        "id": "5tCfEP-qQcm8"
      },
      "execution_count": null,
      "outputs": []
    },
    {
      "cell_type": "code",
      "source": [
        "변수=10 #변수읫애성\n",
        "변수=20 # 변수의초기화\n",
        "def 함수(x) :\n",
        "    #전역변수 값 바꾸기\n",
        "    #변수=20 바뀌는것이 아닌 지역변수20이 생성\n",
        "  \n",
        "    global 변수       #글로벌   전역변수설정   전역변수 이름 고정   지역변수이름에 전역변수이름넣기\n",
        "    변수=2    # 변수라는 이름의 지역변수를 만들수 없다  (이미만들엇다 전역변수로)\n",
        "  \n",
        "  #글로벌로 전역을 선언 > 지역변수 이름에 전역변수이름을 넣은 취급을 한다 > 또 지역변수 선얼할 수 없다 같은영역에같은이름 x\n",
        "  #\n",
        "  \n",
        "\n",
        "\n",
        "\n"
      ],
      "metadata": {
        "id": "4-VeTpB8Q78M"
      },
      "execution_count": 199,
      "outputs": []
    },
    {
      "cell_type": "code",
      "source": [
        "함수는일종에기능\n",
        "함수호출후종료시반드시리턴이일어난다\n"
      ],
      "metadata": {
        "id": "3tR2Xz2ITmCk"
      },
      "execution_count": null,
      "outputs": []
    },
    {
      "cell_type": "code",
      "source": [
        "print('cn출력문') #풀면 출력함수라부른다\n",
        "a=print('cn출력문') #풀면 출력함수라부른다\n",
        "#리턴은 함수의종료를이야기한다 데이터가잇으면리턴이잇엇다는것\n",
        "a=print('cn출력문') # 타입은 넌\n",
        "\n",
        "def f():\n",
        "    pass\n",
        "type(f())          # def에 리턴이 없으나(생략) 넌이 리턴\n",
        "\n"
      ],
      "metadata": {
        "colab": {
          "base_uri": "https://localhost:8080/"
        },
        "id": "MGrq9wXNTqvH",
        "outputId": "f6c4543f-1db6-4331-d141-848ddadd2944"
      },
      "execution_count": 203,
      "outputs": [
        {
          "output_type": "stream",
          "name": "stdout",
          "text": [
            "cn출력문\n",
            "cn출력문\n",
            "cn출력문\n"
          ]
        },
        {
          "output_type": "execute_result",
          "data": {
            "text/plain": [
              "NoneType"
            ]
          },
          "metadata": {},
          "execution_count": 203
        }
      ]
    },
    {
      "cell_type": "code",
      "source": [
        "print('cn출력문') #풀면 출력함수라부른다\n",
        "a=print('cn출력문') #풀면 출력함수라부른다\n",
        "#리턴은 함수의종료를이야기한다 데이터가잇으면리턴이잇엇다는것\n",
        "\n",
        "a=print('cn출력문') # 함수의 종료 >리턴이 잇다 >타입은 넌\n",
        "\n",
        "def f():\n",
        "    pass\n",
        "#type(f())          # def에 리턴이 없으나(생략) 넌이 리턴  함수의종료는 항상 리턴이 있다\n",
        "b=f()\n",
        "\n",
        "a==b  ,a is b  #참참   # a는 넌 b 도 넌\n",
        "\n",
        "print()==f()              #    넌==넌 이기 때문에 참이 나온 것"
      ],
      "metadata": {
        "colab": {
          "base_uri": "https://localhost:8080/"
        },
        "id": "-O3hYYV6UHY0",
        "outputId": "0c339857-ef77-4d71-a51f-78f65aaff900"
      },
      "execution_count": 205,
      "outputs": [
        {
          "output_type": "stream",
          "name": "stdout",
          "text": [
            "cn출력문\n",
            "cn출력문\n",
            "cn출력문\n",
            "\n"
          ]
        },
        {
          "output_type": "execute_result",
          "data": {
            "text/plain": [
              "True"
            ]
          },
          "metadata": {},
          "execution_count": 205
        }
      ]
    },
    {
      "cell_type": "code",
      "source": [
        "#파이썬의기본함수구조\n",
        "함수의생성\n",
        "  def 함수이름(변수, 변수=디폴트값):\n",
        "    싱행문\n",
        "    리턴결과값\n",
        " # 이름이 같은 함수는 같은 함수   "
      ],
      "metadata": {
        "id": "FGsV2sm8UxiX"
      },
      "execution_count": null,
      "outputs": []
    },
    {
      "cell_type": "code",
      "source": [
        "변수=21\n",
        "def f():\n",
        "    print('함수f동작')\n",
        "    변수=10\n",
        "    f1()\n",
        "    print(변수)\n",
        "def f1():\n",
        "    global 변수\n",
        "    print('함수f1동작')\n",
        "    print(변수)             #지역변수가 있으면 전역변수가 없는 취급 받는다   > 전역변수를 불러오지 못한다 > 에러\n",
        "    변수 = 20      # def안에 지역변수가 전혀 없어야 전역변수를 불러온다\n",
        "    print(변수)\n",
        "f()                             #글로벌 지역변수에 전역변수들어감 + 전역변수 존재  두가지의 변수 > 전역변수변경가능  - 지역변수는 호출하지 못함 이미 전역이 들어감\n",
        "print(변수)        #전역변수바뀜\n",
        "\n",
        "# 매개변수도 지역변수다 > 함수끝나면사라짐"
      ],
      "metadata": {
        "colab": {
          "base_uri": "https://localhost:8080/"
        },
        "id": "nXFQUeUGVK-R",
        "outputId": "62fdbc06-085a-48a4-e266-bdcb4790d9b9"
      },
      "execution_count": 210,
      "outputs": [
        {
          "output_type": "stream",
          "name": "stdout",
          "text": [
            "함수f동작\n",
            "함수f1동작\n",
            "21\n",
            "20\n",
            "10\n",
            "20\n"
          ]
        }
      ]
    },
    {
      "cell_type": "code",
      "source": [
        "a=10\n",
        "b=20\n",
        "def f(a=0,b=2):\n",
        "    a=20  #지역변수a\n",
        "    print(a,b)\n",
        "f(10,20)\n",
        "f()               #디폴트값 0,2 때문에 위 f와 같은 함수다\n",
        "\n",
        "print(a,b)    "
      ],
      "metadata": {
        "colab": {
          "base_uri": "https://localhost:8080/"
        },
        "id": "4ZbMAnB5Wqgz",
        "outputId": "3f937fff-ac43-4394-d6af-610338225666"
      },
      "execution_count": 218,
      "outputs": [
        {
          "output_type": "stream",
          "name": "stdout",
          "text": [
            "20 20\n",
            "20 2\n",
            "10 20\n"
          ]
        }
      ]
    },
    {
      "cell_type": "code",
      "source": [
        "a=10\n",
        "b=20\n",
        "def f(a,b=2):\n",
        "    a=20  #지역변수a\n",
        "    print(a,b)\n",
        "f(10,20)\n",
        "f()             #  f(a)에 디폴트가 없어서 에러\n",
        "\n",
        "print(a,b)    "
      ],
      "metadata": {
        "colab": {
          "base_uri": "https://localhost:8080/",
          "height": 262
        },
        "id": "OxSlPrFuXxW3",
        "outputId": "d281b6fe-dfe3-44ab-9c77-aee17d1d6625"
      },
      "execution_count": 219,
      "outputs": [
        {
          "output_type": "stream",
          "name": "stdout",
          "text": [
            "20 20\n"
          ]
        },
        {
          "output_type": "error",
          "ename": "TypeError",
          "evalue": "ignored",
          "traceback": [
            "\u001b[0;31m---------------------------------------------------------------------------\u001b[0m",
            "\u001b[0;31mTypeError\u001b[0m                                 Traceback (most recent call last)",
            "\u001b[0;32m<ipython-input-219-e65df58da948>\u001b[0m in \u001b[0;36m<module>\u001b[0;34m()\u001b[0m\n\u001b[1;32m      5\u001b[0m     \u001b[0mprint\u001b[0m\u001b[0;34m(\u001b[0m\u001b[0ma\u001b[0m\u001b[0;34m,\u001b[0m\u001b[0mb\u001b[0m\u001b[0;34m)\u001b[0m\u001b[0;34m\u001b[0m\u001b[0;34m\u001b[0m\u001b[0m\n\u001b[1;32m      6\u001b[0m \u001b[0mf\u001b[0m\u001b[0;34m(\u001b[0m\u001b[0;36m10\u001b[0m\u001b[0;34m,\u001b[0m\u001b[0;36m20\u001b[0m\u001b[0;34m)\u001b[0m\u001b[0;34m\u001b[0m\u001b[0;34m\u001b[0m\u001b[0m\n\u001b[0;32m----> 7\u001b[0;31m \u001b[0mf\u001b[0m\u001b[0;34m(\u001b[0m\u001b[0;34m)\u001b[0m               \u001b[0;31m#디폴트값 0,2 때문에 위 f와 같은 함수다\u001b[0m\u001b[0;34m\u001b[0m\u001b[0;34m\u001b[0m\u001b[0m\n\u001b[0m\u001b[1;32m      8\u001b[0m \u001b[0;34m\u001b[0m\u001b[0m\n\u001b[1;32m      9\u001b[0m \u001b[0mprint\u001b[0m\u001b[0;34m(\u001b[0m\u001b[0ma\u001b[0m\u001b[0;34m,\u001b[0m\u001b[0mb\u001b[0m\u001b[0;34m)\u001b[0m\u001b[0;34m\u001b[0m\u001b[0;34m\u001b[0m\u001b[0m\n",
            "\u001b[0;31mTypeError\u001b[0m: f() missing 1 required positional argument: 'a'"
          ]
        }
      ]
    },
    {
      "cell_type": "code",
      "source": [
        "a=10\n",
        "b=20\n",
        "def f(a,b=2,c):                    #특수 매개 변수 ( b=2 ) 를 사용하면 절대 다음에 일반매개변수 ( c)가 올 수 없다  > b=2다음c 여기서 에러\n",
        "    a=20  #지역변수a\n",
        "    print(a,b)\n",
        "f(10,20)\n",
        "f()             #  f(a)에 디폴트가 없어서 에러\n",
        "\n",
        "print(a,b)    "
      ],
      "metadata": {
        "colab": {
          "base_uri": "https://localhost:8080/",
          "height": 136
        },
        "id": "lojMIGg9YFRz",
        "outputId": "9d5fa29f-e400-4eca-e6ed-98791015f58e"
      },
      "execution_count": 220,
      "outputs": [
        {
          "output_type": "error",
          "ename": "SyntaxError",
          "evalue": "ignored",
          "traceback": [
            "\u001b[0;36m  File \u001b[0;32m\"<ipython-input-220-a5424f1fe336>\"\u001b[0;36m, line \u001b[0;32m3\u001b[0m\n\u001b[0;31m    def f(a,b=2,c):                    #특수 매개 변수 ( b=2 ) 를 사용하면 절대 다음에 일반매개변수 ( c)가 올 수 없다\u001b[0m\n\u001b[0m         ^\u001b[0m\n\u001b[0;31mSyntaxError\u001b[0m\u001b[0;31m:\u001b[0m non-default argument follows default argument\n"
          ]
        }
      ]
    },
    {
      "cell_type": "code",
      "source": [
        "\n",
        "def f(a,b=2,c=2):                    # \n",
        "    print(a,b,c,end=',' , sep='' )      #엔드셉가능\n",
        "\n",
        "f(10,20,30)\n",
        "f(c=10,b=20,a=30)  #w 직접지정가능\n",
        "\n",
        "\n",
        "\n"
      ],
      "metadata": {
        "colab": {
          "base_uri": "https://localhost:8080/"
        },
        "id": "C1YySWiWYdYw",
        "outputId": "33404d83-2196-4ca8-ad56-a30d212a77e7"
      },
      "execution_count": 225,
      "outputs": [
        {
          "output_type": "stream",
          "name": "stdout",
          "text": [
            "102030,302010,,"
          ]
        }
      ]
    }
  ]
}