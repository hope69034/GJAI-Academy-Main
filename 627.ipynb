{
  "nbformat": 4,
  "nbformat_minor": 0,
  "metadata": {
    "colab": {
      "name": "627",
      "provenance": []
    },
    "kernelspec": {
      "name": "python3",
      "display_name": "Python 3"
    },
    "language_info": {
      "name": "python"
    }
  },
  "cells": [
    {
      "cell_type": "code",
      "execution_count": null,
      "metadata": {
        "id": "gtjHSVjgdx5V"
      },
      "outputs": [],
      "source": [
        "잇으면슬수잇고없으면못슨다\n",
        "접근할수잇으면잇는거고접근할수없으면없는거다"
      ]
    },
    {
      "cell_type": "code",
      "source": [
        "이스케이프문자   \\역슬래시\n",
        "\\ 아랫줄올리기\n",
        "\\n 엔터\n",
        "\\b 백스페이스\n",
        "\\t 탭 줄맞춤\n",
        "\\\\   문자\\\n",
        "\\'   '\n",
        "\\r 줄 바꿈, 커서를 앞으로 이동\n",
        "\\f 줄 바꿈, 커서를 다음 줄로 이동"
      ],
      "metadata": {
        "id": "yJ0vRXKuj41i"
      },
      "execution_count": null,
      "outputs": []
    },
    {
      "cell_type": "code",
      "source": [
        "영역\n",
        "\n",
        "스택                                                 힙\n",
        "기본                                               저장\n",
        "               "
      ],
      "metadata": {
        "id": "pWI6dyJumLKp"
      },
      "execution_count": null,
      "outputs": []
    },
    {
      "cell_type": "code",
      "source": [
        "n=int(input(\"n:\"))#입력 data갯수 결정\n",
        "n_l=[]#입력data 저장용 list\n",
        "while True:#단일 다중 입력 장치   무한루프와일트루\n",
        "  입력=input(\"점수입력기(구분자 ' '):\").split()#lst->원소의 갯수  스플: 구분자 공백 기준으로 문자열 자르기\n",
        "  #스플릿때문에 (인풋)문자열에서 리스트자료형으로 변화 ( .스플릿 시 원소가1개여도 리스트로)\n",
        "   # 이 리스트의 원소는 문자열\n",
        "  if len(입력)>1:#다중입력장치   \n",
        "    n_l.extend(list(map(int,입력))[:n])#다중입력시 최대 n개 까지 입력\n",
        "  else:\n",
        "    n_l.append(int(입력[0]))#단일 입력시 list의 원소 1개만 전달\n",
        "  if len(n_l)>=n:#전체 길이 확인\n",
        "    n_l=n_l[:n]#무조건 data는 n개 입력\n",
        "    break\n",
        "for i in range(len(n_l)):\n",
        "  if n_l[i] <0:#음수 확인\n",
        "    n_l=n_l[:i]#음수시 슬라이싱 및 원본갱신\n",
        "    break\n",
        "print(type(max(n_l)))    \n",
        "print(f\"최고점수:{max(n_l)}\")#리스트내부의 최대값 도출\n",
        "print(f\"최저점수:{min(n_l)}\")#리스트내부의 최소값도출\n",
        "print(f\"평균점수:{sum(n_l)/len(n_l)}\")#리스트내부의 모든\n",
        "print(n_l)"
      ],
      "metadata": {
        "colab": {
          "base_uri": "https://localhost:8080/"
        },
        "id": "McVrqu2noX6q",
        "outputId": "ad184682-9279-4dd8-d102-6eb68655b869"
      },
      "execution_count": 25,
      "outputs": [
        {
          "output_type": "stream",
          "name": "stdout",
          "text": [
            "n:3\n",
            "점수입력기(구분자 ' '):10\n",
            "점수입력기(구분자 ' '):20\n",
            "점수입력기(구분자 ' '):30\n",
            "<class 'int'>\n",
            "최고점수:30\n",
            "최저점수:10\n",
            "평균점수:20.0\n",
            "[10, 20, 30]\n"
          ]
        }
      ]
    },
    {
      "cell_type": "code",
      "source": [
        "inp_행, inp_열 = map(int,input(\"행과 열을 공백으로 구분하여 입력하세요.: \").split(' '))\n",
        "\n",
        "for a in range(1,inp_행+1) :        # 1 2 3 4 행 선언 # 행만큼 실행하기위한 \n",
        "    for j in range(1,inp_열+1) :\n",
        "        print(i*j, end=' ')\n",
        "    print()     \n"
      ],
      "metadata": {
        "colab": {
          "base_uri": "https://localhost:8080/"
        },
        "id": "3-6A4GXYwk3y",
        "outputId": "c68d70ba-09c3-4fa2-fd79-02cf9991870b"
      },
      "execution_count": 22,
      "outputs": [
        {
          "output_type": "stream",
          "name": "stdout",
          "text": [
            "행과 열을 공백으로 구분하여 입력하세요.: 4 5\n",
            "1 2 3 4 5 \n",
            "1 2 3 4 5 \n",
            "1 2 3 4 5 \n",
            "1 2 3 4 5 \n"
          ]
        }
      ]
    },
    {
      "cell_type": "code",
      "source": [
        "# 오른쪽으로 정렬해서 고정길이 10자리로 보여주는 것은 어떨까요?\n",
        "\n",
        "# \"{변수명:>자리수}\"형태로 입력하면 더 가독성있게 만들 수 있습니다.\n",
        "\n",
        "aa = [2, 30, 500]\n",
        "for a in aa:\n",
        "    print(f\"{a:>10}$\")"
      ],
      "metadata": {
        "colab": {
          "base_uri": "https://localhost:8080/"
        },
        "id": "1_0UeJT03Ywe",
        "outputId": "56ce7406-abe1-44a7-dc6a-acd313df1596"
      },
      "execution_count": 24,
      "outputs": [
        {
          "output_type": "stream",
          "name": "stdout",
          "text": [
            "         2$\n",
            "        30$\n",
            "       500$\n"
          ]
        }
      ]
    },
    {
      "cell_type": "code",
      "source": [
        "# 파이썬리스트피디에프\n",
        "#1. 100개의 정수를 저장할 수 있는 배열을 선언하고 정수를 차례대로 입력받다가 0이 입력\n",
        "# 되면 입력을 종료한다. 0을 제외하고 입력받은 수를 가장 나중에 입력된 정수부터 차례대\n",
        "# 로 출력하는 프로그램을 만드시오. 입력\n",
        "# 3 5 10 55 4 0\n",
        "# 출력\n",
        "# 4 55 10 5 3\n",
        "b=[]\n",
        "#100개초과하는 인풋은 브레이크\n",
        "c=[ 0 for _ in range(100) ]  # == [0]* 100\n",
        "while True : \n",
        "    a = int(input('정수1개입력'))\n",
        "    if a == 0 :\n",
        "        break\n",
        "    else:    \n",
        "        c.append(a)\n",
        "        if c[100]==True :\n",
        "             b.append(a) \n",
        "print(list(reversed(b)))\n",
        "\n",
        "\n",
        "\n",
        "\n",
        "\n",
        "# l= [ 0 for i in range(100) ]  # [ 영]은 정수가 비어잇다 [0,0,0,0,0,0]\n",
        "#l= [ 0 for _ in range(100) ]  # # 변수i룰선언하지않겟다[편의성]\n",
        "\n",
        "#l2 =[i for i in range(100)]\n",
        "\n",
        "#l=[0]* 100 # 영백개 리스트생성  단 1차원리스트만가능\n",
        "\n",
        "\n",
        "\n",
        "\n",
        "\n",
        "\n",
        "\n",
        "\n",
        "\n",
        "\n",
        "\n",
        "\n",
        "\n",
        "#111111111111111111111111111111111111111111111111111111\n",
        "#tnltnlq쉽게코드완성조건은입력시반드시일개씩만입력한다\n",
        "l=[]\n",
        "for i in range(100)\n",
        "    n=int(input('정수1개입력'))\n",
        "    if n==0:\n",
        "        break\n",
        "        # data가 100개 저장된 리스트 만들어짐 /  0입력 직전의 리스트가 만들어짐\n",
        "print(l[::-1])             #뒤집어출력\n",
        "#1111111111111111111111111111111111111111111\n",
        "\n",
        "#다중입력과 단일입력 두가지를 동시에 제공하는 프로그램\n",
        "# 인풋한번에받기exend\n",
        "l2=[]\n",
        "for i in range(100):\n",
        "    in_data= list(map(int,input('정수 입력 구분자는 공백 :').split()))\n",
        "    if len(in_data) > 1:  #인풋 수  #단일입력인지 다중입력인지 확인  참이면 다중\n",
        "        if 0 in in_data :\n",
        "            l2.extend(in_data[:in_data.index(0)])    # 리스ㅌ.index[a] 라수투애0 a가 존재,        #extend하나씩꺼내서추가\n",
        "             # 0까지 잘라넣겟다 엘투에\n",
        "            break #반복루프탈\n",
        "        else: \n",
        "            l2.extend(in_data)   # 0이없다면 최대100개가능\n",
        "            if len(l2)>=100 :\n",
        "                l2=l2[:100]   #엘투  에잇는 0없는  100개의원소 슬라이스 \n",
        "                break\n",
        "    else:#단입입력시조건\n",
        "        #영인지아닌지확인필ㅇ7\n",
        "       # ck=in_data[0]    # 인풋의리스트데이터의첫인덱스- 단일입력이니까 첫인덱하나\n",
        "        if in_data == 0 :\n",
        "            break\n",
        "        else :\n",
        "             l2.append(in_data)   \n",
        "    if len(l2)>=100:\n",
        "        l2=l2[:100]\n",
        "        break                 \n",
        "print(l2[::-1])\n",
        "# break 반복 루프를 브레이크 반복문 열견된 것 전부 탈출  if if if 전부\n",
        "\n",
        "\n",
        "\n"
      ],
      "metadata": {
        "colab": {
          "base_uri": "https://localhost:8080/"
        },
        "id": "lH7gFZhC8IwB",
        "outputId": "e4875ed5-563c-4e47-bb68-fd5efa6045a3"
      },
      "execution_count": 58,
      "outputs": [
        {
          "output_type": "stream",
          "name": "stdout",
          "text": [
            "1\n",
            "2\n",
            "3\n",
            "0\n",
            "[3, 2, 1]\n"
          ]
        }
      ]
    },
    {
      "cell_type": "code",
      "source": [
        "# 2. . 10개의 정수를 입력받아 배열에 저장한다. 0~50 사이의 숫자, 51~100 사이의 숫자, 101 \n",
        "# 이상의 숫자를 분류해서 출력하는 프로그램을 만드시오. 입력\n",
        "# 8 98 1 56 23 159 200 12 52 76\n",
        "# 출력\n",
        "# 0~50 숫자 : 8 1 23 12\n",
        "# 51~100 숫자 : 98 56 52 76\n",
        "# 101 이상 숫자 : 159 200\n",
        "\n",
        "list1 =[] #10개의인풋값리스트로\n",
        "a=[]\n",
        "b=[]\n",
        "c=[]\n",
        "aa,bb,cc,dd,ee,ff, gg,hh,ii,jj = map(int,input('0이상의 10개의정수띄어쓰기로구분하여입력:').split())\n",
        "list1= [aa,bb,cc,dd,ee,ff, gg,hh,ii,jj]\n",
        "for x in list1 :\n",
        "    if 0 <= x <50:\n",
        "        a.append(x)\n",
        "        \n",
        "    elif 50 <= x <100:\n",
        "        b.append(x)\n",
        "    elif 100 <= x :\n",
        "        c.append(x)\n",
        "    else: \n",
        "        print('0이상의 정수가 아닌 것이 있습니다')\n",
        "        break\n",
        "print('0~50수:',a )\n",
        "print('50~100수:',b )\n",
        "print('100이성수:',c )\n",
        "\n",
        "\n",
        "\n",
        "for i in range(10):\n",
        "    n=int(input('정수1개입력:'))\n",
        "    if 0 <= n <50:\n",
        "        a.append(n)\n",
        "        \n",
        "    elif 50 <= n <100:\n",
        "        b.append(n)\n",
        "    elif 100 <= n :\n",
        "        c.append(n)\n",
        "    else: \n",
        "        print('0이상의 정수가 아닌 것이 있습니다')\n",
        "        break\n",
        "print('0~50수:',a )\n",
        "print('50~100수:',b )\n",
        "print('100이성수:',c )"
      ],
      "metadata": {
        "colab": {
          "base_uri": "https://localhost:8080/"
        },
        "id": "QTM38QzC-hBz",
        "outputId": "7b22120a-22dc-4675-e26e-03b0197cafea"
      },
      "execution_count": 50,
      "outputs": [
        {
          "output_type": "stream",
          "name": "stdout",
          "text": [
            "0이상의 10개의정수띄어쓰기로구분하여입력:8 98 1 56 23 159 200 12 52 76\n",
            "0~50수: [8, 1, 23, 12]\n",
            "50~100수: [98, 56, 52, 76]\n",
            "100이성수: [159, 200]\n"
          ]
        }
      ]
    },
    {
      "cell_type": "code",
      "source": [
        "# 3. \n",
        "#  영문 대문자를 입력 받다가 대문자 이외의 문자가 입력되면 입력을 중단하고, 1번 이상\n",
        "# 입력된 문자와 그 문자의 개수를 출력하는 프로그램을 만드시오. 입력\n",
        "# A B C F F F B Z @\n",
        "# 출력\n",
        "# A : 1\n",
        "# B : 2\n",
        "# C : 1\n",
        "# F : 3\n",
        "# Z : 1\n",
        "\n",
        "a=['A','B','C','D','E','F','G','H','I','J','K','L','M','N','O','P','Q','R','S','T','U','V','W','X','Y','Z']\n",
        "c=[]\n",
        "while True:\n",
        "        b=input('영문대문자를입력하세요:')\n",
        "        if b in a:\n",
        "            c.append(b)\n",
        "        else:\n",
        "            break\n"
      ],
      "metadata": {
        "colab": {
          "base_uri": "https://localhost:8080/"
        },
        "id": "uEsvJTR-GdZB",
        "outputId": "15b3bb7e-a3e5-4276-a606-f53bd613030e"
      },
      "execution_count": 62,
      "outputs": [
        {
          "name": "stdout",
          "output_type": "stream",
          "text": [
            "영문대문자를입력하세요:A\n",
            "영문대문자를입력하세요:B\n",
            "영문대문자를입력하세요:C\n",
            "영문대문자를입력하세요:C\n",
            "영문대문자를입력하세요:D\n",
            "영문대문자를입력하세요:ㅇ\n"
          ]
        }
      ]
    },
    {
      "cell_type": "code",
      "source": [
        "l=[0]*100         0을백번입력\n",
        "l2= [0 for _ in range(100)] 하나씩 100번 넣기  실행 100번   \n",
        "l3 = [[0]]*10            [0]을백개\n",
        "l4= [[0] for _ in range(100)]      2차원으로  [0] 원소가100개  실행100번\n",
        "\n",
        "l=[0]*10\n",
        "2\tl2= [0 for _ in range(10)]\n",
        "3\tl3 = [[0]]*10\n",
        "4\tl4= [[0] for _ in range(10)]\n",
        "파이튜터"
      ],
      "metadata": {
        "id": "KAY-7dPzHv2U"
      },
      "execution_count": null,
      "outputs": []
    },
    {
      "cell_type": "code",
      "source": [
        "\n",
        "\n",
        "a=[0]\n",
        "type(str(a))\n",
        "#len(str(a))\n",
        "int(str(a))\n",
        "\n",
        "int() 괄호안에 숫자인 스트링\n",
        "int( '[0]') 은 스트링이지만   숫자 아님      괄호+0+괄호라 숫자로 못 바꿈\n",
        "\n",
        "\n",
        "\n",
        "\n",
        "\n",
        "\n"
      ],
      "metadata": {
        "id": "S9JurbarJILs"
      },
      "execution_count": null,
      "outputs": []
    },
    {
      "cell_type": "code",
      "source": [
        "a=[1,2]\n",
        "print(max(a))\n",
        "print(type(max(a)))  # max(a) 타입 인트\n",
        "print(f'{max(a)}' )\n",
        "k=max(a)\n",
        "print(f'{k}' )\n",
        "print(f'{2}' )\n",
        "#{ } 변수, 인트-인트는그대로\n",
        "\n",
        "print(f'{2}' )\n",
        "print(f'{3+4}' )\n",
        "print(type(f'{3+4}'))  #스트링\n",
        "\n",
        "print(f'{3+4+max(a)+min(a)}' )\n",
        "\n",
        "print(type(f'{ max(a) + 1    ,    2 }' ))  #스트링 \n",
        "print(f'{ max(a) + 1,2 }' )\n",
        "\n",
        "\n",
        "p=(1,2)\n",
        "print(type(p)) #튜플\n",
        "\n",
        "#t=f\"{ max(a) + 1    ,2 ,sep='' }\"\n",
        "type(t) #str\n",
        "print(t)\n",
        "\n",
        "a='(3, 2)'\n",
        "print(a)\n",
        "type(a)"
      ],
      "metadata": {
        "colab": {
          "base_uri": "https://localhost:8080/"
        },
        "id": "mjTlNc6xWysP",
        "outputId": "7fd3e83d-2adc-4f50-9a12-ef72524eaeb6"
      },
      "execution_count": 108,
      "outputs": [
        {
          "output_type": "stream",
          "name": "stdout",
          "text": [
            "2\n",
            "<class 'int'>\n",
            "2\n",
            "2\n",
            "2\n",
            "2\n",
            "7\n",
            "<class 'str'>\n",
            "10\n",
            "<class 'str'>\n",
            "(3, 2)\n",
            "<class 'tuple'>\n",
            "(3, 2)\n",
            "(3, 2)\n"
          ]
        },
        {
          "output_type": "execute_result",
          "data": {
            "text/plain": [
              "str"
            ]
          },
          "metadata": {},
          "execution_count": 108
        }
      ]
    },
    {
      "cell_type": "code",
      "source": [
        "print(f\"{2,end=''}\" )"
      ],
      "metadata": {
        "colab": {
          "base_uri": "https://localhost:8080/",
          "height": 137
        },
        "id": "3naMlJrlc0m9",
        "outputId": "2158ec7a-c0d7-46fd-c782-fe566135fc87"
      },
      "execution_count": 110,
      "outputs": [
        {
          "output_type": "error",
          "ename": "SyntaxError",
          "evalue": "ignored",
          "traceback": [
            "\u001b[0;36m  File \u001b[0;32m\"<fstring>\"\u001b[0;36m, line \u001b[0;32m1\u001b[0m\n\u001b[0;31m    (2,end='')\u001b[0m\n\u001b[0m          ^\u001b[0m\n\u001b[0;31mSyntaxError\u001b[0m\u001b[0;31m:\u001b[0m invalid syntax\n"
          ]
        }
      ]
    },
    {
      "cell_type": "code",
      "source": [
        "r=[1,223]\n",
        "type(f'{max(r)}')  # str\n",
        "len(f'{max(r)}')                        #f스트링 '' 값은 전부 str타입   f'{}'안에는 변수,인트(그대로)\n",
        "print(f'{max(r),max(r)}')\n",
        "len(f'{max(r),max(r)}')"
      ],
      "metadata": {
        "colab": {
          "base_uri": "https://localhost:8080/"
        },
        "id": "jm983-WQdMqa",
        "outputId": "fe2e153e-6768-4b9c-8729-708b1405bac3"
      },
      "execution_count": 116,
      "outputs": [
        {
          "output_type": "stream",
          "name": "stdout",
          "text": [
            "(223, 223)\n"
          ]
        },
        {
          "output_type": "execute_result",
          "data": {
            "text/plain": [
              "10"
            ]
          },
          "metadata": {},
          "execution_count": 116
        }
      ]
    },
    {
      "cell_type": "code",
      "source": [
        "print(f\"[{x:<10}]\")\n",
        "print(f\"[{x:^10}]\")\n",
        "print(f\"[{x:>10}]\")\n",
        "print(\"채움문자와 숫자\")\n",
        "print(f\"[{1:5d}] [{-2:05d}] [{3:05d}]\")\n",
        "print(f\"[{1:#<5d}] [{-2:#^5d}] [{3:#>5d}]\")\n",
        "print(f\"[{1:=5d}] [{-2:=5d}] [{3:=5d}]\")\n",
        "print(f\"[{1:=05d}] [{-2:=05d}] [{3:=05d}]\")\n",
        "print(f\"[{1:#=5d}] [{-2:#=5d}] [{3:#=5d}]\")"
      ],
      "metadata": {
        "colab": {
          "base_uri": "https://localhost:8080/"
        },
        "id": "kjsU8yKQdzXT",
        "outputId": "c0e8af2a-a5ae-466a-e9cc-c17c9814c2c2"
      },
      "execution_count": 117,
      "outputs": [
        {
          "output_type": "stream",
          "name": "stdout",
          "text": [
            "[76        ]\n",
            "[    76    ]\n",
            "[        76]\n",
            "채움문자와 숫자\n",
            "[    1] [-0002] [00003]\n",
            "[1####] [#-2##] [####3]\n",
            "[    1] [-   2] [    3]\n",
            "[00001] [-0002] [00003]\n",
            "[####1] [-###2] [####3]\n"
          ]
        }
      ]
    }
  ]
}