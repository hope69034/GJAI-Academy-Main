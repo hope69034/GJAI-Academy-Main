{
  "nbformat": 4,
  "nbformat_minor": 0,
  "metadata": {
    "colab": {
      "name": "630",
      "provenance": [],
      "collapsed_sections": []
    },
    "kernelspec": {
      "name": "python3",
      "display_name": "Python 3"
    },
    "language_info": {
      "name": "python"
    }
  },
  "cells": [
    {
      "cell_type": "code",
      "execution_count": null,
      "metadata": {
        "id": "thn4qCiA5X45"
      },
      "outputs": [],
      "source": [
        "인풋>스트링\n",
        "멤버= 필드,메서드\n",
        "클래스멤버 클레스안멤버 cls\n",
        "인스턴스멤버 인스턴스멤버 self  인스턴스가 없으면 사용못함\n",
        "\n",
        "\n",
        "인스턴스변수 > 인스턴스영역 > 클래스영역\n",
        "\n",
        "모두가객체  객체를 만들려면 클래스필요    오브젝클래스상속      클래스를만드는클래스-클래스클래스\n",
        "\n",
        "함수이름이같으면 같은함수로생각> 함수이름이 달라야 다른함수로 인식한다\n",
        "\n",
        "인스턴스를 만들 때는 반드시 생성자가 있어야한다 > 생략시 > 기본생성자 \n",
        "\n",
        "\n"
      ]
    },
    {
      "cell_type": "code",
      "source": [
        "class 자동차정보:\n",
        "    #객체생성시 초기화를 목적으로 자동으로 한번 동작하는 메소드\n",
        "    def __init__(self,이름,엔진가격,타이어가격,옵션이름,옵션유무,최고속도,구매가격) :\n",
        "        self.이름=이름\n",
        "        self.엔진가격=엔진가격\n",
        "        self.타이어가격=타이어가격\n",
        "        self.옵션유무=옵션유무\n",
        "        self.옵션이름=옵션이름\n",
        "        self.최고속도=최고속도\n",
        "        self.구매가격=구매가격\n",
        "\n",
        "\n",
        "\n",
        "##  딕셔너리로 묶기\n",
        "ㅔ\n",
        "ui='''*자동차정보프로그램*  \n",
        "1.자동차정보입력\n",
        "2ㅇ\n",
        "3ㅇ\n",
        "4ㅇ\n",
        "5ㅇ\n",
        "6ㅇ\n",
        "#####\n",
        "입력\n",
        "'''\n",
        "\n",
        "자동차_리스트=[] #자동차전부하나씩다묶는리스트         #전역변수\n",
        "리스트최고속도=0\n",
        "리스트최저속도=1000\n",
        "while True:\n",
        "    n=int(input(ui)) #int 없을 경우 if n=='1'로\n",
        "\n",
        "    #1.자동차정보입력조건일 때\n",
        "    if n==1:  \n",
        "        자동차_정보 = []\n",
        "        print('1자동차정보입력')\n",
        "        이름 = input('이름:')\n",
        "        엔진가격 = int(input('엔진:'))\n",
        "        타이어가격 = int(input('타이어:'))\n",
        "        옵션유무 = input('옵션유무:')\n",
        "        if 옵션유무 != '없음':\n",
        "            옵션이름=input('옵션이름')\n",
        "        else:\n",
        "            옵션이름=옵션유무        \n",
        "        최고속도 = int(input('최고속도:'))\n",
        "\n",
        "        리스트최고속도= 리스트최고속도 if 리스트최고속도 > 최고속도 else 최고속도\n",
        "        리스트최저속도= 리스트최저속도 if 리스트최저속도 < 최고속도 else 최고속도\n",
        "\n",
        "        구매가격 = 엔진가격+타이어가격\n",
        "        자동차_정보 = 자동차정보(이름,엔진가격,타이어가격,옵션유무,옵션이름,최고속도,구매가격)\n",
        "        자동차_리스트.append(자동차_정보)\n",
        "        input('정보가 등록 되었습니다.')\n",
        "        \n",
        "\n",
        "    # 2.저장목록보기\n",
        "    elif n==2: \n",
        "        for i in range(len(자동차_리스트)): # 자동차수만큼반복\n",
        "            print(f'{i+1}번 차량')\n",
        "            print('-'*30)\n",
        "            print(f'''자동차 이름:{자동차_리스트[i],이름}\n",
        "자동차 엔진가격:{자동차_리스트[i].엔진가격}\n",
        "자동차 타이어가격:{자동차_리스트[i].타이어가격}\n",
        "자동차 옵션유무:{자동차_리스트[i].옵션유무}\n",
        "자동차 옵션이름:{자동차_리스트[i].옵션이름}\n",
        "자동차 최고속도:{자동차_리스트[i].최고속도}\n",
        "자동차 구매가격:{자동차_리스트[i].구매가격}\n",
        "''')\n",
        "            print('-'*30)  #구분을위한줄출력\n",
        "        input()    \n",
        "     # 3.각자동차의구매가격조회\n",
        "    elif n==2:  \n",
        "        for i in range(len(자동차_리스트)): # 자동차수만큼반복\n",
        "            print(f'{i+1}번 차량')\n",
        "            print('-'*30)\n",
        "            print(f'''자동차 이름:{자동차_리스트[i].이름}\n",
        "자동차 구매가격:{자동차_리스트[i].구매가격}''')\n",
        "''')\n",
        "            print('-'*30)  #구분을위한줄출력\n",
        "        input()    \n",
        "       \n",
        "    # 4.d옵션잇는 자동차조회\n",
        "    elif n==4: \n",
        "        for i.자동차 enumerate(자동차_리스트)):  # 자동차수만큼반복\n",
        "            if 자동차.옵션유무== '있음': \n",
        "                print(f'{i+1}번 차량')\n",
        "                print('-'*30)\n",
        "                print(f'''자동차 이름:{자동차_리스트[i],이름}\n",
        "자동차 엔진가격:{자동차.엔진가격}\n",
        "자동차 타이어가격:{자동차.타이어가격}\n",
        "자동차 옵션유무:{자동차.옵션유무}\n",
        "자동차 옵션이름:{자동차.옵션이름}\n",
        "자동차 최고속도:{자동차.최고속도}\n",
        "자동차 구매가격:{자동차.구매가격}''')           \n",
        "               print('-'*30)  #구분을위한줄출력\n",
        "        input()    \n",
        "        \n",
        "    # 5.빠른차느린차속도차\n",
        "    \n",
        "    \n",
        "    elif n==5:  \n",
        "        print(f'리스트 안의 속도차:{리스트최고속도-리스트최저속도}')\n",
        "\n",
        "    # 6.프로그램종료\n",
        "    elif n==6:  \n",
        "        print('프로그램종료')\n",
        "        break\n",
        "    else:\n",
        "        print('기능은 1~6만 있습니다')        "
      ],
      "metadata": {
        "colab": {
          "base_uri": "https://localhost:8080/",
          "height": 136
        },
        "id": "khtomuCQEQUT",
        "outputId": "455aa480-db88-46dc-d753-b7c8413f7902"
      },
      "execution_count": 9,
      "outputs": [
        {
          "output_type": "error",
          "ename": "SyntaxError",
          "evalue": "ignored",
          "traceback": [
            "\u001b[0;36m  File \u001b[0;32m\"<ipython-input-9-f3714d8b19fd>\"\u001b[0;36m, line \u001b[0;32m3\u001b[0m\n\u001b[0;31m    def __init__(self,이름,엔진가격,타이어가격,옵션이름,옵션유무,최고속도,구매가격)\u001b[0m\n\u001b[0m                                                        ^\u001b[0m\n\u001b[0;31mSyntaxError\u001b[0m\u001b[0;31m:\u001b[0m invalid syntax\n"
          ]
        }
      ]
    },
    {
      "cell_type": "code",
      "source": [
        "a=list(enumerate([1,2,3]))  #  인덱스 컴마 밸류 를 매칭시켜준다  0인덱1값"
      ],
      "metadata": {
        "colab": {
          "base_uri": "https://localhost:8080/"
        },
        "id": "IaP1OyCsHTzy",
        "outputId": "7713f08a-6682-461c-b17f-a9b25085912c"
      },
      "execution_count": 1,
      "outputs": [
        {
          "output_type": "execute_result",
          "data": {
            "text/plain": [
              "[(0, 1), (1, 2), (2, 3)]"
            ]
          },
          "metadata": {},
          "execution_count": 1
        }
      ]
    },
    {
      "cell_type": "code",
      "source": [
        "# enumerate([구조])  열거함수  입력된구조의원소별로인덱스값을 연결시켜데이터를만든다\n",
        "l=[1,2,3,4,5]\n",
        "list(enumerate(l))\n",
        "\n",
        "\n",
        "\n",
        "\n",
        "\n",
        "\n",
        "\n",
        "\n"
      ],
      "metadata": {
        "colab": {
          "base_uri": "https://localhost:8080/"
        },
        "id": "M7nZxPUmJNn3",
        "outputId": "04aae0d5-53cf-480b-cb00-99fd7bc96b04"
      },
      "execution_count": 7,
      "outputs": [
        {
          "output_type": "execute_result",
          "data": {
            "text/plain": [
              "[(0, 1), (1, 2), (2, 3), (3, 4), (4, 5)]"
            ]
          },
          "metadata": {},
          "execution_count": 7
        }
      ]
    },
    {
      "cell_type": "code",
      "source": [
        "l=['data1','data2','data3']\n",
        "list(enumerate(l))"
      ],
      "metadata": {
        "colab": {
          "base_uri": "https://localhost:8080/"
        },
        "id": "yLMTm93sKCDL",
        "outputId": "9e104ca1-bc9c-48bf-f75c-5cc82a310c5a"
      },
      "execution_count": 6,
      "outputs": [
        {
          "output_type": "execute_result",
          "data": {
            "text/plain": [
              "[(0, 'data1'), (1, 'data2'), (2, 'data3')]"
            ]
          },
          "metadata": {},
          "execution_count": 6
        }
      ]
    },
    {
      "cell_type": "code",
      "source": [
        "class 자동차정보:\n",
        "    #객체생성시 초기화를 목적으로 자동으로 한번 동작하는 메소드\n",
        "    def __init__(self,이름,엔진가격,타이어가격,옵션이름,옵션유무,최고속도,구매가격) :\n",
        "        self.이름=이름\n",
        "        self.엔진가격=엔진가격\n",
        "        self.타이어가격=타이어가격\n",
        "        self.옵션유무=옵션유무\n",
        "        self.옵션이름=옵션이름\n",
        "        self.최고속도=최고속도\n",
        "        self.구매가격=구매가격\n",
        "\n",
        "\n"
      ],
      "metadata": {
        "id": "Sj2aFlndKU7a"
      },
      "execution_count": null,
      "outputs": []
    },
    {
      "cell_type": "code",
      "source": [
        "#함수\n",
        "\n",
        "def f1()"
      ],
      "metadata": {
        "id": "30bMEgtZOEnR"
      },
      "execution_count": null,
      "outputs": []
    },
    {
      "cell_type": "code",
      "source": [
        "#함수화 프로그래밍\n",
        "run = False\n",
        "def main():\n",
        "    while not run :  #런이 참일 때 멈춘다\n",
        "\n",
        "\n",
        "\n",
        "\n",
        "\n",
        "     n=int(input(ui)) #int 없을 경우 if n=='1'로\n",
        "\n",
        "    #1.자동차정보입력조건일 때\n",
        "    if n==1:  \n",
        "        자동차_정보 = []\n",
        "        print('1자동차정보입력')\n",
        "        이름 = input('이름:')\n",
        "        엔진가격 = int(input('엔진:'))\n",
        "        타이어가격 = int(input('타이어:'))\n",
        "        옵션유무 = input('옵션유무:')\n",
        "        if 옵션유무 != '없음':\n",
        "            옵션이름=input('옵션이름')\n",
        "        else:\n",
        "            옵션이름=옵션유무        \n",
        "        최고속도 = int(input('최고속도:'))\n",
        "\n",
        "        리스트최고속도= 리스트최고속도 if 리스트최고속도 > 최고속도 else 최고속도\n",
        "        리스트최저속도= 리스트최저속도 if 리스트최저속도 < 최고속도 else 최고속도\n",
        "\n",
        "        구매가격 = 엔진가격+타이어가격\n",
        "        자동차_정보 = 자동차정보(이름,엔진가격,타이어가격,옵션유무,옵션이름,최고속도,구매가격)\n",
        "        자동차_리스트.append(자동차_정보)\n",
        "        input('정보가 등록 되었습니다.')\n",
        "        \n",
        "\n",
        "    # 2.저장목록보기\n",
        "    elif n==2: \n",
        "        for i in range(len(자동차_리스트)): # 자동차수만큼반복\n",
        "            print(f'{i+1}번 차량')\n",
        "            print('-'*30)\n",
        "            print(f'''자동차 이름:{자동차_리스트[i],이름}\n",
        "자동차 엔진가격:{자동차_리스트[i].엔진가격}\n",
        "자동차 타이어가격:{자동차_리스트[i].타이어가격}\n",
        "자동차 옵션유무:{자동차_리스트[i].옵션유무}\n",
        "자동차 옵션이름:{자동차_리스트[i].옵션이름}\n",
        "자동차 최고속도:{자동차_리스트[i].최고속도}\n",
        "자동차 구매가격:{자동차_리스트[i].구매가격}\n",
        "''')\n",
        "            print('-'*30)  #구분을위한줄출력\n",
        "        input()    \n",
        "     # 3.각자동차의구매가격조회\n",
        "    elif n==2:  \n",
        "        for i in range(len(자동차_리스트)): # 자동차수만큼반복\n",
        "            print(f'{i+1}번 차량')\n",
        "            print('-'*30)\n",
        "            print(f'''자동차 이름:{자동차_리스트[i].이름}\n",
        "자동차 구매가격:{자동차_리스트[i].구매가격}''')\n",
        "''')\n",
        "            print('-'*30)  #구분을위한줄출력\n",
        "        input()    \n",
        "       \n",
        "    # 4.d옵션잇는 자동차조회\n",
        "    elif n==4: \n",
        "        for i.자동차 enumerate(자동차_리스트)):  # 자동차수만큼반복\n",
        "            if 자동차.옵션유무== '있음': \n",
        "                print(f'{i+1}번 차량')\n",
        "                print('-'*30)\n",
        "                print(f'''자동차 이름:{자동차_리스트[i],이름}\n",
        "자동차 엔진가격:{자동차.엔진가격}\n",
        "자동차 타이어가격:{자동차.타이어가격}\n",
        "자동차 옵션유무:{자동차.옵션유무}\n",
        "자동차 옵션이름:{자동차.옵션이름}\n",
        "자동차 최고속도:{자동차.최고속도}\n",
        "자동차 구매가격:{자동차.구매가격}''')           \n",
        "               print('-'*30)  #구분을위한줄출력\n",
        "        input()    \n",
        "        \n",
        "    # 5.빠른차느린차속도차\n",
        "    \n",
        "    \n",
        "    elif n==5:  \n",
        "        print(f'리스트 안의 속도차:{리스트최고속도-리스트최저속도}')\n",
        "\n",
        "    # 6.프로그램종료\n",
        "    elif n==6:  \n",
        "        print('프로그램종료')\n",
        "        break\n",
        "    else:\n",
        "        print('기능은 1~6만 있습니다')        \n",
        "\n"
      ],
      "metadata": {
        "id": "7uDprE6hNTYc"
      },
      "execution_count": null,
      "outputs": []
    },
    {
      "cell_type": "markdown",
      "source": [
        ""
      ],
      "metadata": {
        "id": "epA5Bjs3kcS6"
      }
    },
    {
      "cell_type": "code",
      "source": [
        "############################################################################################  문제풀기"
      ],
      "metadata": {
        "id": "rPbUKCxiX5zv"
      },
      "execution_count": null,
      "outputs": []
    },
    {
      "cell_type": "code",
      "source": [
        "21. 아래의 명령문을 보고 출력될 결과를 예측하여 빈칸에 적으시오.\n",
        "명령문\n",
        "def new(n, x) :\n",
        "n = 2\n",
        "x.append(x[-1]+1)\n",
        "print('new: ', n, x)\n",
        "def one() :\n",
        "n = 1\n",
        "x = [0, 1, 2]\n",
        "print('one: ', n, x)\n",
        "new(n, x)\n",
        "print('one: ', n, x)\n",
        "one() "
      ],
      "metadata": {
        "id": "K-XbrDmykLJe"
      },
      "execution_count": null,
      "outputs": []
    },
    {
      "cell_type": "code",
      "source": [
        "# 21 answer\n",
        "\n",
        "one: 1 [0 1 2]\n",
        "new: 2 [0 1 2 3] \n",
        "one: 1 [0 1 2]"
      ],
      "metadata": {
        "id": "PlcbNex1keJZ"
      },
      "execution_count": null,
      "outputs": []
    },
    {
      "cell_type": "code",
      "source": [
        "d={}\n",
        "d=dict()  #위랑같음     "
      ],
      "metadata": {
        "id": "_eS_aBt8lgEx"
      },
      "execution_count": null,
      "outputs": []
    },
    {
      "cell_type": "code",
      "source": [
        "\n"
      ],
      "metadata": {
        "id": "KajRiBuFlkwS"
      },
      "execution_count": null,
      "outputs": []
    },
    {
      "cell_type": "code",
      "source": [
        "# 22 answer\n",
        "bird_pos = []\n",
        "animals = ['새', '코끼리', '강아지', '새', '강아지', '새']\n",
        "for i in range(len(animals)):\n",
        "    if (animals[i]=='새'):\n",
        "        bird_pos.append(i)  \n",
        "print(bird_pos) \n"
      ],
      "metadata": {
        "colab": {
          "base_uri": "https://localhost:8080/"
        },
        "id": "XDHxOK8LrS2l",
        "outputId": "38a3b8fd-c062-4b53-d67a-a8ee0f8e83c9"
      },
      "execution_count": 19,
      "outputs": [
        {
          "output_type": "stream",
          "name": "stdout",
          "text": [
            "[0, 3, 5]\n"
          ]
        }
      ]
    },
    {
      "cell_type": "code",
      "source": [
        "# 23 answer\n",
        "\n",
        "['사과','키위','포도']"
      ],
      "metadata": {
        "id": "a46pGakLs9Qh"
      },
      "execution_count": null,
      "outputs": []
    },
    {
      "cell_type": "code",
      "source": [
        "# 24 answer\n",
        "people = [31, 53, 41, 19, 15, 18, 21, 13]\n",
        "adult = [i for i in  people    if i>=19 ] \n",
        "print(adult)\n",
        "\n",
        "\n"
      ],
      "metadata": {
        "colab": {
          "base_uri": "https://localhost:8080/"
        },
        "id": "24zUuN64tJdz",
        "outputId": "a432e6cc-ed49-4bf5-cafc-35879bfcd982"
      },
      "execution_count": 28,
      "outputs": [
        {
          "output_type": "stream",
          "name": "stdout",
          "text": [
            "[31, 53, 41, 19, 21]\n"
          ]
        }
      ]
    },
    {
      "cell_type": "code",
      "source": [
        "# 25 answer\n",
        "import random\n",
        "bigdata = [] \n",
        "for i in range(100):\n",
        "    bigdata.append(random.randint(1,34))\n",
        "print(bigdata)\n",
        "nodata = [range(1,34)]\n",
        "\n",
        "for x in bigdata:\n",
        "    if x in nodata :\n",
        "        nodata.remove(x)\n",
        "print(nodata)"
      ],
      "metadata": {
        "colab": {
          "base_uri": "https://localhost:8080/"
        },
        "id": "5muZXw3kvlPU",
        "outputId": "6faad595-81f5-47a2-b660-780cae5c6543"
      },
      "execution_count": 46,
      "outputs": [
        {
          "output_type": "stream",
          "name": "stdout",
          "text": [
            "[22, 31, 34, 22, 16, 15, 24, 18, 18, 7, 7, 21, 31, 25, 34, 23, 22, 3, 14, 17, 25, 5, 16, 13, 19, 6, 15, 4, 14, 24, 16, 27, 23, 30, 10, 11, 6, 13, 15, 16, 28, 25, 10, 4, 16, 8, 11, 6, 2, 30, 28, 14, 32, 5, 26, 5, 25, 20, 10, 6, 17, 14, 18, 11, 16, 19, 27, 16, 14, 9, 3, 13, 1, 24, 22, 19, 15, 3, 5, 4, 11, 30, 14, 2, 9, 12, 22, 12, 18, 13, 7, 17, 7, 29, 8, 7, 5, 6, 14, 30]\n",
            "[range(1, 34)]\n"
          ]
        }
      ]
    },
    {
      "cell_type": "code",
      "source": [
        "# 25 answer\n",
        "import random\n",
        "bigdata = [] \n",
        "for i in range(100):\n",
        "    bigdata.append(random.randint(1,34))\n",
        "print(bigdata)\n",
        "nodata = list(range(1,34))   \n",
        "\n",
        "for x in bigdata:\n",
        "    if x in nodata :\n",
        "        nodata.remove(x)\n",
        "print(nodata)"
      ],
      "metadata": {
        "colab": {
          "base_uri": "https://localhost:8080/"
        },
        "id": "Iy_Q9vHb1Gkf",
        "outputId": "5f9ab947-00c8-422e-c241-f1403ef93efe"
      },
      "execution_count": 55,
      "outputs": [
        {
          "output_type": "stream",
          "name": "stdout",
          "text": [
            "[10, 7, 21, 14, 26, 13, 22, 9, 30, 10, 20, 7, 25, 34, 18, 7, 6, 3, 34, 3, 21, 20, 9, 24, 13, 26, 13, 1, 8, 17, 24, 30, 30, 34, 24, 3, 33, 1, 21, 12, 25, 20, 15, 20, 22, 22, 31, 13, 11, 27, 14, 26, 21, 22, 14, 21, 16, 5, 21, 4, 29, 28, 31, 26, 18, 7, 12, 23, 13, 34, 34, 24, 33, 25, 27, 19, 4, 32, 29, 16, 29, 34, 15, 31, 22, 16, 28, 1, 1, 19, 14, 23, 28, 22, 12, 27, 16, 8, 14, 2]\n",
            "[]\n"
          ]
        }
      ]
    },
    {
      "cell_type": "code",
      "source": [
        "# 25 answer\n",
        "import random\n",
        "bigdata = [] \n",
        "for i in range(100):\n",
        "    bigdata.append(random.randint(1,34))\n",
        "print(bigdata)\n",
        "nodata = [range(1,34) ]                      # [range(1,34)]를 타입  (type([range(1,34)]) 면 리스트타입이지만   리스트 안 객체가 range(1,34) 하나인 리스트라\n",
        "                                            # 아래조건문에서 전부false를 받는다   /파이튜터\n",
        "print(type([range(1,34)]))\n",
        "for x in bigdata:\n",
        "    if x in nodata :\n",
        "        nodata.remove(x)\n",
        "print(nodata)"
      ],
      "metadata": {
        "colab": {
          "base_uri": "https://localhost:8080/"
        },
        "id": "Z_wNJ2Iv3wq2",
        "outputId": "0b535be3-30ab-40e0-a3de-63fafe2f9598"
      },
      "execution_count": 57,
      "outputs": [
        {
          "output_type": "stream",
          "name": "stdout",
          "text": [
            "[20, 2, 16, 29, 12, 23, 15, 28, 15, 16, 7, 34, 12, 34, 31, 8, 32, 5, 23, 30, 11, 33, 28, 24, 6, 1, 21, 32, 13, 7, 16, 3, 28, 26, 9, 23, 6, 21, 4, 22, 29, 21, 12, 24, 15, 22, 4, 30, 7, 9, 21, 24, 19, 25, 4, 14, 6, 10, 14, 25, 32, 10, 2, 23, 28, 8, 32, 20, 8, 20, 34, 18, 24, 6, 13, 6, 18, 15, 32, 17, 28, 3, 22, 33, 26, 23, 10, 30, 34, 20, 25, 1, 5, 33, 14, 33, 16, 2, 10, 10]\n",
            "<class 'list'>\n",
            "[range(1, 34)]\n"
          ]
        }
      ]
    }
  ]
}
