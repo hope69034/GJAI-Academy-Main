{
  "nbformat": 4,
  "nbformat_minor": 0,
  "metadata": {
    "colab": {
      "name": "628 전역지역매개변수 데프 글로벌 튜플화,딕션변수",
      "provenance": [],
      "collapsed_sections": []
    },
    "kernelspec": {
      "name": "python3",
      "display_name": "Python 3"
    },
    "language_info": {
      "name": "python"
    }
  },
  "cells": [
    {
      "cell_type": "code",
      "execution_count": null,
      "metadata": {
        "id": "MmG2HuEinabF"
      },
      "outputs": [],
      "source": [
        "디폴트매개변수설명\n",
        "\n",
        "def f():\n",
        "    pass\n",
        "def f(x):\n",
        "    pass\n",
        "\n",
        "    같은이름의다른함수를호출함수오버로딩파이썬은함수오버로딩이없다    ''\n",
        "    f()\n",
        "    f(19)\n",
        "   다른함수\n",
        "\n",
        "   하지만 파이썬은 디폴트 매개변수가 존재할 수 있기 때문에 조금 다르게 작동한다\n",
        "\n",
        "   def f(x=10):\n",
        "       pass\n",
        "   f(10)\n",
        "   f()     < 디폴트로 10값이 있기 때문에 f()을 써도 f(10) 과 같다\n",
        "   디폴트 매개변수 입력이 없을때자동으로들어가는매개변수\n",
        "     \n",
        "\n",
        "     주소도같다"
      ]
    },
    {
      "cell_type": "code",
      "source": [
        "ex)\n",
        "def f(x=10):\n",
        "      print(1)\n",
        "f() >>> f(10)  , f(19)               "
      ],
      "metadata": {
        "colab": {
          "base_uri": "https://localhost:8080/"
        },
        "id": "_K__2Juepgt8",
        "outputId": "15522828-0824-4c38-feee-ecdff3483ea1"
      },
      "execution_count": 5,
      "outputs": [
        {
          "output_type": "stream",
          "name": "stdout",
          "text": [
            "1\n",
            "1\n"
          ]
        },
        {
          "output_type": "execute_result",
          "data": {
            "text/plain": [
              "(None, None)"
            ]
          },
          "metadata": {},
          "execution_count": 5
        }
      ]
    },
    {
      "cell_type": "code",
      "source": [
        "def f(x=10):\n",
        "    print('함수동작')\n",
        "a=f\n",
        "a(10)    , f(10)\n",
        "print(a==f)\n",
        "print(a is f )"
      ],
      "metadata": {
        "colab": {
          "base_uri": "https://localhost:8080/"
        },
        "id": "QF5TiyHNqNe7",
        "outputId": "0d17162c-7494-4110-c133-8bb32819b01c"
      },
      "execution_count": 13,
      "outputs": [
        {
          "output_type": "stream",
          "name": "stdout",
          "text": [
            "함수동작\n",
            "함수동작\n",
            "True\n",
            "True\n"
          ]
        }
      ]
    },
    {
      "cell_type": "code",
      "source": [
        "def f1(a):                      데프함수 리스트에 넣어서 인덱스로 실행\n",
        "    print('w')\n",
        "def f2(a):\n",
        "    print('e')\n",
        "a=[f1,f2]\n",
        "a[1](10)  #1인덱스함수인 f2로 f2(10) 이 작동\n"
      ],
      "metadata": {
        "colab": {
          "base_uri": "https://localhost:8080/"
        },
        "id": "vd20pBzzrM16",
        "outputId": "0465bdfd-49aa-4235-cb41-9fee7d74fcf1"
      },
      "execution_count": 17,
      "outputs": [
        {
          "output_type": "stream",
          "name": "stdout",
          "text": [
            "e\n"
          ]
        }
      ]
    },
    {
      "cell_type": "code",
      "source": [
        "전역변수='전역'\n",
        "def 함수(입)ㅣ\n",
        "   print(전역변수)\n",
        "   전역변수=11          지역 [전역변수[] 변수가 선언되엇기에 전역을 쓸 수 없는 상태서 프린트전역변수먼저 와서 에러\n",
        "                        \n",
        "함수(10)"
      ],
      "metadata": {
        "colab": {
          "base_uri": "https://localhost:8080/",
          "height": 137
        },
        "id": "Ltm8NpdcrpLo",
        "outputId": "40c05a33-02f8-40f6-c7e9-51fea81f111c"
      },
      "execution_count": 18,
      "outputs": [
        {
          "output_type": "error",
          "ename": "SyntaxError",
          "evalue": "ignored",
          "traceback": [
            "\u001b[0;36m  File \u001b[0;32m\"<ipython-input-18-ac99458d58ac>\"\u001b[0;36m, line \u001b[0;32m2\u001b[0m\n\u001b[0;31m    def 함수(입)ㅣ\u001b[0m\n\u001b[0m             ^\u001b[0m\n\u001b[0;31mSyntaxError\u001b[0m\u001b[0;31m:\u001b[0m invalid syntax\n"
          ]
        }
      ]
    },
    {
      "cell_type": "code",
      "source": [
        "def 안에서 전역변수를 다른값으로 바꿀려면\n",
        " global 변수이름     # 같은영역의지역변수를 선언한 것과 동급이다  >>> 지역변수를 아래서 만들 수 없다 >> 전역변수를 갱신한다\n",
        " 으로 전역변수끌어옴\n",
        " 변수이름 = 다른값으로변환\n",
        "\n",
        " 파이썬은 모든객체가이름이다 이름을 선언하지않으면 존재하지 않는다\n",
        " 파이썬은 모두가 객체다"
      ],
      "metadata": {
        "id": "0F-8N3YquRd6"
      },
      "execution_count": null,
      "outputs": []
    },
    {
      "cell_type": "code",
      "source": [
        "함수()\n",
        "함수는 미리만들어진기능\n",
        "ㅏ함수펑션려ㅜ펑션 function코드덩어리 코드묶음\n"
      ],
      "metadata": {
        "id": "Yl0LhoFvu-lb"
      },
      "execution_count": null,
      "outputs": []
    },
    {
      "cell_type": "code",
      "source": [
        "a파일에 있는 데프함수를 b파일에서 쓰고 싶을 때\n",
        "\n",
        "데프 데피니션 졍의 ㅇㄷ랴ㅜㅑ샤ㅐㅜ\n",
        "함수이름은식별자규칙\n",
        "암묵적 룰\n",
        "소문자로 입력\n",
        "ㄱ행위를기록하므로 동사와명사를함께사용하면 좋다\n",
        "\n",
        "\n",
        "파라미터 매개변수 parameter"
      ],
      "metadata": {
        "id": "cRa6Nw-Curel"
      },
      "execution_count": null,
      "outputs": []
    },
    {
      "cell_type": "code",
      "source": [
        "def f():\n",
        "    return 1,2,3,4\n",
        "f()     함수하나당 하나를 리턴하기 때문에 1,2,3,4 가 튜플로 묶인 하나가 리스트에\n",
        "  ㅡ  단 함수 안에 리턴 이 여러개 존재할 수는 있다(둘다동시동작은x > 리턴 하나를 만나면 거기거 함수 탈출)\n"
      ],
      "metadata": {
        "colab": {
          "base_uri": "https://localhost:8080/"
        },
        "id": "PcR4Jx0rwuGU",
        "outputId": "de71da48-dc37-4b70-ab77-e59b0a2448b4"
      },
      "execution_count": 19,
      "outputs": [
        {
          "output_type": "execute_result",
          "data": {
            "text/plain": [
              "(1, 2, 3, 4)"
            ]
          },
          "metadata": {},
          "execution_count": 19
        }
      ]
    },
    {
      "cell_type": "code",
      "source": [
        "def f():\n",
        "    return 1,2     #리턴은 동시에 두개이상 x 하나만    >  리턴12가 먼저 동작\n",
        "    return\n",
        "f()     "
      ],
      "metadata": {
        "colab": {
          "base_uri": "https://localhost:8080/"
        },
        "id": "CTrnmFYuxasE",
        "outputId": "16779bcc-cf84-4bed-a67d-6162bf5742cf"
      },
      "execution_count": 20,
      "outputs": [
        {
          "output_type": "execute_result",
          "data": {
            "text/plain": [
              "(1, 2)"
            ]
          },
          "metadata": {},
          "execution_count": 20
        }
      ]
    },
    {
      "cell_type": "code",
      "source": [
        "def f():\n",
        "    return      #  >  리턴이 먼저 동작 햇기에 리턴12는 x\n",
        "    return 1,2\n",
        "f()     "
      ],
      "metadata": {
        "id": "1JN3dgp8uaN8"
      },
      "execution_count": 22,
      "outputs": []
    },
    {
      "cell_type": "code",
      "source": [
        "def f(x):\n",
        "    if x==0:\n",
        "        return 0\n",
        "f(1)      #아무일도일어나지않지만\n",
        "print(f(1))      #함수에선 무조건 리턴이 하나 나오기 때문에 넌이 나왔다  "
      ],
      "metadata": {
        "colab": {
          "base_uri": "https://localhost:8080/"
        },
        "id": "oT06BAIwxzuH",
        "outputId": "fb014c6c-f56e-41fc-c344-45fd4ec6e068"
      },
      "execution_count": 24,
      "outputs": [
        {
          "output_type": "stream",
          "name": "stdout",
          "text": [
            "None\n"
          ]
        }
      ]
    },
    {
      "cell_type": "code",
      "source": [
        "var=2\n",
        "def func(arg):   #   여기서 arg가 2 로\n",
        "    var=1\n",
        "    print(var,arg)\n",
        "func(var)                "
      ],
      "metadata": {
        "colab": {
          "base_uri": "https://localhost:8080/"
        },
        "id": "_NjFUVlhyHyr",
        "outputId": "7ca27743-476b-41bd-a550-0667aaf0dc69"
      },
      "execution_count": 25,
      "outputs": [
        {
          "output_type": "stream",
          "name": "stdout",
          "text": [
            "1 2\n"
          ]
        }
      ]
    },
    {
      "cell_type": "code",
      "source": [
        "a=0\n",
        "def f(x,y):\n",
        "    return x+y\n",
        "a=f(10,2)    \n",
        "print(a)"
      ],
      "metadata": {
        "colab": {
          "base_uri": "https://localhost:8080/"
        },
        "id": "tZsoQloN0I4d",
        "outputId": "524117a8-95e0-49a7-fcc0-6f6f7a7222c3"
      },
      "execution_count": 27,
      "outputs": [
        {
          "output_type": "stream",
          "name": "stdout",
          "text": [
            "12\n"
          ]
        }
      ]
    },
    {
      "cell_type": "code",
      "source": [
        "var=2\n",
        "def func(arg):   #   여기서 arg가 2 로   # arg 는 변수    var=2 전역변수 2로 설정됨\n",
        "    var=1             # var=1 지역변수 선언으로 첫절 func arg 에서 arg가 전역변수2로 설정됨 \n",
        "                         \n",
        "    print(var,arg)\n",
        "func(var)          \n",
        "\n"
      ],
      "metadata": {
        "colab": {
          "base_uri": "https://localhost:8080/"
        },
        "id": "HaD3iLxb0W-G",
        "outputId": "175ac894-ee3b-4628-a92a-30a333fc3f95"
      },
      "execution_count": 29,
      "outputs": [
        {
          "output_type": "stream",
          "name": "stdout",
          "text": [
            "1 2\n"
          ]
        }
      ]
    },
    {
      "cell_type": "code",
      "source": [
        "a=2\n",
        "def f(x):           2여기서 f(a)>f(x)  에서 x=2 로 설정\n",
        "    a=1             3여기서 a=1   \n",
        "    print(a,x)      4 프린트 1,2\n",
        "f(a)               1, 여기서 a=2로"
      ],
      "metadata": {
        "colab": {
          "base_uri": "https://localhost:8080/"
        },
        "id": "w8IqBp5uxt7j",
        "outputId": "8d7fbd3b-ba8a-4b19-d9fd-bba8e664a8cb"
      },
      "execution_count": 32,
      "outputs": [
        {
          "output_type": "stream",
          "name": "stdout",
          "text": [
            "1 2\n"
          ]
        }
      ]
    },
    {
      "cell_type": "code",
      "source": [
        "def main():\n",
        "        print('d메인동작')\n",
        "if __name__=='__main__'  :  #실행한 영역이 작성된 영역과 일치 유무확인\n",
        "    main()\n",
        "            "
      ],
      "metadata": {
        "colab": {
          "base_uri": "https://localhost:8080/"
        },
        "id": "5VpulZX73d3V",
        "outputId": "4e8f645a-2ff8-475a-fb10-9a497194f15a"
      },
      "execution_count": 35,
      "outputs": [
        {
          "output_type": "stream",
          "name": "stdout",
          "text": [
            "d메인동작\n"
          ]
        }
      ]
    },
    {
      "cell_type": "code",
      "source": [
        "-A파일-\n",
        "-\n",
        "def f(x):\n",
        "    pass\n",
        "f(10)    \n",
        "\n",
        "-B파일-\n",
        "\n",
        "import 가방 #코드복붙\n",
        "\n",
        "# f(10) 까지 불필요하게 달려옴  작성할 함수와 다른 함수가 됨 \n",
        "#그래서\n",
        "\n",
        "def main():\n",
        "        print('d메인동작')   # 생략해도 똑같다\n",
        "\n",
        "\n",
        "        #네임은 B파일에 작성하고잇는 함수     임폴트로블로운 에이파일 메인데프랑 같은지 확인\n",
        "if __name__=='__main__'  :  #실행한 영역이 작성된 영역과 일치 유무확인   # \n",
        "    main() #실행문    # 메인함수를 가져와서  같으면 실행해라\n",
        "\n",
        "    이것으로 실행작성 일치유무확인"
      ],
      "metadata": {
        "id": "jyORpPG93rfE"
      },
      "execution_count": null,
      "outputs": []
    },
    {
      "cell_type": "code",
      "source": [
        "def f(a,b):  #입력매개변수두개입력해야실행 # 파이썬의 매개변수는 자료형의 재한은ㅇ 없다\n",
        "    pass\n",
        "\n",
        "#가변인자 튜플화인자 튜플화매개변수 라고 부른다     /튜플 만들고나서가 불변\n",
        "# 값을 튜플로 묶는다 이걸 튜플화인자라고 부른다 가변인자라고 부른다\n",
        "def f(a,*b):\n",
        "    print( f' a:{a}, b:{b}          ')\n"
      ],
      "metadata": {
        "id": "QpEuIJfq5r2I"
      },
      "execution_count": null,
      "outputs": []
    },
    {
      "cell_type": "code",
      "source": [
        "def f(a,*b):\n",
        "    print( f' a:{a}, b:{b}          ')\n",
        "f(1)           # 에러 안생김 튜플화인자는 빈공간을 튜플로 만든다"
      ],
      "metadata": {
        "colab": {
          "base_uri": "https://localhost:8080/"
        },
        "id": "UG5cHeDK7Beg",
        "outputId": "012e2ebe-dbf3-47f2-d03d-8f190b0a385b"
      },
      "execution_count": 36,
      "outputs": [
        {
          "output_type": "stream",
          "name": "stdout",
          "text": [
            " a:1, b:()          \n"
          ]
        }
      ]
    },
    {
      "cell_type": "code",
      "source": [
        "f(1,2)"
      ],
      "metadata": {
        "colab": {
          "base_uri": "https://localhost:8080/"
        },
        "id": "umJctM797RqN",
        "outputId": "cd9eac85-c2d6-4a69-ed5a-b42ee2f337fa"
      },
      "execution_count": 37,
      "outputs": [
        {
          "output_type": "stream",
          "name": "stdout",
          "text": [
            " a:1, b:(2,)          \n"
          ]
        }
      ]
    },
    {
      "cell_type": "code",
      "source": [
        "f(1,2,3)"
      ],
      "metadata": {
        "colab": {
          "base_uri": "https://localhost:8080/"
        },
        "id": "gOoG9NQw7Y4Z",
        "outputId": "488ff096-fdba-4ab9-a216-d681ca0ae527"
      },
      "execution_count": 38,
      "outputs": [
        {
          "output_type": "stream",
          "name": "stdout",
          "text": [
            " a:1, b:(2, 3)          \n"
          ]
        }
      ]
    },
    {
      "cell_type": "code",
      "source": [
        "f(1,2,3,4)"
      ],
      "metadata": {
        "colab": {
          "base_uri": "https://localhost:8080/"
        },
        "id": "uu0e5ucl72nD",
        "outputId": "580a7f28-b8b3-434c-a64e-0cb8415e6eac"
      },
      "execution_count": 40,
      "outputs": [
        {
          "output_type": "stream",
          "name": "stdout",
          "text": [
            " a:1, b:(2, 3, 4)          \n"
          ]
        }
      ]
    },
    {
      "cell_type": "code",
      "source": [
        "f( , 2) #에러"
      ],
      "metadata": {
        "id": "ncEDWSWN7uF4"
      },
      "execution_count": null,
      "outputs": []
    },
    {
      "cell_type": "code",
      "source": [
        "def f(a, *b , v=10 ) :\n",
        "    print( f' ')\n",
        "f(1,2,3)    # a:1  b 2,3   v 10      #v에 안들어감 \n",
        " #  f(1,2,3,v=22)#이런식으로 v값ㅇ넣을수잇다"
      ],
      "metadata": {
        "id": "FRCGGkCC7yY6"
      },
      "execution_count": null,
      "outputs": []
    },
    {
      "cell_type": "code",
      "source": [
        "f(1,(1,2),(1,2,3),v=22)"
      ],
      "metadata": {
        "colab": {
          "base_uri": "https://localhost:8080/",
          "height": 174
        },
        "id": "arsaiT-Z8ZOT",
        "outputId": "620d66ac-3b2f-4872-883c-833a1ed5aa87"
      },
      "execution_count": 41,
      "outputs": [
        {
          "output_type": "error",
          "ename": "TypeError",
          "evalue": "ignored",
          "traceback": [
            "\u001b[0;31m---------------------------------------------------------------------------\u001b[0m",
            "\u001b[0;31mTypeError\u001b[0m                                 Traceback (most recent call last)",
            "\u001b[0;32m<ipython-input-41-d9297ce6b2fc>\u001b[0m in \u001b[0;36m<module>\u001b[0;34m()\u001b[0m\n\u001b[0;32m----> 1\u001b[0;31m \u001b[0mf\u001b[0m\u001b[0;34m(\u001b[0m\u001b[0;36m1\u001b[0m\u001b[0;34m,\u001b[0m\u001b[0;34m(\u001b[0m\u001b[0;36m1\u001b[0m\u001b[0;34m,\u001b[0m\u001b[0;36m2\u001b[0m\u001b[0;34m)\u001b[0m\u001b[0;34m,\u001b[0m\u001b[0;34m(\u001b[0m\u001b[0;36m1\u001b[0m\u001b[0;34m,\u001b[0m\u001b[0;36m2\u001b[0m\u001b[0;34m,\u001b[0m\u001b[0;36m3\u001b[0m\u001b[0;34m)\u001b[0m\u001b[0;34m,\u001b[0m\u001b[0mv\u001b[0m\u001b[0;34m=\u001b[0m\u001b[0;36m22\u001b[0m\u001b[0;34m)\u001b[0m\u001b[0;34m\u001b[0m\u001b[0;34m\u001b[0m\u001b[0m\n\u001b[0m",
            "\u001b[0;31mTypeError\u001b[0m: f() got an unexpected keyword argument 'v'"
          ]
        }
      ]
    },
    {
      "cell_type": "code",
      "source": [
        "def f(a,*b,v=10, a1):              #   특수변수뒤에는 일반변수를 또붙이지못함 단 f(2, a1=1 ) 은정상작동도 가능\n",
        "    print( f' a:{a}, b:{b}   ,v:{v}       ')\n",
        "f(1,a1=1)    "
      ],
      "metadata": {
        "colab": {
          "base_uri": "https://localhost:8080/"
        },
        "id": "kM6zPDl08R7S",
        "outputId": "9b450540-142a-4317-8df7-a3cfc9b54e29"
      },
      "execution_count": 44,
      "outputs": [
        {
          "output_type": "stream",
          "name": "stdout",
          "text": [
            " a:1, b:()   ,v:10       \n"
          ]
        }
      ]
    },
    {
      "cell_type": "code",
      "source": [
        "*붙으면 튜플화인자"
      ],
      "metadata": {
        "id": "Y-SMIzXl9Izr"
      },
      "execution_count": null,
      "outputs": []
    },
    {
      "cell_type": "code",
      "source": [
        "# 딗셔너리인자\n",
        "#def f(*x)         #별이 칸 한개를 뜻함           # *x는 튜플화인자 \n",
        "def f(**x)  #키랑 밸류랑 칸이 두개를 필요 > 별두개 . 딕션인자\n",
        "    print(x)\n",
        "\n"
      ],
      "metadata": {
        "colab": {
          "base_uri": "https://localhost:8080/",
          "height": 137
        },
        "id": "pWN5BS7G9OjJ",
        "outputId": "773072c3-f56d-458f-d554-9874749bbf1a"
      },
      "execution_count": 48,
      "outputs": [
        {
          "output_type": "error",
          "ename": "SyntaxError",
          "evalue": "ignored",
          "traceback": [
            "\u001b[0;36m  File \u001b[0;32m\"<ipython-input-48-4b2ba88d3767>\"\u001b[0;36m, line \u001b[0;32m3\u001b[0m\n\u001b[0;31m    def f(**x)  #키랑 밸류랑 칸이 두개를 필요 > 별두개 . 딕션인자\u001b[0m\n\u001b[0m                                              ^\u001b[0m\n\u001b[0;31mSyntaxError\u001b[0m\u001b[0;31m:\u001b[0m invalid syntax\n"
          ]
        }
      ]
    },
    {
      "cell_type": "code",
      "source": [
        "    d={}\n",
        "    d1=dict()\n",
        "    d,d1"
      ],
      "metadata": {
        "colab": {
          "base_uri": "https://localhost:8080/"
        },
        "id": "DqD3bmSC-GKE",
        "outputId": "1842f59b-cca4-4b72-8482-a0f492052495"
      },
      "execution_count": 49,
      "outputs": [
        {
          "output_type": "execute_result",
          "data": {
            "text/plain": [
              "({}, {})"
            ]
          },
          "metadata": {},
          "execution_count": 49
        }
      ]
    },
    {
      "cell_type": "code",
      "source": [
        "    d={'data1':10}       #키먼저 잡고 밸류를 넣음\n",
        "    d1=dict(data1=10)  # 키랑 밸류를 만들고  후 주머니로 감쌈\n",
        "    d,d1\n",
        "\n",
        "    "
      ],
      "metadata": {
        "colab": {
          "base_uri": "https://localhost:8080/"
        },
        "id": "1r4wyQCl-KVl",
        "outputId": "f4555d32-b9d4-4067-9cca-5fa7584bb7b2"
      },
      "execution_count": 51,
      "outputs": [
        {
          "output_type": "execute_result",
          "data": {
            "text/plain": [
              "({'data1': 10}, {'data1': 10})"
            ]
          },
          "metadata": {},
          "execution_count": 51
        }
      ]
    },
    {
      "cell_type": "code",
      "source": [
        "def f(**x) : #키랑 밸류랑 칸이 두개를 필요 > 별두개 . 딕션인자\n",
        "    print(x)\n",
        "f(a=1,b=2, c=3,d=4)     #키를 선언하지 않았으나  딕 션키 =밸류 값으로 아라서드러감"
      ],
      "metadata": {
        "colab": {
          "base_uri": "https://localhost:8080/"
        },
        "id": "-66jPr4y-qYU",
        "outputId": "08c30c3a-d650-42ed-90af-2adb803af3bf"
      },
      "execution_count": 56,
      "outputs": [
        {
          "output_type": "stream",
          "name": "stdout",
          "text": [
            "{'a': 1, 'b': 2, 'c': 3, 'd': 4}\n"
          ]
        }
      ]
    },
    {
      "cell_type": "code",
      "source": [
        "def f(**x,a=1) : #키랑 밸류랑 칸이 두개를 필요 > 별두개 . 딕션인자\n",
        "    print(x)\n",
        "f(a=1,b=2, c==3,d=4)    "
      ],
      "metadata": {
        "id": "_YAmgyfA-4VD"
      },
      "execution_count": null,
      "outputs": []
    },
    {
      "cell_type": "code",
      "source": [
        "def f(a=10,**x) : #키랑 밸류랑 칸이 두개를 필요 > 별두개 . 딕션인자\n",
        "    print(x)\n",
        "f(1,a=1,b=2, c==3,d=4)   #에러  1이 에이에들어갓는데 그다음 a=1 에서 에러  a가 매개변수a인지 딕션의 키값인지 알 수 없음   "
      ],
      "metadata": {
        "id": "dcNPCko4-6Z_"
      },
      "execution_count": null,
      "outputs": []
    },
    {
      "cell_type": "code",
      "source": [
        "def f(a=10, **x):                    1. b 1 c 3 값이 들어감\n",
        "    print(x)                          2. 출력\n",
        "    print(list(x.keys())[0])            3 키값을 리스트로 만들고 0인덱은  b를 출력\n",
        "    x[list(x.keys())[0]]=10  #딕셔너리의 키의 0인덱값에 10을넣겟다    4. x[b]=10  딕션인자 x의 키b  밸류를 10으로 바꿈\n",
        "    print(x)\n",
        "f(b=1,c=3)\n",
        "\n"
      ],
      "metadata": {
        "colab": {
          "base_uri": "https://localhost:8080/"
        },
        "id": "8sCMZFEj_Znd",
        "outputId": "d3900ef1-6c1b-477d-bc08-00312f1b505b"
      },
      "execution_count": 64,
      "outputs": [
        {
          "output_type": "stream",
          "name": "stdout",
          "text": [
            "{'b': 1, 'c': 3}\n",
            "b\n",
            "{'b': 10, 'c': 3}\n"
          ]
        }
      ]
    },
    {
      "cell_type": "code",
      "source": [
        "함수\n",
        "변수에함수할당\n",
        "리스트요소로함수사용  리스트안에데프함수넣기"
      ],
      "metadata": {
        "id": "oQHG33ogDoxK"
      },
      "execution_count": null,
      "outputs": []
    },
    {
      "cell_type": "code",
      "source": [
        "재귀호출 Recursion 리커전\n",
        "  : 재귀호출은 가장 느린 반복문이다\n",
        "함수에서 그 함수를 다시 호출하는 것\n",
        "데이터 n게로 이뤄진 문제가 n-1개 문제를 해결하면 간단하게 해결될 때 사용\n",
        "느리고 메모리 많이 차지\n",
        "\n",
        "n! 수식표현\n",
        "n! = n * n-1 ...   5!  =  5 4 3 2 1\n",
        "n!= n* (n-1) !      5! =  5  4! \n",
        "(n-1) ! = (n-1) * (n-2)!  4! =   4 3!\n"
      ],
      "metadata": {
        "id": "fE3JLvyeDv-4"
      },
      "execution_count": null,
      "outputs": []
    },
    {
      "cell_type": "code",
      "source": [
        "#10! 구하기\n",
        "def f_f(x):\n",
        " #   x  *   (x-1) *  ((x-1) -1)   ..........\n",
        "    # 팩토리얼은 1까지 곱해야함 \n",
        "    if x == 0:\n",
        "        return 1       # 이건 4 3 2 1 1 임    아래에 4 3 2 1  여기서 리턴하면서 끝남\n",
        "    else:    \n",
        "        return x*(f_f(x-1)) \n",
        "f_f(10)\n",
        "\n"
      ],
      "metadata": {
        "colab": {
          "base_uri": "https://localhost:8080/"
        },
        "id": "2yyv-FsoEie0",
        "outputId": "68a766e3-e553-4e9d-f6a4-6f7b83d66e02"
      },
      "execution_count": 77,
      "outputs": [
        {
          "output_type": "execute_result",
          "data": {
            "text/plain": [
              "3628800"
            ]
          },
          "metadata": {},
          "execution_count": 77
        }
      ]
    },
    {
      "cell_type": "code",
      "source": [
        "#10! 구하기\n",
        "def f_f(x):           #재귀 recursion 리커전 자기스스로를호출하는것 >'가장느린반복문'\n",
        "                           #즉 성능이중요하면 반복문으로 써야한다\n",
        " \n",
        "    if x == 1 :\n",
        "        return 1           #리턴하면서 끝남 안에함수없음\n",
        "    else:    \n",
        "        return x*(f_f(x-1)) \n",
        "f_f(10)\n",
        "\n"
      ],
      "metadata": {
        "colab": {
          "base_uri": "https://localhost:8080/"
        },
        "id": "wlKEIM4bF_Mp",
        "outputId": "9be33714-4af3-45db-da59-f4b562fa0e72"
      },
      "execution_count": 74,
      "outputs": [
        {
          "output_type": "execute_result",
          "data": {
            "text/plain": [
              "3628800"
            ]
          },
          "metadata": {},
          "execution_count": 74
        }
      ]
    },
    {
      "cell_type": "code",
      "source": [
        "메모리영역\n",
        "\n",
        "메모리관리의주체는운영체제이다\n",
        "반드시운영체제를통해서만메모리를할당\n",
        "\n",
        "운영체제는메모리가잇는한은할당요청을거절하지않는다\n",
        "\n",
        "한번할당된메모리공간은절대로다른목적을위해서재할당되지않는다\n",
        " 할당된공간은안정적\n",
        "  그공간이비어잇더라도 - 저장할공간을할당받은것\n",
        "   한번할당된 메모리 - 공간은 다른이가못건든다\n",
        "    \n",
        "응용프로그램이할당된메모리를해제하면운영체제는이공간을빈영역으로인식한다\n",
        "  그공간에 데이터가 잇어도 그곳은 빈자리다\n",
        "   할당된메모리를 해제하면 빈영역으로 인식한다\n",
        "   ex) 프로그램설치 언인스톨  \n",
        "      공간의 인식과 인식해제의 속도가 같다면\n",
        "      설치와 언인스톨 속도가 같을까?\n",
        "       -언인스톨이 빠르다\n",
        "      언인스톨 시에는 데이터제거가 아니라 공간인식만 제거하기 때문에 설치보다 빠르다  \n",
        "      그래서 업체에서 지운 데이터를 복구 가능\n",
        "\n",
        "(같은주소는 같은객체다)\n",
        "\n",
        "\n"
      ],
      "metadata": {
        "id": "MSx964cGHQd4"
      },
      "execution_count": null,
      "outputs": []
    },
    {
      "cell_type": "code",
      "source": [
        "\n",
        "메모리 영역\n",
        "\n",
        "4개로 나뉜다\n",
        "\n",
        "코드영역\n",
        " 실행코드 ,함수\n",
        "\n",
        "데이터영역 스택틱영역\n",
        " 전역변수 정적변수\n",
        "\n",
        "\n",
        "힙역영\n",
        " 동적메모리할당\n",
        "\n",
        "스택영역\n",
        " 매개변수 지역변수"
      ],
      "metadata": {
        "id": "ET7lMnTqFaA-"
      },
      "execution_count": null,
      "outputs": []
    },
    {
      "cell_type": "code",
      "source": [
        "정적할당 [변수 ][스택]]\n",
        "\n",
        "정적메모리공간할당  정해진메모리공간할당  필요한공간을미리계산후 할수잇다\n",
        "메모리공간필요정도가 분명할시사용\n",
        "선언한메모리공간변화불가  하기 때문에 미리 공간필요정도를알아야한다\n",
        " > 메모리사용적다\n",
        "일반적인 변수 선언 형태\n",
        "\n",
        "동적할당 [밸류][힙]\n",
        "\n",
        "동적메모리공간할당\n",
        "프로그램동작중에도 공간변화가 가능하다\n",
        "필요정도에따라메모리할당후제거하는방식\n",
        "메모리공간필요정도가불분명할시사용\n",
        "임시적인메모리가필요할시사용\n",
        "동적할당된메모리는이름이없는변수와동일 \n",
        "  정해진공간이없다 \n",
        "이름이없는변수라 주소가필요\n",
        " 주소가담긴것을만들겟다\n",
        "\n",
        "동적할당과정적할당\n",
        "\n",
        "\n",
        "\n",
        "정적                                                동적\n",
        "컴파일로고정되는데이타영역에할당                   힙영역에할당\n",
        "컴파일타임에이뤄진다                              런타임중(실행시간)에이뤄진다  미리할당x 프로그램실행중할당 언제끝날지컴터는모름\n",
        "\n",
        "장점 실행도중해제되지않고 자동회수                장점:경제적이다\n",
        "단점 메모리크기조절불가                        단점 더이상사용하지않을때명시적으로메모리를해제해주어야한다\n",
        "                                                        [메모리정리] [일하다가안한공한이게속남아잇어서메모리누수가생김]\n",
        "\n",
        "\n",
        "\n",
        "코드\n",
        "데이터/스택틱\n",
        "힙\n",
        "스택\n",
        "\n",
        "힙 빼고는 전부 컨파일(번역) 타임 때 공간이 정해진다 크기가정해져잇다\n",
        "\n",
        "\n",
        "\n",
        "\n",
        "코드영역\n",
        " 실행코드 ,함수\n",
        "\n",
        "데이터영역 스택틱영역\n",
        " 전역변수 정적변수\n",
        "\n",
        "\n",
        "[힙역영]\n",
        "[동적메모리할당]\n",
        "\n",
        "스택영역\n",
        " 매개변수 지역변수\n",
        "\n",
        "\n",
        "\n"
      ],
      "metadata": {
        "id": "XYT3XzBVLBUR"
      },
      "execution_count": null,
      "outputs": []
    },
    {
      "cell_type": "code",
      "source": [
        "정적할당은 언제 지워야할지 컴터가안다\n",
        "그 지역이 끝 날 때 > 자동회수\n",
        "\n",
        "\n",
        "파이선 전부객체 동적할당\n"
      ],
      "metadata": {
        "id": "Y2i7-DSORrVy"
      },
      "execution_count": null,
      "outputs": []
    },
    {
      "cell_type": "code",
      "source": [
        "############333\n",
        "객체지향\n",
        "##############\n",
        "\n",
        "코드의재사용성이높다\n",
        "   객체를바꾸기만하면 그대로 사용가능\n",
        "덩어리라서 코드 관리가 쉽다\n",
        "\n",
        "프로그램을구성하는모든요소를객체로취급한다\n",
        "객체가상호작용하도록프로그래밍하는게객체지향언어\n",
        "\n",
        "객체지향의성질\n",
        " 캡슐 상속 다형 추상(존재하지안는부모만들기손에안잡히는걸만들기 묵어서말하기)\n",
        " 4성질모두 상속이 기반하고 있다 상속이 있어야 다른것도 가능\n",
        " "
      ],
      "metadata": {
        "id": "K9kHThB9TvcW"
      },
      "execution_count": null,
      "outputs": []
    },
    {
      "cell_type": "code",
      "source": [
        "절차지향                 객체지향\n",
        "\n",
        "절차 > 순차 알고리즘      서로간의 관계로 정의\n",
        "\n",
        "\n",
        "객체란 object\n",
        "  물리적으로 존재하는것 자동차책사람\n",
        "  추상적인것 회사 날자   중에서 자신의속성과동작을 가지는 것\n",
        "  객체는 필드(속성)과 메소드(동작) 로 구성된 파이썬\n",
        "  "
      ],
      "metadata": {
        "id": "fskSPi4UWoeh"
      },
      "execution_count": null,
      "outputs": []
    },
    {
      "cell_type": "code",
      "source": [
        "객체\n",
        "데이터를가지고잇습니다 데이터는객체의상태를기술하는정보를저장합니다\n",
        "\n",
        "행위의집합을가지고잇습니다이행위들은메세지를받앗을때객체가어떻게해야하는지알고있는것입니다\n",
        "\n",
        "개체를구분하는아이덴티티를가지고잇습니다어떠한객체를다른객체와구분하는것을가능케합니다\n",
        "\n",
        "사전적정의 : 실제존재하는것  > 메모리공간에실제존재"
      ],
      "metadata": {
        "id": "annUHrxaYblR"
      },
      "execution_count": null,
      "outputs": []
    },
    {
      "cell_type": "code",
      "source": [
        "\n",
        "\n",
        "프로그램에서의 객체는\n",
        "클래스에 정의된 내용대로 메모리에 샏성된 것\n",
        "\n"
      ],
      "metadata": {
        "id": "Fu6OePjJYsxL"
      },
      "execution_count": null,
      "outputs": []
    },
    {
      "cell_type": "code",
      "source": [
        "객체간의 관계\n",
        "\n",
        "집합관걔   완성품과부품         자동차-[타이어,엔진]\n",
        "사용관계   객체가다른객체를 사용하는    사람과자동차\n",
        "상속관계   종류객체와구체적인사물객체관계   기계-자동차"
      ],
      "metadata": {
        "id": "0OeSekNTZef9"
      },
      "execution_count": null,
      "outputs": []
    },
    {
      "cell_type": "code",
      "source": [
        "### 객체는 클래스에 정의된 내용대로\n",
        "메모리에 만들어진다 ##########################\n",
        "\n",
        "붕어빵기계 클래스              붕어빵의틀-내용이붕어빵기게에정의되어잇다  객체를만드는틀  개체모양등이 클래스에저장되잇다\n",
        "붕어빵  객체\n",
        "\n",
        "객체:클래스라는 틀에서 생겨난 실체\n",
        "\n",
        "\n"
      ],
      "metadata": {
        "id": "rEbNF8GHZxHu"
      },
      "execution_count": null,
      "outputs": []
    },
    {
      "cell_type": "code",
      "source": [
        "퍼블릭 프라이빗  \n",
        "퍼블릭이 디폴트 :아무것도입력하지않으면"
      ],
      "metadata": {
        "id": "ASK9ClQou3iT"
      },
      "execution_count": null,
      "outputs": []
    },
    {
      "cell_type": "code",
      "source": [
        "캡슐화--\n",
        "\n",
        " 객체의속성메소드를하나로묵고실제구현내용을외부에감추는것\n",
        "\n",
        "상속\n",
        "' 클래스(부모 클래스상위클래스   파생(자식클래스'\n",
        " 프로그램에서의 상속은 자식이 부모를 선택해서 받는 것\n",
        " 상속대상 - 부모의 필드와 메소드\n",
        "\n",
        "수퍼 부모 상위클래스    클래스[필드와 메소드]\n",
        "서브 자식 하위클래스\n",
        "\n",
        "자식이가지고오지만 부모가 가지고 잇다 필드,메소드\n",
        "접근경로가잇다\n",
        "내손에가지고잇지않다 접근경로가잇다\n",
        "\n",
        "\n",
        "클래스[필드,메소드]\n",
        "      정보  \n",
        "필드+메소드 = 멤버\n",
        "\n",
        "객체지향\n",
        " 유지보수의편리성\n",
        "  부모클래스를 수정하면 자식클래스를 수정할 필요가 없음\n",
        "  "
      ],
      "metadata": {
        "id": "bH1lkpUbxxvu"
      },
      "execution_count": null,
      "outputs": []
    },
    {
      "cell_type": "code",
      "source": [
        "ㅇㅇㅇㅇㅇㅇ"
      ],
      "metadata": {
        "id": "dN7RxtMa1sk8"
      },
      "execution_count": null,
      "outputs": []
    },
    {
      "cell_type": "code",
      "source": [
        "  다형성 폴리모피즘\n",
        "\n",
        "  연산자중복함수중복함수재정의(오버라이딩)\n",
        "  하나의 기능이 다르게 작동하는 현상\n",
        "\n",
        "   소리내기= [ 멍멍 야옹 꼬꼬댁]\n",
        "   소리내기함수>멍멍 [재정의:오버라이딩] 상속이잇어야오버라이딩가능\n",
        "                        매서드를 오버라이딩\n",
        "\n",
        "   파이썬은 오버로딩이 없다 라이딩만잇다    로딩이라고하지만사실 라이딩                     "
      ],
      "metadata": {
        "id": "XJ49-fal2ZQR"
      },
      "execution_count": null,
      "outputs": []
    },
    {
      "cell_type": "code",
      "source": [
        "추상화\n",
        " 그룹묶기\n",
        "\n",
        " 공통속성이나기능을묵어이름을붙인것\n",
        " 객체지향적관점에서 클래스를 정의하는 것\n",
        "예) 물고기사자토끼 > 동물\n",
        "추상화=규격화\n",
        "규격화니까 규격을 안지키면 안된다\n"
      ],
      "metadata": {
        "id": "eXb2Mmav3K0p"
      },
      "execution_count": null,
      "outputs": []
    },
    {
      "cell_type": "code",
      "source": [
        "#############################\n",
        "\n",
        "클래스\n",
        "\n",
        "########\n",
        "\n",
        "클래스 생성하기\n",
        "\n",
        "생성자\n",
        "초기화(생성자로대체가능)\n",
        "내부의메소드생성가능\n",
        "\n",
        "-\n",
        "class 클래스명:\n",
        "\n",
        "\n",
        "함수라기보단 def 클래스안에잇는것 메소드\n",
        "객체안에잇는함수 메소드\n",
        "\n"
      ],
      "metadata": {
        "id": "eXQtbyjH4J0m"
      },
      "execution_count": null,
      "outputs": []
    },
    {
      "cell_type": "code",
      "source": [
        "def__init__(self):\n",
        "    self.인스턴트변수\n",
        "\n",
        "\n",
        "\n",
        "\n",
        "객체\n",
        " \n",
        "    객체자신의속성을갖고잇고다른것과식별이가능한것\n",
        "     : 데이터를가지고잇다- 필드\n",
        "       행위의집합을가지고잇다 - 메소드\n",
        "        개체를구분하는아이덴티티 - 주소\n",
        "     한번할당된메모리공간은다른것이슬수없다\n",
        "        "
      ],
      "metadata": {
        "id": "rppJFaDy49vB"
      },
      "execution_count": null,
      "outputs": []
    },
    {
      "cell_type": "code",
      "source": [
        "class 클래스:   #틀 . 설계도 -클래스       : 뜻 블락안으로 들어옴 클래스블락\n",
        "    pass\n",
        "\n",
        "class 자동차:    # 자동차라는 클래스 생성  #자동차는 없다 # 자동차 설계도만 있다 \n",
        "    pass\n",
        "\n",
        "클래스 -붕어빵기계\n",
        " 객체를정의해놓은것\n",
        " 객체의설계도\n",
        " 객체를생성하는데사용\n",
        " 객체는클래스에정의된대로생성\n",
        "\n",
        "이름이없는객체 : 가비지\n",
        "이름이없으면찾을수없다\n",
        "이름이없는변수\n",
        "가비지가 불필요하게 메모리는 차지하고 있음\n",
        "가비지컬렉터가 가비지를 지움\n",
        "객체의 이름을 지우면 자동으로 가비지\n",
        "아무도참조하지않은객체\n",
        "참조자료형 -객체\n",
        "이름이없는객체는아무도참조하지않는다\n",
        "객체가이름이없어지면가비지가된다\n",
        "\n",
        "가비지컬렉터 가비지모음 일정기간이 지나야 지운다 일정시간마다 지운다 또는 일정용량이 쌓이면 지운다\n",
        " 자동저장;데몬스트레이터\n"
      ],
      "metadata": {
        "id": "k-dLrrGP8Qh8"
      },
      "execution_count": null,
      "outputs": []
    },
    {
      "cell_type": "code",
      "source": [
        "# 클래스생성의 정석적 형태 \n",
        "  #   class 클래스이름(상속받은클래스명,상속받을 부모클래스):\n",
        "    # 반드시 상속받는클래스가 잇다  오브젝트클래스\n",
        "\n",
        "# class 클래스(object):    ==     class 클래스():       \n",
        "  #오브젝트 가 디폴트  생략가능\n",
        "\n",
        "class 클래스:   #틀 . 설계도 -클래스       : 뜻 블락안으로 들어옴 클래스블락\n",
        "    pass\n",
        "t=클래스()       #클래스이름지정 : 소문자로 - 암묵적룰\n",
        "t\n",
        "# __main__.클래스 at 0x7fd520dc9110    메인객체안에만들어진클래스   at  [ 주소0  ]  #모두가객체다\n",
        "\n"
      ],
      "metadata": {
        "colab": {
          "base_uri": "https://localhost:8080/"
        },
        "id": "f1RVjn-A_hiw",
        "outputId": "61ed6113-4c8d-4a1d-b751-561f83df49c3"
      },
      "execution_count": 78,
      "outputs": [
        {
          "output_type": "execute_result",
          "data": {
            "text/plain": [
              "<__main__.클래스 at 0x7fd520dc9110>"
            ]
          },
          "metadata": {},
          "execution_count": 78
        }
      ]
    },
    {
      "cell_type": "code",
      "source": [
        "class Test:\n",
        "\n",
        "t1 = Test()\n",
        "t2 = Test()\n",
        "#티원 티투는 다른 객체다  붕어빵기계로 두번 찍은 다른 붕어빵##\n",
        "#클래스 테스트 \n",
        "#티원티투 클래스가 테스트인 객체\n",
        "\n",
        "클래스가 만드는 것은\n",
        "인스턴스 instance\n",
        "관점이중요\n",
        "\n"
      ],
      "metadata": {
        "colab": {
          "base_uri": "https://localhost:8080/",
          "height": 137
        },
        "id": "9WKClZY_BF-n",
        "outputId": "75a213d9-e55d-4181-9d09-b4b1936a4696"
      },
      "execution_count": 79,
      "outputs": [
        {
          "output_type": "error",
          "ename": "IndentationError",
          "evalue": "ignored",
          "traceback": [
            "\u001b[0;36m  File \u001b[0;32m\"<ipython-input-79-0397f7695e6e>\"\u001b[0;36m, line \u001b[0;32m3\u001b[0m\n\u001b[0;31m    t1 = Test()\u001b[0m\n\u001b[0m     ^\u001b[0m\n\u001b[0;31mIndentationError\u001b[0m\u001b[0;31m:\u001b[0m expected an indented block\n"
          ]
        }
      ]
    },
    {
      "cell_type": "code",
      "source": [
        "class A :  #암묵적 룰 대문자\n",
        "   #필드들여쓰기로작성\n",
        "   변수=0\n",
        "인스턴스= A()            # A클래스인 인스턴스 생성\n",
        "인스턴스.변수            # A클래스인 인스턴스 생성\n",
        "        # . 안에~   # 인스턴스 안에 변수가 잇나? 잇다\n",
        "인스턴스1= A()                             \n",
        "인스턴스1.변수\n",
        "\n"
      ],
      "metadata": {
        "colab": {
          "base_uri": "https://localhost:8080/"
        },
        "id": "Rzq2z8XLBrXW",
        "outputId": "72c1e4d6-efcf-4402-e5e8-0a42fdd0ffe8"
      },
      "execution_count": 83,
      "outputs": [
        {
          "output_type": "execute_result",
          "data": {
            "text/plain": [
              "0"
            ]
          },
          "metadata": {},
          "execution_count": 83
        }
      ]
    },
    {
      "cell_type": "code",
      "source": [
        "class A :  #암묵적 룰 대문자\n",
        "   #필드들여쓰기로작성\n",
        "   변수=0\n",
        "인스턴스= A()            # A클래스인 인스턴스 생성\n",
        "인스턴스.변수            # A클래스인 인스턴스 생성\n",
        "        # . 안에~   # 인스턴스 안에 변수가 잇나? 잇다\n",
        "인스턴스1= A()                             \n",
        "인스턴스1.변수 = 10   #인스턴스1 변수 안에 10을 넣겟다\n",
        " \n",
        "인스턴스1.변수  # 10 \n",
        "인스턴스.변수 # 0"
      ],
      "metadata": {
        "colab": {
          "base_uri": "https://localhost:8080/"
        },
        "id": "DzmQ0BVCC2vn",
        "outputId": "6370bd4d-22ea-4e4e-f079-aad6747b45c6"
      },
      "execution_count": 87,
      "outputs": [
        {
          "output_type": "execute_result",
          "data": {
            "text/plain": [
              "0"
            ]
          },
          "metadata": {},
          "execution_count": 87
        }
      ]
    },
    {
      "cell_type": "code",
      "source": [
        "class Test:\n",
        "    name=''\n",
        "    number=2\n",
        "t1=Test()\n",
        "t2=Test()\n",
        "\n",
        "t1.name='소방차'\n",
        "t1.number=1234\n",
        "\n",
        "t2.name='구급차'\n",
        "# t2.number=''\n",
        "t2.number=1004\n",
        "\n",
        "t1,t2\n",
        "메인 테스트 앳 343\n",
        "객체 클래스   주소\n"
      ],
      "metadata": {
        "colab": {
          "base_uri": "https://localhost:8080/"
        },
        "id": "iIVpAOJhDKgm",
        "outputId": "f57f3626-5806-47d7-d9e2-f7354012b1a4"
      },
      "execution_count": 98,
      "outputs": [
        {
          "output_type": "execute_result",
          "data": {
            "text/plain": [
              "(<__main__.Test at 0x7fd520e028d0>, <__main__.Test at 0x7fd520e1d2d0>)"
            ]
          },
          "metadata": {},
          "execution_count": 98
        }
      ]
    },
    {
      "cell_type": "code",
      "source": [
        "객체.=.      객체는 인스턴스를 포함하는 일반적의미\n",
        "인스턴스는 일반적으로 실행 중인 임의의 프로세스, 클래스의 현재 생성된 오브젝트를 가리킨다. 객체(오브젝트)의 인스턴스는 데이터베이스나 SGA, 백그라운드 프로세스등 광범위한 컴퓨터시스템 자원의 접근에 할당된 물리 메모리의 일부를 가리\n",
        "\n"
      ],
      "metadata": {
        "id": "0V0uANLaEkzo"
      },
      "execution_count": null,
      "outputs": []
    },
    {
      "cell_type": "code",
      "source": [
        "class Animal:\n",
        "cat= Animal()\n",
        "클래스에의해만들어진객체를인스턴스\n",
        "캣은 객체 , 애니멀의 인스턴스\n",
        "캣이라는 객체는 애니멀의 인스턴스\n",
        "인스턴스= 특정 객체(캣)가 어떤클래스(애니멀)   의 ㄱ개체인지를 관계위주로 설명할 때 사용\n",
        "즉 캣은 인스턴스보다는 캣은 객체\n",
        "\n",
        "인스턴스라는 말이 나오면 반드시 클래스가 있다\n",
        "\n",
        "캣은 객체다\n",
        "캣은 애니멀의 인스턴스다 - 관계설명\n",
        "\n",
        "클래스에 의해 만들어진 객체를 인스턴스\n",
        "\n",
        "객체 대분류\n",
        "인스턴스 소분류 : 클래스에 의해 만들어진 개체\n",
        "\n",
        "\n",
        "클래스안의 행동 (함수) = 매서드\n",
        "클래스의 상태 = 필드\n",
        "\n",
        "함수 대분류\n",
        "매서드 소분류 : 클래스안의 행동을 정의하는 함수\n",
        "\n",
        "\n",
        "객체 대분류\n",
        "인스턴스 소분류 : 클래스에 의해 만들어진 개체"
      ],
      "metadata": {
        "id": "L8pbrJ8OE3bz"
      },
      "execution_count": null,
      "outputs": []
    },
    {
      "cell_type": "code",
      "source": [
        "생성자 ;객체의 초기화 -꾸미기위한  삭제가 아니다   - 초기자\n",
        "객체가될떄 필드를 초기화하는 역할\n",
        "생성자 미입력시_new_생성자가 디폴트로 작동\n",
        "생성자를 하나라도 넣었다면 _new_ (기본생성자) 동작안함\n",
        "\n",
        "\n",
        "\n"
      ],
      "metadata": {
        "id": "g4rwgkJUGMA1"
      },
      "execution_count": null,
      "outputs": []
    },
    {
      "cell_type": "code",
      "source": [
        "class 클래스명 :\n",
        "    def __new__(cls)     #생성자(초기자) 디폴트    클래스생성자?\n",
        "    def__init__(self):         #인스턴스메서드   생성자,초기자   #인스턴스(객체) 만든후 이닛 으로 초기화해서 인스턴스 생성\n",
        "        self.인스턴스변수1=0\n",
        "\n",
        "\n",
        "\n",
        "        "
      ],
      "metadata": {
        "id": "6SktnopnEU3L"
      },
      "execution_count": null,
      "outputs": []
    },
    {
      "cell_type": "code",
      "source": [
        "class Test:\n",
        "    number=0\n",
        "    name=''\n",
        "\n",
        "class Test:\n",
        "    def __init__(self,x)):  #이닛   # self 는 반드시 붙여야한다  # 셀프는 변수하나를주라는말이아니다 ()같은거라고보기 \n",
        "                # 생성자 x 가 매개변수\n",
        "                # (self) x를 생략시 기본생성자 생성\n",
        "                #데프이닛 생략시   데프이닛(self)가 디폴트로  데프이닛(셀프) =기본생성자\n",
        "                # 기본생성자: 아무런 입력이 없는 생성자\n",
        "\n",
        "         pass\n",
        "    number=0\n",
        "    name=''      #위랑 같음  디폴트값\n"
      ],
      "metadata": {
        "id": "A8UhPN0vLHuY"
      },
      "execution_count": null,
      "outputs": []
    },
    {
      "cell_type": "code",
      "source": [
        "#생성자만들어주기\n",
        "class Test:\n",
        "    #def __init__(self):             #이닛생성자매서드 #셀프는 반드시 넣는다  클래스안의메서드는 셀프 반드시 넣는다\n",
        "    #(셀프)는 함수에서 함수() 랑 비슷한역할\n",
        "    def __init__(self):\n",
        "        print('생성자동작')\n",
        "Test()     # (셀프)만잇으니까 매개변수없이 괄호만\n",
        "       \n"
      ],
      "metadata": {
        "colab": {
          "base_uri": "https://localhost:8080/"
        },
        "id": "fNmMV8ENLmxK",
        "outputId": "4076cc05-7569-4246-cd67-11736e79e5b8"
      },
      "execution_count": 100,
      "outputs": [
        {
          "output_type": "stream",
          "name": "stdout",
          "text": [
            "생성자동작\n"
          ]
        },
        {
          "output_type": "execute_result",
          "data": {
            "text/plain": [
              "<__main__.Test at 0x7fd520ecf710>"
            ]
          },
          "metadata": {},
          "execution_count": 100
        }
      ]
    },
    {
      "cell_type": "code",
      "source": [
        "#생성자만들어주기\n",
        "class Test:\n",
        "    def __init__(self,x):   #매개변수하나를 받는 이닛\n",
        "   \n",
        "        print('생성자동작')\n",
        "Test()  #매개변수하나를 넣지 않아서 에러\n",
        "#기본생성자 (self)는 작동안함  임의로 셀프x를 만들엇기 때문\n",
        "\n"
      ],
      "metadata": {
        "colab": {
          "base_uri": "https://localhost:8080/",
          "height": 229
        },
        "id": "8oMGbz9VN-vE",
        "outputId": "0c8b01a3-35e9-4a4e-d396-8c827e392826"
      },
      "execution_count": 101,
      "outputs": [
        {
          "output_type": "error",
          "ename": "TypeError",
          "evalue": "ignored",
          "traceback": [
            "\u001b[0;31m---------------------------------------------------------------------------\u001b[0m",
            "\u001b[0;31mTypeError\u001b[0m                                 Traceback (most recent call last)",
            "\u001b[0;32m<ipython-input-101-5a4d4fedf385>\u001b[0m in \u001b[0;36m<module>\u001b[0;34m()\u001b[0m\n\u001b[1;32m      4\u001b[0m \u001b[0;34m\u001b[0m\u001b[0m\n\u001b[1;32m      5\u001b[0m         \u001b[0mprint\u001b[0m\u001b[0;34m(\u001b[0m\u001b[0;34m'생성자동작'\u001b[0m\u001b[0;34m)\u001b[0m\u001b[0;34m\u001b[0m\u001b[0;34m\u001b[0m\u001b[0m\n\u001b[0;32m----> 6\u001b[0;31m \u001b[0mTest\u001b[0m\u001b[0;34m(\u001b[0m\u001b[0;34m)\u001b[0m     \u001b[0;31m# (셀프)만잇으니까 매개변수없이 괄호만\u001b[0m\u001b[0;34m\u001b[0m\u001b[0;34m\u001b[0m\u001b[0m\n\u001b[0m\u001b[1;32m      7\u001b[0m \u001b[0;34m\u001b[0m\u001b[0m\n",
            "\u001b[0;31mTypeError\u001b[0m: __init__() missing 1 required positional argument: 'x'"
          ]
        }
      ]
    },
    {
      "cell_type": "code",
      "source": [
        "#생성자만들어주기\n",
        "class Test:\n",
        "    def __init__(self,x):   #매개변수하나를 받는 이닛\n",
        "   \n",
        "        print('생성자동작')\n",
        "Test(1) \n",
        "\n"
      ],
      "metadata": {
        "colab": {
          "base_uri": "https://localhost:8080/"
        },
        "id": "ceCqQG6YOKQV",
        "outputId": "b239963f-2f11-4906-82e6-982c4e27001f"
      },
      "execution_count": 102,
      "outputs": [
        {
          "output_type": "stream",
          "name": "stdout",
          "text": [
            "생성자동작\n"
          ]
        },
        {
          "output_type": "execute_result",
          "data": {
            "text/plain": [
              "<__main__.Test at 0x7fd520b6b0d0>"
            ]
          },
          "metadata": {},
          "execution_count": 102
        }
      ]
    },
    {
      "cell_type": "code",
      "source": [
        "class A :\n",
        "    클래스_필드 = '클래스필드'          #필드\n",
        "    def __init__(self):                #생성자  #이닛 대신 임의 설정 x # def __init__(self): 이건디폴트  self는 반드시기입\n",
        "     print('a생성자동작')\n",
        "a=A()          \n",
        "a.클래스_필드   # . 에이안의클래스_필드\n",
        "\n"
      ],
      "metadata": {
        "colab": {
          "base_uri": "https://localhost:8080/",
          "height": 54
        },
        "id": "liB9ZwvFOYWO",
        "outputId": "42020088-a169-4cf5-83f7-3e1a58a7a070"
      },
      "execution_count": 104,
      "outputs": [
        {
          "output_type": "stream",
          "name": "stdout",
          "text": [
            "a생성자동작\n"
          ]
        },
        {
          "output_type": "execute_result",
          "data": {
            "text/plain": [
              "'클래스필드'"
            ],
            "application/vnd.google.colaboratory.intrinsic+json": {
              "type": "string"
            }
          },
          "metadata": {},
          "execution_count": 104
        }
      ]
    },
    {
      "cell_type": "code",
      "source": [
        "class A :\n",
        "    클래스_필드 = '클래스필드'          #필드\n",
        "    def __init__(self):        #셀프  사실 의미가 잇다    self 자기 참조 포인터 = 인스턴스 자기 자신 .\n",
        "       #클래스안의셀프 셀프는인스턴스를의미 =  셀프의 의미는 A클래스로 만들어진 인스턴스\n",
        "       # 인스턴스:클래스로만들어진객체   -         셀프는 인스턴스를 지칭하는 이름\n",
        "     print('a생성자동작')\n",
        "a=A()          \n",
        "a.클래스_필드   # . 에이안의클래스_필드\n",
        "\n",
        "A클래스로만들어진객체,인스턴스  ㄷ셀프 자기참조포인터 인스턴스자기자신\n",
        "\n",
        "############\n",
        "셀프 : (A클래스로만들어진) 인스턴스 자기자신\n"
      ],
      "metadata": {
        "id": "9IFI1QNbPPzy"
      },
      "execution_count": null,
      "outputs": []
    },
    {
      "cell_type": "code",
      "source": [
        "class A :\n",
        "    클래스_필드 = '클래스필드'          \n",
        "    def __init__(self):     \n",
        "         self.인스턴스_필드 = '인스턴스필드'    #self. 의미  : A클래스로 만들어진 인스턴스 안으로 들어가겠다  \n",
        "         print('a생성자동작')\n",
        "a=A()          \n",
        "a.클래스_필드    \n",
        " \n",
        " # 인스턴스멤버는 인스턴스안에잇다 키워드기억\n",
        "# 클래스멤버는 클래스안에있다 키워드기억"
      ],
      "metadata": {
        "id": "0CUM4IQmQDO4"
      },
      "execution_count": null,
      "outputs": []
    },
    {
      "cell_type": "code",
      "source": [
        "class A :\n",
        "    클래스_필드 = '클래스필드'          \n",
        "    def __init__(self):     \n",
        "         self.인스턴스_필드 = '인스턴스필드'    #self. 의미  : A클래스로 만들어진 인스턴스 안으로 들어가겠다  \n",
        "         print('a생성자동작')\n",
        "print(A.클래스_필드)   # A,   의미  A클래스안  의 클래스_필드  > '클래스필드' 출력\n",
        "#에러 print(A.인스턴스_필드)  #에러   인스턴스필드는  A클래스로 만들어진 인스턴스 안에 있다 그런데 인스턴스 아직 존재하지 않음 에러\n",
        "\n",
        "a=A() \n",
        "\n",
        "print(a.인스턴스_필드)      # a는 A클래스로만들어진 인스턴스이므로  가능"
      ],
      "metadata": {
        "colab": {
          "base_uri": "https://localhost:8080/"
        },
        "id": "xmL8gKL-Qo4A",
        "outputId": "009b1920-5ca6-4bba-88f3-bdb2feb8dfd3"
      },
      "execution_count": 109,
      "outputs": [
        {
          "output_type": "stream",
          "name": "stdout",
          "text": [
            "클래스필드\n",
            "a생성자동작\n",
            "인스턴스필드\n"
          ]
        }
      ]
    },
    {
      "cell_type": "code",
      "source": [
        "######################        메서드\n",
        "\n",
        "함수가 클래스안에 있으면 = 매서드\n",
        "\n",
        "입력 > 매서드(수학의함수) > 출력\n",
        "매서드=함수\n",
        "\n",
        "입력값: 매개변수, 인자 \n",
        "결과값 : 리턴값\n",
        "\n",
        "매개변수 파라미터 전달된 인자를 받아들이는 변수르를 의미\n",
        "인자 아규먼트\n",
        "\n",
        "\n",
        "메서드란 클래스가 가지고 있는 기능\n",
        "클래스안에선언\n",
        "데프 매스드이름매개변수\n",
        "실행문\n"
      ],
      "metadata": {
        "id": "sti4Gsj2R37i"
      },
      "execution_count": null,
      "outputs": []
    },
    {
      "cell_type": "code",
      "source": [
        "매서드는 클래스안에 선언된 함수\n"
      ],
      "metadata": {
        "id": "o1PtvB9NSQ5Z"
      },
      "execution_count": null,
      "outputs": []
    },
    {
      "cell_type": "code",
      "source": [
        "class 매서드:\n",
        "    def __init__(self):   #기본생성자 디폴트 생략가능  생략아닐경우 셀프는 반드시\n",
        "        print('매서드_생성자 동작')\n",
        "\n",
        "매서드 5가지\n",
        "\n",
        "입력 없고  출력 없음                \n",
        "입력 1     출력 없음\n",
        "입력 없음  출력 1\n",
        "입력 여럿  출력 없음\n",
        "입력 1     출력1\n",
        "#아래에 다섯가지 만들어보기"
      ],
      "metadata": {
        "id": "-aK6O-6aSVRE"
      },
      "execution_count": null,
      "outputs": []
    },
    {
      "cell_type": "code",
      "source": [
        "class 메서드:  #매서드 다섯가지만들어보기\n",
        "    def __init__(self):   #기본생성자 디폴트 생략가능  생략아닐경우 셀프는 반드시\n",
        "        print('매서드_생성자 동작')\n",
        "    def 메서드1(self):        #매개변수가 없는것 함수() 와 같다\n",
        "        print('매서드1 동작')\n",
        "    def 메서드2(self,x):        #매개변수가 없는것 함수() 와 같다\n",
        "        print(f'{x}를 입력받는 매서드2 동작')\n",
        "    def 메서드3(self):        #매개변수가 없는것 함수() 와 같다\n",
        "        return f'메서드3 동작'        \n",
        "    def 메서드4(self,x,y):        #매개변수가 없는것 함수() 와 같다\n",
        "         print(f'{x},{y} 를 입력받는 매서드4 동작')\n",
        "    def 메서드5(self,x):        #매개변수가 없는것 함수() 와 같다\n",
        "         return(f'{x} 를 입력받는 매서드5 동작')\n",
        "\n",
        "메서드_인스턴스=메서드()     #인스턴스 생성\n",
        "메서드_인스턴스.메서드1()\n",
        "메서드_인스턴스.메서드2(4)            # 인스턴스 매서드다 # 인스턴스 안에 잇으니 인스턴스 점 으로 접근\n",
        "print(메서드_인스턴스.메서드3())\n",
        "메서드_인스턴스.메서드4(4,5)\n",
        "print(메서드_인스턴스.메서드5(4))"
      ],
      "metadata": {
        "colab": {
          "base_uri": "https://localhost:8080/"
        },
        "id": "FHfOJH9ES8Uu",
        "outputId": "15c01658-43c4-4e54-f942-d63e31f152da"
      },
      "execution_count": 115,
      "outputs": [
        {
          "output_type": "stream",
          "name": "stdout",
          "text": [
            "매서드_생성자 동작\n",
            "매서드1 동작\n",
            "4를 입력받는 매서드2 동작\n",
            "메서드3 동작\n",
            "4,5 를 입력받는 매서드4 동작\n",
            "4 를 입력받는 매서드5 동작\n"
          ]
        }
      ]
    },
    {
      "cell_type": "code",
      "source": [
        "인스턴스가 잇어도 \n",
        "클래스.   클래스기반으로 인스턴스메서드에 접근 못한다\n",
        ". 점은 그것이 만들어진 시점 기준\n",
        "\n",
        "클래스는 인스턴스메서드에접근할수없으니없는것\n",
        "\n",
        "즉 인스턴스는 클래스에 접근 가능하다    인스턴스는 생성시점에 클래스가 이미 잇다\n"
      ],
      "metadata": {
        "id": "yIQwdg3DVFOf"
      },
      "execution_count": null,
      "outputs": []
    },
    {
      "cell_type": "code",
      "source": [
        "#메서드\n",
        " # 정수형 매개변수1개를 받고 정수1개를 반환하는 메서드를 작성하시오\n",
        "\n",
        "class A :\n",
        "    def FF(self,x):\n",
        "        return x\n",
        "a=A()\n",
        "a()       "
      ],
      "metadata": {
        "colab": {
          "base_uri": "https://localhost:8080/",
          "height": 211
        },
        "id": "8RrQjW-MYPHj",
        "outputId": "9331f222-7bb5-40b2-9238-90d5f45347ac"
      },
      "execution_count": 121,
      "outputs": [
        {
          "output_type": "error",
          "ename": "TypeError",
          "evalue": "ignored",
          "traceback": [
            "\u001b[0;31m---------------------------------------------------------------------------\u001b[0m",
            "\u001b[0;31mTypeError\u001b[0m                                 Traceback (most recent call last)",
            "\u001b[0;32m<ipython-input-121-2c7f53626c7f>\u001b[0m in \u001b[0;36m<module>\u001b[0;34m()\u001b[0m\n\u001b[1;32m      6\u001b[0m         \u001b[0;32mreturn\u001b[0m \u001b[0mx\u001b[0m\u001b[0;34m\u001b[0m\u001b[0;34m\u001b[0m\u001b[0m\n\u001b[1;32m      7\u001b[0m \u001b[0ma\u001b[0m\u001b[0;34m=\u001b[0m\u001b[0mA\u001b[0m\u001b[0;34m(\u001b[0m\u001b[0;34m)\u001b[0m\u001b[0;34m\u001b[0m\u001b[0;34m\u001b[0m\u001b[0m\n\u001b[0;32m----> 8\u001b[0;31m \u001b[0ma\u001b[0m\u001b[0;34m(\u001b[0m\u001b[0;34m)\u001b[0m\u001b[0;34m\u001b[0m\u001b[0;34m\u001b[0m\u001b[0m\n\u001b[0m",
            "\u001b[0;31mTypeError\u001b[0m: 'A' object is not callable"
          ]
        }
      ]
    },
    {
      "cell_type": "code",
      "source": [
        "멤버\n",
        "         인스턴스 멤버\n",
        "         인스턴스를안만들면인스턴스멤버는없다\n",
        "\n",
        "         클래스를 통해 만들어지는 인스턴스 필드 인스턴스메소드를   인스턴스멤버라 부른다\n",
        "\n",
        "         인스턴스 멤버는 인스턴스에 소속\n",
        "\n",
        "         클래스.인스턴스메서드 #에러       클래스생성 시점에 인스턴스가 존재하지 않기 때문에 . 으로 접근 할 수 없다\n",
        "\n",
        "객체를생성하지않고는사용불가\n",
        "\n"
      ],
      "metadata": {
        "colab": {
          "base_uri": "https://localhost:8080/",
          "height": 137
        },
        "id": "maS61LpZYtrN",
        "outputId": "1b21e5eb-4ec6-4400-e688-8fcde33bf8b7"
      },
      "execution_count": 122,
      "outputs": [
        {
          "output_type": "error",
          "ename": "IndentationError",
          "evalue": "ignored",
          "traceback": [
            "\u001b[0;36m  File \u001b[0;32m\"<ipython-input-122-818ee91b1b80>\"\u001b[0;36m, line \u001b[0;32m2\u001b[0m\n\u001b[0;31m    인스턴스 멤버\u001b[0m\n\u001b[0m    ^\u001b[0m\n\u001b[0;31mIndentationError\u001b[0m\u001b[0;31m:\u001b[0m unexpected indent\n"
          ]
        }
      ]
    },
    {
      "cell_type": "code",
      "source": [
        "#클래스>인스턴스멤버 로 가는 것은 없는 대상에 접근하는 것 에러\n",
        "class A:\n",
        "    def __init__ (self):   #객체의초기화\n",
        "        self.인스턴스필드='인스턴스필드'       #인스턴스필드               멤버=필드와 메서드\n",
        "        \n"
      ],
      "metadata": {
        "id": "YhM2S3hSZygd"
      },
      "execution_count": null,
      "outputs": []
    },
    {
      "cell_type": "code",
      "source": [
        "#클래스>인스턴스멤버 로 가는 것은 없는 대상에 접근하는 것 에러\n",
        "class A:\n",
        "    def __init__ (self):   #객체의초기화 \n",
        "        self.인스턴스필드='인스턴스필드'       #인스턴스필드               멤버=필드와 메서드\n",
        "    def 인스턴스_메서드(self):                 #인스턴스메서드\n",
        "        print('인스턴스매서드동작')   \n",
        "a1=A()\n",
        "a1.인스턴스필드\n",
        "a1.인스턴스_메서드() # (셀프) > () 셀프는 반드시"
      ],
      "metadata": {
        "colab": {
          "base_uri": "https://localhost:8080/"
        },
        "id": "DZm7Q7baaZty",
        "outputId": "0c0dfc72-35dd-406b-f820-5f4381b2118b"
      },
      "execution_count": 126,
      "outputs": [
        {
          "output_type": "stream",
          "name": "stdout",
          "text": [
            "인스턴스매서드동작\n"
          ]
        }
      ]
    },
    {
      "cell_type": "code",
      "source": [
        "\n",
        "class A:\n",
        "    def __init__ (self):   #객체의초기화 \n",
        "        self.인스턴스필드='인스턴스필드'       #인스턴스필드               멤버=필드와 메서드\n",
        "    def 인스턴스_메서드(self):                 #인스턴스메서드\n",
        "        print('인스턴스매서드동작')   \n",
        "a1=A()\n",
        "a1.인스턴스필드\n",
        "a1.인스턴스_메서드() # (셀프) > () 셀프는 반드시\n",
        "a2=A()  # a1과 다른 공간   인스턴스멤버도다른공간 스택힙둘다\n",
        "#즉 a1. 으로 인스턴스필드 값을 바꿔도 a2에 있는 인스턴스필드 는 바뀌지 않는다\n",
        "\n"
      ],
      "metadata": {
        "id": "2UPOIZ_6a7zw"
      },
      "execution_count": null,
      "outputs": []
    },
    {
      "cell_type": "code",
      "source": [
        "클래스멤버(스택틱멤버,정적멤버)\n",
        "\n",
        "클래스에 고정된 필드와 메서드              \n",
        "클래스메서드를 쓸려면 데코레이터가 필요하다"
      ],
      "metadata": {
        "id": "clKELuaIbzMv"
      },
      "execution_count": null,
      "outputs": []
    },
    {
      "cell_type": "code",
      "source": [
        "class B:\n",
        "    클래스_필드=10           #클래스필드 ; 클래스안에잇는것\n",
        "B.클래스_필드    #가능   클래스만들어질때 클래스필드생성       클래스안에잇다 클래스필드\n",
        "\n",
        "\n",
        "        영역\n",
        "\n",
        "               스택틱영역 < 여기 클래스 생성\n",
        "     스택영역           힙영역          \n",
        "     변수                 인스턴스는 여기\n",
        "\n",
        "\n",
        "\n",
        "     \n"
      ],
      "metadata": {
        "id": "4KEWHGuVcb22"
      },
      "execution_count": null,
      "outputs": []
    },
    {
      "cell_type": "code",
      "source": [
        "class B:\n",
        "    클래스_필드=10           #클래스필드 ; 클래스안에잇는것\n",
        "B() #기본생성자발동"
      ],
      "metadata": {
        "colab": {
          "base_uri": "https://localhost:8080/"
        },
        "id": "7zPs43vndSgr",
        "outputId": "06e0b90c-7990-41b7-fd24-94eb99562470"
      },
      "execution_count": 127,
      "outputs": [
        {
          "output_type": "execute_result",
          "data": {
            "text/plain": [
              "<__main__.B at 0x7fd520db4bd0>"
            ]
          },
          "metadata": {},
          "execution_count": 127
        }
      ]
    },
    {
      "cell_type": "code",
      "source": [
        "class B:\n",
        "    클래스_필드=10           #클래스필드 ; 클래스안에잇는것\n",
        "b1=B()  # b1은 클래스에 접근가능 > 클래스에 잇다\n",
        "b2 =B()\n",
        "\n",
        "print(B.클래스_필드 ,  b1.클래스_필드 , b2.클래스_필드  )\n",
        "B.클래스_필드 = 20            #바뀐다 클래스필드는 클래스에잇기 때문에 인스턴스로. 로 시작해도 인스턴스필드를 거쳐서\n",
        "                             #  클래스필드영역까지가서\n",
        "                          #클래스필드를 사용하므로\n",
        "print(B.클래스_필드 ,  b1.클래스_필드 , b2.클래스_필드  )  # 바뀜\n",
        "b1.클래스_필드=100     # b1만 바뀐다     #b1.클래스_필드=100 은 힙영역 b1의 인스턴스필드에 저장> b2로 접근할 땐 클래스필드로가야 빠르다 우선이다\n",
        "print(B.클래스_필드 ,  b1.클래스_필드 , b2.클래스_필드  )\n",
        "B.클래스_필드=200\n",
        "print(B.클래스_필드 ,  b1.클래스_필드 , b2.클래스_필드  )   # b1. 은 이미100으로 바꿨고 100이 최단거리이기 때문에 b1만 100이다\n",
        "\n",
        "#결과적으로 b1.클래스_필드 , b2.클래스_필드  은 인스턴스필드라고 생각하는 것이 좋다 인스턴스필드화\n",
        "\n"
      ],
      "metadata": {
        "colab": {
          "base_uri": "https://localhost:8080/"
        },
        "id": "vYGUI6oxdXms",
        "outputId": "c670791f-db87-4016-98d5-87398bd5de54"
      },
      "execution_count": 137,
      "outputs": [
        {
          "output_type": "stream",
          "name": "stdout",
          "text": [
            "10 10 10\n",
            "20 20 20\n",
            "20 100 20\n",
            "200 100 200\n"
          ]
        }
      ]
    },
    {
      "cell_type": "code",
      "source": [
        "#zmff 클래스 메서드\n",
        "class C:\n",
        "    @classmethod          #이걸작성하면아래 데프에프셀프가 클래스메서드가 된다\n",
        "    def f(self):\n",
        "\n"
      ],
      "metadata": {
        "id": "v5ekXSIEgfc2"
      },
      "execution_count": null,
      "outputs": []
    },
    {
      "cell_type": "code",
      "source": [
        "#zmff 클래스 메서드\n",
        "class C:\n",
        "    @classmethod          #이걸작성하면아래 데프에프셀프가 클래스메서드가 된다\n",
        "    def 클래스(cls):            #클래스메서드라 셀프대신 시엘엣스 작성\n",
        "        print('클래스메서드동작')\n",
        "C.클래스()                              #인스턴스가없어도 동작\n"
      ],
      "metadata": {
        "colab": {
          "base_uri": "https://localhost:8080/"
        },
        "id": "q9LXnhyag36V",
        "outputId": "423ce35d-2656-41f3-a974-2093f4444cc4"
      },
      "execution_count": 139,
      "outputs": [
        {
          "output_type": "stream",
          "name": "stdout",
          "text": [
            "클래스메서드동작\n"
          ]
        }
      ]
    },
    {
      "cell_type": "code",
      "source": [
        "c1=C()\n",
        "c2=C()   \n",
        "c1.클래스()\n",
        "c2.클래스()\n",
        "\n",
        "# 스택영역 >  힙영역     >  스택틱영역 (클래스영역, 클래스메서드)\n",
        " #  (변수)    인스턴스영역    \n",
        " #  스택>힙>스택틱 의 경로로 접근이 가능하다"
      ],
      "metadata": {
        "colab": {
          "base_uri": "https://localhost:8080/"
        },
        "id": "klZMAKiphJTB",
        "outputId": "8c603eb7-d342-479b-af97-104b492539f8"
      },
      "execution_count": 140,
      "outputs": [
        {
          "output_type": "stream",
          "name": "stdout",
          "text": [
            "클래스메서드동작\n",
            "클래스메서드동작\n"
          ]
        }
      ]
    },
    {
      "cell_type": "code",
      "source": [
        ""
      ],
      "metadata": {
        "id": "XukFtahThvDr"
      },
      "execution_count": null,
      "outputs": []
    }
  ]
}
