{
  "nbformat": 4,
  "nbformat_minor": 0,
  "metadata": {
    "colab": {
      "name": "folium.basic.광주.map.marking",
      "provenance": [],
      "collapsed_sections": []
    },
    "kernelspec": {
      "name": "python3",
      "display_name": "Python 3"
    },
    "language_info": {
      "name": "python"
    }
  },
  "cells": [
    {
      "cell_type": "code",
      "source": [
        "# 폴리움 불러오기, 버전확인\n",
        "import folium\n",
        "folium.__version__\n",
        "\n",
        "# 오픈스트리트맵에 광주광역시청과구청을표시\n",
        "\n",
        "# 맵을 표시할 중심점을 찍는다\n",
        "map = folium.Map(location=[35.159841,126.851784], zoom_start=12 , max_width=200) # (위도,경도)\n",
        "\n",
        "# 마커는 마킹만한다\n",
        "folium.Marker(\n",
        "    location=[35.159841,126.851784] , # [위도,경도]\n",
        "    popup=folium.Popup('광주광역시 서구 내방로 111'), # 마커누르면나오는문구\n",
        "    tooltip='광주광역시청', #마커에 커서올리면나오는문구\n",
        "    icon=folium.Icon(color='red',icon='camera') # 마커 아이콘옵션, 색상/아이콘모양 \n",
        ").add_to(map)\n",
        "\n",
        "folium.Marker(\n",
        "    location=[ 35.14614999401774,126.92309512856308] ,\n",
        "    popup=folium.Popup('광주광역시 동구 서남로 1'),\n",
        "    tooltip='광주광역시 동구청',\n",
        "    icon=folium.Icon(color='crimson',icon='camera')\n",
        ").add_to(map)\n",
        "\n",
        "folium.Marker(\n",
        "    location=[35.152089096162236,126.88985826388209] ,\n",
        "    popup=folium.Popup('광주광역시 서구 농성동 경열로 33'),\n",
        "    tooltip='광주 서구청',\n",
        "    icon=folium.Icon(color='green',icon='camera')\n",
        ").add_to(map)\n",
        "\n",
        "folium.Marker(\n",
        "    location=[35.17410046937537,126.91215706204946] ,\n",
        "    popup=folium.Popup('광주광역시 북구 우치로 77'),\n",
        "    tooltip='광주 북구청',\n",
        "    icon=folium.Icon(color='pink',icon='camera')\n",
        ").add_to(map)\n",
        "\n",
        "folium.Marker(\n",
        "    location=[35.13290098068543,126.90257332634087] ,\n",
        "    popup=folium.Popup('광주광역시 남구 봉선로 1'),\n",
        "    tooltip='광주 남구청',\n",
        "    icon=folium.Icon(color='black',icon='camera')\n",
        ").add_to(map)\n",
        "\n",
        "folium.Marker(\n",
        "    location=[35.13955198869462,126.79380680502933] ,\n",
        "    popup=folium.Popup('광주광역시 광산구 광산로29번길 15'),\n",
        "    tooltip='광주 광산구청'\n",
        ").add_to(map)\n",
        "map\n",
        "\n",
        "# 저장-다운로드\n",
        "map.save(\"광주.html\")"
      ],
      "metadata": {
        "id": "gacmn-r5UJ5N"
      },
      "execution_count": null,
      "outputs": []
    }
  ]
}