{
  "nbformat": 4,
  "nbformat_minor": 0,
  "metadata": {
    "colab": {
      "provenance": [],
      "collapsed_sections": []
    },
    "kernelspec": {
      "name": "python3",
      "display_name": "Python 3"
    },
    "language_info": {
      "name": "python"
    }
  },
  "cells": [
    {
      "cell_type": "code",
      "execution_count": null,
      "metadata": {
        "id": "3_if2ICnYRhY"
      },
      "outputs": [],
      "source": [
        "# 최종 모델 벨리셋 /  테스트셋 정확도\n",
        "\n",
        "# 모델1\n",
        "model1(미세각질) : 모델 생성 완료(epoch 15회 best val score : 63.4%)\n",
        "train/val : 12739/3639\n",
        "100%|██████████| 238/238 [03:01<00:00,  1.31it/s]\n",
        "Test set: Average Loss: -1.9017, Accuracy: 289/476 (60.7143%)\n",
        "\n",
        "# 모델2\n",
        "model2(피지과다) : 모델 생성 완료(epoch 2회 best val score : 57.6%)\n",
        "train/val : 56826/16236\n",
        "100%|██████████| 662/662 [01:17<00:00,  8.54it/s]\n",
        "Test set Accuracy: 324/662 (48.9426%)\n",
        "\n",
        "# 모델3\n",
        "model3(모낭사이홍반) : 모델 생성 완료(epoch 5회 best val score : 78.4)\n",
        "train/val : 47726/13635\n",
        "100%|██████████| 359/359 [03:24<00:00,  1.76it/s]\n",
        "Test set: Average Loss: -2.2255, Accuracy: 461/718 (64.2061%)\n",
        "\n",
        "# 모델4\n",
        "model4(모낭홍반농포) : 모델 생성 완료(epoch 50회 best val score : 72.4)\n",
        "train/val : 3750/1070\n",
        "100%|██████████| 197/197 [01:32<00:00,  2.12it/s]\n",
        "Test set: Average Loss: -3.4693, Accuracy: 281/394 (71.3198%)\n",
        "\n",
        "# 모델5\n",
        "model5(비듬) : 모델 생성 완료(epoch 5회 best val score : 73.4)\n",
        "trian/val : 28873/8248\n",
        "100%|██████████| 310/310 [02:31<00:00,  2.05it/s]\n",
        "Test set: Average Loss: -2.0950, Accuracy: 370/620 (59.6774%)\n",
        "\n",
        "# 모델6\n",
        "model6(탈모) : 모델 생성 완료(epoch 8회(4회×2) best val score : 74.7)\n",
        "trian/val : 18513/5288\n",
        "100%|██████████| 577/577 [05:12<00:00,  1.85it/s]\n",
        "Test set: Average Loss: -1.3145, Accuracy: 633/1154 (54.8527%)"
      ]
    }
  ]
}