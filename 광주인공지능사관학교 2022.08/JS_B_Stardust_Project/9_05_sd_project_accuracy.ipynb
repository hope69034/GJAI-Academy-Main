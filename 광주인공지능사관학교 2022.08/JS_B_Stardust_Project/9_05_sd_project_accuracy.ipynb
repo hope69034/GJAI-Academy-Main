{
  "nbformat": 4,
  "nbformat_minor": 0,
  "metadata": {
    "colab": {
      "provenance": [],
      "collapsed_sections": []
    },
    "kernelspec": {
      "name": "python3",
      "display_name": "Python 3"
    },
    "language_info": {
      "name": "python"
    },
    "accelerator": "GPU",
    "gpuClass": "standard"
  },
  "cells": [
    {
      "cell_type": "code",
      "source": [
        "#구글 드라이브 마운트\n",
        "from google.colab import drive\n",
        "drive.mount('/content/drive')\n",
        "!pip install efficientnet_pytorch\n",
        "import torchvision\n",
        "from torchvision import transforms\n",
        "import os\n",
        "from torch.utils.data import Dataset,DataLoader\n",
        "import torch\n",
        "#모델경로\n",
        "PATH = '/content/drive/MyDrive/project/scalp_weights/'+'aram_model1.pt'   # aram_model6.pt 모델파일 이름 바꿔주기 \n",
        "#Cuda\n",
        "device = torch.device(\"cuda\" if torch.cuda.is_available() else \"cpu\")\n",
        "model = torch.load(PATH, map_location=device)\n",
        "#전처리-트랜스폼 규칙 선언 # model1_train 코드의 validation set 의 트랜스폼 규칙과 동일하게 함\n",
        "transforms_test = transforms.Compose([\n",
        "                                        transforms.Resize([int(600), int(600)], interpolation=transforms.InterpolationMode.BOX),\n",
        "                                        transforms.ToTensor(),\n",
        "                                        transforms.Normalize(mean=[0.485, 0.456, 0.406], std=[0.229, 0.224, 0.225])\n",
        "                                      ])\n",
        "#root 경로 폴더 속 jpg를 전처리, 텐서화 (rood 속에 폴더를 하나 더 만들어서 jpg를 묶어야 함)\n",
        "testset = torchvision.datasets.ImageFolder(root = '/content/drive/MyDrive/project/sample/model1sample' ,\n",
        "                    transform = transforms_test)\n",
        "#DataLoader를 통해 네트워크에 올리기\n",
        "from torch.utils.data import Dataset,DataLoader \n",
        "testloader = DataLoader(testset, batch_size=2, shuffle=False, num_workers=0)\n",
        "    #데이터 로더는 데이터의 대량 가져오기 또는 내보내기를 위한 클라이언트 응용 프로그램 \n",
        "    #for data, target in testloader: 에서 data는 데이터의 특징  target은 데이터의 정답값\n",
        "    ##아웃풋, 로스, 프레딕, 아큐러시\n",
        "#output_list = []\n",
        "model.eval() # 평가모드로 전환 # 평가모드와 학습모드의 layer 구성이 다르다\n",
        "correct = 0\n",
        "#로스 연산을 위한\n",
        "import torch.nn.functional as F   # F : 테스트_로스 연산 함수\n",
        "test_loss = 0\n",
        "from tqdm import tqdm # 진행률 표시를 위한\n",
        "if __name__ == '__main__':\n",
        "    with torch.no_grad(): # 평가할 땐  gradient를 backpropagation 하지 않기 때문에 no grad로 gradient 계산을 막아서 연산 속도를 높인다\n",
        "            for data, target in tqdm(testloader):                                   \n",
        "                data, target  = data.to(device), target.to(device) \n",
        "                output = model(data)   # model1에 데이터를 넣어서 아웃풋 > [a,b,c,d] 각 0,1,2,3 의 확률값 리턴 가장 큰 것이 pred\n",
        "                #output_list.append(output);\n",
        "                test_loss += F.nll_loss(output, target, reduction = 'sum').item()  # test_loss변수에 각 로스를 축적\n",
        "                pred = output.argmax(dim=1, keepdim=True) # argmax : 리스트에서 최댓값의 인덱스를 뽑아줌 > y값아웃풋인덱\n",
        "                correct += pred.eq(target.view_as(pred)).sum().item() # accuracy 측정을 위한 변수 # 각 예측이 맞았는지 틀렸는지 correct변수에 축적 맞을 때마다 +1  # # view_as() 함수는 target 텐서를 view_as() 함수 안에 들어가는 인수(pred)의 모양대로 다시 정렬한다. #  view_as() 함수는 target 텐서를 view_as() 함수 안에 들어가는 인수(pred)의 모양대로 다시 정렬한다. #  pred.eq(data) : pred와 data가 일치하는지 검사\n",
        "#view_as() 함수는 target 텐서를 view_as() 함수 안에 들어가는 인수(pred)의 모양대로 다시 정렬한다.\n",
        "test_loss /= len(testloader.dataset)  # 로스축적된 로스를 데이터 수(경로안jpg수)로 나누기\n",
        "#아큐러시 출력 ( :.4f 소수점반올림 )\n",
        "#print('\\nTest set Accuracy: {}/{} ({:.4f}%)\\n'.format(correct, len(testloader.dataset), 100. * correct / len(testloader.dataset)))  # 축적된 예측값을 데이터 개수로 나누기 *100 > 확률%값\n",
        "#로스, 아큐러시 출력\n",
        "print('\\nTest set: Average Loss: {:.4f}, Accuracy: {}/{} ({:.4f}%)\\n'.format(test_loss, correct, len(testloader.dataset), 100. * correct / len(testloader.dataset)))"
      ],
      "metadata": {
        "id": "UAeaJcNsgKKy"
      },
      "execution_count": null,
      "outputs": []
    },
    {
      "cell_type": "code",
      "source": [
        "# 최종 모델 벨리셋 /  테스트셋 정확도\n",
        "\n",
        "# 모델1\n",
        "model1(미세각질) : 모델 생성 완료(epoch 15회 best val score : 63.4%)\n",
        "train/val : 12739/3639\n",
        "100%|██████████| 238/238 [03:01<00:00,  1.31it/s]\n",
        "Test set: Average Loss: -1.9017, Accuracy: 289/476 (60.7143%)\n",
        "\n",
        "# 모델2\n",
        "model2(피지과다) : 모델 생성 완료(epoch 2회 best val score : 57.6%)\n",
        "train/val : 56826/16236\n",
        "100%|██████████| 193/193 [01:44<00:00,  1.85it/s]\n",
        "Test set: Average Loss: -1.3145, Accuracy: 633/1154 (54.8527%)\n",
        "\n",
        "# 모델3\n",
        "model3(모낭사이홍반) : 모델 생성 완료(epoch 5회 best val score : 78.4)\n",
        "train/val : 47726/13635\n",
        "100%|██████████| 359/359 [03:24<00:00,  1.76it/s]\n",
        "Test set: Average Loss: -2.2255, Accuracy: 461/718 (64.2061%)\n",
        "\n",
        "# 모델4\n",
        "model4(모낭홍반농포) : 모델 생성 완료(epoch 50회 best val score : 72.4)\n",
        "train/val : 3750/1070\n",
        "100%|██████████| 197/197 [01:32<00:00,  2.12it/s]\n",
        "Test set: Average Loss: -3.4693, Accuracy: 281/394 (71.3198%)\n",
        "\n",
        "# 모델5\n",
        "model5(비듬) : 모델 생성 완료(epoch 5회 best val score : 73.4)\n",
        "trian/val : 28873/8248\n",
        "100%|██████████| 310/310 [02:31<00:00,  2.05it/s]\n",
        "Test set: Average Loss: -2.0950, Accuracy: 370/620 (59.6774%)\n",
        "\n",
        "# 모델6\n",
        "model6(탈모) : 모델 생성 완료(epoch 8회(4회×2) best val score : 74.7)\n",
        "trian/val : 18513/5288\n",
        "100%|██████████| 577/577 [05:12<00:00,  1.85it/s]\n",
        "Test set: Average Loss: -1.3145, Accuracy: 633/1154 (54.8527%)"
      ],
      "metadata": {
        "id": "BResJXTKaa4f"
      },
      "execution_count": null,
      "outputs": []
    },
    {
      "cell_type": "code",
      "source": [
        "#test set acc\n",
        " \n",
        "Test set: Average Loss: -1.9017, Accuracy: 289/476 (60.7143%)\n",
        "\n",
        " \n",
        "Test set: Average Loss: -1.3145, Accuracy: 633/1154 (54.8527%)\n",
        " \n",
        " \n",
        "Test set: Average Loss: -2.2255, Accuracy: 461/718 (64.2061%)\n",
        " \n",
        " \n",
        "Test set: Average Loss: -3.4693, Accuracy: 281/394 (71.3198%)\n",
        "\n",
        " \n",
        "Test set: Average Loss: -2.0950, Accuracy: 370/620 (59.6774%)\n",
        "\n",
        " \n",
        "Test set: Average Loss: -1.3145, Accuracy: 633/1154 (54.8527%)"
      ],
      "metadata": {
        "id": "R0xRmmN6-QxV"
      },
      "execution_count": null,
      "outputs": []
    }
  ]
}