{
  "nbformat": 4,
  "nbformat_minor": 0,
  "metadata": {
    "colab": {
      "name": "크롤링 기본",
      "provenance": [],
      "collapsed_sections": []
    },
    "kernelspec": {
      "name": "python3",
      "display_name": "Python 3"
    },
    "language_info": {
      "name": "python"
    }
  },
  "cells": [
    {
      "cell_type": "code",
      "source": [
        "import requests"
      ],
      "metadata": {
        "id": "TphfUq6F3MWg"
      },
      "execution_count": null,
      "outputs": []
    },
    {
      "cell_type": "code",
      "execution_count": null,
      "metadata": {
        "id": "RtqxgFfGzPy9"
      },
      "outputs": [],
      "source": [
        "!pip install requests\n",
        "import requests\n",
        "from bs4 import BeautifulSoup\n",
        "header = { 'User-agent':'Mozila/2.0'} # ai/매크로가 아닌 것처럼\n",
        "#naver서버에대화시도\n",
        "response = requests.get('https://www.naver.com/', headers = header) \n",
        "# naver에서 html 을 응답으로 줌\n",
        "html = response.text\n",
        "#html 번역선생님으로수프만듦\n",
        "soup = BeautifulSoup(html, 'html.parser')\n",
        "# < 보라색 주황색 = \"파랑색\" >\n",
        "#   태그명 속성명    속성값\n",
        "#   div    vlass    \"hdline\"\n",
        "titles = soup.select('.lnk_hdline_article')\n",
        "# print(titles.text.strip())\n",
        "for title in titles:\n",
        "    print(title.text.strip())"
      ]
    },
    {
      "cell_type": "code",
      "source": [
        " "
      ],
      "metadata": {
        "id": "uqM7vPaK5XDU"
      },
      "execution_count": 12,
      "outputs": []
    }
  ]
}