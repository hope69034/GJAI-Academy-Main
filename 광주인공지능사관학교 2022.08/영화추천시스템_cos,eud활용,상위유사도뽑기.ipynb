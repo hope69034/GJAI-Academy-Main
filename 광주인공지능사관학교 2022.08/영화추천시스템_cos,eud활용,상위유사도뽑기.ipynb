{
  "nbformat": 4,
  "nbformat_minor": 0,
  "metadata": {
    "colab": {
      "name": "영화추천시스템_cos,eud활용,상위유사도뽑기",
      "provenance": [],
      "collapsed_sections": []
    },
    "kernelspec": {
      "name": "python3",
      "display_name": "Python 3"
    },
    "language_info": {
      "name": "python"
    }
  },
  "cells": [
    {
      "cell_type": "markdown",
      "source": [
        "1. data2 로드를 통한 데이터 프레임 완성\n",
        "2. 한글에 맞게 형태소 분석기를 이용해서 단어 토큰화 TF-IDF 계산\n",
        "3. 코사인 유사도를 기반으로 영화 3종 추천 -올드보이"
      ],
      "metadata": {
        "id": "U9h6_JVY-Uwk"
      }
    },
    {
      "cell_type": "code",
      "source": [
        "import pandas as pd\n",
        "import numpy as np\n",
        "! pip install konlpy\n",
        "from konlpy.tag import Okt"
      ],
      "metadata": {
        "id": "tyZSsQU5Iv53"
      },
      "execution_count": null,
      "outputs": []
    },
    {
      "cell_type": "code",
      "source": [
        "data = pd.read_csv('data2.csv')\n",
        "data.head(), data.shape"
      ],
      "metadata": {
        "colab": {
          "base_uri": "https://localhost:8080/"
        },
        "id": "fqezH7oOIv-O",
        "outputId": "722cfbe3-8690-4d9d-ea76-7da39b383d10"
      },
      "execution_count": 2,
      "outputs": [
        {
          "output_type": "execute_result",
          "data": {
            "text/plain": [
              "(     name  genre                                            content\n",
              " 0    올드보이    스릴러  술 좋아하고 떠들기 좋아하는 오.대.수. 본인의 이름풀이를 오늘만 대충 수습하며 살...\n",
              " 1     노트북    로맨스  17살, ‘노아’는 밝고 순수한 ‘앨리’를 보고 첫눈에 반한다. 빠른 속도로 서로에...\n",
              " 2  미션임파서블     액션  도난당한 핵무기를 되찾아 오는 위험천만한 작전 중, 에단 헌트(톰 크루즈)는 임무를...\n",
              " 3  니모를찾아서  애니메이션  “디즈니`픽사 최고의 애니메이션이 3D로 다시 찾아온다!” 호기심 가득한 아기 물고...\n",
              " 4      탑건     액션  해군 최신 전투기 F-14기를 모는 젊은 조종사 매버릭 대위(톰 크루즈)는 최고의 ..., (18, 3))"
            ]
          },
          "metadata": {},
          "execution_count": 2
        }
      ]
    },
    {
      "cell_type": "code",
      "source": [
        "okt = Okt() #\n",
        "data_l = [' '.join(okt.morphs(i)) for i in data['content']]\n",
        "data_l[0]"
      ],
      "metadata": {
        "colab": {
          "base_uri": "https://localhost:8080/",
          "height": 189
        },
        "id": "W8dayPRbIwBv",
        "outputId": "80eaed62-b4bc-4b3f-feaa-df2e4d615e70"
      },
      "execution_count": 3,
      "outputs": [
        {
          "output_type": "execute_result",
          "data": {
            "text/plain": [
              "\"술 좋아하고 떠들기 좋아하는 오 . 대 . 수 . 본인 의 이름 풀이 를 오늘 만 대충 수습 하며 살자 ' 라고 이죽거리는 이 남자 는 아내 와 어린 딸아이 를 가진 지극히 평범한 샐러리맨 이다 . 어느 날 , 술 이 거나 하게 취해 집 에 돌아가는 길 에 존재 를 알 수 없는 누군가 에게 납치 , 사설 감금 방 에 갇히게 되는데 . 언뜻 보면 싸구려 호텔 방 을 연상 케 하는 감금 방 . 중국집 군 만두 만을 먹으며 8 평이 라는 제한 된 공간 에서 그 가 할 수 있는 일이 라곤 , 텔레비전 보는 게 전부 . 그렇게 1년 이 지났을 무렵 , 뉴스 를 통해 나오는 아내 의 살해 소식 . 게다가 아내 의 살인 범 으로 자신 이 지목 되고 있 음 을 알 게 된 오 대수 는 자살 을 감행 하 지만 죽는 것 조차 그 에겐 용납 되지 않는다 . 오 대수 는 복수 를 위해 체력 단련 을 비롯 , 자신 을 가둘만 한 사람 들 , 사건 들 을 모조리 기억 속 에서 꺼내 악행 의 자서전 을 기록 한다 . 한편 , 탈출 을 위해 감금 방 한쪽 구석 을 쇠 젓가락 으로 파기 도 하는데 .. 감금 15년 을 맞이 하는 해 , 마침내 사람 몸 하나 빠져나갈 만큼의 탈출 구가 생겼을 때 , 어이없게도 15년 전 납치 됐던 바로 그 장소 로 풀려나 있는 자신 을 발견 하게 된다 . 우연히 들른 일식집 에서 갑자기 정신 을 잃어버린 오 대수 는 보조 요리사 미도 집 으로 가게 되고 , 미도 는 오 대수 에게 연민 에서 시작 한 사랑 의 감정 을 키워 나가게 된다 . 한편 감금 방 에서 먹던 군 만두 에서 나온 청룡 이란 전표 하나로 찾아낸 7.5 층 감금 방 의 정체 를 찾아내고 ... 마침내 , 첫 대면 을 하는 날 복수심 으로 들끓는 대수 에게 우진 은 너무나 냉정하게 게임 을 제안 한다 . 자신 이 가둔 이유 를 5일 안 에 밝혀내면 스스로 죽어주겠다는 것 . 대수 는 이 지독한 비밀 을 풀기 위해 , 사랑 하는 연인 , 미도 를 잃지 않기 위해 5일 간의 긴박한 수수께끼 를 풀어 나가야 한다 . 도대체 이우진 은 누구 이며 ? 이우진 이 오 대수 를 15년 동안 이나 감금 한 이유 는 뭘 까 ? 밝혀진 비밀 앞 에 두 남자 의 운명 은 과연 어떻게 되는 것 일까 ?\""
            ],
            "application/vnd.google.colaboratory.intrinsic+json": {
              "type": "string"
            }
          },
          "metadata": {},
          "execution_count": 3
        }
      ]
    },
    {
      "cell_type": "code",
      "source": [
        "# 백터라이저 > cos유사도, eud유사도 뽑기\n",
        "from sklearn.feature_extraction.text import TfidfVectorizer\n",
        "tfidf_v = TfidfVectorizer()\n",
        "tfidf_m = tfidf_v.fit_transform(data_l)\n",
        "tfidf_m.toarray()\n",
        "from sklearn.metrics.pairwise import cosine_similarity # 코사인유사도\n",
        "cos = cosine_similarity(tfidf_m, tfidf_m)\n",
        "from sklearn.metrics import euclidean_distances #유클리드거리 소문자-매소드\n",
        "eud = euclidean_distances(tfidf_m, tfidf_m)\n",
        "cos.shape, eud.shape"
      ],
      "metadata": {
        "colab": {
          "base_uri": "https://localhost:8080/"
        },
        "id": "va30n0WOIwFG",
        "outputId": "af322270-bf6e-4617-b773-2a9c329c7578"
      },
      "execution_count": 4,
      "outputs": [
        {
          "output_type": "execute_result",
          "data": {
            "text/plain": [
              "((18, 18), (18, 18))"
            ]
          },
          "metadata": {},
          "execution_count": 4
        }
      ]
    },
    {
      "cell_type": "code",
      "source": [
        "data.index # 이만개의 인덱\n",
        "t_idx = dict(zip(data['name'], data.index )) # 집으로 결합해서 딕셔너리화   영화제목 : 인덱스\n",
        "t_idx"
      ],
      "metadata": {
        "colab": {
          "base_uri": "https://localhost:8080/"
        },
        "id": "YHOuvrh5IwIR",
        "outputId": "864c9aeb-f726-44b4-a0fb-4f530f71cc73"
      },
      "execution_count": 5,
      "outputs": [
        {
          "output_type": "execute_result",
          "data": {
            "text/plain": [
              "{'007 노타임투다이': 15,\n",
              " '노트북': 1,\n",
              " '니모를찾아서': 3,\n",
              " '미션임파서블': 2,\n",
              " '반지의제왕': 6,\n",
              " '스타워즈': 17,\n",
              " '스타트렉': 12,\n",
              " '신세계': 7,\n",
              " '아저씨': 8,\n",
              " '어바웃 타임': 11,\n",
              " '올드보이': 0,\n",
              " '인터스텔라': 16,\n",
              " '장고': 10,\n",
              " '지금만나러갑니다': 14,\n",
              " '친절한금자씨': 5,\n",
              " '탑건': 4,\n",
              " '트랜스포머': 13,\n",
              " '해리포터': 9}"
            ]
          },
          "metadata": {},
          "execution_count": 5
        }
      ]
    },
    {
      "cell_type": "code",
      "source": [
        "# cos 유사도로 상위5위 유사도 뽑기\n",
        "# 특정 영화의 상위 유사도 영화제목으로 뽑기\n",
        "def ck_s_t(t, cosine_sim = cos ):\n",
        "    idx = t_idx[t]\n",
        "    c_sc = list(enumerate(cosine_sim[idx])) # 넘버링 #이누머-열거\n",
        "    c_sc = sorted ( c_sc, key=lambda x:x[1] , reverse=True) # reverse=True 내림차순 , 코사인유사도는 높은 것이 좋은 거니까, 디폴트는 오름차순\n",
        "    m_d = c_sc[1:6] # (인덱스,유사도) (15348, 0.5258229300737997),  # 0인덱은 자기자신이니까 빼고 상위 1,2,3,4,5 위의 유사도가 높은 것을 뽑는다. \n",
        "    m_i = [i[0]for i in m_d]  # (인덱스,유사도) 를 하나 뽑아서 [0]인덱스 > 인덱스 뽑아서 리스트로 >  상위 5위까지 인덱스를 뽑았다\n",
        "    return data['name'].iloc[m_i] #영화타이틀 시리즈에서 그 인덱 값들만 뽑아온다 (판다스시리즈 타입으로 뽑힌다)\n",
        "pd.DataFrame(ck_s_t('올드보이'))"
      ],
      "metadata": {
        "colab": {
          "base_uri": "https://localhost:8080/",
          "height": 206
        },
        "id": "uAmVFKh2I1Ep",
        "outputId": "53ed7c7b-83bb-447d-8cc3-719b7a2ce929"
      },
      "execution_count": 6,
      "outputs": [
        {
          "output_type": "execute_result",
          "data": {
            "text/plain": [
              "        name\n",
              "5     친절한금자씨\n",
              "11    어바웃 타임\n",
              "8        아저씨\n",
              "14  지금만나러갑니다\n",
              "1        노트북"
            ],
            "text/html": [
              "\n",
              "  <div id=\"df-fdc4800e-25cd-4996-b53f-2e37cde3990d\">\n",
              "    <div class=\"colab-df-container\">\n",
              "      <div>\n",
              "<style scoped>\n",
              "    .dataframe tbody tr th:only-of-type {\n",
              "        vertical-align: middle;\n",
              "    }\n",
              "\n",
              "    .dataframe tbody tr th {\n",
              "        vertical-align: top;\n",
              "    }\n",
              "\n",
              "    .dataframe thead th {\n",
              "        text-align: right;\n",
              "    }\n",
              "</style>\n",
              "<table border=\"1\" class=\"dataframe\">\n",
              "  <thead>\n",
              "    <tr style=\"text-align: right;\">\n",
              "      <th></th>\n",
              "      <th>name</th>\n",
              "    </tr>\n",
              "  </thead>\n",
              "  <tbody>\n",
              "    <tr>\n",
              "      <th>5</th>\n",
              "      <td>친절한금자씨</td>\n",
              "    </tr>\n",
              "    <tr>\n",
              "      <th>11</th>\n",
              "      <td>어바웃 타임</td>\n",
              "    </tr>\n",
              "    <tr>\n",
              "      <th>8</th>\n",
              "      <td>아저씨</td>\n",
              "    </tr>\n",
              "    <tr>\n",
              "      <th>14</th>\n",
              "      <td>지금만나러갑니다</td>\n",
              "    </tr>\n",
              "    <tr>\n",
              "      <th>1</th>\n",
              "      <td>노트북</td>\n",
              "    </tr>\n",
              "  </tbody>\n",
              "</table>\n",
              "</div>\n",
              "      <button class=\"colab-df-convert\" onclick=\"convertToInteractive('df-fdc4800e-25cd-4996-b53f-2e37cde3990d')\"\n",
              "              title=\"Convert this dataframe to an interactive table.\"\n",
              "              style=\"display:none;\">\n",
              "        \n",
              "  <svg xmlns=\"http://www.w3.org/2000/svg\" height=\"24px\"viewBox=\"0 0 24 24\"\n",
              "       width=\"24px\">\n",
              "    <path d=\"M0 0h24v24H0V0z\" fill=\"none\"/>\n",
              "    <path d=\"M18.56 5.44l.94 2.06.94-2.06 2.06-.94-2.06-.94-.94-2.06-.94 2.06-2.06.94zm-11 1L8.5 8.5l.94-2.06 2.06-.94-2.06-.94L8.5 2.5l-.94 2.06-2.06.94zm10 10l.94 2.06.94-2.06 2.06-.94-2.06-.94-.94-2.06-.94 2.06-2.06.94z\"/><path d=\"M17.41 7.96l-1.37-1.37c-.4-.4-.92-.59-1.43-.59-.52 0-1.04.2-1.43.59L10.3 9.45l-7.72 7.72c-.78.78-.78 2.05 0 2.83L4 21.41c.39.39.9.59 1.41.59.51 0 1.02-.2 1.41-.59l7.78-7.78 2.81-2.81c.8-.78.8-2.07 0-2.86zM5.41 20L4 18.59l7.72-7.72 1.47 1.35L5.41 20z\"/>\n",
              "  </svg>\n",
              "      </button>\n",
              "      \n",
              "  <style>\n",
              "    .colab-df-container {\n",
              "      display:flex;\n",
              "      flex-wrap:wrap;\n",
              "      gap: 12px;\n",
              "    }\n",
              "\n",
              "    .colab-df-convert {\n",
              "      background-color: #E8F0FE;\n",
              "      border: none;\n",
              "      border-radius: 50%;\n",
              "      cursor: pointer;\n",
              "      display: none;\n",
              "      fill: #1967D2;\n",
              "      height: 32px;\n",
              "      padding: 0 0 0 0;\n",
              "      width: 32px;\n",
              "    }\n",
              "\n",
              "    .colab-df-convert:hover {\n",
              "      background-color: #E2EBFA;\n",
              "      box-shadow: 0px 1px 2px rgba(60, 64, 67, 0.3), 0px 1px 3px 1px rgba(60, 64, 67, 0.15);\n",
              "      fill: #174EA6;\n",
              "    }\n",
              "\n",
              "    [theme=dark] .colab-df-convert {\n",
              "      background-color: #3B4455;\n",
              "      fill: #D2E3FC;\n",
              "    }\n",
              "\n",
              "    [theme=dark] .colab-df-convert:hover {\n",
              "      background-color: #434B5C;\n",
              "      box-shadow: 0px 1px 3px 1px rgba(0, 0, 0, 0.15);\n",
              "      filter: drop-shadow(0px 1px 2px rgba(0, 0, 0, 0.3));\n",
              "      fill: #FFFFFF;\n",
              "    }\n",
              "  </style>\n",
              "\n",
              "      <script>\n",
              "        const buttonEl =\n",
              "          document.querySelector('#df-fdc4800e-25cd-4996-b53f-2e37cde3990d button.colab-df-convert');\n",
              "        buttonEl.style.display =\n",
              "          google.colab.kernel.accessAllowed ? 'block' : 'none';\n",
              "\n",
              "        async function convertToInteractive(key) {\n",
              "          const element = document.querySelector('#df-fdc4800e-25cd-4996-b53f-2e37cde3990d');\n",
              "          const dataTable =\n",
              "            await google.colab.kernel.invokeFunction('convertToInteractive',\n",
              "                                                     [key], {});\n",
              "          if (!dataTable) return;\n",
              "\n",
              "          const docLinkHtml = 'Like what you see? Visit the ' +\n",
              "            '<a target=\"_blank\" href=https://colab.research.google.com/notebooks/data_table.ipynb>data table notebook</a>'\n",
              "            + ' to learn more about interactive tables.';\n",
              "          element.innerHTML = '';\n",
              "          dataTable['output_type'] = 'display_data';\n",
              "          await google.colab.output.renderOutput(dataTable, element);\n",
              "          const docLink = document.createElement('div');\n",
              "          docLink.innerHTML = docLinkHtml;\n",
              "          element.appendChild(docLink);\n",
              "        }\n",
              "      </script>\n",
              "    </div>\n",
              "  </div>\n",
              "  "
            ]
          },
          "metadata": {},
          "execution_count": 6
        }
      ]
    },
    {
      "cell_type": "code",
      "source": [
        "# eud로 뽑기\n",
        "def ck_s_t(t, cosine_sim = eud ):\n",
        "    idx = t_idx[t]\n",
        "    c_sc = list(enumerate(cosine_sim[idx])) # 넘버링 #이누머-열거\n",
        "    c_sc = sorted ( c_sc, key=lambda x:x[1] , reverse=True)  \n",
        "    m_d = c_sc[-2:-7:-1]   # eud는 작을수록 유사도가 높으니까 뒤에서 5개를 뽑는다 -1인덱은 올드보이\n",
        "    m_i = [i[0]for i in m_d]  \n",
        "    return data['name'].iloc[m_i]  \n",
        "pd.DataFrame(ck_s_t('올드보이'))"
      ],
      "metadata": {
        "colab": {
          "base_uri": "https://localhost:8080/",
          "height": 206
        },
        "id": "bZCATR-8I1IT",
        "outputId": "517eb4db-0fc2-493e-fff3-c864e6f033dd"
      },
      "execution_count": 7,
      "outputs": [
        {
          "output_type": "execute_result",
          "data": {
            "text/plain": [
              "        name\n",
              "5     친절한금자씨\n",
              "11    어바웃 타임\n",
              "8        아저씨\n",
              "14  지금만나러갑니다\n",
              "1        노트북"
            ],
            "text/html": [
              "\n",
              "  <div id=\"df-5f39c289-5ac9-46e9-8a95-c1580a4dfba7\">\n",
              "    <div class=\"colab-df-container\">\n",
              "      <div>\n",
              "<style scoped>\n",
              "    .dataframe tbody tr th:only-of-type {\n",
              "        vertical-align: middle;\n",
              "    }\n",
              "\n",
              "    .dataframe tbody tr th {\n",
              "        vertical-align: top;\n",
              "    }\n",
              "\n",
              "    .dataframe thead th {\n",
              "        text-align: right;\n",
              "    }\n",
              "</style>\n",
              "<table border=\"1\" class=\"dataframe\">\n",
              "  <thead>\n",
              "    <tr style=\"text-align: right;\">\n",
              "      <th></th>\n",
              "      <th>name</th>\n",
              "    </tr>\n",
              "  </thead>\n",
              "  <tbody>\n",
              "    <tr>\n",
              "      <th>5</th>\n",
              "      <td>친절한금자씨</td>\n",
              "    </tr>\n",
              "    <tr>\n",
              "      <th>11</th>\n",
              "      <td>어바웃 타임</td>\n",
              "    </tr>\n",
              "    <tr>\n",
              "      <th>8</th>\n",
              "      <td>아저씨</td>\n",
              "    </tr>\n",
              "    <tr>\n",
              "      <th>14</th>\n",
              "      <td>지금만나러갑니다</td>\n",
              "    </tr>\n",
              "    <tr>\n",
              "      <th>1</th>\n",
              "      <td>노트북</td>\n",
              "    </tr>\n",
              "  </tbody>\n",
              "</table>\n",
              "</div>\n",
              "      <button class=\"colab-df-convert\" onclick=\"convertToInteractive('df-5f39c289-5ac9-46e9-8a95-c1580a4dfba7')\"\n",
              "              title=\"Convert this dataframe to an interactive table.\"\n",
              "              style=\"display:none;\">\n",
              "        \n",
              "  <svg xmlns=\"http://www.w3.org/2000/svg\" height=\"24px\"viewBox=\"0 0 24 24\"\n",
              "       width=\"24px\">\n",
              "    <path d=\"M0 0h24v24H0V0z\" fill=\"none\"/>\n",
              "    <path d=\"M18.56 5.44l.94 2.06.94-2.06 2.06-.94-2.06-.94-.94-2.06-.94 2.06-2.06.94zm-11 1L8.5 8.5l.94-2.06 2.06-.94-2.06-.94L8.5 2.5l-.94 2.06-2.06.94zm10 10l.94 2.06.94-2.06 2.06-.94-2.06-.94-.94-2.06-.94 2.06-2.06.94z\"/><path d=\"M17.41 7.96l-1.37-1.37c-.4-.4-.92-.59-1.43-.59-.52 0-1.04.2-1.43.59L10.3 9.45l-7.72 7.72c-.78.78-.78 2.05 0 2.83L4 21.41c.39.39.9.59 1.41.59.51 0 1.02-.2 1.41-.59l7.78-7.78 2.81-2.81c.8-.78.8-2.07 0-2.86zM5.41 20L4 18.59l7.72-7.72 1.47 1.35L5.41 20z\"/>\n",
              "  </svg>\n",
              "      </button>\n",
              "      \n",
              "  <style>\n",
              "    .colab-df-container {\n",
              "      display:flex;\n",
              "      flex-wrap:wrap;\n",
              "      gap: 12px;\n",
              "    }\n",
              "\n",
              "    .colab-df-convert {\n",
              "      background-color: #E8F0FE;\n",
              "      border: none;\n",
              "      border-radius: 50%;\n",
              "      cursor: pointer;\n",
              "      display: none;\n",
              "      fill: #1967D2;\n",
              "      height: 32px;\n",
              "      padding: 0 0 0 0;\n",
              "      width: 32px;\n",
              "    }\n",
              "\n",
              "    .colab-df-convert:hover {\n",
              "      background-color: #E2EBFA;\n",
              "      box-shadow: 0px 1px 2px rgba(60, 64, 67, 0.3), 0px 1px 3px 1px rgba(60, 64, 67, 0.15);\n",
              "      fill: #174EA6;\n",
              "    }\n",
              "\n",
              "    [theme=dark] .colab-df-convert {\n",
              "      background-color: #3B4455;\n",
              "      fill: #D2E3FC;\n",
              "    }\n",
              "\n",
              "    [theme=dark] .colab-df-convert:hover {\n",
              "      background-color: #434B5C;\n",
              "      box-shadow: 0px 1px 3px 1px rgba(0, 0, 0, 0.15);\n",
              "      filter: drop-shadow(0px 1px 2px rgba(0, 0, 0, 0.3));\n",
              "      fill: #FFFFFF;\n",
              "    }\n",
              "  </style>\n",
              "\n",
              "      <script>\n",
              "        const buttonEl =\n",
              "          document.querySelector('#df-5f39c289-5ac9-46e9-8a95-c1580a4dfba7 button.colab-df-convert');\n",
              "        buttonEl.style.display =\n",
              "          google.colab.kernel.accessAllowed ? 'block' : 'none';\n",
              "\n",
              "        async function convertToInteractive(key) {\n",
              "          const element = document.querySelector('#df-5f39c289-5ac9-46e9-8a95-c1580a4dfba7');\n",
              "          const dataTable =\n",
              "            await google.colab.kernel.invokeFunction('convertToInteractive',\n",
              "                                                     [key], {});\n",
              "          if (!dataTable) return;\n",
              "\n",
              "          const docLinkHtml = 'Like what you see? Visit the ' +\n",
              "            '<a target=\"_blank\" href=https://colab.research.google.com/notebooks/data_table.ipynb>data table notebook</a>'\n",
              "            + ' to learn more about interactive tables.';\n",
              "          element.innerHTML = '';\n",
              "          dataTable['output_type'] = 'display_data';\n",
              "          await google.colab.output.renderOutput(dataTable, element);\n",
              "          const docLink = document.createElement('div');\n",
              "          docLink.innerHTML = docLinkHtml;\n",
              "          element.appendChild(docLink);\n",
              "        }\n",
              "      </script>\n",
              "    </div>\n",
              "  </div>\n",
              "  "
            ]
          },
          "metadata": {},
          "execution_count": 7
        }
      ]
    }
  ]
}