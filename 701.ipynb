{
  "nbformat": 4,
  "nbformat_minor": 0,
  "metadata": {
    "colab": {
      "name": "701",
      "provenance": [],
      "collapsed_sections": []
    },
    "kernelspec": {
      "name": "python3",
      "display_name": "Python 3"
    },
    "language_info": {
      "name": "python"
    }
  },
  "cells": [
    {
      "cell_type": "code",
      "execution_count": null,
      "metadata": {
        "id": "Oy3-eNGMJ6c-"
      },
      "outputs": [],
      "source": [
        ""
      ]
    },
    {
      "cell_type": "code",
      "source": [
        " 문자열"
      ],
      "metadata": {
        "id": "lDlvmkJ4RpO-"
      },
      "execution_count": null,
      "outputs": []
    },
    {
      "cell_type": "code",
      "source": [
        "스트링-이뮤터블 객체"
      ],
      "metadata": {
        "id": "fFFQogi_Rr0F"
      },
      "execution_count": null,
      "outputs": []
    },
    {
      "cell_type": "code",
      "source": [
        "공백도 문자"
      ],
      "metadata": {
        "id": "RfAm41f1SMl-"
      },
      "execution_count": null,
      "outputs": []
    },
    {
      "cell_type": "code",
      "source": [
        "스트립 공백삭제\n",
        "R스트립\n",
        "L스트립\n",
        "스플릿-공백은버림\n",
        "isdigit 문자열이 숫자인지 여부반환\n",
        "이스digit 숫자\n",
        " isslower 소문자\n",
        "  issupper 대문자\n",
        "len"
      ],
      "metadata": {
        "id": "Oz33NCVqSTUm"
      },
      "execution_count": null,
      "outputs": []
    },
    {
      "cell_type": "code",
      "source": [
        "파일입출력- (거의안씀>판다스,넘파이)\n",
        "파일입력: 파일->메모리 파일에잇는데이터를 입력하겠다\n",
        "파일출력: 메모리->파일 메모리에가지고잇는데이터를파일에주겠다\n"
      ],
      "metadata": {
        "id": "L676P-WqUYe_"
      },
      "execution_count": null,
      "outputs": []
    },
    {
      "cell_type": "code",
      "source": [
        "파일안에는바이트들이순차적으로저장되어잇고맨긑에는이오에프\n"
      ],
      "metadata": {
        "id": "rPDDN9XVWgVo"
      },
      "execution_count": null,
      "outputs": []
    },
    {
      "cell_type": "code",
      "source": [
        "인파일=오픈(파일이름.여는모드 r리드 w라이트 a 어펜드 r+읽기쓰기)      열기\n",
        "인파일.클로스()                                   닫기"
      ],
      "metadata": {
        "id": "oZQTmwt6YOnK"
      },
      "execution_count": null,
      "outputs": []
    },
    {
      "cell_type": "code",
      "source": [
        "f= open(\"in_data.txt\",'w')  #쓰기모드로 파일오픈\n",
        "f.write('data\\n')    #쓰겠다\n",
        "f.write('1data\\n')    #쓰겠다\n",
        "f.close()"
      ],
      "metadata": {
        "id": "C3b2jSjJbFoC"
      },
      "execution_count": 31,
      "outputs": []
    },
    {
      "cell_type": "code",
      "source": [
        "f= open(\"in_data.txt\",'a')  #쓰기모드로 파일오픈\n",
        "f.write('3data')    #쓰겠다"
      ],
      "metadata": {
        "colab": {
          "base_uri": "https://localhost:8080/"
        },
        "id": "w_KcAcddccQb",
        "outputId": "6916f097-a5bf-400c-c4f3-ebee0665f4ab"
      },
      "execution_count": 33,
      "outputs": [
        {
          "output_type": "execute_result",
          "data": {
            "text/plain": [
              "5"
            ]
          },
          "metadata": {},
          "execution_count": 33
        }
      ]
    },
    {
      "cell_type": "code",
      "source": [
        "f= open(\"in_data.txt\",'r')  #읽기모드로 파일오픈\n",
        "n=1\n",
        "for i in f:\n",
        "    print(n)\n",
        "    print(i)\n",
        "    n+=1\n",
        "#data\\n 다 가지고 오고   그 다음줄에 1data\\n을 가져오기 때문에 줄이 벌어짐"
      ],
      "metadata": {
        "colab": {
          "base_uri": "https://localhost:8080/"
        },
        "id": "co162-RobYJY",
        "outputId": "cab0aed0-fdde-471e-d5a0-efa0215de6b7"
      },
      "execution_count": 36,
      "outputs": [
        {
          "output_type": "stream",
          "name": "stdout",
          "text": [
            "1\n",
            "data\n",
            "\n",
            "2\n",
            "1data\n",
            "\n",
            "3\n",
            "3data3data\n"
          ]
        }
      ]
    },
    {
      "cell_type": "code",
      "source": [
        "with open(\"in_data.txt\",'r') as f :\n",
        "    #블록 안에 자동정리  -> 자동으로 닫힌다\n",
        "    for i in f:\n",
        "        print(i)  #여기서 블락이 끝나니까 여기서 닫힌다 자동으로\n",
        "        "
      ],
      "metadata": {
        "id": "2QVW1pLyfkOD"
      },
      "execution_count": null,
      "outputs": []
    },
    {
      "cell_type": "code",
      "source": [
        "pickle 모듈의\n",
        "dump()와\n",
        "로드 메소드를 사용하면 객체를 쓰고 읽을 수 있다\n",
        "\n",
        "비트사이즈에ㅏ맞게 쪼개서 줄세움 -직렬화\n",
        "/ 역질렬화 직렬화된 데이터를 거꾸로 쌓아서 복원\n",
        "\n",
        "덤프() 메모리>파일로보내기\n",
        "로드() 파일>메모리로보내기"
      ],
      "metadata": {
        "id": "QPgORiwtgvvY"
      },
      "execution_count": null,
      "outputs": []
    },
    {
      "cell_type": "code",
      "source": [
        "import pickle\n",
        "data =  {'key1':'data', 'key2': 'data2'}\n",
        "pickle.dump(data,open('d_data.p','wb'))            #메모리에서파일로 데이터를 넣기  d_data파일에\n",
        "                                  #wb - 바이너리사이즈 쓰기 모드\n",
        "  \n",
        "      "
      ],
      "metadata": {
        "id": "4JzD5vFUiQXC"
      },
      "execution_count": 39,
      "outputs": []
    },
    {
      "cell_type": "code",
      "source": [
        "ck = pickle.load(open('d_data.p','rb'))  #읽기 모드로 불러오기"
      ],
      "metadata": {
        "id": "pNA0umJIjSFQ"
      },
      "execution_count": 40,
      "outputs": []
    },
    {
      "cell_type": "code",
      "source": [
        "ck"
      ],
      "metadata": {
        "colab": {
          "base_uri": "https://localhost:8080/"
        },
        "id": "iEkuBdB6jhzB",
        "outputId": "80b4707f-99a3-48ba-a47a-de2a5d684b44"
      },
      "execution_count": 41,
      "outputs": [
        {
          "output_type": "execute_result",
          "data": {
            "text/plain": [
              "{'key1': 'data', 'key2': 'data2'}"
            ]
          },
          "metadata": {},
          "execution_count": 41
        }
      ]
    },
    {
      "cell_type": "code",
      "source": [
        "import json      #json 파일자체에서도내용을수정할수잇도록만든구조\n",
        "json.dump(ck,open(\"d_data.json\",'w'))   #wb대신w인 이유는 바이너리가 아닌 텍스트형태로 하겟다"
      ],
      "metadata": {
        "id": "HDPHmtAZj09j"
      },
      "execution_count": 50,
      "outputs": []
    },
    {
      "cell_type": "code",
      "source": [
        "ck2=json.load(open(\"d_data.json\",'r'))\n",
        "ck2    \n",
        "#json 내용물 수정가능           덤프/로드는 같음"
      ],
      "metadata": {
        "colab": {
          "base_uri": "https://localhost:8080/"
        },
        "id": "EeCjzWuLkG9t",
        "outputId": "93193ad3-3ad1-4ceb-b3c6-07bacf6bcf84"
      },
      "execution_count": 51,
      "outputs": [
        {
          "output_type": "execute_result",
          "data": {
            "text/plain": [
              "{'key1': 'data', 'key2': 'data2'}"
            ]
          },
          "metadata": {},
          "execution_count": 51
        }
      ]
    },
    {
      "cell_type": "code",
      "source": [
        "############3 예외처리"
      ],
      "metadata": {
        "id": "GrOdMMLQnR0n"
      },
      "execution_count": null,
      "outputs": []
    },
    {
      "cell_type": "code",
      "source": [
        "try:\n",
        "    open(\"d.txt\",'r')  #여기서 에러 > 익셉문으로\n",
        "except:\n",
        "    print('예외처리')    \n",
        "    "
      ],
      "metadata": {
        "colab": {
          "base_uri": "https://localhost:8080/"
        },
        "id": "a5qtqqPXntM1",
        "outputId": "47a6d84d-ff49-44a4-c9a1-4c139760bea4"
      },
      "execution_count": 53,
      "outputs": [
        {
          "output_type": "stream",
          "name": "stdout",
          "text": [
            "에왜처리\n"
          ]
        }
      ]
    },
    {
      "cell_type": "code",
      "source": [
        "ㅣ=[]\n",
        "l[0]"
      ],
      "metadata": {
        "colab": {
          "base_uri": "https://localhost:8080/",
          "height": 194
        },
        "id": "DRfhD1Vcp-aY",
        "outputId": "e0aeb1d7-0885-4ad7-f04d-385827713985"
      },
      "execution_count": 58,
      "outputs": [
        {
          "output_type": "error",
          "ename": "NameError",
          "evalue": "ignored",
          "traceback": [
            "\u001b[0;31m---------------------------------------------------------------------------\u001b[0m",
            "\u001b[0;31mNameError\u001b[0m                                 Traceback (most recent call last)",
            "\u001b[0;32m<ipython-input-58-80e0627d05d7>\u001b[0m in \u001b[0;36m<module>\u001b[0;34m()\u001b[0m\n\u001b[1;32m      1\u001b[0m \u001b[0mㅣ\u001b[0m\u001b[0;34m=\u001b[0m\u001b[0;34m[\u001b[0m\u001b[0;34m]\u001b[0m\u001b[0;34m\u001b[0m\u001b[0;34m\u001b[0m\u001b[0m\n\u001b[0;32m----> 2\u001b[0;31m \u001b[0ml\u001b[0m\u001b[0;34m[\u001b[0m\u001b[0;36m0\u001b[0m\u001b[0;34m]\u001b[0m\u001b[0;34m\u001b[0m\u001b[0;34m\u001b[0m\u001b[0m\n\u001b[0m",
            "\u001b[0;31mNameError\u001b[0m: name 'l' is not defined"
          ]
        }
      ]
    },
    {
      "cell_type": "code",
      "source": [
        "try:\n",
        "    open(\"d.txt\",'r')  #여기서 에러 > 익셉문으로\n",
        "    print('남은내용.')\n",
        "except:\n",
        "    print('예외발생')    \n",
        "else:  # 트라이문에서 예외가 발생하지 않았을 때 try > else  전부실행\n",
        "    print('예외가발생하지않았습니다')   \n"
      ],
      "metadata": {
        "colab": {
          "base_uri": "https://localhost:8080/"
        },
        "id": "epU0PZFapDXO",
        "outputId": "c35deb8d-81f2-4e76-c9c6-21e6239d72fd"
      },
      "execution_count": 57,
      "outputs": [
        {
          "output_type": "stream",
          "name": "stdout",
          "text": [
            "예외발생\n"
          ]
        }
      ]
    },
    {
      "cell_type": "code",
      "source": [
        "try:\n",
        "  #  open(\"d.txt\",'r')  #여기서 에러 > 익셉문으로\n",
        "   # print('남은내용.')\n",
        "    l=[]\n",
        "    print(l[0])\n",
        "    \n",
        "\n",
        "except IndexError:  #인덱스클래스로만들어진 에러니?\n",
        "\n",
        "  #위 익셉문은 모든에러를포괄하는 코드이기에   에러 \n",
        "    print('인덱스 예외발생')      \n",
        "except  Exception:   \n",
        "    print('  예외발생')    \n",
        "else:  #  트라이문에서 예외가 발생하지 않았을 때 try > else  전부실행\n",
        "    print('예외가발생하지않았습니다')   \n",
        "#트라이익셉자체가 조건문이니 >else그렇지않으면\n",
        "\n",
        "#예외클래스도만들수잇다\n",
        "\n"
      ],
      "metadata": {
        "colab": {
          "base_uri": "https://localhost:8080/"
        },
        "id": "A9ryTtBhqLIB",
        "outputId": "d5d02309-3be8-41ce-ca14-a1b59dde952a"
      },
      "execution_count": 67,
      "outputs": [
        {
          "output_type": "stream",
          "name": "stdout",
          "text": [
            "인덱스 예외발생\n"
          ]
        }
      ]
    },
    {
      "cell_type": "code",
      "source": [
        "try:\n",
        "  #  open(\"d.txt\",'r')  #여기서 에러 > 익셉문으로\n",
        "   # print('남은내용.')\n",
        "   # l=[]\n",
        "    print(0)\n",
        "    \n",
        "\n",
        "except IndexError:  #인덱스클래스로만들어진 에러니?\n",
        "\n",
        "  #위 익셉문은 모든에러를포괄하는 코드이기에   에러 \n",
        "    print('인덱스 예외발생')      \n",
        "except  Exception:   \n",
        "    print('  예외발생')    \n",
        "else:  #  트라이문에서 예외가 발생하지 않았을 때 try > else  전부실행\n",
        "    print('예외가발생하지않았습니다')   \n",
        "#트라이익셉자체가 조건문이니 >else그렇지않으면\n",
        "\n",
        "#예외클래스도만들수잇다\n",
        "\n"
      ],
      "metadata": {
        "colab": {
          "base_uri": "https://localhost:8080/"
        },
        "id": "FqMYTxeIur-t",
        "outputId": "a6823409-fd11-4257-8d16-ffd62c6fdc7a"
      },
      "execution_count": 68,
      "outputs": [
        {
          "output_type": "stream",
          "name": "stdout",
          "text": [
            "0\n",
            "예외가발생하지않았습니다\n"
          ]
        }
      ]
    },
    {
      "cell_type": "code",
      "source": [
        "open(\"d,txt\",'w')"
      ],
      "metadata": {
        "colab": {
          "base_uri": "https://localhost:8080/"
        },
        "id": "03kGm-ivv6RB",
        "outputId": "9a36f925-bed4-44d0-ed46-ae769e628503"
      },
      "execution_count": 74,
      "outputs": [
        {
          "output_type": "execute_result",
          "data": {
            "text/plain": [
              "<_io.TextIOWrapper name='d,txt' mode='w' encoding='UTF-8'>"
            ]
          },
          "metadata": {},
          "execution_count": 74
        }
      ]
    },
    {
      "cell_type": "code",
      "source": [
        "\n",
        "try:\n",
        "    f= open(\"d.txt\",'r') # 가정> 절대 예외가 발생하지 않는코드\n",
        "    print('남은내용.')\n",
        "    l=[]\n",
        "    print(0)  \n",
        "except IndexError:  #인덱스클래스로만들어진 에러니?\n",
        "\n",
        "  #위 익셉문은 모든에러를포괄하는 코드이기에   에러 \n",
        "    print('인덱스 예외발생')      \n",
        "except  Exception:   \n",
        "    print('  예외발생')    \n",
        "else:  #  트라이문에서 예외가 발생하지 않았을 때 try > else  전부실행\n",
        "    print('예외가발생하지않았습니다')   \n",
        "#트라이익셉자체가 조건문이니 >else그렇지않으면\n",
        "\n",
        "#예외클래스도만들수잇다\n",
        "\n",
        "finally:  # 반드시 동작하는 블록\n",
        "  #자원정리목적으로 많이 쓰임\n",
        "    f.close()\n",
        "\n"
      ],
      "metadata": {
        "colab": {
          "base_uri": "https://localhost:8080/"
        },
        "id": "gcJpS3fUuvfb",
        "outputId": "e0e127c7-03ab-4082-ecff-0b25412ea6c1"
      },
      "execution_count": 75,
      "outputs": [
        {
          "output_type": "stream",
          "name": "stdout",
          "text": [
            "  예외발생\n"
          ]
        }
      ]
    },
    {
      "cell_type": "code",
      "source": [
        "try:\n",
        "        f= open(\"d.txt\",'r') # 가정> 절대 예외가 발생하지 않는코드\n",
        "except  Exception:   \n",
        "        print('  예외처리')  # 오픈x 니까 닫을 것이 없음   \n",
        "else:\n",
        "        f.close()   # 에러없엇을때 닫기\n",
        "print(f)    #네임=인데이타.티엑스티  인데이터열려잇음"
      ],
      "metadata": {
        "colab": {
          "base_uri": "https://localhost:8080/"
        },
        "id": "GLA9kWF0thUC",
        "outputId": "a9d07e6c-eed2-406e-98fa-76fe98ab17ed"
      },
      "execution_count": 77,
      "outputs": [
        {
          "output_type": "stream",
          "name": "stdout",
          "text": [
            "  예외처리\n",
            "<_io.TextIOWrapper name='in_data.txt' mode='r' encoding='UTF-8'>\n"
          ]
        }
      ]
    },
    {
      "cell_type": "code",
      "source": [
        ""
      ],
      "metadata": {
        "id": "RE5u4GDsOCJO"
      },
      "execution_count": null,
      "outputs": []
    },
    {
      "cell_type": "code",
      "source": [
        "def f(x,y,z=10,*t,**d):    #*t 는  튜플화하겟다는 뜻 변수t랑은상관없다 네번째매개변수  **d 는 딕셔너리화 다섯번째매개변수\n",
        "    print(x,y,z,t,d)    "
      ],
      "metadata": {
        "id": "q0bvtYpLxGzL"
      },
      "execution_count": 78,
      "outputs": []
    },
    {
      "cell_type": "code",
      "source": [
        "f(t=10, x=20, y=30)"
      ],
      "metadata": {
        "colab": {
          "base_uri": "https://localhost:8080/"
        },
        "id": "56-a6DmOVuGQ",
        "outputId": "f290c586-54a7-4618-ec49-223cc1009202"
      },
      "execution_count": 79,
      "outputs": [
        {
          "output_type": "stream",
          "name": "stdout",
          "text": [
            "20 30 10 () {'t': 10}\n"
          ]
        }
      ]
    },
    {
      "cell_type": "code",
      "source": [
        "def f(x,y,z=10,*t,**d):    #*t 는  튜플화하겟다는 뜻 변수t랑은상관없다 네번째매개변수  **d 는 딕셔너리화 다섯번째매개변수\n",
        "    print(x,y,z,t,d)    # 튜플화인자는 자기순서부터는 뒤에 것도 다 튜플로 넣는다\n",
        "f(1,2,3,5,6,7,8,p=4)"
      ],
      "metadata": {
        "colab": {
          "base_uri": "https://localhost:8080/"
        },
        "id": "xReq-7jdW65G",
        "outputId": "ebf36b57-e413-4913-e5bf-818beb61668e"
      },
      "execution_count": 123,
      "outputs": [
        {
          "output_type": "stream",
          "name": "stdout",
          "text": [
            "1 2 3 (5, 6, 7, 8) {'p': 4}\n"
          ]
        }
      ]
    },
    {
      "cell_type": "code",
      "source": [
        "f(20,30,t=10)"
      ],
      "metadata": {
        "colab": {
          "base_uri": "https://localhost:8080/"
        },
        "id": "daRUI6tvYcFF",
        "outputId": "030c3902-7f21-4509-d770-d8421a9015a2"
      },
      "execution_count": 125,
      "outputs": [
        {
          "output_type": "stream",
          "name": "stdout",
          "text": [
            "20 30 10 () {'t': 10}\n"
          ]
        }
      ]
    },
    {
      "cell_type": "code",
      "source": [
        "f(x=20,30,3,7,8,t=10)"
      ],
      "metadata": {
        "id": "S5sPwR1bYlRP"
      },
      "execution_count": null,
      "outputs": []
    },
    {
      "cell_type": "markdown",
      "source": [
        "def func(arg):\n",
        "    return arg**arg    #arg의arg승\n",
        "f=func    #개명이 아니다 , 별명부여\n",
        "f(3)    ㅡ"
      ],
      "metadata": {
        "id": "KL2kJVOzZBJW"
      }
    },
    {
      "cell_type": "code",
      "source": [
        "def func(arg):\n",
        "    return arg*arg\n",
        "ist=[func,2]    \n",
        "ist[0](5)        # = func(5)"
      ],
      "metadata": {
        "colab": {
          "base_uri": "https://localhost:8080/"
        },
        "id": "Gq_8mczaaMaw",
        "outputId": "16cb2542-37d7-4e18-b84b-24ebb5c19172"
      },
      "execution_count": 136,
      "outputs": [
        {
          "output_type": "execute_result",
          "data": {
            "text/plain": [
              "25"
            ]
          },
          "metadata": {},
          "execution_count": 136
        }
      ]
    },
    {
      "cell_type": "code",
      "source": [
        "추상성 =부모만들기\n",
        "\n",
        "상속 자식이 부모를 선택\n",
        "    부모먼저만들어진다\n",
        "     오버라이딩  슈퍼클래스메소드의원형 메소드이름인자타입개수 동일하게작성\n",
        "                슈퍼클래스로 직접접근 시 슈퍼메소드 사용가능   \n",
        "                 def ck(self):\n",
        "                     super().f()    #부모의 f()메소드로 직접 접근   f()가 자식에 오버라이딩상태라도 부모로 직접접근가능\n",
        "                           "
      ],
      "metadata": {
        "id": "xXRUYTrqabR-"
      },
      "execution_count": null,
      "outputs": []
    },
    {
      "cell_type": "code",
      "source": [
        "클래스이름,필드,함수 다 오버라이딩 가능\n"
      ],
      "metadata": {
        "id": "_uuVZZYShF3y"
      },
      "execution_count": null,
      "outputs": []
    },
    {
      "cell_type": "code",
      "source": [
        "추상클래스\n",
        "  객체안만들때\n",
        "   부모만들기\n",
        "   추상메소드를 가지면 > 추상클래스로\n",
        "   "
      ],
      "metadata": {
        "id": "_C3DwTXqh0f8"
      },
      "execution_count": null,
      "outputs": []
    }
  ]
}