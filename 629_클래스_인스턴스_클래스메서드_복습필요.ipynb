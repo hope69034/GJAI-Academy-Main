{
  "nbformat": 4,
  "nbformat_minor": 0,
  "metadata": {
    "colab": {
      "name": "629 클래스 인스턴스/클래스메서드 -복습필요",
      "provenance": []
    },
    "kernelspec": {
      "name": "python3",
      "display_name": "Python 3"
    },
    "language_info": {
      "name": "python"
    }
  },
  "cells": [
    {
      "cell_type": "code",
      "execution_count": null,
      "metadata": {
        "id": "8iEiueYgwqKu"
      },
      "outputs": [],
      "source": [
        "#   클래스\n",
        " 속성-필드\n",
        " 행위의집합-매서드\n",
        "\n",
        "선언 -새로만든다\n",
        "대입-추가,갱신\n"
      ]
    },
    {
      "cell_type": "code",
      "source": [
        "클래스 클래스:\n",
        "            클래스필드=ㅇㅇ  #클래스필드\n",
        "            데프이닛셀픠  생성자 #메서드 생성자도 매서드다\n",
        "               self.인스턴스필드='ㄷㄷ' #인스턴스필드 \n",
        "               print"
      ],
      "metadata": {
        "id": "zXMcTRMI1wGQ"
      },
      "execution_count": null,
      "outputs": []
    },
    {
      "cell_type": "code",
      "source": [
        "클래스의정리"
      ],
      "metadata": {
        "id": "7jMJRiX535Kh"
      },
      "execution_count": null,
      "outputs": []
    },
    {
      "cell_type": "code",
      "source": [
        "class A:\n",
        "    def __init__(self) :\n",
        "        #객체생성시동작하는메서드  :생성자메서드\n",
        "        print('A생성자동작')\n",
        "    def __del__(self):      # 소멸자 메서드  객체소멸시 동작하는메서드\n",
        "        pass #존재이유 자원의정리\n",
        "\n",
        "\n",
        "a=A() #A클래스로만들어진인스턴스인객체\n"
      ],
      "metadata": {
        "colab": {
          "base_uri": "https://localhost:8080/"
        },
        "id": "ZqZMIcs74qgC",
        "outputId": "b30b3984-82eb-4fc2-aac6-741377342c99"
      },
      "execution_count": 1,
      "outputs": [
        {
          "output_type": "stream",
          "name": "stdout",
          "text": [
            "A생성자동작\n"
          ]
        }
      ]
    },
    {
      "cell_type": "code",
      "source": [
        "class A:\n",
        "    def __init__(self) :\n",
        "        #객체생성시동작하는메서드  :생성자메서드\n",
        "        print('A생성자동작')\n",
        "    def __del__(self):      # 소멸자 메서드  객체소멸시 동작하는메서드\n",
        "        print('소멸') #존재이유 자원의정리\n",
        "    \n",
        "\n",
        "a=A() #A클래스로만들어진인스턴스인객체\n",
        "a=0  #클래스소멸시키기"
      ],
      "metadata": {
        "colab": {
          "base_uri": "https://localhost:8080/"
        },
        "id": "7GJnFaX56cL7",
        "outputId": "e82cecb4-0c07-4290-cef1-1dcddc732e7e"
      },
      "execution_count": 10,
      "outputs": [
        {
          "output_type": "stream",
          "name": "stdout",
          "text": [
            "A생성자동작\n",
            "소멸\n"
          ]
        }
      ]
    },
    {
      "cell_type": "code",
      "source": [
        "class 클래스:\n",
        "    클래스_필드='클래스필드_호출'\n",
        "    def __init__(self,인스턴스입력='인스턴스필드_호출'):            #생성자 객체생성시동작하는메서드\n",
        "        self.인스턴스_필드 = '인스턴스필입력'\n",
        "       \n",
        "a=클래스()        \n",
        "a(,a)\n",
        "#############3"
      ],
      "metadata": {
        "colab": {
          "base_uri": "https://localhost:8080/",
          "height": 137
        },
        "id": "0UKNsiiO7BgD",
        "outputId": "096099a8-9245-42c7-901c-8c968223d8b6"
      },
      "execution_count": 14,
      "outputs": [
        {
          "output_type": "error",
          "ename": "SyntaxError",
          "evalue": "ignored",
          "traceback": [
            "\u001b[0;36m  File \u001b[0;32m\"<ipython-input-14-d1429ff5c561>\"\u001b[0;36m, line \u001b[0;32m7\u001b[0m\n\u001b[0;31m    a(,a)\u001b[0m\n\u001b[0m      ^\u001b[0m\n\u001b[0;31mSyntaxError\u001b[0m\u001b[0;31m:\u001b[0m invalid syntax\n"
          ]
        }
      ]
    },
    {
      "cell_type": "code",
      "source": [
        "class 클래스:\n",
        "    클래스_필드='클래스필드_호출'\n",
        "    def __init__(self,인스턴스입력='인스턴스필드_호출'):            #생성자 객체생성시동작하는메서드\n",
        "        self.인스턴스_필드 = '인스턴스필입력'\n",
        "    def 인스턴스메소드(self):\n",
        "        print(f'인스턴스메소듣>인스턴스필드:{self.인스턴스_필드}') #인스턴스필드는 셀프안에잇다     \n",
        "        print(f'인스턴스메소듣>클래스필드:{self.클래스_필드}') #인스턴스필드는 셀프안에잇다  \n",
        "    @classmethod\n",
        "    def 클래스_메소드(cls):  #cls권장(클래스)\n",
        "     #애러   print(f'클래스_메소듣>인스턴스필드:{cls.인스턴스_필드}') #인스턴스필드는 셀프안에잇다   -인스턴스필드가 존재하지 않음    \n",
        "        print(f'클래스_메소듣>클래스필드:{cls.클래스_필드}') #인스턴스필드는 셀프안에잇다  \n",
        "\n",
        "\n",
        "#클래서 > 클래스_메소드 > 클래스필드       이 경로로 출력해보자 클래스필드를\n",
        "\n",
        "클래스.클래스_메소드\n",
        "\n"
      ],
      "metadata": {
        "colab": {
          "base_uri": "https://localhost:8080/"
        },
        "id": "JMi6WDVHAQlM",
        "outputId": "e1ffe92c-c7dd-4c7c-f8b9-a1d28721c762"
      },
      "execution_count": 15,
      "outputs": [
        {
          "output_type": "execute_result",
          "data": {
            "text/plain": [
              "<bound method 클래스.클래스_메소드 of <class '__main__.클래스'>>"
            ]
          },
          "metadata": {},
          "execution_count": 15
        }
      ]
    },
    {
      "cell_type": "code",
      "source": [
        "class 클래스:\n",
        "    클래스_필드='클래스필드_호출'\n",
        "    def __init__(self,인스턴스입력='인스턴스필드_호출'):            #생성자 객체생성시동작하는메서드\n",
        "        self.인스턴스_필드 = '인스턴스필입력'\n",
        "    \n",
        "    # 인스턴스메소드>인스턴스필드\n",
        "    def 인스턴스메소드_인스턴스필드(self):\n",
        "        print(f'인스턴스메소듣>인스턴스필드:{self.인스턴스_필드}') #인스턴스필드는 셀프안에잇다     \n",
        "\n",
        "    #인스턴스메소드>클래스필드    \n",
        "    def 인스턴스메소드_클래스필드(self):\n",
        "        print(f'인스턴스메소듣>클래스필드:{self.클래스_필드}') #인스턴스필드는 셀프안에잇다      \n",
        "    #클래스메소드>클래스필드\n",
        "    @classmethod\n",
        "    def 클래스메소드_클래스필드(cls):  #cls권장(클래스)\n",
        "     #애러   print(f'클래스_메소듣>클래스필드:{cls.인스턴스_필드}') #인스턴스필드는 셀프안에잇다   -인스턴스필드가 존재하지 않음    \n",
        "        print(f'클래스_메소듣>클래스필드:{cls.클래스_필드}') #인스턴스필드는 셀프안에잇다  \n",
        "        \n",
        "        #클래스메소드>인스턴스필드\n",
        "    @classmethod\n",
        "    def 클래스메소드_인스턴스필드(cls):  #cls권장(클래스)\n",
        "     #애러   print(f'클래스_메소듣>인스턴스필드:{cls.인스턴스_필드}') #인스턴스필드는 셀프안에잇다   -인스턴스필드가 존재하지 않음    \n",
        "        print(f'클래스_메소듣>클래스필드:{cls.클래스_필드}') #인스턴스필드는 셀프안에잇다      \n",
        "\n",
        "\n",
        "\n",
        "#클래스 출발\n",
        "\n",
        "#클래서 > 클래스_메소드 > 클래스필드       이 경로로 출력해보자 클래스필드를\n",
        "#접근  ㅇ              ㅇ            가능\n",
        "클래스.클래스메소드_클래스필드()\n",
        "\n",
        "#클래스>클래스_메소드>인스턴스필드\n",
        "#접근  ㅇ            x              불가        #클래스>인스턴스 불가\n",
        "클래스.클래스메소드_인스턴스필드()\n",
        "\n",
        "#클래스>인스턴스_메소드>클래스필드\n",
        "#접근  x              ㅇ             불가 #빨간줄 문법오류나서주석처리\n",
        "#클래스.인스턴스메소드_클래스필드()\n",
        "\n",
        "#클래스>인스턴스_메소드>인스턴스필드\n",
        "#접근  x               ㅇ             불가 #빨간줄 문법오류나서주석처리\n",
        "#클래스.인스턴스메소드_인스턴스필드()\n",
        "\n",
        "\n",
        "#인스턴스출발\n",
        "\n",
        "인스턴스=클래스()\n",
        "\n",
        "# 인스턴스> 클래스_메소드 > 클래스필드       이 경로로 출력해보자 클래스필드를\n",
        "#접근    ㅇ               ㅇ           가능\n",
        "인스턴스.클래스메소드_클래스필드()\n",
        "\n",
        "#인스턴스>클래스_메소드>인스턴스필드\n",
        "#접근    ㅇ           x               불가\n",
        "인스턴스.클래스메소드_인스턴스필드()\n",
        "\n",
        "#인스턴스>인스턴스_메소드>클래스필드\n",
        "#접근    ㅇ              ㅇ          가능\n",
        "인스턴스.인스턴스메소드_클래스필드()\n",
        "\n",
        "#인스턴스>인스턴스_메소드>인스턴스필드\n",
        "#접근   ㅇ              ㅇ           가능\n",
        "인스턴스.인스턴스메소드_인스턴스필드()\n"
      ],
      "metadata": {
        "colab": {
          "base_uri": "https://localhost:8080/"
        },
        "id": "E_9PX3rXCYGz",
        "outputId": "4156d034-ff9f-4fec-8141-e740adc39548"
      },
      "execution_count": 27,
      "outputs": [
        {
          "output_type": "stream",
          "name": "stdout",
          "text": [
            "클래스_메소듣>클래스필드:클래스필드_호출\n",
            "클래스_메소듣>클래스필드:클래스필드_호출\n",
            "클래스_메소듣>클래스필드:클래스필드_호출\n",
            "클래스_메소듣>클래스필드:클래스필드_호출\n",
            "인스턴스메소듣>클래스필드:클래스필드_호출\n",
            "인스턴스메소듣>인스턴스필드:인스턴스필입력\n"
          ]
        }
      ]
    },
    {
      "cell_type": "code",
      "source": [
        "멤버=필드,매서드\n"
      ],
      "metadata": {
        "id": "3y0p1EJJHW8f"
      },
      "execution_count": null,
      "outputs": []
    },
    {
      "cell_type": "code",
      "source": [
        "class 클래스:\n",
        "    클래스_필드='클래스필드_호출'\n",
        "    def __init__(self,인스턴스입력='인스턴스필드_호출'):            #생성자 객체생성시동작하는메서드\n",
        "        self.인스턴스_필드 = '인스턴스필입력'\n",
        "    \n",
        "    # 인스턴스메소드>인스턴스필드\n",
        "    def 인스턴스메소드_인스턴스필드(self): #인스턴스메서드  #인스턴스안에인스턴스메서드가잇다 > 인스턴스가100개면 메모리100칸차지 (클래스는1개)\n",
        "                                        # 즉 인스턴스가 많을 땐 느려진다 > 클래스매서드로 넣기 (그렇게해도상관없는경우)\n",
        "        print(f'인스턴스메소듣>인스턴스필드:{self.인스턴스_필드}') #인스턴스필드는 셀프안에잇다     \n",
        "\n",
        "    #인스턴스메소드>클래스필드    \n",
        "    def 인스턴스메소드_클래스필드(self): #인스턴스메서드\n",
        "        print(f'인스턴스메소듣>클래스필드:{self.클래스_필드}') #인스턴스필드는 셀프안에잇다      \n",
        "    #클래스메소드>클래스필드\n",
        "\n",
        "    @classmethod  #클래스메서드 #바로아래 데프만 적용됨 그래서 또아래 클래서매서드골뱅이 \n",
        "    def 클래스메소드_클래스필드(cls):  #cls권장(클래스)\n",
        "     #애러   print(f'클래스_메소듣>클래스필드:{cls.인스턴스_필드}') #인스턴스필드는 셀프안에잇다   -인스턴스필드가 존재하지 않음    \n",
        "        print(f'클래스_메소듣>클래스필드:{cls.클래스_필드}') #인스턴스필드는 셀프안에잇다  \n",
        "        \n",
        "        #클래스메소드>인스턴스필드\n",
        "    @classmethod\n",
        "    def 클래스메소드_인스턴스필드(cls):  #cls권장(클래스)\n",
        "     #애러   print(f'클래스_메소듣>인스턴스필드:{cls.인스턴스_필드}') #인스턴스필드는 셀프안에잇다   -인스턴스필드가 존재하지 않음    \n",
        "        print(f'클래스_메소듣>클래스필드:{cls.클래스_필드}') #인스턴스필드는 셀프안에잇다      \n",
        "\n",
        "\n",
        "\n",
        "#클래스 출발\n",
        "\n",
        "#클래서 > 클래스_메소드 > 클래스필드       이 경로로 출력해보자 클래스필드를\n",
        "#접근  ㅇ              ㅇ            가능\n",
        "클래스.클래스메소드_클래스필드()\n",
        "\n",
        "#클래스>클래스_메소드>인스턴스필드\n",
        "#접근  ㅇ            x              불가        #클래스>인스턴스 불가\n",
        "클래스.클래스메소드_인스턴스필드()\n",
        "\n",
        "#클래스>인스턴스_메소드>클래스필드\n",
        "#접근  x              ㅇ             불가 #빨간줄 문법오류나서주석처리\n",
        "#클래스.인스턴스메소드_클래스필드()\n",
        "\n",
        "#클래스>인스턴스_메소드>인스턴스필드\n",
        "#접근  x               ㅇ             불가 #빨간줄 문법오류나서주석처리\n",
        "#클래스.인스턴스메소드_인스턴스필드()\n",
        "\n",
        "\n",
        "#인스턴스출발\n",
        "\n",
        "인스턴스=클래스()\n",
        "\n",
        "# 인스턴스> 클래스_메소드 > 클래스필드       이 경로로 출력해보자 클래스필드를\n",
        "#접근    ㅇ               ㅇ           가능\n",
        "인스턴스.클래스메소드_클래스필드()\n",
        "\n",
        "#인스턴스>클래스_메소드>인스턴스필드\n",
        "#접근    ㅇ           x               불가\n",
        "인스턴스.클래스메소드_인스턴스필드()\n",
        "\n",
        "#인스턴스>인스턴스_메소드>클래스필드\n",
        "#접근    ㅇ              ㅇ          가능\n",
        "인스턴스.인스턴스메소드_클래스필드()\n",
        "\n",
        "#인스턴스>인스턴스_메소드>인스턴스필드\n",
        "#접근   ㅇ              ㅇ           가능\n",
        "인스턴스.인스턴스메소드_인스턴스필드()\n",
        "\n",
        "\n",
        "\n"
      ],
      "metadata": {
        "id": "I-TLobeyHiJE"
      },
      "execution_count": null,
      "outputs": []
    },
    {
      "cell_type": "code",
      "source": [
        "class 클래스:\n",
        "    클래스_필드='클래스필드_호출'\n",
        "    def __init__(self,인스턴스입력='인스턴스필드_호출'):            #생성자 객체생성시동작하는메서드\n",
        "        self.인스턴스_필드 = '인스턴스필입력'\n",
        "    \n",
        "    # 인스턴스메소드>인스턴스필드\n",
        "    def 인스턴스메소드_인스턴스필드(self): #인스턴스메서드  #인스턴스안에인스턴스메서드가잇다 > 인스턴스가100개면 메모리100칸차지 (클래스는1개)\n",
        "                                        # 즉 인스턴스가 많을 땐 느려진다 > 클래스매서드로 넣기 (그렇게해도상관없는경우)\n",
        "        print(f'인스턴스메소드>인스턴스필드:{self.인스턴스_필드}') #인스턴스필드는 셀프안에잇다     \n",
        "\n",
        "    #인스턴스메소드>클래스필드    \n",
        "    def 인스턴스메소드_클래스필드(self): #인스턴스메서드\n",
        "        print(f'인스턴스메소드>클래스필드:{self.클래스_필드}') #인스턴스필드는 셀프안에잇다      \n",
        "    #클래스메소드>클래스필드\n",
        "\n",
        "    @classmethod  #클래스메서드 #바로아래 데프만 적용됨 그래서 또아래 클래서매서드골뱅이 \n",
        "    def 클래스메소드_클래스필드(cls):  #cls권장(클래스)\n",
        "     #애러   print(f'클래스_메소듣>클래스필드:{cls.인스턴스_필드}') #인스턴스필드는 셀프안에잇다   -인스턴스필드가 존재하지 않음    \n",
        "        print(f'클래스_메소드>클래스필드:{cls.클래스_필드}') #인스턴스필드는 셀프안에잇다  \n",
        "        \n",
        "        #클래스메소드>인스턴스필드\n",
        "    @classmethod\n",
        "    def 클래스메소드_인스턴스필드(cls):  #cls권장(클래스)\n",
        "     #애러   print(f'클래스_메소듣>인스턴스필드:{cls.인스턴스_필드}') #인스턴스필드는 셀프안에잇다   -인스턴스필드가 존재하지 않음    \n",
        "        print(f'클래스_메소듣>클래스필드:{cls.클래스_필드}') #인스턴스필드는 셀프안에잇다      \n",
        " \n",
        "    @staticmethod  # 기존의함수와 같게  - 전역함수를 선언한 것과 같다\n",
        "    def ~\n",
        "\n"
      ],
      "metadata": {
        "id": "kR9CCICmJkIZ"
      },
      "execution_count": null,
      "outputs": []
    },
    {
      "cell_type": "code",
      "source": [
        "class 클래스:\n",
        "    클래스_필드='클래스필드_호출'\n",
        "    def __init__(self,인스턴스입력='인스턴스필드_호출'):            #생성자 객체생성시동작하는메서드\n",
        "        print('e')\n",
        "a=클래스()   \n",
        "클래스()  #매개변수한개지만 디폴트잇으므로 가능\n",
        "\n",
        "#a(ef)   불가 a는 객체일 뿐 함수처럼쓸수없다"
      ],
      "metadata": {
        "id": "Egg5ZC0_Jxgh"
      },
      "execution_count": null,
      "outputs": []
    },
    {
      "cell_type": "code",
      "source": [
        "클래스변수\n",
        "\n",
        "\n",
        "\n",
        "인스턴스를 생성할 필요가 없는 값을 클래스에 저장할 때 사용\n",
        "값의 변경사항을모든인스턴스가공유해야하는경우사용\n",
        "\n",
        "인스턴스멤버 = 클래스멤버  면    인스턴스 우선\n",
        "\n",
        "\n",
        "객체 마다 가지고 잇어야 할 데이터 >인스턴스필드\n",
        "\n",
        "공용 데이터 > 정적필드 클래스  스택틱영역\n",
        "\n",
        "멤버:필드,메소드\n"
      ],
      "metadata": {
        "id": "CBtWGD3yNDyZ"
      },
      "execution_count": null,
      "outputs": []
    },
    {
      "cell_type": "code",
      "source": [
        "# class A:\n",
        "  #  def __init__(self):\n",
        "   #     print('a생성자동작')\n",
        "\n",
        "\n",
        "    # 클래스A를수정하여 이름과나이를입력받아ㅣ객체에 저장하시오\n",
        "\n",
        "class A:    # class A(object)     디폴트오브젝트   오브젝트 클래스를 상속한다 자동으로   최상위클래스\n",
        "    def __init__(self,이름,나이):\n",
        "        print('a생성자동작')\n",
        "        self.이름 = 이름      #셀프이름은 공간  이름은 값\n",
        "        self.나이 = 나이\n",
        "사람명단=[]\n",
        "for i in range(2): #두번반복하겟다\n",
        "    이름 = input('이름:')\n",
        "    나이 = int(input('나이:'))\n",
        "    사람명단.append(A(이름,나이)) \n",
        "\n",
        "print(사람명단)"
      ],
      "metadata": {
        "colab": {
          "base_uri": "https://localhost:8080/"
        },
        "id": "u8ieVccKR0GY",
        "outputId": "11f467fa-e7f2-475d-c692-c9e0c96b120a"
      },
      "execution_count": 32,
      "outputs": [
        {
          "output_type": "stream",
          "name": "stdout",
          "text": [
            "이름:이름\n",
            "나이:1\n",
            "a생성자동작\n",
            "이름:이름2\n",
            "나이:2\n",
            "a생성자동작\n",
            "[<__main__.A object at 0x7fb540c63e10>, <__main__.A object at 0x7fb53423f190>]\n"
          ]
        }
      ]
    },
    {
      "cell_type": "code",
      "source": [
        "class B: \n",
        "    def __str__(self):                #init 이닛메서드는 오브젝트 클래스가 가지고잇어다    컨트롤+스페이스\n",
        "  #str메서드  객체의 문자열 정보를 알 수 있는 메서드 , 객체 꾸미기\n",
        "        return \"B클래스로 만들어진 객체\"\n",
        "b=B()\n",
        "a=A('이름','나이')\n",
        "print(a)  # <__main__.A object at 0x7fb53309fd90>    객체정보   str에문자열정보가잇다  >  위에서 str로 오브젝str을   B str로 바꿔주어기 때문에 아래 b에서저럼 \n",
        "print(b)     "
      ],
      "metadata": {
        "colab": {
          "base_uri": "https://localhost:8080/"
        },
        "id": "tFxfgCKsV-Ii",
        "outputId": "4b8597fd-646e-4a05-ec97-ccd350c15b25"
      },
      "execution_count": 36,
      "outputs": [
        {
          "output_type": "stream",
          "name": "stdout",
          "text": [
            "a생성자동작\n",
            "<__main__.A object at 0x7fb5330b5d50>\n",
            "B클래스로 만들어진 객체\n"
          ]
        }
      ]
    },
    {
      "cell_type": "code",
      "source": [
        "class A:    # class A(object)     디폴트오브젝트   오브젝트 클래스를 상속한다 자동으로   최상위클래스\n",
        "    def __init__(self,이름,나이):\n",
        "        print('a생성자동작')\n",
        "        self.이름 = 이름      #셀프이름은 공간  이름은 값\n",
        "        self.나이 = 나이\n",
        "    def __str__(self):\n",
        "        return f'나이:{self.나이} 이름:{self.이름}' \n",
        "사람명단=[]\n",
        "for i in range(2): #두번반복하겟다\n",
        "    이름 = input('이름:')\n",
        "    나이 = int(input('나이:'))\n",
        "    사람명단.append(A(이름,나이)) \n",
        "\n",
        "print(사람명단)\n",
        "\n",
        "\n",
        "# str매서드는 객체꾸미기    출력 을  바꾸는 것     - 문자열을 내보낸다"
      ],
      "metadata": {
        "id": "-s3uz_0lXN9H"
      },
      "execution_count": null,
      "outputs": []
    },
    {
      "cell_type": "code",
      "source": [
        "a=1\n",
        "print(a)  > 1\n",
        "의 클래스코드\n",
        "\n",
        "class int:\n",
        "    def __init__(self,data):\n",
        "        self.data=data #셀프안에 self.data 메서드 > data를 출력\n",
        "    def __str__(self):\n",
        "        return str(self.data)  # self.data 는 숫자라서 str() 로 문자로 바꿈\n",
        "        #그래서 데이터값이 그대로 나옴\n",
        "        "
      ],
      "metadata": {
        "colab": {
          "base_uri": "https://localhost:8080/"
        },
        "id": "HM1LaO8Ralwc",
        "outputId": "c9017b13-f461-42a8-98ed-61a67d209c09"
      },
      "execution_count": 37,
      "outputs": [
        {
          "output_type": "execute_result",
          "data": {
            "text/plain": [
              "1"
            ]
          },
          "metadata": {},
          "execution_count": 37
        }
      ]
    },
    {
      "cell_type": "code",
      "source": [
        "l=[1]\n",
        "print(l)\n",
        "l=[a]\n",
        "print(l)"
      ],
      "metadata": {
        "id": "HWwUbymkbtbZ"
      },
      "execution_count": null,
      "outputs": []
    },
    {
      "cell_type": "code",
      "source": [
        "\n",
        "\n",
        "class 정수:\n",
        "    def __init__(self,data):\n",
        "        self.data=data #셀프안에 self.data 메서드 > data를 출력\n",
        "    def __str__(self):  #객체꾸미기\n",
        "        return str(self.data)  \n",
        "    def __repr__(self):   #객체 정보 제시\n",
        "        return '진짜객체정보'\n",
        "\n",
        "a=1\n",
        "a=정수(1)\n",
        "print(a)\n",
        "\n",
        "l=[1]\n",
        "print(l)\n",
        "\n",
        "l=[a]\n",
        "print(l)      "
      ],
      "metadata": {
        "colab": {
          "base_uri": "https://localhost:8080/"
        },
        "id": "IxEpS99Vb8t4",
        "outputId": "11febe9c-92d3-41a0-9102-dabf7a71be6a"
      },
      "execution_count": 49,
      "outputs": [
        {
          "output_type": "stream",
          "name": "stdout",
          "text": [
            "1\n",
            "[1]\n",
            "[진짜객체정보]\n"
          ]
        }
      ]
    },
    {
      "cell_type": "code",
      "source": [
        "\n",
        "\n",
        "class 정수:\n",
        "    def __init__(self,data):\n",
        "        self.data=data #셀프안에 self.data 메서드 > data를 출력\n",
        "    #def __str__(self):  #객체꾸미기                              #그객체를통해서만출력할때\n",
        "      #  return str(self.data)  \n",
        "    def __repr__(self):   #객체 정보 제시                         # str보다 우선\n",
        "        return '진짜객체정보'\n",
        "\n",
        "a=1\n",
        "a=정수(1)\n",
        "print(a)\n",
        "\n",
        "l=[1]\n",
        "print(l)\n",
        "\n",
        "l=[a]\n",
        "print(l)      \n",
        "\n",
        "#잊어도상관없음\\\n",
        "\n",
        "1\n",
        "[1]\n",
        "[1]  나와야함"
      ],
      "metadata": {
        "colab": {
          "base_uri": "https://localhost:8080/",
          "height": 266
        },
        "id": "gxXtbH8QdVOW",
        "outputId": "f3133987-3c2b-405a-82ba-a482484893d9"
      },
      "execution_count": 54,
      "outputs": [
        {
          "output_type": "stream",
          "name": "stdout",
          "text": [
            "진짜객체정보\n",
            "[1]\n",
            "[진짜객체정보]\n"
          ]
        },
        {
          "output_type": "error",
          "ename": "NameError",
          "evalue": "ignored",
          "traceback": [
            "\u001b[0;31m---------------------------------------------------------------------------\u001b[0m",
            "\u001b[0;31mNameError\u001b[0m                                 Traceback (most recent call last)",
            "\u001b[0;32m<ipython-input-54-a93645192833>\u001b[0m in \u001b[0;36m<module>\u001b[0;34m()\u001b[0m\n\u001b[1;32m     19\u001b[0m \u001b[0mprint\u001b[0m\u001b[0;34m(\u001b[0m\u001b[0ml\u001b[0m\u001b[0;34m)\u001b[0m\u001b[0;34m\u001b[0m\u001b[0;34m\u001b[0m\u001b[0m\n\u001b[1;32m     20\u001b[0m \u001b[0;34m\u001b[0m\u001b[0m\n\u001b[0;32m---> 21\u001b[0;31m \u001b[0m잊어도상관없음\u001b[0m\u001b[0;34m\u001b[0m\u001b[0;34m\u001b[0m\u001b[0m\n\u001b[0m",
            "\u001b[0;31mNameError\u001b[0m: name '잊어도상관없음' is not defined"
          ]
        }
      ]
    },
    {
      "cell_type": "code",
      "source": [
        "class A:    # class A(object)     \n",
        "    def __init__(self,이름,나이):\n",
        "        print('a생성자동작')\n",
        "        self.이름 = 이름    \n",
        "        self.나이 = 나이\n",
        "   # def __str__(self):\n",
        "    def __repr__(self):                           #  > str과 repr 의 차이\n",
        "        return f'나이:{self.나이} 이름:{self.이름}' \n",
        "사람명단=[]\n",
        "for i in range(2): \n",
        "    이름 = input('이름:')\n",
        "    나이 = int(input('나이:'))\n",
        "    사람명단.append(A(이름,나이)) \n",
        "\n",
        "print(사람명단)\n",
        "\n",
        "\n",
        "# str매서드는 객체꾸미기    출력 을  바꾸는 것     - 문자열을 내보낸다"
      ],
      "metadata": {
        "colab": {
          "base_uri": "https://localhost:8080/"
        },
        "id": "INXc5ziGdpSM",
        "outputId": "98bcb974-4a04-48a7-aa4a-bbf711546ee9"
      },
      "execution_count": 55,
      "outputs": [
        {
          "output_type": "stream",
          "name": "stdout",
          "text": [
            "이름:dlㅇ름1\n",
            "나이:2\n",
            "a생성자동작\n",
            "이름:이름2\n",
            "나이:4\n",
            "a생성자동작\n",
            "[나이:2 이름:dlㅇ름1, 나이:4 이름:이름2]\n"
          ]
        }
      ]
    },
    {
      "cell_type": "code",
      "source": [
        "# 캡슐화 - 은닉\n",
        "\n",
        "class A:\n",
        "    __필드 = 0   #언더바두개로 은닉하기  프라이빗걸엇다\n",
        "A.__필드  #에러"
      ],
      "metadata": {
        "colab": {
          "base_uri": "https://localhost:8080/",
          "height": 211
        },
        "id": "S9vxkWDmMx4V",
        "outputId": "4bf9a103-9504-4b0d-863f-93dcd1bed352"
      },
      "execution_count": 59,
      "outputs": [
        {
          "output_type": "error",
          "ename": "AttributeError",
          "evalue": "ignored",
          "traceback": [
            "\u001b[0;31m---------------------------------------------------------------------------\u001b[0m",
            "\u001b[0;31mAttributeError\u001b[0m                            Traceback (most recent call last)",
            "\u001b[0;32m<ipython-input-59-d2c702c56345>\u001b[0m in \u001b[0;36m<module>\u001b[0;34m()\u001b[0m\n\u001b[1;32m      1\u001b[0m \u001b[0;32mclass\u001b[0m \u001b[0mA\u001b[0m\u001b[0;34m:\u001b[0m\u001b[0;34m\u001b[0m\u001b[0;34m\u001b[0m\u001b[0m\n\u001b[1;32m      2\u001b[0m     \u001b[0m__필드\u001b[0m \u001b[0;34m=\u001b[0m \u001b[0;36m0\u001b[0m\u001b[0;34m\u001b[0m\u001b[0;34m\u001b[0m\u001b[0m\n\u001b[0;32m----> 3\u001b[0;31m \u001b[0mA\u001b[0m\u001b[0;34m.\u001b[0m\u001b[0m__필드\u001b[0m\u001b[0;34m\u001b[0m\u001b[0;34m\u001b[0m\u001b[0m\n\u001b[0m",
            "\u001b[0;31mAttributeError\u001b[0m: type object 'A' has no attribute '__필드'"
          ]
        }
      ]
    },
    {
      "cell_type": "code",
      "source": [
        "# 캡슐화 - 은닉\n",
        "\n",
        "class A:\n",
        "    __필드 = 0   #언더바두개로 은닉하기  프라이빗걸엇다\n",
        "    def f(self):\n",
        "        print(self.__필드)\n",
        "A.__필드  #이 코드라인이 실행되는 공간은 클래스 밖이다 > 접근할수없다 : 프라이빗의 특성  프라이빗은 안에서만 쓸 수 잇다\n"
      ],
      "metadata": {
        "colab": {
          "base_uri": "https://localhost:8080/",
          "height": 211
        },
        "id": "IsA1RwlIf68I",
        "outputId": "35a44cfb-9f59-4d9f-dbe4-2089a91398b7"
      },
      "execution_count": 60,
      "outputs": [
        {
          "output_type": "error",
          "ename": "AttributeError",
          "evalue": "ignored",
          "traceback": [
            "\u001b[0;31m---------------------------------------------------------------------------\u001b[0m",
            "\u001b[0;31mAttributeError\u001b[0m                            Traceback (most recent call last)",
            "\u001b[0;32m<ipython-input-60-01617cec3fd5>\u001b[0m in \u001b[0;36m<module>\u001b[0;34m()\u001b[0m\n\u001b[1;32m      5\u001b[0m     \u001b[0;32mdef\u001b[0m \u001b[0mf\u001b[0m\u001b[0;34m(\u001b[0m\u001b[0mself\u001b[0m\u001b[0;34m)\u001b[0m\u001b[0;34m:\u001b[0m\u001b[0;34m\u001b[0m\u001b[0;34m\u001b[0m\u001b[0m\n\u001b[1;32m      6\u001b[0m         \u001b[0mprint\u001b[0m\u001b[0;34m(\u001b[0m\u001b[0mself\u001b[0m\u001b[0;34m.\u001b[0m\u001b[0m__필드\u001b[0m\u001b[0;34m)\u001b[0m\u001b[0;34m\u001b[0m\u001b[0;34m\u001b[0m\u001b[0m\n\u001b[0;32m----> 7\u001b[0;31m \u001b[0mA\u001b[0m\u001b[0;34m.\u001b[0m\u001b[0m__필드\u001b[0m  \u001b[0;31m#에러\u001b[0m\u001b[0;34m\u001b[0m\u001b[0;34m\u001b[0m\u001b[0m\n\u001b[0m",
            "\u001b[0;31mAttributeError\u001b[0m: type object 'A' has no attribute '__필드'"
          ]
        }
      ]
    },
    {
      "cell_type": "code",
      "source": [
        "# 캡슐화 - 은닉\n",
        "\n",
        "class A:\n",
        "    __필드 = 0   #언더바두개로 은닉하기  프라이빗걸엇다  >클래스안에서만쓸수잇다\n",
        "    @classmethod\n",
        "    def f(self):\n",
        "        print(self.__필드)\n",
        "A.f() #이 코드라인이 실행되는 공간은 클래스 밖이다 > 접근할수없다 : 프라이빗의 특성  프라이빗은 안에서만 쓸 수 잇다\n",
        " # @클레스머스드로   데프에프를 클래스로 변경하면  클래스안에서 __필드에 접근하는 것이므로 가능하다\n",
        "\n",
        "\n",
        " "
      ],
      "metadata": {
        "colab": {
          "base_uri": "https://localhost:8080/"
        },
        "id": "mwUTOrMzgPFb",
        "outputId": "ca7f66c1-c41e-4aa0-d6cc-b54fe7566158"
      },
      "execution_count": 63,
      "outputs": [
        {
          "output_type": "stream",
          "name": "stdout",
          "text": [
            "0\n"
          ]
        }
      ]
    },
    {
      "cell_type": "code",
      "source": [
        "# 캡슐화 - 은닉\n",
        "\n",
        "class A:\n",
        "    __필드 = 0   #언더바두개로 은닉하기  프라이빗걸엇다  >클래스안에서만쓸수잇다\n",
        "    @classmethod\n",
        "    def get_필드(self):\n",
        "        return self.__필드\n",
        "    @classmethod\n",
        "    def set_필드(self,입력값):\n",
        "        self.__필드 = 입력값\n",
        "\n",
        "A.f()\n",
        "#이 코드라인이 실행되는 공간은 클래스 밖이다 > 접근할수없다 : 프라이빗의 특성  프라이빗은 안에서만 쓸 수 잇다\n",
        " # @클레스머스드로   데프에프를 클래스로 변경하면  클래스안에서 __필드에 접근하는 것이므로 가능하다\n",
        "\n",
        "\n",
        " "
      ],
      "metadata": {
        "colab": {
          "base_uri": "https://localhost:8080/",
          "height": 248
        },
        "id": "0xGI8UBCgkzK",
        "outputId": "33bfa1ab-75bc-4280-abfb-6281764261ec"
      },
      "execution_count": 77,
      "outputs": [
        {
          "output_type": "error",
          "ename": "AttributeError",
          "evalue": "ignored",
          "traceback": [
            "\u001b[0;31m---------------------------------------------------------------------------\u001b[0m",
            "\u001b[0;31mAttributeError\u001b[0m                            Traceback (most recent call last)",
            "\u001b[0;32m<ipython-input-77-e46b960dc1a2>\u001b[0m in \u001b[0;36m<module>\u001b[0;34m()\u001b[0m\n\u001b[1;32m     10\u001b[0m         \u001b[0mself\u001b[0m\u001b[0;34m.\u001b[0m\u001b[0m__필드\u001b[0m \u001b[0;34m=\u001b[0m \u001b[0m입력값\u001b[0m\u001b[0;34m\u001b[0m\u001b[0;34m\u001b[0m\u001b[0m\n\u001b[1;32m     11\u001b[0m \u001b[0;34m\u001b[0m\u001b[0m\n\u001b[0;32m---> 12\u001b[0;31m \u001b[0mA\u001b[0m\u001b[0;34m.\u001b[0m\u001b[0mf\u001b[0m\u001b[0;34m(\u001b[0m\u001b[0;34m)\u001b[0m\u001b[0;34m\u001b[0m\u001b[0;34m\u001b[0m\u001b[0m\n\u001b[0m\u001b[1;32m     13\u001b[0m \u001b[0;31m#이 코드라인이 실행되는 공간은 클래스 밖이다 > 접근할수없다 : 프라이빗의 특성  프라이빗은 안에서만 쓸 수 잇다\u001b[0m\u001b[0;34m\u001b[0m\u001b[0;34m\u001b[0m\u001b[0;34m\u001b[0m\u001b[0m\n\u001b[1;32m     14\u001b[0m  \u001b[0;31m# @클레스머스드로   데프에프를 클래스로 변경하면  클래스안에서 __필드에 접근하는 것이므로 가능하다\u001b[0m\u001b[0;34m\u001b[0m\u001b[0;34m\u001b[0m\u001b[0;34m\u001b[0m\u001b[0m\n",
            "\u001b[0;31mAttributeError\u001b[0m: type object 'A' has no attribute 'f'"
          ]
        }
      ]
    },
    {
      "cell_type": "code",
      "source": [
        "# 캡슐화 - 은닉\n",
        "\n",
        "class A:                     #이렇게하면 @ 할 필요 없이 가능\n",
        "    def __init__(self):\n",
        "        self.__필드 = 0   #언더바두개로 은닉하기  프라이빗걸엇다  >클래스안에서만쓸수잇다\n",
        "    \n",
        "    def get_필드(self):\n",
        "        return self.__필드\n",
        "    \n",
        "    def set_필드(self,입력값):\n",
        "        self.__필드 = 입력값\n",
        "\n",
        "A.f() \n",
        "#이 코드라인이 실행되는 공간은 클래스 밖이다 > 접근할수없다 : 프라이빗의 특성  프라이빗은 안에서만 쓸 수 잇다\n",
        " # @클레스머스드로   데프에프를 클래스로 변경하면  클래스안에서 __필드에 접근하는 것이므로 가능하다\n",
        "\n",
        "\n",
        " "
      ],
      "metadata": {
        "colab": {
          "base_uri": "https://localhost:8080/",
          "height": 248
        },
        "id": "8ZRfka7rg9vo",
        "outputId": "2d1bc67c-c315-4291-e0a9-695fa07d86f9"
      },
      "execution_count": 75,
      "outputs": [
        {
          "output_type": "error",
          "ename": "AttributeError",
          "evalue": "ignored",
          "traceback": [
            "\u001b[0;31m---------------------------------------------------------------------------\u001b[0m",
            "\u001b[0;31mAttributeError\u001b[0m                            Traceback (most recent call last)",
            "\u001b[0;32m<ipython-input-75-57a16a29759c>\u001b[0m in \u001b[0;36m<module>\u001b[0;34m()\u001b[0m\n\u001b[1;32m     11\u001b[0m         \u001b[0mself\u001b[0m\u001b[0;34m.\u001b[0m\u001b[0m__필드\u001b[0m \u001b[0;34m=\u001b[0m \u001b[0m입력값\u001b[0m\u001b[0;34m\u001b[0m\u001b[0;34m\u001b[0m\u001b[0m\n\u001b[1;32m     12\u001b[0m \u001b[0;34m\u001b[0m\u001b[0m\n\u001b[0;32m---> 13\u001b[0;31m \u001b[0mA\u001b[0m\u001b[0;34m.\u001b[0m\u001b[0mf\u001b[0m\u001b[0;34m(\u001b[0m\u001b[0;34m)\u001b[0m\u001b[0;34m\u001b[0m\u001b[0;34m\u001b[0m\u001b[0m\n\u001b[0m\u001b[1;32m     14\u001b[0m \u001b[0;31m#이 코드라인이 실행되는 공간은 클래스 밖이다 > 접근할수없다 : 프라이빗의 특성  프라이빗은 안에서만 쓸 수 잇다\u001b[0m\u001b[0;34m\u001b[0m\u001b[0;34m\u001b[0m\u001b[0;34m\u001b[0m\u001b[0m\n\u001b[1;32m     15\u001b[0m  \u001b[0;31m# @클레스머스드로   데프에프를 클래스로 변경하면  클래스안에서 __필드에 접근하는 것이므로 가능하다\u001b[0m\u001b[0;34m\u001b[0m\u001b[0;34m\u001b[0m\u001b[0;34m\u001b[0m\u001b[0m\n",
            "\u001b[0;31mAttributeError\u001b[0m: type object 'A' has no attribute 'f'"
          ]
        }
      ]
    },
    {
      "cell_type": "code",
      "source": [
        "class A:                     #이렇게하면 @ 할 필요 없이 가능\n",
        "    def __init__(self):\n",
        "        self.__필드 = 0   #언더바두개로 은닉하기  프라이빗걸엇다  >클래스안에서만쓸수잇다\n",
        "        self.오픈필드=0\n",
        "    def get_필드(self):\n",
        "        return self.__필드\n",
        "    \n",
        "    def set_필드(self,입력값):\n",
        "        self.__필드 = 입력값\n",
        "\n",
        "a=A()\n",
        "#오픈\n",
        "a.오픈필드=100  #값의갱신\n",
        "print(a.오픈필드)        #값의출력\n",
        "\n",
        "#락\n",
        "#a.__필드   에러\n",
        "a.set_필드(100)  #값의갱신\n",
        "print(a.get_필드()) #값의출력\n"
      ],
      "metadata": {
        "colab": {
          "base_uri": "https://localhost:8080/"
        },
        "id": "Zcnhd_WDhgxL",
        "outputId": "07c6b269-1bc4-472b-bb90-8a73e1c93d9f"
      },
      "execution_count": 79,
      "outputs": [
        {
          "output_type": "stream",
          "name": "stdout",
          "text": [
            "100\n",
            "100\n"
          ]
        }
      ]
    },
    {
      "cell_type": "code",
      "source": [
        "상속\n",
        "\n"
      ],
      "metadata": {
        "id": "epixf5KzjmgT"
      },
      "execution_count": null,
      "outputs": []
    },
    {
      "cell_type": "code",
      "source": [
        "class 부모:\n",
        "    def __init__(self):\n",
        "        print('부모생성자동작')\n",
        "    def f(self):\n",
        "        print('부모의메서드') \n",
        "a=부모()  #클래스생성할때생성자동작\n",
        "a.f()           "
      ],
      "metadata": {
        "id": "svmuIEUylJwD"
      },
      "execution_count": null,
      "outputs": []
    },
    {
      "cell_type": "code",
      "source": [
        "class 부모:\n",
        "    def __init__(self):\n",
        "        print('부모생성자동작')          #인스턴스메서드는인스터스가잇어야사용가능\n",
        "    def f(self):\n",
        "        print('부모의메서드') \n",
        "class 자식(부모):   # 부모클래스를 상속 받아서 자식클래스 생성\n",
        "    pass\n",
        "#    def __init__(self):\n",
        "#        print('자식생성자동작')\n",
        "#    def f(self):\n",
        "#        print('자식의메서드')\n",
        "a=부모()  #클래스생성할때생성자동작\n",
        "a.f()   \n",
        "b=자식()\n",
        "b.f()        "
      ],
      "metadata": {
        "colab": {
          "base_uri": "https://localhost:8080/"
        },
        "id": "SFJmAU9mlaY8",
        "outputId": "2b07a76e-a70e-4673-f125-8321ff6c4f9b"
      },
      "execution_count": 88,
      "outputs": [
        {
          "output_type": "stream",
          "name": "stdout",
          "text": [
            "부모생성자동작\n",
            "부모의메서드\n",
            "부모생성자동작\n",
            "부모의메서드\n"
          ]
        }
      ]
    },
    {
      "cell_type": "code",
      "source": [
        "부모없는 자식 없음\n",
        "부모/자식   부모개체부터 먼저 만들어진다"
      ],
      "metadata": {
        "id": "ONIJL5Jq5vu1"
      },
      "execution_count": null,
      "outputs": []
    },
    {
      "cell_type": "code",
      "source": [
        "class 부모:\n",
        "    def __init__(self):\n",
        "        print('부모생성자동작')          #인스턴스메서드는인스터스가잇어야사용가능\n",
        "    def f(self):\n",
        "        print('부모의메서드') \n",
        "class 자식(부모):   # 부모클래스를 상속 받아서 자식클래스 생성\n",
        "    pass\n",
        "a=부모()  # 단일객체생성\n",
        "a.f()   \n",
        "a=자식()       # 상속 개체 생성\n",
        "a.f()        \n",
        "\n",
        "             # 부모개체생성 > 자식개체생성 >  작동경로는 : 자식>부모"
      ],
      "metadata": {
        "colab": {
          "base_uri": "https://localhost:8080/"
        },
        "id": "aYEZDZhp5y-7",
        "outputId": "5bd609a4-3e9f-4fb2-fe4a-3694cb48b03c"
      },
      "execution_count": 93,
      "outputs": [
        {
          "output_type": "stream",
          "name": "stdout",
          "text": [
            "부모생성자동작\n",
            "부모의메서드\n",
            "부모생성자동작\n",
            "부모의메서드\n"
          ]
        }
      ]
    },
    {
      "cell_type": "code",
      "source": [
        "class 부모:\n",
        "    def __init__(self):\n",
        "        print('부모생성자동작')          #인스턴스메서드는인스터스가잇어야사용가능\n",
        "    def f(self):\n",
        "        print('부모의메서드') \n",
        "class 자식(부모):   # 부모클래스를 상속 받아서 자식클래스 생성\n",
        "    def __init__(self):\n",
        "        print('자식생성자동작')\n",
        "a=자식()   # 자식클래스에 부모이닛과 같은 이닛이 추가됨  # 부모개체먼저 생성되는 건 그대로임 \n",
        "           # 부모이닛생성 > 자식이닛생성 > 경로는 자식>부모 이기 때문에 가까운 자식이닛만 동작"
      ],
      "metadata": {
        "colab": {
          "base_uri": "https://localhost:8080/"
        },
        "id": "Gt7JT9hm7fhu",
        "outputId": "b5b09ce4-6422-4065-e258-d7969543a45f"
      },
      "execution_count": 94,
      "outputs": [
        {
          "output_type": "stream",
          "name": "stdout",
          "text": [
            "자식생성자동작\n"
          ]
        }
      ]
    },
    {
      "cell_type": "code",
      "source": [
        "import abc\n",
        "클래스뮤abc\n",
        "a > b> c  클래스3개\n",
        "객체생성은   c를 이용해서만 생성하라\n",
        "ㅔ\n",
        "결과\n",
        "a생성자동작\n",
        "비생성자동작\n",
        "시생성자동작\n"
      ],
      "metadata": {
        "id": "oTNAYmjO8qJ5"
      },
      "execution_count": null,
      "outputs": []
    },
    {
      "cell_type": "code",
      "source": [
        "class A:\n",
        "    def __init__(self):\n",
        "        print('A생성자동작')\n",
        "   \n",
        "class B(A):\n",
        "    def __init__(self):\n",
        "        super().__init__()            #super(). 가상의 부모의 인스턴스를뜻함 .그속으로들어가서 .~~로 > 부모의 이닛을 동작 \n",
        "        print('B생성자동작')\n",
        "class C(B):\n",
        "    def __init__(self):\n",
        "        super().__init__()\n",
        "        print('C생성자동작')    \n",
        "    \n",
        "        \n",
        "abc=C()\n",
        "\n",
        "# 동작순서\n",
        "#에이개체생성 > 비개체생성 > 시개체생성  :  작동경로  C()  > C 클래스영역 > 비클래스영역 > 에이클래스영역\n",
        "\n",
        "#__init__ 생성시반디시실행되는문\n"
      ],
      "metadata": {
        "colab": {
          "base_uri": "https://localhost:8080/"
        },
        "id": "pL_3VEfp_LP9",
        "outputId": "fd3364ff-889b-458b-8d73-f0623ade0c34"
      },
      "execution_count": 97,
      "outputs": [
        {
          "output_type": "stream",
          "name": "stdout",
          "text": [
            "A생성자동작\n",
            "B생성자동작\n",
            "C생성자동작\n"
          ]
        }
      ]
    },
    {
      "cell_type": "code",
      "source": [
        "class A:\n",
        "    __잠금 = 0    # __ 프라이빗은 상속못받는다  > A클래스안 : 문 블락 안에서만 가능하다 블락밖의 A.__잠금 은 불가능\n",
        "class B(A):\n",
        "    def f(self):\n",
        "        print(self.__잠금)\n",
        "\n",
        "#B.잠금\n",
        "\n",
        "b=B()\n",
        "b.f()    #  B클래스 블락안이라도 안된다  A클래스블락안에서만 접근 가능\n"
      ],
      "metadata": {
        "colab": {
          "base_uri": "https://localhost:8080/",
          "height": 340
        },
        "id": "fzhNFLGtAhXk",
        "outputId": "46f25e40-719f-4f04-ae20-4e6aee379040"
      },
      "execution_count": 106,
      "outputs": [
        {
          "output_type": "error",
          "ename": "AttributeError",
          "evalue": "ignored",
          "traceback": [
            "\u001b[0;31m---------------------------------------------------------------------------\u001b[0m",
            "\u001b[0;31mAttributeError\u001b[0m                            Traceback (most recent call last)",
            "\u001b[0;32m<ipython-input-106-d4bfeea89645>\u001b[0m in \u001b[0;36m<module>\u001b[0;34m()\u001b[0m\n\u001b[1;32m      8\u001b[0m \u001b[0;34m\u001b[0m\u001b[0m\n\u001b[1;32m      9\u001b[0m \u001b[0mb\u001b[0m\u001b[0;34m=\u001b[0m\u001b[0mB\u001b[0m\u001b[0;34m(\u001b[0m\u001b[0;34m)\u001b[0m\u001b[0;34m\u001b[0m\u001b[0;34m\u001b[0m\u001b[0m\n\u001b[0;32m---> 10\u001b[0;31m \u001b[0mb\u001b[0m\u001b[0;34m.\u001b[0m\u001b[0mf\u001b[0m\u001b[0;34m(\u001b[0m\u001b[0;34m)\u001b[0m\u001b[0;34m\u001b[0m\u001b[0;34m\u001b[0m\u001b[0m\n\u001b[0m",
            "\u001b[0;32m<ipython-input-106-d4bfeea89645>\u001b[0m in \u001b[0;36mf\u001b[0;34m(self)\u001b[0m\n\u001b[1;32m      3\u001b[0m \u001b[0;32mclass\u001b[0m \u001b[0mB\u001b[0m\u001b[0;34m(\u001b[0m\u001b[0mA\u001b[0m\u001b[0;34m)\u001b[0m\u001b[0;34m:\u001b[0m\u001b[0;34m\u001b[0m\u001b[0;34m\u001b[0m\u001b[0m\n\u001b[1;32m      4\u001b[0m     \u001b[0;32mdef\u001b[0m \u001b[0mf\u001b[0m\u001b[0;34m(\u001b[0m\u001b[0mself\u001b[0m\u001b[0;34m)\u001b[0m\u001b[0;34m:\u001b[0m\u001b[0;34m\u001b[0m\u001b[0;34m\u001b[0m\u001b[0m\n\u001b[0;32m----> 5\u001b[0;31m         \u001b[0mprint\u001b[0m\u001b[0;34m(\u001b[0m\u001b[0mself\u001b[0m\u001b[0;34m.\u001b[0m\u001b[0m__잠금\u001b[0m\u001b[0;34m)\u001b[0m\u001b[0;34m\u001b[0m\u001b[0;34m\u001b[0m\u001b[0m\n\u001b[0m\u001b[1;32m      6\u001b[0m \u001b[0;34m\u001b[0m\u001b[0m\n\u001b[1;32m      7\u001b[0m \u001b[0;31m#B.잠금\u001b[0m\u001b[0;34m\u001b[0m\u001b[0;34m\u001b[0m\u001b[0;34m\u001b[0m\u001b[0m\n",
            "\u001b[0;31mAttributeError\u001b[0m: 'B' object has no attribute '_B__잠금'"
          ]
        }
      ]
    },
    {
      "cell_type": "code",
      "source": [
        "class A:\n",
        "    def f(self):\n",
        "        print('A 가 동작')\n",
        "class B:\n",
        "    def f(self):\n",
        "        print('비가 동작')\n",
        "class C(A,B):          #상속순서   b가먼저만들어지고 그다음 a만들고 작동은 a를 받기     A를먼저상속받는다\n",
        "    pass\n",
        "\n",
        "c=C()\n",
        "c.f()"
      ],
      "metadata": {
        "colab": {
          "base_uri": "https://localhost:8080/"
        },
        "id": "khzsfXn8G7nt",
        "outputId": "cde2e4a6-85b8-46a4-b105-37181d3cbcf6"
      },
      "execution_count": 109,
      "outputs": [
        {
          "output_type": "stream",
          "name": "stdout",
          "text": [
            "A 가 동작\n"
          ]
        }
      ]
    },
    {
      "cell_type": "code",
      "source": [
        "class A:\n",
        "    def f(self):\n",
        "        print('A 가 동작')\n",
        "class B:\n",
        "    def f(self):\n",
        "        print('비가 동작')\n",
        "class C(B,A):            # 에이비를 바꿔서 상속 순서를 바꿧다\n",
        "    pass\n",
        "\n",
        "c=C()\n",
        "c.f()"
      ],
      "metadata": {
        "colab": {
          "base_uri": "https://localhost:8080/"
        },
        "id": "orP4BFkuHTlF",
        "outputId": "640dd4b8-6103-4316-dd22-568c88ad2bf8"
      },
      "execution_count": 110,
      "outputs": [
        {
          "output_type": "stream",
          "name": "stdout",
          "text": [
            "비가 동작\n"
          ]
        }
      ]
    },
    {
      "cell_type": "code",
      "source": [
        "class A:                     # A랑B의 상속을 없애고 c에서 '다중상속' 받기\n",
        "\n",
        "                             # c(b,a) 시 B(A) 비가에이를 상속받은 것이나 마찬가지 비를 발동시킬려해도 에이가 동작한다\n",
        "                             # 순차로 상속한다     한클래스가 두클래스의부모를 상속받을수없다  >모호성발생x\n",
        "    def f(self):\n",
        "        print('A 가 동작')\n",
        "class B:\n",
        "    def f(self):\n",
        "        print('비가 동작')\n",
        "class C(B,A):            # 에이비를 바꿔서 상속 순서를 바꿧다   나중에 만들어진 이닛이 실행 : 비를 상속받고 에이를 상속받았다  \n",
        "    pass\n",
        "\n",
        "c=C()\n",
        "c.f()"
      ],
      "metadata": {
        "id": "cwDtEKtEHb0P"
      },
      "execution_count": null,
      "outputs": []
    },
    {
      "cell_type": "code",
      "source": [
        "# 다형\n",
        "\n",
        "\n",
        "\n",
        "# 매소드 오버라이딩 예시   (파이썬은 오버로딩이없다)\n",
        " : 자식클래스에서 부모클래스의 메소드중복작성\n",
        "     서브클        슈퍼클래스\n",
        "\n",
        "     서브클래스에오버라이딩한메소다가실행되도록보장\n",
        "     메소드무시하기 메소드무력화로 번역되기도함\n",
        "     method overriding\n",
        "\n",
        "     오버라이딩조건 : 슈퍼클래스메소드의원형 ( 메소드이름,인자타입 및 개수) 를 동일하게 작성\n",
        "\n",
        "     #오버라이딩은 부모의 메서드가 지워진 것이 아니다  (부모클래스를통해 호출이 가능하다)\n",
        "\n",
        "class animal:\n",
        "    def sori(self):\n",
        "        print('동물안의소리멯소드')\n",
        "class 고양이(animal):\n",
        "    def sori(self):\n",
        "        print('애~옹')\n",
        "a=고양이()\n",
        "a.sori()    \n",
        "\n",
        "\n",
        "\n",
        "\n",
        "\n"
      ],
      "metadata": {
        "colab": {
          "base_uri": "https://localhost:8080/"
        },
        "id": "7CNR1i3II239",
        "outputId": "dc0cf09c-21c9-43e5-9f0b-e9904f803fcf"
      },
      "execution_count": 114,
      "outputs": [
        {
          "output_type": "stream",
          "name": "stdout",
          "text": [
            "애~옹\n"
          ]
        }
      ]
    },
    {
      "cell_type": "code",
      "source": [
        "추상\n",
        "앱스트랙\n",
        "\n",
        "진짜 존재하는 게 객체\n",
        "추상클래스 앱스트랙클라스\n",
        "\n",
        "실체클래스의 부모클래스역할 단독활용x\n",
        " - \n",
        " 실체클래스 - 객체를만들어사용할수잇는클래스\n",
        "\n",
        " 추상클래스 추상메서드를 가지고잇는 클래스\n",
        " 추상클래스는 추상메서드아니면 가지고 잇을 수 없다\n",
        "  즉 추상메서드를 가지고 잇으면 추상클래스다\n",
        "\n",
        "  추상클래스는 ㅇ반드시 오버라이딩을 해야한다\n",
        "  추상클래스를 상속받으면 추상클래스다\n",
        "\n",
        "  실체클래스는 추상클래스를 무조건 상속받아 작성\n",
        "  "
      ],
      "metadata": {
        "id": "y3XUMMs2JZUL"
      },
      "execution_count": null,
      "outputs": []
    },
    {
      "cell_type": "code",
      "source": [
        "추상클래스 실질적으로 거의 안씀"
      ],
      "metadata": {
        "id": "DsXi9kb3QmFF"
      },
      "execution_count": null,
      "outputs": []
    },
    {
      "cell_type": "code",
      "source": [
        "import abc   #abc가방  - 추상클래스를위한\n",
        "#abc가방을가져온다"
      ],
      "metadata": {
        "id": "nYIZIB0MQq3B"
      },
      "execution_count": null,
      "outputs": []
    },
    {
      "cell_type": "code",
      "source": [
        "from abc import*     #에이비시에서 임폴트다음메서드를가져온다\n",
        "# *이 뜻하는 것 abc가방을 '쏟는다'\n",
        "\n",
        "class cntkdzmffootm(metaclass=ABCMeta):\n",
        "#    에이비시패키지에잇는 페타클래스\n",
        "    @abstractclassmethod      앱스트랙메서드 앱스트랙클래스메서드 둘다존재  여기서 추상이라고 선언함\n",
        "    def 추상메소드(self):\n",
        "             pass\n",
        "        #추상메소드를선언할 떄는 다른것을선언할필요가없다"
      ],
      "metadata": {
        "id": "UrKertcDUKml"
      },
      "execution_count": null,
      "outputs": []
    },
    {
      "cell_type": "code",
      "source": [
        "from abc import*\n",
        "class 추상클래스(metaclass=ABCMeta):\n",
        "    @abstractmethod \n",
        "    def 추상메소드(self):       #     추상메서드를 오버라이딩을 해야 객체를 만들 수 있다\n",
        "             pass\n",
        "class A(추상클래스):\n",
        "    def 추상메소드(self):  #이게 없으면 자동으로 a=A()는 추상이다\n",
        "        print('오버라이딩')  #추상메서드를 오버라이딩해서 실체로 바뀐다\n",
        "                              \n",
        "a=A() #추상클래스는 생성자가 없어서 객체를 만들지 못한다    묶음의 형태\n",
        "     # 객체가 필요없는 묶음클래스로 객체를 만드는 실수를 방지한다 추상클래스로 만들어서\n",
        "     # 상속받아서 메서드오버라이딩 시 가능\n",
        "\n",
        "     "
      ],
      "metadata": {
        "id": "ez3XDtWjUdzv"
      },
      "execution_count": 121,
      "outputs": []
    },
    {
      "cell_type": "code",
      "source": [
        "+기호는 __add__ 연산자와 동일하다\n",
        "클래스안에 __add__를 넣으면\n",
        "클래스밖에서 그 클래스의 인스턴스에 + 입력시 클래스안에서 바뀐 add__매서드가 작동한다\n",
        "   기존 +  add 메서드를 오버라이딩으로 바꾼 것\n",
        "   "
      ],
      "metadata": {
        "id": "wP7LN8rDXxDR"
      },
      "execution_count": null,
      "outputs": []
    },
    {
      "cell_type": "code",
      "source": [
        ""
      ],
      "metadata": {
        "id": "sqqVY2N6IHxd"
      },
      "execution_count": null,
      "outputs": []
    }
  ]
}