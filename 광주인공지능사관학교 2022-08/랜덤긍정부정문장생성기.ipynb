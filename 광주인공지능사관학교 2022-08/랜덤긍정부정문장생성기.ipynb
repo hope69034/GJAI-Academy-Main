{
  "nbformat": 4,
  "nbformat_minor": 0,
  "metadata": {
    "colab": {
      "name": "랜덤긍정부정문장생성기",
      "provenance": [],
      "collapsed_sections": []
    },
    "kernelspec": {
      "name": "python3",
      "display_name": "Python 3"
    },
    "language_info": {
      "name": "python"
    },
    "accelerator": "GPU",
    "gpuClass": "standard"
  },
  "cells": [
    {
      "cell_type": "code",
      "source": [
        "# text = [ ['9976970', '아 더빙.. 진짜 짜증나네요 목소리', '0'] , ['3819312', '흠...포스터보고 초딩영화줄....오버연기조차 가볍지 않구나', '1'] ]\n",
        "# 1인덱스에 인풋, 2인덱스에 아웃풋  0 부정 / 1긍정 리뷰   "
      ],
      "metadata": {
        "id": "AjCDgfD78VM1"
      },
      "execution_count": 1,
      "outputs": []
    },
    {
      "cell_type": "code",
      "execution_count": 2,
      "metadata": {
        "id": "AgLDuHoGdefO",
        "colab": {
          "base_uri": "https://localhost:8080/",
          "height": 290
        },
        "outputId": "93d19f6a-90b6-4e06-982e-c411871eb18c"
      },
      "outputs": [
        {
          "output_type": "stream",
          "name": "stdout",
          "text": [
            "Looking in indexes: https://pypi.org/simple, https://us-python.pkg.dev/colab-wheels/public/simple/\n",
            "Collecting konlpy\n",
            "  Downloading konlpy-0.6.0-py2.py3-none-any.whl (19.4 MB)\n",
            "\u001b[K     |████████████████████████████████| 19.4 MB 1.2 MB/s \n",
            "\u001b[?25hRequirement already satisfied: numpy>=1.6 in /usr/local/lib/python3.7/dist-packages (from konlpy) (1.21.6)\n",
            "Requirement already satisfied: lxml>=4.1.0 in /usr/local/lib/python3.7/dist-packages (from konlpy) (4.9.1)\n",
            "Collecting JPype1>=0.7.0\n",
            "  Downloading JPype1-1.4.0-cp37-cp37m-manylinux_2_5_x86_64.manylinux1_x86_64.whl (453 kB)\n",
            "\u001b[K     |████████████████████████████████| 453 kB 49.8 MB/s \n",
            "\u001b[?25hRequirement already satisfied: typing-extensions in /usr/local/lib/python3.7/dist-packages (from JPype1>=0.7.0->konlpy) (4.1.1)\n",
            "Installing collected packages: JPype1, konlpy\n",
            "Successfully installed JPype1-1.4.0 konlpy-0.6.0\n"
          ]
        },
        {
          "output_type": "stream",
          "name": "stderr",
          "text": [
            "100%|██████████| 74827/74827 [03:49<00:00, 325.71it/s]\n",
            "100%|██████████| 75173/75173 [04:06<00:00, 305.40it/s]\n"
          ]
        },
        {
          "output_type": "execute_result",
          "data": {
            "text/plain": [
              "'보다가 뛰어나갈 뻔했고 재미는 악다구니 뿐.. 평점 조작 해서 극장판 때문에 넣고 다니며 뭔 그래픽의 빈약함. 정치적인데. 오직 이 될듯'"
            ],
            "application/vnd.google.colaboratory.intrinsic+json": {
              "type": "string"
            }
          },
          "metadata": {},
          "execution_count": 2
        }
      ],
      "source": [
        "# 기본 import\n",
        "import numpy as np\n",
        "import pandas as pd\n",
        "import matplotlib.pyplot as plt\n",
        "\n",
        "# 다운, import, 리드\n",
        "! pip install konlpy\n",
        "import codecs\n",
        "with codecs.open('data2.txt',encoding='utf-8') as f:\n",
        "    data = [문장.split('\\t') for 문장 in f.read().splitlines()]  \n",
        "\n",
        "# 데이터 모양 확인\n",
        "data[:10]  # 데이터 모양 확인\n",
        "data = data[1:]  # 0인덱 필요없으니 제외하고 슬라이스 \n",
        "\n",
        "# 긍정문장과 부정문장 스플릿\n",
        "긍정문장_data = [  문장[1] for 문장 in data if 문장[2]=='1'  ] # 1:긍정리뷰 아웃풋     \n",
        "부정문장_data = [  문장[1] for 문장 in data if 문장[2]=='0'  ] # 0:부정리뷰 아웃풋     \n",
        " \n",
        "# 문장을 받으면 '단어/형태소'로 쪼개고 리스트화 하는 def 함수 선언\n",
        "from konlpy.tag import Okt # 한국어 단어 토크나이저\n",
        "from tqdm import tqdm # 무한루프에 걸렸는지 진행 중인지 확인하기 위한 # 작업의 진행사항을 알려주는 패키지  ~% 진행 표시\n",
        "from nltk.util import ngrams # 엔그램 단어 묶기, 문맥\n",
        "tk = Okt()\n",
        "def 문장을받으면단어와형태소로쪼개는함수(문장):\n",
        "  리턴단어형태소 =['/'.join(i) for i in tk.pos(문장)] #pos : [ ('단어','형태소') ] 여기서 i에  ( . )튜플들어가고 조인()에들어가면 단어,형태소 사이 쉼표를 /로 조인\n",
        "  return 리턴단어형태소\n",
        "문장을받으면단어와형태소로쪼개는함수(긍정문장_data[0]) # ['흠/Noun', '.../Punctuation', '포스터/Noun' ]\n",
        "\n",
        "# 긍정문을 활용한 엔그램 리스트 생성\n",
        "긍정문엔그램리스트 = []\n",
        "for 문장 in tqdm(긍정문장_data): \n",
        "  긍정단어와형태소 = 문장을받으면단어와형태소로쪼개는함수(문장)  # tk_f() 는 def로  ['흠/Noun', '.../Punctuation', '포스터/Noun' ] 단어/형태소로 뽑는 함수\n",
        "  ng = ngrams(긍정단어와형태소, 2, pad_left=True,pad_right=True,left_pad_symbol=\"SS\",right_pad_symbol='SE') # ng은 zip형태니까\n",
        "  # ng출력 = [('SS', '흠/Noun'), ('포스터/Noun', 'SE')]\n",
        "  긍정문엔그램리스트 += [t for t in ng] # 리스트형태로 뽑아줌 [('SS', '흠/Noun'), ('포스터/Noun', 'SE')] 타입만 list로 바뀌고 다른 건 같음\n",
        "긍정문엔그램리스트  \n",
        "     \n",
        "# 부정문을 활용한 엔그램 리스트 생성\n",
        "부정문엔그램리스트 = []\n",
        "for 문장 in tqdm(부정문장_data):\n",
        "  부정단어와형태소 = 문장을받으면단어와형태소로쪼개는함수(문장)\n",
        "  ng = ngrams(부정단어와형태소, 2, pad_left=True,pad_right=True,left_pad_symbol=\"SS\",right_pad_symbol='SE')\n",
        "  부정문엔그램리스트 += [t for t in ng]\n",
        "부정문엔그램리스트\n",
        "\n",
        "# cpd긍정 과 cpd부정 생성\n",
        "# 긍정문엔그램리스트 = [('SS', '흠/Noun'), ('포스터/Noun', 'SE')] #긍정문\n",
        "# 부정문엔그램리스트 = [('SS', '흠/Noun'), ('포스터/Noun', 'SE')] #부정문\n",
        "from nltk import ConditionalFreqDist \n",
        "from nltk.probability import ConditionalProbDist,MLEProbDist # MLEProbDist 최대우도추정\n",
        "cfd긍정 = ConditionalFreqDist(긍정문엔그램리스트) # cfd 다음단어조건부빈도\n",
        "cpd긍정 = ConditionalProbDist(cfd긍정, MLEProbDist) # cpd 다음단어조건부확률\n",
        "cfd부정 = ConditionalFreqDist(부정문엔그램리스트)\n",
        "cpd부정 = ConditionalProbDist(cfd부정, MLEProbDist)\n",
        "# cpd 는 긍정문장기준 cpd1 은 부정문장기준\n",
        "# 랜덤문장생성기, 긍정문장생성기, 부정문장생성기를 위한 준비 완료\n",
        "\n",
        "#긍정문장랜덤생성기\n",
        "st긍정 = 'SS'\n",
        "랜덤긍정단어 = []\n",
        "import random\n",
        "#random.seed(8) # 랜덤시드빼면 실행할 때마다 랜덤\n",
        "while True:\n",
        "  st긍정 = cpd긍정[st긍정].generate()  # SS다음 나올 단어를 gen으로 그냥 random으로 뽑고 \n",
        "  if st긍정 == \"SE\" : # SE가 뽑힐 때까지 반복 (SS와 SE는 뽑히지 않음)\n",
        "    break\n",
        "  d = st긍정.split('/')[0]  # 스플릿후[0]인덱이면 단어를 \n",
        "  랜덤긍정단어.append(d)  # 리스트에 넣음\n",
        "#  랜덤긍정단어 = ['영상','진짜']  # 단어 하나하나 \n",
        "긍정문장랜덤생성기 = ' '.join(랜덤긍정단어)  #  리스트에 들어간 단어 하나하나를 띄어쓰기 기준으로 조인\n",
        "긍정문장랜덤생성기  \n",
        "\n",
        "#부정문장랜덤생성기\n",
        "st부정 = 'SS'\n",
        "랜덤부정단어 = []\n",
        "import random\n",
        "#random.seed(8) # 랜덤시드빼면 실행할 때마다 랜덤\n",
        "while True:\n",
        "  st부정 = cpd부정[st부정].generate()  # SS다음 나올 단어를 gen으로 그냥 random으로 뽑고 \n",
        "  if st부정 == \"SE\" : # SE가 뽑힐 때까지 반복 (SS와 SE는 뽑히지 않음)\n",
        "    break\n",
        "  d = st부정.split('/')[0]  # 스플릿후[0]인덱이면 단어를 \n",
        "  랜덤부정단어.append(d)  # 리스트에 넣음\n",
        "#  랜덤부정단어 = ['영상','진짜']  # 단어 하나하나\n",
        "부정문장랜덤생성기 = ' '.join(랜덤부정단어)  #  리스트에 들어간 단어 하나하나를 띄어쓰기 기준으로 조인\n",
        "부정문장랜덤생성기  \n",
        "\n",
        "# 긍정문장랜덤생성기 + 부정문장랜덤생성기 def로 한번에 만들기\n",
        "tk.tagset # 형태소 확인\n",
        "def 긍정부정랜덤문장생성기(c=\"SS\",cpd = cpd긍정): # 'SS' 8 cpd 는 디폴트값 # (,n_seed=8) 시드 조절하고 싶을 때\n",
        "  #random.seed(n_seed)\n",
        "  랜덤단어모음 = []\n",
        "  while True:\n",
        "    단어와형태소 = cpd[c].generate()  #  랜덤으로 나오는 (단어/형태소)\n",
        "    if 단어와형태소 == \"SE\": # SE나오면 브레이크\n",
        "      break\n",
        "    단어 = 단어와형태소.split('/')[0] # 단어\n",
        "    형태소 = 단어와형태소.split('/')[1] # 형태소\n",
        "    if c==\"SS\":\n",
        "      랜덤단어모음.append(단어.title()) #.title()첫문자만 대문자화\n",
        "    elif c in [\"'\",\"\\\"\",'(']:\n",
        "      랜덤단어모음.append(단어)\n",
        "    elif 단어와형태소 in [\"'\",\",\",\".\",\")\",\":\",\";\",\"?\"]:\n",
        "      랜덤단어모음.append(단어)\n",
        "    elif 형태소 in [\"Josa\", \"Punctuation\", \"Suffix\"]:\n",
        "      랜덤단어모음.append(단어)\n",
        "    elif 단어와형태소 in [\"임/Noun\", \"것/Noun\", \"는걸/Noun\", \"릴때/Noun\",\n",
        "               \"되다/Verb\", \"이다/Verb\", \"하다/Verb\", \"이다/Adjective\"]:\n",
        "      랜덤단어모음.append(단어)\n",
        "    else:\n",
        "      랜덤단어모음.append(\" \"+단어)\n",
        "    c = 단어와형태소 # c는 첫단어고 단어와형태소는 뒤단어인데 c로 넣어줘서 루프를 SE 가나올 때까지 돌린다\n",
        "  return ''.join(랜덤단어모음)\n",
        "긍정부정랜덤문장생성기() #긍정생성기\n",
        "긍정부정랜덤문장생성기(cpd=cpd부정) #부정생성기\n",
        "\n",
        "# 생성기 모음\n",
        "긍정문장랜덤생성기  \n",
        "부정문장랜덤생성기  \n",
        "긍정부정랜덤문장생성기() #긍정생성기\n",
        "긍정부정랜덤문장생성기(cpd=cpd부정) #부정생성기"
      ]
    },
    {
      "cell_type": "code",
      "source": [
        "긍정문장랜덤생성기  "
      ],
      "metadata": {
        "id": "CU6xNOhIYUMQ",
        "outputId": "eccc11c3-a727-4c4a-8999-e27d981d1f37",
        "colab": {
          "base_uri": "https://localhost:8080/",
          "height": 35
        }
      },
      "execution_count": 3,
      "outputs": [
        {
          "output_type": "execute_result",
          "data": {
            "text/plain": [
              "\"진정한 사랑 이야기 '!\""
            ],
            "application/vnd.google.colaboratory.intrinsic+json": {
              "type": "string"
            }
          },
          "metadata": {},
          "execution_count": 3
        }
      ]
    },
    {
      "cell_type": "code",
      "source": [
        "부정문장랜덤생성기  "
      ],
      "metadata": {
        "id": "DtkizMpQYVqQ",
        "outputId": "3045b8db-ba2e-47e3-8d29-e3b329040db3",
        "colab": {
          "base_uri": "https://localhost:8080/",
          "height": 35
        }
      },
      "execution_count": 4,
      "outputs": [
        {
          "output_type": "execute_result",
          "data": {
            "text/plain": [
              "'리메이크 작'"
            ],
            "application/vnd.google.colaboratory.intrinsic+json": {
              "type": "string"
            }
          },
          "metadata": {},
          "execution_count": 4
        }
      ]
    },
    {
      "cell_type": "code",
      "source": [
        "긍정부정랜덤문장생성기() #긍정생성기 "
      ],
      "metadata": {
        "id": "ikKO18hlYYwD",
        "outputId": "3e3ac171-034a-440a-bd2f-d80598708dc5",
        "colab": {
          "base_uri": "https://localhost:8080/",
          "height": 35
        }
      },
      "execution_count": 5,
      "outputs": [
        {
          "output_type": "execute_result",
          "data": {
            "text/plain": [
              "'성룡을 깨고 연못으로 인간들 가득 차..'"
            ],
            "application/vnd.google.colaboratory.intrinsic+json": {
              "type": "string"
            }
          },
          "metadata": {},
          "execution_count": 5
        }
      ]
    },
    {
      "cell_type": "code",
      "source": [
        "긍정부정랜덤문장생성기(cpd=cpd부정) #부정생성기"
      ],
      "metadata": {
        "id": "j-aIpYxVYZZ0",
        "outputId": "4ec57f70-3cd9-4f52-ae73-2beaf9dca8c3",
        "colab": {
          "base_uri": "https://localhost:8080/",
          "height": 35
        }
      },
      "execution_count": 6,
      "outputs": [
        {
          "output_type": "execute_result",
          "data": {
            "text/plain": [
              "'이런 영화 영화'"
            ],
            "application/vnd.google.colaboratory.intrinsic+json": {
              "type": "string"
            }
          },
          "metadata": {},
          "execution_count": 6
        }
      ]
    }
  ]
}