{
  "nbformat": 4,
  "nbformat_minor": 0,
  "metadata": {
    "colab": {
      "name": "[정리필요]801  F2",
      "provenance": [],
      "collapsed_sections": []
    },
    "kernelspec": {
      "name": "python3",
      "display_name": "Python 3"
    },
    "language_info": {
      "name": "python"
    },
    "accelerator": "GPU",
    "gpuClass": "standard"
  },
  "cells": [
    {
      "cell_type": "markdown",
      "source": [
        "데이터 수집"
      ],
      "metadata": {
        "id": "APvV75N7e7h4"
      }
    },
    {
      "cell_type": "code",
      "source": [
        "text = [ ['9976970', '아 더빙.. 진짜 짜증나네요 목소리', '0'] , ['3819312', '흠...포스터보고 초딩영화줄....오버연기조차 가볍지 않구나', '1'] ]\n",
        "부정/긍정 리뷰 텍스트, 1인덱스에 인풋, 2인덱스에 아웃풋 "
      ],
      "metadata": {
        "id": "AjCDgfD78VM1"
      },
      "execution_count": null,
      "outputs": []
    },
    {
      "cell_type": "code",
      "execution_count": 33,
      "metadata": {
        "id": "AgLDuHoGdefO",
        "colab": {
          "base_uri": "https://localhost:8080/"
        },
        "outputId": "3751ec13-9044-4079-f3f1-367701c34b49"
      },
      "outputs": [
        {
          "output_type": "stream",
          "name": "stdout",
          "text": [
            "Looking in indexes: https://pypi.org/simple, https://us-python.pkg.dev/colab-wheels/public/simple/\n",
            "Requirement already satisfied: konlpy in /usr/local/lib/python3.7/dist-packages (0.6.0)\n",
            "Requirement already satisfied: JPype1>=0.7.0 in /usr/local/lib/python3.7/dist-packages (from konlpy) (1.4.0)\n",
            "Requirement already satisfied: lxml>=4.1.0 in /usr/local/lib/python3.7/dist-packages (from konlpy) (4.9.1)\n",
            "Requirement already satisfied: numpy>=1.6 in /usr/local/lib/python3.7/dist-packages (from konlpy) (1.21.6)\n",
            "Requirement already satisfied: typing-extensions in /usr/local/lib/python3.7/dist-packages (from JPype1>=0.7.0->konlpy) (4.1.1)\n"
          ]
        }
      ],
      "source": [
        "# 기본 import\n",
        "import numpy as np\n",
        "import pandas as pd\n",
        "import matplotlib.pyplot as plt\n",
        "\n",
        "# 다운, import, 리드\n",
        "! pip install konlpy\n",
        "import codecs\n",
        "with codecs.open('data2.txt',encoding='utf-8') as f:\n",
        "    data = [문장.split('\\t') for 문장 in f.read().splitlines()]  # 문장이 150001 개 있는 데이터\n",
        "\n",
        "# 데이터 모양 확인\n",
        "data[:10]  # 데이터 모양 확인\n",
        "data = data[1:]  # 0인덱 필요없으니 제외하고 슬라이스 \n",
        "\n",
        "# 긍정문장과 부정문장 스플릿\n",
        "긍정문장_data = [  문장[1] for 문장 in data if 문장[2]=='1'  ] # 1:긍정리뷰 아웃풋     \n",
        "부정문장_data = [  문장[1] for 문장 in data if 문장[2]=='0'  ] # 0:부정리뷰 아웃풋     \n"
      ]
    },
    {
      "cell_type": "code",
      "source": [
        ""
      ],
      "metadata": {
        "id": "NUvyAD16IOQi"
      },
      "execution_count": null,
      "outputs": []
    },
    {
      "cell_type": "code",
      "source": [
        ""
      ],
      "metadata": {
        "id": "bvkLnr6QIOUh"
      },
      "execution_count": null,
      "outputs": []
    },
    {
      "cell_type": "code",
      "source": [
        ""
      ],
      "metadata": {
        "id": "YToJIHMGIOXp"
      },
      "execution_count": null,
      "outputs": []
    },
    {
      "cell_type": "markdown",
      "source": [
        "데이터전처리(단어토큰 -> 형태소 토큰화)"
      ],
      "metadata": {
        "id": "-8WQYWZHf2el"
      }
    },
    {
      "cell_type": "code",
      "source": [
        "# 문장을 받으면 '단어/형태소'로 쪼개주는 코드\n",
        "from konlpy.tag import Okt # 한국어 단어 토크나이저\n",
        "from tqdm import tqdm # 무한루프에 걸렸는지 진행 중인지 확인하기 위한 # 작업의 진행사항을 알려주는 패키지  ~% 진행 표시\n",
        "from nltk.util import ngrams # 엔그램 단어 묶기, 문맥\n",
        "tk = Okt()\n",
        "def tk_f(문장):\n",
        "  tk_d=['/'.join(i) for i in tk.pos(문장)] #pos : [ ('단어','형태소') ] 여기서 i에  ( . )튜플들어가고 조인()에들어가면 단어,형태소 사이 쉼표를 /로 조인\n",
        "  return tk_d\n",
        "tk_f(긍정문장_data[0]) # ['흠/Noun', '.../Punctuation', '포스터/Noun' ]"
      ],
      "metadata": {
        "id": "avEEWUxtf_z4"
      },
      "execution_count": null,
      "outputs": []
    },
    {
      "cell_type": "code",
      "source": [
        "end_l=[]\n",
        "for 문장 in tqdm(긍정문장_data): \n",
        "  tk_data = tk_f(문장)  # tk_f() 는 def로  ['흠/Noun', '.../Punctuation', '포스터/Noun' ] 단어/형태소로 뽑는 함수\n",
        "  ng = ngrams(tk_data,2,pad_left=True,pad_right=True,left_pad_symbol=\"SS\",right_pad_symbol='SE') # ng은 zip형태니까\n",
        "  # ng출력 = [('SS', '흠/Noun'), ('포스터/Noun', 'SE')]\n",
        "  end_l+=[t for t in ng] # 리스트형태로 뽑아줌 [('SS', '흠/Noun'), ('포스터/Noun', 'SE')] 타입만 list로 바뀌고 다른 건 같음\n",
        "end_l  \n",
        "     "
      ],
      "metadata": {
        "id": "-pUUkD7uiNhO"
      },
      "execution_count": null,
      "outputs": []
    },
    {
      "cell_type": "code",
      "source": [
        "end_l_1=[]\n",
        "for 문장 in tqdm(부정문장_data):\n",
        "  tk_data=tk_f(문장)\n",
        "  bg=ngrams(tk_data,2,pad_left=True,pad_right=True,left_pad_symbol=\"SS\",right_pad_symbol='SE')\n",
        "  end_l_1+=[t for t in bg]"
      ],
      "metadata": {
        "id": "N-Z06EnOnvYQ",
        "colab": {
          "base_uri": "https://localhost:8080/"
        },
        "outputId": "e8f812af-751f-4b63-971d-fed61bf925e8"
      },
      "execution_count": 39,
      "outputs": [
        {
          "output_type": "stream",
          "name": "stderr",
          "text": [
            "100%|██████████| 75173/75173 [04:48<00:00, 260.50it/s]\n"
          ]
        }
      ]
    },
    {
      "cell_type": "code",
      "source": [
        "# end_l = [('SS', '흠/Noun'), ('포스터/Noun', 'SE')] #긍정문\n",
        "# end_l_1 = [('SS', '흠/Noun'), ('포스터/Noun', 'SE')] #부정문\n",
        "\n",
        "from nltk import ConditionalFreqDist \n",
        "from nltk.probability import ConditionalProbDist,MLEProbDist\n",
        "cfd = ConditionalFreqDist(end_l)\n",
        "cpd = ConditionalProbDist(cfd, MLEProbDist)"
      ],
      "metadata": {
        "id": "j3VhRlWKiwg1"
      },
      "execution_count": 35,
      "outputs": []
    },
    {
      "cell_type": "code",
      "source": [
        "cfd1 = ConditionalFreqDist(end_l_1)\n",
        "cpd1 = ConditionalProbDist(cfd1, MLEProbDist)"
      ],
      "metadata": {
        "id": "nK6guIWznsev"
      },
      "execution_count": 40,
      "outputs": []
    },
    {
      "cell_type": "code",
      "source": [
        "#랜덤 문장 생성기\n",
        "st='SS'\n",
        "all_l=[]\n",
        "import random\n",
        "random.seed(8)\n",
        "while True:\n",
        "  st=cpd[st].generate()  # SS다음 나올 단어를 gen으로 그냥 random으로 뽑고 \n",
        "  if st==\"SE\": #SE가 뽑힐 때까지 반복 (SS와 SE는 뽑히지 않음)\n",
        "    break\n",
        "  d=st.split('/')[0]  # 스플릿후[0]인덱이면 단어를 \n",
        "  all_l.append(d)  # 리스트에 넣음\n",
        "n_data=' '.join(all_l) #리스트에 들어간 단어 하나하나를 띄어쓰기 기준으로 조인\n",
        "n_data # 하니 '영상 진짜 웃기 기도' 한 문장으로 통합됨"
      ],
      "metadata": {
        "colab": {
          "base_uri": "https://localhost:8080/",
          "height": 54
        },
        "id": "4w_BOfrrjbDO",
        "outputId": "a10730f9-0074-4894-bcce-0bd803b99e51"
      },
      "execution_count": 38,
      "outputs": [
        {
          "output_type": "execute_result",
          "data": {
            "text/plain": [
              "'영상 진짜 웃기 기도 하고 이제야 알았다니 떡잎 부터 사소한것하나까지 알고있는 진실 을 훔쳐 보고 다시 한번 쯤 보면 공감 이 넘 좋아요 아 .. 인생 을 감수 하는 대통령 의 코믹 할 영화'"
            ],
            "application/vnd.google.colaboratory.intrinsic+json": {
              "type": "string"
            }
          },
          "metadata": {},
          "execution_count": 38
        }
      ]
    },
    {
      "cell_type": "code",
      "source": [
        "tk.tagset"
      ],
      "metadata": {
        "id": "xMz3KrcSmSsf"
      },
      "execution_count": null,
      "outputs": []
    },
    {
      "cell_type": "code",
      "source": [
        "def 한글_정리_생성(c=\"SS\",n_seed=8,cpd=cpd): # 'SS' 8 cpd 는 디폴트값\n",
        "  random.seed(n_seed)\n",
        "  all_l=[]\n",
        "  while True:\n",
        "    w=cpd[c].generate()\n",
        "    if w==\"SE\": # SE나오면 브레이크\n",
        "      break\n",
        "    w2=w.split('/')[0] # 단어\n",
        "    pos=w.split('/')[1] # 형태소\n",
        "    if c==\"SS\":\n",
        "      all_l.append(w2.title())\n",
        "    elif c in [\"'\",\"\\\"\",'(']:\n",
        "      all_l.append(w2)\n",
        "    elif w in [\"'\",\",\",\".\",\")\",\":\",\";\",\"?\"]:\n",
        "      all_l.append(w2)\n",
        "    elif pos in [\"Josa\", \"Punctuation\", \"Suffix\"]:\n",
        "      all_l.append(w2)\n",
        "    elif w in [\"임/Noun\", \"것/Noun\", \"는걸/Noun\", \"릴때/Noun\",\n",
        "               \"되다/Verb\", \"이다/Verb\", \"하다/Verb\", \"이다/Adjective\"]:\n",
        "      all_l.append(w2)\n",
        "    else:\n",
        "      all_l.append(\" \"+w2)\n",
        "    c=w\n",
        "  return ''.join(all_l)\n",
        "#tf몇번등장햇나 idf"
      ],
      "metadata": {
        "id": "DsvGKnjSlBcP"
      },
      "execution_count": 43,
      "outputs": []
    },
    {
      "cell_type": "markdown",
      "source": [
        "긍정적인 확률 기반 문장생성"
      ],
      "metadata": {
        "id": "YmxxGBD1oA-P"
      }
    },
    {
      "cell_type": "code",
      "source": [
        "한글_정리_생성()"
      ],
      "metadata": {
        "colab": {
          "base_uri": "https://localhost:8080/",
          "height": 54
        },
        "id": "iqgG1-oynSE3",
        "outputId": "ac509f03-5393-40b6-b22c-65e6339b30c1"
      },
      "execution_count": 44,
      "outputs": [
        {
          "output_type": "execute_result",
          "data": {
            "text/plain": [
              "'영상 진짜 웃기 기도하고 이제야 알았다니 떡잎부터 사소한것하나까지 알고있는 진실을 훔쳐 보고 다시 한번쯤 보면 공감이 넘 좋아요 아.. 인생을 감수 하는 대통령의 코믹 할 영화'"
            ],
            "application/vnd.google.colaboratory.intrinsic+json": {
              "type": "string"
            }
          },
          "metadata": {},
          "execution_count": 44
        }
      ]
    },
    {
      "cell_type": "markdown",
      "source": [
        "부정적인 확률 기반 문장생성"
      ],
      "metadata": {
        "id": "S3Kv3yeRoEPA"
      }
    },
    {
      "cell_type": "code",
      "source": [
        "한글_정리_생성(c=\"SS\",n_seed=8,cpd=cpd1)"
      ],
      "metadata": {
        "id": "xL8ogERWn6SR",
        "colab": {
          "base_uri": "https://localhost:8080/",
          "height": 35
        },
        "outputId": "2719a038-36c7-411b-fdea-6b8abac8dbde"
      },
      "execution_count": 45,
      "outputs": [
        {
          "output_type": "execute_result",
          "data": {
            "text/plain": [
              "'망함 그래도 어차피 3 류 영화 귀여워 보니깐 그러지 못한 영화라고는 하지만...'"
            ],
            "application/vnd.google.colaboratory.intrinsic+json": {
              "type": "string"
            }
          },
          "metadata": {},
          "execution_count": 45
        }
      ]
    }
  ]
}