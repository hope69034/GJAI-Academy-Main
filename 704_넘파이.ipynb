{
  "nbformat": 4,
  "nbformat_minor": 0,
  "metadata": {
    "colab": {
      "name": "704 넘파이",
      "provenance": []
    },
    "kernelspec": {
      "name": "python3",
      "display_name": "Python 3"
    },
    "language_info": {
      "name": "python"
    }
  },
  "cells": [
    {
      "cell_type": "code",
      "execution_count": null,
      "metadata": {
        "id": "T7vaGaXAj6js"
      },
      "outputs": [],
      "source": [
        "환경구축 (세팅)\n",
        "\n",
        "아나콘다\n",
        "파이참(커뮤티티)"
      ]
    },
    {
      "cell_type": "code",
      "source": [
        "편집도구\n",
        "\n",
        "메모장\n",
        "vl editor\n",
        "sublime text\n",
        "atom\n",
        "pycham\n",
        "visual studio code\n"
      ],
      "metadata": {
        "id": "huqROVwPnTrE"
      },
      "execution_count": null,
      "outputs": []
    },
    {
      "cell_type": "code",
      "source": [
        "데이터"
      ],
      "metadata": {
        "id": "YuDjt7B0xWmy"
      },
      "execution_count": null,
      "outputs": []
    },
    {
      "cell_type": "code",
      "source": [
        "피쳐의 개념 feature 특징\n",
        "-특성이나 특징이라는 의미\n",
        " 모델을 구성하는데 데이터가 가장 큰 영향을 줌\n",
        "모델은 함수 형태로 표현\n",
        "y=ax+b\n",
        " x,y를 주고 알고리즘을 통해 a,b 최적값을 찾음"
      ],
      "metadata": {
        "id": "4XysgerNxj_y"
      },
      "execution_count": null,
      "outputs": []
    },
    {
      "cell_type": "code",
      "source": [
        "데이터테이블 data table 데이터를 테이플(표)로 표현한 것\n",
        "\n",
        "피쳐는 데이터 테이블 상에서 하나의 열 이름 column name에 해당\n",
        "\n",
        "데이터 인스턴스 data instance : 하나의 데이터\n",
        "    튜플 이라고도 부름\n",
        "    엑셀에서의 한줄 한줄 \n",
        "    \n",
        "행row:데이터인스턴스    \n",
        "열column:피쳐\n",
        "\n",
        "행렬의곱으 가로/세로로 곱해야한다\n",
        "행렬 matrix"
      ],
      "metadata": {
        "id": "dYOmeFHMzbIT"
      },
      "execution_count": null,
      "outputs": []
    },
    {
      "cell_type": "code",
      "source": [
        "차원의저주\n",
        " 실제 머신러닝에서는 피쳐의 개수가 크게 증가하고 이게 따라 데이터를 확보해야 모델 성능을 갖출 수 있음\n",
        " 차원이 늘어나면 우리가 상상하거나 표현할 수 없게 됨\n",
        " (차원의수=feature의수)\n",
        "\n",
        " 피쳐의개수가 증가하게되면데이터를표현해야하는공간이지속적으로늘어나게되고이에대한처리가어렵게되는것\n",
        " 희박한벡터생성:벡터공간에너무많은영이포함된형태로값이없는벡터들이증가하여모델전체의정확도를떨어뜨림\n",
        " 데이터처리속도와메모리공간문제:셈플데이터가너무많아져문제발생\n",
        " \n",
        "\n"
      ],
      "metadata": {
        "id": "Fhq_1Rt589Ss"
      },
      "execution_count": null,
      "outputs": []
    },
    {
      "cell_type": "code",
      "source": [
        "스케일 연속적데이터\n",
        "<> 이산형데이터"
      ],
      "metadata": {
        "id": "KfDFo6ff_gV4"
      },
      "execution_count": null,
      "outputs": []
    },
    {
      "cell_type": "code",
      "source": [
        "이산형데이터의분류 : 숫자형 명목형 서수형"
      ],
      "metadata": {
        "id": "plFM2nH4_tft"
      },
      "execution_count": null,
      "outputs": []
    },
    {
      "cell_type": "code",
      "source": [
        "데이터의형식\n",
        " csv (comma separate value) 파일  /  xlsx파일\n",
        " 트리형태: json . xml"
      ],
      "metadata": {
        "id": "AUy6xAFRATyC"
      },
      "execution_count": null,
      "outputs": []
    },
    {
      "cell_type": "code",
      "source": [
        "넘파이"
      ],
      "metadata": {
        "id": "ixee6OxDQMwV"
      },
      "execution_count": null,
      "outputs": []
    },
    {
      "cell_type": "code",
      "source": [
        "기게학습에서는파이썬의기본리스트로충분하지않다\n",
        "데이터를처리할떄는리스트와리스트간의연산이가능해야하는데파이썬의기본리스트는이것을지원하지않기때문이다\n",
        "연산속도도중요하기때문에데이터과학자들은기본리스트대신에넘파이를선호한다\n",
        "\n"
      ],
      "metadata": {
        "id": "wyuSc_L6QNo6"
      },
      "execution_count": null,
      "outputs": []
    },
    {
      "cell_type": "code",
      "source": [
        "넘파이의개념\n",
        "\n",
        "파이썬의고성능과학걔산용라이브러리\n",
        "벡터나행렬같은선형대수의표현법을코드로처리\n",
        "사실사의표준라이브러리\n",
        "다차원리스트나크기가큰데이터처리에유리\n",
        "\n",
        "특징\n",
        " 과학적인계산을위해서만들어진형태\n",
        " 정적할당의구성방식으로사용하기위하여만들어짐\n",
        " 행렬연산특화\n",
        " 일반리스트에비해빠르고메모리를효율적으로사용\n",
        " 속도가빠르고메모리사용이효율적\n",
        " 데이터를메모리에할당하는방식이기존과다름\n",
        " 반복문을사용하지않음\n",
        " 연산할떄병렬로처리\n",
        " 함수를한번에많은요소에적용\n",
        " 반복문없이데이터배열에대한처리를지원하여빠르고편리\n",
        " 선형대수와관련된다양한기능을제공\n",
        " 시시플플포트란등의언어와통합이가능\n",
        "\n",
        "성능\n",
        " 넘파이의 텐서연산의 장점\n",
        "   시 와 유사한형태로 메모리를관리하면서 시와 같은 연산속도로 계산할 수 있다\n",
        "   메모리 구조상 요소들이 붙어있기 때문\n",
        "   파이썬의 가장큰 특징인 동적타이핑을 포기했지만 시로 구현되어 있어 배열 연산에 있어 매우큰성능적우위확보\n",
        "   대용량배열연산에서넘파이가사실상표준으로사용됨\n",
        "\n",
        "넘파이배열 ndarray : 넘파이에서 텐서데이터를 다루는 객체\n",
        "\n",
        "텐서 tensor:선형대수의 데이터배열\n",
        "  랭크에따라이름이다름\n",
        "\n",
        "랭크\n",
        "0 스칼라\n",
        "1 벡터\n",
        "2 행렬\n",
        "3 삼차원텐서\n",
        "4 "
      ],
      "metadata": {
        "id": "tXlY-fTORww6"
      },
      "execution_count": null,
      "outputs": []
    },
    {
      "cell_type": "code",
      "source": [
        "#l=[1,2,3,4,5]\n",
        "#l2=[1,2,3,4,5]\n",
        "#print(l)\n",
        "#print(type(l))\n",
        "\n",
        "#end_l=[]\n",
        "#for i in range(len(l)):\n",
        "#    end_l.append(l[i]+l2[i])\n",
        "#print(end_l)\n",
        "\n",
        "import numpy as np  # as뒤 np는 넘파이의 닉네임\n",
        "#a1=np.array([1,2,3,4,5])\n",
        "#a2=np.array([1,2,3,4,5])\n",
        "#print(a1)\n",
        "#print(type(a1))\n",
        "#print(l[0])\n",
        "#print(a1[0])\n",
        "#a3=np.array([1,2,3,4])\n",
        "#print(a1+1)#벡터+스칼라 연산 (넘파이만가능)\n",
        "#print(a1+a3) #에러  원소값 다름\n",
        "\n",
        "\n",
        "#a_2_1=np.array([1,2,3,4,5],[1,2,3,4],[1,2,3,4,5,6]) # 리스트는 가능 넘파이는 불가능 (저차원의사이즈는\n",
        "                                                  #반드시 저차원에서 결정되어야한다. 저차원의사이즈는 한번정해지면 불편, 저차원이중요하다\n",
        "\n",
        "a_2_1=np.array([[1,2,3,4,5],[1,2,3,4,5],[1,2,3,4,5]])\n",
        "a_2_2=np.array([[1,2,3,4,5],[1,2,3,4,5],[1,2,3,4,5]])\n",
        "print(a_2_1+a_2_2)\n",
        "\n"
      ],
      "metadata": {
        "id": "i7FDHoYIVxnD"
      },
      "execution_count": null,
      "outputs": []
    },
    {
      "cell_type": "code",
      "source": [
        " 텐서(선형대수의데이터배열)(밸류) : 스칼라 벡터 행렬 삼차원텐서 엔차원텐서\n",
        "\n",
        " 스칼라 0차원    1\n",
        " 1차원 벡터  [1,2]\n",
        " 2차원 행렬 [[1,2],[1,2]]\n",
        "\n",
        " \n"
      ],
      "metadata": {
        "id": "8m41T4R-Vy-Z"
      },
      "execution_count": null,
      "outputs": []
    },
    {
      "cell_type": "code",
      "source": [
        "파이썬 리스트와 넘파이 배여르이 차이점\n",
        "넘파이- 모든구성요소에값이존재해야함 , ( ) 밸류가 단 하나만 존재해야함 \n",
        " 동적타이핑지원 x > 하나의데이터타입만 사용   [1,'1'] 불가\n",
        " 데이터를메모리에연속적으로나열\n",
        "\n",
        "데이터특징을 출력하는 요소 프로퍼티 는 디타입과 세입\n",
        "  디타입은 넘파이배열의데이터타입을반환 "
      ],
      "metadata": {
        "id": "rbg9aqucwWAY"
      },
      "execution_count": null,
      "outputs": []
    },
    {
      "cell_type": "code",
      "source": [
        "\n",
        "# y=wx+b\n",
        "w=np.array([[1,2,3],[1,2,3],[1,2,3],[1,2,3],[1,2,3]])\n",
        "x=np.array([x,x1,x2])\n",
        "b=1  #바이어스값\n",
        "\n",
        "#y=wx+b를 행렬의 곱으로\n",
        "y=w.dot(x)+b\n",
        "\n",
        "\n",
        "#import numpy as np\n",
        "       #어레이  밸류들을 넘파이배열화시킴\n",
        "\n",
        "#a=np.array((1,2,3,4))\n",
        "#a=np.array([1,2,3,4])\n",
        "#a=np.array([1,2,3.3,4],int)\n",
        "#print(a)\n",
        "\n",
        "#넘파이어레이 밸류는 1개만 가능하다\n",
        "#a=np.array(1,2,3,4)  #값 4개 x에러\n",
        "\n",
        "import numpy as np\n",
        "data=[1.2 , 2 , '3' ,4.2] #하나만스트링으로바꿔도전부스트링으로\n",
        "a=np.array(data)\n",
        "print(a)\n",
        "print(a.dtype)   #문자열이다- 유니코드로 표시\n",
        "print(a.shape)  #(4,) 1차원애 원소가 4개라는말   쉐입 차원을알수잇다\n",
        "             #원소딱하나만잇으면 0차원이라 ()로 나온다\n",
        "\n",
        "data=[[[1,2,3,4],[1,2,3,4]]]\n",
        "print(data.ndim)  #최대차원\n",
        "print(data.size) #원소의 수 #원소8개\n",
        "\n"
      ],
      "metadata": {
        "id": "MJHXSP-m0RY1"
      },
      "execution_count": null,
      "outputs": []
    },
    {
      "cell_type": "code",
      "source": [
        "import numpy as np\n",
        "data=[[[1,2,3,4],[1,2,3,4]]]\n",
        "a=np.array(data)\n",
        "print(a.ndim)  #최대차원\n",
        "print(a.size) #원소의 수 #원소8개\n",
        "\n",
        "print(a)\n",
        "print(a.dtype)\n",
        "print(a.itemsize) #공간확인  바이트로 \n",
        "\n",
        "\n",
        "\n",
        "\n"
      ],
      "metadata": {
        "colab": {
          "base_uri": "https://localhost:8080/"
        },
        "id": "V87Ac3Mk0UPv",
        "outputId": "77bda9f3-6561-4411-cf61-a405ef2f5605"
      },
      "execution_count": null,
      "outputs": [
        {
          "output_type": "stream",
          "name": "stdout",
          "text": [
            "3\n",
            "8\n",
            "[[[1 2 3 4]\n",
            "  [1 2 3 4]]]\n",
            "int64\n",
            "8\n"
          ]
        }
      ]
    },
    {
      "cell_type": "code",
      "source": [
        "import numpy as np\n",
        "data=[[[1,2,3,4],[1,2,3,4]]]\n",
        "a=np.array(data)\n",
        "\n",
        "\n",
        "리쉐입\n",
        "reshape 배열을 원하는 모양으로 생성 및 변형\n",
        "\n",
        "\n"
      ],
      "metadata": {
        "id": "cSm-iGJw2zp6"
      },
      "execution_count": null,
      "outputs": []
    },
    {
      "cell_type": "code",
      "source": [
        "import numpy as np\n",
        "x=np.array([[1,2,5,8],[1,3,5,8]])\n",
        "print(x.shape) # 차원조회  (2,4)\n",
        "print()\n",
        "print(x.reshape(-1,2))   #배열변형\n",
        "print()  \n",
        "print(x.reshape(2,-1).shape)  # -1 은 전체원소라는 뜻 ~ 전체원소중 어느것이라도 될 수 있다\n",
        "print()\n",
        "print(x.reshape(-1).shape) # 고차원은전체 저차원은 ?\n",
        "print()\n",
        "print(x.reshape(-1,2).shape)  # 저차원이 2개  고차원은 전체\n",
        "print()\n",
        "print(x.reshape(1,-1).shape)\n",
        "print()\n",
        "print(x.reshape(-1,1).shape)\n",
        "print()\n",
        "print(x.reshape(-1,2,2).shape)  # 2곱2곱2는 8개      저차원 2 2 는 정해지고  고차원 -1은 남은 것 담기\n",
        "print()\n",
        "print(x.reshape(-1,2,2,2).shape)    # 222는 명시적 표기 > 반드시 만족해야함     고차원-1 은 2곱2곱2 를 감싼 것\n",
        "# print(x.reshape(-1,2,2,2,2).shape)  # 2곱2곱2곱2= 16 원소는 8개 맞지 않음 에러\n",
        "print()\n",
        "print(x.reshape(2,2,2,-1).shape)\n",
        "print()\n",
        "print(x.reshape(8,-1).shape)\n",
        "print()\n",
        "print()\n",
        "print()\n",
        "print()\n",
        "import numpy as np\n",
        "x=np.array([[2],[1]])\n",
        "print(x.reshape(2,-1).shape)\n",
        "print(x.reshape(2,-1))\n",
        "print()\n",
        "print(x.reshape(2,1,-1))     # -1은 하나만 들어갈수잇다\n"
      ],
      "metadata": {
        "colab": {
          "base_uri": "https://localhost:8080/"
        },
        "id": "-y74KJCW3C1j",
        "outputId": "b5be7617-1164-4dcf-a19d-8fd05f619e40"
      },
      "execution_count": null,
      "outputs": [
        {
          "output_type": "stream",
          "name": "stdout",
          "text": [
            "(2, 4)\n",
            "\n",
            "[[1 2]\n",
            " [5 8]\n",
            " [1 3]\n",
            " [5 8]]\n",
            "\n",
            "(2, 4)\n",
            "\n",
            "(8,)\n",
            "\n",
            "(4, 2)\n",
            "\n",
            "(1, 8)\n",
            "\n",
            "(8, 1)\n",
            "\n",
            "(2, 2, 2)\n",
            "\n",
            "(1, 2, 2, 2)\n",
            "\n",
            "(2, 2, 2, 1)\n",
            "\n",
            "(8, 1)\n",
            "\n",
            "\n",
            "\n",
            "\n",
            "(2, 1)\n",
            "[[2]\n",
            " [1]]\n",
            "\n",
            "[[[2]]\n",
            "\n",
            " [[1]]]\n"
          ]
        }
      ]
    },
    {
      "cell_type": "code",
      "source": [
        "import numpy as np\n",
        "x=np.array([[1,2,5,8],[1,3,5,8]])\n",
        "x_data=np.array([1,2,3,4,5,6,7,8,9]) #원소9개\n",
        "#에러   x_data.reshape(2,-1)  #원소9개를 두칸으로 나눌 수 없음\n",
        "print(x_data.reshape(3,-1))\n",
        "print(x_data.reshape(3,-1).shape)\n",
        "\n",
        "t_x=x_data.reshape(9,-1)\n",
        "print()\n",
        "print(t_x)\n",
        "print()\n",
        "print(t_x.flatten())      #1차원으로 바꾸기  \n",
        "print(t_x.reshape(-1))\n"
      ],
      "metadata": {
        "colab": {
          "base_uri": "https://localhost:8080/"
        },
        "id": "gC3VvBbp7jdu",
        "outputId": "ff41ec17-c1ba-497b-f5fe-2727e787b804"
      },
      "execution_count": null,
      "outputs": [
        {
          "output_type": "stream",
          "name": "stdout",
          "text": [
            "[[1 2 3]\n",
            " [4 5 6]\n",
            " [7 8 9]]\n",
            "(3, 3)\n",
            "\n",
            "[[1]\n",
            " [2]\n",
            " [3]\n",
            " [4]\n",
            " [5]\n",
            " [6]\n",
            " [7]\n",
            " [8]\n",
            " [9]]\n",
            "\n",
            "[1 2 3 4 5 6 7 8 9]\n",
            "[1 2 3 4 5 6 7 8 9]\n",
            "\n",
            "\n",
            "\n",
            "\n"
          ]
        }
      ]
    },
    {
      "cell_type": "code",
      "source": [
        "import numpy as np\n",
        "\n",
        "\n",
        "x=np.array([[1,2,3],[4,5,6]])\n",
        "print(x[0][2])\n",
        "print(x[0,2]) # 위랑 같은 것"
      ],
      "metadata": {
        "colab": {
          "base_uri": "https://localhost:8080/"
        },
        "id": "Skx8_0VC83R0",
        "outputId": "74db9479-6ac0-4574-ab94-488535962f80"
      },
      "execution_count": null,
      "outputs": [
        {
          "output_type": "stream",
          "name": "stdout",
          "text": [
            "3\n",
            "3\n"
          ]
        }
      ]
    },
    {
      "cell_type": "code",
      "source": [
        "import numpy as np\n",
        "\n",
        "\n",
        "x=np.array(              [               [   [1,2,3] , [4,5,6]  ]      ,    [ [1,2,3],[4,5,6]   ]            ]                    )\n",
        "print(x[0][1])\n",
        "print(x[0,1,1]) #5\n",
        "\n",
        "x[0,0,1]=10\n",
        "print(x)\n",
        "\n",
        "#이뮤터블\n",
        "#슬라이싱 - 새로만드는 거라 이뮤터블 객체도 가능\n",
        "#슬라이싱 가능\n",
        "["
      ],
      "metadata": {
        "colab": {
          "base_uri": "https://localhost:8080/"
        },
        "id": "GnRl3yqH9cIv",
        "outputId": "6fd374ca-7d7c-474f-a3a0-aba32121bf3f"
      },
      "execution_count": null,
      "outputs": [
        {
          "output_type": "stream",
          "name": "stdout",
          "text": [
            "[4 5 6]\n",
            "5\n",
            "[[[ 1 10  3]\n",
            "  [ 4  5  6]]\n",
            "\n",
            " [[ 1  2  3]\n",
            "  [ 4  5  6]]]\n"
          ]
        }
      ]
    },
    {
      "cell_type": "code",
      "source": [
        "slicing슬라이싱\n",
        "    "
      ],
      "metadata": {
        "id": "llpK0c7c-h58"
      },
      "execution_count": null,
      "outputs": []
    },
    {
      "cell_type": "code",
      "source": [
        "import numpy as np\n",
        "x=np.array([[1,2,3,4,5],[6,7,8,9,10]])\n",
        "print(x)\n",
        "print()\n",
        "print(x[0])\n",
        "print()\n",
        "print(x[0:])\n",
        "print()\n",
        "print(x[0:,2])  #고차원에선 0부터끝까지 저차원에선 2인덱값만\n",
        "print()\n",
        "print()\n",
        "print()"
      ],
      "metadata": {
        "colab": {
          "base_uri": "https://localhost:8080/"
        },
        "id": "UIoj5t_n-rT4",
        "outputId": "637c7939-d6a3-4622-8899-bbdb7ac21983"
      },
      "execution_count": null,
      "outputs": [
        {
          "output_type": "stream",
          "name": "stdout",
          "text": [
            "[[ 1  2  3  4  5]\n",
            " [ 6  7  8  9 10]]\n",
            "\n",
            "[1 2 3 4 5]\n",
            "\n",
            "[[ 1  2  3  4  5]\n",
            " [ 6  7  8  9 10]]\n",
            "\n",
            "[3 8]\n",
            "\n",
            "\n",
            "\n"
          ]
        }
      ]
    },
    {
      "cell_type": "code",
      "source": [
        "import numpy as np\n",
        "x=np.array([[1,2,3,4,5],[6,7,8,9,10],[1,2,3,4,5]])\n",
        "print(x)\n",
        "print()\n",
        "print(x[0::2,2])     #(시작:끝:스텝)\n",
        "print()\n",
        "print()"
      ],
      "metadata": {
        "colab": {
          "base_uri": "https://localhost:8080/"
        },
        "id": "Ye-wWWeL_4iY",
        "outputId": "424d9e73-5bf4-4a12-af7b-bf92dffdfb33"
      },
      "execution_count": null,
      "outputs": [
        {
          "output_type": "stream",
          "name": "stdout",
          "text": [
            "[[ 1  2  3  4  5]\n",
            " [ 6  7  8  9 10]\n",
            " [ 1  2  3  4  5]]\n",
            "\n",
            "[3 3]\n",
            "\n",
            "\n"
          ]
        }
      ]
    },
    {
      "cell_type": "code",
      "source": [
        "import numpy as np\n",
        "x=np.array([[1,2,3,4,5],[6,7,8,9,10],[1,2,3,4,5],[6,7,8,9,10]])\n",
        "print(x)\n",
        "print()\n",
        "print(x[0::-2,2])     #(시작:끝:스텝)  # 0인덱에서 오른쪽에서 왼쪽으로 스캔 0인덱만 출력 > 0인덱2인덱\n",
        "print(x[0::-2][2]) #위와같음\n",
        "print()"
      ],
      "metadata": {
        "colab": {
          "base_uri": "https://localhost:8080/"
        },
        "id": "Z55r2xGqAVT5",
        "outputId": "99178bd4-a1dc-4619-a601-71271bdf76e9"
      },
      "execution_count": null,
      "outputs": [
        {
          "output_type": "stream",
          "name": "stdout",
          "text": [
            "[[ 1  2  3  4  5]\n",
            " [ 6  7  8  9 10]\n",
            " [ 1  2  3  4  5]\n",
            " [ 6  7  8  9 10]]\n",
            "\n",
            "[3]\n",
            "\n",
            "\n"
          ]
        }
      ]
    },
    {
      "cell_type": "code",
      "source": [
        "import numpy as np\n",
        "x=np.array([[[1,2,3,4,5],[6,7,8,9,10],[1,2,3,4,5],[6,7,8,9,10]]])\n",
        "print(x[0,0))  #3차원에서 두번차원벗기니 1차원데이터\n",
        "print(x[0,0,0)) #값 나온다\n",
        "print()"
      ],
      "metadata": {
        "id": "6qlwA_Y-DSrU"
      },
      "execution_count": null,
      "outputs": []
    },
    {
      "cell_type": "code",
      "source": [
        "import numpy as np\n",
        "x=np.array([[1,2,3,4,5],[6,7,8,9,10]])\n",
        "print(x[:,2:])\n",
        "print()\n",
        "print()\n",
        "print()\n",
        "print()\n",
        "print()\n"
      ],
      "metadata": {
        "colab": {
          "base_uri": "https://localhost:8080/"
        },
        "id": "AsKPCH3kEF1z",
        "outputId": "72185b20-a260-4d9e-d253-e7226113b128"
      },
      "execution_count": null,
      "outputs": [
        {
          "output_type": "stream",
          "name": "stdout",
          "text": [
            "[[ 3  4  5]\n",
            " [ 8  9 10]]\n",
            "\n",
            "\n",
            "\n",
            "\n",
            "\n"
          ]
        }
      ]
    },
    {
      "cell_type": "code",
      "source": [
        "import numpy as np\n",
        "x=np.array([[1,2,3,4,5],[6,7,8,9,10]])\n",
        "print(x[:,::2])\n",
        "print()\n",
        "print()\n",
        "print()\n",
        "print()\n",
        "print()\n"
      ],
      "metadata": {
        "colab": {
          "base_uri": "https://localhost:8080/"
        },
        "id": "-LEurtxEEf3u",
        "outputId": "cbab9e14-f0e7-4871-e643-a04c9edb8146"
      },
      "execution_count": null,
      "outputs": [
        {
          "output_type": "stream",
          "name": "stdout",
          "text": [
            "[[ 1  3  5]\n",
            " [ 6  8 10]]\n",
            "\n",
            "\n",
            "\n",
            "\n",
            "\n"
          ]
        }
      ]
    },
    {
      "cell_type": "code",
      "source": [
        "import numpy as np\n",
        "x=np.array([[1,2,3,4,5],[6,7,8,9,10],[11,12,13,14,15]])\n",
        "print(x[::2,::3])\n",
        "print()\n",
        "print()\n",
        "print()\n",
        "\n"
      ],
      "metadata": {
        "colab": {
          "base_uri": "https://localhost:8080/"
        },
        "id": "9ni_6lvwEo1R",
        "outputId": "63fe6e1b-1eda-4098-b261-6eabdc8d98f1"
      },
      "execution_count": null,
      "outputs": [
        {
          "output_type": "stream",
          "name": "stdout",
          "text": [
            "[[ 1  4]\n",
            " [11 14]]\n",
            "\n",
            "\n",
            "\n",
            "\n",
            "\n"
          ]
        }
      ]
    },
    {
      "cell_type": "code",
      "source": [
        "import numpy as np\n",
        "x=np.array([[1,2,3,4,5],[6,7,8,9,10],[11,12,13,14,15]])\n",
        "print(x[::2,::3])\n",
        "print()\n",
        "\n",
        "t_d = np.array(list(range(10)))\n",
        "print(t_d)"
      ],
      "metadata": {
        "colab": {
          "base_uri": "https://localhost:8080/"
        },
        "id": "cwAAsOMgFQe-",
        "outputId": "9718ed2a-0aa4-47de-8078-974982753923"
      },
      "execution_count": null,
      "outputs": [
        {
          "output_type": "stream",
          "name": "stdout",
          "text": [
            "[[ 1  4]\n",
            " [11 14]]\n",
            "\n",
            "[0 1 2 3 4 5 6 7 8 9]\n"
          ]
        }
      ]
    },
    {
      "cell_type": "code",
      "source": [
        "import numpy as np\n",
        "x=np.array([[1,2,3,4,5],[6,7,8,9,10],[11,12,13,14,15]])\n",
        "print(x[::2,::3])\n",
        "print()\n",
        "\n",
        "t_d = np.array(range(10))\n",
        "print(t_d)"
      ],
      "metadata": {
        "colab": {
          "base_uri": "https://localhost:8080/"
        },
        "id": "E1Py9_rCFl-6",
        "outputId": "280ae260-76d3-4fcf-cb28-bb43f574beae"
      },
      "execution_count": null,
      "outputs": [
        {
          "output_type": "stream",
          "name": "stdout",
          "text": [
            "[[ 1  4]\n",
            " [11 14]]\n",
            "\n",
            "[0 1 2 3 4 5 6 7 8 9]\n"
          ]
        }
      ]
    },
    {
      "cell_type": "code",
      "source": [
        "import numpy as np\n",
        "x=np.array([[1,2,3,4,5],[6,7,8,9,10],[11,12,13,14,15]])\n",
        " \n",
        "\n",
        "t_d = np.arange(10)\n",
        "print(t_d)"
      ],
      "metadata": {
        "colab": {
          "base_uri": "https://localhost:8080/"
        },
        "id": "bo9wnMyWFqXU",
        "outputId": "b7abbb1d-fb1e-401f-a448-4f1bd2f6f744"
      },
      "execution_count": null,
      "outputs": [
        {
          "output_type": "stream",
          "name": "stdout",
          "text": [
            "[0 1 2 3 4 5 6 7 8 9]\n"
          ]
        }
      ]
    },
    {
      "cell_type": "code",
      "source": [
        "import numpy as np\n",
        "x=np.array([[1,2,3,4,5],[6,7,8,9,10],[11,12,13,14,15]])\n",
        " \n",
        "\n",
        "t_d = np.arange(1,10,2) #1부터10까지 2스텝\n",
        "print(t_d)"
      ],
      "metadata": {
        "colab": {
          "base_uri": "https://localhost:8080/"
        },
        "id": "1G7haXhCF0Sj",
        "outputId": "33ecb369-7040-4fa3-9fdb-6d991ecfeb32"
      },
      "execution_count": null,
      "outputs": [
        {
          "output_type": "stream",
          "name": "stdout",
          "text": [
            "[1 3 5 7 9]\n"
          ]
        }
      ]
    },
    {
      "cell_type": "code",
      "source": [
        "import numpy as np\n",
        "x=np.array([[1,2,3,4,5],[6,7,8,9,10],[11,12,13,14,15]])\n",
        " \n",
        "\n",
        "t_d = np.arange(1,10,2) #1부터10까지 2스텝\n",
        "print(t_d)\n",
        "k=np.ones(5) #일로 채우기 5개\n",
        "print(k)"
      ],
      "metadata": {
        "colab": {
          "base_uri": "https://localhost:8080/"
        },
        "id": "-bKRPZwfF8e2",
        "outputId": "58d180b2-7056-4adf-f3ae-b2dad2bf4109"
      },
      "execution_count": null,
      "outputs": [
        {
          "output_type": "stream",
          "name": "stdout",
          "text": [
            "[1 3 5 7 9]\n",
            "[1. 1. 1. 1. 1.]\n"
          ]
        }
      ]
    },
    {
      "cell_type": "code",
      "source": [
        "import numpy as np\n",
        "x=np.array([[1,2,3,4,5],[6,7,8,9,10],[11,12,13,14,15]])\n",
        " \n",
        "k=np.ones(5) #일로 채우기 5개\n",
        "print(k)\n",
        "print()\n",
        "k=np.ones((5,5)) #일로 채우기 5,5개\n",
        "print(k)\n",
        "print()\n",
        "print()\n",
        "print()\n",
        "k=np.ones((5,5,5)) #일로 채우기 5,5개\n",
        "print(k)"
      ],
      "metadata": {
        "colab": {
          "base_uri": "https://localhost:8080/"
        },
        "id": "jOs0Z_eCGKhO",
        "outputId": "b7523e16-0622-4236-a588-f574b103c898"
      },
      "execution_count": null,
      "outputs": [
        {
          "output_type": "stream",
          "name": "stdout",
          "text": [
            "[1. 1. 1. 1. 1.]\n",
            "\n",
            "[[1. 1. 1. 1. 1.]\n",
            " [1. 1. 1. 1. 1.]\n",
            " [1. 1. 1. 1. 1.]\n",
            " [1. 1. 1. 1. 1.]\n",
            " [1. 1. 1. 1. 1.]]\n",
            "\n",
            "\n",
            "\n",
            "[[[1. 1. 1. 1. 1.]\n",
            "  [1. 1. 1. 1. 1.]\n",
            "  [1. 1. 1. 1. 1.]\n",
            "  [1. 1. 1. 1. 1.]\n",
            "  [1. 1. 1. 1. 1.]]\n",
            "\n",
            " [[1. 1. 1. 1. 1.]\n",
            "  [1. 1. 1. 1. 1.]\n",
            "  [1. 1. 1. 1. 1.]\n",
            "  [1. 1. 1. 1. 1.]\n",
            "  [1. 1. 1. 1. 1.]]\n",
            "\n",
            " [[1. 1. 1. 1. 1.]\n",
            "  [1. 1. 1. 1. 1.]\n",
            "  [1. 1. 1. 1. 1.]\n",
            "  [1. 1. 1. 1. 1.]\n",
            "  [1. 1. 1. 1. 1.]]\n",
            "\n",
            " [[1. 1. 1. 1. 1.]\n",
            "  [1. 1. 1. 1. 1.]\n",
            "  [1. 1. 1. 1. 1.]\n",
            "  [1. 1. 1. 1. 1.]\n",
            "  [1. 1. 1. 1. 1.]]\n",
            "\n",
            " [[1. 1. 1. 1. 1.]\n",
            "  [1. 1. 1. 1. 1.]\n",
            "  [1. 1. 1. 1. 1.]\n",
            "  [1. 1. 1. 1. 1.]\n",
            "  [1. 1. 1. 1. 1.]]]\n"
          ]
        }
      ]
    },
    {
      "cell_type": "code",
      "source": [
        "# 영으로채우기 제로스\n",
        "\n",
        "import numpy as np\n",
        "x=np.array([[1,2,3,4,5],[6,7,8,9,10],[11,12,13,14,15]])\n",
        " \n",
        "k=np.ones(5) #일로 채우기 5개\n",
        "print(k)\n",
        "print()\n",
        "k=np.ones((5,5)) #일로 채우기 5,5개\n",
        "print(k)\n",
        "print()\n",
        "print()\n",
        "print()\n",
        "k=np.zeros((5,5,5)) #일로 채우기 5,5개\n",
        "print(k)\n",
        "\n"
      ],
      "metadata": {
        "colab": {
          "base_uri": "https://localhost:8080/",
          "height": 916
        },
        "id": "UpoUibcpGp2g",
        "outputId": "03e5ddd2-b72b-4e2e-9c60-bc99fbd567d4"
      },
      "execution_count": null,
      "outputs": [
        {
          "output_type": "stream",
          "name": "stdout",
          "text": [
            "[1. 1. 1. 1. 1.]\n",
            "\n",
            "[[1. 1. 1. 1. 1.]\n",
            " [1. 1. 1. 1. 1.]\n",
            " [1. 1. 1. 1. 1.]\n",
            " [1. 1. 1. 1. 1.]\n",
            " [1. 1. 1. 1. 1.]]\n",
            "\n",
            "\n",
            "\n",
            "[[[0. 0. 0. 0. 0.]\n",
            "  [0. 0. 0. 0. 0.]\n",
            "  [0. 0. 0. 0. 0.]\n",
            "  [0. 0. 0. 0. 0.]\n",
            "  [0. 0. 0. 0. 0.]]\n",
            "\n",
            " [[0. 0. 0. 0. 0.]\n",
            "  [0. 0. 0. 0. 0.]\n",
            "  [0. 0. 0. 0. 0.]\n",
            "  [0. 0. 0. 0. 0.]\n",
            "  [0. 0. 0. 0. 0.]]\n",
            "\n",
            " [[0. 0. 0. 0. 0.]\n",
            "  [0. 0. 0. 0. 0.]\n",
            "  [0. 0. 0. 0. 0.]\n",
            "  [0. 0. 0. 0. 0.]\n",
            "  [0. 0. 0. 0. 0.]]\n",
            "\n",
            " [[0. 0. 0. 0. 0.]\n",
            "  [0. 0. 0. 0. 0.]\n",
            "  [0. 0. 0. 0. 0.]\n",
            "  [0. 0. 0. 0. 0.]\n",
            "  [0. 0. 0. 0. 0.]]\n",
            "\n",
            " [[0. 0. 0. 0. 0.]\n",
            "  [0. 0. 0. 0. 0.]\n",
            "  [0. 0. 0. 0. 0.]\n",
            "  [0. 0. 0. 0. 0.]\n",
            "  [0. 0. 0. 0. 0.]]]\n"
          ]
        },
        {
          "output_type": "error",
          "ename": "AttributeError",
          "evalue": "ignored",
          "traceback": [
            "\u001b[0;31m---------------------------------------------------------------------------\u001b[0m",
            "\u001b[0;31mAttributeError\u001b[0m                            Traceback (most recent call last)",
            "\u001b[0;32m<ipython-input-113-4d5619d8d184>\u001b[0m in \u001b[0;36m<module>\u001b[0;34m()\u001b[0m\n\u001b[1;32m     15\u001b[0m \u001b[0mprint\u001b[0m\u001b[0;34m(\u001b[0m\u001b[0mk\u001b[0m\u001b[0;34m)\u001b[0m\u001b[0;34m\u001b[0m\u001b[0;34m\u001b[0m\u001b[0m\n\u001b[1;32m     16\u001b[0m \u001b[0;34m\u001b[0m\u001b[0m\n\u001b[0;32m---> 17\u001b[0;31m \u001b[0mprint\u001b[0m\u001b[0;34m(\u001b[0m\u001b[0mk\u001b[0m\u001b[0;34m.\u001b[0m\u001b[0mempty\u001b[0m\u001b[0;34m(\u001b[0m\u001b[0;36m5\u001b[0m\u001b[0;34m,\u001b[0m\u001b[0;36m4\u001b[0m\u001b[0;34m)\u001b[0m\u001b[0;34m)\u001b[0m\u001b[0;34m\u001b[0m\u001b[0;34m\u001b[0m\u001b[0m\n\u001b[0m",
            "\u001b[0;31mAttributeError\u001b[0m: 'numpy.ndarray' object has no attribute 'empty'"
          ]
        }
      ]
    },
    {
      "cell_type": "code",
      "source": [
        " #엠티\n",
        " \n",
        "import numpy as np\n",
        "x=np.array([[1,2,3,4,5],[6,7,8,9,10],[11,12,13,14,15]])\n",
        "\n",
        "print(np.empty(5,4))\n",
        "\n",
        "\n"
      ],
      "metadata": {
        "colab": {
          "base_uri": "https://localhost:8080/",
          "height": 245
        },
        "id": "zpW3YBW3Gx-q",
        "outputId": "377e7b7b-ea4e-4801-ddfc-e217fc8ed0de"
      },
      "execution_count": null,
      "outputs": [
        {
          "output_type": "error",
          "ename": "TypeError",
          "evalue": "ignored",
          "traceback": [
            "\u001b[0;31m---------------------------------------------------------------------------\u001b[0m",
            "\u001b[0;31mTypeError\u001b[0m                                 Traceback (most recent call last)",
            "\u001b[0;32m<ipython-input-121-b28d3197cbed>\u001b[0m in \u001b[0;36m<module>\u001b[0;34m()\u001b[0m\n\u001b[1;32m      4\u001b[0m \u001b[0mx\u001b[0m\u001b[0;34m=\u001b[0m\u001b[0mnp\u001b[0m\u001b[0;34m.\u001b[0m\u001b[0marray\u001b[0m\u001b[0;34m(\u001b[0m\u001b[0;34m[\u001b[0m\u001b[0;34m[\u001b[0m\u001b[0;36m1\u001b[0m\u001b[0;34m,\u001b[0m\u001b[0;36m2\u001b[0m\u001b[0;34m,\u001b[0m\u001b[0;36m3\u001b[0m\u001b[0;34m,\u001b[0m\u001b[0;36m4\u001b[0m\u001b[0;34m,\u001b[0m\u001b[0;36m5\u001b[0m\u001b[0;34m]\u001b[0m\u001b[0;34m,\u001b[0m\u001b[0;34m[\u001b[0m\u001b[0;36m6\u001b[0m\u001b[0;34m,\u001b[0m\u001b[0;36m7\u001b[0m\u001b[0;34m,\u001b[0m\u001b[0;36m8\u001b[0m\u001b[0;34m,\u001b[0m\u001b[0;36m9\u001b[0m\u001b[0;34m,\u001b[0m\u001b[0;36m10\u001b[0m\u001b[0;34m]\u001b[0m\u001b[0;34m,\u001b[0m\u001b[0;34m[\u001b[0m\u001b[0;36m11\u001b[0m\u001b[0;34m,\u001b[0m\u001b[0;36m12\u001b[0m\u001b[0;34m,\u001b[0m\u001b[0;36m13\u001b[0m\u001b[0;34m,\u001b[0m\u001b[0;36m14\u001b[0m\u001b[0;34m,\u001b[0m\u001b[0;36m15\u001b[0m\u001b[0;34m]\u001b[0m\u001b[0;34m]\u001b[0m\u001b[0;34m)\u001b[0m\u001b[0;34m\u001b[0m\u001b[0;34m\u001b[0m\u001b[0m\n\u001b[1;32m      5\u001b[0m \u001b[0;34m\u001b[0m\u001b[0m\n\u001b[0;32m----> 6\u001b[0;31m \u001b[0mprint\u001b[0m\u001b[0;34m(\u001b[0m\u001b[0mnp\u001b[0m\u001b[0;34m.\u001b[0m\u001b[0mempty\u001b[0m\u001b[0;34m(\u001b[0m\u001b[0;36m5\u001b[0m\u001b[0;34m,\u001b[0m\u001b[0;36m4\u001b[0m\u001b[0;34m)\u001b[0m\u001b[0;34m)\u001b[0m\u001b[0;34m\u001b[0m\u001b[0;34m\u001b[0m\u001b[0m\n\u001b[0m\u001b[1;32m      7\u001b[0m \u001b[0;34m\u001b[0m\u001b[0m\n\u001b[1;32m      8\u001b[0m \u001b[0;34m\u001b[0m\u001b[0m\n",
            "\u001b[0;31mTypeError\u001b[0m: Cannot interpret '4' as a data type"
          ]
        }
      ]
    },
    {
      "cell_type": "code",
      "source": [
        "#0으로된 2,3행열을 만드시오\n",
        "\n",
        "\n",
        "import numpy as np\n",
        "x=np.zeros((2,3))\n",
        "print(x)"
      ],
      "metadata": {
        "colab": {
          "base_uri": "https://localhost:8080/"
        },
        "id": "nksNIm2FHnV3",
        "outputId": "a2a14d6c-414a-4691-ecaf-765f6b9d81dc"
      },
      "execution_count": null,
      "outputs": [
        {
          "output_type": "stream",
          "name": "stdout",
          "text": [
            "[[0. 0. 0.]\n",
            " [0. 0. 0.]]\n"
          ]
        }
      ]
    },
    {
      "cell_type": "code",
      "source": [
        "# 1~100R까지 스텝2로된 배열\n",
        "\n",
        "print(np.arange(1,101,2))\n"
      ],
      "metadata": {
        "colab": {
          "base_uri": "https://localhost:8080/"
        },
        "id": "eUaHXidNHyRt",
        "outputId": "6c6ec20a-b0aa-46e0-8895-46b738abbdee"
      },
      "execution_count": null,
      "outputs": [
        {
          "output_type": "stream",
          "name": "stdout",
          "text": [
            "[ 1  3  5  7  9 11 13 15 17 19 21 23 25 27 29 31 33 35 37 39 41 43 45 47\n",
            " 49 51 53 55 57 59 61 63 65 67 69 71 73 75 77 79 81 83 85 87 89 91 93 95\n",
            " 97 99]\n"
          ]
        }
      ]
    },
    {
      "cell_type": "code",
      "source": [
        "print(np.zeros((5,5))+10)"
      ],
      "metadata": {
        "colab": {
          "base_uri": "https://localhost:8080/"
        },
        "id": "zmxsHBfwIYRm",
        "outputId": "9036c47a-20fd-46e0-d23c-b2c89ce3142a"
      },
      "execution_count": null,
      "outputs": [
        {
          "output_type": "stream",
          "name": "stdout",
          "text": [
            "[[10. 10. 10. 10. 10.]\n",
            " [10. 10. 10. 10. 10.]\n",
            " [10. 10. 10. 10. 10.]\n",
            " [10. 10. 10. 10. 10.]\n",
            " [10. 10. 10. 10. 10.]]\n"
          ]
        }
      ]
    },
    {
      "cell_type": "code",
      "source": [
        "넘파이\n",
        "\n",
        "identity함수\n",
        "  단위행렬(i행렬)을 생성\n",
        "   매개변수n 으로 n*n단위행렬을 생성\n",
        "\n",
        "eye함수\n",
        "\n",
        "diag 함수\n"
      ],
      "metadata": {
        "id": "Nix63XvGIwEm"
      },
      "execution_count": null,
      "outputs": []
    },
    {
      "cell_type": "code",
      "source": [
        "uniform 함수:균등분포함수\n",
        "   np.random.uniform (시작,끝,데이터수)\n",
        "normal 함수 : 정규분포함수\n",
        "    np.random.normal (평균,분산,데이터수)"
      ],
      "metadata": {
        "id": "bvN2QTjdJbJ3"
      },
      "execution_count": null,
      "outputs": []
    },
    {
      "cell_type": "code",
      "source": [
        "축 axis\n",
        "  0 행 방향   1열 방향\n",
        "  axis=0  axis=1\n",
        "\n",
        "sum함수\n",
        "\n",
        "sum(axis=0)\n",
        "행방향 합, , , ,\n",
        "\n"
      ],
      "metadata": {
        "id": "GZbfGdlbKSJf"
      },
      "execution_count": null,
      "outputs": []
    },
    {
      "cell_type": "code",
      "source": [
        "import numpy as np\n",
        "x=np.arange(1,13).reshape(3,4)    # 3,4행렬\n",
        "print(x)\n",
        "\n",
        "end_x = np.array([x,x,x])     3,4차원인 x를 세개 감싸서  3,3,4 차원으로 만들었다\n",
        "\n",
        "print(end_x.shape) #차원\n"
      ],
      "metadata": {
        "colab": {
          "base_uri": "https://localhost:8080/"
        },
        "id": "3Q9pTxndLU2G",
        "outputId": "789214f7-ee7a-4b37-fa82-de04686f7858"
      },
      "execution_count": null,
      "outputs": [
        {
          "output_type": "stream",
          "name": "stdout",
          "text": [
            "[[ 1  2  3  4]\n",
            " [ 5  6  7  8]\n",
            " [ 9 10 11 12]]\n",
            "(3, 3, 4)\n"
          ]
        }
      ]
    },
    {
      "cell_type": "code",
      "source": [
        "import numpy as np\n",
        "x=np.arange(1,13).reshape(3,4)    # 3,4행렬\n",
        "print(x)\n",
        "print()\n",
        "end_x = np.array([x,x,x])    # 3,4차원인 x를 세개 감싸서  3,3,4 차원으로 만들었다\n",
        "print()\n",
        "print(end_x.shape) #차원\n",
        "print()\n",
        "print(end_x.sum()) #차원\n",
        "print()\n",
        "print(end_x.sum(axis=0))   # 0젤 높은 차원의 축\n",
        "print()\n",
        "print(end_x.sum(axis=1))\n",
        "print()\n",
        "print(end_x.sum(axis=2))\n",
        "print()\n",
        "print()                           #    (3,3,4) 행렬\n",
        "print()                  #     axis  (  0 1 2 ) 축방향    #숫자하나 올릴수록 차원하나 벗기고 그 기준으로 연산ㄷ\n",
        "print()\n",
        "print(end_x)"
      ],
      "metadata": {
        "colab": {
          "base_uri": "https://localhost:8080/"
        },
        "id": "ugzqel8UMHeZ",
        "outputId": "d7cb5e91-5742-4189-d254-5fe4d0494b55"
      },
      "execution_count": null,
      "outputs": [
        {
          "output_type": "stream",
          "name": "stdout",
          "text": [
            "[[ 1  2  3  4]\n",
            " [ 5  6  7  8]\n",
            " [ 9 10 11 12]]\n",
            "\n",
            "\n",
            "(3, 3, 4)\n",
            "\n",
            "234\n",
            "\n",
            "[[ 3  6  9 12]\n",
            " [15 18 21 24]\n",
            " [27 30 33 36]]\n",
            "\n",
            "[[15 18 21 24]\n",
            " [15 18 21 24]\n",
            " [15 18 21 24]]\n",
            "\n",
            "[[10 26 42]\n",
            " [10 26 42]\n",
            " [10 26 42]]\n",
            "\n",
            "\n",
            "\n",
            "[[[ 1  2  3  4]\n",
            "  [ 5  6  7  8]\n",
            "  [ 9 10 11 12]]\n",
            "\n",
            " [[ 1  2  3  4]\n",
            "  [ 5  6  7  8]\n",
            "  [ 9 10 11 12]]\n",
            "\n",
            " [[ 1  2  3  4]\n",
            "  [ 5  6  7  8]\n",
            "  [ 9 10 11 12]]]\n"
          ]
        }
      ]
    },
    {
      "cell_type": "code",
      "source": [
        " 넘파이는 직접 원소데이터를 저장하기 떄문에 저차원 밸류의 크기들이 전부 같아야 한다.\n",
        " "
      ],
      "metadata": {
        "id": "N56Wa6J-Olal"
      },
      "execution_count": null,
      "outputs": []
    },
    {
      "cell_type": "code",
      "source": [
        "import numpy as np\n",
        "\n",
        "x=np.array([[1,2,3]])\n",
        "y=np.array([[1],[2],[3]])\n",
        "print(x.shape,y.shape)\n"
      ],
      "metadata": {
        "colab": {
          "base_uri": "https://localhost:8080/"
        },
        "id": "-t1deFMdSAd7",
        "outputId": "7b214ccd-e6ec-4d94-cf40-b01cd25e6eab"
      },
      "execution_count": 142,
      "outputs": [
        {
          "output_type": "stream",
          "name": "stdout",
          "text": [
            "(1, 3) (3, 1)\n"
          ]
        }
      ]
    },
    {
      "cell_type": "code",
      "source": [
        "import numpy as np\n",
        "\n",
        "x=np.array([[1,2,3]])\n",
        "y=np.array([[1],[2],[3]])\n",
        "print(x.shape,y.shape)\n",
        "#x.vstack()\n",
        "#print(np.vstack(x.T,y))\n",
        "\n",
        "print(x)\n",
        "print(x.T)\n",
        "\n",
        "\n",
        "\n",
        "\n"
      ],
      "metadata": {
        "colab": {
          "base_uri": "https://localhost:8080/"
        },
        "id": "PE49jub4Sa5x",
        "outputId": "1781eea7-2fd1-47a3-e772-2c20a48db8d4"
      },
      "execution_count": 146,
      "outputs": [
        {
          "output_type": "stream",
          "name": "stdout",
          "text": [
            "(1, 3) (3, 1)\n",
            "[[1 2 3]]\n",
            "[[1]\n",
            " [2]\n",
            " [3]]\n"
          ]
        }
      ]
    },
    {
      "cell_type": "code",
      "source": [
        "import numpy as np\n",
        "\n",
        "x=np.array([[1,2,3]])\n",
        "y=np.array([[1],[2],[3]])\n",
        "print(x.shape,y.shape)\n",
        "# x를 세로로 돌리고 쌓기위한 \n",
        "\n",
        "#x.vstack()\n",
        "print(np.vstack((x.T,y)))\n",
        "\n",
        "# T란 트랜스포즈\n",
        "\n",
        "#에이치스택\n",
        "print(np.hstack((x.T,y)))\n",
        "\n",
        "\n"
      ],
      "metadata": {
        "colab": {
          "base_uri": "https://localhost:8080/"
        },
        "id": "_p4qREolTmD3",
        "outputId": "14ffe99c-51c4-4522-eb8b-f6c2a9ea6953"
      },
      "execution_count": 149,
      "outputs": [
        {
          "output_type": "stream",
          "name": "stdout",
          "text": [
            "(1, 3) (3, 1)\n",
            "[[1]\n",
            " [2]\n",
            " [3]\n",
            " [1]\n",
            " [2]\n",
            " [3]]\n",
            "[[1 1]\n",
            " [2 2]\n",
            " [3 3]]\n"
          ]
        }
      ]
    },
    {
      "cell_type": "code",
      "source": [
        "concatenate함수\n",
        "축으로붇이기"
      ],
      "metadata": {
        "id": "lJQl3GXGUX1V"
      },
      "execution_count": null,
      "outputs": []
    },
    {
      "cell_type": "code",
      "source": [
        "v1=np.array([[1,2],[3,4]])\n",
        "v2=np.array([[5,6]])\n",
        "print(v1.shape,v2.shape)\n",
        "print(np.concatenate((v1,v2))) #디폴트 엑시스=0\n",
        "print(np.concatenate((v1,v2),axis=0))\n",
        "#에러 print(np.concatenate((v1,v2),axis=1))"
      ],
      "metadata": {
        "colab": {
          "base_uri": "https://localhost:8080/"
        },
        "id": "UBfBp3W1U6Y6",
        "outputId": "29d09866-25ad-4c6b-e21e-02122f8912b8"
      },
      "execution_count": 158,
      "outputs": [
        {
          "output_type": "stream",
          "name": "stdout",
          "text": [
            "(2, 2) (1, 2)\n",
            "[[1 2]\n",
            " [3 4]\n",
            " [5 6]]\n",
            "[[1 2]\n",
            " [3 4]\n",
            " [5 6]]\n"
          ]
        }
      ]
    },
    {
      "cell_type": "code",
      "source": [
        "v1=np.array([[1,2],[3,4]])\n",
        "v2=np.array([[5,6]])\n",
        "print(v1.shape,v2.shape)\n",
        "print(v1.shape,v2.T.shape)\n",
        "print(np.concatenate((v1,v2))) #디폴트 엑시스=0\n",
        "print(np.concatenate((v1,v2),axis=0))\n",
        "#에러 print(np.concatenate((v1,v2),axis=1))"
      ],
      "metadata": {
        "colab": {
          "base_uri": "https://localhost:8080/"
        },
        "id": "nzRiaf5kVmzO",
        "outputId": "c466f67c-426b-4171-bba0-5c0537963002"
      },
      "execution_count": 160,
      "outputs": [
        {
          "output_type": "stream",
          "name": "stdout",
          "text": [
            "(2, 2) (1, 2)\n",
            "(2, 2) (2, 1)\n",
            "[[1 2]\n",
            " [3 4]\n",
            " [5 6]]\n",
            "[[1 2]\n",
            " [3 4]\n",
            " [5 6]]\n"
          ]
        }
      ]
    },
    {
      "cell_type": "code",
      "source": [
        "사칙연산함수\n",
        " 넘파이는 파이썬과 동일하게 배열 간 사칙연산 지원\n",
        " 행렬과 행려르 벡터와 벡터 간 사칙연산이 가능\n",
        " \n",
        " 같은 배열의 구조일 때 요소별 연산\n",
        " 요소별 연산: 두배열의 구조가 동일할 경우 같은 인덱스 요소들끼리 연산\n",
        "\n"
      ],
      "metadata": {
        "id": "YeK2SoTZWYTV"
      },
      "execution_count": null,
      "outputs": []
    },
    {
      "cell_type": "code",
      "source": [
        "import math\n",
        "\n",
        "h=np.array([1.83 , 1.76 , 1.69 , 1.86 , 1.77 , 1.73])\n",
        "w= np.array([ 86, 74 , 59 , 95 , 80 , 68 ])\n",
        "\n",
        "bmi = w / h**2 \n",
        "print(bmi)\n",
        "print(np.trunc(bmi))"
      ],
      "metadata": {
        "colab": {
          "base_uri": "https://localhost:8080/"
        },
        "id": "-s0UsEw6W6Sn",
        "outputId": "68fb99a3-000b-435e-f6b0-3b2d13d80e33"
      },
      "execution_count": 168,
      "outputs": [
        {
          "output_type": "stream",
          "name": "stdout",
          "text": [
            "[25.68007405 23.88946281 20.65754    27.45982194 25.53544639 22.72043837]\n",
            "[25. 23. 20. 27. 25. 22.]\n"
          ]
        }
      ]
    }
  ]
}